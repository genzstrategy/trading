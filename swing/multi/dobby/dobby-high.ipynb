{
 "cells": [
  {
   "cell_type": "markdown",
   "id": "63b0bfb3-96d6-48cc-b261-6ed2924aad11",
   "metadata": {},
   "source": [
    "# Dobby High"
   ]
  },
  {
   "cell_type": "code",
   "execution_count": 1,
   "id": "98425636-8a8b-421f-afd8-68dccc65159e",
   "metadata": {},
   "outputs": [],
   "source": [
    "import pandas as pd"
   ]
  },
  {
   "cell_type": "code",
   "execution_count": 2,
   "id": "0b9da0bc-1413-4bcd-8b51-9286d86fdd32",
   "metadata": {},
   "outputs": [],
   "source": [
    "df = pd.read_parquet(\"amalgamated.parquet\")"
   ]
  },
  {
   "cell_type": "code",
   "execution_count": 3,
   "id": "16c9cd48-db18-40fa-bbdc-d20473815d31",
   "metadata": {},
   "outputs": [],
   "source": [
    "yfinance_metrics = [\n",
    "    \"ETH-BTC_High\",\n",
    "    \"ETH-BTC_Low\",\n",
    "    \"ETH-CAD_High\",\n",
    "    \"ETH-CAD_Low\",\n",
    "    \"BTC-CAD_High\",\n",
    "    \"BTC-CAD_Low\",\n",
    "    'Global_Liquidity_Index'\n",
    "]\n",
    "\n",
    "coinmetrics_metrics = [\n",
    "    \"AdrBalNtv0.01Cnt\",\n",
    "    \"AdrBalNtv0.1Cnt\",\n",
    "    \"AdrBalNtv1Cnt\",\n",
    "    \"AdrBalNtv10Cnt\",\n",
    "    \"BlkSizeMeanByte\",\n",
    "    \"CapRealUSD\",\n",
    "    \"FeeByteMeanNtv\",\n",
    "    \"FlowInExNtv\",\n",
    "    \"FlowOutExNtv\",\n",
    "    \"FlowTfrFromExCnt\",\n",
    "    \"NDF\",\n",
    "    \"SplyAct1d\",\n",
    "    \"SplyActPct1yr\",\n",
    "    \"TxCnt\",\n",
    "    \"VelCur1yr\"\n",
    "]\n",
    "\n",
    "# For BTC\n",
    "btc_prefixed_metrics = ['btc_' + metric for metric in coinmetrics_metrics]\n",
    "\n",
    "# For ETH\n",
    "eth_prefixed_metrics = ['eth_' + metric for metric in coinmetrics_metrics]\n",
    "\n",
    "# Combine both lists if you need a single list with all prefixed metrics\n",
    "combined_prefixed_metrics = btc_prefixed_metrics + eth_prefixed_metrics\n",
    "\n",
    "metrics = yfinance_metrics + combined_prefixed_metrics\n",
    "df = df[metrics]"
   ]
  },
  {
   "cell_type": "code",
   "execution_count": 4,
   "id": "a5001d85-6388-4d46-b27b-36b8d6ae11d3",
   "metadata": {},
   "outputs": [
    {
     "data": {
      "text/html": [
       "<div>\n",
       "<style scoped>\n",
       "    .dataframe tbody tr th:only-of-type {\n",
       "        vertical-align: middle;\n",
       "    }\n",
       "\n",
       "    .dataframe tbody tr th {\n",
       "        vertical-align: top;\n",
       "    }\n",
       "\n",
       "    .dataframe thead th {\n",
       "        text-align: right;\n",
       "    }\n",
       "</style>\n",
       "<table border=\"1\" class=\"dataframe\">\n",
       "  <thead>\n",
       "    <tr style=\"text-align: right;\">\n",
       "      <th></th>\n",
       "      <th>ETH-BTC_High</th>\n",
       "      <th>ETH-BTC_Low</th>\n",
       "      <th>ETH-CAD_High</th>\n",
       "      <th>ETH-CAD_Low</th>\n",
       "      <th>BTC-CAD_High</th>\n",
       "      <th>BTC-CAD_Low</th>\n",
       "      <th>Global_Liquidity_Index</th>\n",
       "      <th>btc_AdrBalNtv0.01Cnt</th>\n",
       "      <th>btc_AdrBalNtv0.1Cnt</th>\n",
       "      <th>btc_AdrBalNtv1Cnt</th>\n",
       "      <th>...</th>\n",
       "      <th>eth_CapRealUSD</th>\n",
       "      <th>eth_FeeByteMeanNtv</th>\n",
       "      <th>eth_FlowInExNtv</th>\n",
       "      <th>eth_FlowOutExNtv</th>\n",
       "      <th>eth_FlowTfrFromExCnt</th>\n",
       "      <th>eth_NDF</th>\n",
       "      <th>eth_SplyAct1d</th>\n",
       "      <th>eth_SplyActPct1yr</th>\n",
       "      <th>eth_TxCnt</th>\n",
       "      <th>eth_VelCur1yr</th>\n",
       "    </tr>\n",
       "  </thead>\n",
       "  <tbody>\n",
       "    <tr>\n",
       "      <th>2019-01-01</th>\n",
       "      <td>0.036718</td>\n",
       "      <td>0.035544</td>\n",
       "      <td>192.649857</td>\n",
       "      <td>180.575409</td>\n",
       "      <td>5246.870117</td>\n",
       "      <td>5057.234375</td>\n",
       "      <td>10677.402020</td>\n",
       "      <td>6457193.0</td>\n",
       "      <td>2539967.0</td>\n",
       "      <td>702986.0</td>\n",
       "      <td>...</td>\n",
       "      <td>28877687727.31675</td>\n",
       "      <td>0.000004</td>\n",
       "      <td>392978.197625</td>\n",
       "      <td>419726.133113</td>\n",
       "      <td>15602.0</td>\n",
       "      <td>0.635803</td>\n",
       "      <td>11221087.882036</td>\n",
       "      <td>72.295246</td>\n",
       "      <td>448168.0</td>\n",
       "      <td>11.758691</td>\n",
       "    </tr>\n",
       "    <tr>\n",
       "      <th>2019-01-02</th>\n",
       "      <td>0.039858</td>\n",
       "      <td>0.036676</td>\n",
       "      <td>213.886246</td>\n",
       "      <td>191.795868</td>\n",
       "      <td>5388.129883</td>\n",
       "      <td>5191.100586</td>\n",
       "      <td>11978.834450</td>\n",
       "      <td>6458964.0</td>\n",
       "      <td>2541704.0</td>\n",
       "      <td>703693.0</td>\n",
       "      <td>...</td>\n",
       "      <td>28990812437.411285</td>\n",
       "      <td>0.000003</td>\n",
       "      <td>790231.396805</td>\n",
       "      <td>729568.379931</td>\n",
       "      <td>21191.0</td>\n",
       "      <td>0.636376</td>\n",
       "      <td>10343209.345505</td>\n",
       "      <td>72.264375</td>\n",
       "      <td>589959.0</td>\n",
       "      <td>11.643999</td>\n",
       "    </tr>\n",
       "    <tr>\n",
       "      <th>2019-01-03</th>\n",
       "      <td>0.039754</td>\n",
       "      <td>0.038425</td>\n",
       "      <td>212.573837</td>\n",
       "      <td>198.451218</td>\n",
       "      <td>5362.917969</td>\n",
       "      <td>5159.898926</td>\n",
       "      <td>11919.945247</td>\n",
       "      <td>6459493.0</td>\n",
       "      <td>2542722.0</td>\n",
       "      <td>704873.0</td>\n",
       "      <td>...</td>\n",
       "      <td>28981719897.825188</td>\n",
       "      <td>0.000003</td>\n",
       "      <td>654169.139428</td>\n",
       "      <td>650444.543236</td>\n",
       "      <td>20336.0</td>\n",
       "      <td>0.636168</td>\n",
       "      <td>9498193.91421</td>\n",
       "      <td>72.221087</td>\n",
       "      <td>596620.0</td>\n",
       "      <td>11.529535</td>\n",
       "    </tr>\n",
       "    <tr>\n",
       "      <th>2019-01-04</th>\n",
       "      <td>0.040691</td>\n",
       "      <td>0.038730</td>\n",
       "      <td>211.151260</td>\n",
       "      <td>199.472687</td>\n",
       "      <td>5172.040527</td>\n",
       "      <td>5087.920898</td>\n",
       "      <td>11670.483300</td>\n",
       "      <td>6463332.0</td>\n",
       "      <td>2543644.0</td>\n",
       "      <td>705051.0</td>\n",
       "      <td>...</td>\n",
       "      <td>29094778907.792999</td>\n",
       "      <td>0.000003</td>\n",
       "      <td>680241.364599</td>\n",
       "      <td>1184203.323531</td>\n",
       "      <td>21142.0</td>\n",
       "      <td>0.636041</td>\n",
       "      <td>14212229.620577</td>\n",
       "      <td>72.193628</td>\n",
       "      <td>549398.0</td>\n",
       "      <td>11.365511</td>\n",
       "    </tr>\n",
       "    <tr>\n",
       "      <th>2019-01-05</th>\n",
       "      <td>0.041418</td>\n",
       "      <td>0.040067</td>\n",
       "      <td>215.118729</td>\n",
       "      <td>206.441116</td>\n",
       "      <td>5223.182617</td>\n",
       "      <td>5131.535645</td>\n",
       "      <td>10776.359592</td>\n",
       "      <td>6474689.0</td>\n",
       "      <td>2545280.0</td>\n",
       "      <td>705233.0</td>\n",
       "      <td>...</td>\n",
       "      <td>29046828453.278553</td>\n",
       "      <td>0.000005</td>\n",
       "      <td>631193.304059</td>\n",
       "      <td>1490287.90147</td>\n",
       "      <td>17419.0</td>\n",
       "      <td>0.637131</td>\n",
       "      <td>12886643.253894</td>\n",
       "      <td>72.080216</td>\n",
       "      <td>511189.0</td>\n",
       "      <td>11.22179</td>\n",
       "    </tr>\n",
       "    <tr>\n",
       "      <th>...</th>\n",
       "      <td>...</td>\n",
       "      <td>...</td>\n",
       "      <td>...</td>\n",
       "      <td>...</td>\n",
       "      <td>...</td>\n",
       "      <td>...</td>\n",
       "      <td>...</td>\n",
       "      <td>...</td>\n",
       "      <td>...</td>\n",
       "      <td>...</td>\n",
       "      <td>...</td>\n",
       "      <td>...</td>\n",
       "      <td>...</td>\n",
       "      <td>...</td>\n",
       "      <td>...</td>\n",
       "      <td>...</td>\n",
       "      <td>...</td>\n",
       "      <td>...</td>\n",
       "      <td>...</td>\n",
       "      <td>...</td>\n",
       "      <td>...</td>\n",
       "    </tr>\n",
       "    <tr>\n",
       "      <th>2024-02-22</th>\n",
       "      <td>0.057708</td>\n",
       "      <td>0.056463</td>\n",
       "      <td>4080.433105</td>\n",
       "      <td>3889.075195</td>\n",
       "      <td>70823.007812</td>\n",
       "      <td>68408.390625</td>\n",
       "      <td>149267.862256</td>\n",
       "      <td>12514606.0</td>\n",
       "      <td>4557892.0</td>\n",
       "      <td>1018084.0</td>\n",
       "      <td>...</td>\n",
       "      <td>177970045703.737518</td>\n",
       "      <td>0.000005</td>\n",
       "      <td>338244.178803</td>\n",
       "      <td>369824.650815</td>\n",
       "      <td>115266.0</td>\n",
       "      <td>0.680495</td>\n",
       "      <td>12715855.813516</td>\n",
       "      <td>35.492136</td>\n",
       "      <td>1082822.0</td>\n",
       "      <td>6.038789</td>\n",
       "    </tr>\n",
       "    <tr>\n",
       "      <th>2024-02-23</th>\n",
       "      <td>0.058400</td>\n",
       "      <td>0.056821</td>\n",
       "      <td>4086.931885</td>\n",
       "      <td>3920.955078</td>\n",
       "      <td>70136.312500</td>\n",
       "      <td>68749.429688</td>\n",
       "      <td>148970.534800</td>\n",
       "      <td>12502806.0</td>\n",
       "      <td>4557570.0</td>\n",
       "      <td>1018299.0</td>\n",
       "      <td>...</td>\n",
       "      <td>177548830056.101593</td>\n",
       "      <td>0.000004</td>\n",
       "      <td>252603.100873</td>\n",
       "      <td>277404.199378</td>\n",
       "      <td>123997.0</td>\n",
       "      <td>0.680803</td>\n",
       "      <td>11815753.076549</td>\n",
       "      <td>35.465276</td>\n",
       "      <td>1159988.0</td>\n",
       "      <td>6.035038</td>\n",
       "    </tr>\n",
       "    <tr>\n",
       "      <th>2024-02-24</th>\n",
       "      <td>0.058169</td>\n",
       "      <td>0.057328</td>\n",
       "      <td>4035.814941</td>\n",
       "      <td>3928.526855</td>\n",
       "      <td>69447.539062</td>\n",
       "      <td>68190.140625</td>\n",
       "      <td>145602.136981</td>\n",
       "      <td>12500030.0</td>\n",
       "      <td>4558351.0</td>\n",
       "      <td>1018191.0</td>\n",
       "      <td>...</td>\n",
       "      <td>178232114484.84201</td>\n",
       "      <td>0.000002</td>\n",
       "      <td>155983.333289</td>\n",
       "      <td>186391.16255</td>\n",
       "      <td>108806.0</td>\n",
       "      <td>0.680875</td>\n",
       "      <td>11198452.093627</td>\n",
       "      <td>35.44651</td>\n",
       "      <td>1101339.0</td>\n",
       "      <td>6.028215</td>\n",
       "    </tr>\n",
       "    <tr>\n",
       "      <th>2024-02-25</th>\n",
       "      <td>0.058235</td>\n",
       "      <td>0.057437</td>\n",
       "      <td>4050.259277</td>\n",
       "      <td>3921.470459</td>\n",
       "      <td>69703.890625</td>\n",
       "      <td>68222.062500</td>\n",
       "      <td>145897.798533</td>\n",
       "      <td>12490326.0</td>\n",
       "      <td>4557653.0</td>\n",
       "      <td>1018266.0</td>\n",
       "      <td>...</td>\n",
       "      <td>179512181502.223663</td>\n",
       "      <td>0.000002</td>\n",
       "      <td>227567.047768</td>\n",
       "      <td>215196.061444</td>\n",
       "      <td>105301.0</td>\n",
       "      <td>0.681513</td>\n",
       "      <td>10462790.19109</td>\n",
       "      <td>35.402746</td>\n",
       "      <td>1102202.0</td>\n",
       "      <td>6.025079</td>\n",
       "    </tr>\n",
       "    <tr>\n",
       "      <th>2024-02-26</th>\n",
       "      <td>0.060071</td>\n",
       "      <td>0.057951</td>\n",
       "      <td>4208.451172</td>\n",
       "      <td>4024.901611</td>\n",
       "      <td>70131.234375</td>\n",
       "      <td>69194.062500</td>\n",
       "      <td>149631.566801</td>\n",
       "      <td>12500995.0</td>\n",
       "      <td>4562917.0</td>\n",
       "      <td>1017891.0</td>\n",
       "      <td>...</td>\n",
       "      <td>181001520683.269318</td>\n",
       "      <td>0.000004</td>\n",
       "      <td>396160.919196</td>\n",
       "      <td>385839.833249</td>\n",
       "      <td>119630.0</td>\n",
       "      <td>0.681429</td>\n",
       "      <td>12008606.912186</td>\n",
       "      <td>35.529806</td>\n",
       "      <td>1187460.0</td>\n",
       "      <td>6.035505</td>\n",
       "    </tr>\n",
       "  </tbody>\n",
       "</table>\n",
       "<p>1883 rows × 37 columns</p>\n",
       "</div>"
      ],
      "text/plain": [
       "            ETH-BTC_High  ETH-BTC_Low  ETH-CAD_High  ETH-CAD_Low  \\\n",
       "2019-01-01      0.036718     0.035544    192.649857   180.575409   \n",
       "2019-01-02      0.039858     0.036676    213.886246   191.795868   \n",
       "2019-01-03      0.039754     0.038425    212.573837   198.451218   \n",
       "2019-01-04      0.040691     0.038730    211.151260   199.472687   \n",
       "2019-01-05      0.041418     0.040067    215.118729   206.441116   \n",
       "...                  ...          ...           ...          ...   \n",
       "2024-02-22      0.057708     0.056463   4080.433105  3889.075195   \n",
       "2024-02-23      0.058400     0.056821   4086.931885  3920.955078   \n",
       "2024-02-24      0.058169     0.057328   4035.814941  3928.526855   \n",
       "2024-02-25      0.058235     0.057437   4050.259277  3921.470459   \n",
       "2024-02-26      0.060071     0.057951   4208.451172  4024.901611   \n",
       "\n",
       "            BTC-CAD_High   BTC-CAD_Low  Global_Liquidity_Index  \\\n",
       "2019-01-01   5246.870117   5057.234375            10677.402020   \n",
       "2019-01-02   5388.129883   5191.100586            11978.834450   \n",
       "2019-01-03   5362.917969   5159.898926            11919.945247   \n",
       "2019-01-04   5172.040527   5087.920898            11670.483300   \n",
       "2019-01-05   5223.182617   5131.535645            10776.359592   \n",
       "...                  ...           ...                     ...   \n",
       "2024-02-22  70823.007812  68408.390625           149267.862256   \n",
       "2024-02-23  70136.312500  68749.429688           148970.534800   \n",
       "2024-02-24  69447.539062  68190.140625           145602.136981   \n",
       "2024-02-25  69703.890625  68222.062500           145897.798533   \n",
       "2024-02-26  70131.234375  69194.062500           149631.566801   \n",
       "\n",
       "            btc_AdrBalNtv0.01Cnt  btc_AdrBalNtv0.1Cnt  btc_AdrBalNtv1Cnt  ...  \\\n",
       "2019-01-01             6457193.0            2539967.0           702986.0  ...   \n",
       "2019-01-02             6458964.0            2541704.0           703693.0  ...   \n",
       "2019-01-03             6459493.0            2542722.0           704873.0  ...   \n",
       "2019-01-04             6463332.0            2543644.0           705051.0  ...   \n",
       "2019-01-05             6474689.0            2545280.0           705233.0  ...   \n",
       "...                          ...                  ...                ...  ...   \n",
       "2024-02-22            12514606.0            4557892.0          1018084.0  ...   \n",
       "2024-02-23            12502806.0            4557570.0          1018299.0  ...   \n",
       "2024-02-24            12500030.0            4558351.0          1018191.0  ...   \n",
       "2024-02-25            12490326.0            4557653.0          1018266.0  ...   \n",
       "2024-02-26            12500995.0            4562917.0          1017891.0  ...   \n",
       "\n",
       "                 eth_CapRealUSD  eth_FeeByteMeanNtv  eth_FlowInExNtv  \\\n",
       "2019-01-01    28877687727.31675            0.000004    392978.197625   \n",
       "2019-01-02   28990812437.411285            0.000003    790231.396805   \n",
       "2019-01-03   28981719897.825188            0.000003    654169.139428   \n",
       "2019-01-04   29094778907.792999            0.000003    680241.364599   \n",
       "2019-01-05   29046828453.278553            0.000005    631193.304059   \n",
       "...                         ...                 ...              ...   \n",
       "2024-02-22  177970045703.737518            0.000005    338244.178803   \n",
       "2024-02-23  177548830056.101593            0.000004    252603.100873   \n",
       "2024-02-24   178232114484.84201            0.000002    155983.333289   \n",
       "2024-02-25  179512181502.223663            0.000002    227567.047768   \n",
       "2024-02-26  181001520683.269318            0.000004    396160.919196   \n",
       "\n",
       "            eth_FlowOutExNtv  eth_FlowTfrFromExCnt   eth_NDF    eth_SplyAct1d  \\\n",
       "2019-01-01     419726.133113               15602.0  0.635803  11221087.882036   \n",
       "2019-01-02     729568.379931               21191.0  0.636376  10343209.345505   \n",
       "2019-01-03     650444.543236               20336.0  0.636168    9498193.91421   \n",
       "2019-01-04    1184203.323531               21142.0  0.636041  14212229.620577   \n",
       "2019-01-05     1490287.90147               17419.0  0.637131  12886643.253894   \n",
       "...                      ...                   ...       ...              ...   \n",
       "2024-02-22     369824.650815              115266.0  0.680495  12715855.813516   \n",
       "2024-02-23     277404.199378              123997.0  0.680803  11815753.076549   \n",
       "2024-02-24      186391.16255              108806.0  0.680875  11198452.093627   \n",
       "2024-02-25     215196.061444              105301.0  0.681513   10462790.19109   \n",
       "2024-02-26     385839.833249              119630.0  0.681429  12008606.912186   \n",
       "\n",
       "            eth_SplyActPct1yr  eth_TxCnt  eth_VelCur1yr  \n",
       "2019-01-01          72.295246   448168.0      11.758691  \n",
       "2019-01-02          72.264375   589959.0      11.643999  \n",
       "2019-01-03          72.221087   596620.0      11.529535  \n",
       "2019-01-04          72.193628   549398.0      11.365511  \n",
       "2019-01-05          72.080216   511189.0       11.22179  \n",
       "...                       ...        ...            ...  \n",
       "2024-02-22          35.492136  1082822.0       6.038789  \n",
       "2024-02-23          35.465276  1159988.0       6.035038  \n",
       "2024-02-24           35.44651  1101339.0       6.028215  \n",
       "2024-02-25          35.402746  1102202.0       6.025079  \n",
       "2024-02-26          35.529806  1187460.0       6.035505  \n",
       "\n",
       "[1883 rows x 37 columns]"
      ]
     },
     "execution_count": 4,
     "metadata": {},
     "output_type": "execute_result"
    }
   ],
   "source": [
    "# Assuming df is your DataFrame\n",
    "#df = df.pct_change()*100\n",
    "\n",
    "# The first row will be NaN because there's no previous data to subtract from the first entry\n",
    "# If you wish to remove the NaN values, you can drop the first row\n",
    "df.dropna(inplace=True)\n",
    "\n",
    "df"
   ]
  },
  {
   "cell_type": "code",
   "execution_count": 5,
   "id": "2f8ae61c-85c4-4789-93c6-e473fb853a40",
   "metadata": {},
   "outputs": [
    {
     "name": "stderr",
     "output_type": "stream",
     "text": [
      "Trainer will use only 1 of 2 GPUs because it is running inside an interactive / notebook environment. You may try to set `Trainer(devices=2)` but please note that multi-GPU inside interactive / notebook environments is considered experimental and unstable. Your mileage may vary.\n",
      "GPU available: True (cuda), used: True\n",
      "TPU available: False, using: 0 TPU cores\n",
      "IPU available: False, using: 0 IPUs\n",
      "HPU available: False, using: 0 HPUs\n",
      "C:\\Users\\falty\\AppData\\Local\\Programs\\Python\\Python312\\Lib\\site-packages\\lightning\\pytorch\\trainer\\connectors\\logger_connector\\logger_connector.py:67: Starting from v1.9.0, `tensorboardX` has been removed as a dependency of the `lightning.pytorch` package, due to potential conflicts with other packages in the ML ecosystem. For this reason, `logger=True` will use `CSVLogger` as the default logger, unless the `tensorboard` or `tensorboardX` packages are found. Please `pip install lightning[extra]` or one of them to enable TensorBoard support by default\n",
      "C:\\Users\\falty\\AppData\\Local\\Programs\\Python\\Python312\\Lib\\site-packages\\lightning\\pytorch\\trainer\\configuration_validator.py:74: You defined a `validation_step` but have no `val_dataloader`. Skipping val loop.\n",
      "LOCAL_RANK: 0 - CUDA_VISIBLE_DEVICES: [0,1]\n",
      "\n",
      "  | Name  | Type                           | Params | In sizes                                                                            | Out sizes\n",
      "-----------------------------------------------------------------------------------------------------------------------------------------------------------\n",
      "0 | model | TemporalFusionTransformerModel | 296 M  | [[1, 14], [1, 14], [1, 1], [1, 1], [1, 19, 3], [1, 19, 0], [1, 14, 36], [1, 14, 0]] | [1, 3, 5]\n",
      "-----------------------------------------------------------------------------------------------------------------------------------------------------------\n",
      "296 M     Trainable params\n",
      "0         Non-trainable params\n",
      "296 M     Total params\n",
      "1,187.337 Total estimated model params size (MB)\n"
     ]
    },
    {
     "name": "stdout",
     "output_type": "stream",
     "text": [
      "Epoch 0: |                                                | 100/? [00:17<00:00,  5.73it/s, v_num=2, train_loss=0.00689]"
     ]
    },
    {
     "name": "stderr",
     "output_type": "stream",
     "text": [
      "Epoch 0, global step 100: 'train_loss' reached 0.00689 (best 0.00689), saving model to 'C:\\\\Users\\\\falty\\\\Desktop\\\\GZS\\\\trading\\\\swing\\\\multi\\\\dobby\\\\lightning_logs\\\\version_2\\\\checkpoints\\\\epoch=0-step=100.ckpt' as top 1\n"
     ]
    },
    {
     "name": "stdout",
     "output_type": "stream",
     "text": [
      "Epoch 1: |                                                | 100/? [00:17<00:00,  5.75it/s, v_num=2, train_loss=0.00461]"
     ]
    },
    {
     "name": "stderr",
     "output_type": "stream",
     "text": [
      "Epoch 1, global step 200: 'train_loss' reached 0.00461 (best 0.00461), saving model to 'C:\\\\Users\\\\falty\\\\Desktop\\\\GZS\\\\trading\\\\swing\\\\multi\\\\dobby\\\\lightning_logs\\\\version_2\\\\checkpoints\\\\epoch=1-step=200.ckpt' as top 1\n"
     ]
    },
    {
     "name": "stdout",
     "output_type": "stream",
     "text": [
      "Epoch 2: |                                                | 100/? [00:17<00:00,  5.56it/s, v_num=2, train_loss=0.00478]"
     ]
    },
    {
     "name": "stderr",
     "output_type": "stream",
     "text": [
      "Epoch 2, global step 300: 'train_loss' was not in top 1\n"
     ]
    },
    {
     "name": "stdout",
     "output_type": "stream",
     "text": [
      "Epoch 3: |                                                | 100/? [00:17<00:00,  5.67it/s, v_num=2, train_loss=0.00467]"
     ]
    },
    {
     "name": "stderr",
     "output_type": "stream",
     "text": [
      "Epoch 3, global step 400: 'train_loss' was not in top 1\n"
     ]
    },
    {
     "name": "stdout",
     "output_type": "stream",
     "text": [
      "Epoch 4: |                                                | 100/? [00:17<00:00,  5.70it/s, v_num=2, train_loss=0.00462]"
     ]
    },
    {
     "name": "stderr",
     "output_type": "stream",
     "text": [
      "Epoch 4, global step 500: 'train_loss' was not in top 1\n"
     ]
    },
    {
     "name": "stdout",
     "output_type": "stream",
     "text": [
      "Epoch 5: |                                                | 100/? [00:17<00:00,  5.65it/s, v_num=2, train_loss=0.00463]"
     ]
    },
    {
     "name": "stderr",
     "output_type": "stream",
     "text": [
      "Epoch 5, global step 600: 'train_loss' was not in top 1\n"
     ]
    },
    {
     "name": "stdout",
     "output_type": "stream",
     "text": [
      "Epoch 6: |                                                | 100/? [00:17<00:00,  5.79it/s, v_num=2, train_loss=0.00457]"
     ]
    },
    {
     "name": "stderr",
     "output_type": "stream",
     "text": [
      "Epoch 6, global step 700: 'train_loss' reached 0.00457 (best 0.00457), saving model to 'C:\\\\Users\\\\falty\\\\Desktop\\\\GZS\\\\trading\\\\swing\\\\multi\\\\dobby\\\\lightning_logs\\\\version_2\\\\checkpoints\\\\epoch=6-step=700.ckpt' as top 1\n"
     ]
    },
    {
     "name": "stdout",
     "output_type": "stream",
     "text": [
      "Epoch 7: |                                                 | 100/? [00:17<00:00,  5.56it/s, v_num=2, train_loss=0.0046]"
     ]
    },
    {
     "name": "stderr",
     "output_type": "stream",
     "text": [
      "Epoch 7, global step 800: 'train_loss' was not in top 1\n"
     ]
    },
    {
     "name": "stdout",
     "output_type": "stream",
     "text": [
      "Epoch 8: |                                                | 100/? [00:17<00:00,  5.62it/s, v_num=2, train_loss=0.00467]"
     ]
    },
    {
     "name": "stderr",
     "output_type": "stream",
     "text": [
      "Epoch 8, global step 900: 'train_loss' was not in top 1\n"
     ]
    },
    {
     "name": "stdout",
     "output_type": "stream",
     "text": [
      "Epoch 9: |                                                | 100/? [00:17<00:00,  5.68it/s, v_num=2, train_loss=0.00464]"
     ]
    },
    {
     "name": "stderr",
     "output_type": "stream",
     "text": [
      "Epoch 9, global step 1000: 'train_loss' was not in top 1\n"
     ]
    },
    {
     "name": "stdout",
     "output_type": "stream",
     "text": [
      "Epoch 10: |                                               | 100/? [00:17<00:00,  5.69it/s, v_num=2, train_loss=0.00468]"
     ]
    },
    {
     "name": "stderr",
     "output_type": "stream",
     "text": [
      "Epoch 10, global step 1100: 'train_loss' was not in top 1\n"
     ]
    },
    {
     "name": "stdout",
     "output_type": "stream",
     "text": [
      "Epoch 11: |                                                | 100/? [00:17<00:00,  5.71it/s, v_num=2, train_loss=0.0046]"
     ]
    },
    {
     "name": "stderr",
     "output_type": "stream",
     "text": [
      "Epoch 11, global step 1200: 'train_loss' was not in top 1\n"
     ]
    },
    {
     "name": "stdout",
     "output_type": "stream",
     "text": [
      "Epoch 12: |                                               | 100/? [00:17<00:00,  5.71it/s, v_num=2, train_loss=0.00456]"
     ]
    },
    {
     "name": "stderr",
     "output_type": "stream",
     "text": [
      "Epoch 12, global step 1300: 'train_loss' reached 0.00456 (best 0.00456), saving model to 'C:\\\\Users\\\\falty\\\\Desktop\\\\GZS\\\\trading\\\\swing\\\\multi\\\\dobby\\\\lightning_logs\\\\version_2\\\\checkpoints\\\\epoch=12-step=1300.ckpt' as top 1\n"
     ]
    },
    {
     "name": "stdout",
     "output_type": "stream",
     "text": [
      "Epoch 13: |                                               | 100/? [00:17<00:00,  5.69it/s, v_num=2, train_loss=0.00459]"
     ]
    },
    {
     "name": "stderr",
     "output_type": "stream",
     "text": [
      "Epoch 13, global step 1400: 'train_loss' was not in top 1\n"
     ]
    },
    {
     "name": "stdout",
     "output_type": "stream",
     "text": [
      "Epoch 14: |                                               | 100/? [00:17<00:00,  5.75it/s, v_num=2, train_loss=0.00453]"
     ]
    },
    {
     "name": "stderr",
     "output_type": "stream",
     "text": [
      "Epoch 14, global step 1500: 'train_loss' reached 0.00453 (best 0.00453), saving model to 'C:\\\\Users\\\\falty\\\\Desktop\\\\GZS\\\\trading\\\\swing\\\\multi\\\\dobby\\\\lightning_logs\\\\version_2\\\\checkpoints\\\\epoch=14-step=1500.ckpt' as top 1\n"
     ]
    },
    {
     "name": "stdout",
     "output_type": "stream",
     "text": [
      "Epoch 15: |                                               | 100/? [00:17<00:00,  5.63it/s, v_num=2, train_loss=0.00454]"
     ]
    },
    {
     "name": "stderr",
     "output_type": "stream",
     "text": [
      "Epoch 15, global step 1600: 'train_loss' was not in top 1\n"
     ]
    },
    {
     "name": "stdout",
     "output_type": "stream",
     "text": [
      "Epoch 16: |                                               | 100/? [00:17<00:00,  5.68it/s, v_num=2, train_loss=0.00447]"
     ]
    },
    {
     "name": "stderr",
     "output_type": "stream",
     "text": [
      "Epoch 16, global step 1700: 'train_loss' reached 0.00447 (best 0.00447), saving model to 'C:\\\\Users\\\\falty\\\\Desktop\\\\GZS\\\\trading\\\\swing\\\\multi\\\\dobby\\\\lightning_logs\\\\version_2\\\\checkpoints\\\\epoch=16-step=1700.ckpt' as top 1\n"
     ]
    },
    {
     "name": "stdout",
     "output_type": "stream",
     "text": [
      "Epoch 17: |                                                | 100/? [00:17<00:00,  5.68it/s, v_num=2, train_loss=0.0044]"
     ]
    },
    {
     "name": "stderr",
     "output_type": "stream",
     "text": [
      "Epoch 17, global step 1800: 'train_loss' reached 0.00440 (best 0.00440), saving model to 'C:\\\\Users\\\\falty\\\\Desktop\\\\GZS\\\\trading\\\\swing\\\\multi\\\\dobby\\\\lightning_logs\\\\version_2\\\\checkpoints\\\\epoch=17-step=1800.ckpt' as top 1\n"
     ]
    },
    {
     "name": "stdout",
     "output_type": "stream",
     "text": [
      "Epoch 18: |                                               | 100/? [00:17<00:00,  5.60it/s, v_num=2, train_loss=0.00444]"
     ]
    },
    {
     "name": "stderr",
     "output_type": "stream",
     "text": [
      "Epoch 18, global step 1900: 'train_loss' was not in top 1\n"
     ]
    },
    {
     "name": "stdout",
     "output_type": "stream",
     "text": [
      "Epoch 19: |                                               | 100/? [00:17<00:00,  5.74it/s, v_num=2, train_loss=0.00446]"
     ]
    },
    {
     "name": "stderr",
     "output_type": "stream",
     "text": [
      "Epoch 19, global step 2000: 'train_loss' was not in top 1\n"
     ]
    },
    {
     "name": "stdout",
     "output_type": "stream",
     "text": [
      "Epoch 20: |                                               | 100/? [00:17<00:00,  5.70it/s, v_num=2, train_loss=0.00439]"
     ]
    },
    {
     "name": "stderr",
     "output_type": "stream",
     "text": [
      "Epoch 20, global step 2100: 'train_loss' reached 0.00439 (best 0.00439), saving model to 'C:\\\\Users\\\\falty\\\\Desktop\\\\GZS\\\\trading\\\\swing\\\\multi\\\\dobby\\\\lightning_logs\\\\version_2\\\\checkpoints\\\\epoch=20-step=2100.ckpt' as top 1\n"
     ]
    },
    {
     "name": "stdout",
     "output_type": "stream",
     "text": [
      "Epoch 21: |                                               | 100/? [00:17<00:00,  5.63it/s, v_num=2, train_loss=0.00441]"
     ]
    },
    {
     "name": "stderr",
     "output_type": "stream",
     "text": [
      "Epoch 21, global step 2200: 'train_loss' was not in top 1\n"
     ]
    },
    {
     "name": "stdout",
     "output_type": "stream",
     "text": [
      "Epoch 22: |                                               | 100/? [00:17<00:00,  5.66it/s, v_num=2, train_loss=0.00444]"
     ]
    },
    {
     "name": "stderr",
     "output_type": "stream",
     "text": [
      "Epoch 22, global step 2300: 'train_loss' was not in top 1\n"
     ]
    },
    {
     "name": "stdout",
     "output_type": "stream",
     "text": [
      "Epoch 23: |                                               | 100/? [00:17<00:00,  5.66it/s, v_num=2, train_loss=0.00438]"
     ]
    },
    {
     "name": "stderr",
     "output_type": "stream",
     "text": [
      "Epoch 23, global step 2400: 'train_loss' reached 0.00438 (best 0.00438), saving model to 'C:\\\\Users\\\\falty\\\\Desktop\\\\GZS\\\\trading\\\\swing\\\\multi\\\\dobby\\\\lightning_logs\\\\version_2\\\\checkpoints\\\\epoch=23-step=2400.ckpt' as top 1\n"
     ]
    },
    {
     "name": "stdout",
     "output_type": "stream",
     "text": [
      "Epoch 24: |                                               | 100/? [00:17<00:00,  5.64it/s, v_num=2, train_loss=0.00425]"
     ]
    },
    {
     "name": "stderr",
     "output_type": "stream",
     "text": [
      "Epoch 24, global step 2500: 'train_loss' reached 0.00425 (best 0.00425), saving model to 'C:\\\\Users\\\\falty\\\\Desktop\\\\GZS\\\\trading\\\\swing\\\\multi\\\\dobby\\\\lightning_logs\\\\version_2\\\\checkpoints\\\\epoch=24-step=2500.ckpt' as top 1\n"
     ]
    },
    {
     "name": "stdout",
     "output_type": "stream",
     "text": [
      "Epoch 25: |                                               | 100/? [00:17<00:00,  5.57it/s, v_num=2, train_loss=0.00425]"
     ]
    },
    {
     "name": "stderr",
     "output_type": "stream",
     "text": [
      "Epoch 25, global step 2600: 'train_loss' reached 0.00425 (best 0.00425), saving model to 'C:\\\\Users\\\\falty\\\\Desktop\\\\GZS\\\\trading\\\\swing\\\\multi\\\\dobby\\\\lightning_logs\\\\version_2\\\\checkpoints\\\\epoch=25-step=2600.ckpt' as top 1\n"
     ]
    },
    {
     "name": "stdout",
     "output_type": "stream",
     "text": [
      "Epoch 26: |                                               | 100/? [00:17<00:00,  5.61it/s, v_num=2, train_loss=0.00415]"
     ]
    },
    {
     "name": "stderr",
     "output_type": "stream",
     "text": [
      "Epoch 26, global step 2700: 'train_loss' reached 0.00415 (best 0.00415), saving model to 'C:\\\\Users\\\\falty\\\\Desktop\\\\GZS\\\\trading\\\\swing\\\\multi\\\\dobby\\\\lightning_logs\\\\version_2\\\\checkpoints\\\\epoch=26-step=2700.ckpt' as top 1\n"
     ]
    },
    {
     "name": "stdout",
     "output_type": "stream",
     "text": [
      "Epoch 27: |                                               | 100/? [00:17<00:00,  5.58it/s, v_num=2, train_loss=0.00406]"
     ]
    },
    {
     "name": "stderr",
     "output_type": "stream",
     "text": [
      "Epoch 27, global step 2800: 'train_loss' reached 0.00406 (best 0.00406), saving model to 'C:\\\\Users\\\\falty\\\\Desktop\\\\GZS\\\\trading\\\\swing\\\\multi\\\\dobby\\\\lightning_logs\\\\version_2\\\\checkpoints\\\\epoch=27-step=2800.ckpt' as top 1\n"
     ]
    },
    {
     "name": "stdout",
     "output_type": "stream",
     "text": [
      "Epoch 28: |                                               | 100/? [00:17<00:00,  5.65it/s, v_num=2, train_loss=0.00349]"
     ]
    },
    {
     "name": "stderr",
     "output_type": "stream",
     "text": [
      "Epoch 28, global step 2900: 'train_loss' reached 0.00349 (best 0.00349), saving model to 'C:\\\\Users\\\\falty\\\\Desktop\\\\GZS\\\\trading\\\\swing\\\\multi\\\\dobby\\\\lightning_logs\\\\version_2\\\\checkpoints\\\\epoch=28-step=2900.ckpt' as top 1\n"
     ]
    },
    {
     "name": "stdout",
     "output_type": "stream",
     "text": [
      "Epoch 29: |                                                | 100/? [00:17<00:00,  5.59it/s, v_num=2, train_loss=0.0025]"
     ]
    },
    {
     "name": "stderr",
     "output_type": "stream",
     "text": [
      "Epoch 29, global step 3000: 'train_loss' reached 0.00250 (best 0.00250), saving model to 'C:\\\\Users\\\\falty\\\\Desktop\\\\GZS\\\\trading\\\\swing\\\\multi\\\\dobby\\\\lightning_logs\\\\version_2\\\\checkpoints\\\\epoch=29-step=3000.ckpt' as top 1\n"
     ]
    },
    {
     "name": "stdout",
     "output_type": "stream",
     "text": [
      "Epoch 30: |                                               | 100/? [00:17<00:00,  5.65it/s, v_num=2, train_loss=0.00214]"
     ]
    },
    {
     "name": "stderr",
     "output_type": "stream",
     "text": [
      "Epoch 30, global step 3100: 'train_loss' reached 0.00214 (best 0.00214), saving model to 'C:\\\\Users\\\\falty\\\\Desktop\\\\GZS\\\\trading\\\\swing\\\\multi\\\\dobby\\\\lightning_logs\\\\version_2\\\\checkpoints\\\\epoch=30-step=3100.ckpt' as top 1\n"
     ]
    },
    {
     "name": "stdout",
     "output_type": "stream",
     "text": [
      "Epoch 31: |                                               | 100/? [00:17<00:00,  5.61it/s, v_num=2, train_loss=0.00176]"
     ]
    },
    {
     "name": "stderr",
     "output_type": "stream",
     "text": [
      "Epoch 31, global step 3200: 'train_loss' reached 0.00176 (best 0.00176), saving model to 'C:\\\\Users\\\\falty\\\\Desktop\\\\GZS\\\\trading\\\\swing\\\\multi\\\\dobby\\\\lightning_logs\\\\version_2\\\\checkpoints\\\\epoch=31-step=3200.ckpt' as top 1\n"
     ]
    },
    {
     "name": "stdout",
     "output_type": "stream",
     "text": [
      "Epoch 32: |                                               | 100/? [00:17<00:00,  5.71it/s, v_num=2, train_loss=0.00137]"
     ]
    },
    {
     "name": "stderr",
     "output_type": "stream",
     "text": [
      "Epoch 32, global step 3300: 'train_loss' reached 0.00137 (best 0.00137), saving model to 'C:\\\\Users\\\\falty\\\\Desktop\\\\GZS\\\\trading\\\\swing\\\\multi\\\\dobby\\\\lightning_logs\\\\version_2\\\\checkpoints\\\\epoch=32-step=3300.ckpt' as top 1\n"
     ]
    },
    {
     "name": "stdout",
     "output_type": "stream",
     "text": [
      "Epoch 33: |                                               | 100/? [00:17<00:00,  5.65it/s, v_num=2, train_loss=0.00115]"
     ]
    },
    {
     "name": "stderr",
     "output_type": "stream",
     "text": [
      "Epoch 33, global step 3400: 'train_loss' reached 0.00115 (best 0.00115), saving model to 'C:\\\\Users\\\\falty\\\\Desktop\\\\GZS\\\\trading\\\\swing\\\\multi\\\\dobby\\\\lightning_logs\\\\version_2\\\\checkpoints\\\\epoch=33-step=3400.ckpt' as top 1\n"
     ]
    },
    {
     "name": "stdout",
     "output_type": "stream",
     "text": [
      "Epoch 34: |                                               | 100/? [00:17<00:00,  5.66it/s, v_num=2, train_loss=0.00091]"
     ]
    },
    {
     "name": "stderr",
     "output_type": "stream",
     "text": [
      "Epoch 34, global step 3500: 'train_loss' reached 0.00091 (best 0.00091), saving model to 'C:\\\\Users\\\\falty\\\\Desktop\\\\GZS\\\\trading\\\\swing\\\\multi\\\\dobby\\\\lightning_logs\\\\version_2\\\\checkpoints\\\\epoch=34-step=3500.ckpt' as top 1\n"
     ]
    },
    {
     "name": "stdout",
     "output_type": "stream",
     "text": [
      "Epoch 35: |                                               | 100/? [00:18<00:00,  5.49it/s, v_num=2, train_loss=0.00078]"
     ]
    },
    {
     "name": "stderr",
     "output_type": "stream",
     "text": [
      "Epoch 35, global step 3600: 'train_loss' reached 0.00078 (best 0.00078), saving model to 'C:\\\\Users\\\\falty\\\\Desktop\\\\GZS\\\\trading\\\\swing\\\\multi\\\\dobby\\\\lightning_logs\\\\version_2\\\\checkpoints\\\\epoch=35-step=3600.ckpt' as top 1\n"
     ]
    },
    {
     "name": "stdout",
     "output_type": "stream",
     "text": [
      "Epoch 36: |                                              | 100/? [00:18<00:00,  5.49it/s, v_num=2, train_loss=0.000674]"
     ]
    },
    {
     "name": "stderr",
     "output_type": "stream",
     "text": [
      "Epoch 36, global step 3700: 'train_loss' reached 0.00067 (best 0.00067), saving model to 'C:\\\\Users\\\\falty\\\\Desktop\\\\GZS\\\\trading\\\\swing\\\\multi\\\\dobby\\\\lightning_logs\\\\version_2\\\\checkpoints\\\\epoch=36-step=3700.ckpt' as top 1\n"
     ]
    },
    {
     "name": "stdout",
     "output_type": "stream",
     "text": [
      "Epoch 37: |                                              | 100/? [00:17<00:00,  5.61it/s, v_num=2, train_loss=0.000656]"
     ]
    },
    {
     "name": "stderr",
     "output_type": "stream",
     "text": [
      "Epoch 37, global step 3800: 'train_loss' reached 0.00066 (best 0.00066), saving model to 'C:\\\\Users\\\\falty\\\\Desktop\\\\GZS\\\\trading\\\\swing\\\\multi\\\\dobby\\\\lightning_logs\\\\version_2\\\\checkpoints\\\\epoch=37-step=3800.ckpt' as top 1\n"
     ]
    },
    {
     "name": "stdout",
     "output_type": "stream",
     "text": [
      "Epoch 38: |                                              | 100/? [00:17<00:00,  5.63it/s, v_num=2, train_loss=0.000533]"
     ]
    },
    {
     "name": "stderr",
     "output_type": "stream",
     "text": [
      "Epoch 38, global step 3900: 'train_loss' reached 0.00053 (best 0.00053), saving model to 'C:\\\\Users\\\\falty\\\\Desktop\\\\GZS\\\\trading\\\\swing\\\\multi\\\\dobby\\\\lightning_logs\\\\version_2\\\\checkpoints\\\\epoch=38-step=3900.ckpt' as top 1\n"
     ]
    },
    {
     "name": "stdout",
     "output_type": "stream",
     "text": [
      "Epoch 39: |                                              | 100/? [00:18<00:00,  5.53it/s, v_num=2, train_loss=0.000491]"
     ]
    },
    {
     "name": "stderr",
     "output_type": "stream",
     "text": [
      "Epoch 39, global step 4000: 'train_loss' reached 0.00049 (best 0.00049), saving model to 'C:\\\\Users\\\\falty\\\\Desktop\\\\GZS\\\\trading\\\\swing\\\\multi\\\\dobby\\\\lightning_logs\\\\version_2\\\\checkpoints\\\\epoch=39-step=4000.ckpt' as top 1\n"
     ]
    },
    {
     "name": "stdout",
     "output_type": "stream",
     "text": [
      "Epoch 40: |                                              | 100/? [00:18<00:00,  5.52it/s, v_num=2, train_loss=0.000416]"
     ]
    },
    {
     "name": "stderr",
     "output_type": "stream",
     "text": [
      "Epoch 40, global step 4100: 'train_loss' reached 0.00042 (best 0.00042), saving model to 'C:\\\\Users\\\\falty\\\\Desktop\\\\GZS\\\\trading\\\\swing\\\\multi\\\\dobby\\\\lightning_logs\\\\version_2\\\\checkpoints\\\\epoch=40-step=4100.ckpt' as top 1\n"
     ]
    },
    {
     "name": "stdout",
     "output_type": "stream",
     "text": [
      "Epoch 41: |                                              | 100/? [00:17<00:00,  5.61it/s, v_num=2, train_loss=0.000396]"
     ]
    },
    {
     "name": "stderr",
     "output_type": "stream",
     "text": [
      "Epoch 41, global step 4200: 'train_loss' reached 0.00040 (best 0.00040), saving model to 'C:\\\\Users\\\\falty\\\\Desktop\\\\GZS\\\\trading\\\\swing\\\\multi\\\\dobby\\\\lightning_logs\\\\version_2\\\\checkpoints\\\\epoch=41-step=4200.ckpt' as top 1\n"
     ]
    },
    {
     "name": "stdout",
     "output_type": "stream",
     "text": [
      "Epoch 42: |                                              | 100/? [00:17<00:00,  5.57it/s, v_num=2, train_loss=0.000366]"
     ]
    },
    {
     "name": "stderr",
     "output_type": "stream",
     "text": [
      "Epoch 42, global step 4300: 'train_loss' reached 0.00037 (best 0.00037), saving model to 'C:\\\\Users\\\\falty\\\\Desktop\\\\GZS\\\\trading\\\\swing\\\\multi\\\\dobby\\\\lightning_logs\\\\version_2\\\\checkpoints\\\\epoch=42-step=4300.ckpt' as top 1\n"
     ]
    },
    {
     "name": "stdout",
     "output_type": "stream",
     "text": [
      "Epoch 43: |                                              | 100/? [00:18<00:00,  5.54it/s, v_num=2, train_loss=0.000323]"
     ]
    },
    {
     "name": "stderr",
     "output_type": "stream",
     "text": [
      "Epoch 43, global step 4400: 'train_loss' reached 0.00032 (best 0.00032), saving model to 'C:\\\\Users\\\\falty\\\\Desktop\\\\GZS\\\\trading\\\\swing\\\\multi\\\\dobby\\\\lightning_logs\\\\version_2\\\\checkpoints\\\\epoch=43-step=4400.ckpt' as top 1\n"
     ]
    },
    {
     "name": "stdout",
     "output_type": "stream",
     "text": [
      "Epoch 44: |                                              | 100/? [00:17<00:00,  5.65it/s, v_num=2, train_loss=0.000452]"
     ]
    },
    {
     "name": "stderr",
     "output_type": "stream",
     "text": [
      "Epoch 44, global step 4500: 'train_loss' was not in top 1\n"
     ]
    },
    {
     "name": "stdout",
     "output_type": "stream",
     "text": [
      "Epoch 45: |                                              | 100/? [00:17<00:00,  5.57it/s, v_num=2, train_loss=0.000357]"
     ]
    },
    {
     "name": "stderr",
     "output_type": "stream",
     "text": [
      "Epoch 45, global step 4600: 'train_loss' was not in top 1\n"
     ]
    },
    {
     "name": "stdout",
     "output_type": "stream",
     "text": [
      "Epoch 46: |                                              | 100/? [00:17<00:00,  5.61it/s, v_num=2, train_loss=0.000314]"
     ]
    },
    {
     "name": "stderr",
     "output_type": "stream",
     "text": [
      "Epoch 46, global step 4700: 'train_loss' reached 0.00031 (best 0.00031), saving model to 'C:\\\\Users\\\\falty\\\\Desktop\\\\GZS\\\\trading\\\\swing\\\\multi\\\\dobby\\\\lightning_logs\\\\version_2\\\\checkpoints\\\\epoch=46-step=4700.ckpt' as top 1\n"
     ]
    },
    {
     "name": "stdout",
     "output_type": "stream",
     "text": [
      "Epoch 47: |                                              | 100/? [00:18<00:00,  5.52it/s, v_num=2, train_loss=0.000292]"
     ]
    },
    {
     "name": "stderr",
     "output_type": "stream",
     "text": [
      "Epoch 47, global step 4800: 'train_loss' reached 0.00029 (best 0.00029), saving model to 'C:\\\\Users\\\\falty\\\\Desktop\\\\GZS\\\\trading\\\\swing\\\\multi\\\\dobby\\\\lightning_logs\\\\version_2\\\\checkpoints\\\\epoch=47-step=4800.ckpt' as top 1\n"
     ]
    },
    {
     "name": "stdout",
     "output_type": "stream",
     "text": [
      "Epoch 48: |                                              | 100/? [00:17<00:00,  5.59it/s, v_num=2, train_loss=0.000269]"
     ]
    },
    {
     "name": "stderr",
     "output_type": "stream",
     "text": [
      "Epoch 48, global step 4900: 'train_loss' reached 0.00027 (best 0.00027), saving model to 'C:\\\\Users\\\\falty\\\\Desktop\\\\GZS\\\\trading\\\\swing\\\\multi\\\\dobby\\\\lightning_logs\\\\version_2\\\\checkpoints\\\\epoch=48-step=4900.ckpt' as top 1\n"
     ]
    },
    {
     "name": "stdout",
     "output_type": "stream",
     "text": [
      "Epoch 49: |                                               | 100/? [00:17<00:00,  5.63it/s, v_num=2, train_loss=0.00026]"
     ]
    },
    {
     "name": "stderr",
     "output_type": "stream",
     "text": [
      "Epoch 49, global step 5000: 'train_loss' reached 0.00026 (best 0.00026), saving model to 'C:\\\\Users\\\\falty\\\\Desktop\\\\GZS\\\\trading\\\\swing\\\\multi\\\\dobby\\\\lightning_logs\\\\version_2\\\\checkpoints\\\\epoch=49-step=5000.ckpt' as top 1\n"
     ]
    },
    {
     "name": "stdout",
     "output_type": "stream",
     "text": [
      "Epoch 50: |                                              | 100/? [00:17<00:00,  5.63it/s, v_num=2, train_loss=0.000234]"
     ]
    },
    {
     "name": "stderr",
     "output_type": "stream",
     "text": [
      "Epoch 50, global step 5100: 'train_loss' reached 0.00023 (best 0.00023), saving model to 'C:\\\\Users\\\\falty\\\\Desktop\\\\GZS\\\\trading\\\\swing\\\\multi\\\\dobby\\\\lightning_logs\\\\version_2\\\\checkpoints\\\\epoch=50-step=5100.ckpt' as top 1\n"
     ]
    },
    {
     "name": "stdout",
     "output_type": "stream",
     "text": [
      "Epoch 51: |                                              | 100/? [00:17<00:00,  5.70it/s, v_num=2, train_loss=0.000238]"
     ]
    },
    {
     "name": "stderr",
     "output_type": "stream",
     "text": [
      "Epoch 51, global step 5200: 'train_loss' was not in top 1\n"
     ]
    },
    {
     "name": "stdout",
     "output_type": "stream",
     "text": [
      "Epoch 52: |                                              | 100/? [00:17<00:00,  5.57it/s, v_num=2, train_loss=0.000237]"
     ]
    },
    {
     "name": "stderr",
     "output_type": "stream",
     "text": [
      "Epoch 52, global step 5300: 'train_loss' was not in top 1\n"
     ]
    },
    {
     "name": "stdout",
     "output_type": "stream",
     "text": [
      "Epoch 53: |                                              | 100/? [00:18<00:00,  5.53it/s, v_num=2, train_loss=0.000213]"
     ]
    },
    {
     "name": "stderr",
     "output_type": "stream",
     "text": [
      "Epoch 53, global step 5400: 'train_loss' reached 0.00021 (best 0.00021), saving model to 'C:\\\\Users\\\\falty\\\\Desktop\\\\GZS\\\\trading\\\\swing\\\\multi\\\\dobby\\\\lightning_logs\\\\version_2\\\\checkpoints\\\\epoch=53-step=5400.ckpt' as top 1\n"
     ]
    },
    {
     "name": "stdout",
     "output_type": "stream",
     "text": [
      "Epoch 54: |                                              | 100/? [00:18<00:00,  5.55it/s, v_num=2, train_loss=0.000209]"
     ]
    },
    {
     "name": "stderr",
     "output_type": "stream",
     "text": [
      "Epoch 54, global step 5500: 'train_loss' reached 0.00021 (best 0.00021), saving model to 'C:\\\\Users\\\\falty\\\\Desktop\\\\GZS\\\\trading\\\\swing\\\\multi\\\\dobby\\\\lightning_logs\\\\version_2\\\\checkpoints\\\\epoch=54-step=5500.ckpt' as top 1\n"
     ]
    },
    {
     "name": "stdout",
     "output_type": "stream",
     "text": [
      "Epoch 55: |                                              | 100/? [00:18<00:00,  5.50it/s, v_num=2, train_loss=0.000206]"
     ]
    },
    {
     "name": "stderr",
     "output_type": "stream",
     "text": [
      "Epoch 55, global step 5600: 'train_loss' reached 0.00021 (best 0.00021), saving model to 'C:\\\\Users\\\\falty\\\\Desktop\\\\GZS\\\\trading\\\\swing\\\\multi\\\\dobby\\\\lightning_logs\\\\version_2\\\\checkpoints\\\\epoch=55-step=5600.ckpt' as top 1\n"
     ]
    },
    {
     "name": "stdout",
     "output_type": "stream",
     "text": [
      "Epoch 56: |                                              | 100/? [00:18<00:00,  5.46it/s, v_num=2, train_loss=0.000205]"
     ]
    },
    {
     "name": "stderr",
     "output_type": "stream",
     "text": [
      "Epoch 56, global step 5700: 'train_loss' reached 0.00020 (best 0.00020), saving model to 'C:\\\\Users\\\\falty\\\\Desktop\\\\GZS\\\\trading\\\\swing\\\\multi\\\\dobby\\\\lightning_logs\\\\version_2\\\\checkpoints\\\\epoch=56-step=5700.ckpt' as top 1\n"
     ]
    },
    {
     "name": "stdout",
     "output_type": "stream",
     "text": [
      "Epoch 57: |                                              | 100/? [00:17<00:00,  5.65it/s, v_num=2, train_loss=0.000189]"
     ]
    },
    {
     "name": "stderr",
     "output_type": "stream",
     "text": [
      "Epoch 57, global step 5800: 'train_loss' reached 0.00019 (best 0.00019), saving model to 'C:\\\\Users\\\\falty\\\\Desktop\\\\GZS\\\\trading\\\\swing\\\\multi\\\\dobby\\\\lightning_logs\\\\version_2\\\\checkpoints\\\\epoch=57-step=5800.ckpt' as top 1\n"
     ]
    },
    {
     "name": "stdout",
     "output_type": "stream",
     "text": [
      "Epoch 58: |                                              | 100/? [00:17<00:00,  5.58it/s, v_num=2, train_loss=0.000193]"
     ]
    },
    {
     "name": "stderr",
     "output_type": "stream",
     "text": [
      "Epoch 58, global step 5900: 'train_loss' was not in top 1\n"
     ]
    },
    {
     "name": "stdout",
     "output_type": "stream",
     "text": [
      "Epoch 59: |                                              | 100/? [00:18<00:00,  5.55it/s, v_num=2, train_loss=0.000185]"
     ]
    },
    {
     "name": "stderr",
     "output_type": "stream",
     "text": [
      "Epoch 59, global step 6000: 'train_loss' reached 0.00018 (best 0.00018), saving model to 'C:\\\\Users\\\\falty\\\\Desktop\\\\GZS\\\\trading\\\\swing\\\\multi\\\\dobby\\\\lightning_logs\\\\version_2\\\\checkpoints\\\\epoch=59-step=6000.ckpt' as top 1\n"
     ]
    },
    {
     "name": "stdout",
     "output_type": "stream",
     "text": [
      "Epoch 60: |                                              | 100/? [00:17<00:00,  5.59it/s, v_num=2, train_loss=0.000181]"
     ]
    },
    {
     "name": "stderr",
     "output_type": "stream",
     "text": [
      "Epoch 60, global step 6100: 'train_loss' reached 0.00018 (best 0.00018), saving model to 'C:\\\\Users\\\\falty\\\\Desktop\\\\GZS\\\\trading\\\\swing\\\\multi\\\\dobby\\\\lightning_logs\\\\version_2\\\\checkpoints\\\\epoch=60-step=6100.ckpt' as top 1\n"
     ]
    },
    {
     "name": "stdout",
     "output_type": "stream",
     "text": [
      "Epoch 61: |                                              | 100/? [00:18<00:00,  5.46it/s, v_num=2, train_loss=0.000206]"
     ]
    },
    {
     "name": "stderr",
     "output_type": "stream",
     "text": [
      "Epoch 61, global step 6200: 'train_loss' was not in top 1\n"
     ]
    },
    {
     "name": "stdout",
     "output_type": "stream",
     "text": [
      "Epoch 62: |                                              | 100/? [00:17<00:00,  5.62it/s, v_num=2, train_loss=0.000178]"
     ]
    },
    {
     "name": "stderr",
     "output_type": "stream",
     "text": [
      "Epoch 62, global step 6300: 'train_loss' reached 0.00018 (best 0.00018), saving model to 'C:\\\\Users\\\\falty\\\\Desktop\\\\GZS\\\\trading\\\\swing\\\\multi\\\\dobby\\\\lightning_logs\\\\version_2\\\\checkpoints\\\\epoch=62-step=6300.ckpt' as top 1\n"
     ]
    },
    {
     "name": "stdout",
     "output_type": "stream",
     "text": [
      "Epoch 63: |                                              | 100/? [00:18<00:00,  5.54it/s, v_num=2, train_loss=0.000172]"
     ]
    },
    {
     "name": "stderr",
     "output_type": "stream",
     "text": [
      "Epoch 63, global step 6400: 'train_loss' reached 0.00017 (best 0.00017), saving model to 'C:\\\\Users\\\\falty\\\\Desktop\\\\GZS\\\\trading\\\\swing\\\\multi\\\\dobby\\\\lightning_logs\\\\version_2\\\\checkpoints\\\\epoch=63-step=6400.ckpt' as top 1\n"
     ]
    },
    {
     "name": "stdout",
     "output_type": "stream",
     "text": [
      "Epoch 64: |                                               | 100/? [00:18<00:00,  5.55it/s, v_num=2, train_loss=0.00017]"
     ]
    },
    {
     "name": "stderr",
     "output_type": "stream",
     "text": [
      "Epoch 64, global step 6500: 'train_loss' reached 0.00017 (best 0.00017), saving model to 'C:\\\\Users\\\\falty\\\\Desktop\\\\GZS\\\\trading\\\\swing\\\\multi\\\\dobby\\\\lightning_logs\\\\version_2\\\\checkpoints\\\\epoch=64-step=6500.ckpt' as top 1\n"
     ]
    },
    {
     "name": "stdout",
     "output_type": "stream",
     "text": [
      "Epoch 65: |                                              | 100/? [00:18<00:00,  5.49it/s, v_num=2, train_loss=0.000177]"
     ]
    },
    {
     "name": "stderr",
     "output_type": "stream",
     "text": [
      "Epoch 65, global step 6600: 'train_loss' was not in top 1\n"
     ]
    },
    {
     "name": "stdout",
     "output_type": "stream",
     "text": [
      "Epoch 66: |                                              | 100/? [00:17<00:00,  5.61it/s, v_num=2, train_loss=0.000175]"
     ]
    },
    {
     "name": "stderr",
     "output_type": "stream",
     "text": [
      "Epoch 66, global step 6700: 'train_loss' was not in top 1\n"
     ]
    },
    {
     "name": "stdout",
     "output_type": "stream",
     "text": [
      "Epoch 67: |                                              | 100/? [00:17<00:00,  5.61it/s, v_num=2, train_loss=0.000163]"
     ]
    },
    {
     "name": "stderr",
     "output_type": "stream",
     "text": [
      "Epoch 67, global step 6800: 'train_loss' reached 0.00016 (best 0.00016), saving model to 'C:\\\\Users\\\\falty\\\\Desktop\\\\GZS\\\\trading\\\\swing\\\\multi\\\\dobby\\\\lightning_logs\\\\version_2\\\\checkpoints\\\\epoch=67-step=6800.ckpt' as top 1\n"
     ]
    },
    {
     "name": "stdout",
     "output_type": "stream",
     "text": [
      "Epoch 68: |                                              | 100/? [00:18<00:00,  5.55it/s, v_num=2, train_loss=0.000166]"
     ]
    },
    {
     "name": "stderr",
     "output_type": "stream",
     "text": [
      "Epoch 68, global step 6900: 'train_loss' was not in top 1\n"
     ]
    },
    {
     "name": "stdout",
     "output_type": "stream",
     "text": [
      "Epoch 69: |                                              | 100/? [00:17<00:00,  5.60it/s, v_num=2, train_loss=0.000175]"
     ]
    },
    {
     "name": "stderr",
     "output_type": "stream",
     "text": [
      "Epoch 69, global step 7000: 'train_loss' was not in top 1\n"
     ]
    },
    {
     "name": "stdout",
     "output_type": "stream",
     "text": [
      "Epoch 70: |                                              | 100/? [00:17<00:00,  5.65it/s, v_num=2, train_loss=0.000162]"
     ]
    },
    {
     "name": "stderr",
     "output_type": "stream",
     "text": [
      "Epoch 70, global step 7100: 'train_loss' reached 0.00016 (best 0.00016), saving model to 'C:\\\\Users\\\\falty\\\\Desktop\\\\GZS\\\\trading\\\\swing\\\\multi\\\\dobby\\\\lightning_logs\\\\version_2\\\\checkpoints\\\\epoch=70-step=7100.ckpt' as top 1\n"
     ]
    },
    {
     "name": "stdout",
     "output_type": "stream",
     "text": [
      "Epoch 71: |                                              | 100/? [00:18<00:00,  5.53it/s, v_num=2, train_loss=0.000166]"
     ]
    },
    {
     "name": "stderr",
     "output_type": "stream",
     "text": [
      "Epoch 71, global step 7200: 'train_loss' was not in top 1\n"
     ]
    },
    {
     "name": "stdout",
     "output_type": "stream",
     "text": [
      "Epoch 72: |                                              | 100/? [00:17<00:00,  5.61it/s, v_num=2, train_loss=0.000163]"
     ]
    },
    {
     "name": "stderr",
     "output_type": "stream",
     "text": [
      "Epoch 72, global step 7300: 'train_loss' was not in top 1\n"
     ]
    },
    {
     "name": "stdout",
     "output_type": "stream",
     "text": [
      "Epoch 73: |                                              | 100/? [00:17<00:00,  5.63it/s, v_num=2, train_loss=0.000162]"
     ]
    },
    {
     "name": "stderr",
     "output_type": "stream",
     "text": [
      "Epoch 73, global step 7400: 'train_loss' was not in top 1\n"
     ]
    },
    {
     "name": "stdout",
     "output_type": "stream",
     "text": [
      "Epoch 74: |                                              | 100/? [00:17<00:00,  5.61it/s, v_num=2, train_loss=0.000167]"
     ]
    },
    {
     "name": "stderr",
     "output_type": "stream",
     "text": [
      "Epoch 74, global step 7500: 'train_loss' was not in top 1\n"
     ]
    },
    {
     "name": "stdout",
     "output_type": "stream",
     "text": [
      "Epoch 75: |                                              | 100/? [00:17<00:00,  5.68it/s, v_num=2, train_loss=0.000159]"
     ]
    },
    {
     "name": "stderr",
     "output_type": "stream",
     "text": [
      "Epoch 75, global step 7600: 'train_loss' reached 0.00016 (best 0.00016), saving model to 'C:\\\\Users\\\\falty\\\\Desktop\\\\GZS\\\\trading\\\\swing\\\\multi\\\\dobby\\\\lightning_logs\\\\version_2\\\\checkpoints\\\\epoch=75-step=7600.ckpt' as top 1\n"
     ]
    },
    {
     "name": "stdout",
     "output_type": "stream",
     "text": [
      "Epoch 76: |                                              | 100/? [00:17<00:00,  5.57it/s, v_num=2, train_loss=0.000149]"
     ]
    },
    {
     "name": "stderr",
     "output_type": "stream",
     "text": [
      "Epoch 76, global step 7700: 'train_loss' reached 0.00015 (best 0.00015), saving model to 'C:\\\\Users\\\\falty\\\\Desktop\\\\GZS\\\\trading\\\\swing\\\\multi\\\\dobby\\\\lightning_logs\\\\version_2\\\\checkpoints\\\\epoch=76-step=7700.ckpt' as top 1\n"
     ]
    },
    {
     "name": "stdout",
     "output_type": "stream",
     "text": [
      "Epoch 77: |                                              | 100/? [00:18<00:00,  5.47it/s, v_num=2, train_loss=0.000155]"
     ]
    },
    {
     "name": "stderr",
     "output_type": "stream",
     "text": [
      "Epoch 77, global step 7800: 'train_loss' was not in top 1\n"
     ]
    },
    {
     "name": "stdout",
     "output_type": "stream",
     "text": [
      "Epoch 78: |                                              | 100/? [00:17<00:00,  5.59it/s, v_num=2, train_loss=0.000149]"
     ]
    },
    {
     "name": "stderr",
     "output_type": "stream",
     "text": [
      "Epoch 78, global step 7900: 'train_loss' was not in top 1\n"
     ]
    },
    {
     "name": "stdout",
     "output_type": "stream",
     "text": [
      "Epoch 79: |                                              | 100/? [00:17<00:00,  5.64it/s, v_num=2, train_loss=0.000156]"
     ]
    },
    {
     "name": "stderr",
     "output_type": "stream",
     "text": [
      "Epoch 79, global step 8000: 'train_loss' was not in top 1\n"
     ]
    },
    {
     "name": "stdout",
     "output_type": "stream",
     "text": [
      "Epoch 80: |                                              | 100/? [00:17<00:00,  5.73it/s, v_num=2, train_loss=0.000149]"
     ]
    },
    {
     "name": "stderr",
     "output_type": "stream",
     "text": [
      "Epoch 80, global step 8100: 'train_loss' was not in top 1\n"
     ]
    },
    {
     "name": "stdout",
     "output_type": "stream",
     "text": [
      "Epoch 81: |                                              | 100/? [00:17<00:00,  5.69it/s, v_num=2, train_loss=0.000145]"
     ]
    },
    {
     "name": "stderr",
     "output_type": "stream",
     "text": [
      "Epoch 81, global step 8200: 'train_loss' reached 0.00015 (best 0.00015), saving model to 'C:\\\\Users\\\\falty\\\\Desktop\\\\GZS\\\\trading\\\\swing\\\\multi\\\\dobby\\\\lightning_logs\\\\version_2\\\\checkpoints\\\\epoch=81-step=8200.ckpt' as top 1\n"
     ]
    },
    {
     "name": "stdout",
     "output_type": "stream",
     "text": [
      "Epoch 82: |                                              | 100/? [00:17<00:00,  5.70it/s, v_num=2, train_loss=0.000143]"
     ]
    },
    {
     "name": "stderr",
     "output_type": "stream",
     "text": [
      "Epoch 82, global step 8300: 'train_loss' reached 0.00014 (best 0.00014), saving model to 'C:\\\\Users\\\\falty\\\\Desktop\\\\GZS\\\\trading\\\\swing\\\\multi\\\\dobby\\\\lightning_logs\\\\version_2\\\\checkpoints\\\\epoch=82-step=8300.ckpt' as top 1\n"
     ]
    },
    {
     "name": "stdout",
     "output_type": "stream",
     "text": [
      "Epoch 83: |                                              | 100/? [00:18<00:00,  5.48it/s, v_num=2, train_loss=0.000145]"
     ]
    },
    {
     "name": "stderr",
     "output_type": "stream",
     "text": [
      "Epoch 83, global step 8400: 'train_loss' was not in top 1\n"
     ]
    },
    {
     "name": "stdout",
     "output_type": "stream",
     "text": [
      "Epoch 84: |                                              | 100/? [00:18<00:00,  5.50it/s, v_num=2, train_loss=0.000147]"
     ]
    },
    {
     "name": "stderr",
     "output_type": "stream",
     "text": [
      "Epoch 84, global step 8500: 'train_loss' was not in top 1\n"
     ]
    },
    {
     "name": "stdout",
     "output_type": "stream",
     "text": [
      "Epoch 85: |                                              | 100/? [00:18<00:00,  5.50it/s, v_num=2, train_loss=0.000148]"
     ]
    },
    {
     "name": "stderr",
     "output_type": "stream",
     "text": [
      "Epoch 85, global step 8600: 'train_loss' was not in top 1\n"
     ]
    },
    {
     "name": "stdout",
     "output_type": "stream",
     "text": [
      "Epoch 86: |                                              | 100/? [00:17<00:00,  5.67it/s, v_num=2, train_loss=0.000143]"
     ]
    },
    {
     "name": "stderr",
     "output_type": "stream",
     "text": [
      "Epoch 86, global step 8700: 'train_loss' was not in top 1\n"
     ]
    },
    {
     "name": "stdout",
     "output_type": "stream",
     "text": [
      "Epoch 87: |                                              | 100/? [00:17<00:00,  5.68it/s, v_num=2, train_loss=0.000139]"
     ]
    },
    {
     "name": "stderr",
     "output_type": "stream",
     "text": [
      "Epoch 87, global step 8800: 'train_loss' reached 0.00014 (best 0.00014), saving model to 'C:\\\\Users\\\\falty\\\\Desktop\\\\GZS\\\\trading\\\\swing\\\\multi\\\\dobby\\\\lightning_logs\\\\version_2\\\\checkpoints\\\\epoch=87-step=8800.ckpt' as top 1\n"
     ]
    },
    {
     "name": "stdout",
     "output_type": "stream",
     "text": [
      "Epoch 88: |                                              | 100/? [00:17<00:00,  5.66it/s, v_num=2, train_loss=0.000142]"
     ]
    },
    {
     "name": "stderr",
     "output_type": "stream",
     "text": [
      "Epoch 88, global step 8900: 'train_loss' was not in top 1\n"
     ]
    },
    {
     "name": "stdout",
     "output_type": "stream",
     "text": [
      "Epoch 89: |                                              | 100/? [00:17<00:00,  5.75it/s, v_num=2, train_loss=0.000145]"
     ]
    },
    {
     "name": "stderr",
     "output_type": "stream",
     "text": [
      "Epoch 89, global step 9000: 'train_loss' was not in top 1\n"
     ]
    },
    {
     "name": "stdout",
     "output_type": "stream",
     "text": [
      "Epoch 90: |                                              | 100/? [00:18<00:00,  5.52it/s, v_num=2, train_loss=0.000149]"
     ]
    },
    {
     "name": "stderr",
     "output_type": "stream",
     "text": [
      "Epoch 90, global step 9100: 'train_loss' was not in top 1\n"
     ]
    },
    {
     "name": "stdout",
     "output_type": "stream",
     "text": [
      "Epoch 91: |                                              | 100/? [00:18<00:00,  5.50it/s, v_num=2, train_loss=0.000141]"
     ]
    },
    {
     "name": "stderr",
     "output_type": "stream",
     "text": [
      "Epoch 91, global step 9200: 'train_loss' was not in top 1\n"
     ]
    },
    {
     "name": "stdout",
     "output_type": "stream",
     "text": [
      "Epoch 92: |                                              | 100/? [00:18<00:00,  5.51it/s, v_num=2, train_loss=0.000144]"
     ]
    },
    {
     "name": "stderr",
     "output_type": "stream",
     "text": [
      "Epoch 92, global step 9300: 'train_loss' was not in top 1\n"
     ]
    },
    {
     "name": "stdout",
     "output_type": "stream",
     "text": [
      "Epoch 93: |                                              | 100/? [00:17<00:00,  5.68it/s, v_num=2, train_loss=0.000135]"
     ]
    },
    {
     "name": "stderr",
     "output_type": "stream",
     "text": [
      "Epoch 93, global step 9400: 'train_loss' reached 0.00014 (best 0.00014), saving model to 'C:\\\\Users\\\\falty\\\\Desktop\\\\GZS\\\\trading\\\\swing\\\\multi\\\\dobby\\\\lightning_logs\\\\version_2\\\\checkpoints\\\\epoch=93-step=9400.ckpt' as top 1\n"
     ]
    },
    {
     "name": "stdout",
     "output_type": "stream",
     "text": [
      "Epoch 94: |                                              | 100/? [00:17<00:00,  5.63it/s, v_num=2, train_loss=0.000144]"
     ]
    },
    {
     "name": "stderr",
     "output_type": "stream",
     "text": [
      "Epoch 94, global step 9500: 'train_loss' was not in top 1\n"
     ]
    },
    {
     "name": "stdout",
     "output_type": "stream",
     "text": [
      "Epoch 95: |                                              | 100/? [00:18<00:00,  5.45it/s, v_num=2, train_loss=0.000142]"
     ]
    },
    {
     "name": "stderr",
     "output_type": "stream",
     "text": [
      "Epoch 95, global step 9600: 'train_loss' was not in top 1\n"
     ]
    },
    {
     "name": "stdout",
     "output_type": "stream",
     "text": [
      "Epoch 96: |                                              | 100/? [00:17<00:00,  5.74it/s, v_num=2, train_loss=0.000129]"
     ]
    },
    {
     "name": "stderr",
     "output_type": "stream",
     "text": [
      "Epoch 96, global step 9700: 'train_loss' reached 0.00013 (best 0.00013), saving model to 'C:\\\\Users\\\\falty\\\\Desktop\\\\GZS\\\\trading\\\\swing\\\\multi\\\\dobby\\\\lightning_logs\\\\version_2\\\\checkpoints\\\\epoch=96-step=9700.ckpt' as top 1\n"
     ]
    },
    {
     "name": "stdout",
     "output_type": "stream",
     "text": [
      "Epoch 97: |                                              | 100/? [00:18<00:00,  5.51it/s, v_num=2, train_loss=0.000134]"
     ]
    },
    {
     "name": "stderr",
     "output_type": "stream",
     "text": [
      "Epoch 97, global step 9800: 'train_loss' was not in top 1\n"
     ]
    },
    {
     "name": "stdout",
     "output_type": "stream",
     "text": [
      "Epoch 98: |                                              | 100/? [00:17<00:00,  5.59it/s, v_num=2, train_loss=0.000124]"
     ]
    },
    {
     "name": "stderr",
     "output_type": "stream",
     "text": [
      "Epoch 98, global step 9900: 'train_loss' reached 0.00012 (best 0.00012), saving model to 'C:\\\\Users\\\\falty\\\\Desktop\\\\GZS\\\\trading\\\\swing\\\\multi\\\\dobby\\\\lightning_logs\\\\version_2\\\\checkpoints\\\\epoch=98-step=9900.ckpt' as top 1\n"
     ]
    },
    {
     "name": "stdout",
     "output_type": "stream",
     "text": [
      "Epoch 99: |                                              | 100/? [00:18<00:00,  5.48it/s, v_num=2, train_loss=0.000126]"
     ]
    },
    {
     "name": "stderr",
     "output_type": "stream",
     "text": [
      "Epoch 99, global step 10000: 'train_loss' was not in top 1\n"
     ]
    },
    {
     "name": "stdout",
     "output_type": "stream",
     "text": [
      "Epoch 100: |                                             | 100/? [00:17<00:00,  5.60it/s, v_num=2, train_loss=0.000132]"
     ]
    },
    {
     "name": "stderr",
     "output_type": "stream",
     "text": [
      "Epoch 100, global step 10100: 'train_loss' was not in top 1\n"
     ]
    },
    {
     "name": "stdout",
     "output_type": "stream",
     "text": [
      "Epoch 101: |                                             | 100/? [00:17<00:00,  5.67it/s, v_num=2, train_loss=0.000133]"
     ]
    },
    {
     "name": "stderr",
     "output_type": "stream",
     "text": [
      "Epoch 101, global step 10200: 'train_loss' was not in top 1\n"
     ]
    },
    {
     "name": "stdout",
     "output_type": "stream",
     "text": [
      "Epoch 102: |                                             | 100/? [00:17<00:00,  5.62it/s, v_num=2, train_loss=0.000122]"
     ]
    },
    {
     "name": "stderr",
     "output_type": "stream",
     "text": [
      "Epoch 102, global step 10300: 'train_loss' reached 0.00012 (best 0.00012), saving model to 'C:\\\\Users\\\\falty\\\\Desktop\\\\GZS\\\\trading\\\\swing\\\\multi\\\\dobby\\\\lightning_logs\\\\version_2\\\\checkpoints\\\\epoch=102-step=10300.ckpt' as top 1\n"
     ]
    },
    {
     "name": "stdout",
     "output_type": "stream",
     "text": [
      "Epoch 103: |                                             | 100/? [00:17<00:00,  5.61it/s, v_num=2, train_loss=0.000122]"
     ]
    },
    {
     "name": "stderr",
     "output_type": "stream",
     "text": [
      "Epoch 103, global step 10400: 'train_loss' reached 0.00012 (best 0.00012), saving model to 'C:\\\\Users\\\\falty\\\\Desktop\\\\GZS\\\\trading\\\\swing\\\\multi\\\\dobby\\\\lightning_logs\\\\version_2\\\\checkpoints\\\\epoch=103-step=10400.ckpt' as top 1\n"
     ]
    },
    {
     "name": "stdout",
     "output_type": "stream",
     "text": [
      "Epoch 104: |                                             | 100/? [00:18<00:00,  5.50it/s, v_num=2, train_loss=0.000128]"
     ]
    },
    {
     "name": "stderr",
     "output_type": "stream",
     "text": [
      "Epoch 104, global step 10500: 'train_loss' was not in top 1\n"
     ]
    },
    {
     "name": "stdout",
     "output_type": "stream",
     "text": [
      "Epoch 105: |                                             | 100/? [00:17<00:00,  5.58it/s, v_num=2, train_loss=0.000126]"
     ]
    },
    {
     "name": "stderr",
     "output_type": "stream",
     "text": [
      "Epoch 105, global step 10600: 'train_loss' was not in top 1\n"
     ]
    },
    {
     "name": "stdout",
     "output_type": "stream",
     "text": [
      "Epoch 106: |                                             | 100/? [00:17<00:00,  5.62it/s, v_num=2, train_loss=0.000125]"
     ]
    },
    {
     "name": "stderr",
     "output_type": "stream",
     "text": [
      "Epoch 106, global step 10700: 'train_loss' was not in top 1\n"
     ]
    },
    {
     "name": "stdout",
     "output_type": "stream",
     "text": [
      "Epoch 107: |                                              | 100/? [00:17<00:00,  5.65it/s, v_num=2, train_loss=0.00012]"
     ]
    },
    {
     "name": "stderr",
     "output_type": "stream",
     "text": [
      "Epoch 107, global step 10800: 'train_loss' reached 0.00012 (best 0.00012), saving model to 'C:\\\\Users\\\\falty\\\\Desktop\\\\GZS\\\\trading\\\\swing\\\\multi\\\\dobby\\\\lightning_logs\\\\version_2\\\\checkpoints\\\\epoch=107-step=10800.ckpt' as top 1\n"
     ]
    },
    {
     "name": "stdout",
     "output_type": "stream",
     "text": [
      "Epoch 108: |                                             | 100/? [00:18<00:00,  5.53it/s, v_num=2, train_loss=0.000126]"
     ]
    },
    {
     "name": "stderr",
     "output_type": "stream",
     "text": [
      "Epoch 108, global step 10900: 'train_loss' was not in top 1\n"
     ]
    },
    {
     "name": "stdout",
     "output_type": "stream",
     "text": [
      "Epoch 109: |                                             | 100/? [00:18<00:00,  5.54it/s, v_num=2, train_loss=0.000127]"
     ]
    },
    {
     "name": "stderr",
     "output_type": "stream",
     "text": [
      "Epoch 109, global step 11000: 'train_loss' was not in top 1\n"
     ]
    },
    {
     "name": "stdout",
     "output_type": "stream",
     "text": [
      "Epoch 110: |                                             | 100/? [00:17<00:00,  5.64it/s, v_num=2, train_loss=0.000117]"
     ]
    },
    {
     "name": "stderr",
     "output_type": "stream",
     "text": [
      "Epoch 110, global step 11100: 'train_loss' reached 0.00012 (best 0.00012), saving model to 'C:\\\\Users\\\\falty\\\\Desktop\\\\GZS\\\\trading\\\\swing\\\\multi\\\\dobby\\\\lightning_logs\\\\version_2\\\\checkpoints\\\\epoch=110-step=11100.ckpt' as top 1\n"
     ]
    },
    {
     "name": "stdout",
     "output_type": "stream",
     "text": [
      "Epoch 111: |                                             | 100/? [00:18<00:00,  5.36it/s, v_num=2, train_loss=0.000129]"
     ]
    },
    {
     "name": "stderr",
     "output_type": "stream",
     "text": [
      "Epoch 111, global step 11200: 'train_loss' was not in top 1\n"
     ]
    },
    {
     "name": "stdout",
     "output_type": "stream",
     "text": [
      "Epoch 112: |                                             | 100/? [00:17<00:00,  5.63it/s, v_num=2, train_loss=0.000128]"
     ]
    },
    {
     "name": "stderr",
     "output_type": "stream",
     "text": [
      "Epoch 112, global step 11300: 'train_loss' was not in top 1\n"
     ]
    },
    {
     "name": "stdout",
     "output_type": "stream",
     "text": [
      "Epoch 113: |                                             | 100/? [00:17<00:00,  5.58it/s, v_num=2, train_loss=0.000114]"
     ]
    },
    {
     "name": "stderr",
     "output_type": "stream",
     "text": [
      "Epoch 113, global step 11400: 'train_loss' reached 0.00011 (best 0.00011), saving model to 'C:\\\\Users\\\\falty\\\\Desktop\\\\GZS\\\\trading\\\\swing\\\\multi\\\\dobby\\\\lightning_logs\\\\version_2\\\\checkpoints\\\\epoch=113-step=11400.ckpt' as top 1\n"
     ]
    },
    {
     "name": "stdout",
     "output_type": "stream",
     "text": [
      "Epoch 114: |                                             | 100/? [00:18<00:00,  5.46it/s, v_num=2, train_loss=0.000128]"
     ]
    },
    {
     "name": "stderr",
     "output_type": "stream",
     "text": [
      "Epoch 114, global step 11500: 'train_loss' was not in top 1\n"
     ]
    },
    {
     "name": "stdout",
     "output_type": "stream",
     "text": [
      "Epoch 115: |                                             | 100/? [00:17<00:00,  5.59it/s, v_num=2, train_loss=0.000192]"
     ]
    },
    {
     "name": "stderr",
     "output_type": "stream",
     "text": [
      "Epoch 115, global step 11600: 'train_loss' was not in top 1\n"
     ]
    },
    {
     "name": "stdout",
     "output_type": "stream",
     "text": [
      "Epoch 116: |                                             | 100/? [00:17<00:00,  5.66it/s, v_num=2, train_loss=0.000155]"
     ]
    },
    {
     "name": "stderr",
     "output_type": "stream",
     "text": [
      "Epoch 116, global step 11700: 'train_loss' was not in top 1\n"
     ]
    },
    {
     "name": "stdout",
     "output_type": "stream",
     "text": [
      "Epoch 117: |                                             | 100/? [00:17<00:00,  5.61it/s, v_num=2, train_loss=0.000132]"
     ]
    },
    {
     "name": "stderr",
     "output_type": "stream",
     "text": [
      "Epoch 117, global step 11800: 'train_loss' was not in top 1\n"
     ]
    },
    {
     "name": "stdout",
     "output_type": "stream",
     "text": [
      "Epoch 118: |                                             | 100/? [00:17<00:00,  5.59it/s, v_num=2, train_loss=0.000121]"
     ]
    },
    {
     "name": "stderr",
     "output_type": "stream",
     "text": [
      "Epoch 118, global step 11900: 'train_loss' was not in top 1\n"
     ]
    },
    {
     "name": "stdout",
     "output_type": "stream",
     "text": [
      "Epoch 119: |                                             | 100/? [00:17<00:00,  5.65it/s, v_num=2, train_loss=0.000122]"
     ]
    },
    {
     "name": "stderr",
     "output_type": "stream",
     "text": [
      "Epoch 119, global step 12000: 'train_loss' was not in top 1\n"
     ]
    },
    {
     "name": "stdout",
     "output_type": "stream",
     "text": [
      "Epoch 120: |                                             | 100/? [00:17<00:00,  5.59it/s, v_num=2, train_loss=0.000118]"
     ]
    },
    {
     "name": "stderr",
     "output_type": "stream",
     "text": [
      "Epoch 120, global step 12100: 'train_loss' was not in top 1\n"
     ]
    },
    {
     "name": "stdout",
     "output_type": "stream",
     "text": [
      "Epoch 121: |                                              | 100/? [00:17<00:00,  5.56it/s, v_num=2, train_loss=0.00012]"
     ]
    },
    {
     "name": "stderr",
     "output_type": "stream",
     "text": [
      "Epoch 121, global step 12200: 'train_loss' was not in top 1\n"
     ]
    },
    {
     "name": "stdout",
     "output_type": "stream",
     "text": [
      "Epoch 122: |                                             | 100/? [00:17<00:00,  5.65it/s, v_num=2, train_loss=0.000113]"
     ]
    },
    {
     "name": "stderr",
     "output_type": "stream",
     "text": [
      "Epoch 122, global step 12300: 'train_loss' reached 0.00011 (best 0.00011), saving model to 'C:\\\\Users\\\\falty\\\\Desktop\\\\GZS\\\\trading\\\\swing\\\\multi\\\\dobby\\\\lightning_logs\\\\version_2\\\\checkpoints\\\\epoch=122-step=12300.ckpt' as top 1\n"
     ]
    },
    {
     "name": "stdout",
     "output_type": "stream",
     "text": [
      "Epoch 123: |                                             | 100/? [00:18<00:00,  5.48it/s, v_num=2, train_loss=0.000108]"
     ]
    },
    {
     "name": "stderr",
     "output_type": "stream",
     "text": [
      "Epoch 123, global step 12400: 'train_loss' reached 0.00011 (best 0.00011), saving model to 'C:\\\\Users\\\\falty\\\\Desktop\\\\GZS\\\\trading\\\\swing\\\\multi\\\\dobby\\\\lightning_logs\\\\version_2\\\\checkpoints\\\\epoch=123-step=12400.ckpt' as top 1\n"
     ]
    },
    {
     "name": "stdout",
     "output_type": "stream",
     "text": [
      "Epoch 124: |                                             | 100/? [00:18<00:00,  5.41it/s, v_num=2, train_loss=0.000111]"
     ]
    },
    {
     "name": "stderr",
     "output_type": "stream",
     "text": [
      "Epoch 124, global step 12500: 'train_loss' was not in top 1\n"
     ]
    },
    {
     "name": "stdout",
     "output_type": "stream",
     "text": [
      "Epoch 125: |                                             | 100/? [00:17<00:00,  5.66it/s, v_num=2, train_loss=0.000114]"
     ]
    },
    {
     "name": "stderr",
     "output_type": "stream",
     "text": [
      "Epoch 125, global step 12600: 'train_loss' was not in top 1\n"
     ]
    },
    {
     "name": "stdout",
     "output_type": "stream",
     "text": [
      "Epoch 126: |                                             | 100/? [00:17<00:00,  5.61it/s, v_num=2, train_loss=0.000113]"
     ]
    },
    {
     "name": "stderr",
     "output_type": "stream",
     "text": [
      "Epoch 126, global step 12700: 'train_loss' was not in top 1\n"
     ]
    },
    {
     "name": "stdout",
     "output_type": "stream",
     "text": [
      "Epoch 127: |                                             | 100/? [00:17<00:00,  5.69it/s, v_num=2, train_loss=0.000118]"
     ]
    },
    {
     "name": "stderr",
     "output_type": "stream",
     "text": [
      "Epoch 127, global step 12800: 'train_loss' was not in top 1\n"
     ]
    },
    {
     "name": "stdout",
     "output_type": "stream",
     "text": [
      "Epoch 128: |                                             | 100/? [00:17<00:00,  5.61it/s, v_num=2, train_loss=0.000113]"
     ]
    },
    {
     "name": "stderr",
     "output_type": "stream",
     "text": [
      "Epoch 128, global step 12900: 'train_loss' was not in top 1\n"
     ]
    },
    {
     "name": "stdout",
     "output_type": "stream",
     "text": [
      "Epoch 129: |                                             | 100/? [00:17<00:00,  5.64it/s, v_num=2, train_loss=0.000107]"
     ]
    },
    {
     "name": "stderr",
     "output_type": "stream",
     "text": [
      "Epoch 129, global step 13000: 'train_loss' reached 0.00011 (best 0.00011), saving model to 'C:\\\\Users\\\\falty\\\\Desktop\\\\GZS\\\\trading\\\\swing\\\\multi\\\\dobby\\\\lightning_logs\\\\version_2\\\\checkpoints\\\\epoch=129-step=13000.ckpt' as top 1\n"
     ]
    },
    {
     "name": "stdout",
     "output_type": "stream",
     "text": [
      "Epoch 130: |                                               | 100/? [00:17<00:00,  5.66it/s, v_num=2, train_loss=0.0001]"
     ]
    },
    {
     "name": "stderr",
     "output_type": "stream",
     "text": [
      "Epoch 130, global step 13100: 'train_loss' reached 0.00010 (best 0.00010), saving model to 'C:\\\\Users\\\\falty\\\\Desktop\\\\GZS\\\\trading\\\\swing\\\\multi\\\\dobby\\\\lightning_logs\\\\version_2\\\\checkpoints\\\\epoch=130-step=13100.ckpt' as top 1\n"
     ]
    },
    {
     "name": "stdout",
     "output_type": "stream",
     "text": [
      "Epoch 131: |                                             | 100/? [00:17<00:00,  5.63it/s, v_num=2, train_loss=0.000104]"
     ]
    },
    {
     "name": "stderr",
     "output_type": "stream",
     "text": [
      "Epoch 131, global step 13200: 'train_loss' was not in top 1\n"
     ]
    },
    {
     "name": "stdout",
     "output_type": "stream",
     "text": [
      "Epoch 132: |                                             | 100/? [00:17<00:00,  5.72it/s, v_num=2, train_loss=0.000103]"
     ]
    },
    {
     "name": "stderr",
     "output_type": "stream",
     "text": [
      "Epoch 132, global step 13300: 'train_loss' was not in top 1\n"
     ]
    },
    {
     "name": "stdout",
     "output_type": "stream",
     "text": [
      "Epoch 133: |                                             | 100/? [00:17<00:00,  5.73it/s, v_num=2, train_loss=0.000116]"
     ]
    },
    {
     "name": "stderr",
     "output_type": "stream",
     "text": [
      "Epoch 133, global step 13400: 'train_loss' was not in top 1\n"
     ]
    },
    {
     "name": "stdout",
     "output_type": "stream",
     "text": [
      "Epoch 134: |                                             | 100/? [00:17<00:00,  5.61it/s, v_num=2, train_loss=0.000104]"
     ]
    },
    {
     "name": "stderr",
     "output_type": "stream",
     "text": [
      "Epoch 134, global step 13500: 'train_loss' was not in top 1\n"
     ]
    },
    {
     "name": "stdout",
     "output_type": "stream",
     "text": [
      "Epoch 135: |                                             | 100/? [00:17<00:00,  5.61it/s, v_num=2, train_loss=0.000106]"
     ]
    },
    {
     "name": "stderr",
     "output_type": "stream",
     "text": [
      "Epoch 135, global step 13600: 'train_loss' was not in top 1\n"
     ]
    },
    {
     "name": "stdout",
     "output_type": "stream",
     "text": [
      "Epoch 136: |                                             | 100/? [00:17<00:00,  5.67it/s, v_num=2, train_loss=0.000107]"
     ]
    },
    {
     "name": "stderr",
     "output_type": "stream",
     "text": [
      "Epoch 136, global step 13700: 'train_loss' was not in top 1\n"
     ]
    },
    {
     "name": "stdout",
     "output_type": "stream",
     "text": [
      "Epoch 137: |                                             | 100/? [00:17<00:00,  5.71it/s, v_num=2, train_loss=0.000106]"
     ]
    },
    {
     "name": "stderr",
     "output_type": "stream",
     "text": [
      "Epoch 137, global step 13800: 'train_loss' was not in top 1\n"
     ]
    },
    {
     "name": "stdout",
     "output_type": "stream",
     "text": [
      "Epoch 138: |                                               | 100/? [00:17<00:00,  5.68it/s, v_num=2, train_loss=0.0001]"
     ]
    },
    {
     "name": "stderr",
     "output_type": "stream",
     "text": [
      "Epoch 138, global step 13900: 'train_loss' reached 0.00010 (best 0.00010), saving model to 'C:\\\\Users\\\\falty\\\\Desktop\\\\GZS\\\\trading\\\\swing\\\\multi\\\\dobby\\\\lightning_logs\\\\version_2\\\\checkpoints\\\\epoch=138-step=13900.ckpt' as top 1\n"
     ]
    },
    {
     "name": "stdout",
     "output_type": "stream",
     "text": [
      "Epoch 139: |                                             | 100/? [00:18<00:00,  5.54it/s, v_num=2, train_loss=0.000104]"
     ]
    },
    {
     "name": "stderr",
     "output_type": "stream",
     "text": [
      "Epoch 139, global step 14000: 'train_loss' was not in top 1\n"
     ]
    },
    {
     "name": "stdout",
     "output_type": "stream",
     "text": [
      "Epoch 140: |                                              | 100/? [00:17<00:00,  5.62it/s, v_num=2, train_loss=9.74e-5]"
     ]
    },
    {
     "name": "stderr",
     "output_type": "stream",
     "text": [
      "Epoch 140, global step 14100: 'train_loss' reached 0.00010 (best 0.00010), saving model to 'C:\\\\Users\\\\falty\\\\Desktop\\\\GZS\\\\trading\\\\swing\\\\multi\\\\dobby\\\\lightning_logs\\\\version_2\\\\checkpoints\\\\epoch=140-step=14100.ckpt' as top 1\n"
     ]
    },
    {
     "name": "stdout",
     "output_type": "stream",
     "text": [
      "Epoch 141: |                                             | 100/? [00:18<00:00,  5.50it/s, v_num=2, train_loss=0.000106]"
     ]
    },
    {
     "name": "stderr",
     "output_type": "stream",
     "text": [
      "Epoch 141, global step 14200: 'train_loss' was not in top 1\n"
     ]
    },
    {
     "name": "stdout",
     "output_type": "stream",
     "text": [
      "Epoch 142: |                                             | 100/? [00:17<00:00,  5.60it/s, v_num=2, train_loss=0.000107]"
     ]
    },
    {
     "name": "stderr",
     "output_type": "stream",
     "text": [
      "Epoch 142, global step 14300: 'train_loss' was not in top 1\n"
     ]
    },
    {
     "name": "stdout",
     "output_type": "stream",
     "text": [
      "Epoch 143: |                                             | 100/? [00:17<00:00,  5.62it/s, v_num=2, train_loss=0.000104]"
     ]
    },
    {
     "name": "stderr",
     "output_type": "stream",
     "text": [
      "Epoch 143, global step 14400: 'train_loss' was not in top 1\n"
     ]
    },
    {
     "name": "stdout",
     "output_type": "stream",
     "text": [
      "Epoch 144: |                                              | 100/? [00:17<00:00,  5.66it/s, v_num=2, train_loss=9.77e-5]"
     ]
    },
    {
     "name": "stderr",
     "output_type": "stream",
     "text": [
      "Epoch 144, global step 14500: 'train_loss' was not in top 1\n"
     ]
    },
    {
     "name": "stdout",
     "output_type": "stream",
     "text": [
      "Epoch 145: |                                             | 100/? [00:17<00:00,  5.65it/s, v_num=2, train_loss=0.000104]"
     ]
    },
    {
     "name": "stderr",
     "output_type": "stream",
     "text": [
      "Epoch 145, global step 14600: 'train_loss' was not in top 1\n"
     ]
    },
    {
     "name": "stdout",
     "output_type": "stream",
     "text": [
      "Epoch 146: |                                             | 100/? [00:17<00:00,  5.66it/s, v_num=2, train_loss=0.000102]"
     ]
    },
    {
     "name": "stderr",
     "output_type": "stream",
     "text": [
      "Epoch 146, global step 14700: 'train_loss' was not in top 1\n"
     ]
    },
    {
     "name": "stdout",
     "output_type": "stream",
     "text": [
      "Epoch 147: |                                             | 100/? [00:17<00:00,  5.61it/s, v_num=2, train_loss=0.000105]"
     ]
    },
    {
     "name": "stderr",
     "output_type": "stream",
     "text": [
      "Epoch 147, global step 14800: 'train_loss' was not in top 1\n"
     ]
    },
    {
     "name": "stdout",
     "output_type": "stream",
     "text": [
      "Epoch 148: |                                              | 100/? [00:17<00:00,  5.63it/s, v_num=2, train_loss=0.00011]"
     ]
    },
    {
     "name": "stderr",
     "output_type": "stream",
     "text": [
      "Epoch 148, global step 14900: 'train_loss' was not in top 1\n"
     ]
    },
    {
     "name": "stdout",
     "output_type": "stream",
     "text": [
      "Epoch 149: |                                             | 100/? [00:17<00:00,  5.66it/s, v_num=2, train_loss=0.000108]"
     ]
    },
    {
     "name": "stderr",
     "output_type": "stream",
     "text": [
      "Epoch 149, global step 15000: 'train_loss' was not in top 1\n"
     ]
    },
    {
     "name": "stdout",
     "output_type": "stream",
     "text": [
      "Epoch 150: |                                             | 100/? [00:17<00:00,  5.57it/s, v_num=2, train_loss=0.000113]"
     ]
    },
    {
     "name": "stderr",
     "output_type": "stream",
     "text": [
      "Epoch 150, global step 15100: 'train_loss' was not in top 1\n"
     ]
    },
    {
     "name": "stdout",
     "output_type": "stream",
     "text": [
      "Epoch 151: |                                              | 100/? [00:17<00:00,  5.62it/s, v_num=2, train_loss=9.81e-5]"
     ]
    },
    {
     "name": "stderr",
     "output_type": "stream",
     "text": [
      "Epoch 151, global step 15200: 'train_loss' was not in top 1\n"
     ]
    },
    {
     "name": "stdout",
     "output_type": "stream",
     "text": [
      "Epoch 152: |                                              | 100/? [00:17<00:00,  5.56it/s, v_num=2, train_loss=6.03e-5]"
     ]
    },
    {
     "name": "stderr",
     "output_type": "stream",
     "text": [
      "Epoch 152, global step 15300: 'train_loss' reached 0.00006 (best 0.00006), saving model to 'C:\\\\Users\\\\falty\\\\Desktop\\\\GZS\\\\trading\\\\swing\\\\multi\\\\dobby\\\\lightning_logs\\\\version_2\\\\checkpoints\\\\epoch=152-step=15300.ckpt' as top 1\n"
     ]
    },
    {
     "name": "stdout",
     "output_type": "stream",
     "text": [
      "Epoch 153: |                                              | 100/? [00:18<00:00,  5.54it/s, v_num=2, train_loss=4.92e-5]"
     ]
    },
    {
     "name": "stderr",
     "output_type": "stream",
     "text": [
      "Epoch 153, global step 15400: 'train_loss' reached 0.00005 (best 0.00005), saving model to 'C:\\\\Users\\\\falty\\\\Desktop\\\\GZS\\\\trading\\\\swing\\\\multi\\\\dobby\\\\lightning_logs\\\\version_2\\\\checkpoints\\\\epoch=153-step=15400.ckpt' as top 1\n"
     ]
    },
    {
     "name": "stdout",
     "output_type": "stream",
     "text": [
      "Epoch 154: |                                              | 100/? [00:18<00:00,  5.54it/s, v_num=2, train_loss=5.27e-5]"
     ]
    },
    {
     "name": "stderr",
     "output_type": "stream",
     "text": [
      "Epoch 154, global step 15500: 'train_loss' was not in top 1\n"
     ]
    },
    {
     "name": "stdout",
     "output_type": "stream",
     "text": [
      "Epoch 155: |                                              | 100/? [00:17<00:00,  5.67it/s, v_num=2, train_loss=4.84e-5]"
     ]
    },
    {
     "name": "stderr",
     "output_type": "stream",
     "text": [
      "Epoch 155, global step 15600: 'train_loss' reached 0.00005 (best 0.00005), saving model to 'C:\\\\Users\\\\falty\\\\Desktop\\\\GZS\\\\trading\\\\swing\\\\multi\\\\dobby\\\\lightning_logs\\\\version_2\\\\checkpoints\\\\epoch=155-step=15600.ckpt' as top 1\n"
     ]
    },
    {
     "name": "stdout",
     "output_type": "stream",
     "text": [
      "Epoch 156: |                                              | 100/? [00:17<00:00,  5.57it/s, v_num=2, train_loss=5.36e-5]"
     ]
    },
    {
     "name": "stderr",
     "output_type": "stream",
     "text": [
      "Epoch 156, global step 15700: 'train_loss' was not in top 1\n"
     ]
    },
    {
     "name": "stdout",
     "output_type": "stream",
     "text": [
      "Epoch 157: |                                               | 100/? [00:17<00:00,  5.65it/s, v_num=2, train_loss=5.1e-5]"
     ]
    },
    {
     "name": "stderr",
     "output_type": "stream",
     "text": [
      "Epoch 157, global step 15800: 'train_loss' was not in top 1\n"
     ]
    },
    {
     "name": "stdout",
     "output_type": "stream",
     "text": [
      "Epoch 158: |                                              | 100/? [00:17<00:00,  5.67it/s, v_num=2, train_loss=5.25e-5]"
     ]
    },
    {
     "name": "stderr",
     "output_type": "stream",
     "text": [
      "Epoch 158, global step 15900: 'train_loss' was not in top 1\n"
     ]
    },
    {
     "name": "stdout",
     "output_type": "stream",
     "text": [
      "Epoch 159: |                                              | 100/? [00:17<00:00,  5.61it/s, v_num=2, train_loss=5.02e-5]"
     ]
    },
    {
     "name": "stderr",
     "output_type": "stream",
     "text": [
      "Epoch 159, global step 16000: 'train_loss' was not in top 1\n"
     ]
    },
    {
     "name": "stdout",
     "output_type": "stream",
     "text": [
      "Epoch 160: |                                              | 100/? [00:17<00:00,  5.60it/s, v_num=2, train_loss=5.21e-5]"
     ]
    },
    {
     "name": "stderr",
     "output_type": "stream",
     "text": [
      "Epoch 160, global step 16100: 'train_loss' was not in top 1\n"
     ]
    },
    {
     "name": "stdout",
     "output_type": "stream",
     "text": [
      "Epoch 161: |                                              | 100/? [00:17<00:00,  5.60it/s, v_num=2, train_loss=4.99e-5]"
     ]
    },
    {
     "name": "stderr",
     "output_type": "stream",
     "text": [
      "Epoch 161, global step 16200: 'train_loss' was not in top 1\n"
     ]
    },
    {
     "name": "stdout",
     "output_type": "stream",
     "text": [
      "Epoch 162: |                                              | 100/? [00:17<00:00,  5.65it/s, v_num=2, train_loss=5.02e-5]"
     ]
    },
    {
     "name": "stderr",
     "output_type": "stream",
     "text": [
      "Epoch 162, global step 16300: 'train_loss' was not in top 1\n"
     ]
    },
    {
     "name": "stdout",
     "output_type": "stream",
     "text": [
      "Epoch 163: |                                              | 100/? [00:17<00:00,  5.74it/s, v_num=2, train_loss=5.31e-5]"
     ]
    },
    {
     "name": "stderr",
     "output_type": "stream",
     "text": [
      "Epoch 163, global step 16400: 'train_loss' was not in top 1\n"
     ]
    },
    {
     "name": "stdout",
     "output_type": "stream",
     "text": [
      "Epoch 164: |                                              | 100/? [00:17<00:00,  5.68it/s, v_num=2, train_loss=5.32e-5]"
     ]
    },
    {
     "name": "stderr",
     "output_type": "stream",
     "text": [
      "Epoch 164, global step 16500: 'train_loss' was not in top 1\n"
     ]
    },
    {
     "name": "stdout",
     "output_type": "stream",
     "text": [
      "Epoch 165: |                                              | 100/? [00:17<00:00,  5.60it/s, v_num=2, train_loss=5.37e-5]"
     ]
    },
    {
     "name": "stderr",
     "output_type": "stream",
     "text": [
      "Epoch 165, global step 16600: 'train_loss' was not in top 1\n"
     ]
    },
    {
     "name": "stdout",
     "output_type": "stream",
     "text": [
      "Epoch 166: |                                              | 100/? [00:17<00:00,  5.60it/s, v_num=2, train_loss=5.19e-5]"
     ]
    },
    {
     "name": "stderr",
     "output_type": "stream",
     "text": [
      "Epoch 166, global step 16700: 'train_loss' was not in top 1\n"
     ]
    },
    {
     "name": "stdout",
     "output_type": "stream",
     "text": [
      "Epoch 167: |                                              | 100/? [00:17<00:00,  5.72it/s, v_num=2, train_loss=3.35e-5]"
     ]
    },
    {
     "name": "stderr",
     "output_type": "stream",
     "text": [
      "Epoch 167, global step 16800: 'train_loss' reached 0.00003 (best 0.00003), saving model to 'C:\\\\Users\\\\falty\\\\Desktop\\\\GZS\\\\trading\\\\swing\\\\multi\\\\dobby\\\\lightning_logs\\\\version_2\\\\checkpoints\\\\epoch=167-step=16800.ckpt' as top 1\n"
     ]
    },
    {
     "name": "stdout",
     "output_type": "stream",
     "text": [
      "Epoch 168: |                                              | 100/? [00:17<00:00,  5.70it/s, v_num=2, train_loss=2.86e-5]"
     ]
    },
    {
     "name": "stderr",
     "output_type": "stream",
     "text": [
      "Epoch 168, global step 16900: 'train_loss' reached 0.00003 (best 0.00003), saving model to 'C:\\\\Users\\\\falty\\\\Desktop\\\\GZS\\\\trading\\\\swing\\\\multi\\\\dobby\\\\lightning_logs\\\\version_2\\\\checkpoints\\\\epoch=168-step=16900.ckpt' as top 1\n"
     ]
    },
    {
     "name": "stdout",
     "output_type": "stream",
     "text": [
      "Epoch 169: |                                              | 100/? [00:17<00:00,  5.65it/s, v_num=2, train_loss=3.04e-5]"
     ]
    },
    {
     "name": "stderr",
     "output_type": "stream",
     "text": [
      "Epoch 169, global step 17000: 'train_loss' was not in top 1\n"
     ]
    },
    {
     "name": "stdout",
     "output_type": "stream",
     "text": [
      "Epoch 170: |                                              | 100/? [00:17<00:00,  5.76it/s, v_num=2, train_loss=2.96e-5]"
     ]
    },
    {
     "name": "stderr",
     "output_type": "stream",
     "text": [
      "Epoch 170, global step 17100: 'train_loss' was not in top 1\n"
     ]
    },
    {
     "name": "stdout",
     "output_type": "stream",
     "text": [
      "Epoch 171: |                                              | 100/? [00:17<00:00,  5.73it/s, v_num=2, train_loss=3.06e-5]"
     ]
    },
    {
     "name": "stderr",
     "output_type": "stream",
     "text": [
      "Epoch 171, global step 17200: 'train_loss' was not in top 1\n"
     ]
    },
    {
     "name": "stdout",
     "output_type": "stream",
     "text": [
      "Epoch 172: |                                              | 100/? [00:17<00:00,  5.74it/s, v_num=2, train_loss=3.26e-5]"
     ]
    },
    {
     "name": "stderr",
     "output_type": "stream",
     "text": [
      "Epoch 172, global step 17300: 'train_loss' was not in top 1\n"
     ]
    },
    {
     "name": "stdout",
     "output_type": "stream",
     "text": [
      "Epoch 173: |                                              | 100/? [00:17<00:00,  5.75it/s, v_num=2, train_loss=2.92e-5]"
     ]
    },
    {
     "name": "stderr",
     "output_type": "stream",
     "text": [
      "Epoch 173, global step 17400: 'train_loss' was not in top 1\n"
     ]
    },
    {
     "name": "stdout",
     "output_type": "stream",
     "text": [
      "Epoch 174: |                                              | 100/? [00:17<00:00,  5.75it/s, v_num=2, train_loss=3.14e-5]"
     ]
    },
    {
     "name": "stderr",
     "output_type": "stream",
     "text": [
      "Epoch 174, global step 17500: 'train_loss' was not in top 1\n"
     ]
    },
    {
     "name": "stdout",
     "output_type": "stream",
     "text": [
      "Epoch 175: |                                              | 100/? [00:17<00:00,  5.61it/s, v_num=2, train_loss=3.12e-5]"
     ]
    },
    {
     "name": "stderr",
     "output_type": "stream",
     "text": [
      "Epoch 175, global step 17600: 'train_loss' was not in top 1\n"
     ]
    },
    {
     "name": "stdout",
     "output_type": "stream",
     "text": [
      "Epoch 176: |                                              | 100/? [00:17<00:00,  5.67it/s, v_num=2, train_loss=2.96e-5]"
     ]
    },
    {
     "name": "stderr",
     "output_type": "stream",
     "text": [
      "Epoch 176, global step 17700: 'train_loss' was not in top 1\n"
     ]
    },
    {
     "name": "stdout",
     "output_type": "stream",
     "text": [
      "Epoch 177: |                                              | 100/? [00:17<00:00,  5.65it/s, v_num=2, train_loss=2.99e-5]"
     ]
    },
    {
     "name": "stderr",
     "output_type": "stream",
     "text": [
      "Epoch 177, global step 17800: 'train_loss' was not in top 1\n"
     ]
    },
    {
     "name": "stdout",
     "output_type": "stream",
     "text": [
      "Epoch 178: |                                              | 100/? [00:17<00:00,  5.69it/s, v_num=2, train_loss=3.02e-5]"
     ]
    },
    {
     "name": "stderr",
     "output_type": "stream",
     "text": [
      "Epoch 178, global step 17900: 'train_loss' was not in top 1\n"
     ]
    },
    {
     "name": "stdout",
     "output_type": "stream",
     "text": [
      "Epoch 179: |                                              | 100/? [00:17<00:00,  5.75it/s, v_num=2, train_loss=3.15e-5]"
     ]
    },
    {
     "name": "stderr",
     "output_type": "stream",
     "text": [
      "Epoch 179, global step 18000: 'train_loss' was not in top 1\n"
     ]
    },
    {
     "name": "stdout",
     "output_type": "stream",
     "text": [
      "Epoch 180: |                                              | 100/? [00:17<00:00,  5.58it/s, v_num=2, train_loss=2.22e-5]"
     ]
    },
    {
     "name": "stderr",
     "output_type": "stream",
     "text": [
      "Epoch 180, global step 18100: 'train_loss' reached 0.00002 (best 0.00002), saving model to 'C:\\\\Users\\\\falty\\\\Desktop\\\\GZS\\\\trading\\\\swing\\\\multi\\\\dobby\\\\lightning_logs\\\\version_2\\\\checkpoints\\\\epoch=180-step=18100.ckpt' as top 1\n"
     ]
    },
    {
     "name": "stdout",
     "output_type": "stream",
     "text": [
      "Epoch 181: |                                              | 100/? [00:18<00:00,  5.55it/s, v_num=2, train_loss=1.95e-5]"
     ]
    },
    {
     "name": "stderr",
     "output_type": "stream",
     "text": [
      "Epoch 181, global step 18200: 'train_loss' reached 0.00002 (best 0.00002), saving model to 'C:\\\\Users\\\\falty\\\\Desktop\\\\GZS\\\\trading\\\\swing\\\\multi\\\\dobby\\\\lightning_logs\\\\version_2\\\\checkpoints\\\\epoch=181-step=18200.ckpt' as top 1\n"
     ]
    },
    {
     "name": "stdout",
     "output_type": "stream",
     "text": [
      "Epoch 182: |                                              | 100/? [00:17<00:00,  5.66it/s, v_num=2, train_loss=1.99e-5]"
     ]
    },
    {
     "name": "stderr",
     "output_type": "stream",
     "text": [
      "Epoch 182, global step 18300: 'train_loss' was not in top 1\n"
     ]
    },
    {
     "name": "stdout",
     "output_type": "stream",
     "text": [
      "Epoch 183: |                                              | 100/? [00:17<00:00,  5.75it/s, v_num=2, train_loss=2.03e-5]"
     ]
    },
    {
     "name": "stderr",
     "output_type": "stream",
     "text": [
      "Epoch 183, global step 18400: 'train_loss' was not in top 1\n"
     ]
    },
    {
     "name": "stdout",
     "output_type": "stream",
     "text": [
      "Epoch 184: |                                              | 100/? [00:17<00:00,  5.72it/s, v_num=2, train_loss=2.03e-5]"
     ]
    },
    {
     "name": "stderr",
     "output_type": "stream",
     "text": [
      "Epoch 184, global step 18500: 'train_loss' was not in top 1\n"
     ]
    },
    {
     "name": "stdout",
     "output_type": "stream",
     "text": [
      "Epoch 185: |                                              | 100/? [00:17<00:00,  5.73it/s, v_num=2, train_loss=2.05e-5]"
     ]
    },
    {
     "name": "stderr",
     "output_type": "stream",
     "text": [
      "Epoch 185, global step 18600: 'train_loss' was not in top 1\n"
     ]
    },
    {
     "name": "stdout",
     "output_type": "stream",
     "text": [
      "Epoch 186: |                                              | 100/? [00:17<00:00,  5.77it/s, v_num=2, train_loss=2.15e-5]"
     ]
    },
    {
     "name": "stderr",
     "output_type": "stream",
     "text": [
      "Epoch 186, global step 18700: 'train_loss' was not in top 1\n"
     ]
    },
    {
     "name": "stdout",
     "output_type": "stream",
     "text": [
      "Epoch 187: |                                              | 100/? [00:17<00:00,  5.76it/s, v_num=2, train_loss=2.05e-5]"
     ]
    },
    {
     "name": "stderr",
     "output_type": "stream",
     "text": [
      "Epoch 187, global step 18800: 'train_loss' was not in top 1\n"
     ]
    },
    {
     "name": "stdout",
     "output_type": "stream",
     "text": [
      "Epoch 188: |                                               | 100/? [00:17<00:00,  5.80it/s, v_num=2, train_loss=2.1e-5]"
     ]
    },
    {
     "name": "stderr",
     "output_type": "stream",
     "text": [
      "Epoch 188, global step 18900: 'train_loss' was not in top 1\n"
     ]
    },
    {
     "name": "stdout",
     "output_type": "stream",
     "text": [
      "Epoch 189: |                                              | 100/? [00:17<00:00,  5.76it/s, v_num=2, train_loss=2.07e-5]"
     ]
    },
    {
     "name": "stderr",
     "output_type": "stream",
     "text": [
      "Epoch 189, global step 19000: 'train_loss' was not in top 1\n"
     ]
    },
    {
     "name": "stdout",
     "output_type": "stream",
     "text": [
      "Epoch 190: |                                               | 100/? [00:17<00:00,  5.74it/s, v_num=2, train_loss=2.1e-5]"
     ]
    },
    {
     "name": "stderr",
     "output_type": "stream",
     "text": [
      "Epoch 190, global step 19100: 'train_loss' was not in top 1\n"
     ]
    },
    {
     "name": "stdout",
     "output_type": "stream",
     "text": [
      "Epoch 191: |                                                 | 100/? [00:17<00:00,  5.67it/s, v_num=2, train_loss=2e-5]"
     ]
    },
    {
     "name": "stderr",
     "output_type": "stream",
     "text": [
      "Epoch 191, global step 19200: 'train_loss' was not in top 1\n"
     ]
    },
    {
     "name": "stdout",
     "output_type": "stream",
     "text": [
      "Epoch 192: |                                              | 100/? [00:17<00:00,  5.56it/s, v_num=2, train_loss=2.05e-5]"
     ]
    },
    {
     "name": "stderr",
     "output_type": "stream",
     "text": [
      "Epoch 192, global step 19300: 'train_loss' was not in top 1\n"
     ]
    },
    {
     "name": "stdout",
     "output_type": "stream",
     "text": [
      "Epoch 193: |                                              | 100/? [00:18<00:00,  5.55it/s, v_num=2, train_loss=1.62e-5]"
     ]
    },
    {
     "name": "stderr",
     "output_type": "stream",
     "text": [
      "Epoch 193, global step 19400: 'train_loss' reached 0.00002 (best 0.00002), saving model to 'C:\\\\Users\\\\falty\\\\Desktop\\\\GZS\\\\trading\\\\swing\\\\multi\\\\dobby\\\\lightning_logs\\\\version_2\\\\checkpoints\\\\epoch=193-step=19400.ckpt' as top 1\n"
     ]
    },
    {
     "name": "stdout",
     "output_type": "stream",
     "text": [
      "Epoch 194: |                                              | 100/? [00:17<00:00,  5.67it/s, v_num=2, train_loss=1.55e-5]"
     ]
    },
    {
     "name": "stderr",
     "output_type": "stream",
     "text": [
      "Epoch 194, global step 19500: 'train_loss' reached 0.00002 (best 0.00002), saving model to 'C:\\\\Users\\\\falty\\\\Desktop\\\\GZS\\\\trading\\\\swing\\\\multi\\\\dobby\\\\lightning_logs\\\\version_2\\\\checkpoints\\\\epoch=194-step=19500.ckpt' as top 1\n"
     ]
    },
    {
     "name": "stdout",
     "output_type": "stream",
     "text": [
      "Epoch 195: |                                              | 100/? [00:18<00:00,  5.50it/s, v_num=2, train_loss=1.58e-5]"
     ]
    },
    {
     "name": "stderr",
     "output_type": "stream",
     "text": [
      "Epoch 195, global step 19600: 'train_loss' was not in top 1\n"
     ]
    },
    {
     "name": "stdout",
     "output_type": "stream",
     "text": [
      "Epoch 196: |                                              | 100/? [00:17<00:00,  5.64it/s, v_num=2, train_loss=1.53e-5]"
     ]
    },
    {
     "name": "stderr",
     "output_type": "stream",
     "text": [
      "Epoch 196, global step 19700: 'train_loss' reached 0.00002 (best 0.00002), saving model to 'C:\\\\Users\\\\falty\\\\Desktop\\\\GZS\\\\trading\\\\swing\\\\multi\\\\dobby\\\\lightning_logs\\\\version_2\\\\checkpoints\\\\epoch=196-step=19700.ckpt' as top 1\n"
     ]
    },
    {
     "name": "stdout",
     "output_type": "stream",
     "text": [
      "Epoch 197: |                                              | 100/? [00:18<00:00,  5.52it/s, v_num=2, train_loss=1.55e-5]"
     ]
    },
    {
     "name": "stderr",
     "output_type": "stream",
     "text": [
      "Epoch 197, global step 19800: 'train_loss' was not in top 1\n"
     ]
    },
    {
     "name": "stdout",
     "output_type": "stream",
     "text": [
      "Epoch 198: |                                              | 100/? [00:17<00:00,  5.73it/s, v_num=2, train_loss=1.56e-5]"
     ]
    },
    {
     "name": "stderr",
     "output_type": "stream",
     "text": [
      "Epoch 198, global step 19900: 'train_loss' was not in top 1\n"
     ]
    },
    {
     "name": "stdout",
     "output_type": "stream",
     "text": [
      "Epoch 199: |                                              | 100/? [00:17<00:00,  5.69it/s, v_num=2, train_loss=1.58e-5]"
     ]
    },
    {
     "name": "stderr",
     "output_type": "stream",
     "text": [
      "Epoch 199, global step 20000: 'train_loss' was not in top 1\n"
     ]
    },
    {
     "name": "stdout",
     "output_type": "stream",
     "text": [
      "Epoch 200: |                                              | 100/? [00:17<00:00,  5.67it/s, v_num=2, train_loss=1.56e-5]"
     ]
    },
    {
     "name": "stderr",
     "output_type": "stream",
     "text": [
      "Epoch 200, global step 20100: 'train_loss' was not in top 1\n"
     ]
    },
    {
     "name": "stdout",
     "output_type": "stream",
     "text": [
      "Epoch 201: |                                              | 100/? [00:17<00:00,  5.66it/s, v_num=2, train_loss=1.55e-5]"
     ]
    },
    {
     "name": "stderr",
     "output_type": "stream",
     "text": [
      "Epoch 201, global step 20200: 'train_loss' was not in top 1\n"
     ]
    },
    {
     "name": "stdout",
     "output_type": "stream",
     "text": [
      "Epoch 202: |                                              | 100/? [00:17<00:00,  5.68it/s, v_num=2, train_loss=1.55e-5]"
     ]
    },
    {
     "name": "stderr",
     "output_type": "stream",
     "text": [
      "Epoch 202, global step 20300: 'train_loss' was not in top 1\n"
     ]
    },
    {
     "name": "stdout",
     "output_type": "stream",
     "text": [
      "Epoch 203: |                                              | 100/? [00:17<00:00,  5.70it/s, v_num=2, train_loss=1.58e-5]"
     ]
    },
    {
     "name": "stderr",
     "output_type": "stream",
     "text": [
      "Epoch 203, global step 20400: 'train_loss' was not in top 1\n"
     ]
    },
    {
     "name": "stdout",
     "output_type": "stream",
     "text": [
      "Epoch 204: |                                              | 100/? [00:17<00:00,  5.73it/s, v_num=2, train_loss=1.55e-5]"
     ]
    },
    {
     "name": "stderr",
     "output_type": "stream",
     "text": [
      "Epoch 204, global step 20500: 'train_loss' was not in top 1\n"
     ]
    },
    {
     "name": "stdout",
     "output_type": "stream",
     "text": [
      "Epoch 205: |                                              | 100/? [00:17<00:00,  5.76it/s, v_num=2, train_loss=1.55e-5]"
     ]
    },
    {
     "name": "stderr",
     "output_type": "stream",
     "text": [
      "Epoch 205, global step 20600: 'train_loss' was not in top 1\n"
     ]
    },
    {
     "name": "stdout",
     "output_type": "stream",
     "text": [
      "Epoch 206: |                                              | 100/? [00:17<00:00,  5.74it/s, v_num=2, train_loss=1.56e-5]"
     ]
    },
    {
     "name": "stderr",
     "output_type": "stream",
     "text": [
      "Epoch 206, global step 20700: 'train_loss' was not in top 1\n"
     ]
    },
    {
     "name": "stdout",
     "output_type": "stream",
     "text": [
      "Epoch 207: |                                              | 100/? [00:17<00:00,  5.78it/s, v_num=2, train_loss=1.53e-5]"
     ]
    },
    {
     "name": "stderr",
     "output_type": "stream",
     "text": [
      "Epoch 207, global step 20800: 'train_loss' was not in top 1\n"
     ]
    },
    {
     "name": "stdout",
     "output_type": "stream",
     "text": [
      "Epoch 208: |                                              | 100/? [00:17<00:00,  5.76it/s, v_num=2, train_loss=1.38e-5]"
     ]
    },
    {
     "name": "stderr",
     "output_type": "stream",
     "text": [
      "Epoch 208, global step 20900: 'train_loss' reached 0.00001 (best 0.00001), saving model to 'C:\\\\Users\\\\falty\\\\Desktop\\\\GZS\\\\trading\\\\swing\\\\multi\\\\dobby\\\\lightning_logs\\\\version_2\\\\checkpoints\\\\epoch=208-step=20900.ckpt' as top 1\n"
     ]
    },
    {
     "name": "stdout",
     "output_type": "stream",
     "text": [
      "Epoch 209: |                                              | 100/? [00:17<00:00,  5.59it/s, v_num=2, train_loss=1.33e-5]"
     ]
    },
    {
     "name": "stderr",
     "output_type": "stream",
     "text": [
      "Epoch 209, global step 21000: 'train_loss' reached 0.00001 (best 0.00001), saving model to 'C:\\\\Users\\\\falty\\\\Desktop\\\\GZS\\\\trading\\\\swing\\\\multi\\\\dobby\\\\lightning_logs\\\\version_2\\\\checkpoints\\\\epoch=209-step=21000.ckpt' as top 1\n"
     ]
    },
    {
     "name": "stdout",
     "output_type": "stream",
     "text": [
      "Epoch 210: |                                              | 100/? [00:17<00:00,  5.62it/s, v_num=2, train_loss=1.35e-5]"
     ]
    },
    {
     "name": "stderr",
     "output_type": "stream",
     "text": [
      "Epoch 210, global step 21100: 'train_loss' was not in top 1\n"
     ]
    },
    {
     "name": "stdout",
     "output_type": "stream",
     "text": [
      "Epoch 211: |                                              | 100/? [00:17<00:00,  5.76it/s, v_num=2, train_loss=1.33e-5]"
     ]
    },
    {
     "name": "stderr",
     "output_type": "stream",
     "text": [
      "Epoch 211, global step 21200: 'train_loss' reached 0.00001 (best 0.00001), saving model to 'C:\\\\Users\\\\falty\\\\Desktop\\\\GZS\\\\trading\\\\swing\\\\multi\\\\dobby\\\\lightning_logs\\\\version_2\\\\checkpoints\\\\epoch=211-step=21200.ckpt' as top 1\n"
     ]
    },
    {
     "name": "stdout",
     "output_type": "stream",
     "text": [
      "Epoch 212: |                                              | 100/? [00:17<00:00,  5.62it/s, v_num=2, train_loss=1.34e-5]"
     ]
    },
    {
     "name": "stderr",
     "output_type": "stream",
     "text": [
      "Epoch 212, global step 21300: 'train_loss' was not in top 1\n"
     ]
    },
    {
     "name": "stdout",
     "output_type": "stream",
     "text": [
      "Epoch 213: |                                              | 100/? [00:17<00:00,  5.75it/s, v_num=2, train_loss=1.36e-5]"
     ]
    },
    {
     "name": "stderr",
     "output_type": "stream",
     "text": [
      "Epoch 213, global step 21400: 'train_loss' was not in top 1\n"
     ]
    },
    {
     "name": "stdout",
     "output_type": "stream",
     "text": [
      "Epoch 214: |                                              | 100/? [00:17<00:00,  5.79it/s, v_num=2, train_loss=1.36e-5]"
     ]
    },
    {
     "name": "stderr",
     "output_type": "stream",
     "text": [
      "Epoch 214, global step 21500: 'train_loss' was not in top 1\n"
     ]
    },
    {
     "name": "stdout",
     "output_type": "stream",
     "text": [
      "Epoch 215: |                                              | 100/? [00:17<00:00,  5.68it/s, v_num=2, train_loss=1.35e-5]"
     ]
    },
    {
     "name": "stderr",
     "output_type": "stream",
     "text": [
      "Epoch 215, global step 21600: 'train_loss' was not in top 1\n"
     ]
    },
    {
     "name": "stdout",
     "output_type": "stream",
     "text": [
      "Epoch 216: |                                              | 100/? [00:17<00:00,  5.72it/s, v_num=2, train_loss=1.33e-5]"
     ]
    },
    {
     "name": "stderr",
     "output_type": "stream",
     "text": [
      "Epoch 216, global step 21700: 'train_loss' was not in top 1\n"
     ]
    },
    {
     "name": "stdout",
     "output_type": "stream",
     "text": [
      "Epoch 217: |                                              | 100/? [00:17<00:00,  5.76it/s, v_num=2, train_loss=1.35e-5]"
     ]
    },
    {
     "name": "stderr",
     "output_type": "stream",
     "text": [
      "Epoch 217, global step 21800: 'train_loss' was not in top 1\n"
     ]
    },
    {
     "name": "stdout",
     "output_type": "stream",
     "text": [
      "Epoch 218: |                                              | 100/? [00:17<00:00,  5.71it/s, v_num=2, train_loss=1.35e-5]"
     ]
    },
    {
     "name": "stderr",
     "output_type": "stream",
     "text": [
      "Epoch 218, global step 21900: 'train_loss' was not in top 1\n"
     ]
    },
    {
     "name": "stdout",
     "output_type": "stream",
     "text": [
      "Epoch 219: |                                              | 100/? [00:17<00:00,  5.75it/s, v_num=2, train_loss=1.34e-5]"
     ]
    },
    {
     "name": "stderr",
     "output_type": "stream",
     "text": [
      "Epoch 219, global step 22000: 'train_loss' was not in top 1\n"
     ]
    },
    {
     "name": "stdout",
     "output_type": "stream",
     "text": [
      "Epoch 220: |                                              | 100/? [00:17<00:00,  5.77it/s, v_num=2, train_loss=1.32e-5]"
     ]
    },
    {
     "name": "stderr",
     "output_type": "stream",
     "text": [
      "Epoch 220, global step 22100: 'train_loss' reached 0.00001 (best 0.00001), saving model to 'C:\\\\Users\\\\falty\\\\Desktop\\\\GZS\\\\trading\\\\swing\\\\multi\\\\dobby\\\\lightning_logs\\\\version_2\\\\checkpoints\\\\epoch=220-step=22100.ckpt' as top 1\n"
     ]
    },
    {
     "name": "stdout",
     "output_type": "stream",
     "text": [
      "Epoch 221: |                                              | 100/? [00:17<00:00,  5.63it/s, v_num=2, train_loss=1.34e-5]"
     ]
    },
    {
     "name": "stderr",
     "output_type": "stream",
     "text": [
      "Epoch 221, global step 22200: 'train_loss' was not in top 1\n"
     ]
    },
    {
     "name": "stdout",
     "output_type": "stream",
     "text": [
      "Epoch 222: |                                              | 100/? [00:17<00:00,  5.74it/s, v_num=2, train_loss=1.33e-5]"
     ]
    },
    {
     "name": "stderr",
     "output_type": "stream",
     "text": [
      "Epoch 222, global step 22300: 'train_loss' was not in top 1\n"
     ]
    },
    {
     "name": "stdout",
     "output_type": "stream",
     "text": [
      "Epoch 223: |                                              | 100/? [00:17<00:00,  5.73it/s, v_num=2, train_loss=1.33e-5]"
     ]
    },
    {
     "name": "stderr",
     "output_type": "stream",
     "text": [
      "Epoch 223, global step 22400: 'train_loss' was not in top 1\n"
     ]
    },
    {
     "name": "stdout",
     "output_type": "stream",
     "text": [
      "Epoch 224: |                                              | 100/? [00:17<00:00,  5.77it/s, v_num=2, train_loss=1.32e-5]"
     ]
    },
    {
     "name": "stderr",
     "output_type": "stream",
     "text": [
      "Epoch 224, global step 22500: 'train_loss' was not in top 1\n"
     ]
    },
    {
     "name": "stdout",
     "output_type": "stream",
     "text": [
      "Epoch 225: |                                              | 100/? [00:17<00:00,  5.67it/s, v_num=2, train_loss=1.33e-5]"
     ]
    },
    {
     "name": "stderr",
     "output_type": "stream",
     "text": [
      "Epoch 225, global step 22600: 'train_loss' was not in top 1\n"
     ]
    },
    {
     "name": "stdout",
     "output_type": "stream",
     "text": [
      "Epoch 226: |                                              | 100/? [00:17<00:00,  5.71it/s, v_num=2, train_loss=1.32e-5]"
     ]
    },
    {
     "name": "stderr",
     "output_type": "stream",
     "text": [
      "Epoch 226, global step 22700: 'train_loss' was not in top 1\n"
     ]
    },
    {
     "name": "stdout",
     "output_type": "stream",
     "text": [
      "Epoch 227: |                                              | 100/? [00:17<00:00,  5.74it/s, v_num=2, train_loss=1.33e-5]"
     ]
    },
    {
     "name": "stderr",
     "output_type": "stream",
     "text": [
      "Epoch 227, global step 22800: 'train_loss' was not in top 1\n"
     ]
    },
    {
     "name": "stdout",
     "output_type": "stream",
     "text": [
      "Epoch 228: |                                              | 100/? [00:17<00:00,  5.77it/s, v_num=2, train_loss=1.32e-5]"
     ]
    },
    {
     "name": "stderr",
     "output_type": "stream",
     "text": [
      "Epoch 228, global step 22900: 'train_loss' was not in top 1\n"
     ]
    },
    {
     "name": "stdout",
     "output_type": "stream",
     "text": [
      "Epoch 229: |                                              | 100/? [00:17<00:00,  5.77it/s, v_num=2, train_loss=1.33e-5]"
     ]
    },
    {
     "name": "stderr",
     "output_type": "stream",
     "text": [
      "Epoch 229, global step 23000: 'train_loss' was not in top 1\n"
     ]
    },
    {
     "name": "stdout",
     "output_type": "stream",
     "text": [
      "Epoch 230: |                                              | 100/? [00:17<00:00,  5.75it/s, v_num=2, train_loss=1.33e-5]"
     ]
    },
    {
     "name": "stderr",
     "output_type": "stream",
     "text": [
      "Epoch 230, global step 23100: 'train_loss' was not in top 1\n"
     ]
    },
    {
     "name": "stdout",
     "output_type": "stream",
     "text": [
      "Epoch 231: |                                              | 100/? [00:17<00:00,  5.75it/s, v_num=2, train_loss=1.33e-5]"
     ]
    },
    {
     "name": "stderr",
     "output_type": "stream",
     "text": [
      "Epoch 231, global step 23200: 'train_loss' was not in top 1\n"
     ]
    },
    {
     "name": "stdout",
     "output_type": "stream",
     "text": [
      "Epoch 232: |                                              | 100/? [00:17<00:00,  5.77it/s, v_num=2, train_loss=1.25e-5]"
     ]
    },
    {
     "name": "stderr",
     "output_type": "stream",
     "text": [
      "Epoch 232, global step 23300: 'train_loss' reached 0.00001 (best 0.00001), saving model to 'C:\\\\Users\\\\falty\\\\Desktop\\\\GZS\\\\trading\\\\swing\\\\multi\\\\dobby\\\\lightning_logs\\\\version_2\\\\checkpoints\\\\epoch=232-step=23300.ckpt' as top 1\n"
     ]
    },
    {
     "name": "stdout",
     "output_type": "stream",
     "text": [
      "Epoch 233: |                                              | 100/? [00:17<00:00,  5.62it/s, v_num=2, train_loss=1.22e-5]"
     ]
    },
    {
     "name": "stderr",
     "output_type": "stream",
     "text": [
      "Epoch 233, global step 23400: 'train_loss' reached 0.00001 (best 0.00001), saving model to 'C:\\\\Users\\\\falty\\\\Desktop\\\\GZS\\\\trading\\\\swing\\\\multi\\\\dobby\\\\lightning_logs\\\\version_2\\\\checkpoints\\\\epoch=233-step=23400.ckpt' as top 1\n"
     ]
    },
    {
     "name": "stdout",
     "output_type": "stream",
     "text": [
      "Epoch 234: |                                              | 100/? [00:17<00:00,  5.69it/s, v_num=2, train_loss=1.22e-5]"
     ]
    },
    {
     "name": "stderr",
     "output_type": "stream",
     "text": [
      "Epoch 234, global step 23500: 'train_loss' reached 0.00001 (best 0.00001), saving model to 'C:\\\\Users\\\\falty\\\\Desktop\\\\GZS\\\\trading\\\\swing\\\\multi\\\\dobby\\\\lightning_logs\\\\version_2\\\\checkpoints\\\\epoch=234-step=23500.ckpt' as top 1\n"
     ]
    },
    {
     "name": "stdout",
     "output_type": "stream",
     "text": [
      "Epoch 235: |                                              | 100/? [00:17<00:00,  5.69it/s, v_num=2, train_loss=1.23e-5]"
     ]
    },
    {
     "name": "stderr",
     "output_type": "stream",
     "text": [
      "Epoch 235, global step 23600: 'train_loss' was not in top 1\n"
     ]
    },
    {
     "name": "stdout",
     "output_type": "stream",
     "text": [
      "Epoch 236: |                                              | 100/? [00:17<00:00,  5.72it/s, v_num=2, train_loss=1.21e-5]"
     ]
    },
    {
     "name": "stderr",
     "output_type": "stream",
     "text": [
      "Epoch 236, global step 23700: 'train_loss' reached 0.00001 (best 0.00001), saving model to 'C:\\\\Users\\\\falty\\\\Desktop\\\\GZS\\\\trading\\\\swing\\\\multi\\\\dobby\\\\lightning_logs\\\\version_2\\\\checkpoints\\\\epoch=236-step=23700.ckpt' as top 1\n"
     ]
    },
    {
     "name": "stdout",
     "output_type": "stream",
     "text": [
      "Epoch 237: |                                              | 100/? [00:17<00:00,  5.63it/s, v_num=2, train_loss=1.21e-5]"
     ]
    },
    {
     "name": "stderr",
     "output_type": "stream",
     "text": [
      "Epoch 237, global step 23800: 'train_loss' reached 0.00001 (best 0.00001), saving model to 'C:\\\\Users\\\\falty\\\\Desktop\\\\GZS\\\\trading\\\\swing\\\\multi\\\\dobby\\\\lightning_logs\\\\version_2\\\\checkpoints\\\\epoch=237-step=23800.ckpt' as top 1\n"
     ]
    },
    {
     "name": "stdout",
     "output_type": "stream",
     "text": [
      "Epoch 238: |                                              | 100/? [00:17<00:00,  5.67it/s, v_num=2, train_loss=1.23e-5]"
     ]
    },
    {
     "name": "stderr",
     "output_type": "stream",
     "text": [
      "Epoch 238, global step 23900: 'train_loss' was not in top 1\n"
     ]
    },
    {
     "name": "stdout",
     "output_type": "stream",
     "text": [
      "Epoch 239: |                                              | 100/? [00:17<00:00,  5.75it/s, v_num=2, train_loss=1.22e-5]"
     ]
    },
    {
     "name": "stderr",
     "output_type": "stream",
     "text": [
      "Epoch 239, global step 24000: 'train_loss' was not in top 1\n"
     ]
    },
    {
     "name": "stdout",
     "output_type": "stream",
     "text": [
      "Epoch 240: |                                              | 100/? [00:17<00:00,  5.72it/s, v_num=2, train_loss=1.23e-5]"
     ]
    },
    {
     "name": "stderr",
     "output_type": "stream",
     "text": [
      "Epoch 240, global step 24100: 'train_loss' was not in top 1\n"
     ]
    },
    {
     "name": "stdout",
     "output_type": "stream",
     "text": [
      "Epoch 241: |                                              | 100/? [00:17<00:00,  5.77it/s, v_num=2, train_loss=1.22e-5]"
     ]
    },
    {
     "name": "stderr",
     "output_type": "stream",
     "text": [
      "Epoch 241, global step 24200: 'train_loss' was not in top 1\n"
     ]
    },
    {
     "name": "stdout",
     "output_type": "stream",
     "text": [
      "Epoch 242: |                                              | 100/? [00:17<00:00,  5.73it/s, v_num=2, train_loss=1.21e-5]"
     ]
    },
    {
     "name": "stderr",
     "output_type": "stream",
     "text": [
      "Epoch 242, global step 24300: 'train_loss' reached 0.00001 (best 0.00001), saving model to 'C:\\\\Users\\\\falty\\\\Desktop\\\\GZS\\\\trading\\\\swing\\\\multi\\\\dobby\\\\lightning_logs\\\\version_2\\\\checkpoints\\\\epoch=242-step=24300.ckpt' as top 1\n"
     ]
    },
    {
     "name": "stdout",
     "output_type": "stream",
     "text": [
      "Epoch 243: |                                              | 100/? [00:17<00:00,  5.70it/s, v_num=2, train_loss=1.21e-5]"
     ]
    },
    {
     "name": "stderr",
     "output_type": "stream",
     "text": [
      "Epoch 243, global step 24400: 'train_loss' reached 0.00001 (best 0.00001), saving model to 'C:\\\\Users\\\\falty\\\\Desktop\\\\GZS\\\\trading\\\\swing\\\\multi\\\\dobby\\\\lightning_logs\\\\version_2\\\\checkpoints\\\\epoch=243-step=24400.ckpt' as top 1\n"
     ]
    },
    {
     "name": "stdout",
     "output_type": "stream",
     "text": [
      "Epoch 244: |                                              | 100/? [00:17<00:00,  5.66it/s, v_num=2, train_loss=1.24e-5]"
     ]
    },
    {
     "name": "stderr",
     "output_type": "stream",
     "text": [
      "Epoch 244, global step 24500: 'train_loss' was not in top 1\n"
     ]
    },
    {
     "name": "stdout",
     "output_type": "stream",
     "text": [
      "Epoch 245: |                                              | 100/? [00:17<00:00,  5.68it/s, v_num=2, train_loss=1.23e-5]"
     ]
    },
    {
     "name": "stderr",
     "output_type": "stream",
     "text": [
      "Epoch 245, global step 24600: 'train_loss' was not in top 1\n"
     ]
    },
    {
     "name": "stdout",
     "output_type": "stream",
     "text": [
      "Epoch 246: |                                              | 100/? [00:17<00:00,  5.70it/s, v_num=2, train_loss=1.23e-5]"
     ]
    },
    {
     "name": "stderr",
     "output_type": "stream",
     "text": [
      "Epoch 246, global step 24700: 'train_loss' was not in top 1\n"
     ]
    },
    {
     "name": "stdout",
     "output_type": "stream",
     "text": [
      "Epoch 247: |                                              | 100/? [00:17<00:00,  5.79it/s, v_num=2, train_loss=1.22e-5]"
     ]
    },
    {
     "name": "stderr",
     "output_type": "stream",
     "text": [
      "Epoch 247, global step 24800: 'train_loss' was not in top 1\n"
     ]
    },
    {
     "name": "stdout",
     "output_type": "stream",
     "text": [
      "Epoch 248: |                                              | 100/? [00:17<00:00,  5.75it/s, v_num=2, train_loss=1.22e-5]"
     ]
    },
    {
     "name": "stderr",
     "output_type": "stream",
     "text": [
      "Epoch 248, global step 24900: 'train_loss' was not in top 1\n"
     ]
    },
    {
     "name": "stdout",
     "output_type": "stream",
     "text": [
      "Epoch 249: |                                              | 100/? [00:17<00:00,  5.78it/s, v_num=2, train_loss=1.21e-5]"
     ]
    },
    {
     "name": "stderr",
     "output_type": "stream",
     "text": [
      "Epoch 249, global step 25000: 'train_loss' reached 0.00001 (best 0.00001), saving model to 'C:\\\\Users\\\\falty\\\\Desktop\\\\GZS\\\\trading\\\\swing\\\\multi\\\\dobby\\\\lightning_logs\\\\version_2\\\\checkpoints\\\\epoch=249-step=25000.ckpt' as top 1\n"
     ]
    },
    {
     "name": "stdout",
     "output_type": "stream",
     "text": [
      "Epoch 250: |                                              | 100/? [00:17<00:00,  5.67it/s, v_num=2, train_loss=1.22e-5]"
     ]
    },
    {
     "name": "stderr",
     "output_type": "stream",
     "text": [
      "Epoch 250, global step 25100: 'train_loss' was not in top 1\n"
     ]
    },
    {
     "name": "stdout",
     "output_type": "stream",
     "text": [
      "Epoch 251: |                                              | 100/? [00:17<00:00,  5.75it/s, v_num=2, train_loss=1.22e-5]"
     ]
    },
    {
     "name": "stderr",
     "output_type": "stream",
     "text": [
      "Epoch 251, global step 25200: 'train_loss' was not in top 1\n"
     ]
    },
    {
     "name": "stdout",
     "output_type": "stream",
     "text": [
      "Epoch 252: |                                              | 100/? [00:17<00:00,  5.72it/s, v_num=2, train_loss=1.21e-5]"
     ]
    },
    {
     "name": "stderr",
     "output_type": "stream",
     "text": [
      "Epoch 252, global step 25300: 'train_loss' was not in top 1\n"
     ]
    },
    {
     "name": "stdout",
     "output_type": "stream",
     "text": [
      "Epoch 253: |                                              | 100/? [00:17<00:00,  5.75it/s, v_num=2, train_loss=1.22e-5]"
     ]
    },
    {
     "name": "stderr",
     "output_type": "stream",
     "text": [
      "Epoch 253, global step 25400: 'train_loss' was not in top 1\n"
     ]
    },
    {
     "name": "stdout",
     "output_type": "stream",
     "text": [
      "Epoch 254: |                                              | 100/? [00:17<00:00,  5.77it/s, v_num=2, train_loss=1.21e-5]"
     ]
    },
    {
     "name": "stderr",
     "output_type": "stream",
     "text": [
      "Epoch 254, global step 25500: 'train_loss' reached 0.00001 (best 0.00001), saving model to 'C:\\\\Users\\\\falty\\\\Desktop\\\\GZS\\\\trading\\\\swing\\\\multi\\\\dobby\\\\lightning_logs\\\\version_2\\\\checkpoints\\\\epoch=254-step=25500.ckpt' as top 1\n"
     ]
    },
    {
     "name": "stdout",
     "output_type": "stream",
     "text": [
      "Epoch 255: |                                               | 100/? [00:17<00:00,  5.66it/s, v_num=2, train_loss=1.2e-5]"
     ]
    },
    {
     "name": "stderr",
     "output_type": "stream",
     "text": [
      "Epoch 255, global step 25600: 'train_loss' reached 0.00001 (best 0.00001), saving model to 'C:\\\\Users\\\\falty\\\\Desktop\\\\GZS\\\\trading\\\\swing\\\\multi\\\\dobby\\\\lightning_logs\\\\version_2\\\\checkpoints\\\\epoch=255-step=25600.ckpt' as top 1\n"
     ]
    },
    {
     "name": "stdout",
     "output_type": "stream",
     "text": [
      "Epoch 256: |                                               | 100/? [00:17<00:00,  5.61it/s, v_num=2, train_loss=1.2e-5]"
     ]
    },
    {
     "name": "stderr",
     "output_type": "stream",
     "text": [
      "Epoch 256, global step 25700: 'train_loss' reached 0.00001 (best 0.00001), saving model to 'C:\\\\Users\\\\falty\\\\Desktop\\\\GZS\\\\trading\\\\swing\\\\multi\\\\dobby\\\\lightning_logs\\\\version_2\\\\checkpoints\\\\epoch=256-step=25700.ckpt' as top 1\n"
     ]
    },
    {
     "name": "stdout",
     "output_type": "stream",
     "text": [
      "Epoch 257: |                                              | 100/? [00:17<00:00,  5.67it/s, v_num=2, train_loss=1.21e-5]"
     ]
    },
    {
     "name": "stderr",
     "output_type": "stream",
     "text": [
      "Epoch 257, global step 25800: 'train_loss' was not in top 1\n"
     ]
    },
    {
     "name": "stdout",
     "output_type": "stream",
     "text": [
      "Epoch 258: |                                              | 100/? [00:17<00:00,  5.75it/s, v_num=2, train_loss=1.21e-5]"
     ]
    },
    {
     "name": "stderr",
     "output_type": "stream",
     "text": [
      "Epoch 258, global step 25900: 'train_loss' was not in top 1\n"
     ]
    },
    {
     "name": "stdout",
     "output_type": "stream",
     "text": [
      "Epoch 259: |                                              | 100/? [00:17<00:00,  5.76it/s, v_num=2, train_loss=1.21e-5]"
     ]
    },
    {
     "name": "stderr",
     "output_type": "stream",
     "text": [
      "Epoch 259, global step 26000: 'train_loss' was not in top 1\n"
     ]
    },
    {
     "name": "stdout",
     "output_type": "stream",
     "text": [
      "Epoch 260: |                                               | 100/? [00:17<00:00,  5.81it/s, v_num=2, train_loss=1.2e-5]"
     ]
    },
    {
     "name": "stderr",
     "output_type": "stream",
     "text": [
      "Epoch 260, global step 26100: 'train_loss' was not in top 1\n"
     ]
    },
    {
     "name": "stdout",
     "output_type": "stream",
     "text": [
      "Epoch 261: |                                              | 100/? [00:17<00:00,  5.75it/s, v_num=2, train_loss=1.21e-5]"
     ]
    },
    {
     "name": "stderr",
     "output_type": "stream",
     "text": [
      "Epoch 261, global step 26200: 'train_loss' was not in top 1\n"
     ]
    },
    {
     "name": "stdout",
     "output_type": "stream",
     "text": [
      "Epoch 262: |                                              | 100/? [00:17<00:00,  5.70it/s, v_num=2, train_loss=1.21e-5]"
     ]
    },
    {
     "name": "stderr",
     "output_type": "stream",
     "text": [
      "Epoch 262, global step 26300: 'train_loss' was not in top 1\n"
     ]
    },
    {
     "name": "stdout",
     "output_type": "stream",
     "text": [
      "Epoch 263: |                                              | 100/? [00:17<00:00,  5.71it/s, v_num=2, train_loss=1.19e-5]"
     ]
    },
    {
     "name": "stderr",
     "output_type": "stream",
     "text": [
      "Epoch 263, global step 26400: 'train_loss' reached 0.00001 (best 0.00001), saving model to 'C:\\\\Users\\\\falty\\\\Desktop\\\\GZS\\\\trading\\\\swing\\\\multi\\\\dobby\\\\lightning_logs\\\\version_2\\\\checkpoints\\\\epoch=263-step=26400.ckpt' as top 1\n"
     ]
    },
    {
     "name": "stdout",
     "output_type": "stream",
     "text": [
      "Epoch 264: |                                              | 100/? [00:17<00:00,  5.66it/s, v_num=2, train_loss=1.21e-5]"
     ]
    },
    {
     "name": "stderr",
     "output_type": "stream",
     "text": [
      "Epoch 264, global step 26500: 'train_loss' was not in top 1\n"
     ]
    },
    {
     "name": "stdout",
     "output_type": "stream",
     "text": [
      "Epoch 265: |                                               | 100/? [00:17<00:00,  5.69it/s, v_num=2, train_loss=1.2e-5]"
     ]
    },
    {
     "name": "stderr",
     "output_type": "stream",
     "text": [
      "Epoch 265, global step 26600: 'train_loss' was not in top 1\n"
     ]
    },
    {
     "name": "stdout",
     "output_type": "stream",
     "text": [
      "Epoch 266: |                                              | 100/? [00:17<00:00,  5.63it/s, v_num=2, train_loss=1.19e-5]"
     ]
    },
    {
     "name": "stderr",
     "output_type": "stream",
     "text": [
      "Epoch 266, global step 26700: 'train_loss' was not in top 1\n"
     ]
    },
    {
     "name": "stdout",
     "output_type": "stream",
     "text": [
      "Epoch 267: |                                              | 100/? [00:17<00:00,  5.71it/s, v_num=2, train_loss=1.19e-5]"
     ]
    },
    {
     "name": "stderr",
     "output_type": "stream",
     "text": [
      "Epoch 267, global step 26800: 'train_loss' was not in top 1\n"
     ]
    },
    {
     "name": "stdout",
     "output_type": "stream",
     "text": [
      "Epoch 268: |                                              | 100/? [00:17<00:00,  5.71it/s, v_num=2, train_loss=1.19e-5]"
     ]
    },
    {
     "name": "stderr",
     "output_type": "stream",
     "text": [
      "Epoch 268, global step 26900: 'train_loss' reached 0.00001 (best 0.00001), saving model to 'C:\\\\Users\\\\falty\\\\Desktop\\\\GZS\\\\trading\\\\swing\\\\multi\\\\dobby\\\\lightning_logs\\\\version_2\\\\checkpoints\\\\epoch=268-step=26900.ckpt' as top 1\n"
     ]
    },
    {
     "name": "stdout",
     "output_type": "stream",
     "text": [
      "Epoch 269: |                                               | 100/? [00:17<00:00,  5.57it/s, v_num=2, train_loss=1.2e-5]"
     ]
    },
    {
     "name": "stderr",
     "output_type": "stream",
     "text": [
      "Epoch 269, global step 27000: 'train_loss' was not in top 1\n"
     ]
    },
    {
     "name": "stdout",
     "output_type": "stream",
     "text": [
      "Epoch 270: |                                              | 100/? [00:17<00:00,  5.56it/s, v_num=2, train_loss=1.21e-5]"
     ]
    },
    {
     "name": "stderr",
     "output_type": "stream",
     "text": [
      "Epoch 270, global step 27100: 'train_loss' was not in top 1\n"
     ]
    },
    {
     "name": "stdout",
     "output_type": "stream",
     "text": [
      "Epoch 271: |                                              | 100/? [00:17<00:00,  5.60it/s, v_num=2, train_loss=1.19e-5]"
     ]
    },
    {
     "name": "stderr",
     "output_type": "stream",
     "text": [
      "Epoch 271, global step 27200: 'train_loss' was not in top 1\n"
     ]
    },
    {
     "name": "stdout",
     "output_type": "stream",
     "text": [
      "Epoch 272: |                                              | 100/? [00:17<00:00,  5.59it/s, v_num=2, train_loss=1.18e-5]"
     ]
    },
    {
     "name": "stderr",
     "output_type": "stream",
     "text": [
      "Epoch 272, global step 27300: 'train_loss' reached 0.00001 (best 0.00001), saving model to 'C:\\\\Users\\\\falty\\\\Desktop\\\\GZS\\\\trading\\\\swing\\\\multi\\\\dobby\\\\lightning_logs\\\\version_2\\\\checkpoints\\\\epoch=272-step=27300.ckpt' as top 1\n"
     ]
    },
    {
     "name": "stdout",
     "output_type": "stream",
     "text": [
      "Epoch 273: |                                              | 100/? [00:17<00:00,  5.60it/s, v_num=2, train_loss=1.19e-5]"
     ]
    },
    {
     "name": "stderr",
     "output_type": "stream",
     "text": [
      "Epoch 273, global step 27400: 'train_loss' was not in top 1\n"
     ]
    },
    {
     "name": "stdout",
     "output_type": "stream",
     "text": [
      "Epoch 274: |                                               | 100/? [00:17<00:00,  5.62it/s, v_num=2, train_loss=1.2e-5]"
     ]
    },
    {
     "name": "stderr",
     "output_type": "stream",
     "text": [
      "Epoch 274, global step 27500: 'train_loss' was not in top 1\n"
     ]
    },
    {
     "name": "stdout",
     "output_type": "stream",
     "text": [
      "Epoch 275: |                                              | 100/? [00:17<00:00,  5.57it/s, v_num=2, train_loss=1.19e-5]"
     ]
    },
    {
     "name": "stderr",
     "output_type": "stream",
     "text": [
      "Epoch 275, global step 27600: 'train_loss' was not in top 1\n"
     ]
    },
    {
     "name": "stdout",
     "output_type": "stream",
     "text": [
      "Epoch 276: |                                              | 100/? [00:17<00:00,  5.66it/s, v_num=2, train_loss=1.21e-5]"
     ]
    },
    {
     "name": "stderr",
     "output_type": "stream",
     "text": [
      "Epoch 276, global step 27700: 'train_loss' was not in top 1\n"
     ]
    },
    {
     "name": "stdout",
     "output_type": "stream",
     "text": [
      "Epoch 277: |                                              | 100/? [00:17<00:00,  5.69it/s, v_num=2, train_loss=1.19e-5]"
     ]
    },
    {
     "name": "stderr",
     "output_type": "stream",
     "text": [
      "Epoch 277, global step 27800: 'train_loss' was not in top 1\n"
     ]
    },
    {
     "name": "stdout",
     "output_type": "stream",
     "text": [
      "Epoch 278: |                                              | 100/? [00:17<00:00,  5.70it/s, v_num=2, train_loss=1.18e-5]"
     ]
    },
    {
     "name": "stderr",
     "output_type": "stream",
     "text": [
      "Epoch 278, global step 27900: 'train_loss' reached 0.00001 (best 0.00001), saving model to 'C:\\\\Users\\\\falty\\\\Desktop\\\\GZS\\\\trading\\\\swing\\\\multi\\\\dobby\\\\lightning_logs\\\\version_2\\\\checkpoints\\\\epoch=278-step=27900.ckpt' as top 1\n"
     ]
    },
    {
     "name": "stdout",
     "output_type": "stream",
     "text": [
      "Epoch 279: |                                               | 100/? [00:18<00:00,  5.54it/s, v_num=2, train_loss=1.2e-5]"
     ]
    },
    {
     "name": "stderr",
     "output_type": "stream",
     "text": [
      "Epoch 279, global step 28000: 'train_loss' was not in top 1\n"
     ]
    },
    {
     "name": "stdout",
     "output_type": "stream",
     "text": [
      "Epoch 280: |                                              | 100/? [00:17<00:00,  5.60it/s, v_num=2, train_loss=1.18e-5]"
     ]
    },
    {
     "name": "stderr",
     "output_type": "stream",
     "text": [
      "Epoch 280, global step 28100: 'train_loss' was not in top 1\n"
     ]
    },
    {
     "name": "stdout",
     "output_type": "stream",
     "text": [
      "Epoch 281: |                                              | 100/? [00:17<00:00,  5.65it/s, v_num=2, train_loss=1.19e-5]"
     ]
    },
    {
     "name": "stderr",
     "output_type": "stream",
     "text": [
      "Epoch 281, global step 28200: 'train_loss' was not in top 1\n"
     ]
    },
    {
     "name": "stdout",
     "output_type": "stream",
     "text": [
      "Epoch 282: |                                              | 100/? [00:18<00:00,  5.53it/s, v_num=2, train_loss=1.19e-5]"
     ]
    },
    {
     "name": "stderr",
     "output_type": "stream",
     "text": [
      "Epoch 282, global step 28300: 'train_loss' was not in top 1\n"
     ]
    },
    {
     "name": "stdout",
     "output_type": "stream",
     "text": [
      "Epoch 283: |                                              | 100/? [00:17<00:00,  5.64it/s, v_num=2, train_loss=1.19e-5]"
     ]
    },
    {
     "name": "stderr",
     "output_type": "stream",
     "text": [
      "Epoch 283, global step 28400: 'train_loss' was not in top 1\n"
     ]
    },
    {
     "name": "stdout",
     "output_type": "stream",
     "text": [
      "Epoch 284: |                                              | 100/? [00:17<00:00,  5.69it/s, v_num=2, train_loss=1.18e-5]"
     ]
    },
    {
     "name": "stderr",
     "output_type": "stream",
     "text": [
      "Epoch 284, global step 28500: 'train_loss' was not in top 1\n"
     ]
    },
    {
     "name": "stdout",
     "output_type": "stream",
     "text": [
      "Epoch 285: |                                              | 100/? [00:17<00:00,  5.69it/s, v_num=2, train_loss=1.19e-5]"
     ]
    },
    {
     "name": "stderr",
     "output_type": "stream",
     "text": [
      "Epoch 285, global step 28600: 'train_loss' was not in top 1\n"
     ]
    },
    {
     "name": "stdout",
     "output_type": "stream",
     "text": [
      "Epoch 286: |                                              | 100/? [00:17<00:00,  5.62it/s, v_num=2, train_loss=1.19e-5]"
     ]
    },
    {
     "name": "stderr",
     "output_type": "stream",
     "text": [
      "Epoch 286, global step 28700: 'train_loss' was not in top 1\n"
     ]
    },
    {
     "name": "stdout",
     "output_type": "stream",
     "text": [
      "Epoch 287: |                                              | 100/? [00:18<00:00,  5.52it/s, v_num=2, train_loss=1.18e-5]"
     ]
    },
    {
     "name": "stderr",
     "output_type": "stream",
     "text": [
      "Epoch 287, global step 28800: 'train_loss' was not in top 1\n"
     ]
    },
    {
     "name": "stdout",
     "output_type": "stream",
     "text": [
      "Epoch 288: |                                              | 100/? [00:18<00:00,  5.41it/s, v_num=2, train_loss=1.18e-5]"
     ]
    },
    {
     "name": "stderr",
     "output_type": "stream",
     "text": [
      "Epoch 288, global step 28900: 'train_loss' was not in top 1\n"
     ]
    },
    {
     "name": "stdout",
     "output_type": "stream",
     "text": [
      "Epoch 289: |                                              | 100/? [00:18<00:00,  5.54it/s, v_num=2, train_loss=1.18e-5]"
     ]
    },
    {
     "name": "stderr",
     "output_type": "stream",
     "text": [
      "Epoch 289, global step 29000: 'train_loss' was not in top 1\n"
     ]
    },
    {
     "name": "stdout",
     "output_type": "stream",
     "text": [
      "Epoch 290: |                                              | 100/? [00:18<00:00,  5.52it/s, v_num=2, train_loss=1.14e-5]"
     ]
    },
    {
     "name": "stderr",
     "output_type": "stream",
     "text": [
      "Epoch 290, global step 29100: 'train_loss' reached 0.00001 (best 0.00001), saving model to 'C:\\\\Users\\\\falty\\\\Desktop\\\\GZS\\\\trading\\\\swing\\\\multi\\\\dobby\\\\lightning_logs\\\\version_2\\\\checkpoints\\\\epoch=290-step=29100.ckpt' as top 1\n"
     ]
    },
    {
     "name": "stdout",
     "output_type": "stream",
     "text": [
      "Epoch 291: |                                              | 100/? [00:18<00:00,  5.41it/s, v_num=2, train_loss=1.15e-5]"
     ]
    },
    {
     "name": "stderr",
     "output_type": "stream",
     "text": [
      "Epoch 291, global step 29200: 'train_loss' was not in top 1\n"
     ]
    },
    {
     "name": "stdout",
     "output_type": "stream",
     "text": [
      "Epoch 292: |                                              | 100/? [00:18<00:00,  5.48it/s, v_num=2, train_loss=1.14e-5]"
     ]
    },
    {
     "name": "stderr",
     "output_type": "stream",
     "text": [
      "Epoch 292, global step 29300: 'train_loss' reached 0.00001 (best 0.00001), saving model to 'C:\\\\Users\\\\falty\\\\Desktop\\\\GZS\\\\trading\\\\swing\\\\multi\\\\dobby\\\\lightning_logs\\\\version_2\\\\checkpoints\\\\epoch=292-step=29300.ckpt' as top 1\n"
     ]
    },
    {
     "name": "stdout",
     "output_type": "stream",
     "text": [
      "Epoch 293: |                                              | 100/? [00:18<00:00,  5.50it/s, v_num=2, train_loss=1.14e-5]"
     ]
    },
    {
     "name": "stderr",
     "output_type": "stream",
     "text": [
      "Epoch 293, global step 29400: 'train_loss' was not in top 1\n"
     ]
    },
    {
     "name": "stdout",
     "output_type": "stream",
     "text": [
      "Epoch 294: |                                              | 100/? [00:18<00:00,  5.53it/s, v_num=2, train_loss=1.13e-5]"
     ]
    },
    {
     "name": "stderr",
     "output_type": "stream",
     "text": [
      "Epoch 294, global step 29500: 'train_loss' reached 0.00001 (best 0.00001), saving model to 'C:\\\\Users\\\\falty\\\\Desktop\\\\GZS\\\\trading\\\\swing\\\\multi\\\\dobby\\\\lightning_logs\\\\version_2\\\\checkpoints\\\\epoch=294-step=29500.ckpt' as top 1\n"
     ]
    },
    {
     "name": "stdout",
     "output_type": "stream",
     "text": [
      "Epoch 295: |                                              | 100/? [00:18<00:00,  5.42it/s, v_num=2, train_loss=1.13e-5]"
     ]
    },
    {
     "name": "stderr",
     "output_type": "stream",
     "text": [
      "Epoch 295, global step 29600: 'train_loss' reached 0.00001 (best 0.00001), saving model to 'C:\\\\Users\\\\falty\\\\Desktop\\\\GZS\\\\trading\\\\swing\\\\multi\\\\dobby\\\\lightning_logs\\\\version_2\\\\checkpoints\\\\epoch=295-step=29600.ckpt' as top 1\n"
     ]
    },
    {
     "name": "stdout",
     "output_type": "stream",
     "text": [
      "Epoch 296: |                                              | 100/? [00:18<00:00,  5.34it/s, v_num=2, train_loss=1.13e-5]"
     ]
    },
    {
     "name": "stderr",
     "output_type": "stream",
     "text": [
      "Epoch 296, global step 29700: 'train_loss' was not in top 1\n"
     ]
    },
    {
     "name": "stdout",
     "output_type": "stream",
     "text": [
      "Epoch 297: |                                               | 75/? [00:13<00:00,  5.39it/s, v_num=2, train_loss=1.13e-5]"
     ]
    },
    {
     "name": "stderr",
     "output_type": "stream",
     "text": [
      "C:\\Users\\falty\\AppData\\Local\\Programs\\Python\\Python312\\Lib\\site-packages\\lightning\\pytorch\\trainer\\call.py:54: Detected KeyboardInterrupt, attempting graceful shutdown...\n",
      "The mean prediction is not stored in the forecast data; the median is being returned instead. This behaviour may change in the future.\n"
     ]
    },
    {
     "name": "stdout",
     "output_type": "stream",
     "text": [
      "Past Dynamic Features Training Shape: (36, 1878)\n",
      "Past Dynamic Features Test Shape: (36, 5)\n"
     ]
    }
   ],
   "source": [
    "import pandas as pd\n",
    "import numpy as np\n",
    "import torch\n",
    "\n",
    "from gluonts.dataset.common import ListDataset\n",
    "from gluonts.torch.model.tft import TemporalFusionTransformerEstimator\n",
    "from gluonts.transform.feature import MissingValueImputation\n",
    "\n",
    "torch.set_float32_matmul_precision('high')\n",
    "                                   \n",
    "# Assuming df is your DataFrame with the data\n",
    "target_column = 'ETH-BTC_High'  # Replace with your target column name\n",
    "\n",
    "# Ensure the DataFrame's index is a datetime index and set the frequency explicitly if needed\n",
    "df.index = pd.to_datetime(df.index)\n",
    "freq = \"D\"  # Set the frequency of your data, e.g., 'D' for daily. Adjust as needed.\n",
    "df = df.asfreq(freq)\n",
    "\n",
    "# Define the prediction length\n",
    "prediction_length = 5  # Set your prediction length\n",
    "\n",
    "# Select dynamic features from the DataFrame, excluding the target column\n",
    "past_dynamic_feature_columns = df.columns.drop(target_column)  # This excludes the target column\n",
    "\n",
    "# Extract dynamic features as a numpy array\n",
    "past_dynamic_features = df[past_dynamic_feature_columns].values.transpose()\n",
    "\n",
    "# Assuming all dynamic features are known in the future, adjust the dimensions accordingly\n",
    "past_dynamic_dims  = [1] * len(past_dynamic_feature_columns)  # Adjust based on actual dynamic features\n",
    "\n",
    "# Make sure the lengths match when creating ListDataset\n",
    "training_data = ListDataset([\n",
    "    {\n",
    "        \"start\": df.index[0],\n",
    "        \"target\": df[target_column][:-prediction_length],\n",
    "        \"past_feat_dynamic_real\": past_dynamic_features[:, :-prediction_length]\n",
    "    }\n",
    "], freq=freq)\n",
    "\n",
    "# Adjust the slicing for dynamic features for the test dataset to ensure correct dimensions\n",
    "test_past_dynamic_features_sliced = past_dynamic_features[:, -prediction_length:]\n",
    "\n",
    "test_data = ListDataset([\n",
    "    {\n",
    "        \"start\": df.index[-prediction_length],\n",
    "        \"target\": df[target_column][-prediction_length:].values,\n",
    "        \"past_feat_dynamic_real\": test_past_dynamic_features_sliced\n",
    "    }\n",
    "], freq=freq)\n",
    "\n",
    "# Initialize the Temporal Fusion Transformer Estimator\n",
    "estimator = TemporalFusionTransformerEstimator(\n",
    "    freq=freq,\n",
    "    prediction_length=prediction_length,\n",
    "    context_length=14,  # Optional: adjust based on your needs\n",
    "    num_heads=32,\n",
    "    hidden_dim=1024,\n",
    "    variable_dim=1024,\n",
    "    past_dynamic_dims= past_dynamic_dims,\n",
    "    quantiles=[0.1, 0.5, 0.9],  # Specifying the quantiles for forecasting\n",
    "    lr=0.001,\n",
    "    weight_decay=1e-08,\n",
    "    dropout_rate=0.1,\n",
    "    patience=10,\n",
    "    batch_size=128,\n",
    "    num_batches_per_epoch=100,\n",
    "    trainer_kwargs={'max_epochs': 500},  # Adjust 'gpus' based on your setup\n",
    ")\n",
    "\n",
    "# Train the model\n",
    "predictor = estimator.train(training_data)\n",
    "\n",
    "# Debugging: Print dimensions to verify alignment\n",
    "print(f\"Past Dynamic Features Training Shape: {past_dynamic_features[:, :-prediction_length].shape}\")\n",
    "print(f\"Past Dynamic Features Test Shape: {test_past_dynamic_features_sliced.shape}\")\n",
    "\n",
    "# Collect actual and predicted values for evaluation, including percentiles\n",
    "actuals = df[target_column][-prediction_length:].values\n",
    "mean_predictions = []\n",
    "p10_predictions = []\n",
    "p50_predictions = []\n",
    "p90_predictions = []\n",
    "\n",
    "for forecast in predictor.predict(test_data):\n",
    "    mean_predictions.append(forecast.mean)\n",
    "    p10_predictions.append(forecast.quantile(0.1))\n",
    "    p50_predictions.append(forecast.quantile(0.5))  # Median\n",
    "    p90_predictions.append(forecast.quantile(0.9))\n",
    "\n",
    "# Convert lists to numpy arrays for slicing\n",
    "mean_predictions = np.array(mean_predictions).flatten()[:prediction_length]\n",
    "p10_predictions = np.array(p10_predictions).flatten()[:prediction_length]\n",
    "p50_predictions = np.array(p50_predictions).flatten()[:prediction_length]\n",
    "p90_predictions = np.array(p90_predictions).flatten()[:prediction_length]\n"
   ]
  },
  {
   "cell_type": "code",
   "execution_count": 6,
   "id": "d5edfd4f-da3d-4ba5-ac72-637c722c6442",
   "metadata": {},
   "outputs": [
    {
     "data": {
      "image/png": "[encoded data removed]",
      "text/plain": [
       "<Figure size 1200x600 with 1 Axes>"
      ]
     },
     "metadata": {},
     "output_type": "display_data"
    }
   ],
   "source": [
    "import pandas as pd\n",
    "import matplotlib.pyplot as plt\n",
    "\n",
    "# Assuming df is your DataFrame with the data, and it's sorted by the index (date)\n",
    "target_column = 'ETH-BTC_High'  # Ensure this matches your actual target column name\n",
    "# Assuming the DataFrame's index is a datetime index and sorted\n",
    "end_training = df.index[-prediction_length]  # Assuming prediction_length is defined earlier\n",
    "\n",
    "# Ensure forecast_start_date is a datetime object and exists in df.index\n",
    "forecast_start_date = end_training \n",
    "\n",
    "# Plot the forecast and actual values starting from the forecast start date\n",
    "plt.figure(figsize=(12, 6))\n",
    "\n",
    "# Plot actual values from the start of the forecast\n",
    "actuals_start_index = df.index.get_loc(forecast_start_date)\n",
    "plt.plot(df.index[actuals_start_index:], df[target_column][actuals_start_index:], label=\"True values\", color=\"black\")\n",
    "\n",
    "# Assuming mean_predictions, p10_predictions, p50_predictions, p90_predictions are defined from the forecasting model\n",
    "# Plot forecast values\n",
    "forecast_index = pd.date_range(start=forecast_start_date, periods=prediction_length, freq=freq)  # freq should be defined as per your data's frequency\n",
    "plt.plot(forecast_index, mean_predictions, color='red', linestyle='--', label=\"Forecast (mean)\")\n",
    "plt.fill_between(forecast_index, p10_predictions, p90_predictions, color='red', alpha=0.3, label=\"P10-P90 interval\")\n",
    "plt.fill_between(forecast_index, p10_predictions, p50_predictions, color='red', alpha=0.5, label=\"P10-P50 interval\")\n",
    "plt.fill_between(forecast_index, p50_predictions, p90_predictions, color='red', alpha=0.5, label=\"P50-P90 interval\")\n",
    "\n",
    "# Add a vertical line and other plot elements\n",
    "plt.axvline(x=forecast_start_date, color='blue', linestyle='--', label='Start of forecast')\n",
    "plt.legend(loc=\"upper left\", fontsize=\"large\")\n",
    "plt.title('Forecast vs Actual Values from Forecast Start')\n",
    "plt.xlabel('Date')\n",
    "plt.ylabel('Value')\n",
    "plt.tight_layout()\n",
    "plt.show()\n"
   ]
  },
  {
   "cell_type": "code",
   "execution_count": 7,
   "id": "960df258-1313-46e2-92ba-0d8b39afa15e",
   "metadata": {},
   "outputs": [
    {
     "data": {
      "text/html": [
       "<div>\n",
       "<style scoped>\n",
       "    .dataframe tbody tr th:only-of-type {\n",
       "        vertical-align: middle;\n",
       "    }\n",
       "\n",
       "    .dataframe tbody tr th {\n",
       "        vertical-align: top;\n",
       "    }\n",
       "\n",
       "    .dataframe thead th {\n",
       "        text-align: right;\n",
       "    }\n",
       "</style>\n",
       "<table border=\"1\" class=\"dataframe\">\n",
       "  <thead>\n",
       "    <tr style=\"text-align: right;\">\n",
       "      <th></th>\n",
       "      <th>ETH-BTC_High</th>\n",
       "      <th>ETH-BTC_Low</th>\n",
       "      <th>ETH-CAD_High</th>\n",
       "      <th>ETH-CAD_Low</th>\n",
       "      <th>BTC-CAD_High</th>\n",
       "      <th>BTC-CAD_Low</th>\n",
       "      <th>Global_Liquidity_Index</th>\n",
       "      <th>btc_AdrBalNtv0.01Cnt</th>\n",
       "      <th>btc_AdrBalNtv0.1Cnt</th>\n",
       "      <th>btc_AdrBalNtv1Cnt</th>\n",
       "      <th>...</th>\n",
       "      <th>eth_CapRealUSD</th>\n",
       "      <th>eth_FeeByteMeanNtv</th>\n",
       "      <th>eth_FlowInExNtv</th>\n",
       "      <th>eth_FlowOutExNtv</th>\n",
       "      <th>eth_FlowTfrFromExCnt</th>\n",
       "      <th>eth_NDF</th>\n",
       "      <th>eth_SplyAct1d</th>\n",
       "      <th>eth_SplyActPct1yr</th>\n",
       "      <th>eth_TxCnt</th>\n",
       "      <th>eth_VelCur1yr</th>\n",
       "    </tr>\n",
       "  </thead>\n",
       "  <tbody>\n",
       "    <tr>\n",
       "      <th>2024-02-22</th>\n",
       "      <td>0.057708</td>\n",
       "      <td>0.056463</td>\n",
       "      <td>4080.433105</td>\n",
       "      <td>3889.075195</td>\n",
       "      <td>70823.007812</td>\n",
       "      <td>68408.390625</td>\n",
       "      <td>149267.862256</td>\n",
       "      <td>12514606.0</td>\n",
       "      <td>4557892.0</td>\n",
       "      <td>1018084.0</td>\n",
       "      <td>...</td>\n",
       "      <td>177970045703.737518</td>\n",
       "      <td>0.000005</td>\n",
       "      <td>338244.178803</td>\n",
       "      <td>369824.650815</td>\n",
       "      <td>115266.0</td>\n",
       "      <td>0.680495</td>\n",
       "      <td>12715855.813516</td>\n",
       "      <td>35.492136</td>\n",
       "      <td>1082822.0</td>\n",
       "      <td>6.038789</td>\n",
       "    </tr>\n",
       "    <tr>\n",
       "      <th>2024-02-23</th>\n",
       "      <td>0.058400</td>\n",
       "      <td>0.056821</td>\n",
       "      <td>4086.931885</td>\n",
       "      <td>3920.955078</td>\n",
       "      <td>70136.312500</td>\n",
       "      <td>68749.429688</td>\n",
       "      <td>148970.534800</td>\n",
       "      <td>12502806.0</td>\n",
       "      <td>4557570.0</td>\n",
       "      <td>1018299.0</td>\n",
       "      <td>...</td>\n",
       "      <td>177548830056.101593</td>\n",
       "      <td>0.000004</td>\n",
       "      <td>252603.100873</td>\n",
       "      <td>277404.199378</td>\n",
       "      <td>123997.0</td>\n",
       "      <td>0.680803</td>\n",
       "      <td>11815753.076549</td>\n",
       "      <td>35.465276</td>\n",
       "      <td>1159988.0</td>\n",
       "      <td>6.035038</td>\n",
       "    </tr>\n",
       "    <tr>\n",
       "      <th>2024-02-24</th>\n",
       "      <td>0.058169</td>\n",
       "      <td>0.057328</td>\n",
       "      <td>4035.814941</td>\n",
       "      <td>3928.526855</td>\n",
       "      <td>69447.539062</td>\n",
       "      <td>68190.140625</td>\n",
       "      <td>145602.136981</td>\n",
       "      <td>12500030.0</td>\n",
       "      <td>4558351.0</td>\n",
       "      <td>1018191.0</td>\n",
       "      <td>...</td>\n",
       "      <td>178232114484.84201</td>\n",
       "      <td>0.000002</td>\n",
       "      <td>155983.333289</td>\n",
       "      <td>186391.16255</td>\n",
       "      <td>108806.0</td>\n",
       "      <td>0.680875</td>\n",
       "      <td>11198452.093627</td>\n",
       "      <td>35.44651</td>\n",
       "      <td>1101339.0</td>\n",
       "      <td>6.028215</td>\n",
       "    </tr>\n",
       "    <tr>\n",
       "      <th>2024-02-25</th>\n",
       "      <td>0.058235</td>\n",
       "      <td>0.057437</td>\n",
       "      <td>4050.259277</td>\n",
       "      <td>3921.470459</td>\n",
       "      <td>69703.890625</td>\n",
       "      <td>68222.062500</td>\n",
       "      <td>145897.798533</td>\n",
       "      <td>12490326.0</td>\n",
       "      <td>4557653.0</td>\n",
       "      <td>1018266.0</td>\n",
       "      <td>...</td>\n",
       "      <td>179512181502.223663</td>\n",
       "      <td>0.000002</td>\n",
       "      <td>227567.047768</td>\n",
       "      <td>215196.061444</td>\n",
       "      <td>105301.0</td>\n",
       "      <td>0.681513</td>\n",
       "      <td>10462790.19109</td>\n",
       "      <td>35.402746</td>\n",
       "      <td>1102202.0</td>\n",
       "      <td>6.025079</td>\n",
       "    </tr>\n",
       "    <tr>\n",
       "      <th>2024-02-26</th>\n",
       "      <td>0.060071</td>\n",
       "      <td>0.057951</td>\n",
       "      <td>4208.451172</td>\n",
       "      <td>4024.901611</td>\n",
       "      <td>70131.234375</td>\n",
       "      <td>69194.062500</td>\n",
       "      <td>149631.566801</td>\n",
       "      <td>12500995.0</td>\n",
       "      <td>4562917.0</td>\n",
       "      <td>1017891.0</td>\n",
       "      <td>...</td>\n",
       "      <td>181001520683.269318</td>\n",
       "      <td>0.000004</td>\n",
       "      <td>396160.919196</td>\n",
       "      <td>385839.833249</td>\n",
       "      <td>119630.0</td>\n",
       "      <td>0.681429</td>\n",
       "      <td>12008606.912186</td>\n",
       "      <td>35.529806</td>\n",
       "      <td>1187460.0</td>\n",
       "      <td>6.035505</td>\n",
       "    </tr>\n",
       "  </tbody>\n",
       "</table>\n",
       "<p>5 rows × 37 columns</p>\n",
       "</div>"
      ],
      "text/plain": [
       "            ETH-BTC_High  ETH-BTC_Low  ETH-CAD_High  ETH-CAD_Low  \\\n",
       "2024-02-22      0.057708     0.056463   4080.433105  3889.075195   \n",
       "2024-02-23      0.058400     0.056821   4086.931885  3920.955078   \n",
       "2024-02-24      0.058169     0.057328   4035.814941  3928.526855   \n",
       "2024-02-25      0.058235     0.057437   4050.259277  3921.470459   \n",
       "2024-02-26      0.060071     0.057951   4208.451172  4024.901611   \n",
       "\n",
       "            BTC-CAD_High   BTC-CAD_Low  Global_Liquidity_Index  \\\n",
       "2024-02-22  70823.007812  68408.390625           149267.862256   \n",
       "2024-02-23  70136.312500  68749.429688           148970.534800   \n",
       "2024-02-24  69447.539062  68190.140625           145602.136981   \n",
       "2024-02-25  69703.890625  68222.062500           145897.798533   \n",
       "2024-02-26  70131.234375  69194.062500           149631.566801   \n",
       "\n",
       "            btc_AdrBalNtv0.01Cnt  btc_AdrBalNtv0.1Cnt  btc_AdrBalNtv1Cnt  ...  \\\n",
       "2024-02-22            12514606.0            4557892.0          1018084.0  ...   \n",
       "2024-02-23            12502806.0            4557570.0          1018299.0  ...   \n",
       "2024-02-24            12500030.0            4558351.0          1018191.0  ...   \n",
       "2024-02-25            12490326.0            4557653.0          1018266.0  ...   \n",
       "2024-02-26            12500995.0            4562917.0          1017891.0  ...   \n",
       "\n",
       "                 eth_CapRealUSD  eth_FeeByteMeanNtv  eth_FlowInExNtv  \\\n",
       "2024-02-22  177970045703.737518            0.000005    338244.178803   \n",
       "2024-02-23  177548830056.101593            0.000004    252603.100873   \n",
       "2024-02-24   178232114484.84201            0.000002    155983.333289   \n",
       "2024-02-25  179512181502.223663            0.000002    227567.047768   \n",
       "2024-02-26  181001520683.269318            0.000004    396160.919196   \n",
       "\n",
       "            eth_FlowOutExNtv  eth_FlowTfrFromExCnt   eth_NDF    eth_SplyAct1d  \\\n",
       "2024-02-22     369824.650815              115266.0  0.680495  12715855.813516   \n",
       "2024-02-23     277404.199378              123997.0  0.680803  11815753.076549   \n",
       "2024-02-24      186391.16255              108806.0  0.680875  11198452.093627   \n",
       "2024-02-25     215196.061444              105301.0  0.681513   10462790.19109   \n",
       "2024-02-26     385839.833249              119630.0  0.681429  12008606.912186   \n",
       "\n",
       "            eth_SplyActPct1yr  eth_TxCnt  eth_VelCur1yr  \n",
       "2024-02-22          35.492136  1082822.0       6.038789  \n",
       "2024-02-23          35.465276  1159988.0       6.035038  \n",
       "2024-02-24           35.44651  1101339.0       6.028215  \n",
       "2024-02-25          35.402746  1102202.0       6.025079  \n",
       "2024-02-26          35.529806  1187460.0       6.035505  \n",
       "\n",
       "[5 rows x 37 columns]"
      ]
     },
     "execution_count": 7,
     "metadata": {},
     "output_type": "execute_result"
    }
   ],
   "source": [
    "last_row = df.iloc[-prediction_length:, :]\n",
    "last_row"
   ]
  },
  {
   "cell_type": "code",
   "execution_count": 8,
   "id": "e53cc2ba-d3a8-4bfe-9945-bc79f261cabd",
   "metadata": {},
   "outputs": [
    {
     "data": {
      "text/plain": [
       "array([0.05883661, 0.05889828, 0.0588005 , 0.06010452, 0.06090929],\n",
       "      dtype=float32)"
      ]
     },
     "execution_count": 8,
     "metadata": {},
     "output_type": "execute_result"
    }
   ],
   "source": [
    "p50_predictions"
   ]
  },
  {
   "cell_type": "code",
   "execution_count": 9,
   "id": "2d0fd538-c47b-4b5a-9131-a6f5995b01c5",
   "metadata": {},
   "outputs": [
    {
     "name": "stdout",
     "output_type": "stream",
     "text": [
      "Evaluation Metrics for Mean Predictions:\n",
      "MAE: 0.00\n",
      "RMSE: 0.00\n",
      "MAPE: 1.70%\n",
      "sMAPE: 1.68%\n",
      "Percentage of Actuals within P10-P90 Interval: 0.00%\n"
     ]
    }
   ],
   "source": [
    "# Function to calculate sMAPE\n",
    "def calculate_smape(forecasts, actuals):\n",
    "    return 100 * np.mean(2 * np.abs(forecasts - actuals) / (np.abs(actuals) + np.abs(forecasts)))\n",
    "\n",
    "# Calculate standard evaluation metrics for mean predictions\n",
    "mae = np.mean(np.abs(mean_predictions - actuals))\n",
    "rmse = np.sqrt(np.mean(np.square(mean_predictions - actuals)))\n",
    "mape = np.mean(np.abs((mean_predictions - actuals) / actuals)) * 100\n",
    "smape = calculate_smape(mean_predictions, actuals)\n",
    "\n",
    "# Calculate the percentage of actuals within the 10th to 90th percentile range\n",
    "within_range = np.sum((actuals >= p10_predictions) & (actuals <= p90_predictions)) / len(actuals) * 100\n",
    "\n",
    "print(\"Evaluation Metrics for Mean Predictions:\")\n",
    "print(f\"MAE: {mae:.2f}\")\n",
    "print(f\"RMSE: {rmse:.2f}\")\n",
    "print(f\"MAPE: {mape:.2f}%\")\n",
    "print(f\"sMAPE: {smape:.2f}%\")\n",
    "print(f\"Percentage of Actuals within P10-P90 Interval: {within_range:.2f}%\")\n"
   ]
  },
  {
   "cell_type": "code",
   "execution_count": 10,
   "id": "5fa71034-caf4-433e-ae72-05fa5395ee1d",
   "metadata": {},
   "outputs": [
    {
     "name": "stdout",
     "output_type": "stream",
     "text": [
      "Model saved to dobby_high.pth\n"
     ]
    }
   ],
   "source": [
    "import os\n",
    "import torch\n",
    "\n",
    "# Define a path to save the model\n",
    "model_save_path = 'dobby_high.pth'\n",
    "\n",
    "# Assuming 'predictor' is the trained model from DeepAREstimator\n",
    "torch.save(predictor, model_save_path)\n",
    "\n",
    "print(f'Model saved to {model_save_path}')\n"
   ]
  }
 ],
 "metadata": {
  "kernelspec": {
   "display_name": "Python 3 (ipykernel)",
   "language": "python",
   "name": "python3"
  },
  "language_info": {
   "codemirror_mode": {
    "name": "ipython",
    "version": 3
   },
   "file_extension": ".py",
   "mimetype": "text/x-python",
   "name": "python",
   "nbconvert_exporter": "python",
   "pygments_lexer": "ipython3",
   "version": "3.12.2"
  }
 },
 "nbformat": 4,
 "nbformat_minor": 5
}
