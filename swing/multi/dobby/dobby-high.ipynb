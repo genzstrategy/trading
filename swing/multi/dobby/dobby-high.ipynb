{
 "cells": [
  {
   "cell_type": "markdown",
   "id": "63b0bfb3-96d6-48cc-b261-6ed2924aad11",
   "metadata": {},
   "source": [
    "# Dobby High"
   ]
  },
  {
   "cell_type": "code",
   "execution_count": 1,
   "id": "98425636-8a8b-421f-afd8-68dccc65159e",
   "metadata": {},
   "outputs": [],
   "source": [
    "import pandas as pd"
   ]
  },
  {
   "cell_type": "code",
   "execution_count": 2,
   "id": "0b9da0bc-1413-4bcd-8b51-9286d86fdd32",
   "metadata": {},
   "outputs": [],
   "source": [
    "df = pd.read_parquet(\"amalgamated.parquet\")"
   ]
  },
  {
   "cell_type": "code",
   "execution_count": 3,
   "id": "16c9cd48-db18-40fa-bbdc-d20473815d31",
   "metadata": {},
   "outputs": [],
   "source": [
    "yfinance_metrics = [\n",
    "    \"ETH-BTC_High\",\n",
    "    \"ETH-BTC_Low\",\n",
    "    \"ETH-CAD_High\",\n",
    "    \"ETH-CAD_Low\",\n",
    "    \"BTC-CAD_High\",\n",
    "    \"BTC-CAD_Low\",\n",
    "    'Global_Liquidity_Index'\n",
    "]\n",
    "\n",
    "coinmetrics_metrics = [\n",
    "    \"AdrBalNtv0.01Cnt\",\n",
    "    \"AdrBalNtv0.1Cnt\",\n",
    "    \"AdrBalNtv1Cnt\",\n",
    "    \"AdrBalNtv10Cnt\",\n",
    "    \"BlkSizeMeanByte\",\n",
    "    \"CapRealUSD\",\n",
    "    \"FeeByteMeanNtv\",\n",
    "    \"FlowInExNtv\",\n",
    "    \"FlowOutExNtv\",\n",
    "    \"FlowTfrFromExCnt\",\n",
    "    \"NDF\",\n",
    "    \"SplyAct1d\",\n",
    "    \"SplyActPct1yr\",\n",
    "    \"TxCnt\",\n",
    "    \"VelCur1yr\"\n",
    "]\n",
    "\n",
    "# For BTC\n",
    "btc_prefixed_metrics = ['btc_' + metric for metric in coinmetrics_metrics]\n",
    "\n",
    "# For ETH\n",
    "eth_prefixed_metrics = ['eth_' + metric for metric in coinmetrics_metrics]\n",
    "\n",
    "# Combine both lists if you need a single list with all prefixed metrics\n",
    "combined_prefixed_metrics = btc_prefixed_metrics + eth_prefixed_metrics\n",
    "\n",
    "metrics = yfinance_metrics + combined_prefixed_metrics\n",
    "df = df[metrics]"
   ]
  },
  {
   "cell_type": "code",
   "execution_count": 4,
   "id": "a5001d85-6388-4d46-b27b-36b8d6ae11d3",
   "metadata": {},
   "outputs": [
    {
     "data": {
      "text/html": [
       "<div>\n",
       "<style scoped>\n",
       "    .dataframe tbody tr th:only-of-type {\n",
       "        vertical-align: middle;\n",
       "    }\n",
       "\n",
       "    .dataframe tbody tr th {\n",
       "        vertical-align: top;\n",
       "    }\n",
       "\n",
       "    .dataframe thead th {\n",
       "        text-align: right;\n",
       "    }\n",
       "</style>\n",
       "<table border=\"1\" class=\"dataframe\">\n",
       "  <thead>\n",
       "    <tr style=\"text-align: right;\">\n",
       "      <th></th>\n",
       "      <th>ETH-BTC_High</th>\n",
       "      <th>ETH-BTC_Low</th>\n",
       "      <th>ETH-CAD_High</th>\n",
       "      <th>ETH-CAD_Low</th>\n",
       "      <th>BTC-CAD_High</th>\n",
       "      <th>BTC-CAD_Low</th>\n",
       "      <th>Global_Liquidity_Index</th>\n",
       "      <th>btc_AdrBalNtv0.01Cnt</th>\n",
       "      <th>btc_AdrBalNtv0.1Cnt</th>\n",
       "      <th>btc_AdrBalNtv1Cnt</th>\n",
       "      <th>...</th>\n",
       "      <th>eth_CapRealUSD</th>\n",
       "      <th>eth_FeeByteMeanNtv</th>\n",
       "      <th>eth_FlowInExNtv</th>\n",
       "      <th>eth_FlowOutExNtv</th>\n",
       "      <th>eth_FlowTfrFromExCnt</th>\n",
       "      <th>eth_NDF</th>\n",
       "      <th>eth_SplyAct1d</th>\n",
       "      <th>eth_SplyActPct1yr</th>\n",
       "      <th>eth_TxCnt</th>\n",
       "      <th>eth_VelCur1yr</th>\n",
       "    </tr>\n",
       "  </thead>\n",
       "  <tbody>\n",
       "    <tr>\n",
       "      <th>2019-01-01</th>\n",
       "      <td>0.036718</td>\n",
       "      <td>0.035544</td>\n",
       "      <td>192.649857</td>\n",
       "      <td>180.575409</td>\n",
       "      <td>5246.870117</td>\n",
       "      <td>5057.234375</td>\n",
       "      <td>10677.402020</td>\n",
       "      <td>6457193.0</td>\n",
       "      <td>2539967.0</td>\n",
       "      <td>702986.0</td>\n",
       "      <td>...</td>\n",
       "      <td>28877687727.31675</td>\n",
       "      <td>0.000004</td>\n",
       "      <td>392978.197625</td>\n",
       "      <td>419726.133113</td>\n",
       "      <td>15602.0</td>\n",
       "      <td>0.635803</td>\n",
       "      <td>11221087.882036</td>\n",
       "      <td>72.295246</td>\n",
       "      <td>448168.0</td>\n",
       "      <td>11.758691</td>\n",
       "    </tr>\n",
       "    <tr>\n",
       "      <th>2019-01-02</th>\n",
       "      <td>0.039858</td>\n",
       "      <td>0.036676</td>\n",
       "      <td>213.886246</td>\n",
       "      <td>191.795868</td>\n",
       "      <td>5388.129883</td>\n",
       "      <td>5191.100586</td>\n",
       "      <td>11978.834450</td>\n",
       "      <td>6458964.0</td>\n",
       "      <td>2541704.0</td>\n",
       "      <td>703693.0</td>\n",
       "      <td>...</td>\n",
       "      <td>28990812437.411285</td>\n",
       "      <td>0.000003</td>\n",
       "      <td>790231.396805</td>\n",
       "      <td>729568.379931</td>\n",
       "      <td>21191.0</td>\n",
       "      <td>0.636376</td>\n",
       "      <td>10343209.345505</td>\n",
       "      <td>72.264375</td>\n",
       "      <td>589959.0</td>\n",
       "      <td>11.643999</td>\n",
       "    </tr>\n",
       "    <tr>\n",
       "      <th>2019-01-03</th>\n",
       "      <td>0.039754</td>\n",
       "      <td>0.038425</td>\n",
       "      <td>212.573837</td>\n",
       "      <td>198.451218</td>\n",
       "      <td>5362.917969</td>\n",
       "      <td>5159.898926</td>\n",
       "      <td>11919.945247</td>\n",
       "      <td>6459493.0</td>\n",
       "      <td>2542722.0</td>\n",
       "      <td>704873.0</td>\n",
       "      <td>...</td>\n",
       "      <td>28981719897.825188</td>\n",
       "      <td>0.000003</td>\n",
       "      <td>654169.139428</td>\n",
       "      <td>650444.543236</td>\n",
       "      <td>20336.0</td>\n",
       "      <td>0.636168</td>\n",
       "      <td>9498193.91421</td>\n",
       "      <td>72.221087</td>\n",
       "      <td>596620.0</td>\n",
       "      <td>11.529535</td>\n",
       "    </tr>\n",
       "    <tr>\n",
       "      <th>2019-01-04</th>\n",
       "      <td>0.040691</td>\n",
       "      <td>0.038730</td>\n",
       "      <td>211.151260</td>\n",
       "      <td>199.472687</td>\n",
       "      <td>5172.040527</td>\n",
       "      <td>5087.920898</td>\n",
       "      <td>11670.483300</td>\n",
       "      <td>6463332.0</td>\n",
       "      <td>2543644.0</td>\n",
       "      <td>705051.0</td>\n",
       "      <td>...</td>\n",
       "      <td>29094778907.792999</td>\n",
       "      <td>0.000003</td>\n",
       "      <td>680241.364599</td>\n",
       "      <td>1184203.323531</td>\n",
       "      <td>21142.0</td>\n",
       "      <td>0.636041</td>\n",
       "      <td>14212229.620577</td>\n",
       "      <td>72.193628</td>\n",
       "      <td>549398.0</td>\n",
       "      <td>11.365511</td>\n",
       "    </tr>\n",
       "    <tr>\n",
       "      <th>2019-01-05</th>\n",
       "      <td>0.041418</td>\n",
       "      <td>0.040067</td>\n",
       "      <td>215.118729</td>\n",
       "      <td>206.441116</td>\n",
       "      <td>5223.182617</td>\n",
       "      <td>5131.535645</td>\n",
       "      <td>10776.359592</td>\n",
       "      <td>6474689.0</td>\n",
       "      <td>2545280.0</td>\n",
       "      <td>705233.0</td>\n",
       "      <td>...</td>\n",
       "      <td>29046828453.278553</td>\n",
       "      <td>0.000005</td>\n",
       "      <td>631193.304059</td>\n",
       "      <td>1490287.90147</td>\n",
       "      <td>17419.0</td>\n",
       "      <td>0.637131</td>\n",
       "      <td>12886643.253894</td>\n",
       "      <td>72.080216</td>\n",
       "      <td>511189.0</td>\n",
       "      <td>11.22179</td>\n",
       "    </tr>\n",
       "    <tr>\n",
       "      <th>...</th>\n",
       "      <td>...</td>\n",
       "      <td>...</td>\n",
       "      <td>...</td>\n",
       "      <td>...</td>\n",
       "      <td>...</td>\n",
       "      <td>...</td>\n",
       "      <td>...</td>\n",
       "      <td>...</td>\n",
       "      <td>...</td>\n",
       "      <td>...</td>\n",
       "      <td>...</td>\n",
       "      <td>...</td>\n",
       "      <td>...</td>\n",
       "      <td>...</td>\n",
       "      <td>...</td>\n",
       "      <td>...</td>\n",
       "      <td>...</td>\n",
       "      <td>...</td>\n",
       "      <td>...</td>\n",
       "      <td>...</td>\n",
       "      <td>...</td>\n",
       "    </tr>\n",
       "    <tr>\n",
       "      <th>2024-02-22</th>\n",
       "      <td>0.057708</td>\n",
       "      <td>0.056463</td>\n",
       "      <td>4080.433105</td>\n",
       "      <td>3889.075195</td>\n",
       "      <td>70823.007812</td>\n",
       "      <td>68408.390625</td>\n",
       "      <td>149267.862256</td>\n",
       "      <td>12514606.0</td>\n",
       "      <td>4557892.0</td>\n",
       "      <td>1018084.0</td>\n",
       "      <td>...</td>\n",
       "      <td>177970045703.737518</td>\n",
       "      <td>0.000005</td>\n",
       "      <td>338244.178803</td>\n",
       "      <td>369824.650815</td>\n",
       "      <td>115266.0</td>\n",
       "      <td>0.680495</td>\n",
       "      <td>12715855.813516</td>\n",
       "      <td>35.492136</td>\n",
       "      <td>1082822.0</td>\n",
       "      <td>6.038789</td>\n",
       "    </tr>\n",
       "    <tr>\n",
       "      <th>2024-02-23</th>\n",
       "      <td>0.058400</td>\n",
       "      <td>0.056821</td>\n",
       "      <td>4086.931885</td>\n",
       "      <td>3920.955078</td>\n",
       "      <td>70136.312500</td>\n",
       "      <td>68749.429688</td>\n",
       "      <td>148970.534800</td>\n",
       "      <td>12502806.0</td>\n",
       "      <td>4557570.0</td>\n",
       "      <td>1018299.0</td>\n",
       "      <td>...</td>\n",
       "      <td>177548830056.101593</td>\n",
       "      <td>0.000004</td>\n",
       "      <td>252603.100873</td>\n",
       "      <td>277404.199378</td>\n",
       "      <td>123997.0</td>\n",
       "      <td>0.680803</td>\n",
       "      <td>11815753.076549</td>\n",
       "      <td>35.465276</td>\n",
       "      <td>1159988.0</td>\n",
       "      <td>6.035038</td>\n",
       "    </tr>\n",
       "    <tr>\n",
       "      <th>2024-02-24</th>\n",
       "      <td>0.058169</td>\n",
       "      <td>0.057328</td>\n",
       "      <td>4035.814941</td>\n",
       "      <td>3928.526855</td>\n",
       "      <td>69447.539062</td>\n",
       "      <td>68190.140625</td>\n",
       "      <td>145602.136981</td>\n",
       "      <td>12500030.0</td>\n",
       "      <td>4558351.0</td>\n",
       "      <td>1018191.0</td>\n",
       "      <td>...</td>\n",
       "      <td>178232114484.84201</td>\n",
       "      <td>0.000002</td>\n",
       "      <td>155983.333289</td>\n",
       "      <td>186391.16255</td>\n",
       "      <td>108806.0</td>\n",
       "      <td>0.680875</td>\n",
       "      <td>11198452.093627</td>\n",
       "      <td>35.44651</td>\n",
       "      <td>1101339.0</td>\n",
       "      <td>6.028215</td>\n",
       "    </tr>\n",
       "    <tr>\n",
       "      <th>2024-02-25</th>\n",
       "      <td>0.058235</td>\n",
       "      <td>0.057437</td>\n",
       "      <td>4050.259277</td>\n",
       "      <td>3921.470459</td>\n",
       "      <td>69703.890625</td>\n",
       "      <td>68222.062500</td>\n",
       "      <td>145897.798533</td>\n",
       "      <td>12490326.0</td>\n",
       "      <td>4557653.0</td>\n",
       "      <td>1018266.0</td>\n",
       "      <td>...</td>\n",
       "      <td>179512181502.223663</td>\n",
       "      <td>0.000002</td>\n",
       "      <td>227567.047768</td>\n",
       "      <td>215196.061444</td>\n",
       "      <td>105301.0</td>\n",
       "      <td>0.681513</td>\n",
       "      <td>10462790.19109</td>\n",
       "      <td>35.402746</td>\n",
       "      <td>1102202.0</td>\n",
       "      <td>6.025079</td>\n",
       "    </tr>\n",
       "    <tr>\n",
       "      <th>2024-02-26</th>\n",
       "      <td>0.060071</td>\n",
       "      <td>0.057951</td>\n",
       "      <td>4208.451172</td>\n",
       "      <td>4024.901611</td>\n",
       "      <td>70131.234375</td>\n",
       "      <td>69194.062500</td>\n",
       "      <td>149631.566801</td>\n",
       "      <td>12500995.0</td>\n",
       "      <td>4562917.0</td>\n",
       "      <td>1017891.0</td>\n",
       "      <td>...</td>\n",
       "      <td>181001520683.269318</td>\n",
       "      <td>0.000004</td>\n",
       "      <td>396160.919196</td>\n",
       "      <td>385839.833249</td>\n",
       "      <td>119630.0</td>\n",
       "      <td>0.681429</td>\n",
       "      <td>12008606.912186</td>\n",
       "      <td>35.529806</td>\n",
       "      <td>1187460.0</td>\n",
       "      <td>6.035505</td>\n",
       "    </tr>\n",
       "  </tbody>\n",
       "</table>\n",
       "<p>1883 rows × 37 columns</p>\n",
       "</div>"
      ],
      "text/plain": [
       "            ETH-BTC_High  ETH-BTC_Low  ETH-CAD_High  ETH-CAD_Low  \\\n",
       "2019-01-01      0.036718     0.035544    192.649857   180.575409   \n",
       "2019-01-02      0.039858     0.036676    213.886246   191.795868   \n",
       "2019-01-03      0.039754     0.038425    212.573837   198.451218   \n",
       "2019-01-04      0.040691     0.038730    211.151260   199.472687   \n",
       "2019-01-05      0.041418     0.040067    215.118729   206.441116   \n",
       "...                  ...          ...           ...          ...   \n",
       "2024-02-22      0.057708     0.056463   4080.433105  3889.075195   \n",
       "2024-02-23      0.058400     0.056821   4086.931885  3920.955078   \n",
       "2024-02-24      0.058169     0.057328   4035.814941  3928.526855   \n",
       "2024-02-25      0.058235     0.057437   4050.259277  3921.470459   \n",
       "2024-02-26      0.060071     0.057951   4208.451172  4024.901611   \n",
       "\n",
       "            BTC-CAD_High   BTC-CAD_Low  Global_Liquidity_Index  \\\n",
       "2019-01-01   5246.870117   5057.234375            10677.402020   \n",
       "2019-01-02   5388.129883   5191.100586            11978.834450   \n",
       "2019-01-03   5362.917969   5159.898926            11919.945247   \n",
       "2019-01-04   5172.040527   5087.920898            11670.483300   \n",
       "2019-01-05   5223.182617   5131.535645            10776.359592   \n",
       "...                  ...           ...                     ...   \n",
       "2024-02-22  70823.007812  68408.390625           149267.862256   \n",
       "2024-02-23  70136.312500  68749.429688           148970.534800   \n",
       "2024-02-24  69447.539062  68190.140625           145602.136981   \n",
       "2024-02-25  69703.890625  68222.062500           145897.798533   \n",
       "2024-02-26  70131.234375  69194.062500           149631.566801   \n",
       "\n",
       "            btc_AdrBalNtv0.01Cnt  btc_AdrBalNtv0.1Cnt  btc_AdrBalNtv1Cnt  ...  \\\n",
       "2019-01-01             6457193.0            2539967.0           702986.0  ...   \n",
       "2019-01-02             6458964.0            2541704.0           703693.0  ...   \n",
       "2019-01-03             6459493.0            2542722.0           704873.0  ...   \n",
       "2019-01-04             6463332.0            2543644.0           705051.0  ...   \n",
       "2019-01-05             6474689.0            2545280.0           705233.0  ...   \n",
       "...                          ...                  ...                ...  ...   \n",
       "2024-02-22            12514606.0            4557892.0          1018084.0  ...   \n",
       "2024-02-23            12502806.0            4557570.0          1018299.0  ...   \n",
       "2024-02-24            12500030.0            4558351.0          1018191.0  ...   \n",
       "2024-02-25            12490326.0            4557653.0          1018266.0  ...   \n",
       "2024-02-26            12500995.0            4562917.0          1017891.0  ...   \n",
       "\n",
       "                 eth_CapRealUSD  eth_FeeByteMeanNtv  eth_FlowInExNtv  \\\n",
       "2019-01-01    28877687727.31675            0.000004    392978.197625   \n",
       "2019-01-02   28990812437.411285            0.000003    790231.396805   \n",
       "2019-01-03   28981719897.825188            0.000003    654169.139428   \n",
       "2019-01-04   29094778907.792999            0.000003    680241.364599   \n",
       "2019-01-05   29046828453.278553            0.000005    631193.304059   \n",
       "...                         ...                 ...              ...   \n",
       "2024-02-22  177970045703.737518            0.000005    338244.178803   \n",
       "2024-02-23  177548830056.101593            0.000004    252603.100873   \n",
       "2024-02-24   178232114484.84201            0.000002    155983.333289   \n",
       "2024-02-25  179512181502.223663            0.000002    227567.047768   \n",
       "2024-02-26  181001520683.269318            0.000004    396160.919196   \n",
       "\n",
       "            eth_FlowOutExNtv  eth_FlowTfrFromExCnt   eth_NDF    eth_SplyAct1d  \\\n",
       "2019-01-01     419726.133113               15602.0  0.635803  11221087.882036   \n",
       "2019-01-02     729568.379931               21191.0  0.636376  10343209.345505   \n",
       "2019-01-03     650444.543236               20336.0  0.636168    9498193.91421   \n",
       "2019-01-04    1184203.323531               21142.0  0.636041  14212229.620577   \n",
       "2019-01-05     1490287.90147               17419.0  0.637131  12886643.253894   \n",
       "...                      ...                   ...       ...              ...   \n",
       "2024-02-22     369824.650815              115266.0  0.680495  12715855.813516   \n",
       "2024-02-23     277404.199378              123997.0  0.680803  11815753.076549   \n",
       "2024-02-24      186391.16255              108806.0  0.680875  11198452.093627   \n",
       "2024-02-25     215196.061444              105301.0  0.681513   10462790.19109   \n",
       "2024-02-26     385839.833249              119630.0  0.681429  12008606.912186   \n",
       "\n",
       "            eth_SplyActPct1yr  eth_TxCnt  eth_VelCur1yr  \n",
       "2019-01-01          72.295246   448168.0      11.758691  \n",
       "2019-01-02          72.264375   589959.0      11.643999  \n",
       "2019-01-03          72.221087   596620.0      11.529535  \n",
       "2019-01-04          72.193628   549398.0      11.365511  \n",
       "2019-01-05          72.080216   511189.0       11.22179  \n",
       "...                       ...        ...            ...  \n",
       "2024-02-22          35.492136  1082822.0       6.038789  \n",
       "2024-02-23          35.465276  1159988.0       6.035038  \n",
       "2024-02-24           35.44651  1101339.0       6.028215  \n",
       "2024-02-25          35.402746  1102202.0       6.025079  \n",
       "2024-02-26          35.529806  1187460.0       6.035505  \n",
       "\n",
       "[1883 rows x 37 columns]"
      ]
     },
     "execution_count": 4,
     "metadata": {},
     "output_type": "execute_result"
    }
   ],
   "source": [
    "# Assuming df is your DataFrame\n",
    "#df = df.pct_change()*100\n",
    "\n",
    "# The first row will be NaN because there's no previous data to subtract from the first entry\n",
    "# If you wish to remove the NaN values, you can drop the first row\n",
    "df.dropna(inplace=True)\n",
    "\n",
    "df"
   ]
  },
  {
   "cell_type": "code",
   "execution_count": 5,
   "id": "2f8ae61c-85c4-4789-93c6-e473fb853a40",
   "metadata": {},
   "outputs": [
    {
     "name": "stderr",
     "output_type": "stream",
     "text": [
      "Trainer will use only 1 of 2 GPUs because it is running inside an interactive / notebook environment. You may try to set `Trainer(devices=2)` but please note that multi-GPU inside interactive / notebook environments is considered experimental and unstable. Your mileage may vary.\n",
      "GPU available: True (cuda), used: True\n",
      "TPU available: False, using: 0 TPU cores\n",
      "IPU available: False, using: 0 IPUs\n",
      "HPU available: False, using: 0 HPUs\n",
      "C:\\Users\\falty\\AppData\\Local\\Programs\\Python\\Python312\\Lib\\site-packages\\lightning\\pytorch\\trainer\\connectors\\logger_connector\\logger_connector.py:67: Starting from v1.9.0, `tensorboardX` has been removed as a dependency of the `lightning.pytorch` package, due to potential conflicts with other packages in the ML ecosystem. For this reason, `logger=True` will use `CSVLogger` as the default logger, unless the `tensorboard` or `tensorboardX` packages are found. Please `pip install lightning[extra]` or one of them to enable TensorBoard support by default\n",
      "C:\\Users\\falty\\AppData\\Local\\Programs\\Python\\Python312\\Lib\\site-packages\\lightning\\pytorch\\trainer\\configuration_validator.py:74: You defined a `validation_step` but have no `val_dataloader`. Skipping val loop.\n",
      "LOCAL_RANK: 0 - CUDA_VISIBLE_DEVICES: [0,1]\n",
      "\n",
      "  | Name  | Type                           | Params | In sizes                                                                            | Out sizes\n",
      "-----------------------------------------------------------------------------------------------------------------------------------------------------------\n",
      "0 | model | TemporalFusionTransformerModel | 296 M  | [[1, 14], [1, 14], [1, 1], [1, 1], [1, 19, 3], [1, 19, 0], [1, 14, 36], [1, 14, 0]] | [1, 3, 5]\n",
      "-----------------------------------------------------------------------------------------------------------------------------------------------------------\n",
      "296 M     Trainable params\n",
      "0         Non-trainable params\n",
      "296 M     Total params\n",
      "1,187.337 Total estimated model params size (MB)\n"
     ]
    },
    {
     "name": "stdout",
     "output_type": "stream",
     "text": [
      "Epoch 0: |                                                | 100/? [00:17<00:00,  5.68it/s, v_num=3, train_loss=0.00676]"
     ]
    },
    {
     "name": "stderr",
     "output_type": "stream",
     "text": [
      "Epoch 0, global step 100: 'train_loss' reached 0.00676 (best 0.00676), saving model to 'C:\\\\Users\\\\falty\\\\Desktop\\\\GZS\\\\trading\\\\swing\\\\multi\\\\dobby\\\\lightning_logs\\\\version_3\\\\checkpoints\\\\epoch=0-step=100.ckpt' as top 1\n"
     ]
    },
    {
     "name": "stdout",
     "output_type": "stream",
     "text": [
      "Epoch 1: |                                                | 100/? [00:17<00:00,  5.68it/s, v_num=3, train_loss=0.00466]"
     ]
    },
    {
     "name": "stderr",
     "output_type": "stream",
     "text": [
      "Epoch 1, global step 200: 'train_loss' reached 0.00466 (best 0.00466), saving model to 'C:\\\\Users\\\\falty\\\\Desktop\\\\GZS\\\\trading\\\\swing\\\\multi\\\\dobby\\\\lightning_logs\\\\version_3\\\\checkpoints\\\\epoch=1-step=200.ckpt' as top 1\n"
     ]
    },
    {
     "name": "stdout",
     "output_type": "stream",
     "text": [
      "Epoch 2: |                                                 | 100/? [00:17<00:00,  5.66it/s, v_num=3, train_loss=0.0046]"
     ]
    },
    {
     "name": "stderr",
     "output_type": "stream",
     "text": [
      "Epoch 2, global step 300: 'train_loss' reached 0.00460 (best 0.00460), saving model to 'C:\\\\Users\\\\falty\\\\Desktop\\\\GZS\\\\trading\\\\swing\\\\multi\\\\dobby\\\\lightning_logs\\\\version_3\\\\checkpoints\\\\epoch=2-step=300.ckpt' as top 1\n"
     ]
    },
    {
     "name": "stdout",
     "output_type": "stream",
     "text": [
      "Epoch 3: |                                                | 100/? [00:17<00:00,  5.69it/s, v_num=3, train_loss=0.00473]"
     ]
    },
    {
     "name": "stderr",
     "output_type": "stream",
     "text": [
      "Epoch 3, global step 400: 'train_loss' was not in top 1\n"
     ]
    },
    {
     "name": "stdout",
     "output_type": "stream",
     "text": [
      "Epoch 4: |                                                | 100/? [00:17<00:00,  5.58it/s, v_num=3, train_loss=0.00469]"
     ]
    },
    {
     "name": "stderr",
     "output_type": "stream",
     "text": [
      "Epoch 4, global step 500: 'train_loss' was not in top 1\n"
     ]
    },
    {
     "name": "stdout",
     "output_type": "stream",
     "text": [
      "Epoch 5: |                                                | 100/? [00:17<00:00,  5.65it/s, v_num=3, train_loss=0.00465]"
     ]
    },
    {
     "name": "stderr",
     "output_type": "stream",
     "text": [
      "Epoch 5, global step 600: 'train_loss' was not in top 1\n"
     ]
    },
    {
     "name": "stdout",
     "output_type": "stream",
     "text": [
      "Epoch 6: |                                                | 100/? [00:17<00:00,  5.75it/s, v_num=3, train_loss=0.00459]"
     ]
    },
    {
     "name": "stderr",
     "output_type": "stream",
     "text": [
      "Epoch 6, global step 700: 'train_loss' reached 0.00459 (best 0.00459), saving model to 'C:\\\\Users\\\\falty\\\\Desktop\\\\GZS\\\\trading\\\\swing\\\\multi\\\\dobby\\\\lightning_logs\\\\version_3\\\\checkpoints\\\\epoch=6-step=700.ckpt' as top 1\n"
     ]
    },
    {
     "name": "stdout",
     "output_type": "stream",
     "text": [
      "Epoch 7: |                                                | 100/? [00:17<00:00,  5.75it/s, v_num=3, train_loss=0.00461]"
     ]
    },
    {
     "name": "stderr",
     "output_type": "stream",
     "text": [
      "Epoch 7, global step 800: 'train_loss' was not in top 1\n"
     ]
    },
    {
     "name": "stdout",
     "output_type": "stream",
     "text": [
      "Epoch 8: |                                                | 100/? [00:17<00:00,  5.75it/s, v_num=3, train_loss=0.00464]"
     ]
    },
    {
     "name": "stderr",
     "output_type": "stream",
     "text": [
      "Epoch 8, global step 900: 'train_loss' was not in top 1\n"
     ]
    },
    {
     "name": "stdout",
     "output_type": "stream",
     "text": [
      "Epoch 9: |                                                | 100/? [00:17<00:00,  5.71it/s, v_num=3, train_loss=0.00457]"
     ]
    },
    {
     "name": "stderr",
     "output_type": "stream",
     "text": [
      "Epoch 9, global step 1000: 'train_loss' reached 0.00457 (best 0.00457), saving model to 'C:\\\\Users\\\\falty\\\\Desktop\\\\GZS\\\\trading\\\\swing\\\\multi\\\\dobby\\\\lightning_logs\\\\version_3\\\\checkpoints\\\\epoch=9-step=1000.ckpt' as top 1\n"
     ]
    },
    {
     "name": "stdout",
     "output_type": "stream",
     "text": [
      "Epoch 10: |                                               | 100/? [00:17<00:00,  5.78it/s, v_num=3, train_loss=0.00457]"
     ]
    },
    {
     "name": "stderr",
     "output_type": "stream",
     "text": [
      "Epoch 10, global step 1100: 'train_loss' reached 0.00457 (best 0.00457), saving model to 'C:\\\\Users\\\\falty\\\\Desktop\\\\GZS\\\\trading\\\\swing\\\\multi\\\\dobby\\\\lightning_logs\\\\version_3\\\\checkpoints\\\\epoch=10-step=1100.ckpt' as top 1\n"
     ]
    },
    {
     "name": "stdout",
     "output_type": "stream",
     "text": [
      "Epoch 11: |                                               | 100/? [00:17<00:00,  5.75it/s, v_num=3, train_loss=0.00451]"
     ]
    },
    {
     "name": "stderr",
     "output_type": "stream",
     "text": [
      "Epoch 11, global step 1200: 'train_loss' reached 0.00451 (best 0.00451), saving model to 'C:\\\\Users\\\\falty\\\\Desktop\\\\GZS\\\\trading\\\\swing\\\\multi\\\\dobby\\\\lightning_logs\\\\version_3\\\\checkpoints\\\\epoch=11-step=1200.ckpt' as top 1\n"
     ]
    },
    {
     "name": "stdout",
     "output_type": "stream",
     "text": [
      "Epoch 12: |                                                | 100/? [00:17<00:00,  5.67it/s, v_num=3, train_loss=0.0045]"
     ]
    },
    {
     "name": "stderr",
     "output_type": "stream",
     "text": [
      "Epoch 12, global step 1300: 'train_loss' reached 0.00450 (best 0.00450), saving model to 'C:\\\\Users\\\\falty\\\\Desktop\\\\GZS\\\\trading\\\\swing\\\\multi\\\\dobby\\\\lightning_logs\\\\version_3\\\\checkpoints\\\\epoch=12-step=1300.ckpt' as top 1\n"
     ]
    },
    {
     "name": "stdout",
     "output_type": "stream",
     "text": [
      "Epoch 13: |                                               | 100/? [00:17<00:00,  5.64it/s, v_num=3, train_loss=0.00447]"
     ]
    },
    {
     "name": "stderr",
     "output_type": "stream",
     "text": [
      "Epoch 13, global step 1400: 'train_loss' reached 0.00447 (best 0.00447), saving model to 'C:\\\\Users\\\\falty\\\\Desktop\\\\GZS\\\\trading\\\\swing\\\\multi\\\\dobby\\\\lightning_logs\\\\version_3\\\\checkpoints\\\\epoch=13-step=1400.ckpt' as top 1\n"
     ]
    },
    {
     "name": "stdout",
     "output_type": "stream",
     "text": [
      "Epoch 14: |                                                | 100/? [00:17<00:00,  5.79it/s, v_num=3, train_loss=0.0044]"
     ]
    },
    {
     "name": "stderr",
     "output_type": "stream",
     "text": [
      "Epoch 14, global step 1500: 'train_loss' reached 0.00440 (best 0.00440), saving model to 'C:\\\\Users\\\\falty\\\\Desktop\\\\GZS\\\\trading\\\\swing\\\\multi\\\\dobby\\\\lightning_logs\\\\version_3\\\\checkpoints\\\\epoch=14-step=1500.ckpt' as top 1\n"
     ]
    },
    {
     "name": "stdout",
     "output_type": "stream",
     "text": [
      "Epoch 15: |                                               | 100/? [00:17<00:00,  5.72it/s, v_num=3, train_loss=0.00357]"
     ]
    },
    {
     "name": "stderr",
     "output_type": "stream",
     "text": [
      "Epoch 15, global step 1600: 'train_loss' reached 0.00357 (best 0.00357), saving model to 'C:\\\\Users\\\\falty\\\\Desktop\\\\GZS\\\\trading\\\\swing\\\\multi\\\\dobby\\\\lightning_logs\\\\version_3\\\\checkpoints\\\\epoch=15-step=1600.ckpt' as top 1\n"
     ]
    },
    {
     "name": "stdout",
     "output_type": "stream",
     "text": [
      "Epoch 16: |                                               | 100/? [00:17<00:00,  5.63it/s, v_num=3, train_loss=0.00295]"
     ]
    },
    {
     "name": "stderr",
     "output_type": "stream",
     "text": [
      "Epoch 16, global step 1700: 'train_loss' reached 0.00295 (best 0.00295), saving model to 'C:\\\\Users\\\\falty\\\\Desktop\\\\GZS\\\\trading\\\\swing\\\\multi\\\\dobby\\\\lightning_logs\\\\version_3\\\\checkpoints\\\\epoch=16-step=1700.ckpt' as top 1\n"
     ]
    },
    {
     "name": "stdout",
     "output_type": "stream",
     "text": [
      "Epoch 17: |                                               | 100/? [00:17<00:00,  5.66it/s, v_num=3, train_loss=0.00277]"
     ]
    },
    {
     "name": "stderr",
     "output_type": "stream",
     "text": [
      "Epoch 17, global step 1800: 'train_loss' reached 0.00277 (best 0.00277), saving model to 'C:\\\\Users\\\\falty\\\\Desktop\\\\GZS\\\\trading\\\\swing\\\\multi\\\\dobby\\\\lightning_logs\\\\version_3\\\\checkpoints\\\\epoch=17-step=1800.ckpt' as top 1\n"
     ]
    },
    {
     "name": "stdout",
     "output_type": "stream",
     "text": [
      "Epoch 18: |                                                | 100/? [00:17<00:00,  5.69it/s, v_num=3, train_loss=0.0027]"
     ]
    },
    {
     "name": "stderr",
     "output_type": "stream",
     "text": [
      "Epoch 18, global step 1900: 'train_loss' reached 0.00270 (best 0.00270), saving model to 'C:\\\\Users\\\\falty\\\\Desktop\\\\GZS\\\\trading\\\\swing\\\\multi\\\\dobby\\\\lightning_logs\\\\version_3\\\\checkpoints\\\\epoch=18-step=1900.ckpt' as top 1\n"
     ]
    },
    {
     "name": "stdout",
     "output_type": "stream",
     "text": [
      "Epoch 19: |                                               | 100/? [00:17<00:00,  5.60it/s, v_num=3, train_loss=0.00264]"
     ]
    },
    {
     "name": "stderr",
     "output_type": "stream",
     "text": [
      "Epoch 19, global step 2000: 'train_loss' reached 0.00264 (best 0.00264), saving model to 'C:\\\\Users\\\\falty\\\\Desktop\\\\GZS\\\\trading\\\\swing\\\\multi\\\\dobby\\\\lightning_logs\\\\version_3\\\\checkpoints\\\\epoch=19-step=2000.ckpt' as top 1\n"
     ]
    },
    {
     "name": "stdout",
     "output_type": "stream",
     "text": [
      "Epoch 20: |                                               | 100/? [00:17<00:00,  5.59it/s, v_num=3, train_loss=0.00257]"
     ]
    },
    {
     "name": "stderr",
     "output_type": "stream",
     "text": [
      "Epoch 20, global step 2100: 'train_loss' reached 0.00257 (best 0.00257), saving model to 'C:\\\\Users\\\\falty\\\\Desktop\\\\GZS\\\\trading\\\\swing\\\\multi\\\\dobby\\\\lightning_logs\\\\version_3\\\\checkpoints\\\\epoch=20-step=2100.ckpt' as top 1\n"
     ]
    },
    {
     "name": "stdout",
     "output_type": "stream",
     "text": [
      "Epoch 21: |                                               | 100/? [00:17<00:00,  5.71it/s, v_num=3, train_loss=0.00249]"
     ]
    },
    {
     "name": "stderr",
     "output_type": "stream",
     "text": [
      "Epoch 21, global step 2200: 'train_loss' reached 0.00249 (best 0.00249), saving model to 'C:\\\\Users\\\\falty\\\\Desktop\\\\GZS\\\\trading\\\\swing\\\\multi\\\\dobby\\\\lightning_logs\\\\version_3\\\\checkpoints\\\\epoch=21-step=2200.ckpt' as top 1\n"
     ]
    },
    {
     "name": "stdout",
     "output_type": "stream",
     "text": [
      "Epoch 22: |                                               | 100/? [00:17<00:00,  5.66it/s, v_num=3, train_loss=0.00231]"
     ]
    },
    {
     "name": "stderr",
     "output_type": "stream",
     "text": [
      "Epoch 22, global step 2300: 'train_loss' reached 0.00231 (best 0.00231), saving model to 'C:\\\\Users\\\\falty\\\\Desktop\\\\GZS\\\\trading\\\\swing\\\\multi\\\\dobby\\\\lightning_logs\\\\version_3\\\\checkpoints\\\\epoch=22-step=2300.ckpt' as top 1\n"
     ]
    },
    {
     "name": "stdout",
     "output_type": "stream",
     "text": [
      "Epoch 23: |                                               | 100/? [00:17<00:00,  5.64it/s, v_num=3, train_loss=0.00215]"
     ]
    },
    {
     "name": "stderr",
     "output_type": "stream",
     "text": [
      "Epoch 23, global step 2400: 'train_loss' reached 0.00215 (best 0.00215), saving model to 'C:\\\\Users\\\\falty\\\\Desktop\\\\GZS\\\\trading\\\\swing\\\\multi\\\\dobby\\\\lightning_logs\\\\version_3\\\\checkpoints\\\\epoch=23-step=2400.ckpt' as top 1\n"
     ]
    },
    {
     "name": "stdout",
     "output_type": "stream",
     "text": [
      "Epoch 24: |                                               | 100/? [00:17<00:00,  5.73it/s, v_num=3, train_loss=0.00198]"
     ]
    },
    {
     "name": "stderr",
     "output_type": "stream",
     "text": [
      "Epoch 24, global step 2500: 'train_loss' reached 0.00198 (best 0.00198), saving model to 'C:\\\\Users\\\\falty\\\\Desktop\\\\GZS\\\\trading\\\\swing\\\\multi\\\\dobby\\\\lightning_logs\\\\version_3\\\\checkpoints\\\\epoch=24-step=2500.ckpt' as top 1\n"
     ]
    },
    {
     "name": "stdout",
     "output_type": "stream",
     "text": [
      "Epoch 25: |                                                | 100/? [00:17<00:00,  5.68it/s, v_num=3, train_loss=0.0017]"
     ]
    },
    {
     "name": "stderr",
     "output_type": "stream",
     "text": [
      "Epoch 25, global step 2600: 'train_loss' reached 0.00170 (best 0.00170), saving model to 'C:\\\\Users\\\\falty\\\\Desktop\\\\GZS\\\\trading\\\\swing\\\\multi\\\\dobby\\\\lightning_logs\\\\version_3\\\\checkpoints\\\\epoch=25-step=2600.ckpt' as top 1\n"
     ]
    },
    {
     "name": "stdout",
     "output_type": "stream",
     "text": [
      "Epoch 26: |                                               | 100/? [00:17<00:00,  5.69it/s, v_num=3, train_loss=0.00149]"
     ]
    },
    {
     "name": "stderr",
     "output_type": "stream",
     "text": [
      "Epoch 26, global step 2700: 'train_loss' reached 0.00149 (best 0.00149), saving model to 'C:\\\\Users\\\\falty\\\\Desktop\\\\GZS\\\\trading\\\\swing\\\\multi\\\\dobby\\\\lightning_logs\\\\version_3\\\\checkpoints\\\\epoch=26-step=2700.ckpt' as top 1\n"
     ]
    },
    {
     "name": "stdout",
     "output_type": "stream",
     "text": [
      "Epoch 27: |                                               | 100/? [00:17<00:00,  5.62it/s, v_num=3, train_loss=0.00124]"
     ]
    },
    {
     "name": "stderr",
     "output_type": "stream",
     "text": [
      "Epoch 27, global step 2800: 'train_loss' reached 0.00124 (best 0.00124), saving model to 'C:\\\\Users\\\\falty\\\\Desktop\\\\GZS\\\\trading\\\\swing\\\\multi\\\\dobby\\\\lightning_logs\\\\version_3\\\\checkpoints\\\\epoch=27-step=2800.ckpt' as top 1\n"
     ]
    },
    {
     "name": "stdout",
     "output_type": "stream",
     "text": [
      "Epoch 28: |                                               | 100/? [00:17<00:00,  5.60it/s, v_num=3, train_loss=0.00115]"
     ]
    },
    {
     "name": "stderr",
     "output_type": "stream",
     "text": [
      "Epoch 28, global step 2900: 'train_loss' reached 0.00115 (best 0.00115), saving model to 'C:\\\\Users\\\\falty\\\\Desktop\\\\GZS\\\\trading\\\\swing\\\\multi\\\\dobby\\\\lightning_logs\\\\version_3\\\\checkpoints\\\\epoch=28-step=2900.ckpt' as top 1\n"
     ]
    },
    {
     "name": "stdout",
     "output_type": "stream",
     "text": [
      "Epoch 29: |                                                | 100/? [00:17<00:00,  5.71it/s, v_num=3, train_loss=0.0009]"
     ]
    },
    {
     "name": "stderr",
     "output_type": "stream",
     "text": [
      "Epoch 29, global step 3000: 'train_loss' reached 0.00090 (best 0.00090), saving model to 'C:\\\\Users\\\\falty\\\\Desktop\\\\GZS\\\\trading\\\\swing\\\\multi\\\\dobby\\\\lightning_logs\\\\version_3\\\\checkpoints\\\\epoch=29-step=3000.ckpt' as top 1\n"
     ]
    },
    {
     "name": "stdout",
     "output_type": "stream",
     "text": [
      "Epoch 30: |                                              | 100/? [00:17<00:00,  5.74it/s, v_num=3, train_loss=0.000806]"
     ]
    },
    {
     "name": "stderr",
     "output_type": "stream",
     "text": [
      "Epoch 30, global step 3100: 'train_loss' reached 0.00081 (best 0.00081), saving model to 'C:\\\\Users\\\\falty\\\\Desktop\\\\GZS\\\\trading\\\\swing\\\\multi\\\\dobby\\\\lightning_logs\\\\version_3\\\\checkpoints\\\\epoch=30-step=3100.ckpt' as top 1\n"
     ]
    },
    {
     "name": "stdout",
     "output_type": "stream",
     "text": [
      "Epoch 31: |                                               | 100/? [00:17<00:00,  5.63it/s, v_num=3, train_loss=0.00069]"
     ]
    },
    {
     "name": "stderr",
     "output_type": "stream",
     "text": [
      "Epoch 31, global step 3200: 'train_loss' reached 0.00069 (best 0.00069), saving model to 'C:\\\\Users\\\\falty\\\\Desktop\\\\GZS\\\\trading\\\\swing\\\\multi\\\\dobby\\\\lightning_logs\\\\version_3\\\\checkpoints\\\\epoch=31-step=3200.ckpt' as top 1\n"
     ]
    },
    {
     "name": "stdout",
     "output_type": "stream",
     "text": [
      "Epoch 32: |                                              | 100/? [00:17<00:00,  5.71it/s, v_num=3, train_loss=0.000599]"
     ]
    },
    {
     "name": "stderr",
     "output_type": "stream",
     "text": [
      "Epoch 32, global step 3300: 'train_loss' reached 0.00060 (best 0.00060), saving model to 'C:\\\\Users\\\\falty\\\\Desktop\\\\GZS\\\\trading\\\\swing\\\\multi\\\\dobby\\\\lightning_logs\\\\version_3\\\\checkpoints\\\\epoch=32-step=3300.ckpt' as top 1\n"
     ]
    },
    {
     "name": "stdout",
     "output_type": "stream",
     "text": [
      "Epoch 33: |                                              | 100/? [00:17<00:00,  5.65it/s, v_num=3, train_loss=0.000531]"
     ]
    },
    {
     "name": "stderr",
     "output_type": "stream",
     "text": [
      "Epoch 33, global step 3400: 'train_loss' reached 0.00053 (best 0.00053), saving model to 'C:\\\\Users\\\\falty\\\\Desktop\\\\GZS\\\\trading\\\\swing\\\\multi\\\\dobby\\\\lightning_logs\\\\version_3\\\\checkpoints\\\\epoch=33-step=3400.ckpt' as top 1\n"
     ]
    },
    {
     "name": "stdout",
     "output_type": "stream",
     "text": [
      "Epoch 34: |                                              | 100/? [00:17<00:00,  5.66it/s, v_num=3, train_loss=0.000479]"
     ]
    },
    {
     "name": "stderr",
     "output_type": "stream",
     "text": [
      "Epoch 34, global step 3500: 'train_loss' reached 0.00048 (best 0.00048), saving model to 'C:\\\\Users\\\\falty\\\\Desktop\\\\GZS\\\\trading\\\\swing\\\\multi\\\\dobby\\\\lightning_logs\\\\version_3\\\\checkpoints\\\\epoch=34-step=3500.ckpt' as top 1\n"
     ]
    },
    {
     "name": "stdout",
     "output_type": "stream",
     "text": [
      "Epoch 35: |                                              | 100/? [00:17<00:00,  5.58it/s, v_num=3, train_loss=0.000481]"
     ]
    },
    {
     "name": "stderr",
     "output_type": "stream",
     "text": [
      "Epoch 35, global step 3600: 'train_loss' was not in top 1\n"
     ]
    },
    {
     "name": "stdout",
     "output_type": "stream",
     "text": [
      "Epoch 36: |                                              | 100/? [00:17<00:00,  5.67it/s, v_num=3, train_loss=0.000436]"
     ]
    },
    {
     "name": "stderr",
     "output_type": "stream",
     "text": [
      "Epoch 36, global step 3700: 'train_loss' reached 0.00044 (best 0.00044), saving model to 'C:\\\\Users\\\\falty\\\\Desktop\\\\GZS\\\\trading\\\\swing\\\\multi\\\\dobby\\\\lightning_logs\\\\version_3\\\\checkpoints\\\\epoch=36-step=3700.ckpt' as top 1\n"
     ]
    },
    {
     "name": "stdout",
     "output_type": "stream",
     "text": [
      "Epoch 37: |                                              | 100/? [00:17<00:00,  5.74it/s, v_num=3, train_loss=0.000398]"
     ]
    },
    {
     "name": "stderr",
     "output_type": "stream",
     "text": [
      "Epoch 37, global step 3800: 'train_loss' reached 0.00040 (best 0.00040), saving model to 'C:\\\\Users\\\\falty\\\\Desktop\\\\GZS\\\\trading\\\\swing\\\\multi\\\\dobby\\\\lightning_logs\\\\version_3\\\\checkpoints\\\\epoch=37-step=3800.ckpt' as top 1\n"
     ]
    },
    {
     "name": "stdout",
     "output_type": "stream",
     "text": [
      "Epoch 38: |                                               | 100/? [00:18<00:00,  5.54it/s, v_num=3, train_loss=0.00043]"
     ]
    },
    {
     "name": "stderr",
     "output_type": "stream",
     "text": [
      "Epoch 38, global step 3900: 'train_loss' was not in top 1\n"
     ]
    },
    {
     "name": "stdout",
     "output_type": "stream",
     "text": [
      "Epoch 39: |                                              | 100/? [00:17<00:00,  5.68it/s, v_num=3, train_loss=0.000329]"
     ]
    },
    {
     "name": "stderr",
     "output_type": "stream",
     "text": [
      "Epoch 39, global step 4000: 'train_loss' reached 0.00033 (best 0.00033), saving model to 'C:\\\\Users\\\\falty\\\\Desktop\\\\GZS\\\\trading\\\\swing\\\\multi\\\\dobby\\\\lightning_logs\\\\version_3\\\\checkpoints\\\\epoch=39-step=4000.ckpt' as top 1\n"
     ]
    },
    {
     "name": "stdout",
     "output_type": "stream",
     "text": [
      "Epoch 40: |                                              | 100/? [00:17<00:00,  5.70it/s, v_num=3, train_loss=0.000308]"
     ]
    },
    {
     "name": "stderr",
     "output_type": "stream",
     "text": [
      "Epoch 40, global step 4100: 'train_loss' reached 0.00031 (best 0.00031), saving model to 'C:\\\\Users\\\\falty\\\\Desktop\\\\GZS\\\\trading\\\\swing\\\\multi\\\\dobby\\\\lightning_logs\\\\version_3\\\\checkpoints\\\\epoch=40-step=4100.ckpt' as top 1\n"
     ]
    },
    {
     "name": "stdout",
     "output_type": "stream",
     "text": [
      "Epoch 41: |                                              | 100/? [00:17<00:00,  5.62it/s, v_num=3, train_loss=0.000297]"
     ]
    },
    {
     "name": "stderr",
     "output_type": "stream",
     "text": [
      "Epoch 41, global step 4200: 'train_loss' reached 0.00030 (best 0.00030), saving model to 'C:\\\\Users\\\\falty\\\\Desktop\\\\GZS\\\\trading\\\\swing\\\\multi\\\\dobby\\\\lightning_logs\\\\version_3\\\\checkpoints\\\\epoch=41-step=4200.ckpt' as top 1\n"
     ]
    },
    {
     "name": "stdout",
     "output_type": "stream",
     "text": [
      "Epoch 42: |                                              | 100/? [00:17<00:00,  5.69it/s, v_num=3, train_loss=0.000269]"
     ]
    },
    {
     "name": "stderr",
     "output_type": "stream",
     "text": [
      "Epoch 42, global step 4300: 'train_loss' reached 0.00027 (best 0.00027), saving model to 'C:\\\\Users\\\\falty\\\\Desktop\\\\GZS\\\\trading\\\\swing\\\\multi\\\\dobby\\\\lightning_logs\\\\version_3\\\\checkpoints\\\\epoch=42-step=4300.ckpt' as top 1\n"
     ]
    },
    {
     "name": "stdout",
     "output_type": "stream",
     "text": [
      "Epoch 43: |                                              | 100/? [00:17<00:00,  5.67it/s, v_num=3, train_loss=0.000266]"
     ]
    },
    {
     "name": "stderr",
     "output_type": "stream",
     "text": [
      "Epoch 43, global step 4400: 'train_loss' reached 0.00027 (best 0.00027), saving model to 'C:\\\\Users\\\\falty\\\\Desktop\\\\GZS\\\\trading\\\\swing\\\\multi\\\\dobby\\\\lightning_logs\\\\version_3\\\\checkpoints\\\\epoch=43-step=4400.ckpt' as top 1\n"
     ]
    },
    {
     "name": "stdout",
     "output_type": "stream",
     "text": [
      "Epoch 44: |                                              | 100/? [00:17<00:00,  5.69it/s, v_num=3, train_loss=0.000267]"
     ]
    },
    {
     "name": "stderr",
     "output_type": "stream",
     "text": [
      "Epoch 44, global step 4500: 'train_loss' was not in top 1\n"
     ]
    },
    {
     "name": "stdout",
     "output_type": "stream",
     "text": [
      "Epoch 45: |                                              | 100/? [00:17<00:00,  5.84it/s, v_num=3, train_loss=0.000248]"
     ]
    },
    {
     "name": "stderr",
     "output_type": "stream",
     "text": [
      "Epoch 45, global step 4600: 'train_loss' reached 0.00025 (best 0.00025), saving model to 'C:\\\\Users\\\\falty\\\\Desktop\\\\GZS\\\\trading\\\\swing\\\\multi\\\\dobby\\\\lightning_logs\\\\version_3\\\\checkpoints\\\\epoch=45-step=4600.ckpt' as top 1\n"
     ]
    },
    {
     "name": "stdout",
     "output_type": "stream",
     "text": [
      "Epoch 46: |                                               | 100/? [00:17<00:00,  5.68it/s, v_num=3, train_loss=0.00022]"
     ]
    },
    {
     "name": "stderr",
     "output_type": "stream",
     "text": [
      "Epoch 46, global step 4700: 'train_loss' reached 0.00022 (best 0.00022), saving model to 'C:\\\\Users\\\\falty\\\\Desktop\\\\GZS\\\\trading\\\\swing\\\\multi\\\\dobby\\\\lightning_logs\\\\version_3\\\\checkpoints\\\\epoch=46-step=4700.ckpt' as top 1\n"
     ]
    },
    {
     "name": "stdout",
     "output_type": "stream",
     "text": [
      "Epoch 47: |                                              | 100/? [00:17<00:00,  5.74it/s, v_num=3, train_loss=0.000232]"
     ]
    },
    {
     "name": "stderr",
     "output_type": "stream",
     "text": [
      "Epoch 47, global step 4800: 'train_loss' was not in top 1\n"
     ]
    },
    {
     "name": "stdout",
     "output_type": "stream",
     "text": [
      "Epoch 48: |                                              | 100/? [00:17<00:00,  5.67it/s, v_num=3, train_loss=0.000217]"
     ]
    },
    {
     "name": "stderr",
     "output_type": "stream",
     "text": [
      "Epoch 48, global step 4900: 'train_loss' reached 0.00022 (best 0.00022), saving model to 'C:\\\\Users\\\\falty\\\\Desktop\\\\GZS\\\\trading\\\\swing\\\\multi\\\\dobby\\\\lightning_logs\\\\version_3\\\\checkpoints\\\\epoch=48-step=4900.ckpt' as top 1\n"
     ]
    },
    {
     "name": "stdout",
     "output_type": "stream",
     "text": [
      "Epoch 49: |                                              | 100/? [00:17<00:00,  5.71it/s, v_num=3, train_loss=0.000238]"
     ]
    },
    {
     "name": "stderr",
     "output_type": "stream",
     "text": [
      "Epoch 49, global step 5000: 'train_loss' was not in top 1\n"
     ]
    },
    {
     "name": "stdout",
     "output_type": "stream",
     "text": [
      "Epoch 50: |                                              | 100/? [00:17<00:00,  5.81it/s, v_num=3, train_loss=0.000225]"
     ]
    },
    {
     "name": "stderr",
     "output_type": "stream",
     "text": [
      "Epoch 50, global step 5100: 'train_loss' was not in top 1\n"
     ]
    },
    {
     "name": "stdout",
     "output_type": "stream",
     "text": [
      "Epoch 51: |                                              | 100/? [00:17<00:00,  5.72it/s, v_num=3, train_loss=0.000209]"
     ]
    },
    {
     "name": "stderr",
     "output_type": "stream",
     "text": [
      "Epoch 51, global step 5200: 'train_loss' reached 0.00021 (best 0.00021), saving model to 'C:\\\\Users\\\\falty\\\\Desktop\\\\GZS\\\\trading\\\\swing\\\\multi\\\\dobby\\\\lightning_logs\\\\version_3\\\\checkpoints\\\\epoch=51-step=5200.ckpt' as top 1\n"
     ]
    },
    {
     "name": "stdout",
     "output_type": "stream",
     "text": [
      "Epoch 52: |                                              | 100/? [00:17<00:00,  5.73it/s, v_num=3, train_loss=0.000216]"
     ]
    },
    {
     "name": "stderr",
     "output_type": "stream",
     "text": [
      "Epoch 52, global step 5300: 'train_loss' was not in top 1\n"
     ]
    },
    {
     "name": "stdout",
     "output_type": "stream",
     "text": [
      "Epoch 53: |                                               | 100/? [00:17<00:00,  5.79it/s, v_num=3, train_loss=0.00021]"
     ]
    },
    {
     "name": "stderr",
     "output_type": "stream",
     "text": [
      "Epoch 53, global step 5400: 'train_loss' was not in top 1\n"
     ]
    },
    {
     "name": "stdout",
     "output_type": "stream",
     "text": [
      "Epoch 54: |                                              | 100/? [00:17<00:00,  5.83it/s, v_num=3, train_loss=0.000204]"
     ]
    },
    {
     "name": "stderr",
     "output_type": "stream",
     "text": [
      "Epoch 54, global step 5500: 'train_loss' reached 0.00020 (best 0.00020), saving model to 'C:\\\\Users\\\\falty\\\\Desktop\\\\GZS\\\\trading\\\\swing\\\\multi\\\\dobby\\\\lightning_logs\\\\version_3\\\\checkpoints\\\\epoch=54-step=5500.ckpt' as top 1\n"
     ]
    },
    {
     "name": "stdout",
     "output_type": "stream",
     "text": [
      "Epoch 55: |                                              | 100/? [00:17<00:00,  5.70it/s, v_num=3, train_loss=0.000221]"
     ]
    },
    {
     "name": "stderr",
     "output_type": "stream",
     "text": [
      "Epoch 55, global step 5600: 'train_loss' was not in top 1\n"
     ]
    },
    {
     "name": "stdout",
     "output_type": "stream",
     "text": [
      "Epoch 56: |                                              | 100/? [00:17<00:00,  5.68it/s, v_num=3, train_loss=0.000203]"
     ]
    },
    {
     "name": "stderr",
     "output_type": "stream",
     "text": [
      "Epoch 56, global step 5700: 'train_loss' reached 0.00020 (best 0.00020), saving model to 'C:\\\\Users\\\\falty\\\\Desktop\\\\GZS\\\\trading\\\\swing\\\\multi\\\\dobby\\\\lightning_logs\\\\version_3\\\\checkpoints\\\\epoch=56-step=5700.ckpt' as top 1\n"
     ]
    },
    {
     "name": "stdout",
     "output_type": "stream",
     "text": [
      "Epoch 57: |                                              | 100/? [00:18<00:00,  5.55it/s, v_num=3, train_loss=0.000183]"
     ]
    },
    {
     "name": "stderr",
     "output_type": "stream",
     "text": [
      "Epoch 57, global step 5800: 'train_loss' reached 0.00018 (best 0.00018), saving model to 'C:\\\\Users\\\\falty\\\\Desktop\\\\GZS\\\\trading\\\\swing\\\\multi\\\\dobby\\\\lightning_logs\\\\version_3\\\\checkpoints\\\\epoch=57-step=5800.ckpt' as top 1\n"
     ]
    },
    {
     "name": "stdout",
     "output_type": "stream",
     "text": [
      "Epoch 58: |                                              | 100/? [00:17<00:00,  5.74it/s, v_num=3, train_loss=0.000199]"
     ]
    },
    {
     "name": "stderr",
     "output_type": "stream",
     "text": [
      "Epoch 58, global step 5900: 'train_loss' was not in top 1\n"
     ]
    },
    {
     "name": "stdout",
     "output_type": "stream",
     "text": [
      "Epoch 59: |                                              | 100/? [00:17<00:00,  5.85it/s, v_num=3, train_loss=0.000184]"
     ]
    },
    {
     "name": "stderr",
     "output_type": "stream",
     "text": [
      "Epoch 59, global step 6000: 'train_loss' was not in top 1\n"
     ]
    },
    {
     "name": "stdout",
     "output_type": "stream",
     "text": [
      "Epoch 60: |                                              | 100/? [00:17<00:00,  5.81it/s, v_num=3, train_loss=0.000195]"
     ]
    },
    {
     "name": "stderr",
     "output_type": "stream",
     "text": [
      "Epoch 60, global step 6100: 'train_loss' was not in top 1\n"
     ]
    },
    {
     "name": "stdout",
     "output_type": "stream",
     "text": [
      "Epoch 61: |                                              | 100/? [00:17<00:00,  5.81it/s, v_num=3, train_loss=0.000184]"
     ]
    },
    {
     "name": "stderr",
     "output_type": "stream",
     "text": [
      "Epoch 61, global step 6200: 'train_loss' was not in top 1\n"
     ]
    },
    {
     "name": "stdout",
     "output_type": "stream",
     "text": [
      "Epoch 62: |                                              | 100/? [00:17<00:00,  5.78it/s, v_num=3, train_loss=0.000189]"
     ]
    },
    {
     "name": "stderr",
     "output_type": "stream",
     "text": [
      "Epoch 62, global step 6300: 'train_loss' was not in top 1\n"
     ]
    },
    {
     "name": "stdout",
     "output_type": "stream",
     "text": [
      "Epoch 63: |                                              | 100/? [00:17<00:00,  5.81it/s, v_num=3, train_loss=0.000196]"
     ]
    },
    {
     "name": "stderr",
     "output_type": "stream",
     "text": [
      "Epoch 63, global step 6400: 'train_loss' was not in top 1\n"
     ]
    },
    {
     "name": "stdout",
     "output_type": "stream",
     "text": [
      "Epoch 64: |                                               | 100/? [00:17<00:00,  5.82it/s, v_num=3, train_loss=0.00018]"
     ]
    },
    {
     "name": "stderr",
     "output_type": "stream",
     "text": [
      "Epoch 64, global step 6500: 'train_loss' reached 0.00018 (best 0.00018), saving model to 'C:\\\\Users\\\\falty\\\\Desktop\\\\GZS\\\\trading\\\\swing\\\\multi\\\\dobby\\\\lightning_logs\\\\version_3\\\\checkpoints\\\\epoch=64-step=6500.ckpt' as top 1\n"
     ]
    },
    {
     "name": "stdout",
     "output_type": "stream",
     "text": [
      "Epoch 65: |                                              | 100/? [00:17<00:00,  5.67it/s, v_num=3, train_loss=0.000188]"
     ]
    },
    {
     "name": "stderr",
     "output_type": "stream",
     "text": [
      "Epoch 65, global step 6600: 'train_loss' was not in top 1\n"
     ]
    },
    {
     "name": "stdout",
     "output_type": "stream",
     "text": [
      "Epoch 66: |                                              | 100/? [00:17<00:00,  5.81it/s, v_num=3, train_loss=0.000181]"
     ]
    },
    {
     "name": "stderr",
     "output_type": "stream",
     "text": [
      "Epoch 66, global step 6700: 'train_loss' was not in top 1\n"
     ]
    },
    {
     "name": "stdout",
     "output_type": "stream",
     "text": [
      "Epoch 67: |                                              | 100/? [00:17<00:00,  5.81it/s, v_num=3, train_loss=0.000173]"
     ]
    },
    {
     "name": "stderr",
     "output_type": "stream",
     "text": [
      "Epoch 67, global step 6800: 'train_loss' reached 0.00017 (best 0.00017), saving model to 'C:\\\\Users\\\\falty\\\\Desktop\\\\GZS\\\\trading\\\\swing\\\\multi\\\\dobby\\\\lightning_logs\\\\version_3\\\\checkpoints\\\\epoch=67-step=6800.ckpt' as top 1\n"
     ]
    },
    {
     "name": "stdout",
     "output_type": "stream",
     "text": [
      "Epoch 68: |                                               | 100/? [00:17<00:00,  5.80it/s, v_num=3, train_loss=0.00017]"
     ]
    },
    {
     "name": "stderr",
     "output_type": "stream",
     "text": [
      "Epoch 68, global step 6900: 'train_loss' reached 0.00017 (best 0.00017), saving model to 'C:\\\\Users\\\\falty\\\\Desktop\\\\GZS\\\\trading\\\\swing\\\\multi\\\\dobby\\\\lightning_logs\\\\version_3\\\\checkpoints\\\\epoch=68-step=6900.ckpt' as top 1\n"
     ]
    },
    {
     "name": "stdout",
     "output_type": "stream",
     "text": [
      "Epoch 69: |                                               | 100/? [00:17<00:00,  5.82it/s, v_num=3, train_loss=0.00017]"
     ]
    },
    {
     "name": "stderr",
     "output_type": "stream",
     "text": [
      "Epoch 69, global step 7000: 'train_loss' reached 0.00017 (best 0.00017), saving model to 'C:\\\\Users\\\\falty\\\\Desktop\\\\GZS\\\\trading\\\\swing\\\\multi\\\\dobby\\\\lightning_logs\\\\version_3\\\\checkpoints\\\\epoch=69-step=7000.ckpt' as top 1\n"
     ]
    },
    {
     "name": "stdout",
     "output_type": "stream",
     "text": [
      "Epoch 70: |                                              | 100/? [00:17<00:00,  5.82it/s, v_num=3, train_loss=0.000159]"
     ]
    },
    {
     "name": "stderr",
     "output_type": "stream",
     "text": [
      "Epoch 70, global step 7100: 'train_loss' reached 0.00016 (best 0.00016), saving model to 'C:\\\\Users\\\\falty\\\\Desktop\\\\GZS\\\\trading\\\\swing\\\\multi\\\\dobby\\\\lightning_logs\\\\version_3\\\\checkpoints\\\\epoch=70-step=7100.ckpt' as top 1\n"
     ]
    },
    {
     "name": "stdout",
     "output_type": "stream",
     "text": [
      "Epoch 71: |                                              | 100/? [00:17<00:00,  5.86it/s, v_num=3, train_loss=0.000177]"
     ]
    },
    {
     "name": "stderr",
     "output_type": "stream",
     "text": [
      "Epoch 71, global step 7200: 'train_loss' was not in top 1\n"
     ]
    },
    {
     "name": "stdout",
     "output_type": "stream",
     "text": [
      "Epoch 72: |                                              | 100/? [00:17<00:00,  5.66it/s, v_num=3, train_loss=0.000175]"
     ]
    },
    {
     "name": "stderr",
     "output_type": "stream",
     "text": [
      "Epoch 72, global step 7300: 'train_loss' was not in top 1\n"
     ]
    },
    {
     "name": "stdout",
     "output_type": "stream",
     "text": [
      "Epoch 73: |                                              | 100/? [00:17<00:00,  5.82it/s, v_num=3, train_loss=0.000166]"
     ]
    },
    {
     "name": "stderr",
     "output_type": "stream",
     "text": [
      "Epoch 73, global step 7400: 'train_loss' was not in top 1\n"
     ]
    },
    {
     "name": "stdout",
     "output_type": "stream",
     "text": [
      "Epoch 74: |                                              | 100/? [00:17<00:00,  5.82it/s, v_num=3, train_loss=0.000172]"
     ]
    },
    {
     "name": "stderr",
     "output_type": "stream",
     "text": [
      "Epoch 74, global step 7500: 'train_loss' was not in top 1\n"
     ]
    },
    {
     "name": "stdout",
     "output_type": "stream",
     "text": [
      "Epoch 75: |                                              | 100/? [00:17<00:00,  5.76it/s, v_num=3, train_loss=0.000166]"
     ]
    },
    {
     "name": "stderr",
     "output_type": "stream",
     "text": [
      "Epoch 75, global step 7600: 'train_loss' was not in top 1\n"
     ]
    },
    {
     "name": "stdout",
     "output_type": "stream",
     "text": [
      "Epoch 76: |                                              | 100/? [00:17<00:00,  5.79it/s, v_num=3, train_loss=0.000162]"
     ]
    },
    {
     "name": "stderr",
     "output_type": "stream",
     "text": [
      "Epoch 76, global step 7700: 'train_loss' was not in top 1\n"
     ]
    },
    {
     "name": "stdout",
     "output_type": "stream",
     "text": [
      "Epoch 77: |                                              | 100/? [00:17<00:00,  5.80it/s, v_num=3, train_loss=0.000161]"
     ]
    },
    {
     "name": "stderr",
     "output_type": "stream",
     "text": [
      "Epoch 77, global step 7800: 'train_loss' was not in top 1\n"
     ]
    },
    {
     "name": "stdout",
     "output_type": "stream",
     "text": [
      "Epoch 78: |                                              | 100/? [00:17<00:00,  5.81it/s, v_num=3, train_loss=0.000178]"
     ]
    },
    {
     "name": "stderr",
     "output_type": "stream",
     "text": [
      "Epoch 78, global step 7900: 'train_loss' was not in top 1\n"
     ]
    },
    {
     "name": "stdout",
     "output_type": "stream",
     "text": [
      "Epoch 79: |                                              | 100/? [00:17<00:00,  5.80it/s, v_num=3, train_loss=0.000166]"
     ]
    },
    {
     "name": "stderr",
     "output_type": "stream",
     "text": [
      "Epoch 79, global step 8000: 'train_loss' was not in top 1\n"
     ]
    },
    {
     "name": "stdout",
     "output_type": "stream",
     "text": [
      "Epoch 80: |                                              | 100/? [00:17<00:00,  5.80it/s, v_num=3, train_loss=0.000154]"
     ]
    },
    {
     "name": "stderr",
     "output_type": "stream",
     "text": [
      "Epoch 80, global step 8100: 'train_loss' reached 0.00015 (best 0.00015), saving model to 'C:\\\\Users\\\\falty\\\\Desktop\\\\GZS\\\\trading\\\\swing\\\\multi\\\\dobby\\\\lightning_logs\\\\version_3\\\\checkpoints\\\\epoch=80-step=8100.ckpt' as top 1\n"
     ]
    },
    {
     "name": "stdout",
     "output_type": "stream",
     "text": [
      "Epoch 81: |                                               | 100/? [00:17<00:00,  5.72it/s, v_num=3, train_loss=0.00016]"
     ]
    },
    {
     "name": "stderr",
     "output_type": "stream",
     "text": [
      "Epoch 81, global step 8200: 'train_loss' was not in top 1\n"
     ]
    },
    {
     "name": "stdout",
     "output_type": "stream",
     "text": [
      "Epoch 82: |                                              | 100/? [00:17<00:00,  5.76it/s, v_num=3, train_loss=0.000166]"
     ]
    },
    {
     "name": "stderr",
     "output_type": "stream",
     "text": [
      "Epoch 82, global step 8300: 'train_loss' was not in top 1\n"
     ]
    },
    {
     "name": "stdout",
     "output_type": "stream",
     "text": [
      "Epoch 83: |                                              | 100/? [00:17<00:00,  5.83it/s, v_num=3, train_loss=0.000149]"
     ]
    },
    {
     "name": "stderr",
     "output_type": "stream",
     "text": [
      "Epoch 83, global step 8400: 'train_loss' reached 0.00015 (best 0.00015), saving model to 'C:\\\\Users\\\\falty\\\\Desktop\\\\GZS\\\\trading\\\\swing\\\\multi\\\\dobby\\\\lightning_logs\\\\version_3\\\\checkpoints\\\\epoch=83-step=8400.ckpt' as top 1\n"
     ]
    },
    {
     "name": "stdout",
     "output_type": "stream",
     "text": [
      "Epoch 84: |                                              | 100/? [00:17<00:00,  5.79it/s, v_num=3, train_loss=0.000144]"
     ]
    },
    {
     "name": "stderr",
     "output_type": "stream",
     "text": [
      "Epoch 84, global step 8500: 'train_loss' reached 0.00014 (best 0.00014), saving model to 'C:\\\\Users\\\\falty\\\\Desktop\\\\GZS\\\\trading\\\\swing\\\\multi\\\\dobby\\\\lightning_logs\\\\version_3\\\\checkpoints\\\\epoch=84-step=8500.ckpt' as top 1\n"
     ]
    },
    {
     "name": "stdout",
     "output_type": "stream",
     "text": [
      "Epoch 85: |                                              | 100/? [00:17<00:00,  5.77it/s, v_num=3, train_loss=0.000153]"
     ]
    },
    {
     "name": "stderr",
     "output_type": "stream",
     "text": [
      "Epoch 85, global step 8600: 'train_loss' was not in top 1\n"
     ]
    },
    {
     "name": "stdout",
     "output_type": "stream",
     "text": [
      "Epoch 86: |                                              | 100/? [00:16<00:00,  5.90it/s, v_num=3, train_loss=0.000145]"
     ]
    },
    {
     "name": "stderr",
     "output_type": "stream",
     "text": [
      "Epoch 86, global step 8700: 'train_loss' was not in top 1\n"
     ]
    },
    {
     "name": "stdout",
     "output_type": "stream",
     "text": [
      "Epoch 87: |                                              | 100/? [00:17<00:00,  5.83it/s, v_num=3, train_loss=0.000146]"
     ]
    },
    {
     "name": "stderr",
     "output_type": "stream",
     "text": [
      "Epoch 87, global step 8800: 'train_loss' was not in top 1\n"
     ]
    },
    {
     "name": "stdout",
     "output_type": "stream",
     "text": [
      "Epoch 88: |                                              | 100/? [00:17<00:00,  5.87it/s, v_num=3, train_loss=0.000155]"
     ]
    },
    {
     "name": "stderr",
     "output_type": "stream",
     "text": [
      "Epoch 88, global step 8900: 'train_loss' was not in top 1\n"
     ]
    },
    {
     "name": "stdout",
     "output_type": "stream",
     "text": [
      "Epoch 89: |                                              | 100/? [00:17<00:00,  5.71it/s, v_num=3, train_loss=0.000216]"
     ]
    },
    {
     "name": "stderr",
     "output_type": "stream",
     "text": [
      "Epoch 89, global step 9000: 'train_loss' was not in top 1\n"
     ]
    },
    {
     "name": "stdout",
     "output_type": "stream",
     "text": [
      "Epoch 90: |                                              | 100/? [00:17<00:00,  5.80it/s, v_num=3, train_loss=0.000185]"
     ]
    },
    {
     "name": "stderr",
     "output_type": "stream",
     "text": [
      "Epoch 90, global step 9100: 'train_loss' was not in top 1\n"
     ]
    },
    {
     "name": "stdout",
     "output_type": "stream",
     "text": [
      "Epoch 91: |                                              | 100/? [00:17<00:00,  5.81it/s, v_num=3, train_loss=0.000146]"
     ]
    },
    {
     "name": "stderr",
     "output_type": "stream",
     "text": [
      "Epoch 91, global step 9200: 'train_loss' was not in top 1\n"
     ]
    },
    {
     "name": "stdout",
     "output_type": "stream",
     "text": [
      "Epoch 92: |                                              | 100/? [00:17<00:00,  5.81it/s, v_num=3, train_loss=0.000136]"
     ]
    },
    {
     "name": "stderr",
     "output_type": "stream",
     "text": [
      "Epoch 92, global step 9300: 'train_loss' reached 0.00014 (best 0.00014), saving model to 'C:\\\\Users\\\\falty\\\\Desktop\\\\GZS\\\\trading\\\\swing\\\\multi\\\\dobby\\\\lightning_logs\\\\version_3\\\\checkpoints\\\\epoch=92-step=9300.ckpt' as top 1\n"
     ]
    },
    {
     "name": "stdout",
     "output_type": "stream",
     "text": [
      "Epoch 93: |                                              | 100/? [00:17<00:00,  5.67it/s, v_num=3, train_loss=0.000134]"
     ]
    },
    {
     "name": "stderr",
     "output_type": "stream",
     "text": [
      "Epoch 93, global step 9400: 'train_loss' reached 0.00013 (best 0.00013), saving model to 'C:\\\\Users\\\\falty\\\\Desktop\\\\GZS\\\\trading\\\\swing\\\\multi\\\\dobby\\\\lightning_logs\\\\version_3\\\\checkpoints\\\\epoch=93-step=9400.ckpt' as top 1\n"
     ]
    },
    {
     "name": "stdout",
     "output_type": "stream",
     "text": [
      "Epoch 94: |                                               | 100/? [00:17<00:00,  5.76it/s, v_num=3, train_loss=0.00014]"
     ]
    },
    {
     "name": "stderr",
     "output_type": "stream",
     "text": [
      "Epoch 94, global step 9500: 'train_loss' was not in top 1\n"
     ]
    },
    {
     "name": "stdout",
     "output_type": "stream",
     "text": [
      "Epoch 95: |                                               | 100/? [00:17<00:00,  5.81it/s, v_num=3, train_loss=0.00015]"
     ]
    },
    {
     "name": "stderr",
     "output_type": "stream",
     "text": [
      "Epoch 95, global step 9600: 'train_loss' was not in top 1\n"
     ]
    },
    {
     "name": "stdout",
     "output_type": "stream",
     "text": [
      "Epoch 96: |                                              | 100/? [00:17<00:00,  5.76it/s, v_num=3, train_loss=0.000143]"
     ]
    },
    {
     "name": "stderr",
     "output_type": "stream",
     "text": [
      "Epoch 96, global step 9700: 'train_loss' was not in top 1\n"
     ]
    },
    {
     "name": "stdout",
     "output_type": "stream",
     "text": [
      "Epoch 97: |                                              | 100/? [00:17<00:00,  5.78it/s, v_num=3, train_loss=0.000134]"
     ]
    },
    {
     "name": "stderr",
     "output_type": "stream",
     "text": [
      "Epoch 97, global step 9800: 'train_loss' reached 0.00013 (best 0.00013), saving model to 'C:\\\\Users\\\\falty\\\\Desktop\\\\GZS\\\\trading\\\\swing\\\\multi\\\\dobby\\\\lightning_logs\\\\version_3\\\\checkpoints\\\\epoch=97-step=9800.ckpt' as top 1\n"
     ]
    },
    {
     "name": "stdout",
     "output_type": "stream",
     "text": [
      "Epoch 98: |                                              | 100/? [00:17<00:00,  5.74it/s, v_num=3, train_loss=0.000123]"
     ]
    },
    {
     "name": "stderr",
     "output_type": "stream",
     "text": [
      "Epoch 98, global step 9900: 'train_loss' reached 0.00012 (best 0.00012), saving model to 'C:\\\\Users\\\\falty\\\\Desktop\\\\GZS\\\\trading\\\\swing\\\\multi\\\\dobby\\\\lightning_logs\\\\version_3\\\\checkpoints\\\\epoch=98-step=9900.ckpt' as top 1\n"
     ]
    },
    {
     "name": "stdout",
     "output_type": "stream",
     "text": [
      "Epoch 99: |                                               | 100/? [00:17<00:00,  5.83it/s, v_num=3, train_loss=0.00013]"
     ]
    },
    {
     "name": "stderr",
     "output_type": "stream",
     "text": [
      "Epoch 99, global step 10000: 'train_loss' was not in top 1\n"
     ]
    },
    {
     "name": "stdout",
     "output_type": "stream",
     "text": [
      "Epoch 100: |                                             | 100/? [00:17<00:00,  5.87it/s, v_num=3, train_loss=0.000138]"
     ]
    },
    {
     "name": "stderr",
     "output_type": "stream",
     "text": [
      "Epoch 100, global step 10100: 'train_loss' was not in top 1\n"
     ]
    },
    {
     "name": "stdout",
     "output_type": "stream",
     "text": [
      "Epoch 101: |                                             | 100/? [00:17<00:00,  5.87it/s, v_num=3, train_loss=0.000129]"
     ]
    },
    {
     "name": "stderr",
     "output_type": "stream",
     "text": [
      "Epoch 101, global step 10200: 'train_loss' was not in top 1\n"
     ]
    },
    {
     "name": "stdout",
     "output_type": "stream",
     "text": [
      "Epoch 102: |                                             | 100/? [00:17<00:00,  5.85it/s, v_num=3, train_loss=0.000125]"
     ]
    },
    {
     "name": "stderr",
     "output_type": "stream",
     "text": [
      "Epoch 102, global step 10300: 'train_loss' was not in top 1\n"
     ]
    },
    {
     "name": "stdout",
     "output_type": "stream",
     "text": [
      "Epoch 103: |                                              | 100/? [00:17<00:00,  5.84it/s, v_num=3, train_loss=0.00012]"
     ]
    },
    {
     "name": "stderr",
     "output_type": "stream",
     "text": [
      "Epoch 103, global step 10400: 'train_loss' reached 0.00012 (best 0.00012), saving model to 'C:\\\\Users\\\\falty\\\\Desktop\\\\GZS\\\\trading\\\\swing\\\\multi\\\\dobby\\\\lightning_logs\\\\version_3\\\\checkpoints\\\\epoch=103-step=10400.ckpt' as top 1\n"
     ]
    },
    {
     "name": "stdout",
     "output_type": "stream",
     "text": [
      "Epoch 104: |                                             | 100/? [00:17<00:00,  5.78it/s, v_num=3, train_loss=0.000121]"
     ]
    },
    {
     "name": "stderr",
     "output_type": "stream",
     "text": [
      "Epoch 104, global step 10500: 'train_loss' was not in top 1\n"
     ]
    },
    {
     "name": "stdout",
     "output_type": "stream",
     "text": [
      "Epoch 105: |                                             | 100/? [00:17<00:00,  5.83it/s, v_num=3, train_loss=0.000123]"
     ]
    },
    {
     "name": "stderr",
     "output_type": "stream",
     "text": [
      "Epoch 105, global step 10600: 'train_loss' was not in top 1\n"
     ]
    },
    {
     "name": "stdout",
     "output_type": "stream",
     "text": [
      "Epoch 106: |                                              | 100/? [00:17<00:00,  5.85it/s, v_num=3, train_loss=0.00012]"
     ]
    },
    {
     "name": "stderr",
     "output_type": "stream",
     "text": [
      "Epoch 106, global step 10700: 'train_loss' was not in top 1\n"
     ]
    },
    {
     "name": "stdout",
     "output_type": "stream",
     "text": [
      "Epoch 107: |                                             | 100/? [00:17<00:00,  5.85it/s, v_num=3, train_loss=0.000125]"
     ]
    },
    {
     "name": "stderr",
     "output_type": "stream",
     "text": [
      "Epoch 107, global step 10800: 'train_loss' was not in top 1\n"
     ]
    },
    {
     "name": "stdout",
     "output_type": "stream",
     "text": [
      "Epoch 108: |                                             | 100/? [00:17<00:00,  5.86it/s, v_num=3, train_loss=0.000128]"
     ]
    },
    {
     "name": "stderr",
     "output_type": "stream",
     "text": [
      "Epoch 108, global step 10900: 'train_loss' was not in top 1\n"
     ]
    },
    {
     "name": "stdout",
     "output_type": "stream",
     "text": [
      "Epoch 109: |                                             | 100/? [00:17<00:00,  5.87it/s, v_num=3, train_loss=0.000148]"
     ]
    },
    {
     "name": "stderr",
     "output_type": "stream",
     "text": [
      "Epoch 109, global step 11000: 'train_loss' was not in top 1\n"
     ]
    },
    {
     "name": "stdout",
     "output_type": "stream",
     "text": [
      "Epoch 110: |                                             | 100/? [00:17<00:00,  5.85it/s, v_num=3, train_loss=0.000134]"
     ]
    },
    {
     "name": "stderr",
     "output_type": "stream",
     "text": [
      "Epoch 110, global step 11100: 'train_loss' was not in top 1\n"
     ]
    },
    {
     "name": "stdout",
     "output_type": "stream",
     "text": [
      "Epoch 111: |                                              | 100/? [00:17<00:00,  5.81it/s, v_num=3, train_loss=0.00013]"
     ]
    },
    {
     "name": "stderr",
     "output_type": "stream",
     "text": [
      "Epoch 111, global step 11200: 'train_loss' was not in top 1\n"
     ]
    },
    {
     "name": "stdout",
     "output_type": "stream",
     "text": [
      "Epoch 112: |                                             | 100/? [00:17<00:00,  5.85it/s, v_num=3, train_loss=0.000122]"
     ]
    },
    {
     "name": "stderr",
     "output_type": "stream",
     "text": [
      "Epoch 112, global step 11300: 'train_loss' was not in top 1\n"
     ]
    },
    {
     "name": "stdout",
     "output_type": "stream",
     "text": [
      "Epoch 113: |                                             | 100/? [00:17<00:00,  5.82it/s, v_num=3, train_loss=0.000125]"
     ]
    },
    {
     "name": "stderr",
     "output_type": "stream",
     "text": [
      "Epoch 113, global step 11400: 'train_loss' was not in top 1\n"
     ]
    },
    {
     "name": "stdout",
     "output_type": "stream",
     "text": [
      "Epoch 114: |                                             | 100/? [00:17<00:00,  5.84it/s, v_num=3, train_loss=0.000144]"
     ]
    },
    {
     "name": "stderr",
     "output_type": "stream",
     "text": [
      "Epoch 114, global step 11500: 'train_loss' was not in top 1\n"
     ]
    },
    {
     "name": "stdout",
     "output_type": "stream",
     "text": [
      "Epoch 115: |                                              | 100/? [00:17<00:00,  5.85it/s, v_num=3, train_loss=7.28e-5]"
     ]
    },
    {
     "name": "stderr",
     "output_type": "stream",
     "text": [
      "Epoch 115, global step 11600: 'train_loss' reached 0.00007 (best 0.00007), saving model to 'C:\\\\Users\\\\falty\\\\Desktop\\\\GZS\\\\trading\\\\swing\\\\multi\\\\dobby\\\\lightning_logs\\\\version_3\\\\checkpoints\\\\epoch=115-step=11600.ckpt' as top 1\n"
     ]
    },
    {
     "name": "stdout",
     "output_type": "stream",
     "text": [
      "Epoch 116: |                                              | 100/? [00:17<00:00,  5.74it/s, v_num=3, train_loss=6.52e-5]"
     ]
    },
    {
     "name": "stderr",
     "output_type": "stream",
     "text": [
      "Epoch 116, global step 11700: 'train_loss' reached 0.00007 (best 0.00007), saving model to 'C:\\\\Users\\\\falty\\\\Desktop\\\\GZS\\\\trading\\\\swing\\\\multi\\\\dobby\\\\lightning_logs\\\\version_3\\\\checkpoints\\\\epoch=116-step=11700.ckpt' as top 1\n"
     ]
    },
    {
     "name": "stdout",
     "output_type": "stream",
     "text": [
      "Epoch 117: |                                              | 100/? [00:17<00:00,  5.79it/s, v_num=3, train_loss=6.24e-5]"
     ]
    },
    {
     "name": "stderr",
     "output_type": "stream",
     "text": [
      "Epoch 117, global step 11800: 'train_loss' reached 0.00006 (best 0.00006), saving model to 'C:\\\\Users\\\\falty\\\\Desktop\\\\GZS\\\\trading\\\\swing\\\\multi\\\\dobby\\\\lightning_logs\\\\version_3\\\\checkpoints\\\\epoch=117-step=11800.ckpt' as top 1\n"
     ]
    },
    {
     "name": "stdout",
     "output_type": "stream",
     "text": [
      "Epoch 118: |                                              | 100/? [00:17<00:00,  5.76it/s, v_num=3, train_loss=7.13e-5]"
     ]
    },
    {
     "name": "stderr",
     "output_type": "stream",
     "text": [
      "Epoch 118, global step 11900: 'train_loss' was not in top 1\n"
     ]
    },
    {
     "name": "stdout",
     "output_type": "stream",
     "text": [
      "Epoch 119: |                                              | 100/? [00:17<00:00,  5.85it/s, v_num=3, train_loss=6.08e-5]"
     ]
    },
    {
     "name": "stderr",
     "output_type": "stream",
     "text": [
      "Epoch 119, global step 12000: 'train_loss' reached 0.00006 (best 0.00006), saving model to 'C:\\\\Users\\\\falty\\\\Desktop\\\\GZS\\\\trading\\\\swing\\\\multi\\\\dobby\\\\lightning_logs\\\\version_3\\\\checkpoints\\\\epoch=119-step=12000.ckpt' as top 1\n"
     ]
    },
    {
     "name": "stdout",
     "output_type": "stream",
     "text": [
      "Epoch 120: |                                              | 100/? [00:17<00:00,  5.76it/s, v_num=3, train_loss=6.35e-5]"
     ]
    },
    {
     "name": "stderr",
     "output_type": "stream",
     "text": [
      "Epoch 120, global step 12100: 'train_loss' was not in top 1\n"
     ]
    },
    {
     "name": "stdout",
     "output_type": "stream",
     "text": [
      "Epoch 121: |                                              | 100/? [00:16<00:00,  5.89it/s, v_num=3, train_loss=6.06e-5]"
     ]
    },
    {
     "name": "stderr",
     "output_type": "stream",
     "text": [
      "Epoch 121, global step 12200: 'train_loss' reached 0.00006 (best 0.00006), saving model to 'C:\\\\Users\\\\falty\\\\Desktop\\\\GZS\\\\trading\\\\swing\\\\multi\\\\dobby\\\\lightning_logs\\\\version_3\\\\checkpoints\\\\epoch=121-step=12200.ckpt' as top 1\n"
     ]
    },
    {
     "name": "stdout",
     "output_type": "stream",
     "text": [
      "Epoch 122: |                                              | 100/? [00:17<00:00,  5.81it/s, v_num=3, train_loss=6.59e-5]"
     ]
    },
    {
     "name": "stderr",
     "output_type": "stream",
     "text": [
      "Epoch 122, global step 12300: 'train_loss' was not in top 1\n"
     ]
    },
    {
     "name": "stdout",
     "output_type": "stream",
     "text": [
      "Epoch 123: |                                              | 100/? [00:16<00:00,  5.89it/s, v_num=3, train_loss=6.21e-5]"
     ]
    },
    {
     "name": "stderr",
     "output_type": "stream",
     "text": [
      "Epoch 123, global step 12400: 'train_loss' was not in top 1\n"
     ]
    },
    {
     "name": "stdout",
     "output_type": "stream",
     "text": [
      "Epoch 124: |                                              | 100/? [00:17<00:00,  5.86it/s, v_num=3, train_loss=6.45e-5]"
     ]
    },
    {
     "name": "stderr",
     "output_type": "stream",
     "text": [
      "Epoch 124, global step 12500: 'train_loss' was not in top 1\n"
     ]
    },
    {
     "name": "stdout",
     "output_type": "stream",
     "text": [
      "Epoch 125: |                                              | 100/? [00:17<00:00,  5.86it/s, v_num=3, train_loss=6.37e-5]"
     ]
    },
    {
     "name": "stderr",
     "output_type": "stream",
     "text": [
      "Epoch 125, global step 12600: 'train_loss' was not in top 1\n"
     ]
    },
    {
     "name": "stdout",
     "output_type": "stream",
     "text": [
      "Epoch 126: |                                              | 100/? [00:17<00:00,  5.84it/s, v_num=3, train_loss=6.71e-5]"
     ]
    },
    {
     "name": "stderr",
     "output_type": "stream",
     "text": [
      "Epoch 126, global step 12700: 'train_loss' was not in top 1\n"
     ]
    },
    {
     "name": "stdout",
     "output_type": "stream",
     "text": [
      "Epoch 127: |                                              | 100/? [00:17<00:00,  5.85it/s, v_num=3, train_loss=6.49e-5]"
     ]
    },
    {
     "name": "stderr",
     "output_type": "stream",
     "text": [
      "Epoch 127, global step 12800: 'train_loss' was not in top 1\n"
     ]
    },
    {
     "name": "stdout",
     "output_type": "stream",
     "text": [
      "Epoch 128: |                                              | 100/? [00:17<00:00,  5.87it/s, v_num=3, train_loss=6.32e-5]"
     ]
    },
    {
     "name": "stderr",
     "output_type": "stream",
     "text": [
      "Epoch 128, global step 12900: 'train_loss' was not in top 1\n"
     ]
    },
    {
     "name": "stdout",
     "output_type": "stream",
     "text": [
      "Epoch 129: |                                              | 100/? [00:17<00:00,  5.86it/s, v_num=3, train_loss=6.54e-5]"
     ]
    },
    {
     "name": "stderr",
     "output_type": "stream",
     "text": [
      "Epoch 129, global step 13000: 'train_loss' was not in top 1\n"
     ]
    },
    {
     "name": "stdout",
     "output_type": "stream",
     "text": [
      "Epoch 130: |                                              | 100/? [00:17<00:00,  5.86it/s, v_num=3, train_loss=6.61e-5]"
     ]
    },
    {
     "name": "stderr",
     "output_type": "stream",
     "text": [
      "Epoch 130, global step 13100: 'train_loss' was not in top 1\n"
     ]
    },
    {
     "name": "stdout",
     "output_type": "stream",
     "text": [
      "Epoch 131: |                                              | 100/? [00:17<00:00,  5.85it/s, v_num=3, train_loss=6.33e-5]"
     ]
    },
    {
     "name": "stderr",
     "output_type": "stream",
     "text": [
      "Epoch 131, global step 13200: 'train_loss' was not in top 1\n"
     ]
    },
    {
     "name": "stdout",
     "output_type": "stream",
     "text": [
      "Epoch 132: |                                              | 100/? [00:17<00:00,  5.85it/s, v_num=3, train_loss=6.92e-5]"
     ]
    },
    {
     "name": "stderr",
     "output_type": "stream",
     "text": [
      "Epoch 132, global step 13300: 'train_loss' was not in top 1\n"
     ]
    },
    {
     "name": "stdout",
     "output_type": "stream",
     "text": [
      "Epoch 133: |                                              | 100/? [00:17<00:00,  5.83it/s, v_num=3, train_loss=4.42e-5]"
     ]
    },
    {
     "name": "stderr",
     "output_type": "stream",
     "text": [
      "Epoch 133, global step 13400: 'train_loss' reached 0.00004 (best 0.00004), saving model to 'C:\\\\Users\\\\falty\\\\Desktop\\\\GZS\\\\trading\\\\swing\\\\multi\\\\dobby\\\\lightning_logs\\\\version_3\\\\checkpoints\\\\epoch=133-step=13400.ckpt' as top 1\n"
     ]
    },
    {
     "name": "stdout",
     "output_type": "stream",
     "text": [
      "Epoch 134: |                                              | 100/? [00:17<00:00,  5.73it/s, v_num=3, train_loss=3.75e-5]"
     ]
    },
    {
     "name": "stderr",
     "output_type": "stream",
     "text": [
      "Epoch 134, global step 13500: 'train_loss' reached 0.00004 (best 0.00004), saving model to 'C:\\\\Users\\\\falty\\\\Desktop\\\\GZS\\\\trading\\\\swing\\\\multi\\\\dobby\\\\lightning_logs\\\\version_3\\\\checkpoints\\\\epoch=134-step=13500.ckpt' as top 1\n"
     ]
    },
    {
     "name": "stdout",
     "output_type": "stream",
     "text": [
      "Epoch 135: |                                              | 100/? [00:17<00:00,  5.81it/s, v_num=3, train_loss=3.81e-5]"
     ]
    },
    {
     "name": "stderr",
     "output_type": "stream",
     "text": [
      "Epoch 135, global step 13600: 'train_loss' was not in top 1\n"
     ]
    },
    {
     "name": "stdout",
     "output_type": "stream",
     "text": [
      "Epoch 136: |                                               | 100/? [00:17<00:00,  5.87it/s, v_num=3, train_loss=3.7e-5]"
     ]
    },
    {
     "name": "stderr",
     "output_type": "stream",
     "text": [
      "Epoch 136, global step 13700: 'train_loss' reached 0.00004 (best 0.00004), saving model to 'C:\\\\Users\\\\falty\\\\Desktop\\\\GZS\\\\trading\\\\swing\\\\multi\\\\dobby\\\\lightning_logs\\\\version_3\\\\checkpoints\\\\epoch=136-step=13700.ckpt' as top 1\n"
     ]
    },
    {
     "name": "stdout",
     "output_type": "stream",
     "text": [
      "Epoch 137: |                                              | 100/? [00:17<00:00,  5.76it/s, v_num=3, train_loss=3.78e-5]"
     ]
    },
    {
     "name": "stderr",
     "output_type": "stream",
     "text": [
      "Epoch 137, global step 13800: 'train_loss' was not in top 1\n"
     ]
    },
    {
     "name": "stdout",
     "output_type": "stream",
     "text": [
      "Epoch 138: |                                              | 100/? [00:16<00:00,  5.89it/s, v_num=3, train_loss=3.71e-5]"
     ]
    },
    {
     "name": "stderr",
     "output_type": "stream",
     "text": [
      "Epoch 138, global step 13900: 'train_loss' was not in top 1\n"
     ]
    },
    {
     "name": "stdout",
     "output_type": "stream",
     "text": [
      "Epoch 139: |                                              | 100/? [00:17<00:00,  5.87it/s, v_num=3, train_loss=3.56e-5]"
     ]
    },
    {
     "name": "stderr",
     "output_type": "stream",
     "text": [
      "Epoch 139, global step 14000: 'train_loss' reached 0.00004 (best 0.00004), saving model to 'C:\\\\Users\\\\falty\\\\Desktop\\\\GZS\\\\trading\\\\swing\\\\multi\\\\dobby\\\\lightning_logs\\\\version_3\\\\checkpoints\\\\epoch=139-step=14000.ckpt' as top 1\n"
     ]
    },
    {
     "name": "stdout",
     "output_type": "stream",
     "text": [
      "Epoch 140: |                                              | 100/? [00:17<00:00,  5.77it/s, v_num=3, train_loss=3.67e-5]"
     ]
    },
    {
     "name": "stderr",
     "output_type": "stream",
     "text": [
      "Epoch 140, global step 14100: 'train_loss' was not in top 1\n"
     ]
    },
    {
     "name": "stdout",
     "output_type": "stream",
     "text": [
      "Epoch 141: |                                              | 100/? [00:17<00:00,  5.87it/s, v_num=3, train_loss=3.73e-5]"
     ]
    },
    {
     "name": "stderr",
     "output_type": "stream",
     "text": [
      "Epoch 141, global step 14200: 'train_loss' was not in top 1\n"
     ]
    },
    {
     "name": "stdout",
     "output_type": "stream",
     "text": [
      "Epoch 142: |                                              | 100/? [00:17<00:00,  5.84it/s, v_num=3, train_loss=3.67e-5]"
     ]
    },
    {
     "name": "stderr",
     "output_type": "stream",
     "text": [
      "Epoch 142, global step 14300: 'train_loss' was not in top 1\n"
     ]
    },
    {
     "name": "stdout",
     "output_type": "stream",
     "text": [
      "Epoch 143: |                                              | 100/? [00:17<00:00,  5.83it/s, v_num=3, train_loss=3.88e-5]"
     ]
    },
    {
     "name": "stderr",
     "output_type": "stream",
     "text": [
      "Epoch 143, global step 14400: 'train_loss' was not in top 1\n"
     ]
    },
    {
     "name": "stdout",
     "output_type": "stream",
     "text": [
      "Epoch 144: |                                              | 100/? [00:17<00:00,  5.84it/s, v_num=3, train_loss=3.92e-5]"
     ]
    },
    {
     "name": "stderr",
     "output_type": "stream",
     "text": [
      "Epoch 144, global step 14500: 'train_loss' was not in top 1\n"
     ]
    },
    {
     "name": "stdout",
     "output_type": "stream",
     "text": [
      "Epoch 145: |                                              | 100/? [00:17<00:00,  5.85it/s, v_num=3, train_loss=3.77e-5]"
     ]
    },
    {
     "name": "stderr",
     "output_type": "stream",
     "text": [
      "Epoch 145, global step 14600: 'train_loss' was not in top 1\n"
     ]
    },
    {
     "name": "stdout",
     "output_type": "stream",
     "text": [
      "Epoch 146: |                                              | 100/? [00:17<00:00,  5.83it/s, v_num=3, train_loss=3.84e-5]"
     ]
    },
    {
     "name": "stderr",
     "output_type": "stream",
     "text": [
      "Epoch 146, global step 14700: 'train_loss' was not in top 1\n"
     ]
    },
    {
     "name": "stdout",
     "output_type": "stream",
     "text": [
      "Epoch 147: |                                               | 100/? [00:17<00:00,  5.87it/s, v_num=3, train_loss=3.8e-5]"
     ]
    },
    {
     "name": "stderr",
     "output_type": "stream",
     "text": [
      "Epoch 147, global step 14800: 'train_loss' was not in top 1\n"
     ]
    },
    {
     "name": "stdout",
     "output_type": "stream",
     "text": [
      "Epoch 148: |                                               | 100/? [00:17<00:00,  5.84it/s, v_num=3, train_loss=3.7e-5]"
     ]
    },
    {
     "name": "stderr",
     "output_type": "stream",
     "text": [
      "Epoch 148, global step 14900: 'train_loss' was not in top 1\n"
     ]
    },
    {
     "name": "stdout",
     "output_type": "stream",
     "text": [
      "Epoch 149: |                                              | 100/? [00:17<00:00,  5.85it/s, v_num=3, train_loss=3.93e-5]"
     ]
    },
    {
     "name": "stderr",
     "output_type": "stream",
     "text": [
      "Epoch 149, global step 15000: 'train_loss' was not in top 1\n"
     ]
    },
    {
     "name": "stdout",
     "output_type": "stream",
     "text": [
      "Epoch 150: |                                               | 100/? [00:17<00:00,  5.86it/s, v_num=3, train_loss=3.7e-5]"
     ]
    },
    {
     "name": "stderr",
     "output_type": "stream",
     "text": [
      "Epoch 150, global step 15100: 'train_loss' was not in top 1\n"
     ]
    },
    {
     "name": "stdout",
     "output_type": "stream",
     "text": [
      "Epoch 151: |                                               | 100/? [00:17<00:00,  5.87it/s, v_num=3, train_loss=2.7e-5]"
     ]
    },
    {
     "name": "stderr",
     "output_type": "stream",
     "text": [
      "Epoch 151, global step 15200: 'train_loss' reached 0.00003 (best 0.00003), saving model to 'C:\\\\Users\\\\falty\\\\Desktop\\\\GZS\\\\trading\\\\swing\\\\multi\\\\dobby\\\\lightning_logs\\\\version_3\\\\checkpoints\\\\epoch=151-step=15200.ckpt' as top 1\n"
     ]
    },
    {
     "name": "stdout",
     "output_type": "stream",
     "text": [
      "Epoch 152: |                                              | 100/? [00:17<00:00,  5.77it/s, v_num=3, train_loss=2.49e-5]"
     ]
    },
    {
     "name": "stderr",
     "output_type": "stream",
     "text": [
      "Epoch 152, global step 15300: 'train_loss' reached 0.00002 (best 0.00002), saving model to 'C:\\\\Users\\\\falty\\\\Desktop\\\\GZS\\\\trading\\\\swing\\\\multi\\\\dobby\\\\lightning_logs\\\\version_3\\\\checkpoints\\\\epoch=152-step=15300.ckpt' as top 1\n"
     ]
    },
    {
     "name": "stdout",
     "output_type": "stream",
     "text": [
      "Epoch 153: |                                              | 100/? [00:17<00:00,  5.77it/s, v_num=3, train_loss=2.41e-5]"
     ]
    },
    {
     "name": "stderr",
     "output_type": "stream",
     "text": [
      "Epoch 153, global step 15400: 'train_loss' reached 0.00002 (best 0.00002), saving model to 'C:\\\\Users\\\\falty\\\\Desktop\\\\GZS\\\\trading\\\\swing\\\\multi\\\\dobby\\\\lightning_logs\\\\version_3\\\\checkpoints\\\\epoch=153-step=15400.ckpt' as top 1\n"
     ]
    },
    {
     "name": "stdout",
     "output_type": "stream",
     "text": [
      "Epoch 154: |                                              | 100/? [00:17<00:00,  5.78it/s, v_num=3, train_loss=2.44e-5]"
     ]
    },
    {
     "name": "stderr",
     "output_type": "stream",
     "text": [
      "Epoch 154, global step 15500: 'train_loss' was not in top 1\n"
     ]
    },
    {
     "name": "stdout",
     "output_type": "stream",
     "text": [
      "Epoch 155: |                                               | 100/? [00:17<00:00,  5.88it/s, v_num=3, train_loss=2.5e-5]"
     ]
    },
    {
     "name": "stderr",
     "output_type": "stream",
     "text": [
      "Epoch 155, global step 15600: 'train_loss' was not in top 1\n"
     ]
    },
    {
     "name": "stdout",
     "output_type": "stream",
     "text": [
      "Epoch 156: |                                              | 100/? [00:17<00:00,  5.84it/s, v_num=3, train_loss=2.52e-5]"
     ]
    },
    {
     "name": "stderr",
     "output_type": "stream",
     "text": [
      "Epoch 156, global step 15700: 'train_loss' was not in top 1\n"
     ]
    },
    {
     "name": "stdout",
     "output_type": "stream",
     "text": [
      "Epoch 157: |                                              | 100/? [00:17<00:00,  5.86it/s, v_num=3, train_loss=2.42e-5]"
     ]
    },
    {
     "name": "stderr",
     "output_type": "stream",
     "text": [
      "Epoch 157, global step 15800: 'train_loss' was not in top 1\n"
     ]
    },
    {
     "name": "stdout",
     "output_type": "stream",
     "text": [
      "Epoch 158: |                                              | 100/? [00:17<00:00,  5.88it/s, v_num=3, train_loss=2.41e-5]"
     ]
    },
    {
     "name": "stderr",
     "output_type": "stream",
     "text": [
      "Epoch 158, global step 15900: 'train_loss' was not in top 1\n"
     ]
    },
    {
     "name": "stdout",
     "output_type": "stream",
     "text": [
      "Epoch 159: |                                              | 100/? [00:17<00:00,  5.86it/s, v_num=3, train_loss=2.53e-5]"
     ]
    },
    {
     "name": "stderr",
     "output_type": "stream",
     "text": [
      "Epoch 159, global step 16000: 'train_loss' was not in top 1\n"
     ]
    },
    {
     "name": "stdout",
     "output_type": "stream",
     "text": [
      "Epoch 160: |                                              | 100/? [00:17<00:00,  5.87it/s, v_num=3, train_loss=2.46e-5]"
     ]
    },
    {
     "name": "stderr",
     "output_type": "stream",
     "text": [
      "Epoch 160, global step 16100: 'train_loss' was not in top 1\n"
     ]
    },
    {
     "name": "stdout",
     "output_type": "stream",
     "text": [
      "Epoch 161: |                                              | 100/? [00:17<00:00,  5.88it/s, v_num=3, train_loss=2.43e-5]"
     ]
    },
    {
     "name": "stderr",
     "output_type": "stream",
     "text": [
      "Epoch 161, global step 16200: 'train_loss' was not in top 1\n"
     ]
    },
    {
     "name": "stdout",
     "output_type": "stream",
     "text": [
      "Epoch 162: |                                              | 100/? [00:17<00:00,  5.88it/s, v_num=3, train_loss=2.46e-5]"
     ]
    },
    {
     "name": "stderr",
     "output_type": "stream",
     "text": [
      "Epoch 162, global step 16300: 'train_loss' was not in top 1\n"
     ]
    },
    {
     "name": "stdout",
     "output_type": "stream",
     "text": [
      "Epoch 163: |                                              | 100/? [00:17<00:00,  5.83it/s, v_num=3, train_loss=2.53e-5]"
     ]
    },
    {
     "name": "stderr",
     "output_type": "stream",
     "text": [
      "Epoch 163, global step 16400: 'train_loss' was not in top 1\n"
     ]
    },
    {
     "name": "stdout",
     "output_type": "stream",
     "text": [
      "Epoch 164: |                                              | 100/? [00:17<00:00,  5.86it/s, v_num=3, train_loss=2.42e-5]"
     ]
    },
    {
     "name": "stderr",
     "output_type": "stream",
     "text": [
      "Epoch 164, global step 16500: 'train_loss' was not in top 1\n"
     ]
    },
    {
     "name": "stdout",
     "output_type": "stream",
     "text": [
      "Epoch 165: |                                                 | 100/? [00:17<00:00,  5.85it/s, v_num=3, train_loss=2e-5]"
     ]
    },
    {
     "name": "stderr",
     "output_type": "stream",
     "text": [
      "Epoch 165, global step 16600: 'train_loss' reached 0.00002 (best 0.00002), saving model to 'C:\\\\Users\\\\falty\\\\Desktop\\\\GZS\\\\trading\\\\swing\\\\multi\\\\dobby\\\\lightning_logs\\\\version_3\\\\checkpoints\\\\epoch=165-step=16600.ckpt' as top 1\n"
     ]
    },
    {
     "name": "stdout",
     "output_type": "stream",
     "text": [
      "Epoch 166: |                                              | 100/? [00:17<00:00,  5.77it/s, v_num=3, train_loss=1.88e-5]"
     ]
    },
    {
     "name": "stderr",
     "output_type": "stream",
     "text": [
      "Epoch 166, global step 16700: 'train_loss' reached 0.00002 (best 0.00002), saving model to 'C:\\\\Users\\\\falty\\\\Desktop\\\\GZS\\\\trading\\\\swing\\\\multi\\\\dobby\\\\lightning_logs\\\\version_3\\\\checkpoints\\\\epoch=166-step=16700.ckpt' as top 1\n"
     ]
    },
    {
     "name": "stdout",
     "output_type": "stream",
     "text": [
      "Epoch 167: |                                              | 100/? [00:17<00:00,  5.78it/s, v_num=3, train_loss=1.89e-5]"
     ]
    },
    {
     "name": "stderr",
     "output_type": "stream",
     "text": [
      "Epoch 167, global step 16800: 'train_loss' was not in top 1\n"
     ]
    },
    {
     "name": "stdout",
     "output_type": "stream",
     "text": [
      "Epoch 168: |                                              | 100/? [00:17<00:00,  5.88it/s, v_num=3, train_loss=1.87e-5]"
     ]
    },
    {
     "name": "stderr",
     "output_type": "stream",
     "text": [
      "Epoch 168, global step 16900: 'train_loss' reached 0.00002 (best 0.00002), saving model to 'C:\\\\Users\\\\falty\\\\Desktop\\\\GZS\\\\trading\\\\swing\\\\multi\\\\dobby\\\\lightning_logs\\\\version_3\\\\checkpoints\\\\epoch=168-step=16900.ckpt' as top 1\n"
     ]
    },
    {
     "name": "stdout",
     "output_type": "stream",
     "text": [
      "Epoch 169: |                                              | 100/? [00:17<00:00,  5.78it/s, v_num=3, train_loss=1.85e-5]"
     ]
    },
    {
     "name": "stderr",
     "output_type": "stream",
     "text": [
      "Epoch 169, global step 17000: 'train_loss' reached 0.00002 (best 0.00002), saving model to 'C:\\\\Users\\\\falty\\\\Desktop\\\\GZS\\\\trading\\\\swing\\\\multi\\\\dobby\\\\lightning_logs\\\\version_3\\\\checkpoints\\\\epoch=169-step=17000.ckpt' as top 1\n"
     ]
    },
    {
     "name": "stdout",
     "output_type": "stream",
     "text": [
      "Epoch 170: |                                              | 100/? [00:17<00:00,  5.76it/s, v_num=3, train_loss=1.87e-5]"
     ]
    },
    {
     "name": "stderr",
     "output_type": "stream",
     "text": [
      "Epoch 170, global step 17100: 'train_loss' was not in top 1\n"
     ]
    },
    {
     "name": "stdout",
     "output_type": "stream",
     "text": [
      "Epoch 171: |                                              | 100/? [00:16<00:00,  5.90it/s, v_num=3, train_loss=1.92e-5]"
     ]
    },
    {
     "name": "stderr",
     "output_type": "stream",
     "text": [
      "Epoch 171, global step 17200: 'train_loss' was not in top 1\n"
     ]
    },
    {
     "name": "stdout",
     "output_type": "stream",
     "text": [
      "Epoch 172: |                                              | 100/? [00:17<00:00,  5.88it/s, v_num=3, train_loss=1.86e-5]"
     ]
    },
    {
     "name": "stderr",
     "output_type": "stream",
     "text": [
      "Epoch 172, global step 17300: 'train_loss' was not in top 1\n"
     ]
    },
    {
     "name": "stdout",
     "output_type": "stream",
     "text": [
      "Epoch 173: |                                              | 100/? [00:17<00:00,  5.84it/s, v_num=3, train_loss=1.87e-5]"
     ]
    },
    {
     "name": "stderr",
     "output_type": "stream",
     "text": [
      "Epoch 173, global step 17400: 'train_loss' was not in top 1\n"
     ]
    },
    {
     "name": "stdout",
     "output_type": "stream",
     "text": [
      "Epoch 174: |                                              | 100/? [00:17<00:00,  5.88it/s, v_num=3, train_loss=1.86e-5]"
     ]
    },
    {
     "name": "stderr",
     "output_type": "stream",
     "text": [
      "Epoch 174, global step 17500: 'train_loss' was not in top 1\n"
     ]
    },
    {
     "name": "stdout",
     "output_type": "stream",
     "text": [
      "Epoch 175: |                                              | 100/? [00:17<00:00,  5.88it/s, v_num=3, train_loss=1.89e-5]"
     ]
    },
    {
     "name": "stderr",
     "output_type": "stream",
     "text": [
      "Epoch 175, global step 17600: 'train_loss' was not in top 1\n"
     ]
    },
    {
     "name": "stdout",
     "output_type": "stream",
     "text": [
      "Epoch 176: |                                              | 100/? [00:17<00:00,  5.85it/s, v_num=3, train_loss=1.89e-5]"
     ]
    },
    {
     "name": "stderr",
     "output_type": "stream",
     "text": [
      "Epoch 176, global step 17700: 'train_loss' was not in top 1\n"
     ]
    },
    {
     "name": "stdout",
     "output_type": "stream",
     "text": [
      "Epoch 177: |                                              | 100/? [00:17<00:00,  5.88it/s, v_num=3, train_loss=1.85e-5]"
     ]
    },
    {
     "name": "stderr",
     "output_type": "stream",
     "text": [
      "Epoch 177, global step 17800: 'train_loss' reached 0.00002 (best 0.00002), saving model to 'C:\\\\Users\\\\falty\\\\Desktop\\\\GZS\\\\trading\\\\swing\\\\multi\\\\dobby\\\\lightning_logs\\\\version_3\\\\checkpoints\\\\epoch=177-step=17800.ckpt' as top 1\n"
     ]
    },
    {
     "name": "stdout",
     "output_type": "stream",
     "text": [
      "Epoch 178: |                                              | 100/? [00:17<00:00,  5.82it/s, v_num=3, train_loss=1.86e-5]"
     ]
    },
    {
     "name": "stderr",
     "output_type": "stream",
     "text": [
      "Epoch 178, global step 17900: 'train_loss' was not in top 1\n"
     ]
    },
    {
     "name": "stdout",
     "output_type": "stream",
     "text": [
      "Epoch 179: |                                              | 100/? [00:17<00:00,  5.87it/s, v_num=3, train_loss=1.86e-5]"
     ]
    },
    {
     "name": "stderr",
     "output_type": "stream",
     "text": [
      "Epoch 179, global step 18000: 'train_loss' was not in top 1\n"
     ]
    },
    {
     "name": "stdout",
     "output_type": "stream",
     "text": [
      "Epoch 180: |                                              | 100/? [00:16<00:00,  5.90it/s, v_num=3, train_loss=1.89e-5]"
     ]
    },
    {
     "name": "stderr",
     "output_type": "stream",
     "text": [
      "Epoch 180, global step 18100: 'train_loss' was not in top 1\n"
     ]
    },
    {
     "name": "stdout",
     "output_type": "stream",
     "text": [
      "Epoch 181: |                                              | 100/? [00:17<00:00,  5.88it/s, v_num=3, train_loss=1.85e-5]"
     ]
    },
    {
     "name": "stderr",
     "output_type": "stream",
     "text": [
      "Epoch 181, global step 18200: 'train_loss' was not in top 1\n"
     ]
    },
    {
     "name": "stdout",
     "output_type": "stream",
     "text": [
      "Epoch 182: |                                              | 100/? [00:17<00:00,  5.88it/s, v_num=3, train_loss=1.86e-5]"
     ]
    },
    {
     "name": "stderr",
     "output_type": "stream",
     "text": [
      "Epoch 182, global step 18300: 'train_loss' was not in top 1\n"
     ]
    },
    {
     "name": "stdout",
     "output_type": "stream",
     "text": [
      "Epoch 183: |                                              | 100/? [00:17<00:00,  5.84it/s, v_num=3, train_loss=1.84e-5]"
     ]
    },
    {
     "name": "stderr",
     "output_type": "stream",
     "text": [
      "Epoch 183, global step 18400: 'train_loss' reached 0.00002 (best 0.00002), saving model to 'C:\\\\Users\\\\falty\\\\Desktop\\\\GZS\\\\trading\\\\swing\\\\multi\\\\dobby\\\\lightning_logs\\\\version_3\\\\checkpoints\\\\epoch=183-step=18400.ckpt' as top 1\n"
     ]
    },
    {
     "name": "stdout",
     "output_type": "stream",
     "text": [
      "Epoch 184: |                                              | 100/? [00:17<00:00,  5.73it/s, v_num=3, train_loss=1.85e-5]"
     ]
    },
    {
     "name": "stderr",
     "output_type": "stream",
     "text": [
      "Epoch 184, global step 18500: 'train_loss' was not in top 1\n"
     ]
    },
    {
     "name": "stdout",
     "output_type": "stream",
     "text": [
      "Epoch 185: |                                              | 100/? [00:16<00:00,  5.89it/s, v_num=3, train_loss=1.85e-5]"
     ]
    },
    {
     "name": "stderr",
     "output_type": "stream",
     "text": [
      "Epoch 185, global step 18600: 'train_loss' was not in top 1\n"
     ]
    },
    {
     "name": "stdout",
     "output_type": "stream",
     "text": [
      "Epoch 186: |                                              | 100/? [00:17<00:00,  5.83it/s, v_num=3, train_loss=1.91e-5]"
     ]
    },
    {
     "name": "stderr",
     "output_type": "stream",
     "text": [
      "Epoch 186, global step 18700: 'train_loss' was not in top 1\n"
     ]
    },
    {
     "name": "stdout",
     "output_type": "stream",
     "text": [
      "Epoch 187: |                                              | 100/? [00:17<00:00,  5.88it/s, v_num=3, train_loss=1.86e-5]"
     ]
    },
    {
     "name": "stderr",
     "output_type": "stream",
     "text": [
      "Epoch 187, global step 18800: 'train_loss' was not in top 1\n"
     ]
    },
    {
     "name": "stdout",
     "output_type": "stream",
     "text": [
      "Epoch 188: |                                              | 100/? [00:17<00:00,  5.87it/s, v_num=3, train_loss=1.83e-5]"
     ]
    },
    {
     "name": "stderr",
     "output_type": "stream",
     "text": [
      "Epoch 188, global step 18900: 'train_loss' reached 0.00002 (best 0.00002), saving model to 'C:\\\\Users\\\\falty\\\\Desktop\\\\GZS\\\\trading\\\\swing\\\\multi\\\\dobby\\\\lightning_logs\\\\version_3\\\\checkpoints\\\\epoch=188-step=18900.ckpt' as top 1\n"
     ]
    },
    {
     "name": "stdout",
     "output_type": "stream",
     "text": [
      "Epoch 189: |                                              | 100/? [00:17<00:00,  5.82it/s, v_num=3, train_loss=1.85e-5]"
     ]
    },
    {
     "name": "stderr",
     "output_type": "stream",
     "text": [
      "Epoch 189, global step 19000: 'train_loss' was not in top 1\n"
     ]
    },
    {
     "name": "stdout",
     "output_type": "stream",
     "text": [
      "Epoch 190: |                                              | 100/? [00:17<00:00,  5.88it/s, v_num=3, train_loss=1.86e-5]"
     ]
    },
    {
     "name": "stderr",
     "output_type": "stream",
     "text": [
      "Epoch 190, global step 19100: 'train_loss' was not in top 1\n"
     ]
    },
    {
     "name": "stdout",
     "output_type": "stream",
     "text": [
      "Epoch 191: |                                              | 100/? [00:17<00:00,  5.88it/s, v_num=3, train_loss=1.83e-5]"
     ]
    },
    {
     "name": "stderr",
     "output_type": "stream",
     "text": [
      "Epoch 191, global step 19200: 'train_loss' reached 0.00002 (best 0.00002), saving model to 'C:\\\\Users\\\\falty\\\\Desktop\\\\GZS\\\\trading\\\\swing\\\\multi\\\\dobby\\\\lightning_logs\\\\version_3\\\\checkpoints\\\\epoch=191-step=19200.ckpt' as top 1\n"
     ]
    },
    {
     "name": "stdout",
     "output_type": "stream",
     "text": [
      "Epoch 192: |                                              | 100/? [00:17<00:00,  5.80it/s, v_num=3, train_loss=1.83e-5]"
     ]
    },
    {
     "name": "stderr",
     "output_type": "stream",
     "text": [
      "Epoch 192, global step 19300: 'train_loss' was not in top 1\n"
     ]
    },
    {
     "name": "stdout",
     "output_type": "stream",
     "text": [
      "Epoch 193: |                                              | 100/? [00:17<00:00,  5.84it/s, v_num=3, train_loss=1.85e-5]"
     ]
    },
    {
     "name": "stderr",
     "output_type": "stream",
     "text": [
      "Epoch 193, global step 19400: 'train_loss' was not in top 1\n"
     ]
    },
    {
     "name": "stdout",
     "output_type": "stream",
     "text": [
      "Epoch 194: |                                              | 100/? [00:17<00:00,  5.85it/s, v_num=3, train_loss=1.82e-5]"
     ]
    },
    {
     "name": "stderr",
     "output_type": "stream",
     "text": [
      "Epoch 194, global step 19500: 'train_loss' reached 0.00002 (best 0.00002), saving model to 'C:\\\\Users\\\\falty\\\\Desktop\\\\GZS\\\\trading\\\\swing\\\\multi\\\\dobby\\\\lightning_logs\\\\version_3\\\\checkpoints\\\\epoch=194-step=19500.ckpt' as top 1\n"
     ]
    },
    {
     "name": "stdout",
     "output_type": "stream",
     "text": [
      "Epoch 195: |                                              | 100/? [00:17<00:00,  5.78it/s, v_num=3, train_loss=1.82e-5]"
     ]
    },
    {
     "name": "stderr",
     "output_type": "stream",
     "text": [
      "Epoch 195, global step 19600: 'train_loss' reached 0.00002 (best 0.00002), saving model to 'C:\\\\Users\\\\falty\\\\Desktop\\\\GZS\\\\trading\\\\swing\\\\multi\\\\dobby\\\\lightning_logs\\\\version_3\\\\checkpoints\\\\epoch=195-step=19600.ckpt' as top 1\n"
     ]
    },
    {
     "name": "stdout",
     "output_type": "stream",
     "text": [
      "Epoch 196: |                                              | 100/? [00:17<00:00,  5.76it/s, v_num=3, train_loss=1.83e-5]"
     ]
    },
    {
     "name": "stderr",
     "output_type": "stream",
     "text": [
      "Epoch 196, global step 19700: 'train_loss' was not in top 1\n"
     ]
    },
    {
     "name": "stdout",
     "output_type": "stream",
     "text": [
      "Epoch 197: |                                              | 100/? [00:17<00:00,  5.88it/s, v_num=3, train_loss=1.83e-5]"
     ]
    },
    {
     "name": "stderr",
     "output_type": "stream",
     "text": [
      "Epoch 197, global step 19800: 'train_loss' was not in top 1\n"
     ]
    },
    {
     "name": "stdout",
     "output_type": "stream",
     "text": [
      "Epoch 198: |                                              | 100/? [00:17<00:00,  5.86it/s, v_num=3, train_loss=1.81e-5]"
     ]
    },
    {
     "name": "stderr",
     "output_type": "stream",
     "text": [
      "Epoch 198, global step 19900: 'train_loss' reached 0.00002 (best 0.00002), saving model to 'C:\\\\Users\\\\falty\\\\Desktop\\\\GZS\\\\trading\\\\swing\\\\multi\\\\dobby\\\\lightning_logs\\\\version_3\\\\checkpoints\\\\epoch=198-step=19900.ckpt' as top 1\n"
     ]
    },
    {
     "name": "stdout",
     "output_type": "stream",
     "text": [
      "Epoch 199: |                                              | 100/? [00:17<00:00,  5.80it/s, v_num=3, train_loss=1.81e-5]"
     ]
    },
    {
     "name": "stderr",
     "output_type": "stream",
     "text": [
      "Epoch 199, global step 20000: 'train_loss' reached 0.00002 (best 0.00002), saving model to 'C:\\\\Users\\\\falty\\\\Desktop\\\\GZS\\\\trading\\\\swing\\\\multi\\\\dobby\\\\lightning_logs\\\\version_3\\\\checkpoints\\\\epoch=199-step=20000.ckpt' as top 1\n"
     ]
    },
    {
     "name": "stdout",
     "output_type": "stream",
     "text": [
      "Epoch 200: |                                              | 100/? [00:17<00:00,  5.80it/s, v_num=3, train_loss=1.82e-5]"
     ]
    },
    {
     "name": "stderr",
     "output_type": "stream",
     "text": [
      "Epoch 200, global step 20100: 'train_loss' was not in top 1\n"
     ]
    },
    {
     "name": "stdout",
     "output_type": "stream",
     "text": [
      "Epoch 201: |                                              | 100/? [00:16<00:00,  5.88it/s, v_num=3, train_loss=1.81e-5]"
     ]
    },
    {
     "name": "stderr",
     "output_type": "stream",
     "text": [
      "Epoch 201, global step 20200: 'train_loss' was not in top 1\n"
     ]
    },
    {
     "name": "stdout",
     "output_type": "stream",
     "text": [
      "Epoch 202: |                                               | 100/? [00:17<00:00,  5.82it/s, v_num=3, train_loss=1.8e-5]"
     ]
    },
    {
     "name": "stderr",
     "output_type": "stream",
     "text": [
      "Epoch 202, global step 20300: 'train_loss' reached 0.00002 (best 0.00002), saving model to 'C:\\\\Users\\\\falty\\\\Desktop\\\\GZS\\\\trading\\\\swing\\\\multi\\\\dobby\\\\lightning_logs\\\\version_3\\\\checkpoints\\\\epoch=202-step=20300.ckpt' as top 1\n"
     ]
    },
    {
     "name": "stdout",
     "output_type": "stream",
     "text": [
      "Epoch 203: |                                              | 100/? [00:17<00:00,  5.85it/s, v_num=3, train_loss=1.84e-5]"
     ]
    },
    {
     "name": "stderr",
     "output_type": "stream",
     "text": [
      "Epoch 203, global step 20400: 'train_loss' was not in top 1\n"
     ]
    },
    {
     "name": "stdout",
     "output_type": "stream",
     "text": [
      "Epoch 204: |                                              | 100/? [00:16<00:00,  5.89it/s, v_num=3, train_loss=1.79e-5]"
     ]
    },
    {
     "name": "stderr",
     "output_type": "stream",
     "text": [
      "Epoch 204, global step 20500: 'train_loss' reached 0.00002 (best 0.00002), saving model to 'C:\\\\Users\\\\falty\\\\Desktop\\\\GZS\\\\trading\\\\swing\\\\multi\\\\dobby\\\\lightning_logs\\\\version_3\\\\checkpoints\\\\epoch=204-step=20500.ckpt' as top 1\n"
     ]
    },
    {
     "name": "stdout",
     "output_type": "stream",
     "text": [
      "Epoch 205: |                                              | 100/? [00:17<00:00,  5.82it/s, v_num=3, train_loss=1.79e-5]"
     ]
    },
    {
     "name": "stderr",
     "output_type": "stream",
     "text": [
      "Epoch 205, global step 20600: 'train_loss' was not in top 1\n"
     ]
    },
    {
     "name": "stdout",
     "output_type": "stream",
     "text": [
      "Epoch 206: |                                              | 100/? [00:17<00:00,  5.84it/s, v_num=3, train_loss=1.84e-5]"
     ]
    },
    {
     "name": "stderr",
     "output_type": "stream",
     "text": [
      "Epoch 206, global step 20700: 'train_loss' was not in top 1\n"
     ]
    },
    {
     "name": "stdout",
     "output_type": "stream",
     "text": [
      "Epoch 207: |                                              | 100/? [00:16<00:00,  5.89it/s, v_num=3, train_loss=1.84e-5]"
     ]
    },
    {
     "name": "stderr",
     "output_type": "stream",
     "text": [
      "Epoch 207, global step 20800: 'train_loss' was not in top 1\n"
     ]
    },
    {
     "name": "stdout",
     "output_type": "stream",
     "text": [
      "Epoch 208: |                                              | 100/? [00:17<00:00,  5.88it/s, v_num=3, train_loss=1.78e-5]"
     ]
    },
    {
     "name": "stderr",
     "output_type": "stream",
     "text": [
      "Epoch 208, global step 20900: 'train_loss' reached 0.00002 (best 0.00002), saving model to 'C:\\\\Users\\\\falty\\\\Desktop\\\\GZS\\\\trading\\\\swing\\\\multi\\\\dobby\\\\lightning_logs\\\\version_3\\\\checkpoints\\\\epoch=208-step=20900.ckpt' as top 1\n"
     ]
    },
    {
     "name": "stdout",
     "output_type": "stream",
     "text": [
      "Epoch 209: |                                               | 100/? [00:17<00:00,  5.80it/s, v_num=3, train_loss=1.8e-5]"
     ]
    },
    {
     "name": "stderr",
     "output_type": "stream",
     "text": [
      "Epoch 209, global step 21000: 'train_loss' was not in top 1\n"
     ]
    },
    {
     "name": "stdout",
     "output_type": "stream",
     "text": [
      "Epoch 210: |                                              | 100/? [00:17<00:00,  5.88it/s, v_num=3, train_loss=1.81e-5]"
     ]
    },
    {
     "name": "stderr",
     "output_type": "stream",
     "text": [
      "Epoch 210, global step 21100: 'train_loss' was not in top 1\n"
     ]
    },
    {
     "name": "stdout",
     "output_type": "stream",
     "text": [
      "Epoch 211: |                                              | 100/? [00:17<00:00,  5.88it/s, v_num=3, train_loss=1.79e-5]"
     ]
    },
    {
     "name": "stderr",
     "output_type": "stream",
     "text": [
      "Epoch 211, global step 21200: 'train_loss' was not in top 1\n"
     ]
    },
    {
     "name": "stdout",
     "output_type": "stream",
     "text": [
      "Epoch 212: |                                              | 100/? [00:17<00:00,  5.82it/s, v_num=3, train_loss=1.78e-5]"
     ]
    },
    {
     "name": "stderr",
     "output_type": "stream",
     "text": [
      "Epoch 212, global step 21300: 'train_loss' reached 0.00002 (best 0.00002), saving model to 'C:\\\\Users\\\\falty\\\\Desktop\\\\GZS\\\\trading\\\\swing\\\\multi\\\\dobby\\\\lightning_logs\\\\version_3\\\\checkpoints\\\\epoch=212-step=21300.ckpt' as top 1\n"
     ]
    },
    {
     "name": "stdout",
     "output_type": "stream",
     "text": [
      "Epoch 213: |                                              | 100/? [00:17<00:00,  5.82it/s, v_num=3, train_loss=1.81e-5]"
     ]
    },
    {
     "name": "stderr",
     "output_type": "stream",
     "text": [
      "Epoch 213, global step 21400: 'train_loss' was not in top 1\n"
     ]
    },
    {
     "name": "stdout",
     "output_type": "stream",
     "text": [
      "Epoch 214: |                                              | 100/? [00:17<00:00,  5.88it/s, v_num=3, train_loss=1.79e-5]"
     ]
    },
    {
     "name": "stderr",
     "output_type": "stream",
     "text": [
      "Epoch 214, global step 21500: 'train_loss' was not in top 1\n"
     ]
    },
    {
     "name": "stdout",
     "output_type": "stream",
     "text": [
      "Epoch 215: |                                              | 100/? [00:16<00:00,  5.91it/s, v_num=3, train_loss=1.83e-5]"
     ]
    },
    {
     "name": "stderr",
     "output_type": "stream",
     "text": [
      "Epoch 215, global step 21600: 'train_loss' was not in top 1\n"
     ]
    },
    {
     "name": "stdout",
     "output_type": "stream",
     "text": [
      "Epoch 216: |                                              | 100/? [00:17<00:00,  5.85it/s, v_num=3, train_loss=1.83e-5]"
     ]
    },
    {
     "name": "stderr",
     "output_type": "stream",
     "text": [
      "Epoch 216, global step 21700: 'train_loss' was not in top 1\n"
     ]
    },
    {
     "name": "stdout",
     "output_type": "stream",
     "text": [
      "Epoch 217: |                                              | 100/? [00:17<00:00,  5.86it/s, v_num=3, train_loss=1.77e-5]"
     ]
    },
    {
     "name": "stderr",
     "output_type": "stream",
     "text": [
      "Epoch 217, global step 21800: 'train_loss' reached 0.00002 (best 0.00002), saving model to 'C:\\\\Users\\\\falty\\\\Desktop\\\\GZS\\\\trading\\\\swing\\\\multi\\\\dobby\\\\lightning_logs\\\\version_3\\\\checkpoints\\\\epoch=217-step=21800.ckpt' as top 1\n"
     ]
    },
    {
     "name": "stdout",
     "output_type": "stream",
     "text": [
      "Epoch 218: |                                              | 100/? [00:17<00:00,  5.83it/s, v_num=3, train_loss=1.78e-5]"
     ]
    },
    {
     "name": "stderr",
     "output_type": "stream",
     "text": [
      "Epoch 218, global step 21900: 'train_loss' was not in top 1\n"
     ]
    },
    {
     "name": "stdout",
     "output_type": "stream",
     "text": [
      "Epoch 219: |                                              | 100/? [00:16<00:00,  5.89it/s, v_num=3, train_loss=1.81e-5]"
     ]
    },
    {
     "name": "stderr",
     "output_type": "stream",
     "text": [
      "Epoch 219, global step 22000: 'train_loss' was not in top 1\n"
     ]
    },
    {
     "name": "stdout",
     "output_type": "stream",
     "text": [
      "Epoch 220: |                                              | 100/? [00:17<00:00,  5.85it/s, v_num=3, train_loss=1.79e-5]"
     ]
    },
    {
     "name": "stderr",
     "output_type": "stream",
     "text": [
      "Epoch 220, global step 22100: 'train_loss' was not in top 1\n"
     ]
    },
    {
     "name": "stdout",
     "output_type": "stream",
     "text": [
      "Epoch 221: |                                              | 100/? [00:17<00:00,  5.87it/s, v_num=3, train_loss=1.82e-5]"
     ]
    },
    {
     "name": "stderr",
     "output_type": "stream",
     "text": [
      "Epoch 221, global step 22200: 'train_loss' was not in top 1\n"
     ]
    },
    {
     "name": "stdout",
     "output_type": "stream",
     "text": [
      "Epoch 222: |                                              | 100/? [00:17<00:00,  5.86it/s, v_num=3, train_loss=1.78e-5]"
     ]
    },
    {
     "name": "stderr",
     "output_type": "stream",
     "text": [
      "Epoch 222, global step 22300: 'train_loss' was not in top 1\n"
     ]
    },
    {
     "name": "stdout",
     "output_type": "stream",
     "text": [
      "Epoch 223: |                                              | 100/? [00:17<00:00,  5.86it/s, v_num=3, train_loss=1.78e-5]"
     ]
    },
    {
     "name": "stderr",
     "output_type": "stream",
     "text": [
      "Epoch 223, global step 22400: 'train_loss' was not in top 1\n"
     ]
    },
    {
     "name": "stdout",
     "output_type": "stream",
     "text": [
      "Epoch 224: |                                              | 100/? [00:17<00:00,  5.87it/s, v_num=3, train_loss=1.78e-5]"
     ]
    },
    {
     "name": "stderr",
     "output_type": "stream",
     "text": [
      "Epoch 224, global step 22500: 'train_loss' was not in top 1\n"
     ]
    },
    {
     "name": "stdout",
     "output_type": "stream",
     "text": [
      "Epoch 225: |                                              | 100/? [00:17<00:00,  5.88it/s, v_num=3, train_loss=1.77e-5]"
     ]
    },
    {
     "name": "stderr",
     "output_type": "stream",
     "text": [
      "Epoch 225, global step 22600: 'train_loss' reached 0.00002 (best 0.00002), saving model to 'C:\\\\Users\\\\falty\\\\Desktop\\\\GZS\\\\trading\\\\swing\\\\multi\\\\dobby\\\\lightning_logs\\\\version_3\\\\checkpoints\\\\epoch=225-step=22600.ckpt' as top 1\n"
     ]
    },
    {
     "name": "stdout",
     "output_type": "stream",
     "text": [
      "Epoch 226: |                                              | 100/? [00:17<00:00,  5.76it/s, v_num=3, train_loss=1.75e-5]"
     ]
    },
    {
     "name": "stderr",
     "output_type": "stream",
     "text": [
      "Epoch 226, global step 22700: 'train_loss' reached 0.00002 (best 0.00002), saving model to 'C:\\\\Users\\\\falty\\\\Desktop\\\\GZS\\\\trading\\\\swing\\\\multi\\\\dobby\\\\lightning_logs\\\\version_3\\\\checkpoints\\\\epoch=226-step=22700.ckpt' as top 1\n"
     ]
    },
    {
     "name": "stdout",
     "output_type": "stream",
     "text": [
      "Epoch 227: |                                              | 100/? [00:17<00:00,  5.82it/s, v_num=3, train_loss=1.78e-5]"
     ]
    },
    {
     "name": "stderr",
     "output_type": "stream",
     "text": [
      "Epoch 227, global step 22800: 'train_loss' was not in top 1\n"
     ]
    },
    {
     "name": "stdout",
     "output_type": "stream",
     "text": [
      "Epoch 228: |                                              | 100/? [00:16<00:00,  5.89it/s, v_num=3, train_loss=1.75e-5]"
     ]
    },
    {
     "name": "stderr",
     "output_type": "stream",
     "text": [
      "Epoch 228, global step 22900: 'train_loss' reached 0.00002 (best 0.00002), saving model to 'C:\\\\Users\\\\falty\\\\Desktop\\\\GZS\\\\trading\\\\swing\\\\multi\\\\dobby\\\\lightning_logs\\\\version_3\\\\checkpoints\\\\epoch=228-step=22900.ckpt' as top 1\n"
     ]
    },
    {
     "name": "stdout",
     "output_type": "stream",
     "text": [
      "Epoch 229: |                                              | 100/? [00:17<00:00,  5.77it/s, v_num=3, train_loss=1.79e-5]"
     ]
    },
    {
     "name": "stderr",
     "output_type": "stream",
     "text": [
      "Epoch 229, global step 23000: 'train_loss' was not in top 1\n"
     ]
    },
    {
     "name": "stdout",
     "output_type": "stream",
     "text": [
      "Epoch 230: |                                              | 100/? [00:16<00:00,  5.89it/s, v_num=3, train_loss=1.75e-5]"
     ]
    },
    {
     "name": "stderr",
     "output_type": "stream",
     "text": [
      "Epoch 230, global step 23100: 'train_loss' reached 0.00002 (best 0.00002), saving model to 'C:\\\\Users\\\\falty\\\\Desktop\\\\GZS\\\\trading\\\\swing\\\\multi\\\\dobby\\\\lightning_logs\\\\version_3\\\\checkpoints\\\\epoch=230-step=23100.ckpt' as top 1\n"
     ]
    },
    {
     "name": "stdout",
     "output_type": "stream",
     "text": [
      "Epoch 231: |                                              | 100/? [00:17<00:00,  5.81it/s, v_num=3, train_loss=1.75e-5]"
     ]
    },
    {
     "name": "stderr",
     "output_type": "stream",
     "text": [
      "Epoch 231, global step 23200: 'train_loss' was not in top 1\n"
     ]
    },
    {
     "name": "stdout",
     "output_type": "stream",
     "text": [
      "Epoch 232: |                                               | 100/? [00:17<00:00,  5.87it/s, v_num=3, train_loss=1.8e-5]"
     ]
    },
    {
     "name": "stderr",
     "output_type": "stream",
     "text": [
      "Epoch 232, global step 23300: 'train_loss' was not in top 1\n"
     ]
    },
    {
     "name": "stdout",
     "output_type": "stream",
     "text": [
      "Epoch 233: |                                              | 100/? [00:17<00:00,  5.87it/s, v_num=3, train_loss=1.77e-5]"
     ]
    },
    {
     "name": "stderr",
     "output_type": "stream",
     "text": [
      "Epoch 233, global step 23400: 'train_loss' was not in top 1\n"
     ]
    },
    {
     "name": "stdout",
     "output_type": "stream",
     "text": [
      "Epoch 234: |                                              | 100/? [00:17<00:00,  5.88it/s, v_num=3, train_loss=1.79e-5]"
     ]
    },
    {
     "name": "stderr",
     "output_type": "stream",
     "text": [
      "Epoch 234, global step 23500: 'train_loss' was not in top 1\n"
     ]
    },
    {
     "name": "stdout",
     "output_type": "stream",
     "text": [
      "Epoch 235: |                                              | 100/? [00:17<00:00,  5.83it/s, v_num=3, train_loss=1.78e-5]"
     ]
    },
    {
     "name": "stderr",
     "output_type": "stream",
     "text": [
      "Epoch 235, global step 23600: 'train_loss' was not in top 1\n"
     ]
    },
    {
     "name": "stdout",
     "output_type": "stream",
     "text": [
      "Epoch 236: |                                              | 100/? [00:17<00:00,  5.87it/s, v_num=3, train_loss=1.78e-5]"
     ]
    },
    {
     "name": "stderr",
     "output_type": "stream",
     "text": [
      "Epoch 236, global step 23700: 'train_loss' was not in top 1\n"
     ]
    },
    {
     "name": "stdout",
     "output_type": "stream",
     "text": [
      "Epoch 237: |                                              | 100/? [00:16<00:00,  5.89it/s, v_num=3, train_loss=1.76e-5]"
     ]
    },
    {
     "name": "stderr",
     "output_type": "stream",
     "text": [
      "Epoch 237, global step 23800: 'train_loss' was not in top 1\n"
     ]
    },
    {
     "name": "stdout",
     "output_type": "stream",
     "text": [
      "Epoch 238: |                                              | 100/? [00:17<00:00,  5.86it/s, v_num=3, train_loss=1.74e-5]"
     ]
    },
    {
     "name": "stderr",
     "output_type": "stream",
     "text": [
      "Epoch 238, global step 23900: 'train_loss' reached 0.00002 (best 0.00002), saving model to 'C:\\\\Users\\\\falty\\\\Desktop\\\\GZS\\\\trading\\\\swing\\\\multi\\\\dobby\\\\lightning_logs\\\\version_3\\\\checkpoints\\\\epoch=238-step=23900.ckpt' as top 1\n"
     ]
    },
    {
     "name": "stdout",
     "output_type": "stream",
     "text": [
      "Epoch 239: |                                              | 100/? [00:17<00:00,  5.83it/s, v_num=3, train_loss=1.78e-5]"
     ]
    },
    {
     "name": "stderr",
     "output_type": "stream",
     "text": [
      "Epoch 239, global step 24000: 'train_loss' was not in top 1\n"
     ]
    },
    {
     "name": "stdout",
     "output_type": "stream",
     "text": [
      "Epoch 240: |                                              | 100/? [00:16<00:00,  5.89it/s, v_num=3, train_loss=1.76e-5]"
     ]
    },
    {
     "name": "stderr",
     "output_type": "stream",
     "text": [
      "Epoch 240, global step 24100: 'train_loss' was not in top 1\n"
     ]
    },
    {
     "name": "stdout",
     "output_type": "stream",
     "text": [
      "Epoch 241: |                                               | 100/? [00:17<00:00,  5.87it/s, v_num=3, train_loss=1.8e-5]"
     ]
    },
    {
     "name": "stderr",
     "output_type": "stream",
     "text": [
      "Epoch 241, global step 24200: 'train_loss' was not in top 1\n"
     ]
    },
    {
     "name": "stdout",
     "output_type": "stream",
     "text": [
      "Epoch 242: |                                              | 100/? [00:17<00:00,  5.84it/s, v_num=3, train_loss=1.84e-5]"
     ]
    },
    {
     "name": "stderr",
     "output_type": "stream",
     "text": [
      "Epoch 242, global step 24300: 'train_loss' was not in top 1\n"
     ]
    },
    {
     "name": "stdout",
     "output_type": "stream",
     "text": [
      "Epoch 243: |                                              | 100/? [00:17<00:00,  5.88it/s, v_num=3, train_loss=1.73e-5]"
     ]
    },
    {
     "name": "stderr",
     "output_type": "stream",
     "text": [
      "Epoch 243, global step 24400: 'train_loss' reached 0.00002 (best 0.00002), saving model to 'C:\\\\Users\\\\falty\\\\Desktop\\\\GZS\\\\trading\\\\swing\\\\multi\\\\dobby\\\\lightning_logs\\\\version_3\\\\checkpoints\\\\epoch=243-step=24400.ckpt' as top 1\n"
     ]
    },
    {
     "name": "stdout",
     "output_type": "stream",
     "text": [
      "Epoch 244: |                                              | 100/? [00:17<00:00,  5.84it/s, v_num=3, train_loss=1.74e-5]"
     ]
    },
    {
     "name": "stderr",
     "output_type": "stream",
     "text": [
      "Epoch 244, global step 24500: 'train_loss' was not in top 1\n"
     ]
    },
    {
     "name": "stdout",
     "output_type": "stream",
     "text": [
      "Epoch 245: |                                              | 100/? [00:17<00:00,  5.85it/s, v_num=3, train_loss=1.74e-5]"
     ]
    },
    {
     "name": "stderr",
     "output_type": "stream",
     "text": [
      "Epoch 245, global step 24600: 'train_loss' was not in top 1\n"
     ]
    },
    {
     "name": "stdout",
     "output_type": "stream",
     "text": [
      "Epoch 246: |                                              | 100/? [00:17<00:00,  5.87it/s, v_num=3, train_loss=1.76e-5]"
     ]
    },
    {
     "name": "stderr",
     "output_type": "stream",
     "text": [
      "Epoch 246, global step 24700: 'train_loss' was not in top 1\n"
     ]
    },
    {
     "name": "stdout",
     "output_type": "stream",
     "text": [
      "Epoch 247: |                                              | 100/? [00:17<00:00,  5.84it/s, v_num=3, train_loss=1.75e-5]"
     ]
    },
    {
     "name": "stderr",
     "output_type": "stream",
     "text": [
      "Epoch 247, global step 24800: 'train_loss' was not in top 1\n"
     ]
    },
    {
     "name": "stdout",
     "output_type": "stream",
     "text": [
      "Epoch 248: |                                              | 100/? [00:17<00:00,  5.88it/s, v_num=3, train_loss=1.72e-5]"
     ]
    },
    {
     "name": "stderr",
     "output_type": "stream",
     "text": [
      "Epoch 248, global step 24900: 'train_loss' reached 0.00002 (best 0.00002), saving model to 'C:\\\\Users\\\\falty\\\\Desktop\\\\GZS\\\\trading\\\\swing\\\\multi\\\\dobby\\\\lightning_logs\\\\version_3\\\\checkpoints\\\\epoch=248-step=24900.ckpt' as top 1\n"
     ]
    },
    {
     "name": "stdout",
     "output_type": "stream",
     "text": [
      "Epoch 249: |                                              | 100/? [00:17<00:00,  5.81it/s, v_num=3, train_loss=1.73e-5]"
     ]
    },
    {
     "name": "stderr",
     "output_type": "stream",
     "text": [
      "Epoch 249, global step 25000: 'train_loss' was not in top 1\n"
     ]
    },
    {
     "name": "stdout",
     "output_type": "stream",
     "text": [
      "Epoch 250: |                                              | 100/? [00:17<00:00,  5.86it/s, v_num=3, train_loss=1.75e-5]"
     ]
    },
    {
     "name": "stderr",
     "output_type": "stream",
     "text": [
      "Epoch 250, global step 25100: 'train_loss' was not in top 1\n"
     ]
    },
    {
     "name": "stdout",
     "output_type": "stream",
     "text": [
      "Epoch 251: |                                              | 100/? [00:17<00:00,  5.87it/s, v_num=3, train_loss=1.75e-5]"
     ]
    },
    {
     "name": "stderr",
     "output_type": "stream",
     "text": [
      "Epoch 251, global step 25200: 'train_loss' was not in top 1\n"
     ]
    },
    {
     "name": "stdout",
     "output_type": "stream",
     "text": [
      "Epoch 252: |                                              | 100/? [00:17<00:00,  5.82it/s, v_num=3, train_loss=1.74e-5]"
     ]
    },
    {
     "name": "stderr",
     "output_type": "stream",
     "text": [
      "Epoch 252, global step 25300: 'train_loss' was not in top 1\n"
     ]
    },
    {
     "name": "stdout",
     "output_type": "stream",
     "text": [
      "Epoch 253: |                                              | 100/? [00:17<00:00,  5.86it/s, v_num=3, train_loss=1.71e-5]"
     ]
    },
    {
     "name": "stderr",
     "output_type": "stream",
     "text": [
      "Epoch 253, global step 25400: 'train_loss' reached 0.00002 (best 0.00002), saving model to 'C:\\\\Users\\\\falty\\\\Desktop\\\\GZS\\\\trading\\\\swing\\\\multi\\\\dobby\\\\lightning_logs\\\\version_3\\\\checkpoints\\\\epoch=253-step=25400.ckpt' as top 1\n"
     ]
    },
    {
     "name": "stdout",
     "output_type": "stream",
     "text": [
      "Epoch 254: |                                              | 100/? [00:17<00:00,  5.80it/s, v_num=3, train_loss=1.74e-5]"
     ]
    },
    {
     "name": "stderr",
     "output_type": "stream",
     "text": [
      "Epoch 254, global step 25500: 'train_loss' was not in top 1\n"
     ]
    },
    {
     "name": "stdout",
     "output_type": "stream",
     "text": [
      "Epoch 255: |                                              | 100/? [00:17<00:00,  5.83it/s, v_num=3, train_loss=1.76e-5]"
     ]
    },
    {
     "name": "stderr",
     "output_type": "stream",
     "text": [
      "Epoch 255, global step 25600: 'train_loss' was not in top 1\n"
     ]
    },
    {
     "name": "stdout",
     "output_type": "stream",
     "text": [
      "Epoch 256: |                                              | 100/? [00:17<00:00,  5.86it/s, v_num=3, train_loss=1.72e-5]"
     ]
    },
    {
     "name": "stderr",
     "output_type": "stream",
     "text": [
      "Epoch 256, global step 25700: 'train_loss' was not in top 1\n"
     ]
    },
    {
     "name": "stdout",
     "output_type": "stream",
     "text": [
      "Epoch 257: |                                              | 100/? [00:17<00:00,  5.84it/s, v_num=3, train_loss=1.77e-5]"
     ]
    },
    {
     "name": "stderr",
     "output_type": "stream",
     "text": [
      "Epoch 257, global step 25800: 'train_loss' was not in top 1\n"
     ]
    },
    {
     "name": "stdout",
     "output_type": "stream",
     "text": [
      "Epoch 258: |                                              | 100/? [00:17<00:00,  5.85it/s, v_num=3, train_loss=1.73e-5]"
     ]
    },
    {
     "name": "stderr",
     "output_type": "stream",
     "text": [
      "Epoch 258, global step 25900: 'train_loss' was not in top 1\n"
     ]
    },
    {
     "name": "stdout",
     "output_type": "stream",
     "text": [
      "Epoch 259: |                                              | 100/? [00:17<00:00,  5.85it/s, v_num=3, train_loss=1.73e-5]"
     ]
    },
    {
     "name": "stderr",
     "output_type": "stream",
     "text": [
      "Epoch 259, global step 26000: 'train_loss' was not in top 1\n"
     ]
    },
    {
     "name": "stdout",
     "output_type": "stream",
     "text": [
      "Epoch 260: |                                              | 100/? [00:17<00:00,  5.81it/s, v_num=3, train_loss=1.72e-5]"
     ]
    },
    {
     "name": "stderr",
     "output_type": "stream",
     "text": [
      "Epoch 260, global step 26100: 'train_loss' was not in top 1\n"
     ]
    },
    {
     "name": "stdout",
     "output_type": "stream",
     "text": [
      "Epoch 261: |                                              | 100/? [00:17<00:00,  5.83it/s, v_num=3, train_loss=1.69e-5]"
     ]
    },
    {
     "name": "stderr",
     "output_type": "stream",
     "text": [
      "Epoch 261, global step 26200: 'train_loss' reached 0.00002 (best 0.00002), saving model to 'C:\\\\Users\\\\falty\\\\Desktop\\\\GZS\\\\trading\\\\swing\\\\multi\\\\dobby\\\\lightning_logs\\\\version_3\\\\checkpoints\\\\epoch=261-step=26200.ckpt' as top 1\n"
     ]
    },
    {
     "name": "stdout",
     "output_type": "stream",
     "text": [
      "Epoch 262: |                                              | 100/? [00:17<00:00,  5.73it/s, v_num=3, train_loss=1.69e-5]"
     ]
    },
    {
     "name": "stderr",
     "output_type": "stream",
     "text": [
      "Epoch 262, global step 26300: 'train_loss' reached 0.00002 (best 0.00002), saving model to 'C:\\\\Users\\\\falty\\\\Desktop\\\\GZS\\\\trading\\\\swing\\\\multi\\\\dobby\\\\lightning_logs\\\\version_3\\\\checkpoints\\\\epoch=262-step=26300.ckpt' as top 1\n"
     ]
    },
    {
     "name": "stdout",
     "output_type": "stream",
     "text": [
      "Epoch 263: |                                              | 100/? [00:17<00:00,  5.73it/s, v_num=3, train_loss=1.69e-5]"
     ]
    },
    {
     "name": "stderr",
     "output_type": "stream",
     "text": [
      "Epoch 263, global step 26400: 'train_loss' reached 0.00002 (best 0.00002), saving model to 'C:\\\\Users\\\\falty\\\\Desktop\\\\GZS\\\\trading\\\\swing\\\\multi\\\\dobby\\\\lightning_logs\\\\version_3\\\\checkpoints\\\\epoch=263-step=26400.ckpt' as top 1\n"
     ]
    },
    {
     "name": "stdout",
     "output_type": "stream",
     "text": [
      "Epoch 264: |                                              | 100/? [00:17<00:00,  5.79it/s, v_num=3, train_loss=1.73e-5]"
     ]
    },
    {
     "name": "stderr",
     "output_type": "stream",
     "text": [
      "Epoch 264, global step 26500: 'train_loss' was not in top 1\n"
     ]
    },
    {
     "name": "stdout",
     "output_type": "stream",
     "text": [
      "Epoch 265: |                                              | 100/? [00:17<00:00,  5.85it/s, v_num=3, train_loss=1.75e-5]"
     ]
    },
    {
     "name": "stderr",
     "output_type": "stream",
     "text": [
      "Epoch 265, global step 26600: 'train_loss' was not in top 1\n"
     ]
    },
    {
     "name": "stdout",
     "output_type": "stream",
     "text": [
      "Epoch 266: |                                              | 100/? [00:17<00:00,  5.85it/s, v_num=3, train_loss=1.73e-5]"
     ]
    },
    {
     "name": "stderr",
     "output_type": "stream",
     "text": [
      "Epoch 266, global step 26700: 'train_loss' was not in top 1\n"
     ]
    },
    {
     "name": "stdout",
     "output_type": "stream",
     "text": [
      "Epoch 267: |                                              | 100/? [00:17<00:00,  5.82it/s, v_num=3, train_loss=1.71e-5]"
     ]
    },
    {
     "name": "stderr",
     "output_type": "stream",
     "text": [
      "Epoch 267, global step 26800: 'train_loss' was not in top 1\n"
     ]
    },
    {
     "name": "stdout",
     "output_type": "stream",
     "text": [
      "Epoch 268: |                                              | 100/? [00:17<00:00,  5.86it/s, v_num=3, train_loss=1.74e-5]"
     ]
    },
    {
     "name": "stderr",
     "output_type": "stream",
     "text": [
      "Epoch 268, global step 26900: 'train_loss' was not in top 1\n"
     ]
    },
    {
     "name": "stdout",
     "output_type": "stream",
     "text": [
      "Epoch 269: |                                              | 100/? [00:17<00:00,  5.84it/s, v_num=3, train_loss=1.71e-5]"
     ]
    },
    {
     "name": "stderr",
     "output_type": "stream",
     "text": [
      "Epoch 269, global step 27000: 'train_loss' was not in top 1\n"
     ]
    },
    {
     "name": "stdout",
     "output_type": "stream",
     "text": [
      "Epoch 270: |                                              | 100/? [00:17<00:00,  5.84it/s, v_num=3, train_loss=1.69e-5]"
     ]
    },
    {
     "name": "stderr",
     "output_type": "stream",
     "text": [
      "Epoch 270, global step 27100: 'train_loss' was not in top 1\n"
     ]
    },
    {
     "name": "stdout",
     "output_type": "stream",
     "text": [
      "Epoch 271: |                                              | 100/? [00:17<00:00,  5.83it/s, v_num=3, train_loss=1.68e-5]"
     ]
    },
    {
     "name": "stderr",
     "output_type": "stream",
     "text": [
      "Epoch 271, global step 27200: 'train_loss' reached 0.00002 (best 0.00002), saving model to 'C:\\\\Users\\\\falty\\\\Desktop\\\\GZS\\\\trading\\\\swing\\\\multi\\\\dobby\\\\lightning_logs\\\\version_3\\\\checkpoints\\\\epoch=271-step=27200.ckpt' as top 1\n"
     ]
    },
    {
     "name": "stdout",
     "output_type": "stream",
     "text": [
      "Epoch 272: |                                              | 100/? [00:17<00:00,  5.75it/s, v_num=3, train_loss=1.71e-5]"
     ]
    },
    {
     "name": "stderr",
     "output_type": "stream",
     "text": [
      "Epoch 272, global step 27300: 'train_loss' was not in top 1\n"
     ]
    },
    {
     "name": "stdout",
     "output_type": "stream",
     "text": [
      "Epoch 273: |                                              | 100/? [00:17<00:00,  5.86it/s, v_num=3, train_loss=1.75e-5]"
     ]
    },
    {
     "name": "stderr",
     "output_type": "stream",
     "text": [
      "Epoch 273, global step 27400: 'train_loss' was not in top 1\n"
     ]
    },
    {
     "name": "stdout",
     "output_type": "stream",
     "text": [
      "Epoch 274: |                                              | 100/? [00:17<00:00,  5.83it/s, v_num=3, train_loss=1.81e-5]"
     ]
    },
    {
     "name": "stderr",
     "output_type": "stream",
     "text": [
      "Epoch 274, global step 27500: 'train_loss' was not in top 1\n"
     ]
    },
    {
     "name": "stdout",
     "output_type": "stream",
     "text": [
      "Epoch 275: |                                              | 100/? [00:17<00:00,  5.82it/s, v_num=3, train_loss=1.74e-5]"
     ]
    },
    {
     "name": "stderr",
     "output_type": "stream",
     "text": [
      "Epoch 275, global step 27600: 'train_loss' was not in top 1\n"
     ]
    },
    {
     "name": "stdout",
     "output_type": "stream",
     "text": [
      "Epoch 276: |                                              | 100/? [00:17<00:00,  5.86it/s, v_num=3, train_loss=1.68e-5]"
     ]
    },
    {
     "name": "stderr",
     "output_type": "stream",
     "text": [
      "Epoch 276, global step 27700: 'train_loss' was not in top 1\n"
     ]
    },
    {
     "name": "stdout",
     "output_type": "stream",
     "text": [
      "Epoch 277: |                                              | 100/? [00:17<00:00,  5.87it/s, v_num=3, train_loss=1.67e-5]"
     ]
    },
    {
     "name": "stderr",
     "output_type": "stream",
     "text": [
      "Epoch 277, global step 27800: 'train_loss' reached 0.00002 (best 0.00002), saving model to 'C:\\\\Users\\\\falty\\\\Desktop\\\\GZS\\\\trading\\\\swing\\\\multi\\\\dobby\\\\lightning_logs\\\\version_3\\\\checkpoints\\\\epoch=277-step=27800.ckpt' as top 1\n"
     ]
    },
    {
     "name": "stdout",
     "output_type": "stream",
     "text": [
      "Epoch 278: |                                              | 100/? [00:17<00:00,  5.78it/s, v_num=3, train_loss=1.72e-5]"
     ]
    },
    {
     "name": "stderr",
     "output_type": "stream",
     "text": [
      "Epoch 278, global step 27900: 'train_loss' was not in top 1\n"
     ]
    },
    {
     "name": "stdout",
     "output_type": "stream",
     "text": [
      "Epoch 279: |                                              | 100/? [00:17<00:00,  5.86it/s, v_num=3, train_loss=1.69e-5]"
     ]
    },
    {
     "name": "stderr",
     "output_type": "stream",
     "text": [
      "Epoch 279, global step 28000: 'train_loss' was not in top 1\n"
     ]
    },
    {
     "name": "stdout",
     "output_type": "stream",
     "text": [
      "Epoch 280: |                                              | 100/? [00:17<00:00,  5.87it/s, v_num=3, train_loss=1.72e-5]"
     ]
    },
    {
     "name": "stderr",
     "output_type": "stream",
     "text": [
      "Epoch 280, global step 28100: 'train_loss' was not in top 1\n"
     ]
    },
    {
     "name": "stdout",
     "output_type": "stream",
     "text": [
      "Epoch 281: |                                              | 100/? [00:17<00:00,  5.81it/s, v_num=3, train_loss=1.69e-5]"
     ]
    },
    {
     "name": "stderr",
     "output_type": "stream",
     "text": [
      "Epoch 281, global step 28200: 'train_loss' was not in top 1\n"
     ]
    },
    {
     "name": "stdout",
     "output_type": "stream",
     "text": [
      "Epoch 282: |                                              | 100/? [00:17<00:00,  5.82it/s, v_num=3, train_loss=1.69e-5]"
     ]
    },
    {
     "name": "stderr",
     "output_type": "stream",
     "text": [
      "Epoch 282, global step 28300: 'train_loss' was not in top 1\n"
     ]
    },
    {
     "name": "stdout",
     "output_type": "stream",
     "text": [
      "Epoch 283: |                                              | 100/? [00:17<00:00,  5.78it/s, v_num=3, train_loss=1.68e-5]"
     ]
    },
    {
     "name": "stderr",
     "output_type": "stream",
     "text": [
      "Epoch 283, global step 28400: 'train_loss' was not in top 1\n"
     ]
    },
    {
     "name": "stdout",
     "output_type": "stream",
     "text": [
      "Epoch 284: |                                               | 100/? [00:17<00:00,  5.83it/s, v_num=3, train_loss=1.7e-5]"
     ]
    },
    {
     "name": "stderr",
     "output_type": "stream",
     "text": [
      "Epoch 284, global step 28500: 'train_loss' was not in top 1\n"
     ]
    },
    {
     "name": "stdout",
     "output_type": "stream",
     "text": [
      "Epoch 285: |                                              | 100/? [00:17<00:00,  5.82it/s, v_num=3, train_loss=1.73e-5]"
     ]
    },
    {
     "name": "stderr",
     "output_type": "stream",
     "text": [
      "Epoch 285, global step 28600: 'train_loss' was not in top 1\n"
     ]
    },
    {
     "name": "stdout",
     "output_type": "stream",
     "text": [
      "Epoch 286: |                                              | 100/? [00:17<00:00,  5.87it/s, v_num=3, train_loss=1.65e-5]"
     ]
    },
    {
     "name": "stderr",
     "output_type": "stream",
     "text": [
      "Epoch 286, global step 28700: 'train_loss' reached 0.00002 (best 0.00002), saving model to 'C:\\\\Users\\\\falty\\\\Desktop\\\\GZS\\\\trading\\\\swing\\\\multi\\\\dobby\\\\lightning_logs\\\\version_3\\\\checkpoints\\\\epoch=286-step=28700.ckpt' as top 1\n"
     ]
    },
    {
     "name": "stdout",
     "output_type": "stream",
     "text": [
      "Epoch 287: |                                              | 100/? [00:17<00:00,  5.81it/s, v_num=3, train_loss=1.69e-5]"
     ]
    },
    {
     "name": "stderr",
     "output_type": "stream",
     "text": [
      "Epoch 287, global step 28800: 'train_loss' was not in top 1\n"
     ]
    },
    {
     "name": "stdout",
     "output_type": "stream",
     "text": [
      "Epoch 288: |                                              | 100/? [00:17<00:00,  5.86it/s, v_num=3, train_loss=1.65e-5]"
     ]
    },
    {
     "name": "stderr",
     "output_type": "stream",
     "text": [
      "Epoch 288, global step 28900: 'train_loss' reached 0.00002 (best 0.00002), saving model to 'C:\\\\Users\\\\falty\\\\Desktop\\\\GZS\\\\trading\\\\swing\\\\multi\\\\dobby\\\\lightning_logs\\\\version_3\\\\checkpoints\\\\epoch=288-step=28900.ckpt' as top 1\n"
     ]
    },
    {
     "name": "stdout",
     "output_type": "stream",
     "text": [
      "Epoch 289: |                                              | 100/? [00:17<00:00,  5.82it/s, v_num=3, train_loss=1.75e-5]"
     ]
    },
    {
     "name": "stderr",
     "output_type": "stream",
     "text": [
      "Epoch 289, global step 29000: 'train_loss' was not in top 1\n"
     ]
    },
    {
     "name": "stdout",
     "output_type": "stream",
     "text": [
      "Epoch 290: |                                              | 100/? [00:17<00:00,  5.86it/s, v_num=3, train_loss=1.69e-5]"
     ]
    },
    {
     "name": "stderr",
     "output_type": "stream",
     "text": [
      "Epoch 290, global step 29100: 'train_loss' was not in top 1\n"
     ]
    },
    {
     "name": "stdout",
     "output_type": "stream",
     "text": [
      "Epoch 291: |                                              | 100/? [00:17<00:00,  5.82it/s, v_num=3, train_loss=1.65e-5]"
     ]
    },
    {
     "name": "stderr",
     "output_type": "stream",
     "text": [
      "Epoch 291, global step 29200: 'train_loss' reached 0.00002 (best 0.00002), saving model to 'C:\\\\Users\\\\falty\\\\Desktop\\\\GZS\\\\trading\\\\swing\\\\multi\\\\dobby\\\\lightning_logs\\\\version_3\\\\checkpoints\\\\epoch=291-step=29200.ckpt' as top 1\n"
     ]
    },
    {
     "name": "stdout",
     "output_type": "stream",
     "text": [
      "Epoch 292: |                                              | 100/? [00:17<00:00,  5.72it/s, v_num=3, train_loss=1.66e-5]"
     ]
    },
    {
     "name": "stderr",
     "output_type": "stream",
     "text": [
      "Epoch 292, global step 29300: 'train_loss' was not in top 1\n"
     ]
    },
    {
     "name": "stdout",
     "output_type": "stream",
     "text": [
      "Epoch 293: |                                              | 100/? [00:17<00:00,  5.87it/s, v_num=3, train_loss=1.67e-5]"
     ]
    },
    {
     "name": "stderr",
     "output_type": "stream",
     "text": [
      "Epoch 293, global step 29400: 'train_loss' was not in top 1\n"
     ]
    },
    {
     "name": "stdout",
     "output_type": "stream",
     "text": [
      "Epoch 294: |                                              | 100/? [00:17<00:00,  5.83it/s, v_num=3, train_loss=1.66e-5]"
     ]
    },
    {
     "name": "stderr",
     "output_type": "stream",
     "text": [
      "Epoch 294, global step 29500: 'train_loss' was not in top 1\n"
     ]
    },
    {
     "name": "stdout",
     "output_type": "stream",
     "text": [
      "Epoch 295: |                                              | 100/? [00:17<00:00,  5.85it/s, v_num=3, train_loss=1.69e-5]"
     ]
    },
    {
     "name": "stderr",
     "output_type": "stream",
     "text": [
      "Epoch 295, global step 29600: 'train_loss' was not in top 1\n"
     ]
    },
    {
     "name": "stdout",
     "output_type": "stream",
     "text": [
      "Epoch 296: |                                              | 100/? [00:17<00:00,  5.82it/s, v_num=3, train_loss=1.69e-5]"
     ]
    },
    {
     "name": "stderr",
     "output_type": "stream",
     "text": [
      "Epoch 296, global step 29700: 'train_loss' was not in top 1\n"
     ]
    },
    {
     "name": "stdout",
     "output_type": "stream",
     "text": [
      "Epoch 297: |                                              | 100/? [00:17<00:00,  5.85it/s, v_num=3, train_loss=1.67e-5]"
     ]
    },
    {
     "name": "stderr",
     "output_type": "stream",
     "text": [
      "Epoch 297, global step 29800: 'train_loss' was not in top 1\n"
     ]
    },
    {
     "name": "stdout",
     "output_type": "stream",
     "text": [
      "Epoch 298: |                                              | 100/? [00:17<00:00,  5.85it/s, v_num=3, train_loss=1.67e-5]"
     ]
    },
    {
     "name": "stderr",
     "output_type": "stream",
     "text": [
      "Epoch 298, global step 29900: 'train_loss' was not in top 1\n"
     ]
    },
    {
     "name": "stdout",
     "output_type": "stream",
     "text": [
      "Epoch 299: |                                              | 100/? [00:17<00:00,  5.82it/s, v_num=3, train_loss=5.43e-5]"
     ]
    },
    {
     "name": "stderr",
     "output_type": "stream",
     "text": [
      "Epoch 299, global step 30000: 'train_loss' was not in top 1\n"
     ]
    },
    {
     "name": "stdout",
     "output_type": "stream",
     "text": [
      "Epoch 300: |                                              | 100/? [00:17<00:00,  5.83it/s, v_num=3, train_loss=7.07e-5]"
     ]
    },
    {
     "name": "stderr",
     "output_type": "stream",
     "text": [
      "Epoch 300, global step 30100: 'train_loss' was not in top 1\n"
     ]
    },
    {
     "name": "stdout",
     "output_type": "stream",
     "text": [
      "Epoch 301: |                                              | 100/? [00:17<00:00,  5.84it/s, v_num=3, train_loss=4.72e-5]"
     ]
    },
    {
     "name": "stderr",
     "output_type": "stream",
     "text": [
      "Epoch 301, global step 30200: 'train_loss' was not in top 1\n"
     ]
    },
    {
     "name": "stdout",
     "output_type": "stream",
     "text": [
      "Epoch 302: |                                              | 100/? [00:17<00:00,  5.80it/s, v_num=3, train_loss=1.76e-5]"
     ]
    },
    {
     "name": "stderr",
     "output_type": "stream",
     "text": [
      "Epoch 302, global step 30300: 'train_loss' was not in top 1\n"
     ]
    },
    {
     "name": "stdout",
     "output_type": "stream",
     "text": [
      "Epoch 303: |                                              | 100/? [00:17<00:00,  5.84it/s, v_num=3, train_loss=1.45e-5]"
     ]
    },
    {
     "name": "stderr",
     "output_type": "stream",
     "text": [
      "Epoch 303, global step 30400: 'train_loss' reached 0.00001 (best 0.00001), saving model to 'C:\\\\Users\\\\falty\\\\Desktop\\\\GZS\\\\trading\\\\swing\\\\multi\\\\dobby\\\\lightning_logs\\\\version_3\\\\checkpoints\\\\epoch=303-step=30400.ckpt' as top 1\n"
     ]
    },
    {
     "name": "stdout",
     "output_type": "stream",
     "text": [
      "Epoch 304: |                                              | 100/? [00:17<00:00,  5.79it/s, v_num=3, train_loss=1.39e-5]"
     ]
    },
    {
     "name": "stderr",
     "output_type": "stream",
     "text": [
      "Epoch 304, global step 30500: 'train_loss' reached 0.00001 (best 0.00001), saving model to 'C:\\\\Users\\\\falty\\\\Desktop\\\\GZS\\\\trading\\\\swing\\\\multi\\\\dobby\\\\lightning_logs\\\\version_3\\\\checkpoints\\\\epoch=304-step=30500.ckpt' as top 1\n"
     ]
    },
    {
     "name": "stdout",
     "output_type": "stream",
     "text": [
      "Epoch 305: |                                               | 100/? [00:17<00:00,  5.76it/s, v_num=3, train_loss=1.4e-5]"
     ]
    },
    {
     "name": "stderr",
     "output_type": "stream",
     "text": [
      "Epoch 305, global step 30600: 'train_loss' was not in top 1\n"
     ]
    },
    {
     "name": "stdout",
     "output_type": "stream",
     "text": [
      "Epoch 306: |                                              | 100/? [00:17<00:00,  5.82it/s, v_num=3, train_loss=1.39e-5]"
     ]
    },
    {
     "name": "stderr",
     "output_type": "stream",
     "text": [
      "Epoch 306, global step 30700: 'train_loss' was not in top 1\n"
     ]
    },
    {
     "name": "stdout",
     "output_type": "stream",
     "text": [
      "Epoch 307: |                                               | 100/? [00:17<00:00,  5.85it/s, v_num=3, train_loss=1.4e-5]"
     ]
    },
    {
     "name": "stderr",
     "output_type": "stream",
     "text": [
      "Epoch 307, global step 30800: 'train_loss' was not in top 1\n"
     ]
    },
    {
     "name": "stdout",
     "output_type": "stream",
     "text": [
      "Epoch 308: |                                              | 100/? [00:17<00:00,  5.85it/s, v_num=3, train_loss=1.37e-5]"
     ]
    },
    {
     "name": "stderr",
     "output_type": "stream",
     "text": [
      "Epoch 308, global step 30900: 'train_loss' reached 0.00001 (best 0.00001), saving model to 'C:\\\\Users\\\\falty\\\\Desktop\\\\GZS\\\\trading\\\\swing\\\\multi\\\\dobby\\\\lightning_logs\\\\version_3\\\\checkpoints\\\\epoch=308-step=30900.ckpt' as top 1\n"
     ]
    },
    {
     "name": "stdout",
     "output_type": "stream",
     "text": [
      "Epoch 309: |                                              | 100/? [00:17<00:00,  5.79it/s, v_num=3, train_loss=1.37e-5]"
     ]
    },
    {
     "name": "stderr",
     "output_type": "stream",
     "text": [
      "Epoch 309, global step 31000: 'train_loss' reached 0.00001 (best 0.00001), saving model to 'C:\\\\Users\\\\falty\\\\Desktop\\\\GZS\\\\trading\\\\swing\\\\multi\\\\dobby\\\\lightning_logs\\\\version_3\\\\checkpoints\\\\epoch=309-step=31000.ckpt' as top 1\n"
     ]
    },
    {
     "name": "stdout",
     "output_type": "stream",
     "text": [
      "Epoch 310: |                                              | 100/? [00:17<00:00,  5.78it/s, v_num=3, train_loss=1.39e-5]"
     ]
    },
    {
     "name": "stderr",
     "output_type": "stream",
     "text": [
      "Epoch 310, global step 31100: 'train_loss' was not in top 1\n"
     ]
    },
    {
     "name": "stdout",
     "output_type": "stream",
     "text": [
      "Epoch 311: |                                              | 100/? [00:17<00:00,  5.86it/s, v_num=3, train_loss=1.37e-5]"
     ]
    },
    {
     "name": "stderr",
     "output_type": "stream",
     "text": [
      "Epoch 311, global step 31200: 'train_loss' was not in top 1\n"
     ]
    },
    {
     "name": "stdout",
     "output_type": "stream",
     "text": [
      "Epoch 312: |                                              | 100/? [00:17<00:00,  5.80it/s, v_num=3, train_loss=1.38e-5]"
     ]
    },
    {
     "name": "stderr",
     "output_type": "stream",
     "text": [
      "Epoch 312, global step 31300: 'train_loss' was not in top 1\n"
     ]
    },
    {
     "name": "stdout",
     "output_type": "stream",
     "text": [
      "Epoch 313: |                                               | 100/? [00:17<00:00,  5.83it/s, v_num=3, train_loss=1.4e-5]"
     ]
    },
    {
     "name": "stderr",
     "output_type": "stream",
     "text": [
      "Epoch 313, global step 31400: 'train_loss' was not in top 1\n"
     ]
    },
    {
     "name": "stdout",
     "output_type": "stream",
     "text": [
      "Epoch 314: |                                              | 100/? [00:17<00:00,  5.85it/s, v_num=3, train_loss=1.38e-5]"
     ]
    },
    {
     "name": "stderr",
     "output_type": "stream",
     "text": [
      "Epoch 314, global step 31500: 'train_loss' was not in top 1\n"
     ]
    },
    {
     "name": "stdout",
     "output_type": "stream",
     "text": [
      "Epoch 315: |                                              | 100/? [00:17<00:00,  5.83it/s, v_num=3, train_loss=1.39e-5]"
     ]
    },
    {
     "name": "stderr",
     "output_type": "stream",
     "text": [
      "Epoch 315, global step 31600: 'train_loss' was not in top 1\n"
     ]
    },
    {
     "name": "stdout",
     "output_type": "stream",
     "text": [
      "Epoch 316: |                                              | 100/? [00:17<00:00,  5.83it/s, v_num=3, train_loss=1.37e-5]"
     ]
    },
    {
     "name": "stderr",
     "output_type": "stream",
     "text": [
      "Epoch 316, global step 31700: 'train_loss' reached 0.00001 (best 0.00001), saving model to 'C:\\\\Users\\\\falty\\\\Desktop\\\\GZS\\\\trading\\\\swing\\\\multi\\\\dobby\\\\lightning_logs\\\\version_3\\\\checkpoints\\\\epoch=316-step=31700.ckpt' as top 1\n"
     ]
    },
    {
     "name": "stdout",
     "output_type": "stream",
     "text": [
      "Epoch 317: |                                              | 100/? [00:17<00:00,  5.78it/s, v_num=3, train_loss=1.39e-5]"
     ]
    },
    {
     "name": "stderr",
     "output_type": "stream",
     "text": [
      "Epoch 317, global step 31800: 'train_loss' was not in top 1\n"
     ]
    },
    {
     "name": "stdout",
     "output_type": "stream",
     "text": [
      "Epoch 318: |                                              | 100/? [00:17<00:00,  5.85it/s, v_num=3, train_loss=1.39e-5]"
     ]
    },
    {
     "name": "stderr",
     "output_type": "stream",
     "text": [
      "Epoch 318, global step 31900: 'train_loss' was not in top 1\n"
     ]
    },
    {
     "name": "stdout",
     "output_type": "stream",
     "text": [
      "Epoch 319: |                                              | 100/? [00:17<00:00,  5.86it/s, v_num=3, train_loss=1.38e-5]"
     ]
    },
    {
     "name": "stderr",
     "output_type": "stream",
     "text": [
      "Epoch 319, global step 32000: 'train_loss' was not in top 1\n"
     ]
    },
    {
     "name": "stdout",
     "output_type": "stream",
     "text": [
      "Epoch 320: |                                              | 100/? [00:17<00:00,  5.84it/s, v_num=3, train_loss=1.43e-5]"
     ]
    },
    {
     "name": "stderr",
     "output_type": "stream",
     "text": [
      "Epoch 320, global step 32100: 'train_loss' was not in top 1\n"
     ]
    },
    {
     "name": "stdout",
     "output_type": "stream",
     "text": [
      "Epoch 321: |                                              | 100/? [00:17<00:00,  5.87it/s, v_num=3, train_loss=1.38e-5]"
     ]
    },
    {
     "name": "stderr",
     "output_type": "stream",
     "text": [
      "Epoch 321, global step 32200: 'train_loss' was not in top 1\n"
     ]
    },
    {
     "name": "stdout",
     "output_type": "stream",
     "text": [
      "Epoch 322: |                                              | 100/? [00:17<00:00,  5.81it/s, v_num=3, train_loss=1.36e-5]"
     ]
    },
    {
     "name": "stderr",
     "output_type": "stream",
     "text": [
      "Epoch 322, global step 32300: 'train_loss' reached 0.00001 (best 0.00001), saving model to 'C:\\\\Users\\\\falty\\\\Desktop\\\\GZS\\\\trading\\\\swing\\\\multi\\\\dobby\\\\lightning_logs\\\\version_3\\\\checkpoints\\\\epoch=322-step=32300.ckpt' as top 1\n"
     ]
    },
    {
     "name": "stdout",
     "output_type": "stream",
     "text": [
      "Epoch 323: |                                              | 100/? [00:17<00:00,  5.80it/s, v_num=3, train_loss=1.38e-5]"
     ]
    },
    {
     "name": "stderr",
     "output_type": "stream",
     "text": [
      "Epoch 323, global step 32400: 'train_loss' was not in top 1\n"
     ]
    },
    {
     "name": "stdout",
     "output_type": "stream",
     "text": [
      "Epoch 324: |                                              | 100/? [00:17<00:00,  5.85it/s, v_num=3, train_loss=1.37e-5]"
     ]
    },
    {
     "name": "stderr",
     "output_type": "stream",
     "text": [
      "Epoch 324, global step 32500: 'train_loss' was not in top 1\n"
     ]
    },
    {
     "name": "stdout",
     "output_type": "stream",
     "text": [
      "Epoch 325: |                                              | 100/? [00:17<00:00,  5.86it/s, v_num=3, train_loss=1.37e-5]"
     ]
    },
    {
     "name": "stderr",
     "output_type": "stream",
     "text": [
      "Epoch 325, global step 32600: 'train_loss' was not in top 1\n"
     ]
    },
    {
     "name": "stdout",
     "output_type": "stream",
     "text": [
      "Epoch 326: |                                              | 100/? [00:17<00:00,  5.81it/s, v_num=3, train_loss=1.35e-5]"
     ]
    },
    {
     "name": "stderr",
     "output_type": "stream",
     "text": [
      "Epoch 326, global step 32700: 'train_loss' reached 0.00001 (best 0.00001), saving model to 'C:\\\\Users\\\\falty\\\\Desktop\\\\GZS\\\\trading\\\\swing\\\\multi\\\\dobby\\\\lightning_logs\\\\version_3\\\\checkpoints\\\\epoch=326-step=32700.ckpt' as top 1\n"
     ]
    },
    {
     "name": "stdout",
     "output_type": "stream",
     "text": [
      "Epoch 327: |                                              | 100/? [00:17<00:00,  5.79it/s, v_num=3, train_loss=1.36e-5]"
     ]
    },
    {
     "name": "stderr",
     "output_type": "stream",
     "text": [
      "Epoch 327, global step 32800: 'train_loss' was not in top 1\n"
     ]
    },
    {
     "name": "stdout",
     "output_type": "stream",
     "text": [
      "Epoch 328: |                                              | 100/? [00:17<00:00,  5.87it/s, v_num=3, train_loss=1.41e-5]"
     ]
    },
    {
     "name": "stderr",
     "output_type": "stream",
     "text": [
      "Epoch 328, global step 32900: 'train_loss' was not in top 1\n"
     ]
    },
    {
     "name": "stdout",
     "output_type": "stream",
     "text": [
      "Epoch 329: |                                              | 100/? [00:17<00:00,  5.85it/s, v_num=3, train_loss=1.37e-5]"
     ]
    },
    {
     "name": "stderr",
     "output_type": "stream",
     "text": [
      "Epoch 329, global step 33000: 'train_loss' was not in top 1\n"
     ]
    },
    {
     "name": "stdout",
     "output_type": "stream",
     "text": [
      "Epoch 330: |                                              | 100/? [00:17<00:00,  5.88it/s, v_num=3, train_loss=1.36e-5]"
     ]
    },
    {
     "name": "stderr",
     "output_type": "stream",
     "text": [
      "Epoch 330, global step 33100: 'train_loss' was not in top 1\n"
     ]
    },
    {
     "name": "stdout",
     "output_type": "stream",
     "text": [
      "Epoch 331: |                                              | 100/? [00:17<00:00,  5.82it/s, v_num=3, train_loss=1.33e-5]"
     ]
    },
    {
     "name": "stderr",
     "output_type": "stream",
     "text": [
      "Epoch 331, global step 33200: 'train_loss' reached 0.00001 (best 0.00001), saving model to 'C:\\\\Users\\\\falty\\\\Desktop\\\\GZS\\\\trading\\\\swing\\\\multi\\\\dobby\\\\lightning_logs\\\\version_3\\\\checkpoints\\\\epoch=331-step=33200.ckpt' as top 1\n"
     ]
    },
    {
     "name": "stdout",
     "output_type": "stream",
     "text": [
      "Epoch 332: |                                              | 100/? [00:17<00:00,  5.71it/s, v_num=3, train_loss=1.37e-5]"
     ]
    },
    {
     "name": "stderr",
     "output_type": "stream",
     "text": [
      "Epoch 332, global step 33300: 'train_loss' was not in top 1\n"
     ]
    },
    {
     "name": "stdout",
     "output_type": "stream",
     "text": [
      "Epoch 333: |                                              | 100/? [00:16<00:00,  5.89it/s, v_num=3, train_loss=1.35e-5]"
     ]
    },
    {
     "name": "stderr",
     "output_type": "stream",
     "text": [
      "Epoch 333, global step 33400: 'train_loss' was not in top 1\n"
     ]
    },
    {
     "name": "stdout",
     "output_type": "stream",
     "text": [
      "Epoch 334: |                                              | 100/? [00:17<00:00,  5.88it/s, v_num=3, train_loss=1.36e-5]"
     ]
    },
    {
     "name": "stderr",
     "output_type": "stream",
     "text": [
      "Epoch 334, global step 33500: 'train_loss' was not in top 1\n"
     ]
    },
    {
     "name": "stdout",
     "output_type": "stream",
     "text": [
      "Epoch 335: |                                              | 100/? [00:17<00:00,  5.88it/s, v_num=3, train_loss=1.35e-5]"
     ]
    },
    {
     "name": "stderr",
     "output_type": "stream",
     "text": [
      "Epoch 335, global step 33600: 'train_loss' was not in top 1\n"
     ]
    },
    {
     "name": "stdout",
     "output_type": "stream",
     "text": [
      "Epoch 336: |                                              | 100/? [00:17<00:00,  5.81it/s, v_num=3, train_loss=1.38e-5]"
     ]
    },
    {
     "name": "stderr",
     "output_type": "stream",
     "text": [
      "Epoch 336, global step 33700: 'train_loss' was not in top 1\n"
     ]
    },
    {
     "name": "stdout",
     "output_type": "stream",
     "text": [
      "Epoch 337: |                                              | 100/? [00:17<00:00,  5.86it/s, v_num=3, train_loss=1.37e-5]"
     ]
    },
    {
     "name": "stderr",
     "output_type": "stream",
     "text": [
      "Epoch 337, global step 33800: 'train_loss' was not in top 1\n"
     ]
    },
    {
     "name": "stdout",
     "output_type": "stream",
     "text": [
      "Epoch 338: |                                              | 100/? [00:17<00:00,  5.88it/s, v_num=3, train_loss=1.35e-5]"
     ]
    },
    {
     "name": "stderr",
     "output_type": "stream",
     "text": [
      "Epoch 338, global step 33900: 'train_loss' was not in top 1\n"
     ]
    },
    {
     "name": "stdout",
     "output_type": "stream",
     "text": [
      "Epoch 339: |                                              | 100/? [00:17<00:00,  5.87it/s, v_num=3, train_loss=1.33e-5]"
     ]
    },
    {
     "name": "stderr",
     "output_type": "stream",
     "text": [
      "Epoch 339, global step 34000: 'train_loss' was not in top 1\n"
     ]
    },
    {
     "name": "stdout",
     "output_type": "stream",
     "text": [
      "Epoch 340: |                                              | 100/? [00:17<00:00,  5.87it/s, v_num=3, train_loss=1.34e-5]"
     ]
    },
    {
     "name": "stderr",
     "output_type": "stream",
     "text": [
      "Epoch 340, global step 34100: 'train_loss' was not in top 1\n"
     ]
    },
    {
     "name": "stdout",
     "output_type": "stream",
     "text": [
      "Epoch 341: |                                              | 100/? [00:17<00:00,  5.86it/s, v_num=3, train_loss=1.37e-5]"
     ]
    },
    {
     "name": "stderr",
     "output_type": "stream",
     "text": [
      "Epoch 341, global step 34200: 'train_loss' was not in top 1\n"
     ]
    },
    {
     "name": "stdout",
     "output_type": "stream",
     "text": [
      "Epoch 342: |                                              | 100/? [00:17<00:00,  5.86it/s, v_num=3, train_loss=1.33e-5]"
     ]
    },
    {
     "name": "stderr",
     "output_type": "stream",
     "text": [
      "Epoch 342, global step 34300: 'train_loss' reached 0.00001 (best 0.00001), saving model to 'C:\\\\Users\\\\falty\\\\Desktop\\\\GZS\\\\trading\\\\swing\\\\multi\\\\dobby\\\\lightning_logs\\\\version_3\\\\checkpoints\\\\epoch=342-step=34300.ckpt' as top 1\n"
     ]
    },
    {
     "name": "stdout",
     "output_type": "stream",
     "text": [
      "Epoch 343: |                                              | 100/? [00:17<00:00,  5.79it/s, v_num=3, train_loss=1.33e-5]"
     ]
    },
    {
     "name": "stderr",
     "output_type": "stream",
     "text": [
      "Epoch 343, global step 34400: 'train_loss' reached 0.00001 (best 0.00001), saving model to 'C:\\\\Users\\\\falty\\\\Desktop\\\\GZS\\\\trading\\\\swing\\\\multi\\\\dobby\\\\lightning_logs\\\\version_3\\\\checkpoints\\\\epoch=343-step=34400.ckpt' as top 1\n"
     ]
    },
    {
     "name": "stdout",
     "output_type": "stream",
     "text": [
      "Epoch 344: |                                              | 100/? [00:17<00:00,  5.78it/s, v_num=3, train_loss=1.34e-5]"
     ]
    },
    {
     "name": "stderr",
     "output_type": "stream",
     "text": [
      "Epoch 344, global step 34500: 'train_loss' was not in top 1\n"
     ]
    },
    {
     "name": "stdout",
     "output_type": "stream",
     "text": [
      "Epoch 345: |                                              | 100/? [00:17<00:00,  5.85it/s, v_num=3, train_loss=1.35e-5]"
     ]
    },
    {
     "name": "stderr",
     "output_type": "stream",
     "text": [
      "Epoch 345, global step 34600: 'train_loss' was not in top 1\n"
     ]
    },
    {
     "name": "stdout",
     "output_type": "stream",
     "text": [
      "Epoch 346: |                                              | 100/? [00:17<00:00,  5.78it/s, v_num=3, train_loss=1.35e-5]"
     ]
    },
    {
     "name": "stderr",
     "output_type": "stream",
     "text": [
      "Epoch 346, global step 34700: 'train_loss' was not in top 1\n"
     ]
    },
    {
     "name": "stdout",
     "output_type": "stream",
     "text": [
      "Epoch 347: |                                              | 100/? [00:17<00:00,  5.82it/s, v_num=3, train_loss=1.35e-5]"
     ]
    },
    {
     "name": "stderr",
     "output_type": "stream",
     "text": [
      "Epoch 347, global step 34800: 'train_loss' was not in top 1\n"
     ]
    },
    {
     "name": "stdout",
     "output_type": "stream",
     "text": [
      "Epoch 348: |                                              | 100/? [00:17<00:00,  5.84it/s, v_num=3, train_loss=1.35e-5]"
     ]
    },
    {
     "name": "stderr",
     "output_type": "stream",
     "text": [
      "Epoch 348, global step 34900: 'train_loss' was not in top 1\n"
     ]
    },
    {
     "name": "stdout",
     "output_type": "stream",
     "text": [
      "Epoch 349: |                                              | 100/? [00:17<00:00,  5.84it/s, v_num=3, train_loss=1.36e-5]"
     ]
    },
    {
     "name": "stderr",
     "output_type": "stream",
     "text": [
      "Epoch 349, global step 35000: 'train_loss' was not in top 1\n"
     ]
    },
    {
     "name": "stdout",
     "output_type": "stream",
     "text": [
      "Epoch 350: |                                              | 100/? [00:17<00:00,  5.83it/s, v_num=3, train_loss=1.34e-5]"
     ]
    },
    {
     "name": "stderr",
     "output_type": "stream",
     "text": [
      "Epoch 350, global step 35100: 'train_loss' was not in top 1\n"
     ]
    },
    {
     "name": "stdout",
     "output_type": "stream",
     "text": [
      "Epoch 351: |                                              | 100/? [00:17<00:00,  5.85it/s, v_num=3, train_loss=1.34e-5]"
     ]
    },
    {
     "name": "stderr",
     "output_type": "stream",
     "text": [
      "Epoch 351, global step 35200: 'train_loss' was not in top 1\n"
     ]
    },
    {
     "name": "stdout",
     "output_type": "stream",
     "text": [
      "Epoch 352: |                                              | 100/? [00:17<00:00,  5.81it/s, v_num=3, train_loss=1.35e-5]"
     ]
    },
    {
     "name": "stderr",
     "output_type": "stream",
     "text": [
      "Epoch 352, global step 35300: 'train_loss' was not in top 1\n"
     ]
    },
    {
     "name": "stdout",
     "output_type": "stream",
     "text": [
      "Epoch 353: |                                              | 100/? [00:17<00:00,  5.82it/s, v_num=3, train_loss=1.34e-5]"
     ]
    },
    {
     "name": "stderr",
     "output_type": "stream",
     "text": [
      "Epoch 353, global step 35400: 'train_loss' was not in top 1\n"
     ]
    },
    {
     "name": "stdout",
     "output_type": "stream",
     "text": [
      "Epoch 354: |                                              | 100/? [00:17<00:00,  5.85it/s, v_num=3, train_loss=1.35e-5]"
     ]
    },
    {
     "name": "stderr",
     "output_type": "stream",
     "text": [
      "Epoch 354, global step 35500: 'train_loss' was not in top 1\n"
     ]
    },
    {
     "name": "stdout",
     "output_type": "stream",
     "text": [
      "Epoch 355: |                                              | 100/? [00:17<00:00,  5.85it/s, v_num=3, train_loss=1.22e-5]"
     ]
    },
    {
     "name": "stderr",
     "output_type": "stream",
     "text": [
      "Epoch 355, global step 35600: 'train_loss' reached 0.00001 (best 0.00001), saving model to 'C:\\\\Users\\\\falty\\\\Desktop\\\\GZS\\\\trading\\\\swing\\\\multi\\\\dobby\\\\lightning_logs\\\\version_3\\\\checkpoints\\\\epoch=355-step=35600.ckpt' as top 1\n"
     ]
    },
    {
     "name": "stdout",
     "output_type": "stream",
     "text": [
      "Epoch 356: |                                               | 100/? [00:17<00:00,  5.73it/s, v_num=3, train_loss=1.2e-5]"
     ]
    },
    {
     "name": "stderr",
     "output_type": "stream",
     "text": [
      "Epoch 356, global step 35700: 'train_loss' reached 0.00001 (best 0.00001), saving model to 'C:\\\\Users\\\\falty\\\\Desktop\\\\GZS\\\\trading\\\\swing\\\\multi\\\\dobby\\\\lightning_logs\\\\version_3\\\\checkpoints\\\\epoch=356-step=35700.ckpt' as top 1\n"
     ]
    },
    {
     "name": "stdout",
     "output_type": "stream",
     "text": [
      "Epoch 357: |                                               | 100/? [00:17<00:00,  5.81it/s, v_num=3, train_loss=1.2e-5]"
     ]
    },
    {
     "name": "stderr",
     "output_type": "stream",
     "text": [
      "Epoch 357, global step 35800: 'train_loss' reached 0.00001 (best 0.00001), saving model to 'C:\\\\Users\\\\falty\\\\Desktop\\\\GZS\\\\trading\\\\swing\\\\multi\\\\dobby\\\\lightning_logs\\\\version_3\\\\checkpoints\\\\epoch=357-step=35800.ckpt' as top 1\n"
     ]
    },
    {
     "name": "stdout",
     "output_type": "stream",
     "text": [
      "Epoch 358: |                                              | 100/? [00:17<00:00,  5.78it/s, v_num=3, train_loss=1.19e-5]"
     ]
    },
    {
     "name": "stderr",
     "output_type": "stream",
     "text": [
      "Epoch 358, global step 35900: 'train_loss' reached 0.00001 (best 0.00001), saving model to 'C:\\\\Users\\\\falty\\\\Desktop\\\\GZS\\\\trading\\\\swing\\\\multi\\\\dobby\\\\lightning_logs\\\\version_3\\\\checkpoints\\\\epoch=358-step=35900.ckpt' as top 1\n"
     ]
    },
    {
     "name": "stdout",
     "output_type": "stream",
     "text": [
      "Epoch 359: |                                              | 100/? [00:17<00:00,  5.80it/s, v_num=3, train_loss=1.19e-5]"
     ]
    },
    {
     "name": "stderr",
     "output_type": "stream",
     "text": [
      "Epoch 359, global step 36000: 'train_loss' was not in top 1\n"
     ]
    },
    {
     "name": "stdout",
     "output_type": "stream",
     "text": [
      "Epoch 360: |                                              | 100/? [00:17<00:00,  5.87it/s, v_num=3, train_loss=1.19e-5]"
     ]
    },
    {
     "name": "stderr",
     "output_type": "stream",
     "text": [
      "Epoch 360, global step 36100: 'train_loss' reached 0.00001 (best 0.00001), saving model to 'C:\\\\Users\\\\falty\\\\Desktop\\\\GZS\\\\trading\\\\swing\\\\multi\\\\dobby\\\\lightning_logs\\\\version_3\\\\checkpoints\\\\epoch=360-step=36100.ckpt' as top 1\n"
     ]
    },
    {
     "name": "stdout",
     "output_type": "stream",
     "text": [
      "Epoch 361: |                                              | 100/? [00:17<00:00,  5.73it/s, v_num=3, train_loss=1.18e-5]"
     ]
    },
    {
     "name": "stderr",
     "output_type": "stream",
     "text": [
      "Epoch 361, global step 36200: 'train_loss' reached 0.00001 (best 0.00001), saving model to 'C:\\\\Users\\\\falty\\\\Desktop\\\\GZS\\\\trading\\\\swing\\\\multi\\\\dobby\\\\lightning_logs\\\\version_3\\\\checkpoints\\\\epoch=361-step=36200.ckpt' as top 1\n"
     ]
    },
    {
     "name": "stdout",
     "output_type": "stream",
     "text": [
      "Epoch 362: |                                              | 100/? [00:17<00:00,  5.76it/s, v_num=3, train_loss=1.18e-5]"
     ]
    },
    {
     "name": "stderr",
     "output_type": "stream",
     "text": [
      "Epoch 362, global step 36300: 'train_loss' reached 0.00001 (best 0.00001), saving model to 'C:\\\\Users\\\\falty\\\\Desktop\\\\GZS\\\\trading\\\\swing\\\\multi\\\\dobby\\\\lightning_logs\\\\version_3\\\\checkpoints\\\\epoch=362-step=36300.ckpt' as top 1\n"
     ]
    },
    {
     "name": "stdout",
     "output_type": "stream",
     "text": [
      "Epoch 363: |                                              | 100/? [00:17<00:00,  5.77it/s, v_num=3, train_loss=1.19e-5]"
     ]
    },
    {
     "name": "stderr",
     "output_type": "stream",
     "text": [
      "Epoch 363, global step 36400: 'train_loss' was not in top 1\n"
     ]
    },
    {
     "name": "stdout",
     "output_type": "stream",
     "text": [
      "Epoch 364: |                                              | 100/? [00:17<00:00,  5.87it/s, v_num=3, train_loss=1.19e-5]"
     ]
    },
    {
     "name": "stderr",
     "output_type": "stream",
     "text": [
      "Epoch 364, global step 36500: 'train_loss' was not in top 1\n"
     ]
    },
    {
     "name": "stdout",
     "output_type": "stream",
     "text": [
      "Epoch 365: |                                               | 100/? [00:17<00:00,  5.83it/s, v_num=3, train_loss=1.2e-5]"
     ]
    },
    {
     "name": "stderr",
     "output_type": "stream",
     "text": [
      "Epoch 365, global step 36600: 'train_loss' was not in top 1\n"
     ]
    },
    {
     "name": "stdout",
     "output_type": "stream",
     "text": [
      "Epoch 366: |                                              | 100/? [00:17<00:00,  5.83it/s, v_num=3, train_loss=1.19e-5]"
     ]
    },
    {
     "name": "stderr",
     "output_type": "stream",
     "text": [
      "Epoch 366, global step 36700: 'train_loss' was not in top 1\n"
     ]
    },
    {
     "name": "stdout",
     "output_type": "stream",
     "text": [
      "Epoch 367: |                                              | 100/? [00:17<00:00,  5.86it/s, v_num=3, train_loss=1.19e-5]"
     ]
    },
    {
     "name": "stderr",
     "output_type": "stream",
     "text": [
      "Epoch 367, global step 36800: 'train_loss' was not in top 1\n"
     ]
    },
    {
     "name": "stdout",
     "output_type": "stream",
     "text": [
      "Epoch 368: |                                              | 100/? [00:17<00:00,  5.83it/s, v_num=3, train_loss=1.18e-5]"
     ]
    },
    {
     "name": "stderr",
     "output_type": "stream",
     "text": [
      "Epoch 368, global step 36900: 'train_loss' reached 0.00001 (best 0.00001), saving model to 'C:\\\\Users\\\\falty\\\\Desktop\\\\GZS\\\\trading\\\\swing\\\\multi\\\\dobby\\\\lightning_logs\\\\version_3\\\\checkpoints\\\\epoch=368-step=36900.ckpt' as top 1\n"
     ]
    },
    {
     "name": "stdout",
     "output_type": "stream",
     "text": [
      "Epoch 369: |                                              | 100/? [00:17<00:00,  5.76it/s, v_num=3, train_loss=1.18e-5]"
     ]
    },
    {
     "name": "stderr",
     "output_type": "stream",
     "text": [
      "Epoch 369, global step 37000: 'train_loss' reached 0.00001 (best 0.00001), saving model to 'C:\\\\Users\\\\falty\\\\Desktop\\\\GZS\\\\trading\\\\swing\\\\multi\\\\dobby\\\\lightning_logs\\\\version_3\\\\checkpoints\\\\epoch=369-step=37000.ckpt' as top 1\n"
     ]
    },
    {
     "name": "stdout",
     "output_type": "stream",
     "text": [
      "Epoch 370: |                                              | 100/? [00:17<00:00,  5.80it/s, v_num=3, train_loss=1.18e-5]"
     ]
    },
    {
     "name": "stderr",
     "output_type": "stream",
     "text": [
      "Epoch 370, global step 37100: 'train_loss' was not in top 1\n"
     ]
    },
    {
     "name": "stdout",
     "output_type": "stream",
     "text": [
      "Epoch 371: |                                              | 100/? [00:17<00:00,  5.86it/s, v_num=3, train_loss=1.17e-5]"
     ]
    },
    {
     "name": "stderr",
     "output_type": "stream",
     "text": [
      "Epoch 371, global step 37200: 'train_loss' reached 0.00001 (best 0.00001), saving model to 'C:\\\\Users\\\\falty\\\\Desktop\\\\GZS\\\\trading\\\\swing\\\\multi\\\\dobby\\\\lightning_logs\\\\version_3\\\\checkpoints\\\\epoch=371-step=37200.ckpt' as top 1\n"
     ]
    },
    {
     "name": "stdout",
     "output_type": "stream",
     "text": [
      "Epoch 372: |                                              | 100/? [00:17<00:00,  5.73it/s, v_num=3, train_loss=1.18e-5]"
     ]
    },
    {
     "name": "stderr",
     "output_type": "stream",
     "text": [
      "Epoch 372, global step 37300: 'train_loss' was not in top 1\n"
     ]
    },
    {
     "name": "stdout",
     "output_type": "stream",
     "text": [
      "Epoch 373: |                                               | 100/? [00:17<00:00,  5.84it/s, v_num=3, train_loss=1.2e-5]"
     ]
    },
    {
     "name": "stderr",
     "output_type": "stream",
     "text": [
      "Epoch 373, global step 37400: 'train_loss' was not in top 1\n"
     ]
    },
    {
     "name": "stdout",
     "output_type": "stream",
     "text": [
      "Epoch 374: |                                              | 100/? [00:17<00:00,  5.82it/s, v_num=3, train_loss=1.18e-5]"
     ]
    },
    {
     "name": "stderr",
     "output_type": "stream",
     "text": [
      "Epoch 374, global step 37500: 'train_loss' was not in top 1\n"
     ]
    },
    {
     "name": "stdout",
     "output_type": "stream",
     "text": [
      "Epoch 375: |                                              | 100/? [00:17<00:00,  5.78it/s, v_num=3, train_loss=1.18e-5]"
     ]
    },
    {
     "name": "stderr",
     "output_type": "stream",
     "text": [
      "Epoch 375, global step 37600: 'train_loss' was not in top 1\n"
     ]
    },
    {
     "name": "stdout",
     "output_type": "stream",
     "text": [
      "Epoch 376: |                                              | 100/? [00:17<00:00,  5.84it/s, v_num=3, train_loss=1.18e-5]"
     ]
    },
    {
     "name": "stderr",
     "output_type": "stream",
     "text": [
      "Epoch 376, global step 37700: 'train_loss' was not in top 1\n"
     ]
    },
    {
     "name": "stdout",
     "output_type": "stream",
     "text": [
      "Epoch 377: |                                              | 100/? [00:17<00:00,  5.84it/s, v_num=3, train_loss=1.18e-5]"
     ]
    },
    {
     "name": "stderr",
     "output_type": "stream",
     "text": [
      "Epoch 377, global step 37800: 'train_loss' was not in top 1\n"
     ]
    },
    {
     "name": "stdout",
     "output_type": "stream",
     "text": [
      "Epoch 378: |                                              | 100/? [00:17<00:00,  5.81it/s, v_num=3, train_loss=1.19e-5]"
     ]
    },
    {
     "name": "stderr",
     "output_type": "stream",
     "text": [
      "Epoch 378, global step 37900: 'train_loss' was not in top 1\n"
     ]
    },
    {
     "name": "stdout",
     "output_type": "stream",
     "text": [
      "Epoch 379: |                                              | 100/? [00:17<00:00,  5.85it/s, v_num=3, train_loss=1.19e-5]"
     ]
    },
    {
     "name": "stderr",
     "output_type": "stream",
     "text": [
      "Epoch 379, global step 38000: 'train_loss' was not in top 1\n"
     ]
    },
    {
     "name": "stdout",
     "output_type": "stream",
     "text": [
      "Epoch 380: |                                              | 100/? [00:17<00:00,  5.83it/s, v_num=3, train_loss=1.18e-5]"
     ]
    },
    {
     "name": "stderr",
     "output_type": "stream",
     "text": [
      "Epoch 380, global step 38100: 'train_loss' was not in top 1\n"
     ]
    },
    {
     "name": "stdout",
     "output_type": "stream",
     "text": [
      "Epoch 381: |                                              | 100/? [00:17<00:00,  5.84it/s, v_num=3, train_loss=1.19e-5]"
     ]
    },
    {
     "name": "stderr",
     "output_type": "stream",
     "text": [
      "Epoch 381, global step 38200: 'train_loss' was not in top 1\n"
     ]
    },
    {
     "name": "stdout",
     "output_type": "stream",
     "text": [
      "Epoch 382: |                                              | 100/? [00:17<00:00,  5.85it/s, v_num=3, train_loss=1.18e-5]"
     ]
    },
    {
     "name": "stderr",
     "output_type": "stream",
     "text": [
      "Epoch 382, global step 38300: 'train_loss' was not in top 1\n"
     ]
    },
    {
     "name": "stdout",
     "output_type": "stream",
     "text": [
      "Epoch 383: |                                              | 100/? [00:17<00:00,  5.82it/s, v_num=3, train_loss=1.14e-5]"
     ]
    },
    {
     "name": "stderr",
     "output_type": "stream",
     "text": [
      "Epoch 383, global step 38400: 'train_loss' reached 0.00001 (best 0.00001), saving model to 'C:\\\\Users\\\\falty\\\\Desktop\\\\GZS\\\\trading\\\\swing\\\\multi\\\\dobby\\\\lightning_logs\\\\version_3\\\\checkpoints\\\\epoch=383-step=38400.ckpt' as top 1\n"
     ]
    },
    {
     "name": "stdout",
     "output_type": "stream",
     "text": [
      "Epoch 384: |                                              | 100/? [00:17<00:00,  5.75it/s, v_num=3, train_loss=1.11e-5]"
     ]
    },
    {
     "name": "stderr",
     "output_type": "stream",
     "text": [
      "Epoch 384, global step 38500: 'train_loss' reached 0.00001 (best 0.00001), saving model to 'C:\\\\Users\\\\falty\\\\Desktop\\\\GZS\\\\trading\\\\swing\\\\multi\\\\dobby\\\\lightning_logs\\\\version_3\\\\checkpoints\\\\epoch=384-step=38500.ckpt' as top 1\n"
     ]
    },
    {
     "name": "stdout",
     "output_type": "stream",
     "text": [
      "Epoch 385: |                                              | 100/? [00:17<00:00,  5.75it/s, v_num=3, train_loss=1.11e-5]"
     ]
    },
    {
     "name": "stderr",
     "output_type": "stream",
     "text": [
      "Epoch 385, global step 38600: 'train_loss' was not in top 1\n"
     ]
    },
    {
     "name": "stdout",
     "output_type": "stream",
     "text": [
      "Epoch 386: |                                              | 100/? [00:17<00:00,  5.82it/s, v_num=3, train_loss=1.11e-5]"
     ]
    },
    {
     "name": "stderr",
     "output_type": "stream",
     "text": [
      "Epoch 386, global step 38700: 'train_loss' was not in top 1\n"
     ]
    },
    {
     "name": "stdout",
     "output_type": "stream",
     "text": [
      "Epoch 387: |                                              | 100/? [00:17<00:00,  5.85it/s, v_num=3, train_loss=1.11e-5]"
     ]
    },
    {
     "name": "stderr",
     "output_type": "stream",
     "text": [
      "Epoch 387, global step 38800: 'train_loss' was not in top 1\n"
     ]
    },
    {
     "name": "stdout",
     "output_type": "stream",
     "text": [
      "Epoch 388: |                                              | 100/? [00:17<00:00,  5.83it/s, v_num=3, train_loss=1.12e-5]"
     ]
    },
    {
     "name": "stderr",
     "output_type": "stream",
     "text": [
      "Epoch 388, global step 38900: 'train_loss' was not in top 1\n"
     ]
    },
    {
     "name": "stdout",
     "output_type": "stream",
     "text": [
      "Epoch 389: |                                              | 100/? [00:17<00:00,  5.84it/s, v_num=3, train_loss=1.11e-5]"
     ]
    },
    {
     "name": "stderr",
     "output_type": "stream",
     "text": [
      "Epoch 389, global step 39000: 'train_loss' was not in top 1\n"
     ]
    },
    {
     "name": "stdout",
     "output_type": "stream",
     "text": [
      "Epoch 390: |                                              | 100/? [00:17<00:00,  5.86it/s, v_num=3, train_loss=1.12e-5]"
     ]
    },
    {
     "name": "stderr",
     "output_type": "stream",
     "text": [
      "Epoch 390, global step 39100: 'train_loss' was not in top 1\n"
     ]
    },
    {
     "name": "stdout",
     "output_type": "stream",
     "text": [
      "Epoch 391: |                                              | 100/? [00:17<00:00,  5.82it/s, v_num=3, train_loss=1.11e-5]"
     ]
    },
    {
     "name": "stderr",
     "output_type": "stream",
     "text": [
      "Epoch 391, global step 39200: 'train_loss' was not in top 1\n"
     ]
    },
    {
     "name": "stdout",
     "output_type": "stream",
     "text": [
      "Epoch 392: |                                              | 100/? [00:17<00:00,  5.83it/s, v_num=3, train_loss=1.12e-5]"
     ]
    },
    {
     "name": "stderr",
     "output_type": "stream",
     "text": [
      "Epoch 392, global step 39300: 'train_loss' was not in top 1\n"
     ]
    },
    {
     "name": "stdout",
     "output_type": "stream",
     "text": [
      "Epoch 393: |                                              | 100/? [00:17<00:00,  5.81it/s, v_num=3, train_loss=1.11e-5]"
     ]
    },
    {
     "name": "stderr",
     "output_type": "stream",
     "text": [
      "Epoch 393, global step 39400: 'train_loss' was not in top 1\n"
     ]
    },
    {
     "name": "stdout",
     "output_type": "stream",
     "text": [
      "Epoch 394: |                                              | 100/? [00:17<00:00,  5.82it/s, v_num=3, train_loss=1.11e-5]"
     ]
    },
    {
     "name": "stderr",
     "output_type": "stream",
     "text": [
      "Epoch 394, global step 39500: 'train_loss' reached 0.00001 (best 0.00001), saving model to 'C:\\\\Users\\\\falty\\\\Desktop\\\\GZS\\\\trading\\\\swing\\\\multi\\\\dobby\\\\lightning_logs\\\\version_3\\\\checkpoints\\\\epoch=394-step=39500.ckpt' as top 1\n"
     ]
    },
    {
     "name": "stdout",
     "output_type": "stream",
     "text": [
      "Epoch 395: |                                               | 100/? [00:17<00:00,  5.79it/s, v_num=3, train_loss=1.1e-5]"
     ]
    },
    {
     "name": "stderr",
     "output_type": "stream",
     "text": [
      "Epoch 395, global step 39600: 'train_loss' reached 0.00001 (best 0.00001), saving model to 'C:\\\\Users\\\\falty\\\\Desktop\\\\GZS\\\\trading\\\\swing\\\\multi\\\\dobby\\\\lightning_logs\\\\version_3\\\\checkpoints\\\\epoch=395-step=39600.ckpt' as top 1\n"
     ]
    },
    {
     "name": "stdout",
     "output_type": "stream",
     "text": [
      "Epoch 396: |                                               | 100/? [00:17<00:00,  5.74it/s, v_num=3, train_loss=1.1e-5]"
     ]
    },
    {
     "name": "stderr",
     "output_type": "stream",
     "text": [
      "Epoch 396, global step 39700: 'train_loss' was not in top 1\n"
     ]
    },
    {
     "name": "stdout",
     "output_type": "stream",
     "text": [
      "Epoch 397: |                                              | 100/? [00:17<00:00,  5.83it/s, v_num=3, train_loss=1.11e-5]"
     ]
    },
    {
     "name": "stderr",
     "output_type": "stream",
     "text": [
      "Epoch 397, global step 39800: 'train_loss' was not in top 1\n"
     ]
    },
    {
     "name": "stdout",
     "output_type": "stream",
     "text": [
      "Epoch 398: |                                              | 100/? [00:17<00:00,  5.82it/s, v_num=3, train_loss=1.11e-5]"
     ]
    },
    {
     "name": "stderr",
     "output_type": "stream",
     "text": [
      "Epoch 398, global step 39900: 'train_loss' was not in top 1\n"
     ]
    },
    {
     "name": "stdout",
     "output_type": "stream",
     "text": [
      "Epoch 399: |                                              | 100/? [00:17<00:00,  5.84it/s, v_num=3, train_loss=1.12e-5]"
     ]
    },
    {
     "name": "stderr",
     "output_type": "stream",
     "text": [
      "Epoch 399, global step 40000: 'train_loss' was not in top 1\n"
     ]
    },
    {
     "name": "stdout",
     "output_type": "stream",
     "text": [
      "Epoch 400: |                                              | 100/? [00:17<00:00,  5.85it/s, v_num=3, train_loss=1.11e-5]"
     ]
    },
    {
     "name": "stderr",
     "output_type": "stream",
     "text": [
      "Epoch 400, global step 40100: 'train_loss' was not in top 1\n"
     ]
    },
    {
     "name": "stdout",
     "output_type": "stream",
     "text": [
      "Epoch 401: |                                              | 100/? [00:17<00:00,  5.85it/s, v_num=3, train_loss=1.11e-5]"
     ]
    },
    {
     "name": "stderr",
     "output_type": "stream",
     "text": [
      "Epoch 401, global step 40200: 'train_loss' was not in top 1\n"
     ]
    },
    {
     "name": "stdout",
     "output_type": "stream",
     "text": [
      "Epoch 402: |                                              | 100/? [00:17<00:00,  5.85it/s, v_num=3, train_loss=1.11e-5]"
     ]
    },
    {
     "name": "stderr",
     "output_type": "stream",
     "text": [
      "Epoch 402, global step 40300: 'train_loss' was not in top 1\n"
     ]
    },
    {
     "name": "stdout",
     "output_type": "stream",
     "text": [
      "Epoch 403: |                                              | 100/? [00:17<00:00,  5.82it/s, v_num=3, train_loss=1.11e-5]"
     ]
    },
    {
     "name": "stderr",
     "output_type": "stream",
     "text": [
      "Epoch 403, global step 40400: 'train_loss' was not in top 1\n"
     ]
    },
    {
     "name": "stdout",
     "output_type": "stream",
     "text": [
      "Epoch 404: |                                               | 100/? [00:17<00:00,  5.83it/s, v_num=3, train_loss=1.1e-5]"
     ]
    },
    {
     "name": "stderr",
     "output_type": "stream",
     "text": [
      "Epoch 404, global step 40500: 'train_loss' was not in top 1\n"
     ]
    },
    {
     "name": "stdout",
     "output_type": "stream",
     "text": [
      "Epoch 405: |                                              | 100/? [00:17<00:00,  5.86it/s, v_num=3, train_loss=1.11e-5]"
     ]
    },
    {
     "name": "stderr",
     "output_type": "stream",
     "text": [
      "Epoch 405, global step 40600: 'train_loss' was not in top 1\n"
     ]
    },
    {
     "name": "stdout",
     "output_type": "stream",
     "text": [
      "Epoch 406: |                                              | 100/? [00:17<00:00,  5.82it/s, v_num=3, train_loss=1.11e-5]"
     ]
    },
    {
     "name": "stderr",
     "output_type": "stream",
     "text": [
      "Epoch 406, global step 40700: 'train_loss' was not in top 1\n"
     ]
    },
    {
     "name": "stdout",
     "output_type": "stream",
     "text": [
      "Epoch 407: |                                              | 100/? [00:17<00:00,  5.83it/s, v_num=3, train_loss=1.08e-5]"
     ]
    },
    {
     "name": "stderr",
     "output_type": "stream",
     "text": [
      "Epoch 407, global step 40800: 'train_loss' reached 0.00001 (best 0.00001), saving model to 'C:\\\\Users\\\\falty\\\\Desktop\\\\GZS\\\\trading\\\\swing\\\\multi\\\\dobby\\\\lightning_logs\\\\version_3\\\\checkpoints\\\\epoch=407-step=40800.ckpt' as top 1\n"
     ]
    },
    {
     "name": "stdout",
     "output_type": "stream",
     "text": [
      "Epoch 408: |                                              | 100/? [00:17<00:00,  5.73it/s, v_num=3, train_loss=1.09e-5]"
     ]
    },
    {
     "name": "stderr",
     "output_type": "stream",
     "text": [
      "Epoch 408, global step 40900: 'train_loss' was not in top 1\n"
     ]
    },
    {
     "name": "stdout",
     "output_type": "stream",
     "text": [
      "Epoch 409: |                                              | 100/? [00:17<00:00,  5.86it/s, v_num=3, train_loss=1.09e-5]"
     ]
    },
    {
     "name": "stderr",
     "output_type": "stream",
     "text": [
      "Epoch 409, global step 41000: 'train_loss' was not in top 1\n"
     ]
    },
    {
     "name": "stdout",
     "output_type": "stream",
     "text": [
      "Epoch 410: |                                              | 100/? [00:17<00:00,  5.80it/s, v_num=3, train_loss=1.07e-5]"
     ]
    },
    {
     "name": "stderr",
     "output_type": "stream",
     "text": [
      "Epoch 410, global step 41100: 'train_loss' reached 0.00001 (best 0.00001), saving model to 'C:\\\\Users\\\\falty\\\\Desktop\\\\GZS\\\\trading\\\\swing\\\\multi\\\\dobby\\\\lightning_logs\\\\version_3\\\\checkpoints\\\\epoch=410-step=41100.ckpt' as top 1\n"
     ]
    },
    {
     "name": "stdout",
     "output_type": "stream",
     "text": [
      "Epoch 411: |                                              | 100/? [00:17<00:00,  5.79it/s, v_num=3, train_loss=1.07e-5]"
     ]
    },
    {
     "name": "stderr",
     "output_type": "stream",
     "text": [
      "Epoch 411, global step 41200: 'train_loss' reached 0.00001 (best 0.00001), saving model to 'C:\\\\Users\\\\falty\\\\Desktop\\\\GZS\\\\trading\\\\swing\\\\multi\\\\dobby\\\\lightning_logs\\\\version_3\\\\checkpoints\\\\epoch=411-step=41200.ckpt' as top 1\n"
     ]
    },
    {
     "name": "stdout",
     "output_type": "stream",
     "text": [
      "Epoch 412: |                                              | 100/? [00:17<00:00,  5.78it/s, v_num=3, train_loss=1.08e-5]"
     ]
    },
    {
     "name": "stderr",
     "output_type": "stream",
     "text": [
      "Epoch 412, global step 41300: 'train_loss' was not in top 1\n"
     ]
    },
    {
     "name": "stdout",
     "output_type": "stream",
     "text": [
      "Epoch 413: |                                              | 100/? [00:17<00:00,  5.83it/s, v_num=3, train_loss=1.07e-5]"
     ]
    },
    {
     "name": "stderr",
     "output_type": "stream",
     "text": [
      "Epoch 413, global step 41400: 'train_loss' was not in top 1\n"
     ]
    },
    {
     "name": "stdout",
     "output_type": "stream",
     "text": [
      "Epoch 414: |                                              | 100/? [00:17<00:00,  5.88it/s, v_num=3, train_loss=1.07e-5]"
     ]
    },
    {
     "name": "stderr",
     "output_type": "stream",
     "text": [
      "Epoch 414, global step 41500: 'train_loss' was not in top 1\n"
     ]
    },
    {
     "name": "stdout",
     "output_type": "stream",
     "text": [
      "Epoch 415: |                                              | 100/? [00:17<00:00,  5.86it/s, v_num=3, train_loss=1.07e-5]"
     ]
    },
    {
     "name": "stderr",
     "output_type": "stream",
     "text": [
      "Epoch 415, global step 41600: 'train_loss' was not in top 1\n"
     ]
    },
    {
     "name": "stdout",
     "output_type": "stream",
     "text": [
      "Epoch 416: |                                              | 100/? [00:17<00:00,  5.85it/s, v_num=3, train_loss=1.07e-5]"
     ]
    },
    {
     "name": "stderr",
     "output_type": "stream",
     "text": [
      "Epoch 416, global step 41700: 'train_loss' reached 0.00001 (best 0.00001), saving model to 'C:\\\\Users\\\\falty\\\\Desktop\\\\GZS\\\\trading\\\\swing\\\\multi\\\\dobby\\\\lightning_logs\\\\version_3\\\\checkpoints\\\\epoch=416-step=41700.ckpt' as top 1\n"
     ]
    },
    {
     "name": "stdout",
     "output_type": "stream",
     "text": [
      "Epoch 417: |                                              | 100/? [00:17<00:00,  5.77it/s, v_num=3, train_loss=1.07e-5]"
     ]
    },
    {
     "name": "stderr",
     "output_type": "stream",
     "text": [
      "Epoch 417, global step 41800: 'train_loss' was not in top 1\n"
     ]
    },
    {
     "name": "stdout",
     "output_type": "stream",
     "text": [
      "Epoch 418: |                                              | 100/? [00:17<00:00,  5.85it/s, v_num=3, train_loss=1.06e-5]"
     ]
    },
    {
     "name": "stderr",
     "output_type": "stream",
     "text": [
      "Epoch 418, global step 41900: 'train_loss' reached 0.00001 (best 0.00001), saving model to 'C:\\\\Users\\\\falty\\\\Desktop\\\\GZS\\\\trading\\\\swing\\\\multi\\\\dobby\\\\lightning_logs\\\\version_3\\\\checkpoints\\\\epoch=418-step=41900.ckpt' as top 1\n"
     ]
    },
    {
     "name": "stdout",
     "output_type": "stream",
     "text": [
      "Epoch 419: |                                              | 100/? [00:17<00:00,  5.75it/s, v_num=3, train_loss=1.07e-5]"
     ]
    },
    {
     "name": "stderr",
     "output_type": "stream",
     "text": [
      "Epoch 419, global step 42000: 'train_loss' was not in top 1\n"
     ]
    },
    {
     "name": "stdout",
     "output_type": "stream",
     "text": [
      "Epoch 420: |                                              | 100/? [00:17<00:00,  5.84it/s, v_num=3, train_loss=1.07e-5]"
     ]
    },
    {
     "name": "stderr",
     "output_type": "stream",
     "text": [
      "Epoch 420, global step 42100: 'train_loss' was not in top 1\n"
     ]
    },
    {
     "name": "stdout",
     "output_type": "stream",
     "text": [
      "Epoch 421: |                                              | 100/? [00:17<00:00,  5.84it/s, v_num=3, train_loss=1.07e-5]"
     ]
    },
    {
     "name": "stderr",
     "output_type": "stream",
     "text": [
      "Epoch 421, global step 42200: 'train_loss' was not in top 1\n"
     ]
    },
    {
     "name": "stdout",
     "output_type": "stream",
     "text": [
      "Epoch 422: |                                              | 100/? [00:17<00:00,  5.83it/s, v_num=3, train_loss=1.07e-5]"
     ]
    },
    {
     "name": "stderr",
     "output_type": "stream",
     "text": [
      "Epoch 422, global step 42300: 'train_loss' was not in top 1\n"
     ]
    },
    {
     "name": "stdout",
     "output_type": "stream",
     "text": [
      "Epoch 423: |                                              | 100/? [00:17<00:00,  5.81it/s, v_num=3, train_loss=1.07e-5]"
     ]
    },
    {
     "name": "stderr",
     "output_type": "stream",
     "text": [
      "Epoch 423, global step 42400: 'train_loss' was not in top 1\n"
     ]
    },
    {
     "name": "stdout",
     "output_type": "stream",
     "text": [
      "Epoch 424: |                                              | 100/? [00:17<00:00,  5.82it/s, v_num=3, train_loss=1.07e-5]"
     ]
    },
    {
     "name": "stderr",
     "output_type": "stream",
     "text": [
      "Epoch 424, global step 42500: 'train_loss' was not in top 1\n"
     ]
    },
    {
     "name": "stdout",
     "output_type": "stream",
     "text": [
      "Epoch 425: |                                              | 100/? [00:17<00:00,  5.85it/s, v_num=3, train_loss=1.07e-5]"
     ]
    },
    {
     "name": "stderr",
     "output_type": "stream",
     "text": [
      "Epoch 425, global step 42600: 'train_loss' was not in top 1\n"
     ]
    },
    {
     "name": "stdout",
     "output_type": "stream",
     "text": [
      "Epoch 426: |                                              | 100/? [00:17<00:00,  5.84it/s, v_num=3, train_loss=1.06e-5]"
     ]
    },
    {
     "name": "stderr",
     "output_type": "stream",
     "text": [
      "Epoch 426, global step 42700: 'train_loss' reached 0.00001 (best 0.00001), saving model to 'C:\\\\Users\\\\falty\\\\Desktop\\\\GZS\\\\trading\\\\swing\\\\multi\\\\dobby\\\\lightning_logs\\\\version_3\\\\checkpoints\\\\epoch=426-step=42700.ckpt' as top 1\n"
     ]
    },
    {
     "name": "stdout",
     "output_type": "stream",
     "text": [
      "Epoch 427: |                                              | 100/? [00:17<00:00,  5.80it/s, v_num=3, train_loss=1.07e-5]"
     ]
    },
    {
     "name": "stderr",
     "output_type": "stream",
     "text": [
      "Epoch 427, global step 42800: 'train_loss' was not in top 1\n"
     ]
    },
    {
     "name": "stdout",
     "output_type": "stream",
     "text": [
      "Epoch 428: |                                              | 100/? [00:17<00:00,  5.86it/s, v_num=3, train_loss=1.07e-5]"
     ]
    },
    {
     "name": "stderr",
     "output_type": "stream",
     "text": [
      "Epoch 428, global step 42900: 'train_loss' was not in top 1\n"
     ]
    },
    {
     "name": "stdout",
     "output_type": "stream",
     "text": [
      "Epoch 429: |                                              | 100/? [00:17<00:00,  5.84it/s, v_num=3, train_loss=1.07e-5]"
     ]
    },
    {
     "name": "stderr",
     "output_type": "stream",
     "text": [
      "Epoch 429, global step 43000: 'train_loss' was not in top 1\n"
     ]
    },
    {
     "name": "stdout",
     "output_type": "stream",
     "text": [
      "Epoch 430: |                                              | 100/? [00:17<00:00,  5.80it/s, v_num=3, train_loss=1.07e-5]"
     ]
    },
    {
     "name": "stderr",
     "output_type": "stream",
     "text": [
      "Epoch 430, global step 43100: 'train_loss' was not in top 1\n"
     ]
    },
    {
     "name": "stdout",
     "output_type": "stream",
     "text": [
      "Epoch 431: |                                              | 100/? [00:17<00:00,  5.84it/s, v_num=3, train_loss=1.07e-5]"
     ]
    },
    {
     "name": "stderr",
     "output_type": "stream",
     "text": [
      "Epoch 431, global step 43200: 'train_loss' was not in top 1\n"
     ]
    },
    {
     "name": "stdout",
     "output_type": "stream",
     "text": [
      "Epoch 432: |                                              | 100/? [00:17<00:00,  5.83it/s, v_num=3, train_loss=1.08e-5]"
     ]
    },
    {
     "name": "stderr",
     "output_type": "stream",
     "text": [
      "Epoch 432, global step 43300: 'train_loss' was not in top 1\n"
     ]
    },
    {
     "name": "stdout",
     "output_type": "stream",
     "text": [
      "Epoch 433: |                                              | 100/? [00:17<00:00,  5.81it/s, v_num=3, train_loss=1.06e-5]"
     ]
    },
    {
     "name": "stderr",
     "output_type": "stream",
     "text": [
      "Epoch 433, global step 43400: 'train_loss' was not in top 1\n"
     ]
    },
    {
     "name": "stdout",
     "output_type": "stream",
     "text": [
      "Epoch 434: |                                              | 100/? [00:17<00:00,  5.81it/s, v_num=3, train_loss=1.08e-5]"
     ]
    },
    {
     "name": "stderr",
     "output_type": "stream",
     "text": [
      "Epoch 434, global step 43500: 'train_loss' was not in top 1\n"
     ]
    },
    {
     "name": "stdout",
     "output_type": "stream",
     "text": [
      "Epoch 435: |                                              | 100/? [00:17<00:00,  5.85it/s, v_num=3, train_loss=1.07e-5]"
     ]
    },
    {
     "name": "stderr",
     "output_type": "stream",
     "text": [
      "Epoch 435, global step 43600: 'train_loss' was not in top 1\n"
     ]
    },
    {
     "name": "stdout",
     "output_type": "stream",
     "text": [
      "Epoch 436: |                                              | 100/? [00:17<00:00,  5.84it/s, v_num=3, train_loss=1.07e-5]"
     ]
    },
    {
     "name": "stderr",
     "output_type": "stream",
     "text": [
      "Epoch 436, global step 43700: 'train_loss' was not in top 1\n"
     ]
    },
    {
     "name": "stdout",
     "output_type": "stream",
     "text": [
      "Epoch 437: |                                              | 100/? [00:17<00:00,  5.85it/s, v_num=3, train_loss=1.07e-5]"
     ]
    },
    {
     "name": "stderr",
     "output_type": "stream",
     "text": [
      "Epoch 437, global step 43800: 'train_loss' was not in top 1\n"
     ]
    },
    {
     "name": "stdout",
     "output_type": "stream",
     "text": [
      "Epoch 438: |                                              | 100/? [00:17<00:00,  5.86it/s, v_num=3, train_loss=1.06e-5]"
     ]
    },
    {
     "name": "stderr",
     "output_type": "stream",
     "text": [
      "Epoch 438, global step 43900: 'train_loss' reached 0.00001 (best 0.00001), saving model to 'C:\\\\Users\\\\falty\\\\Desktop\\\\GZS\\\\trading\\\\swing\\\\multi\\\\dobby\\\\lightning_logs\\\\version_3\\\\checkpoints\\\\epoch=438-step=43900.ckpt' as top 1\n"
     ]
    },
    {
     "name": "stdout",
     "output_type": "stream",
     "text": [
      "Epoch 439: |                                              | 100/? [00:17<00:00,  5.73it/s, v_num=3, train_loss=1.06e-5]"
     ]
    },
    {
     "name": "stderr",
     "output_type": "stream",
     "text": [
      "Epoch 439, global step 44000: 'train_loss' was not in top 1\n"
     ]
    },
    {
     "name": "stdout",
     "output_type": "stream",
     "text": [
      "Epoch 440: |                                              | 100/? [00:17<00:00,  5.85it/s, v_num=3, train_loss=1.04e-5]"
     ]
    },
    {
     "name": "stderr",
     "output_type": "stream",
     "text": [
      "Epoch 440, global step 44100: 'train_loss' reached 0.00001 (best 0.00001), saving model to 'C:\\\\Users\\\\falty\\\\Desktop\\\\GZS\\\\trading\\\\swing\\\\multi\\\\dobby\\\\lightning_logs\\\\version_3\\\\checkpoints\\\\epoch=440-step=44100.ckpt' as top 1\n"
     ]
    },
    {
     "name": "stdout",
     "output_type": "stream",
     "text": [
      "Epoch 441: |                                              | 100/? [00:17<00:00,  5.78it/s, v_num=3, train_loss=1.05e-5]"
     ]
    },
    {
     "name": "stderr",
     "output_type": "stream",
     "text": [
      "Epoch 441, global step 44200: 'train_loss' was not in top 1\n"
     ]
    },
    {
     "name": "stdout",
     "output_type": "stream",
     "text": [
      "Epoch 442: |                                              | 100/? [00:17<00:00,  5.85it/s, v_num=3, train_loss=1.06e-5]"
     ]
    },
    {
     "name": "stderr",
     "output_type": "stream",
     "text": [
      "Epoch 442, global step 44300: 'train_loss' was not in top 1\n"
     ]
    },
    {
     "name": "stdout",
     "output_type": "stream",
     "text": [
      "Epoch 443: |                                              | 100/? [00:17<00:00,  5.83it/s, v_num=3, train_loss=1.05e-5]"
     ]
    },
    {
     "name": "stderr",
     "output_type": "stream",
     "text": [
      "Epoch 443, global step 44400: 'train_loss' was not in top 1\n"
     ]
    },
    {
     "name": "stdout",
     "output_type": "stream",
     "text": [
      "Epoch 444: |                                              | 100/? [00:17<00:00,  5.81it/s, v_num=3, train_loss=1.05e-5]"
     ]
    },
    {
     "name": "stderr",
     "output_type": "stream",
     "text": [
      "Epoch 444, global step 44500: 'train_loss' was not in top 1\n"
     ]
    },
    {
     "name": "stdout",
     "output_type": "stream",
     "text": [
      "Epoch 445: |                                              | 100/? [00:17<00:00,  5.82it/s, v_num=3, train_loss=1.05e-5]"
     ]
    },
    {
     "name": "stderr",
     "output_type": "stream",
     "text": [
      "Epoch 445, global step 44600: 'train_loss' was not in top 1\n"
     ]
    },
    {
     "name": "stdout",
     "output_type": "stream",
     "text": [
      "Epoch 446: |                                              | 100/? [00:17<00:00,  5.84it/s, v_num=3, train_loss=1.05e-5]"
     ]
    },
    {
     "name": "stderr",
     "output_type": "stream",
     "text": [
      "Epoch 446, global step 44700: 'train_loss' was not in top 1\n"
     ]
    },
    {
     "name": "stdout",
     "output_type": "stream",
     "text": [
      "Epoch 447: |                                              | 100/? [00:17<00:00,  5.83it/s, v_num=3, train_loss=1.05e-5]"
     ]
    },
    {
     "name": "stderr",
     "output_type": "stream",
     "text": [
      "Epoch 447, global step 44800: 'train_loss' was not in top 1\n"
     ]
    },
    {
     "name": "stdout",
     "output_type": "stream",
     "text": [
      "Epoch 448: |                                              | 100/? [00:17<00:00,  5.82it/s, v_num=3, train_loss=1.05e-5]"
     ]
    },
    {
     "name": "stderr",
     "output_type": "stream",
     "text": [
      "Epoch 448, global step 44900: 'train_loss' was not in top 1\n"
     ]
    },
    {
     "name": "stdout",
     "output_type": "stream",
     "text": [
      "Epoch 449: |                                              | 100/? [00:17<00:00,  5.82it/s, v_num=3, train_loss=1.05e-5]"
     ]
    },
    {
     "name": "stderr",
     "output_type": "stream",
     "text": [
      "Epoch 449, global step 45000: 'train_loss' was not in top 1\n"
     ]
    },
    {
     "name": "stdout",
     "output_type": "stream",
     "text": [
      "Epoch 450: |                                              | 100/? [00:17<00:00,  5.83it/s, v_num=3, train_loss=1.07e-5]"
     ]
    },
    {
     "name": "stderr",
     "output_type": "stream",
     "text": [
      "Epoch 450, global step 45100: 'train_loss' was not in top 1\n"
     ]
    },
    {
     "name": "stdout",
     "output_type": "stream",
     "text": [
      "Epoch 451: |                                              | 100/? [00:17<00:00,  5.82it/s, v_num=3, train_loss=1.06e-5]"
     ]
    },
    {
     "name": "stderr",
     "output_type": "stream",
     "text": [
      "Epoch 451, global step 45200: 'train_loss' was not in top 1\n"
     ]
    },
    {
     "name": "stdout",
     "output_type": "stream",
     "text": [
      "Epoch 452: |                                              | 100/? [00:17<00:00,  5.84it/s, v_num=3, train_loss=1.04e-5]"
     ]
    },
    {
     "name": "stderr",
     "output_type": "stream",
     "text": [
      "Epoch 452, global step 45300: 'train_loss' reached 0.00001 (best 0.00001), saving model to 'C:\\\\Users\\\\falty\\\\Desktop\\\\GZS\\\\trading\\\\swing\\\\multi\\\\dobby\\\\lightning_logs\\\\version_3\\\\checkpoints\\\\epoch=452-step=45300.ckpt' as top 1\n"
     ]
    },
    {
     "name": "stdout",
     "output_type": "stream",
     "text": [
      "Epoch 453: |                                              | 100/? [00:17<00:00,  5.77it/s, v_num=3, train_loss=1.04e-5]"
     ]
    },
    {
     "name": "stderr",
     "output_type": "stream",
     "text": [
      "Epoch 453, global step 45400: 'train_loss' was not in top 1\n"
     ]
    },
    {
     "name": "stdout",
     "output_type": "stream",
     "text": [
      "Epoch 454: |                                              | 100/? [00:17<00:00,  5.78it/s, v_num=3, train_loss=1.04e-5]"
     ]
    },
    {
     "name": "stderr",
     "output_type": "stream",
     "text": [
      "Epoch 454, global step 45500: 'train_loss' was not in top 1\n"
     ]
    },
    {
     "name": "stdout",
     "output_type": "stream",
     "text": [
      "Epoch 455: |                                              | 100/? [00:17<00:00,  5.87it/s, v_num=3, train_loss=1.04e-5]"
     ]
    },
    {
     "name": "stderr",
     "output_type": "stream",
     "text": [
      "Epoch 455, global step 45600: 'train_loss' was not in top 1\n"
     ]
    },
    {
     "name": "stdout",
     "output_type": "stream",
     "text": [
      "Epoch 456: |                                              | 100/? [00:17<00:00,  5.85it/s, v_num=3, train_loss=1.04e-5]"
     ]
    },
    {
     "name": "stderr",
     "output_type": "stream",
     "text": [
      "Epoch 456, global step 45700: 'train_loss' was not in top 1\n"
     ]
    },
    {
     "name": "stdout",
     "output_type": "stream",
     "text": [
      "Epoch 457: |                                              | 100/? [00:17<00:00,  5.83it/s, v_num=3, train_loss=1.05e-5]"
     ]
    },
    {
     "name": "stderr",
     "output_type": "stream",
     "text": [
      "Epoch 457, global step 45800: 'train_loss' was not in top 1\n"
     ]
    },
    {
     "name": "stdout",
     "output_type": "stream",
     "text": [
      "Epoch 458: |                                              | 100/? [00:17<00:00,  5.82it/s, v_num=3, train_loss=1.04e-5]"
     ]
    },
    {
     "name": "stderr",
     "output_type": "stream",
     "text": [
      "Epoch 458, global step 45900: 'train_loss' was not in top 1\n"
     ]
    },
    {
     "name": "stdout",
     "output_type": "stream",
     "text": [
      "Epoch 459: |                                              | 100/? [00:17<00:00,  5.86it/s, v_num=3, train_loss=1.05e-5]"
     ]
    },
    {
     "name": "stderr",
     "output_type": "stream",
     "text": [
      "Epoch 459, global step 46000: 'train_loss' was not in top 1\n"
     ]
    },
    {
     "name": "stdout",
     "output_type": "stream",
     "text": [
      "Epoch 460: |                                              | 100/? [00:17<00:00,  5.81it/s, v_num=3, train_loss=1.05e-5]"
     ]
    },
    {
     "name": "stderr",
     "output_type": "stream",
     "text": [
      "Epoch 460, global step 46100: 'train_loss' was not in top 1\n"
     ]
    },
    {
     "name": "stdout",
     "output_type": "stream",
     "text": [
      "Epoch 461: |                                              | 100/? [00:17<00:00,  5.84it/s, v_num=3, train_loss=1.04e-5]"
     ]
    },
    {
     "name": "stderr",
     "output_type": "stream",
     "text": [
      "Epoch 461, global step 46200: 'train_loss' was not in top 1\n"
     ]
    },
    {
     "name": "stdout",
     "output_type": "stream",
     "text": [
      "Epoch 462: |                                              | 100/? [00:17<00:00,  5.82it/s, v_num=3, train_loss=1.04e-5]"
     ]
    },
    {
     "name": "stderr",
     "output_type": "stream",
     "text": [
      "Epoch 462, global step 46300: 'train_loss' was not in top 1\n"
     ]
    },
    {
     "name": "stdout",
     "output_type": "stream",
     "text": [
      "Epoch 463: |                                              | 100/? [00:17<00:00,  5.82it/s, v_num=3, train_loss=1.04e-5]"
     ]
    },
    {
     "name": "stderr",
     "output_type": "stream",
     "text": [
      "Epoch 463, global step 46400: 'train_loss' was not in top 1\n"
     ]
    },
    {
     "name": "stdout",
     "output_type": "stream",
     "text": [
      "Epoch 464: |                                              | 100/? [00:17<00:00,  5.84it/s, v_num=3, train_loss=1.04e-5]"
     ]
    },
    {
     "name": "stderr",
     "output_type": "stream",
     "text": [
      "Epoch 464, global step 46500: 'train_loss' was not in top 1\n"
     ]
    },
    {
     "name": "stdout",
     "output_type": "stream",
     "text": [
      "Epoch 465: |                                              | 100/? [00:17<00:00,  5.76it/s, v_num=3, train_loss=1.04e-5]"
     ]
    },
    {
     "name": "stderr",
     "output_type": "stream",
     "text": [
      "Epoch 465, global step 46600: 'train_loss' was not in top 1\n"
     ]
    },
    {
     "name": "stdout",
     "output_type": "stream",
     "text": [
      "Epoch 466: |                                              | 100/? [00:17<00:00,  5.84it/s, v_num=3, train_loss=1.03e-5]"
     ]
    },
    {
     "name": "stderr",
     "output_type": "stream",
     "text": [
      "Epoch 466, global step 46700: 'train_loss' reached 0.00001 (best 0.00001), saving model to 'C:\\\\Users\\\\falty\\\\Desktop\\\\GZS\\\\trading\\\\swing\\\\multi\\\\dobby\\\\lightning_logs\\\\version_3\\\\checkpoints\\\\epoch=466-step=46700.ckpt' as top 1\n"
     ]
    },
    {
     "name": "stdout",
     "output_type": "stream",
     "text": [
      "Epoch 467: |                                              | 100/? [00:17<00:00,  5.77it/s, v_num=3, train_loss=1.05e-5]"
     ]
    },
    {
     "name": "stderr",
     "output_type": "stream",
     "text": [
      "Epoch 467, global step 46800: 'train_loss' was not in top 1\n"
     ]
    },
    {
     "name": "stdout",
     "output_type": "stream",
     "text": [
      "Epoch 468: |                                              | 100/? [00:17<00:00,  5.85it/s, v_num=3, train_loss=1.04e-5]"
     ]
    },
    {
     "name": "stderr",
     "output_type": "stream",
     "text": [
      "Epoch 468, global step 46900: 'train_loss' was not in top 1\n"
     ]
    },
    {
     "name": "stdout",
     "output_type": "stream",
     "text": [
      "Epoch 469: |                                              | 100/? [00:17<00:00,  5.84it/s, v_num=3, train_loss=1.04e-5]"
     ]
    },
    {
     "name": "stderr",
     "output_type": "stream",
     "text": [
      "Epoch 469, global step 47000: 'train_loss' was not in top 1\n"
     ]
    },
    {
     "name": "stdout",
     "output_type": "stream",
     "text": [
      "Epoch 470: |                                              | 100/? [00:17<00:00,  5.83it/s, v_num=3, train_loss=1.04e-5]"
     ]
    },
    {
     "name": "stderr",
     "output_type": "stream",
     "text": [
      "Epoch 470, global step 47100: 'train_loss' was not in top 1\n"
     ]
    },
    {
     "name": "stdout",
     "output_type": "stream",
     "text": [
      "Epoch 471: |                                              | 100/? [00:17<00:00,  5.84it/s, v_num=3, train_loss=1.04e-5]"
     ]
    },
    {
     "name": "stderr",
     "output_type": "stream",
     "text": [
      "Epoch 471, global step 47200: 'train_loss' was not in top 1\n"
     ]
    },
    {
     "name": "stdout",
     "output_type": "stream",
     "text": [
      "Epoch 472: |                                              | 100/? [00:17<00:00,  5.82it/s, v_num=3, train_loss=1.03e-5]"
     ]
    },
    {
     "name": "stderr",
     "output_type": "stream",
     "text": [
      "Epoch 472, global step 47300: 'train_loss' reached 0.00001 (best 0.00001), saving model to 'C:\\\\Users\\\\falty\\\\Desktop\\\\GZS\\\\trading\\\\swing\\\\multi\\\\dobby\\\\lightning_logs\\\\version_3\\\\checkpoints\\\\epoch=472-step=47300.ckpt' as top 1\n"
     ]
    },
    {
     "name": "stdout",
     "output_type": "stream",
     "text": [
      "Epoch 473: |                                              | 100/? [00:17<00:00,  5.74it/s, v_num=3, train_loss=1.04e-5]"
     ]
    },
    {
     "name": "stderr",
     "output_type": "stream",
     "text": [
      "Epoch 473, global step 47400: 'train_loss' was not in top 1\n"
     ]
    },
    {
     "name": "stdout",
     "output_type": "stream",
     "text": [
      "Epoch 474: |                                              | 100/? [00:17<00:00,  5.84it/s, v_num=3, train_loss=1.03e-5]"
     ]
    },
    {
     "name": "stderr",
     "output_type": "stream",
     "text": [
      "Epoch 474, global step 47500: 'train_loss' was not in top 1\n"
     ]
    },
    {
     "name": "stdout",
     "output_type": "stream",
     "text": [
      "Epoch 475: |                                              | 100/? [00:17<00:00,  5.86it/s, v_num=3, train_loss=1.04e-5]"
     ]
    },
    {
     "name": "stderr",
     "output_type": "stream",
     "text": [
      "Epoch 475, global step 47600: 'train_loss' was not in top 1\n"
     ]
    },
    {
     "name": "stdout",
     "output_type": "stream",
     "text": [
      "Epoch 476: |                                              | 100/? [00:17<00:00,  5.87it/s, v_num=3, train_loss=1.03e-5]"
     ]
    },
    {
     "name": "stderr",
     "output_type": "stream",
     "text": [
      "Epoch 476, global step 47700: 'train_loss' reached 0.00001 (best 0.00001), saving model to 'C:\\\\Users\\\\falty\\\\Desktop\\\\GZS\\\\trading\\\\swing\\\\multi\\\\dobby\\\\lightning_logs\\\\version_3\\\\checkpoints\\\\epoch=476-step=47700.ckpt' as top 1\n"
     ]
    },
    {
     "name": "stdout",
     "output_type": "stream",
     "text": [
      "Epoch 477: |                                              | 100/? [00:17<00:00,  5.78it/s, v_num=3, train_loss=1.04e-5]"
     ]
    },
    {
     "name": "stderr",
     "output_type": "stream",
     "text": [
      "Epoch 477, global step 47800: 'train_loss' was not in top 1\n"
     ]
    },
    {
     "name": "stdout",
     "output_type": "stream",
     "text": [
      "Epoch 478: |                                              | 100/? [00:17<00:00,  5.88it/s, v_num=3, train_loss=1.04e-5]"
     ]
    },
    {
     "name": "stderr",
     "output_type": "stream",
     "text": [
      "Epoch 478, global step 47900: 'train_loss' was not in top 1\n"
     ]
    },
    {
     "name": "stdout",
     "output_type": "stream",
     "text": [
      "Epoch 479: |                                              | 100/? [00:17<00:00,  5.86it/s, v_num=3, train_loss=1.04e-5]"
     ]
    },
    {
     "name": "stderr",
     "output_type": "stream",
     "text": [
      "Epoch 479, global step 48000: 'train_loss' was not in top 1\n"
     ]
    },
    {
     "name": "stdout",
     "output_type": "stream",
     "text": [
      "Epoch 480: |                                              | 100/? [00:17<00:00,  5.87it/s, v_num=3, train_loss=1.04e-5]"
     ]
    },
    {
     "name": "stderr",
     "output_type": "stream",
     "text": [
      "Epoch 480, global step 48100: 'train_loss' was not in top 1\n"
     ]
    },
    {
     "name": "stdout",
     "output_type": "stream",
     "text": [
      "Epoch 481: |                                              | 100/? [00:17<00:00,  5.86it/s, v_num=3, train_loss=1.05e-5]"
     ]
    },
    {
     "name": "stderr",
     "output_type": "stream",
     "text": [
      "Epoch 481, global step 48200: 'train_loss' was not in top 1\n"
     ]
    },
    {
     "name": "stdout",
     "output_type": "stream",
     "text": [
      "Epoch 482: |                                              | 100/? [00:17<00:00,  5.82it/s, v_num=3, train_loss=1.04e-5]"
     ]
    },
    {
     "name": "stderr",
     "output_type": "stream",
     "text": [
      "Epoch 482, global step 48300: 'train_loss' was not in top 1\n"
     ]
    },
    {
     "name": "stdout",
     "output_type": "stream",
     "text": [
      "Epoch 483: |                                              | 100/? [00:17<00:00,  5.86it/s, v_num=3, train_loss=1.04e-5]"
     ]
    },
    {
     "name": "stderr",
     "output_type": "stream",
     "text": [
      "Epoch 483, global step 48400: 'train_loss' was not in top 1\n"
     ]
    },
    {
     "name": "stdout",
     "output_type": "stream",
     "text": [
      "Epoch 484: |                                              | 100/? [00:17<00:00,  5.86it/s, v_num=3, train_loss=1.05e-5]"
     ]
    },
    {
     "name": "stderr",
     "output_type": "stream",
     "text": [
      "Epoch 484, global step 48500: 'train_loss' was not in top 1\n"
     ]
    },
    {
     "name": "stdout",
     "output_type": "stream",
     "text": [
      "Epoch 485: |                                              | 100/? [00:17<00:00,  5.82it/s, v_num=3, train_loss=1.04e-5]"
     ]
    },
    {
     "name": "stderr",
     "output_type": "stream",
     "text": [
      "Epoch 485, global step 48600: 'train_loss' was not in top 1\n"
     ]
    },
    {
     "name": "stdout",
     "output_type": "stream",
     "text": [
      "Epoch 486: |                                              | 100/? [00:17<00:00,  5.86it/s, v_num=3, train_loss=1.04e-5]"
     ]
    },
    {
     "name": "stderr",
     "output_type": "stream",
     "text": [
      "Epoch 486, global step 48700: 'train_loss' was not in top 1\n"
     ]
    },
    {
     "name": "stdout",
     "output_type": "stream",
     "text": [
      "Epoch 487: |                                              | 100/? [00:17<00:00,  5.86it/s, v_num=3, train_loss=1.04e-5]"
     ]
    },
    {
     "name": "stderr",
     "output_type": "stream",
     "text": [
      "Epoch 487, global step 48800: 'train_loss' was not in top 1\n"
     ]
    },
    {
     "name": "stdout",
     "output_type": "stream",
     "text": [
      "Epoch 488: |                                              | 100/? [00:17<00:00,  5.83it/s, v_num=3, train_loss=1.03e-5]"
     ]
    },
    {
     "name": "stderr",
     "output_type": "stream",
     "text": [
      "Epoch 488, global step 48900: 'train_loss' was not in top 1\n"
     ]
    },
    {
     "name": "stdout",
     "output_type": "stream",
     "text": [
      "Epoch 489: |                                              | 100/? [00:17<00:00,  5.87it/s, v_num=3, train_loss=1.04e-5]"
     ]
    },
    {
     "name": "stderr",
     "output_type": "stream",
     "text": [
      "Epoch 489, global step 49000: 'train_loss' was not in top 1\n"
     ]
    },
    {
     "name": "stdout",
     "output_type": "stream",
     "text": [
      "Epoch 490: |                                              | 100/? [00:17<00:00,  5.88it/s, v_num=3, train_loss=1.03e-5]"
     ]
    },
    {
     "name": "stderr",
     "output_type": "stream",
     "text": [
      "Epoch 490, global step 49100: 'train_loss' reached 0.00001 (best 0.00001), saving model to 'C:\\\\Users\\\\falty\\\\Desktop\\\\GZS\\\\trading\\\\swing\\\\multi\\\\dobby\\\\lightning_logs\\\\version_3\\\\checkpoints\\\\epoch=490-step=49100.ckpt' as top 1\n"
     ]
    },
    {
     "name": "stdout",
     "output_type": "stream",
     "text": [
      "Epoch 491: |                                              | 100/? [00:17<00:00,  5.81it/s, v_num=3, train_loss=1.04e-5]"
     ]
    },
    {
     "name": "stderr",
     "output_type": "stream",
     "text": [
      "Epoch 491, global step 49200: 'train_loss' was not in top 1\n"
     ]
    },
    {
     "name": "stdout",
     "output_type": "stream",
     "text": [
      "Epoch 492: |                                              | 100/? [00:17<00:00,  5.87it/s, v_num=3, train_loss=1.04e-5]"
     ]
    },
    {
     "name": "stderr",
     "output_type": "stream",
     "text": [
      "Epoch 492, global step 49300: 'train_loss' was not in top 1\n"
     ]
    },
    {
     "name": "stdout",
     "output_type": "stream",
     "text": [
      "Epoch 493: |                                              | 100/? [00:17<00:00,  5.87it/s, v_num=3, train_loss=1.03e-5]"
     ]
    },
    {
     "name": "stderr",
     "output_type": "stream",
     "text": [
      "Epoch 493, global step 49400: 'train_loss' was not in top 1\n"
     ]
    },
    {
     "name": "stdout",
     "output_type": "stream",
     "text": [
      "Epoch 494: |                                              | 100/? [00:17<00:00,  5.84it/s, v_num=3, train_loss=1.04e-5]"
     ]
    },
    {
     "name": "stderr",
     "output_type": "stream",
     "text": [
      "Epoch 494, global step 49500: 'train_loss' was not in top 1\n"
     ]
    },
    {
     "name": "stdout",
     "output_type": "stream",
     "text": [
      "Epoch 495: |                                              | 100/? [00:17<00:00,  5.88it/s, v_num=3, train_loss=1.04e-5]"
     ]
    },
    {
     "name": "stderr",
     "output_type": "stream",
     "text": [
      "Epoch 495, global step 49600: 'train_loss' was not in top 1\n"
     ]
    },
    {
     "name": "stdout",
     "output_type": "stream",
     "text": [
      "Epoch 496: |                                              | 100/? [00:17<00:00,  5.85it/s, v_num=3, train_loss=1.03e-5]"
     ]
    },
    {
     "name": "stderr",
     "output_type": "stream",
     "text": [
      "Epoch 496, global step 49700: 'train_loss' was not in top 1\n"
     ]
    },
    {
     "name": "stdout",
     "output_type": "stream",
     "text": [
      "Epoch 497: |                                              | 100/? [00:17<00:00,  5.86it/s, v_num=3, train_loss=1.03e-5]"
     ]
    },
    {
     "name": "stderr",
     "output_type": "stream",
     "text": [
      "Epoch 497, global step 49800: 'train_loss' was not in top 1\n"
     ]
    },
    {
     "name": "stdout",
     "output_type": "stream",
     "text": [
      "Epoch 498: |                                              | 100/? [00:17<00:00,  5.86it/s, v_num=3, train_loss=1.04e-5]"
     ]
    },
    {
     "name": "stderr",
     "output_type": "stream",
     "text": [
      "Epoch 498, global step 49900: 'train_loss' was not in top 1\n"
     ]
    },
    {
     "name": "stdout",
     "output_type": "stream",
     "text": [
      "Epoch 499: |                                              | 100/? [00:17<00:00,  5.84it/s, v_num=3, train_loss=1.04e-5]"
     ]
    },
    {
     "name": "stderr",
     "output_type": "stream",
     "text": [
      "Epoch 499, global step 50000: 'train_loss' was not in top 1\n"
     ]
    },
    {
     "name": "stdout",
     "output_type": "stream",
     "text": [
      "Epoch 500: |                                              | 100/? [00:17<00:00,  5.86it/s, v_num=3, train_loss=1.04e-5]"
     ]
    },
    {
     "name": "stderr",
     "output_type": "stream",
     "text": [
      "Epoch 500, global step 50100: 'train_loss' was not in top 1\n"
     ]
    },
    {
     "name": "stdout",
     "output_type": "stream",
     "text": [
      "Epoch 501: |                                              | 100/? [00:17<00:00,  5.86it/s, v_num=3, train_loss=1.04e-5]"
     ]
    },
    {
     "name": "stderr",
     "output_type": "stream",
     "text": [
      "Epoch 501, global step 50200: 'train_loss' was not in top 1\n"
     ]
    },
    {
     "name": "stdout",
     "output_type": "stream",
     "text": [
      "Epoch 502: |                                              | 100/? [00:17<00:00,  5.83it/s, v_num=3, train_loss=1.04e-5]"
     ]
    },
    {
     "name": "stderr",
     "output_type": "stream",
     "text": [
      "Epoch 502, global step 50300: 'train_loss' was not in top 1\n"
     ]
    },
    {
     "name": "stdout",
     "output_type": "stream",
     "text": [
      "Epoch 503: |                                              | 100/? [00:17<00:00,  5.81it/s, v_num=3, train_loss=1.04e-5]"
     ]
    },
    {
     "name": "stderr",
     "output_type": "stream",
     "text": [
      "Epoch 503, global step 50400: 'train_loss' was not in top 1\n"
     ]
    },
    {
     "name": "stdout",
     "output_type": "stream",
     "text": [
      "Epoch 504: |                                              | 100/? [00:17<00:00,  5.86it/s, v_num=3, train_loss=1.03e-5]"
     ]
    },
    {
     "name": "stderr",
     "output_type": "stream",
     "text": [
      "Epoch 504, global step 50500: 'train_loss' was not in top 1\n"
     ]
    },
    {
     "name": "stdout",
     "output_type": "stream",
     "text": [
      "Epoch 505: |                                              | 100/? [00:17<00:00,  5.84it/s, v_num=3, train_loss=1.04e-5]"
     ]
    },
    {
     "name": "stderr",
     "output_type": "stream",
     "text": [
      "Epoch 505, global step 50600: 'train_loss' was not in top 1\n"
     ]
    },
    {
     "name": "stdout",
     "output_type": "stream",
     "text": [
      "Epoch 506: |                                              | 100/? [00:17<00:00,  5.80it/s, v_num=3, train_loss=1.04e-5]"
     ]
    },
    {
     "name": "stderr",
     "output_type": "stream",
     "text": [
      "Epoch 506, global step 50700: 'train_loss' was not in top 1\n"
     ]
    },
    {
     "name": "stdout",
     "output_type": "stream",
     "text": [
      "Epoch 507: |                                              | 100/? [00:17<00:00,  5.85it/s, v_num=3, train_loss=1.03e-5]"
     ]
    },
    {
     "name": "stderr",
     "output_type": "stream",
     "text": [
      "Epoch 507, global step 50800: 'train_loss' was not in top 1\n"
     ]
    },
    {
     "name": "stdout",
     "output_type": "stream",
     "text": [
      "Epoch 508: |                                              | 100/? [00:17<00:00,  5.86it/s, v_num=3, train_loss=1.03e-5]"
     ]
    },
    {
     "name": "stderr",
     "output_type": "stream",
     "text": [
      "Epoch 508, global step 50900: 'train_loss' was not in top 1\n"
     ]
    },
    {
     "name": "stdout",
     "output_type": "stream",
     "text": [
      "Epoch 509: |                                              | 100/? [00:17<00:00,  5.87it/s, v_num=3, train_loss=1.03e-5]"
     ]
    },
    {
     "name": "stderr",
     "output_type": "stream",
     "text": [
      "Epoch 509, global step 51000: 'train_loss' was not in top 1\n"
     ]
    },
    {
     "name": "stdout",
     "output_type": "stream",
     "text": [
      "Epoch 510: |                                              | 100/? [00:17<00:00,  5.87it/s, v_num=3, train_loss=1.03e-5]"
     ]
    },
    {
     "name": "stderr",
     "output_type": "stream",
     "text": [
      "Epoch 510, global step 51100: 'train_loss' was not in top 1\n"
     ]
    },
    {
     "name": "stdout",
     "output_type": "stream",
     "text": [
      "Epoch 511: |                                              | 100/? [00:17<00:00,  5.84it/s, v_num=3, train_loss=1.04e-5]"
     ]
    },
    {
     "name": "stderr",
     "output_type": "stream",
     "text": [
      "Epoch 511, global step 51200: 'train_loss' was not in top 1\n"
     ]
    },
    {
     "name": "stdout",
     "output_type": "stream",
     "text": [
      "Epoch 512: |                                              | 100/? [00:17<00:00,  5.83it/s, v_num=3, train_loss=1.03e-5]"
     ]
    },
    {
     "name": "stderr",
     "output_type": "stream",
     "text": [
      "Epoch 512, global step 51300: 'train_loss' was not in top 1\n"
     ]
    },
    {
     "name": "stdout",
     "output_type": "stream",
     "text": [
      "Epoch 513: |                                              | 100/? [00:17<00:00,  5.86it/s, v_num=3, train_loss=1.03e-5]"
     ]
    },
    {
     "name": "stderr",
     "output_type": "stream",
     "text": [
      "Epoch 513, global step 51400: 'train_loss' was not in top 1\n"
     ]
    },
    {
     "name": "stdout",
     "output_type": "stream",
     "text": [
      "Epoch 514: |                                              | 100/? [00:17<00:00,  5.84it/s, v_num=3, train_loss=1.04e-5]"
     ]
    },
    {
     "name": "stderr",
     "output_type": "stream",
     "text": [
      "Epoch 514, global step 51500: 'train_loss' was not in top 1\n"
     ]
    },
    {
     "name": "stdout",
     "output_type": "stream",
     "text": [
      "Epoch 515: |                                              | 100/? [00:17<00:00,  5.85it/s, v_num=3, train_loss=1.04e-5]"
     ]
    },
    {
     "name": "stderr",
     "output_type": "stream",
     "text": [
      "Epoch 515, global step 51600: 'train_loss' was not in top 1\n"
     ]
    },
    {
     "name": "stdout",
     "output_type": "stream",
     "text": [
      "Epoch 516: |                                              | 100/? [00:17<00:00,  5.86it/s, v_num=3, train_loss=1.03e-5]"
     ]
    },
    {
     "name": "stderr",
     "output_type": "stream",
     "text": [
      "Epoch 516, global step 51700: 'train_loss' was not in top 1\n"
     ]
    },
    {
     "name": "stdout",
     "output_type": "stream",
     "text": [
      "Epoch 517: |                                              | 100/? [00:17<00:00,  5.81it/s, v_num=3, train_loss=1.03e-5]"
     ]
    },
    {
     "name": "stderr",
     "output_type": "stream",
     "text": [
      "Epoch 517, global step 51800: 'train_loss' was not in top 1\n"
     ]
    },
    {
     "name": "stdout",
     "output_type": "stream",
     "text": [
      "Epoch 518: |                                              | 100/? [00:17<00:00,  5.83it/s, v_num=3, train_loss=1.03e-5]"
     ]
    },
    {
     "name": "stderr",
     "output_type": "stream",
     "text": [
      "Epoch 518, global step 51900: 'train_loss' was not in top 1\n"
     ]
    },
    {
     "name": "stdout",
     "output_type": "stream",
     "text": [
      "Epoch 519: |                                              | 100/? [00:17<00:00,  5.85it/s, v_num=3, train_loss=1.04e-5]"
     ]
    },
    {
     "name": "stderr",
     "output_type": "stream",
     "text": [
      "Epoch 519, global step 52000: 'train_loss' was not in top 1\n"
     ]
    },
    {
     "name": "stdout",
     "output_type": "stream",
     "text": [
      "Epoch 520: |                                              | 100/? [00:17<00:00,  5.83it/s, v_num=3, train_loss=1.03e-5]"
     ]
    },
    {
     "name": "stderr",
     "output_type": "stream",
     "text": [
      "Epoch 520, global step 52100: 'train_loss' was not in top 1\n"
     ]
    },
    {
     "name": "stdout",
     "output_type": "stream",
     "text": [
      "Epoch 521: |                                              | 100/? [00:17<00:00,  5.86it/s, v_num=3, train_loss=1.04e-5]"
     ]
    },
    {
     "name": "stderr",
     "output_type": "stream",
     "text": [
      "Epoch 521, global step 52200: 'train_loss' was not in top 1\n"
     ]
    },
    {
     "name": "stdout",
     "output_type": "stream",
     "text": [
      "Epoch 522: |                                              | 100/? [00:17<00:00,  5.86it/s, v_num=3, train_loss=1.03e-5]"
     ]
    },
    {
     "name": "stderr",
     "output_type": "stream",
     "text": [
      "Epoch 522, global step 52300: 'train_loss' reached 0.00001 (best 0.00001), saving model to 'C:\\\\Users\\\\falty\\\\Desktop\\\\GZS\\\\trading\\\\swing\\\\multi\\\\dobby\\\\lightning_logs\\\\version_3\\\\checkpoints\\\\epoch=522-step=52300.ckpt' as top 1\n"
     ]
    },
    {
     "name": "stdout",
     "output_type": "stream",
     "text": [
      "Epoch 523: |                                              | 100/? [00:17<00:00,  5.78it/s, v_num=3, train_loss=1.04e-5]"
     ]
    },
    {
     "name": "stderr",
     "output_type": "stream",
     "text": [
      "Epoch 523, global step 52400: 'train_loss' was not in top 1\n"
     ]
    },
    {
     "name": "stdout",
     "output_type": "stream",
     "text": [
      "Epoch 524: |                                              | 100/? [00:17<00:00,  5.84it/s, v_num=3, train_loss=1.03e-5]"
     ]
    },
    {
     "name": "stderr",
     "output_type": "stream",
     "text": [
      "Epoch 524, global step 52500: 'train_loss' was not in top 1\n"
     ]
    },
    {
     "name": "stdout",
     "output_type": "stream",
     "text": [
      "Epoch 525: |                                              | 100/? [00:17<00:00,  5.86it/s, v_num=3, train_loss=1.03e-5]"
     ]
    },
    {
     "name": "stderr",
     "output_type": "stream",
     "text": [
      "Epoch 525, global step 52600: 'train_loss' reached 0.00001 (best 0.00001), saving model to 'C:\\\\Users\\\\falty\\\\Desktop\\\\GZS\\\\trading\\\\swing\\\\multi\\\\dobby\\\\lightning_logs\\\\version_3\\\\checkpoints\\\\epoch=525-step=52600.ckpt' as top 1\n"
     ]
    },
    {
     "name": "stdout",
     "output_type": "stream",
     "text": [
      "Epoch 526: |                                              | 100/? [00:17<00:00,  5.75it/s, v_num=3, train_loss=1.03e-5]"
     ]
    },
    {
     "name": "stderr",
     "output_type": "stream",
     "text": [
      "Epoch 526, global step 52700: 'train_loss' was not in top 1\n"
     ]
    },
    {
     "name": "stdout",
     "output_type": "stream",
     "text": [
      "Epoch 527: |                                              | 100/? [00:17<00:00,  5.83it/s, v_num=3, train_loss=1.03e-5]"
     ]
    },
    {
     "name": "stderr",
     "output_type": "stream",
     "text": [
      "Epoch 527, global step 52800: 'train_loss' was not in top 1\n"
     ]
    },
    {
     "name": "stdout",
     "output_type": "stream",
     "text": [
      "Epoch 528: |                                              | 100/? [00:17<00:00,  5.86it/s, v_num=3, train_loss=1.03e-5]"
     ]
    },
    {
     "name": "stderr",
     "output_type": "stream",
     "text": [
      "Epoch 528, global step 52900: 'train_loss' was not in top 1\n"
     ]
    },
    {
     "name": "stdout",
     "output_type": "stream",
     "text": [
      "Epoch 529: |                                              | 100/? [00:17<00:00,  5.79it/s, v_num=3, train_loss=1.02e-5]"
     ]
    },
    {
     "name": "stderr",
     "output_type": "stream",
     "text": [
      "Epoch 529, global step 53000: 'train_loss' reached 0.00001 (best 0.00001), saving model to 'C:\\\\Users\\\\falty\\\\Desktop\\\\GZS\\\\trading\\\\swing\\\\multi\\\\dobby\\\\lightning_logs\\\\version_3\\\\checkpoints\\\\epoch=529-step=53000.ckpt' as top 1\n"
     ]
    },
    {
     "name": "stdout",
     "output_type": "stream",
     "text": [
      "Epoch 530: |                                              | 100/? [00:17<00:00,  5.77it/s, v_num=3, train_loss=1.04e-5]"
     ]
    },
    {
     "name": "stderr",
     "output_type": "stream",
     "text": [
      "Epoch 530, global step 53100: 'train_loss' was not in top 1\n"
     ]
    },
    {
     "name": "stdout",
     "output_type": "stream",
     "text": [
      "Epoch 531: |                                              | 100/? [00:17<00:00,  5.87it/s, v_num=3, train_loss=1.04e-5]"
     ]
    },
    {
     "name": "stderr",
     "output_type": "stream",
     "text": [
      "Epoch 531, global step 53200: 'train_loss' was not in top 1\n"
     ]
    },
    {
     "name": "stdout",
     "output_type": "stream",
     "text": [
      "Epoch 532: |                                              | 100/? [00:17<00:00,  5.84it/s, v_num=3, train_loss=1.03e-5]"
     ]
    },
    {
     "name": "stderr",
     "output_type": "stream",
     "text": [
      "Epoch 532, global step 53300: 'train_loss' was not in top 1\n"
     ]
    },
    {
     "name": "stdout",
     "output_type": "stream",
     "text": [
      "Epoch 533: |                                              | 100/? [00:17<00:00,  5.86it/s, v_num=3, train_loss=1.03e-5]"
     ]
    },
    {
     "name": "stderr",
     "output_type": "stream",
     "text": [
      "Epoch 533, global step 53400: 'train_loss' was not in top 1\n"
     ]
    },
    {
     "name": "stdout",
     "output_type": "stream",
     "text": [
      "Epoch 534: |                                              | 100/? [00:17<00:00,  5.82it/s, v_num=3, train_loss=1.04e-5]"
     ]
    },
    {
     "name": "stderr",
     "output_type": "stream",
     "text": [
      "Epoch 534, global step 53500: 'train_loss' was not in top 1\n"
     ]
    },
    {
     "name": "stdout",
     "output_type": "stream",
     "text": [
      "Epoch 535: |                                              | 100/? [00:17<00:00,  5.87it/s, v_num=3, train_loss=1.03e-5]"
     ]
    },
    {
     "name": "stderr",
     "output_type": "stream",
     "text": [
      "Epoch 535, global step 53600: 'train_loss' was not in top 1\n"
     ]
    },
    {
     "name": "stdout",
     "output_type": "stream",
     "text": [
      "Epoch 536: |                                              | 100/? [00:17<00:00,  5.86it/s, v_num=3, train_loss=1.04e-5]"
     ]
    },
    {
     "name": "stderr",
     "output_type": "stream",
     "text": [
      "Epoch 536, global step 53700: 'train_loss' was not in top 1\n"
     ]
    },
    {
     "name": "stdout",
     "output_type": "stream",
     "text": [
      "Epoch 537: |                                              | 100/? [00:17<00:00,  5.81it/s, v_num=3, train_loss=1.03e-5]"
     ]
    },
    {
     "name": "stderr",
     "output_type": "stream",
     "text": [
      "Epoch 537, global step 53800: 'train_loss' was not in top 1\n"
     ]
    },
    {
     "name": "stdout",
     "output_type": "stream",
     "text": [
      "Epoch 538: |                                              | 100/? [00:17<00:00,  5.85it/s, v_num=3, train_loss=1.04e-5]"
     ]
    },
    {
     "name": "stderr",
     "output_type": "stream",
     "text": [
      "Epoch 538, global step 53900: 'train_loss' was not in top 1\n"
     ]
    },
    {
     "name": "stdout",
     "output_type": "stream",
     "text": [
      "Epoch 539: |                                              | 100/? [00:17<00:00,  5.84it/s, v_num=3, train_loss=1.04e-5]"
     ]
    },
    {
     "name": "stderr",
     "output_type": "stream",
     "text": [
      "Epoch 539, global step 54000: 'train_loss' was not in top 1\n"
     ]
    },
    {
     "name": "stdout",
     "output_type": "stream",
     "text": [
      "Epoch 540: |                                              | 100/? [00:17<00:00,  5.83it/s, v_num=3, train_loss=1.03e-5]"
     ]
    },
    {
     "name": "stderr",
     "output_type": "stream",
     "text": [
      "Epoch 540, global step 54100: 'train_loss' was not in top 1\n"
     ]
    },
    {
     "name": "stdout",
     "output_type": "stream",
     "text": [
      "Epoch 541: |                                              | 100/? [00:17<00:00,  5.80it/s, v_num=3, train_loss=1.04e-5]"
     ]
    },
    {
     "name": "stderr",
     "output_type": "stream",
     "text": [
      "Epoch 541, global step 54200: 'train_loss' was not in top 1\n"
     ]
    },
    {
     "name": "stdout",
     "output_type": "stream",
     "text": [
      "Epoch 542: |                                              | 100/? [00:17<00:00,  5.84it/s, v_num=3, train_loss=1.03e-5]"
     ]
    },
    {
     "name": "stderr",
     "output_type": "stream",
     "text": [
      "Epoch 542, global step 54300: 'train_loss' was not in top 1\n"
     ]
    },
    {
     "name": "stdout",
     "output_type": "stream",
     "text": [
      "Epoch 543: |                                              | 100/? [00:17<00:00,  5.85it/s, v_num=3, train_loss=1.04e-5]"
     ]
    },
    {
     "name": "stderr",
     "output_type": "stream",
     "text": [
      "Epoch 543, global step 54400: 'train_loss' was not in top 1\n"
     ]
    },
    {
     "name": "stdout",
     "output_type": "stream",
     "text": [
      "Epoch 544: |                                              | 100/? [00:17<00:00,  5.85it/s, v_num=3, train_loss=1.04e-5]"
     ]
    },
    {
     "name": "stderr",
     "output_type": "stream",
     "text": [
      "Epoch 544, global step 54500: 'train_loss' was not in top 1\n"
     ]
    },
    {
     "name": "stdout",
     "output_type": "stream",
     "text": [
      "Epoch 545: |                                              | 100/? [00:17<00:00,  5.85it/s, v_num=3, train_loss=1.04e-5]"
     ]
    },
    {
     "name": "stderr",
     "output_type": "stream",
     "text": [
      "Epoch 545, global step 54600: 'train_loss' was not in top 1\n"
     ]
    },
    {
     "name": "stdout",
     "output_type": "stream",
     "text": [
      "Epoch 546: |                                              | 100/? [00:17<00:00,  5.82it/s, v_num=3, train_loss=1.03e-5]"
     ]
    },
    {
     "name": "stderr",
     "output_type": "stream",
     "text": [
      "Epoch 546, global step 54700: 'train_loss' was not in top 1\n"
     ]
    },
    {
     "name": "stdout",
     "output_type": "stream",
     "text": [
      "Epoch 547: |                                              | 100/? [00:17<00:00,  5.84it/s, v_num=3, train_loss=1.04e-5]"
     ]
    },
    {
     "name": "stderr",
     "output_type": "stream",
     "text": [
      "Epoch 547, global step 54800: 'train_loss' was not in top 1\n"
     ]
    },
    {
     "name": "stdout",
     "output_type": "stream",
     "text": [
      "Epoch 548: |                                              | 100/? [00:17<00:00,  5.82it/s, v_num=3, train_loss=1.04e-5]"
     ]
    },
    {
     "name": "stderr",
     "output_type": "stream",
     "text": [
      "Epoch 548, global step 54900: 'train_loss' was not in top 1\n"
     ]
    },
    {
     "name": "stdout",
     "output_type": "stream",
     "text": [
      "Epoch 549: |                                              | 100/? [00:17<00:00,  5.86it/s, v_num=3, train_loss=1.04e-5]"
     ]
    },
    {
     "name": "stderr",
     "output_type": "stream",
     "text": [
      "Epoch 549, global step 55000: 'train_loss' was not in top 1\n"
     ]
    },
    {
     "name": "stdout",
     "output_type": "stream",
     "text": [
      "Epoch 550: |                                              | 100/? [00:17<00:00,  5.87it/s, v_num=3, train_loss=1.03e-5]"
     ]
    },
    {
     "name": "stderr",
     "output_type": "stream",
     "text": [
      "Epoch 550, global step 55100: 'train_loss' was not in top 1\n"
     ]
    },
    {
     "name": "stdout",
     "output_type": "stream",
     "text": [
      "Epoch 551: |                                              | 100/? [00:17<00:00,  5.87it/s, v_num=3, train_loss=1.03e-5]"
     ]
    },
    {
     "name": "stderr",
     "output_type": "stream",
     "text": [
      "Epoch 551, global step 55200: 'train_loss' was not in top 1\n"
     ]
    },
    {
     "name": "stdout",
     "output_type": "stream",
     "text": [
      "Epoch 552: |                                              | 100/? [00:17<00:00,  5.86it/s, v_num=3, train_loss=1.03e-5]"
     ]
    },
    {
     "name": "stderr",
     "output_type": "stream",
     "text": [
      "Epoch 552, global step 55300: 'train_loss' was not in top 1\n"
     ]
    },
    {
     "name": "stdout",
     "output_type": "stream",
     "text": [
      "Epoch 553: |                                              | 100/? [00:17<00:00,  5.85it/s, v_num=3, train_loss=1.03e-5]"
     ]
    },
    {
     "name": "stderr",
     "output_type": "stream",
     "text": [
      "Epoch 553, global step 55400: 'train_loss' was not in top 1\n"
     ]
    },
    {
     "name": "stdout",
     "output_type": "stream",
     "text": [
      "Epoch 554: |                                              | 100/? [00:17<00:00,  5.86it/s, v_num=3, train_loss=1.03e-5]"
     ]
    },
    {
     "name": "stderr",
     "output_type": "stream",
     "text": [
      "Epoch 554, global step 55500: 'train_loss' was not in top 1\n"
     ]
    },
    {
     "name": "stdout",
     "output_type": "stream",
     "text": [
      "Epoch 555: |                                              | 100/? [00:17<00:00,  5.82it/s, v_num=3, train_loss=1.04e-5]"
     ]
    },
    {
     "name": "stderr",
     "output_type": "stream",
     "text": [
      "Epoch 555, global step 55600: 'train_loss' was not in top 1\n"
     ]
    },
    {
     "name": "stdout",
     "output_type": "stream",
     "text": [
      "Epoch 556: |                                              | 100/? [00:17<00:00,  5.84it/s, v_num=3, train_loss=1.03e-5]"
     ]
    },
    {
     "name": "stderr",
     "output_type": "stream",
     "text": [
      "Epoch 556, global step 55700: 'train_loss' was not in top 1\n"
     ]
    },
    {
     "name": "stdout",
     "output_type": "stream",
     "text": [
      "Epoch 557: |                                              | 100/? [00:17<00:00,  5.87it/s, v_num=3, train_loss=1.04e-5]"
     ]
    },
    {
     "name": "stderr",
     "output_type": "stream",
     "text": [
      "Epoch 557, global step 55800: 'train_loss' was not in top 1\n"
     ]
    },
    {
     "name": "stdout",
     "output_type": "stream",
     "text": [
      "Epoch 558: |                                              | 100/? [00:17<00:00,  5.86it/s, v_num=3, train_loss=1.04e-5]"
     ]
    },
    {
     "name": "stderr",
     "output_type": "stream",
     "text": [
      "Epoch 558, global step 55900: 'train_loss' was not in top 1\n"
     ]
    },
    {
     "name": "stdout",
     "output_type": "stream",
     "text": [
      "Epoch 559: |                                              | 100/? [00:17<00:00,  5.79it/s, v_num=3, train_loss=1.03e-5]"
     ]
    },
    {
     "name": "stderr",
     "output_type": "stream",
     "text": [
      "Epoch 559, global step 56000: 'train_loss' was not in top 1\n"
     ]
    },
    {
     "name": "stdout",
     "output_type": "stream",
     "text": [
      "Epoch 560: |                                              | 100/? [00:17<00:00,  5.83it/s, v_num=3, train_loss=1.04e-5]"
     ]
    },
    {
     "name": "stderr",
     "output_type": "stream",
     "text": [
      "Epoch 560, global step 56100: 'train_loss' was not in top 1\n"
     ]
    },
    {
     "name": "stdout",
     "output_type": "stream",
     "text": [
      "Epoch 561: |                                              | 100/? [00:17<00:00,  5.83it/s, v_num=3, train_loss=1.03e-5]"
     ]
    },
    {
     "name": "stderr",
     "output_type": "stream",
     "text": [
      "Epoch 561, global step 56200: 'train_loss' was not in top 1\n"
     ]
    },
    {
     "name": "stdout",
     "output_type": "stream",
     "text": [
      "Epoch 562: |                                              | 100/? [00:17<00:00,  5.84it/s, v_num=3, train_loss=1.04e-5]"
     ]
    },
    {
     "name": "stderr",
     "output_type": "stream",
     "text": [
      "Epoch 562, global step 56300: 'train_loss' was not in top 1\n"
     ]
    },
    {
     "name": "stdout",
     "output_type": "stream",
     "text": [
      "Epoch 563: |                                              | 100/? [00:17<00:00,  5.82it/s, v_num=3, train_loss=1.04e-5]"
     ]
    },
    {
     "name": "stderr",
     "output_type": "stream",
     "text": [
      "Epoch 563, global step 56400: 'train_loss' was not in top 1\n"
     ]
    },
    {
     "name": "stdout",
     "output_type": "stream",
     "text": [
      "Epoch 564: |                                              | 100/? [00:17<00:00,  5.84it/s, v_num=3, train_loss=1.03e-5]"
     ]
    },
    {
     "name": "stderr",
     "output_type": "stream",
     "text": [
      "Epoch 564, global step 56500: 'train_loss' was not in top 1\n"
     ]
    },
    {
     "name": "stdout",
     "output_type": "stream",
     "text": [
      "Epoch 565: |                                              | 100/? [00:17<00:00,  5.87it/s, v_num=3, train_loss=1.05e-5]"
     ]
    },
    {
     "name": "stderr",
     "output_type": "stream",
     "text": [
      "Epoch 565, global step 56600: 'train_loss' was not in top 1\n"
     ]
    },
    {
     "name": "stdout",
     "output_type": "stream",
     "text": [
      "Epoch 566: |                                              | 100/? [00:17<00:00,  5.82it/s, v_num=3, train_loss=1.04e-5]"
     ]
    },
    {
     "name": "stderr",
     "output_type": "stream",
     "text": [
      "Epoch 566, global step 56700: 'train_loss' was not in top 1\n"
     ]
    },
    {
     "name": "stdout",
     "output_type": "stream",
     "text": [
      "Epoch 567: |                                              | 100/? [00:17<00:00,  5.85it/s, v_num=3, train_loss=1.03e-5]"
     ]
    },
    {
     "name": "stderr",
     "output_type": "stream",
     "text": [
      "Epoch 567, global step 56800: 'train_loss' was not in top 1\n"
     ]
    },
    {
     "name": "stdout",
     "output_type": "stream",
     "text": [
      "Epoch 568: |                                              | 100/? [00:17<00:00,  5.85it/s, v_num=3, train_loss=1.03e-5]"
     ]
    },
    {
     "name": "stderr",
     "output_type": "stream",
     "text": [
      "Epoch 568, global step 56900: 'train_loss' was not in top 1\n"
     ]
    },
    {
     "name": "stdout",
     "output_type": "stream",
     "text": [
      "Epoch 569: |                                              | 100/? [00:17<00:00,  5.82it/s, v_num=3, train_loss=1.03e-5]"
     ]
    },
    {
     "name": "stderr",
     "output_type": "stream",
     "text": [
      "Epoch 569, global step 57000: 'train_loss' was not in top 1\n"
     ]
    },
    {
     "name": "stdout",
     "output_type": "stream",
     "text": [
      "Epoch 570: |                                              | 100/? [00:17<00:00,  5.85it/s, v_num=3, train_loss=1.03e-5]"
     ]
    },
    {
     "name": "stderr",
     "output_type": "stream",
     "text": [
      "Epoch 570, global step 57100: 'train_loss' was not in top 1\n"
     ]
    },
    {
     "name": "stdout",
     "output_type": "stream",
     "text": [
      "Epoch 571: |                                              | 100/? [00:17<00:00,  5.85it/s, v_num=3, train_loss=1.04e-5]"
     ]
    },
    {
     "name": "stderr",
     "output_type": "stream",
     "text": [
      "Epoch 571, global step 57200: 'train_loss' was not in top 1\n"
     ]
    },
    {
     "name": "stdout",
     "output_type": "stream",
     "text": [
      "Epoch 572: |                                              | 100/? [00:17<00:00,  5.86it/s, v_num=3, train_loss=1.04e-5]"
     ]
    },
    {
     "name": "stderr",
     "output_type": "stream",
     "text": [
      "Epoch 572, global step 57300: 'train_loss' was not in top 1\n"
     ]
    },
    {
     "name": "stdout",
     "output_type": "stream",
     "text": [
      "Epoch 573: |                                              | 100/? [00:17<00:00,  5.87it/s, v_num=3, train_loss=1.04e-5]"
     ]
    },
    {
     "name": "stderr",
     "output_type": "stream",
     "text": [
      "Epoch 573, global step 57400: 'train_loss' was not in top 1\n"
     ]
    },
    {
     "name": "stdout",
     "output_type": "stream",
     "text": [
      "Epoch 574: |                                              | 100/? [00:17<00:00,  5.86it/s, v_num=3, train_loss=1.04e-5]"
     ]
    },
    {
     "name": "stderr",
     "output_type": "stream",
     "text": [
      "Epoch 574, global step 57500: 'train_loss' was not in top 1\n"
     ]
    },
    {
     "name": "stdout",
     "output_type": "stream",
     "text": [
      "Epoch 575: |                                              | 100/? [00:17<00:00,  5.86it/s, v_num=3, train_loss=1.03e-5]"
     ]
    },
    {
     "name": "stderr",
     "output_type": "stream",
     "text": [
      "Epoch 575, global step 57600: 'train_loss' was not in top 1\n"
     ]
    },
    {
     "name": "stdout",
     "output_type": "stream",
     "text": [
      "Epoch 576: |                                              | 100/? [00:17<00:00,  5.87it/s, v_num=3, train_loss=1.04e-5]"
     ]
    },
    {
     "name": "stderr",
     "output_type": "stream",
     "text": [
      "Epoch 576, global step 57700: 'train_loss' was not in top 1\n"
     ]
    },
    {
     "name": "stdout",
     "output_type": "stream",
     "text": [
      "Epoch 577: |                                              | 100/? [00:17<00:00,  5.79it/s, v_num=3, train_loss=1.03e-5]"
     ]
    },
    {
     "name": "stderr",
     "output_type": "stream",
     "text": [
      "Epoch 577, global step 57800: 'train_loss' was not in top 1\n"
     ]
    },
    {
     "name": "stdout",
     "output_type": "stream",
     "text": [
      "Epoch 578: |                                              | 100/? [00:17<00:00,  5.87it/s, v_num=3, train_loss=1.04e-5]"
     ]
    },
    {
     "name": "stderr",
     "output_type": "stream",
     "text": [
      "Epoch 578, global step 57900: 'train_loss' was not in top 1\n"
     ]
    },
    {
     "name": "stdout",
     "output_type": "stream",
     "text": [
      "Epoch 579: |                                              | 100/? [00:17<00:00,  5.81it/s, v_num=3, train_loss=1.03e-5]"
     ]
    },
    {
     "name": "stderr",
     "output_type": "stream",
     "text": [
      "Epoch 579, global step 58000: 'train_loss' was not in top 1\n"
     ]
    },
    {
     "name": "stdout",
     "output_type": "stream",
     "text": [
      "Epoch 580: |                                              | 100/? [00:17<00:00,  5.81it/s, v_num=3, train_loss=1.02e-5]"
     ]
    },
    {
     "name": "stderr",
     "output_type": "stream",
     "text": [
      "Epoch 580, global step 58100: 'train_loss' reached 0.00001 (best 0.00001), saving model to 'C:\\\\Users\\\\falty\\\\Desktop\\\\GZS\\\\trading\\\\swing\\\\multi\\\\dobby\\\\lightning_logs\\\\version_3\\\\checkpoints\\\\epoch=580-step=58100.ckpt' as top 1\n"
     ]
    },
    {
     "name": "stdout",
     "output_type": "stream",
     "text": [
      "Epoch 581: |                                              | 100/? [00:17<00:00,  5.80it/s, v_num=3, train_loss=1.04e-5]"
     ]
    },
    {
     "name": "stderr",
     "output_type": "stream",
     "text": [
      "Epoch 581, global step 58200: 'train_loss' was not in top 1\n"
     ]
    },
    {
     "name": "stdout",
     "output_type": "stream",
     "text": [
      "Epoch 582: |                                              | 100/? [00:17<00:00,  5.87it/s, v_num=3, train_loss=1.03e-5]"
     ]
    },
    {
     "name": "stderr",
     "output_type": "stream",
     "text": [
      "Epoch 582, global step 58300: 'train_loss' was not in top 1\n"
     ]
    },
    {
     "name": "stdout",
     "output_type": "stream",
     "text": [
      "Epoch 583: |                                              | 100/? [00:17<00:00,  5.85it/s, v_num=3, train_loss=1.03e-5]"
     ]
    },
    {
     "name": "stderr",
     "output_type": "stream",
     "text": [
      "Epoch 583, global step 58400: 'train_loss' was not in top 1\n"
     ]
    },
    {
     "name": "stdout",
     "output_type": "stream",
     "text": [
      "Epoch 584: |                                              | 100/? [00:17<00:00,  5.86it/s, v_num=3, train_loss=1.04e-5]"
     ]
    },
    {
     "name": "stderr",
     "output_type": "stream",
     "text": [
      "Epoch 584, global step 58500: 'train_loss' was not in top 1\n"
     ]
    },
    {
     "name": "stdout",
     "output_type": "stream",
     "text": [
      "Epoch 585: |                                              | 100/? [00:17<00:00,  5.84it/s, v_num=3, train_loss=1.04e-5]"
     ]
    },
    {
     "name": "stderr",
     "output_type": "stream",
     "text": [
      "Epoch 585, global step 58600: 'train_loss' was not in top 1\n"
     ]
    },
    {
     "name": "stdout",
     "output_type": "stream",
     "text": [
      "Epoch 586: |                                              | 100/? [00:17<00:00,  5.84it/s, v_num=3, train_loss=1.04e-5]"
     ]
    },
    {
     "name": "stderr",
     "output_type": "stream",
     "text": [
      "Epoch 586, global step 58700: 'train_loss' was not in top 1\n"
     ]
    },
    {
     "name": "stdout",
     "output_type": "stream",
     "text": [
      "Epoch 587: |                                              | 100/? [00:17<00:00,  5.83it/s, v_num=3, train_loss=1.03e-5]"
     ]
    },
    {
     "name": "stderr",
     "output_type": "stream",
     "text": [
      "Epoch 587, global step 58800: 'train_loss' was not in top 1\n"
     ]
    },
    {
     "name": "stdout",
     "output_type": "stream",
     "text": [
      "Epoch 588: |                                              | 100/? [00:17<00:00,  5.86it/s, v_num=3, train_loss=1.03e-5]"
     ]
    },
    {
     "name": "stderr",
     "output_type": "stream",
     "text": [
      "Epoch 588, global step 58900: 'train_loss' was not in top 1\n"
     ]
    },
    {
     "name": "stdout",
     "output_type": "stream",
     "text": [
      "Epoch 589: |                                              | 100/? [00:17<00:00,  5.87it/s, v_num=3, train_loss=1.04e-5]"
     ]
    },
    {
     "name": "stderr",
     "output_type": "stream",
     "text": [
      "Epoch 589, global step 59000: 'train_loss' was not in top 1\n"
     ]
    },
    {
     "name": "stdout",
     "output_type": "stream",
     "text": [
      "Epoch 590: |                                              | 100/? [00:17<00:00,  5.81it/s, v_num=3, train_loss=1.03e-5]"
     ]
    },
    {
     "name": "stderr",
     "output_type": "stream",
     "text": [
      "Epoch 590, global step 59100: 'train_loss' was not in top 1\n"
     ]
    },
    {
     "name": "stdout",
     "output_type": "stream",
     "text": [
      "Epoch 591: |                                              | 100/? [00:17<00:00,  5.84it/s, v_num=3, train_loss=1.03e-5]"
     ]
    },
    {
     "name": "stderr",
     "output_type": "stream",
     "text": [
      "Epoch 591, global step 59200: 'train_loss' was not in top 1\n"
     ]
    },
    {
     "name": "stdout",
     "output_type": "stream",
     "text": [
      "Epoch 592: |                                              | 100/? [00:17<00:00,  5.85it/s, v_num=3, train_loss=1.03e-5]"
     ]
    },
    {
     "name": "stderr",
     "output_type": "stream",
     "text": [
      "Epoch 592, global step 59300: 'train_loss' was not in top 1\n"
     ]
    },
    {
     "name": "stdout",
     "output_type": "stream",
     "text": [
      "Epoch 593: |                                              | 100/? [00:17<00:00,  5.84it/s, v_num=3, train_loss=1.04e-5]"
     ]
    },
    {
     "name": "stderr",
     "output_type": "stream",
     "text": [
      "Epoch 593, global step 59400: 'train_loss' was not in top 1\n"
     ]
    },
    {
     "name": "stdout",
     "output_type": "stream",
     "text": [
      "Epoch 594: |                                              | 100/? [00:17<00:00,  5.84it/s, v_num=3, train_loss=1.04e-5]"
     ]
    },
    {
     "name": "stderr",
     "output_type": "stream",
     "text": [
      "Epoch 594, global step 59500: 'train_loss' was not in top 1\n"
     ]
    },
    {
     "name": "stdout",
     "output_type": "stream",
     "text": [
      "Epoch 595: |                                              | 100/? [00:17<00:00,  5.86it/s, v_num=3, train_loss=1.04e-5]"
     ]
    },
    {
     "name": "stderr",
     "output_type": "stream",
     "text": [
      "Epoch 595, global step 59600: 'train_loss' was not in top 1\n"
     ]
    },
    {
     "name": "stdout",
     "output_type": "stream",
     "text": [
      "Epoch 596: |                                              | 100/? [00:17<00:00,  5.84it/s, v_num=3, train_loss=1.03e-5]"
     ]
    },
    {
     "name": "stderr",
     "output_type": "stream",
     "text": [
      "Epoch 596, global step 59700: 'train_loss' was not in top 1\n"
     ]
    },
    {
     "name": "stdout",
     "output_type": "stream",
     "text": [
      "Epoch 597: |                                              | 100/? [00:17<00:00,  5.81it/s, v_num=3, train_loss=1.04e-5]"
     ]
    },
    {
     "name": "stderr",
     "output_type": "stream",
     "text": [
      "Epoch 597, global step 59800: 'train_loss' was not in top 1\n"
     ]
    },
    {
     "name": "stdout",
     "output_type": "stream",
     "text": [
      "Epoch 598: |                                              | 100/? [00:17<00:00,  5.85it/s, v_num=3, train_loss=1.04e-5]"
     ]
    },
    {
     "name": "stderr",
     "output_type": "stream",
     "text": [
      "Epoch 598, global step 59900: 'train_loss' was not in top 1\n"
     ]
    },
    {
     "name": "stdout",
     "output_type": "stream",
     "text": [
      "Epoch 599: |                                              | 100/? [00:17<00:00,  5.83it/s, v_num=3, train_loss=1.04e-5]"
     ]
    },
    {
     "name": "stderr",
     "output_type": "stream",
     "text": [
      "Epoch 599, global step 60000: 'train_loss' was not in top 1\n"
     ]
    },
    {
     "name": "stdout",
     "output_type": "stream",
     "text": [
      "Epoch 600: |                                              | 100/? [00:17<00:00,  5.87it/s, v_num=3, train_loss=1.04e-5]"
     ]
    },
    {
     "name": "stderr",
     "output_type": "stream",
     "text": [
      "Epoch 600, global step 60100: 'train_loss' was not in top 1\n"
     ]
    },
    {
     "name": "stdout",
     "output_type": "stream",
     "text": [
      "Epoch 601: |                                              | 100/? [00:17<00:00,  5.82it/s, v_num=3, train_loss=1.04e-5]"
     ]
    },
    {
     "name": "stderr",
     "output_type": "stream",
     "text": [
      "Epoch 601, global step 60200: 'train_loss' was not in top 1\n"
     ]
    },
    {
     "name": "stdout",
     "output_type": "stream",
     "text": [
      "Epoch 602: |                                              | 100/? [00:17<00:00,  5.84it/s, v_num=3, train_loss=1.03e-5]"
     ]
    },
    {
     "name": "stderr",
     "output_type": "stream",
     "text": [
      "Epoch 602, global step 60300: 'train_loss' was not in top 1\n"
     ]
    },
    {
     "name": "stdout",
     "output_type": "stream",
     "text": [
      "Epoch 603: |                                              | 100/? [00:17<00:00,  5.86it/s, v_num=3, train_loss=1.03e-5]"
     ]
    },
    {
     "name": "stderr",
     "output_type": "stream",
     "text": [
      "Epoch 603, global step 60400: 'train_loss' was not in top 1\n"
     ]
    },
    {
     "name": "stdout",
     "output_type": "stream",
     "text": [
      "Epoch 604: |                                              | 100/? [00:17<00:00,  5.87it/s, v_num=3, train_loss=1.03e-5]"
     ]
    },
    {
     "name": "stderr",
     "output_type": "stream",
     "text": [
      "Epoch 604, global step 60500: 'train_loss' was not in top 1\n"
     ]
    },
    {
     "name": "stdout",
     "output_type": "stream",
     "text": [
      "Epoch 605: |                                              | 100/? [00:17<00:00,  5.85it/s, v_num=3, train_loss=1.04e-5]"
     ]
    },
    {
     "name": "stderr",
     "output_type": "stream",
     "text": [
      "Epoch 605, global step 60600: 'train_loss' was not in top 1\n"
     ]
    },
    {
     "name": "stdout",
     "output_type": "stream",
     "text": [
      "Epoch 606: |                                              | 100/? [00:16<00:00,  5.88it/s, v_num=3, train_loss=1.04e-5]"
     ]
    },
    {
     "name": "stderr",
     "output_type": "stream",
     "text": [
      "Epoch 606, global step 60700: 'train_loss' was not in top 1\n"
     ]
    },
    {
     "name": "stdout",
     "output_type": "stream",
     "text": [
      "Epoch 607: |                                              | 100/? [00:17<00:00,  5.88it/s, v_num=3, train_loss=1.03e-5]"
     ]
    },
    {
     "name": "stderr",
     "output_type": "stream",
     "text": [
      "Epoch 607, global step 60800: 'train_loss' was not in top 1\n"
     ]
    },
    {
     "name": "stdout",
     "output_type": "stream",
     "text": [
      "Epoch 608: |                                              | 100/? [00:17<00:00,  5.81it/s, v_num=3, train_loss=1.03e-5]"
     ]
    },
    {
     "name": "stderr",
     "output_type": "stream",
     "text": [
      "Epoch 608, global step 60900: 'train_loss' was not in top 1\n"
     ]
    },
    {
     "name": "stdout",
     "output_type": "stream",
     "text": [
      "Epoch 609: |                                              | 100/? [00:17<00:00,  5.86it/s, v_num=3, train_loss=1.04e-5]"
     ]
    },
    {
     "name": "stderr",
     "output_type": "stream",
     "text": [
      "Epoch 609, global step 61000: 'train_loss' was not in top 1\n"
     ]
    },
    {
     "name": "stdout",
     "output_type": "stream",
     "text": [
      "Epoch 610: |                                              | 100/? [00:17<00:00,  5.81it/s, v_num=3, train_loss=1.04e-5]"
     ]
    },
    {
     "name": "stderr",
     "output_type": "stream",
     "text": [
      "Epoch 610, global step 61100: 'train_loss' was not in top 1\n"
     ]
    },
    {
     "name": "stdout",
     "output_type": "stream",
     "text": [
      "Epoch 611: |                                              | 100/? [00:17<00:00,  5.85it/s, v_num=3, train_loss=1.03e-5]"
     ]
    },
    {
     "name": "stderr",
     "output_type": "stream",
     "text": [
      "Epoch 611, global step 61200: 'train_loss' was not in top 1\n"
     ]
    },
    {
     "name": "stdout",
     "output_type": "stream",
     "text": [
      "Epoch 612: |                                              | 100/? [00:17<00:00,  5.82it/s, v_num=3, train_loss=1.04e-5]"
     ]
    },
    {
     "name": "stderr",
     "output_type": "stream",
     "text": [
      "Epoch 612, global step 61300: 'train_loss' was not in top 1\n"
     ]
    },
    {
     "name": "stdout",
     "output_type": "stream",
     "text": [
      "Epoch 613: |                                              | 100/? [00:17<00:00,  5.84it/s, v_num=3, train_loss=1.03e-5]"
     ]
    },
    {
     "name": "stderr",
     "output_type": "stream",
     "text": [
      "Epoch 613, global step 61400: 'train_loss' was not in top 1\n"
     ]
    },
    {
     "name": "stdout",
     "output_type": "stream",
     "text": [
      "Epoch 614: |                                              | 100/? [00:17<00:00,  5.84it/s, v_num=3, train_loss=1.03e-5]"
     ]
    },
    {
     "name": "stderr",
     "output_type": "stream",
     "text": [
      "Epoch 614, global step 61500: 'train_loss' was not in top 1\n"
     ]
    },
    {
     "name": "stdout",
     "output_type": "stream",
     "text": [
      "Epoch 615: |                                              | 100/? [00:17<00:00,  5.82it/s, v_num=3, train_loss=1.04e-5]"
     ]
    },
    {
     "name": "stderr",
     "output_type": "stream",
     "text": [
      "Epoch 615, global step 61600: 'train_loss' was not in top 1\n"
     ]
    },
    {
     "name": "stdout",
     "output_type": "stream",
     "text": [
      "Epoch 616: |                                              | 100/? [00:17<00:00,  5.87it/s, v_num=3, train_loss=1.03e-5]"
     ]
    },
    {
     "name": "stderr",
     "output_type": "stream",
     "text": [
      "Epoch 616, global step 61700: 'train_loss' was not in top 1\n"
     ]
    },
    {
     "name": "stdout",
     "output_type": "stream",
     "text": [
      "Epoch 617: |                                              | 100/? [00:17<00:00,  5.85it/s, v_num=3, train_loss=1.03e-5]"
     ]
    },
    {
     "name": "stderr",
     "output_type": "stream",
     "text": [
      "Epoch 617, global step 61800: 'train_loss' was not in top 1\n"
     ]
    },
    {
     "name": "stdout",
     "output_type": "stream",
     "text": [
      "Epoch 618: |                                              | 100/? [00:17<00:00,  5.86it/s, v_num=3, train_loss=1.03e-5]"
     ]
    },
    {
     "name": "stderr",
     "output_type": "stream",
     "text": [
      "Epoch 618, global step 61900: 'train_loss' was not in top 1\n"
     ]
    },
    {
     "name": "stdout",
     "output_type": "stream",
     "text": [
      "Epoch 619: |                                              | 100/? [00:17<00:00,  5.83it/s, v_num=3, train_loss=1.04e-5]"
     ]
    },
    {
     "name": "stderr",
     "output_type": "stream",
     "text": [
      "Epoch 619, global step 62000: 'train_loss' was not in top 1\n"
     ]
    },
    {
     "name": "stdout",
     "output_type": "stream",
     "text": [
      "Epoch 620: |                                              | 100/? [00:17<00:00,  5.82it/s, v_num=3, train_loss=1.04e-5]"
     ]
    },
    {
     "name": "stderr",
     "output_type": "stream",
     "text": [
      "Epoch 620, global step 62100: 'train_loss' was not in top 1\n"
     ]
    },
    {
     "name": "stdout",
     "output_type": "stream",
     "text": [
      "Epoch 621: |                                              | 100/? [00:17<00:00,  5.83it/s, v_num=3, train_loss=1.04e-5]"
     ]
    },
    {
     "name": "stderr",
     "output_type": "stream",
     "text": [
      "Epoch 621, global step 62200: 'train_loss' was not in top 1\n"
     ]
    },
    {
     "name": "stdout",
     "output_type": "stream",
     "text": [
      "Epoch 622: |                                              | 100/? [00:17<00:00,  5.82it/s, v_num=3, train_loss=1.04e-5]"
     ]
    },
    {
     "name": "stderr",
     "output_type": "stream",
     "text": [
      "Epoch 622, global step 62300: 'train_loss' was not in top 1\n"
     ]
    },
    {
     "name": "stdout",
     "output_type": "stream",
     "text": [
      "Epoch 623: |                                              | 100/? [00:17<00:00,  5.83it/s, v_num=3, train_loss=1.04e-5]"
     ]
    },
    {
     "name": "stderr",
     "output_type": "stream",
     "text": [
      "Epoch 623, global step 62400: 'train_loss' was not in top 1\n"
     ]
    },
    {
     "name": "stdout",
     "output_type": "stream",
     "text": [
      "Epoch 624: |                                              | 100/? [00:17<00:00,  5.84it/s, v_num=3, train_loss=1.04e-5]"
     ]
    },
    {
     "name": "stderr",
     "output_type": "stream",
     "text": [
      "Epoch 624, global step 62500: 'train_loss' was not in top 1\n"
     ]
    },
    {
     "name": "stdout",
     "output_type": "stream",
     "text": [
      "Epoch 625: |                                              | 100/? [00:17<00:00,  5.84it/s, v_num=3, train_loss=1.03e-5]"
     ]
    },
    {
     "name": "stderr",
     "output_type": "stream",
     "text": [
      "Epoch 625, global step 62600: 'train_loss' was not in top 1\n"
     ]
    },
    {
     "name": "stdout",
     "output_type": "stream",
     "text": [
      "Epoch 626: |                                              | 100/? [00:17<00:00,  5.87it/s, v_num=3, train_loss=1.03e-5]"
     ]
    },
    {
     "name": "stderr",
     "output_type": "stream",
     "text": [
      "Epoch 626, global step 62700: 'train_loss' was not in top 1\n"
     ]
    },
    {
     "name": "stdout",
     "output_type": "stream",
     "text": [
      "Epoch 627: |                                              | 100/? [00:17<00:00,  5.86it/s, v_num=3, train_loss=1.04e-5]"
     ]
    },
    {
     "name": "stderr",
     "output_type": "stream",
     "text": [
      "Epoch 627, global step 62800: 'train_loss' was not in top 1\n"
     ]
    },
    {
     "name": "stdout",
     "output_type": "stream",
     "text": [
      "Epoch 628: |                                              | 100/? [00:17<00:00,  5.87it/s, v_num=3, train_loss=1.03e-5]"
     ]
    },
    {
     "name": "stderr",
     "output_type": "stream",
     "text": [
      "Epoch 628, global step 62900: 'train_loss' was not in top 1\n"
     ]
    },
    {
     "name": "stdout",
     "output_type": "stream",
     "text": [
      "Epoch 629: |                                              | 100/? [00:17<00:00,  5.80it/s, v_num=3, train_loss=1.03e-5]"
     ]
    },
    {
     "name": "stderr",
     "output_type": "stream",
     "text": [
      "Epoch 629, global step 63000: 'train_loss' was not in top 1\n"
     ]
    },
    {
     "name": "stdout",
     "output_type": "stream",
     "text": [
      "Epoch 630: |                                              | 100/? [00:17<00:00,  5.84it/s, v_num=3, train_loss=1.03e-5]"
     ]
    },
    {
     "name": "stderr",
     "output_type": "stream",
     "text": [
      "Epoch 630, global step 63100: 'train_loss' was not in top 1\n"
     ]
    },
    {
     "name": "stdout",
     "output_type": "stream",
     "text": [
      "Epoch 631: |                                              | 100/? [00:17<00:00,  5.85it/s, v_num=3, train_loss=1.03e-5]"
     ]
    },
    {
     "name": "stderr",
     "output_type": "stream",
     "text": [
      "Epoch 631, global step 63200: 'train_loss' was not in top 1\n"
     ]
    },
    {
     "name": "stdout",
     "output_type": "stream",
     "text": [
      "Epoch 632: |                                              | 100/? [00:17<00:00,  5.84it/s, v_num=3, train_loss=1.03e-5]"
     ]
    },
    {
     "name": "stderr",
     "output_type": "stream",
     "text": [
      "Epoch 632, global step 63300: 'train_loss' was not in top 1\n"
     ]
    },
    {
     "name": "stdout",
     "output_type": "stream",
     "text": [
      "Epoch 633: |                                              | 100/? [00:17<00:00,  5.83it/s, v_num=3, train_loss=1.04e-5]"
     ]
    },
    {
     "name": "stderr",
     "output_type": "stream",
     "text": [
      "Epoch 633, global step 63400: 'train_loss' was not in top 1\n"
     ]
    },
    {
     "name": "stdout",
     "output_type": "stream",
     "text": [
      "Epoch 634: |                                              | 100/? [00:17<00:00,  5.86it/s, v_num=3, train_loss=1.04e-5]"
     ]
    },
    {
     "name": "stderr",
     "output_type": "stream",
     "text": [
      "Epoch 634, global step 63500: 'train_loss' was not in top 1\n"
     ]
    },
    {
     "name": "stdout",
     "output_type": "stream",
     "text": [
      "Epoch 635: |                                              | 100/? [00:17<00:00,  5.86it/s, v_num=3, train_loss=1.03e-5]"
     ]
    },
    {
     "name": "stderr",
     "output_type": "stream",
     "text": [
      "Epoch 635, global step 63600: 'train_loss' was not in top 1\n"
     ]
    },
    {
     "name": "stdout",
     "output_type": "stream",
     "text": [
      "Epoch 636: |                                              | 100/? [00:17<00:00,  5.86it/s, v_num=3, train_loss=1.04e-5]"
     ]
    },
    {
     "name": "stderr",
     "output_type": "stream",
     "text": [
      "Epoch 636, global step 63700: 'train_loss' was not in top 1\n"
     ]
    },
    {
     "name": "stdout",
     "output_type": "stream",
     "text": [
      "Epoch 637: |                                              | 100/? [00:17<00:00,  5.82it/s, v_num=3, train_loss=1.04e-5]"
     ]
    },
    {
     "name": "stderr",
     "output_type": "stream",
     "text": [
      "Epoch 637, global step 63800: 'train_loss' was not in top 1\n"
     ]
    },
    {
     "name": "stdout",
     "output_type": "stream",
     "text": [
      "Epoch 638: |                                              | 100/? [00:17<00:00,  5.81it/s, v_num=3, train_loss=1.04e-5]"
     ]
    },
    {
     "name": "stderr",
     "output_type": "stream",
     "text": [
      "Epoch 638, global step 63900: 'train_loss' was not in top 1\n"
     ]
    },
    {
     "name": "stdout",
     "output_type": "stream",
     "text": [
      "Epoch 639: |                                              | 100/? [00:17<00:00,  5.84it/s, v_num=3, train_loss=1.04e-5]"
     ]
    },
    {
     "name": "stderr",
     "output_type": "stream",
     "text": [
      "Epoch 639, global step 64000: 'train_loss' was not in top 1\n"
     ]
    },
    {
     "name": "stdout",
     "output_type": "stream",
     "text": [
      "Epoch 640: |                                              | 100/? [00:17<00:00,  5.82it/s, v_num=3, train_loss=1.04e-5]"
     ]
    },
    {
     "name": "stderr",
     "output_type": "stream",
     "text": [
      "Epoch 640, global step 64100: 'train_loss' was not in top 1\n"
     ]
    },
    {
     "name": "stdout",
     "output_type": "stream",
     "text": [
      "Epoch 641: |                                              | 100/? [00:17<00:00,  5.83it/s, v_num=3, train_loss=1.04e-5]"
     ]
    },
    {
     "name": "stderr",
     "output_type": "stream",
     "text": [
      "Epoch 641, global step 64200: 'train_loss' was not in top 1\n"
     ]
    },
    {
     "name": "stdout",
     "output_type": "stream",
     "text": [
      "Epoch 642: |                                              | 100/? [00:17<00:00,  5.87it/s, v_num=3, train_loss=1.03e-5]"
     ]
    },
    {
     "name": "stderr",
     "output_type": "stream",
     "text": [
      "Epoch 642, global step 64300: 'train_loss' was not in top 1\n"
     ]
    },
    {
     "name": "stdout",
     "output_type": "stream",
     "text": [
      "Epoch 643: |                                              | 100/? [00:17<00:00,  5.86it/s, v_num=3, train_loss=1.04e-5]"
     ]
    },
    {
     "name": "stderr",
     "output_type": "stream",
     "text": [
      "Epoch 643, global step 64400: 'train_loss' was not in top 1\n"
     ]
    },
    {
     "name": "stdout",
     "output_type": "stream",
     "text": [
      "Epoch 644: |                                              | 100/? [00:17<00:00,  5.83it/s, v_num=3, train_loss=1.04e-5]"
     ]
    },
    {
     "name": "stderr",
     "output_type": "stream",
     "text": [
      "Epoch 644, global step 64500: 'train_loss' was not in top 1\n"
     ]
    },
    {
     "name": "stdout",
     "output_type": "stream",
     "text": [
      "Epoch 645: |                                              | 100/? [00:17<00:00,  5.86it/s, v_num=3, train_loss=1.05e-5]"
     ]
    },
    {
     "name": "stderr",
     "output_type": "stream",
     "text": [
      "Epoch 645, global step 64600: 'train_loss' was not in top 1\n"
     ]
    },
    {
     "name": "stdout",
     "output_type": "stream",
     "text": [
      "Epoch 646: |                                              | 100/? [00:17<00:00,  5.83it/s, v_num=3, train_loss=1.03e-5]"
     ]
    },
    {
     "name": "stderr",
     "output_type": "stream",
     "text": [
      "Epoch 646, global step 64700: 'train_loss' was not in top 1\n"
     ]
    },
    {
     "name": "stdout",
     "output_type": "stream",
     "text": [
      "Epoch 647: |                                              | 100/? [00:17<00:00,  5.82it/s, v_num=3, train_loss=1.02e-5]"
     ]
    },
    {
     "name": "stderr",
     "output_type": "stream",
     "text": [
      "Epoch 647, global step 64800: 'train_loss' was not in top 1\n"
     ]
    },
    {
     "name": "stdout",
     "output_type": "stream",
     "text": [
      "Epoch 648: |                                              | 100/? [00:17<00:00,  5.84it/s, v_num=3, train_loss=1.03e-5]"
     ]
    },
    {
     "name": "stderr",
     "output_type": "stream",
     "text": [
      "Epoch 648, global step 64900: 'train_loss' was not in top 1\n"
     ]
    },
    {
     "name": "stdout",
     "output_type": "stream",
     "text": [
      "Epoch 649: |                                              | 100/? [00:17<00:00,  5.84it/s, v_num=3, train_loss=1.04e-5]"
     ]
    },
    {
     "name": "stderr",
     "output_type": "stream",
     "text": [
      "Epoch 649, global step 65000: 'train_loss' was not in top 1\n"
     ]
    },
    {
     "name": "stdout",
     "output_type": "stream",
     "text": [
      "Epoch 650: |                                              | 100/? [00:17<00:00,  5.85it/s, v_num=3, train_loss=1.03e-5]"
     ]
    },
    {
     "name": "stderr",
     "output_type": "stream",
     "text": [
      "Epoch 650, global step 65100: 'train_loss' was not in top 1\n"
     ]
    },
    {
     "name": "stdout",
     "output_type": "stream",
     "text": [
      "Epoch 651: |                                              | 100/? [00:17<00:00,  5.81it/s, v_num=3, train_loss=1.03e-5]"
     ]
    },
    {
     "name": "stderr",
     "output_type": "stream",
     "text": [
      "Epoch 651, global step 65200: 'train_loss' was not in top 1\n"
     ]
    },
    {
     "name": "stdout",
     "output_type": "stream",
     "text": [
      "Epoch 652: |                                              | 100/? [00:17<00:00,  5.84it/s, v_num=3, train_loss=1.04e-5]"
     ]
    },
    {
     "name": "stderr",
     "output_type": "stream",
     "text": [
      "Epoch 652, global step 65300: 'train_loss' was not in top 1\n"
     ]
    },
    {
     "name": "stdout",
     "output_type": "stream",
     "text": [
      "Epoch 653: |                                              | 100/? [00:17<00:00,  5.83it/s, v_num=3, train_loss=1.05e-5]"
     ]
    },
    {
     "name": "stderr",
     "output_type": "stream",
     "text": [
      "Epoch 653, global step 65400: 'train_loss' was not in top 1\n"
     ]
    },
    {
     "name": "stdout",
     "output_type": "stream",
     "text": [
      "Epoch 654: |                                              | 100/? [00:17<00:00,  5.85it/s, v_num=3, train_loss=1.03e-5]"
     ]
    },
    {
     "name": "stderr",
     "output_type": "stream",
     "text": [
      "Epoch 654, global step 65500: 'train_loss' was not in top 1\n"
     ]
    },
    {
     "name": "stdout",
     "output_type": "stream",
     "text": [
      "Epoch 655: |                                              | 100/? [00:17<00:00,  5.84it/s, v_num=3, train_loss=1.03e-5]"
     ]
    },
    {
     "name": "stderr",
     "output_type": "stream",
     "text": [
      "Epoch 655, global step 65600: 'train_loss' was not in top 1\n"
     ]
    },
    {
     "name": "stdout",
     "output_type": "stream",
     "text": [
      "Epoch 656: |                                              | 100/? [00:17<00:00,  5.85it/s, v_num=3, train_loss=1.03e-5]"
     ]
    },
    {
     "name": "stderr",
     "output_type": "stream",
     "text": [
      "Epoch 656, global step 65700: 'train_loss' was not in top 1\n"
     ]
    },
    {
     "name": "stdout",
     "output_type": "stream",
     "text": [
      "Epoch 657: |                                              | 100/? [00:17<00:00,  5.85it/s, v_num=3, train_loss=1.03e-5]"
     ]
    },
    {
     "name": "stderr",
     "output_type": "stream",
     "text": [
      "Epoch 657, global step 65800: 'train_loss' was not in top 1\n"
     ]
    },
    {
     "name": "stdout",
     "output_type": "stream",
     "text": [
      "Epoch 658: |                                              | 100/? [00:17<00:00,  5.83it/s, v_num=3, train_loss=1.03e-5]"
     ]
    },
    {
     "name": "stderr",
     "output_type": "stream",
     "text": [
      "Epoch 658, global step 65900: 'train_loss' was not in top 1\n"
     ]
    },
    {
     "name": "stdout",
     "output_type": "stream",
     "text": [
      "Epoch 659: |                                              | 100/? [00:17<00:00,  5.85it/s, v_num=3, train_loss=1.03e-5]"
     ]
    },
    {
     "name": "stderr",
     "output_type": "stream",
     "text": [
      "Epoch 659, global step 66000: 'train_loss' was not in top 1\n"
     ]
    },
    {
     "name": "stdout",
     "output_type": "stream",
     "text": [
      "Epoch 660: |                                              | 100/? [00:17<00:00,  5.81it/s, v_num=3, train_loss=1.03e-5]"
     ]
    },
    {
     "name": "stderr",
     "output_type": "stream",
     "text": [
      "Epoch 660, global step 66100: 'train_loss' was not in top 1\n"
     ]
    },
    {
     "name": "stdout",
     "output_type": "stream",
     "text": [
      "Epoch 661: |                                              | 100/? [00:17<00:00,  5.84it/s, v_num=3, train_loss=1.03e-5]"
     ]
    },
    {
     "name": "stderr",
     "output_type": "stream",
     "text": [
      "Epoch 661, global step 66200: 'train_loss' was not in top 1\n"
     ]
    },
    {
     "name": "stdout",
     "output_type": "stream",
     "text": [
      "Epoch 662: |                                              | 100/? [00:17<00:00,  5.84it/s, v_num=3, train_loss=1.03e-5]"
     ]
    },
    {
     "name": "stderr",
     "output_type": "stream",
     "text": [
      "Epoch 662, global step 66300: 'train_loss' was not in top 1\n"
     ]
    },
    {
     "name": "stdout",
     "output_type": "stream",
     "text": [
      "Epoch 663: |                                              | 100/? [00:17<00:00,  5.83it/s, v_num=3, train_loss=1.03e-5]"
     ]
    },
    {
     "name": "stderr",
     "output_type": "stream",
     "text": [
      "Epoch 663, global step 66400: 'train_loss' was not in top 1\n"
     ]
    },
    {
     "name": "stdout",
     "output_type": "stream",
     "text": [
      "Epoch 664: |                                              | 100/? [00:17<00:00,  5.84it/s, v_num=3, train_loss=1.03e-5]"
     ]
    },
    {
     "name": "stderr",
     "output_type": "stream",
     "text": [
      "Epoch 664, global step 66500: 'train_loss' was not in top 1\n"
     ]
    },
    {
     "name": "stdout",
     "output_type": "stream",
     "text": [
      "Epoch 665: |                                              | 100/? [00:17<00:00,  5.87it/s, v_num=3, train_loss=1.03e-5]"
     ]
    },
    {
     "name": "stderr",
     "output_type": "stream",
     "text": [
      "Epoch 665, global step 66600: 'train_loss' was not in top 1\n"
     ]
    },
    {
     "name": "stdout",
     "output_type": "stream",
     "text": [
      "Epoch 666: |                                              | 100/? [00:17<00:00,  5.86it/s, v_num=3, train_loss=1.03e-5]"
     ]
    },
    {
     "name": "stderr",
     "output_type": "stream",
     "text": [
      "Epoch 666, global step 66700: 'train_loss' was not in top 1\n"
     ]
    },
    {
     "name": "stdout",
     "output_type": "stream",
     "text": [
      "Epoch 667: |                                              | 100/? [00:17<00:00,  5.84it/s, v_num=3, train_loss=1.03e-5]"
     ]
    },
    {
     "name": "stderr",
     "output_type": "stream",
     "text": [
      "Epoch 667, global step 66800: 'train_loss' was not in top 1\n"
     ]
    },
    {
     "name": "stdout",
     "output_type": "stream",
     "text": [
      "Epoch 668: |                                              | 100/? [00:17<00:00,  5.83it/s, v_num=3, train_loss=1.04e-5]"
     ]
    },
    {
     "name": "stderr",
     "output_type": "stream",
     "text": [
      "Epoch 668, global step 66900: 'train_loss' was not in top 1\n"
     ]
    },
    {
     "name": "stdout",
     "output_type": "stream",
     "text": [
      "Epoch 669: |                                              | 100/? [00:17<00:00,  5.80it/s, v_num=3, train_loss=1.04e-5]"
     ]
    },
    {
     "name": "stderr",
     "output_type": "stream",
     "text": [
      "Epoch 669, global step 67000: 'train_loss' was not in top 1\n"
     ]
    },
    {
     "name": "stdout",
     "output_type": "stream",
     "text": [
      "Epoch 670: |                                              | 100/? [00:17<00:00,  5.86it/s, v_num=3, train_loss=1.05e-5]"
     ]
    },
    {
     "name": "stderr",
     "output_type": "stream",
     "text": [
      "Epoch 670, global step 67100: 'train_loss' was not in top 1\n"
     ]
    },
    {
     "name": "stdout",
     "output_type": "stream",
     "text": [
      "Epoch 671: |                                              | 100/? [00:17<00:00,  5.85it/s, v_num=3, train_loss=1.04e-5]"
     ]
    },
    {
     "name": "stderr",
     "output_type": "stream",
     "text": [
      "Epoch 671, global step 67200: 'train_loss' was not in top 1\n"
     ]
    },
    {
     "name": "stdout",
     "output_type": "stream",
     "text": [
      "Epoch 672: |                                              | 100/? [00:17<00:00,  5.81it/s, v_num=3, train_loss=1.04e-5]"
     ]
    },
    {
     "name": "stderr",
     "output_type": "stream",
     "text": [
      "Epoch 672, global step 67300: 'train_loss' was not in top 1\n"
     ]
    },
    {
     "name": "stdout",
     "output_type": "stream",
     "text": [
      "Epoch 673: |                                              | 100/? [00:17<00:00,  5.82it/s, v_num=3, train_loss=1.04e-5]"
     ]
    },
    {
     "name": "stderr",
     "output_type": "stream",
     "text": [
      "Epoch 673, global step 67400: 'train_loss' was not in top 1\n"
     ]
    },
    {
     "name": "stdout",
     "output_type": "stream",
     "text": [
      "Epoch 674: |                                              | 100/? [00:17<00:00,  5.81it/s, v_num=3, train_loss=1.04e-5]"
     ]
    },
    {
     "name": "stderr",
     "output_type": "stream",
     "text": [
      "Epoch 674, global step 67500: 'train_loss' was not in top 1\n"
     ]
    },
    {
     "name": "stdout",
     "output_type": "stream",
     "text": [
      "Epoch 675: |                                              | 100/? [00:17<00:00,  5.83it/s, v_num=3, train_loss=1.03e-5]"
     ]
    },
    {
     "name": "stderr",
     "output_type": "stream",
     "text": [
      "Epoch 675, global step 67600: 'train_loss' was not in top 1\n"
     ]
    },
    {
     "name": "stdout",
     "output_type": "stream",
     "text": [
      "Epoch 676: |                                              | 100/? [00:17<00:00,  5.84it/s, v_num=3, train_loss=1.04e-5]"
     ]
    },
    {
     "name": "stderr",
     "output_type": "stream",
     "text": [
      "Epoch 676, global step 67700: 'train_loss' was not in top 1\n"
     ]
    },
    {
     "name": "stdout",
     "output_type": "stream",
     "text": [
      "Epoch 677: |                                              | 100/? [00:17<00:00,  5.85it/s, v_num=3, train_loss=1.03e-5]"
     ]
    },
    {
     "name": "stderr",
     "output_type": "stream",
     "text": [
      "Epoch 677, global step 67800: 'train_loss' was not in top 1\n"
     ]
    },
    {
     "name": "stdout",
     "output_type": "stream",
     "text": [
      "Epoch 678: |                                              | 100/? [00:17<00:00,  5.85it/s, v_num=3, train_loss=1.03e-5]"
     ]
    },
    {
     "name": "stderr",
     "output_type": "stream",
     "text": [
      "Epoch 678, global step 67900: 'train_loss' was not in top 1\n"
     ]
    },
    {
     "name": "stdout",
     "output_type": "stream",
     "text": [
      "Epoch 679: |                                              | 100/? [00:17<00:00,  5.84it/s, v_num=3, train_loss=1.03e-5]"
     ]
    },
    {
     "name": "stderr",
     "output_type": "stream",
     "text": [
      "Epoch 679, global step 68000: 'train_loss' was not in top 1\n"
     ]
    },
    {
     "name": "stdout",
     "output_type": "stream",
     "text": [
      "Epoch 680: |                                              | 100/? [00:17<00:00,  5.83it/s, v_num=3, train_loss=1.04e-5]"
     ]
    },
    {
     "name": "stderr",
     "output_type": "stream",
     "text": [
      "Epoch 680, global step 68100: 'train_loss' was not in top 1\n"
     ]
    },
    {
     "name": "stdout",
     "output_type": "stream",
     "text": [
      "Epoch 681: |                                              | 100/? [00:17<00:00,  5.83it/s, v_num=3, train_loss=1.04e-5]"
     ]
    },
    {
     "name": "stderr",
     "output_type": "stream",
     "text": [
      "Epoch 681, global step 68200: 'train_loss' was not in top 1\n"
     ]
    },
    {
     "name": "stdout",
     "output_type": "stream",
     "text": [
      "Epoch 682: |                                              | 100/? [00:17<00:00,  5.84it/s, v_num=3, train_loss=1.04e-5]"
     ]
    },
    {
     "name": "stderr",
     "output_type": "stream",
     "text": [
      "Epoch 682, global step 68300: 'train_loss' was not in top 1\n"
     ]
    },
    {
     "name": "stdout",
     "output_type": "stream",
     "text": [
      "Epoch 683: |                                              | 100/? [00:17<00:00,  5.82it/s, v_num=3, train_loss=1.04e-5]"
     ]
    },
    {
     "name": "stderr",
     "output_type": "stream",
     "text": [
      "Epoch 683, global step 68400: 'train_loss' was not in top 1\n"
     ]
    },
    {
     "name": "stdout",
     "output_type": "stream",
     "text": [
      "Epoch 684: |                                              | 100/? [00:17<00:00,  5.83it/s, v_num=3, train_loss=1.04e-5]"
     ]
    },
    {
     "name": "stderr",
     "output_type": "stream",
     "text": [
      "Epoch 684, global step 68500: 'train_loss' was not in top 1\n"
     ]
    },
    {
     "name": "stdout",
     "output_type": "stream",
     "text": [
      "Epoch 685: |                                              | 100/? [00:17<00:00,  5.83it/s, v_num=3, train_loss=1.04e-5]"
     ]
    },
    {
     "name": "stderr",
     "output_type": "stream",
     "text": [
      "Epoch 685, global step 68600: 'train_loss' was not in top 1\n"
     ]
    },
    {
     "name": "stdout",
     "output_type": "stream",
     "text": [
      "Epoch 686: |                                              | 100/? [00:17<00:00,  5.86it/s, v_num=3, train_loss=1.04e-5]"
     ]
    },
    {
     "name": "stderr",
     "output_type": "stream",
     "text": [
      "Epoch 686, global step 68700: 'train_loss' was not in top 1\n"
     ]
    },
    {
     "name": "stdout",
     "output_type": "stream",
     "text": [
      "Epoch 687: |                                              | 100/? [00:17<00:00,  5.83it/s, v_num=3, train_loss=1.04e-5]"
     ]
    },
    {
     "name": "stderr",
     "output_type": "stream",
     "text": [
      "Epoch 687, global step 68800: 'train_loss' was not in top 1\n"
     ]
    },
    {
     "name": "stdout",
     "output_type": "stream",
     "text": [
      "Epoch 688: |                                              | 100/? [00:17<00:00,  5.80it/s, v_num=3, train_loss=1.04e-5]"
     ]
    },
    {
     "name": "stderr",
     "output_type": "stream",
     "text": [
      "Epoch 688, global step 68900: 'train_loss' was not in top 1\n"
     ]
    },
    {
     "name": "stdout",
     "output_type": "stream",
     "text": [
      "Epoch 689: |                                              | 100/? [00:17<00:00,  5.83it/s, v_num=3, train_loss=1.03e-5]"
     ]
    },
    {
     "name": "stderr",
     "output_type": "stream",
     "text": [
      "Epoch 689, global step 69000: 'train_loss' was not in top 1\n"
     ]
    },
    {
     "name": "stdout",
     "output_type": "stream",
     "text": [
      "Epoch 690: |                                              | 100/? [00:17<00:00,  5.82it/s, v_num=3, train_loss=1.04e-5]"
     ]
    },
    {
     "name": "stderr",
     "output_type": "stream",
     "text": [
      "Epoch 690, global step 69100: 'train_loss' was not in top 1\n"
     ]
    },
    {
     "name": "stdout",
     "output_type": "stream",
     "text": [
      "Epoch 691: |                                              | 100/? [00:17<00:00,  5.86it/s, v_num=3, train_loss=1.03e-5]"
     ]
    },
    {
     "name": "stderr",
     "output_type": "stream",
     "text": [
      "Epoch 691, global step 69200: 'train_loss' was not in top 1\n"
     ]
    },
    {
     "name": "stdout",
     "output_type": "stream",
     "text": [
      "Epoch 692: |                                              | 100/? [00:17<00:00,  5.83it/s, v_num=3, train_loss=1.03e-5]"
     ]
    },
    {
     "name": "stderr",
     "output_type": "stream",
     "text": [
      "Epoch 692, global step 69300: 'train_loss' was not in top 1\n"
     ]
    },
    {
     "name": "stdout",
     "output_type": "stream",
     "text": [
      "Epoch 693: |                                              | 100/? [00:17<00:00,  5.86it/s, v_num=3, train_loss=1.03e-5]"
     ]
    },
    {
     "name": "stderr",
     "output_type": "stream",
     "text": [
      "Epoch 693, global step 69400: 'train_loss' was not in top 1\n"
     ]
    },
    {
     "name": "stdout",
     "output_type": "stream",
     "text": [
      "Epoch 694: |                                              | 100/? [00:17<00:00,  5.81it/s, v_num=3, train_loss=1.04e-5]"
     ]
    },
    {
     "name": "stderr",
     "output_type": "stream",
     "text": [
      "Epoch 694, global step 69500: 'train_loss' was not in top 1\n"
     ]
    },
    {
     "name": "stdout",
     "output_type": "stream",
     "text": [
      "Epoch 695: |                                              | 100/? [00:17<00:00,  5.83it/s, v_num=3, train_loss=1.04e-5]"
     ]
    },
    {
     "name": "stderr",
     "output_type": "stream",
     "text": [
      "Epoch 695, global step 69600: 'train_loss' was not in top 1\n"
     ]
    },
    {
     "name": "stdout",
     "output_type": "stream",
     "text": [
      "Epoch 696: |                                              | 100/? [00:17<00:00,  5.85it/s, v_num=3, train_loss=1.03e-5]"
     ]
    },
    {
     "name": "stderr",
     "output_type": "stream",
     "text": [
      "Epoch 696, global step 69700: 'train_loss' was not in top 1\n"
     ]
    },
    {
     "name": "stdout",
     "output_type": "stream",
     "text": [
      "Epoch 697: |                                              | 100/? [00:17<00:00,  5.85it/s, v_num=3, train_loss=1.03e-5]"
     ]
    },
    {
     "name": "stderr",
     "output_type": "stream",
     "text": [
      "Epoch 697, global step 69800: 'train_loss' was not in top 1\n"
     ]
    },
    {
     "name": "stdout",
     "output_type": "stream",
     "text": [
      "Epoch 698: |                                              | 100/? [00:17<00:00,  5.84it/s, v_num=3, train_loss=1.03e-5]"
     ]
    },
    {
     "name": "stderr",
     "output_type": "stream",
     "text": [
      "Epoch 698, global step 69900: 'train_loss' was not in top 1\n"
     ]
    },
    {
     "name": "stdout",
     "output_type": "stream",
     "text": [
      "Epoch 699: |                                              | 100/? [00:17<00:00,  5.84it/s, v_num=3, train_loss=1.05e-5]"
     ]
    },
    {
     "name": "stderr",
     "output_type": "stream",
     "text": [
      "Epoch 699, global step 70000: 'train_loss' was not in top 1\n"
     ]
    },
    {
     "name": "stdout",
     "output_type": "stream",
     "text": [
      "Epoch 700: |                                              | 100/? [00:17<00:00,  5.83it/s, v_num=3, train_loss=1.04e-5]"
     ]
    },
    {
     "name": "stderr",
     "output_type": "stream",
     "text": [
      "Epoch 700, global step 70100: 'train_loss' was not in top 1\n"
     ]
    },
    {
     "name": "stdout",
     "output_type": "stream",
     "text": [
      "Epoch 701: |                                              | 100/? [00:17<00:00,  5.81it/s, v_num=3, train_loss=1.03e-5]"
     ]
    },
    {
     "name": "stderr",
     "output_type": "stream",
     "text": [
      "Epoch 701, global step 70200: 'train_loss' was not in top 1\n"
     ]
    },
    {
     "name": "stdout",
     "output_type": "stream",
     "text": [
      "Epoch 702: |                                              | 100/? [00:17<00:00,  5.83it/s, v_num=3, train_loss=1.04e-5]"
     ]
    },
    {
     "name": "stderr",
     "output_type": "stream",
     "text": [
      "Epoch 702, global step 70300: 'train_loss' was not in top 1\n"
     ]
    },
    {
     "name": "stdout",
     "output_type": "stream",
     "text": [
      "Epoch 703: |                                              | 100/? [00:17<00:00,  5.83it/s, v_num=3, train_loss=1.03e-5]"
     ]
    },
    {
     "name": "stderr",
     "output_type": "stream",
     "text": [
      "Epoch 703, global step 70400: 'train_loss' was not in top 1\n"
     ]
    },
    {
     "name": "stdout",
     "output_type": "stream",
     "text": [
      "Epoch 704: |                                              | 100/? [00:17<00:00,  5.84it/s, v_num=3, train_loss=1.03e-5]"
     ]
    },
    {
     "name": "stderr",
     "output_type": "stream",
     "text": [
      "Epoch 704, global step 70500: 'train_loss' was not in top 1\n"
     ]
    },
    {
     "name": "stdout",
     "output_type": "stream",
     "text": [
      "Epoch 705: |                                              | 100/? [00:17<00:00,  5.81it/s, v_num=3, train_loss=1.03e-5]"
     ]
    },
    {
     "name": "stderr",
     "output_type": "stream",
     "text": [
      "Epoch 705, global step 70600: 'train_loss' was not in top 1\n"
     ]
    },
    {
     "name": "stdout",
     "output_type": "stream",
     "text": [
      "Epoch 706: |                                              | 100/? [00:17<00:00,  5.85it/s, v_num=3, train_loss=1.03e-5]"
     ]
    },
    {
     "name": "stderr",
     "output_type": "stream",
     "text": [
      "Epoch 706, global step 70700: 'train_loss' was not in top 1\n"
     ]
    },
    {
     "name": "stdout",
     "output_type": "stream",
     "text": [
      "Epoch 707: |                                              | 100/? [00:17<00:00,  5.82it/s, v_num=3, train_loss=1.03e-5]"
     ]
    },
    {
     "name": "stderr",
     "output_type": "stream",
     "text": [
      "Epoch 707, global step 70800: 'train_loss' was not in top 1\n"
     ]
    },
    {
     "name": "stdout",
     "output_type": "stream",
     "text": [
      "Epoch 708: |                                              | 100/? [00:17<00:00,  5.83it/s, v_num=3, train_loss=1.03e-5]"
     ]
    },
    {
     "name": "stderr",
     "output_type": "stream",
     "text": [
      "Epoch 708, global step 70900: 'train_loss' was not in top 1\n"
     ]
    },
    {
     "name": "stdout",
     "output_type": "stream",
     "text": [
      "Epoch 709: |                                              | 100/? [00:17<00:00,  5.84it/s, v_num=3, train_loss=1.03e-5]"
     ]
    },
    {
     "name": "stderr",
     "output_type": "stream",
     "text": [
      "Epoch 709, global step 71000: 'train_loss' was not in top 1\n"
     ]
    },
    {
     "name": "stdout",
     "output_type": "stream",
     "text": [
      "Epoch 710: |                                              | 100/? [00:17<00:00,  5.85it/s, v_num=3, train_loss=1.04e-5]"
     ]
    },
    {
     "name": "stderr",
     "output_type": "stream",
     "text": [
      "Epoch 710, global step 71100: 'train_loss' was not in top 1\n"
     ]
    },
    {
     "name": "stdout",
     "output_type": "stream",
     "text": [
      "Epoch 711: |                                              | 100/? [00:17<00:00,  5.85it/s, v_num=3, train_loss=1.03e-5]"
     ]
    },
    {
     "name": "stderr",
     "output_type": "stream",
     "text": [
      "Epoch 711, global step 71200: 'train_loss' was not in top 1\n"
     ]
    },
    {
     "name": "stdout",
     "output_type": "stream",
     "text": [
      "Epoch 712: |                                              | 100/? [00:17<00:00,  5.81it/s, v_num=3, train_loss=1.04e-5]"
     ]
    },
    {
     "name": "stderr",
     "output_type": "stream",
     "text": [
      "Epoch 712, global step 71300: 'train_loss' was not in top 1\n"
     ]
    },
    {
     "name": "stdout",
     "output_type": "stream",
     "text": [
      "Epoch 713: |                                              | 100/? [00:17<00:00,  5.85it/s, v_num=3, train_loss=1.03e-5]"
     ]
    },
    {
     "name": "stderr",
     "output_type": "stream",
     "text": [
      "Epoch 713, global step 71400: 'train_loss' was not in top 1\n"
     ]
    },
    {
     "name": "stdout",
     "output_type": "stream",
     "text": [
      "Epoch 714: |                                              | 100/? [00:17<00:00,  5.79it/s, v_num=3, train_loss=1.04e-5]"
     ]
    },
    {
     "name": "stderr",
     "output_type": "stream",
     "text": [
      "Epoch 714, global step 71500: 'train_loss' was not in top 1\n"
     ]
    },
    {
     "name": "stdout",
     "output_type": "stream",
     "text": [
      "Epoch 715: |                                              | 100/? [00:17<00:00,  5.81it/s, v_num=3, train_loss=1.04e-5]"
     ]
    },
    {
     "name": "stderr",
     "output_type": "stream",
     "text": [
      "Epoch 715, global step 71600: 'train_loss' was not in top 1\n"
     ]
    },
    {
     "name": "stdout",
     "output_type": "stream",
     "text": [
      "Epoch 716: |                                              | 100/? [00:17<00:00,  5.86it/s, v_num=3, train_loss=1.04e-5]"
     ]
    },
    {
     "name": "stderr",
     "output_type": "stream",
     "text": [
      "Epoch 716, global step 71700: 'train_loss' was not in top 1\n"
     ]
    },
    {
     "name": "stdout",
     "output_type": "stream",
     "text": [
      "Epoch 717: |                                              | 100/? [00:17<00:00,  5.83it/s, v_num=3, train_loss=1.03e-5]"
     ]
    },
    {
     "name": "stderr",
     "output_type": "stream",
     "text": [
      "Epoch 717, global step 71800: 'train_loss' was not in top 1\n"
     ]
    },
    {
     "name": "stdout",
     "output_type": "stream",
     "text": [
      "Epoch 718: |                                              | 100/? [00:17<00:00,  5.84it/s, v_num=3, train_loss=1.03e-5]"
     ]
    },
    {
     "name": "stderr",
     "output_type": "stream",
     "text": [
      "Epoch 718, global step 71900: 'train_loss' was not in top 1\n"
     ]
    },
    {
     "name": "stdout",
     "output_type": "stream",
     "text": [
      "Epoch 719: |                                              | 100/? [00:17<00:00,  5.86it/s, v_num=3, train_loss=1.04e-5]"
     ]
    },
    {
     "name": "stderr",
     "output_type": "stream",
     "text": [
      "Epoch 719, global step 72000: 'train_loss' was not in top 1\n"
     ]
    },
    {
     "name": "stdout",
     "output_type": "stream",
     "text": [
      "Epoch 720: |                                              | 100/? [00:17<00:00,  5.84it/s, v_num=3, train_loss=1.03e-5]"
     ]
    },
    {
     "name": "stderr",
     "output_type": "stream",
     "text": [
      "Epoch 720, global step 72100: 'train_loss' was not in top 1\n"
     ]
    },
    {
     "name": "stdout",
     "output_type": "stream",
     "text": [
      "Epoch 721: |                                              | 100/? [00:17<00:00,  5.84it/s, v_num=3, train_loss=1.05e-5]"
     ]
    },
    {
     "name": "stderr",
     "output_type": "stream",
     "text": [
      "Epoch 721, global step 72200: 'train_loss' was not in top 1\n"
     ]
    },
    {
     "name": "stdout",
     "output_type": "stream",
     "text": [
      "Epoch 722: |                                              | 100/? [00:17<00:00,  5.81it/s, v_num=3, train_loss=1.05e-5]"
     ]
    },
    {
     "name": "stderr",
     "output_type": "stream",
     "text": [
      "Epoch 722, global step 72300: 'train_loss' was not in top 1\n"
     ]
    },
    {
     "name": "stdout",
     "output_type": "stream",
     "text": [
      "Epoch 723: |                                              | 100/? [00:17<00:00,  5.85it/s, v_num=3, train_loss=1.05e-5]"
     ]
    },
    {
     "name": "stderr",
     "output_type": "stream",
     "text": [
      "Epoch 723, global step 72400: 'train_loss' was not in top 1\n"
     ]
    },
    {
     "name": "stdout",
     "output_type": "stream",
     "text": [
      "Epoch 724: |                                              | 100/? [00:17<00:00,  5.86it/s, v_num=3, train_loss=1.03e-5]"
     ]
    },
    {
     "name": "stderr",
     "output_type": "stream",
     "text": [
      "Epoch 724, global step 72500: 'train_loss' was not in top 1\n"
     ]
    },
    {
     "name": "stdout",
     "output_type": "stream",
     "text": [
      "Epoch 725: |                                              | 100/? [00:17<00:00,  5.87it/s, v_num=3, train_loss=1.04e-5]"
     ]
    },
    {
     "name": "stderr",
     "output_type": "stream",
     "text": [
      "Epoch 725, global step 72600: 'train_loss' was not in top 1\n"
     ]
    },
    {
     "name": "stdout",
     "output_type": "stream",
     "text": [
      "Epoch 726: |                                              | 100/? [00:17<00:00,  5.82it/s, v_num=3, train_loss=1.03e-5]"
     ]
    },
    {
     "name": "stderr",
     "output_type": "stream",
     "text": [
      "Epoch 726, global step 72700: 'train_loss' was not in top 1\n"
     ]
    },
    {
     "name": "stdout",
     "output_type": "stream",
     "text": [
      "Epoch 727: |                                              | 100/? [00:17<00:00,  5.84it/s, v_num=3, train_loss=1.03e-5]"
     ]
    },
    {
     "name": "stderr",
     "output_type": "stream",
     "text": [
      "Epoch 727, global step 72800: 'train_loss' was not in top 1\n"
     ]
    },
    {
     "name": "stdout",
     "output_type": "stream",
     "text": [
      "Epoch 728: |                                              | 100/? [00:17<00:00,  5.82it/s, v_num=3, train_loss=1.03e-5]"
     ]
    },
    {
     "name": "stderr",
     "output_type": "stream",
     "text": [
      "Epoch 728, global step 72900: 'train_loss' was not in top 1\n"
     ]
    },
    {
     "name": "stdout",
     "output_type": "stream",
     "text": [
      "Epoch 729: |                                              | 100/? [00:17<00:00,  5.84it/s, v_num=3, train_loss=1.03e-5]"
     ]
    },
    {
     "name": "stderr",
     "output_type": "stream",
     "text": [
      "Epoch 729, global step 73000: 'train_loss' was not in top 1\n"
     ]
    },
    {
     "name": "stdout",
     "output_type": "stream",
     "text": [
      "Epoch 730: |                                              | 100/? [00:17<00:00,  5.85it/s, v_num=3, train_loss=1.03e-5]"
     ]
    },
    {
     "name": "stderr",
     "output_type": "stream",
     "text": [
      "Epoch 730, global step 73100: 'train_loss' was not in top 1\n"
     ]
    },
    {
     "name": "stdout",
     "output_type": "stream",
     "text": [
      "Epoch 731: |                                              | 100/? [00:17<00:00,  5.83it/s, v_num=3, train_loss=1.03e-5]"
     ]
    },
    {
     "name": "stderr",
     "output_type": "stream",
     "text": [
      "Epoch 731, global step 73200: 'train_loss' was not in top 1\n"
     ]
    },
    {
     "name": "stdout",
     "output_type": "stream",
     "text": [
      "Epoch 732: |                                              | 100/? [00:17<00:00,  5.84it/s, v_num=3, train_loss=1.03e-5]"
     ]
    },
    {
     "name": "stderr",
     "output_type": "stream",
     "text": [
      "Epoch 732, global step 73300: 'train_loss' was not in top 1\n"
     ]
    },
    {
     "name": "stdout",
     "output_type": "stream",
     "text": [
      "Epoch 733: |                                              | 100/? [00:17<00:00,  5.78it/s, v_num=3, train_loss=1.04e-5]"
     ]
    },
    {
     "name": "stderr",
     "output_type": "stream",
     "text": [
      "Epoch 733, global step 73400: 'train_loss' was not in top 1\n"
     ]
    },
    {
     "name": "stdout",
     "output_type": "stream",
     "text": [
      "Epoch 734: |                                              | 100/? [00:17<00:00,  5.84it/s, v_num=3, train_loss=1.03e-5]"
     ]
    },
    {
     "name": "stderr",
     "output_type": "stream",
     "text": [
      "Epoch 734, global step 73500: 'train_loss' was not in top 1\n"
     ]
    },
    {
     "name": "stdout",
     "output_type": "stream",
     "text": [
      "Epoch 735: |                                              | 100/? [00:17<00:00,  5.84it/s, v_num=3, train_loss=1.04e-5]"
     ]
    },
    {
     "name": "stderr",
     "output_type": "stream",
     "text": [
      "Epoch 735, global step 73600: 'train_loss' was not in top 1\n"
     ]
    },
    {
     "name": "stdout",
     "output_type": "stream",
     "text": [
      "Epoch 736: |                                              | 100/? [00:17<00:00,  5.85it/s, v_num=3, train_loss=1.04e-5]"
     ]
    },
    {
     "name": "stderr",
     "output_type": "stream",
     "text": [
      "Epoch 736, global step 73700: 'train_loss' was not in top 1\n"
     ]
    },
    {
     "name": "stdout",
     "output_type": "stream",
     "text": [
      "Epoch 737: |                                              | 100/? [00:17<00:00,  5.83it/s, v_num=3, train_loss=1.04e-5]"
     ]
    },
    {
     "name": "stderr",
     "output_type": "stream",
     "text": [
      "Epoch 737, global step 73800: 'train_loss' was not in top 1\n"
     ]
    },
    {
     "name": "stdout",
     "output_type": "stream",
     "text": [
      "Epoch 738: |                                              | 100/? [00:17<00:00,  5.84it/s, v_num=3, train_loss=1.03e-5]"
     ]
    },
    {
     "name": "stderr",
     "output_type": "stream",
     "text": [
      "Epoch 738, global step 73900: 'train_loss' was not in top 1\n"
     ]
    },
    {
     "name": "stdout",
     "output_type": "stream",
     "text": [
      "Epoch 739: |                                              | 100/? [00:17<00:00,  5.82it/s, v_num=3, train_loss=1.03e-5]"
     ]
    },
    {
     "name": "stderr",
     "output_type": "stream",
     "text": [
      "Epoch 739, global step 74000: 'train_loss' was not in top 1\n"
     ]
    },
    {
     "name": "stdout",
     "output_type": "stream",
     "text": [
      "Epoch 740: |                                              | 100/? [00:17<00:00,  5.85it/s, v_num=3, train_loss=1.03e-5]"
     ]
    },
    {
     "name": "stderr",
     "output_type": "stream",
     "text": [
      "Epoch 740, global step 74100: 'train_loss' was not in top 1\n"
     ]
    },
    {
     "name": "stdout",
     "output_type": "stream",
     "text": [
      "Epoch 741: |                                              | 100/? [00:17<00:00,  5.85it/s, v_num=3, train_loss=1.03e-5]"
     ]
    },
    {
     "name": "stderr",
     "output_type": "stream",
     "text": [
      "Epoch 741, global step 74200: 'train_loss' was not in top 1\n"
     ]
    },
    {
     "name": "stdout",
     "output_type": "stream",
     "text": [
      "Epoch 742: |                                              | 100/? [00:17<00:00,  5.82it/s, v_num=3, train_loss=1.04e-5]"
     ]
    },
    {
     "name": "stderr",
     "output_type": "stream",
     "text": [
      "Epoch 742, global step 74300: 'train_loss' was not in top 1\n"
     ]
    },
    {
     "name": "stdout",
     "output_type": "stream",
     "text": [
      "Epoch 743: |                                              | 100/? [00:17<00:00,  5.84it/s, v_num=3, train_loss=1.03e-5]"
     ]
    },
    {
     "name": "stderr",
     "output_type": "stream",
     "text": [
      "Epoch 743, global step 74400: 'train_loss' was not in top 1\n"
     ]
    },
    {
     "name": "stdout",
     "output_type": "stream",
     "text": [
      "Epoch 744: |                                              | 100/? [00:17<00:00,  5.82it/s, v_num=3, train_loss=1.03e-5]"
     ]
    },
    {
     "name": "stderr",
     "output_type": "stream",
     "text": [
      "Epoch 744, global step 74500: 'train_loss' was not in top 1\n"
     ]
    },
    {
     "name": "stdout",
     "output_type": "stream",
     "text": [
      "Epoch 745: |                                              | 100/? [00:17<00:00,  5.84it/s, v_num=3, train_loss=1.02e-5]"
     ]
    },
    {
     "name": "stderr",
     "output_type": "stream",
     "text": [
      "Epoch 745, global step 74600: 'train_loss' was not in top 1\n"
     ]
    },
    {
     "name": "stdout",
     "output_type": "stream",
     "text": [
      "Epoch 746: |                                              | 100/? [00:17<00:00,  5.84it/s, v_num=3, train_loss=1.03e-5]"
     ]
    },
    {
     "name": "stderr",
     "output_type": "stream",
     "text": [
      "Epoch 746, global step 74700: 'train_loss' was not in top 1\n"
     ]
    },
    {
     "name": "stdout",
     "output_type": "stream",
     "text": [
      "Epoch 747: |                                              | 100/? [00:17<00:00,  5.80it/s, v_num=3, train_loss=1.03e-5]"
     ]
    },
    {
     "name": "stderr",
     "output_type": "stream",
     "text": [
      "Epoch 747, global step 74800: 'train_loss' was not in top 1\n"
     ]
    },
    {
     "name": "stdout",
     "output_type": "stream",
     "text": [
      "Epoch 748: |                                              | 100/? [00:17<00:00,  5.84it/s, v_num=3, train_loss=1.04e-5]"
     ]
    },
    {
     "name": "stderr",
     "output_type": "stream",
     "text": [
      "Epoch 748, global step 74900: 'train_loss' was not in top 1\n"
     ]
    },
    {
     "name": "stdout",
     "output_type": "stream",
     "text": [
      "Epoch 749: |                                              | 100/? [00:17<00:00,  5.84it/s, v_num=3, train_loss=1.03e-5]"
     ]
    },
    {
     "name": "stderr",
     "output_type": "stream",
     "text": [
      "Epoch 749, global step 75000: 'train_loss' was not in top 1\n"
     ]
    },
    {
     "name": "stdout",
     "output_type": "stream",
     "text": [
      "Epoch 750: |                                              | 100/? [00:17<00:00,  5.84it/s, v_num=3, train_loss=1.03e-5]"
     ]
    },
    {
     "name": "stderr",
     "output_type": "stream",
     "text": [
      "Epoch 750, global step 75100: 'train_loss' was not in top 1\n"
     ]
    },
    {
     "name": "stdout",
     "output_type": "stream",
     "text": [
      "Epoch 751: |                                              | 100/? [00:17<00:00,  5.80it/s, v_num=3, train_loss=1.04e-5]"
     ]
    },
    {
     "name": "stderr",
     "output_type": "stream",
     "text": [
      "Epoch 751, global step 75200: 'train_loss' was not in top 1\n"
     ]
    },
    {
     "name": "stdout",
     "output_type": "stream",
     "text": [
      "Epoch 752: |                                              | 100/? [00:17<00:00,  5.83it/s, v_num=3, train_loss=1.04e-5]"
     ]
    },
    {
     "name": "stderr",
     "output_type": "stream",
     "text": [
      "Epoch 752, global step 75300: 'train_loss' was not in top 1\n"
     ]
    },
    {
     "name": "stdout",
     "output_type": "stream",
     "text": [
      "Epoch 753: |                                              | 100/? [00:17<00:00,  5.83it/s, v_num=3, train_loss=1.03e-5]"
     ]
    },
    {
     "name": "stderr",
     "output_type": "stream",
     "text": [
      "Epoch 753, global step 75400: 'train_loss' was not in top 1\n"
     ]
    },
    {
     "name": "stdout",
     "output_type": "stream",
     "text": [
      "Epoch 754: |                                              | 100/? [00:17<00:00,  5.81it/s, v_num=3, train_loss=1.04e-5]"
     ]
    },
    {
     "name": "stderr",
     "output_type": "stream",
     "text": [
      "Epoch 754, global step 75500: 'train_loss' was not in top 1\n"
     ]
    },
    {
     "name": "stdout",
     "output_type": "stream",
     "text": [
      "Epoch 755: |                                              | 100/? [00:17<00:00,  5.82it/s, v_num=3, train_loss=1.04e-5]"
     ]
    },
    {
     "name": "stderr",
     "output_type": "stream",
     "text": [
      "Epoch 755, global step 75600: 'train_loss' was not in top 1\n"
     ]
    },
    {
     "name": "stdout",
     "output_type": "stream",
     "text": [
      "Epoch 756: |                                              | 100/? [00:17<00:00,  5.85it/s, v_num=3, train_loss=1.03e-5]"
     ]
    },
    {
     "name": "stderr",
     "output_type": "stream",
     "text": [
      "Epoch 756, global step 75700: 'train_loss' was not in top 1\n"
     ]
    },
    {
     "name": "stdout",
     "output_type": "stream",
     "text": [
      "Epoch 757: |                                              | 100/? [00:17<00:00,  5.83it/s, v_num=3, train_loss=1.02e-5]"
     ]
    },
    {
     "name": "stderr",
     "output_type": "stream",
     "text": [
      "Epoch 757, global step 75800: 'train_loss' was not in top 1\n"
     ]
    },
    {
     "name": "stdout",
     "output_type": "stream",
     "text": [
      "Epoch 758: |                                              | 100/? [00:17<00:00,  5.83it/s, v_num=3, train_loss=1.03e-5]"
     ]
    },
    {
     "name": "stderr",
     "output_type": "stream",
     "text": [
      "Epoch 758, global step 75900: 'train_loss' was not in top 1\n"
     ]
    },
    {
     "name": "stdout",
     "output_type": "stream",
     "text": [
      "Epoch 759: |                                              | 100/? [00:17<00:00,  5.85it/s, v_num=3, train_loss=1.03e-5]"
     ]
    },
    {
     "name": "stderr",
     "output_type": "stream",
     "text": [
      "Epoch 759, global step 76000: 'train_loss' was not in top 1\n"
     ]
    },
    {
     "name": "stdout",
     "output_type": "stream",
     "text": [
      "Epoch 760: |                                              | 100/? [00:17<00:00,  5.83it/s, v_num=3, train_loss=1.03e-5]"
     ]
    },
    {
     "name": "stderr",
     "output_type": "stream",
     "text": [
      "Epoch 760, global step 76100: 'train_loss' was not in top 1\n"
     ]
    },
    {
     "name": "stdout",
     "output_type": "stream",
     "text": [
      "Epoch 761: |                                              | 100/? [00:17<00:00,  5.64it/s, v_num=3, train_loss=1.04e-5]"
     ]
    },
    {
     "name": "stderr",
     "output_type": "stream",
     "text": [
      "Epoch 761, global step 76200: 'train_loss' was not in top 1\n"
     ]
    },
    {
     "name": "stdout",
     "output_type": "stream",
     "text": [
      "Epoch 762: |                                              | 100/? [00:17<00:00,  5.72it/s, v_num=3, train_loss=1.03e-5]"
     ]
    },
    {
     "name": "stderr",
     "output_type": "stream",
     "text": [
      "Epoch 762, global step 76300: 'train_loss' was not in top 1\n"
     ]
    },
    {
     "name": "stdout",
     "output_type": "stream",
     "text": [
      "Epoch 763: |                                              | 100/? [00:17<00:00,  5.79it/s, v_num=3, train_loss=1.03e-5]"
     ]
    },
    {
     "name": "stderr",
     "output_type": "stream",
     "text": [
      "Epoch 763, global step 76400: 'train_loss' was not in top 1\n"
     ]
    },
    {
     "name": "stdout",
     "output_type": "stream",
     "text": [
      "Epoch 764: |                                              | 100/? [00:17<00:00,  5.78it/s, v_num=3, train_loss=1.03e-5]"
     ]
    },
    {
     "name": "stderr",
     "output_type": "stream",
     "text": [
      "Epoch 764, global step 76500: 'train_loss' was not in top 1\n"
     ]
    },
    {
     "name": "stdout",
     "output_type": "stream",
     "text": [
      "Epoch 765: |                                              | 100/? [00:17<00:00,  5.77it/s, v_num=3, train_loss=1.03e-5]"
     ]
    },
    {
     "name": "stderr",
     "output_type": "stream",
     "text": [
      "Epoch 765, global step 76600: 'train_loss' was not in top 1\n"
     ]
    },
    {
     "name": "stdout",
     "output_type": "stream",
     "text": [
      "Epoch 766: |                                              | 100/? [00:17<00:00,  5.80it/s, v_num=3, train_loss=1.03e-5]"
     ]
    },
    {
     "name": "stderr",
     "output_type": "stream",
     "text": [
      "Epoch 766, global step 76700: 'train_loss' was not in top 1\n"
     ]
    },
    {
     "name": "stdout",
     "output_type": "stream",
     "text": [
      "Epoch 767: |                                              | 100/? [00:17<00:00,  5.78it/s, v_num=3, train_loss=1.03e-5]"
     ]
    },
    {
     "name": "stderr",
     "output_type": "stream",
     "text": [
      "Epoch 767, global step 76800: 'train_loss' was not in top 1\n"
     ]
    },
    {
     "name": "stdout",
     "output_type": "stream",
     "text": [
      "Epoch 768: |                                              | 100/? [00:17<00:00,  5.76it/s, v_num=3, train_loss=1.03e-5]"
     ]
    },
    {
     "name": "stderr",
     "output_type": "stream",
     "text": [
      "Epoch 768, global step 76900: 'train_loss' was not in top 1\n"
     ]
    },
    {
     "name": "stdout",
     "output_type": "stream",
     "text": [
      "Epoch 769: |                                              | 100/? [00:17<00:00,  5.77it/s, v_num=3, train_loss=1.04e-5]"
     ]
    },
    {
     "name": "stderr",
     "output_type": "stream",
     "text": [
      "Epoch 769, global step 77000: 'train_loss' was not in top 1\n"
     ]
    },
    {
     "name": "stdout",
     "output_type": "stream",
     "text": [
      "Epoch 770: |                                              | 100/? [00:17<00:00,  5.82it/s, v_num=3, train_loss=1.04e-5]"
     ]
    },
    {
     "name": "stderr",
     "output_type": "stream",
     "text": [
      "Epoch 770, global step 77100: 'train_loss' was not in top 1\n"
     ]
    },
    {
     "name": "stdout",
     "output_type": "stream",
     "text": [
      "Epoch 771: |                                              | 100/? [00:17<00:00,  5.77it/s, v_num=3, train_loss=1.04e-5]"
     ]
    },
    {
     "name": "stderr",
     "output_type": "stream",
     "text": [
      "Epoch 771, global step 77200: 'train_loss' was not in top 1\n"
     ]
    },
    {
     "name": "stdout",
     "output_type": "stream",
     "text": [
      "Epoch 772: |                                              | 100/? [00:17<00:00,  5.78it/s, v_num=3, train_loss=1.04e-5]"
     ]
    },
    {
     "name": "stderr",
     "output_type": "stream",
     "text": [
      "Epoch 772, global step 77300: 'train_loss' was not in top 1\n"
     ]
    },
    {
     "name": "stdout",
     "output_type": "stream",
     "text": [
      "Epoch 773: |                                              | 100/? [00:17<00:00,  5.81it/s, v_num=3, train_loss=1.03e-5]"
     ]
    },
    {
     "name": "stderr",
     "output_type": "stream",
     "text": [
      "Epoch 773, global step 77400: 'train_loss' was not in top 1\n"
     ]
    },
    {
     "name": "stdout",
     "output_type": "stream",
     "text": [
      "Epoch 774: |                                              | 100/? [00:17<00:00,  5.84it/s, v_num=3, train_loss=1.03e-5]"
     ]
    },
    {
     "name": "stderr",
     "output_type": "stream",
     "text": [
      "Epoch 774, global step 77500: 'train_loss' was not in top 1\n"
     ]
    },
    {
     "name": "stdout",
     "output_type": "stream",
     "text": [
      "Epoch 775: |                                              | 100/? [00:17<00:00,  5.81it/s, v_num=3, train_loss=1.04e-5]"
     ]
    },
    {
     "name": "stderr",
     "output_type": "stream",
     "text": [
      "Epoch 775, global step 77600: 'train_loss' was not in top 1\n"
     ]
    },
    {
     "name": "stdout",
     "output_type": "stream",
     "text": [
      "Epoch 776: |                                              | 100/? [00:17<00:00,  5.66it/s, v_num=3, train_loss=1.03e-5]"
     ]
    },
    {
     "name": "stderr",
     "output_type": "stream",
     "text": [
      "Epoch 776, global step 77700: 'train_loss' was not in top 1\n"
     ]
    },
    {
     "name": "stdout",
     "output_type": "stream",
     "text": [
      "Epoch 777: |                                               | 58/? [00:10<00:00,  5.68it/s, v_num=3, train_loss=1.03e-5]"
     ]
    },
    {
     "name": "stderr",
     "output_type": "stream",
     "text": [
      "C:\\Users\\falty\\AppData\\Local\\Programs\\Python\\Python312\\Lib\\site-packages\\lightning\\pytorch\\trainer\\call.py:54: Detected KeyboardInterrupt, attempting graceful shutdown...\n",
      "The mean prediction is not stored in the forecast data; the median is being returned instead. This behaviour may change in the future.\n"
     ]
    },
    {
     "name": "stdout",
     "output_type": "stream",
     "text": [
      "Past Dynamic Features Training Shape: (36, 1878)\n",
      "Past Dynamic Features Test Shape: (36, 5)\n"
     ]
    }
   ],
   "source": [
    "import pandas as pd\n",
    "import numpy as np\n",
    "import torch\n",
    "\n",
    "from gluonts.dataset.common import ListDataset\n",
    "from gluonts.torch.model.tft import TemporalFusionTransformerEstimator\n",
    "from gluonts.transform.feature import MissingValueImputation\n",
    "\n",
    "torch.set_float32_matmul_precision('high')\n",
    "                                   \n",
    "# Assuming df is your DataFrame with the data\n",
    "target_column = 'ETH-BTC_High'  # Replace with your target column name\n",
    "\n",
    "# Ensure the DataFrame's index is a datetime index and set the frequency explicitly if needed\n",
    "df.index = pd.to_datetime(df.index)\n",
    "freq = \"D\"  # Set the frequency of your data, e.g., 'D' for daily. Adjust as needed.\n",
    "df = df.asfreq(freq)\n",
    "\n",
    "# Define the prediction length\n",
    "prediction_length = 5  # Set your prediction length\n",
    "\n",
    "# Select dynamic features from the DataFrame, excluding the target column\n",
    "past_dynamic_feature_columns = df.columns.drop(target_column)  # This excludes the target column\n",
    "\n",
    "# Extract dynamic features as a numpy array\n",
    "past_dynamic_features = df[past_dynamic_feature_columns].values.transpose()\n",
    "\n",
    "# Assuming all dynamic features are known in the future, adjust the dimensions accordingly\n",
    "past_dynamic_dims  = [1] * len(past_dynamic_feature_columns)  # Adjust based on actual dynamic features\n",
    "\n",
    "# Make sure the lengths match when creating ListDataset\n",
    "training_data = ListDataset([\n",
    "    {\n",
    "        \"start\": df.index[0],\n",
    "        \"target\": df[target_column][:-prediction_length],\n",
    "        \"past_feat_dynamic_real\": past_dynamic_features[:, :-prediction_length]\n",
    "    }\n",
    "], freq=freq)\n",
    "\n",
    "# Adjust the slicing for dynamic features for the test dataset to ensure correct dimensions\n",
    "test_past_dynamic_features_sliced = past_dynamic_features[:, -prediction_length:]\n",
    "\n",
    "test_data = ListDataset([\n",
    "    {\n",
    "        \"start\": df.index[-prediction_length],\n",
    "        \"target\": df[target_column][-prediction_length:].values,\n",
    "        \"past_feat_dynamic_real\": test_past_dynamic_features_sliced\n",
    "    }\n",
    "], freq=freq)\n",
    "\n",
    "# Initialize the Temporal Fusion Transformer Estimator\n",
    "estimator = TemporalFusionTransformerEstimator(\n",
    "    freq=freq,\n",
    "    prediction_length=prediction_length,\n",
    "    context_length=14,  # Optional: adjust based on your needs\n",
    "    num_heads=32,\n",
    "    hidden_dim=1024,\n",
    "    variable_dim=1024,\n",
    "    past_dynamic_dims= past_dynamic_dims,\n",
    "    quantiles=[0.1, 0.5, 0.9],  # Specifying the quantiles for forecasting\n",
    "    lr=0.001,\n",
    "    weight_decay=1e-08,\n",
    "    dropout_rate=0.1,\n",
    "    patience=10,\n",
    "    batch_size=128,\n",
    "    num_batches_per_epoch=100,\n",
    "    trainer_kwargs={'max_epochs': 1000},  # Adjust 'gpus' based on your setup\n",
    ")\n",
    "\n",
    "# Train the model\n",
    "predictor = estimator.train(training_data)\n",
    "\n",
    "# Debugging: Print dimensions to verify alignment\n",
    "print(f\"Past Dynamic Features Training Shape: {past_dynamic_features[:, :-prediction_length].shape}\")\n",
    "print(f\"Past Dynamic Features Test Shape: {test_past_dynamic_features_sliced.shape}\")\n",
    "\n",
    "# Collect actual and predicted values for evaluation, including percentiles\n",
    "actuals = df[target_column][-prediction_length:].values\n",
    "mean_predictions = []\n",
    "p10_predictions = []\n",
    "p50_predictions = []\n",
    "p90_predictions = []\n",
    "\n",
    "for forecast in predictor.predict(test_data):\n",
    "    mean_predictions.append(forecast.mean)\n",
    "    p10_predictions.append(forecast.quantile(0.1))\n",
    "    p50_predictions.append(forecast.quantile(0.5))  # Median\n",
    "    p90_predictions.append(forecast.quantile(0.9))\n",
    "\n",
    "# Convert lists to numpy arrays for slicing\n",
    "mean_predictions = np.array(mean_predictions).flatten()[:prediction_length]\n",
    "p10_predictions = np.array(p10_predictions).flatten()[:prediction_length]\n",
    "p50_predictions = np.array(p50_predictions).flatten()[:prediction_length]\n",
    "p90_predictions = np.array(p90_predictions).flatten()[:prediction_length]\n"
   ]
  },
  {
   "cell_type": "code",
   "execution_count": 6,
   "id": "d5edfd4f-da3d-4ba5-ac72-637c722c6442",
   "metadata": {},
   "outputs": [
    {
     "data": {
      "image/png": "[encoded data removed]",
      "text/plain": [
       "<Figure size 1200x600 with 1 Axes>"
      ]
     },
     "metadata": {},
     "output_type": "display_data"
    }
   ],
   "source": [
    "import pandas as pd\n",
    "import matplotlib.pyplot as plt\n",
    "\n",
    "# Assuming df is your DataFrame with the data, and it's sorted by the index (date)\n",
    "target_column = 'ETH-BTC_High'  # Ensure this matches your actual target column name\n",
    "# Assuming the DataFrame's index is a datetime index and sorted\n",
    "end_training = df.index[-prediction_length]  # Assuming prediction_length is defined earlier\n",
    "\n",
    "# Ensure forecast_start_date is a datetime object and exists in df.index\n",
    "forecast_start_date = end_training \n",
    "\n",
    "# Plot the forecast and actual values starting from the forecast start date\n",
    "plt.figure(figsize=(12, 6))\n",
    "\n",
    "# Plot actual values from the start of the forecast\n",
    "actuals_start_index = df.index.get_loc(forecast_start_date)\n",
    "plt.plot(df.index[actuals_start_index:], df[target_column][actuals_start_index:], label=\"True values\", color=\"black\")\n",
    "\n",
    "# Assuming mean_predictions, p10_predictions, p50_predictions, p90_predictions are defined from the forecasting model\n",
    "# Plot forecast values\n",
    "forecast_index = pd.date_range(start=forecast_start_date, periods=prediction_length, freq=freq)  # freq should be defined as per your data's frequency\n",
    "plt.plot(forecast_index, mean_predictions, color='red', linestyle='--', label=\"Forecast (mean)\")\n",
    "plt.fill_between(forecast_index, p10_predictions, p90_predictions, color='red', alpha=0.3, label=\"P10-P90 interval\")\n",
    "plt.fill_between(forecast_index, p10_predictions, p50_predictions, color='red', alpha=0.5, label=\"P10-P50 interval\")\n",
    "plt.fill_between(forecast_index, p50_predictions, p90_predictions, color='red', alpha=0.5, label=\"P50-P90 interval\")\n",
    "\n",
    "# Add a vertical line and other plot elements\n",
    "plt.axvline(x=forecast_start_date, color='blue', linestyle='--', label='Start of forecast')\n",
    "plt.legend(loc=\"upper left\", fontsize=\"large\")\n",
    "plt.title('Forecast vs Actual Values from Forecast Start')\n",
    "plt.xlabel('Date')\n",
    "plt.ylabel('Value')\n",
    "plt.tight_layout()\n",
    "plt.show()\n"
   ]
  },
  {
   "cell_type": "code",
   "execution_count": 7,
   "id": "960df258-1313-46e2-92ba-0d8b39afa15e",
   "metadata": {},
   "outputs": [
    {
     "data": {
      "text/html": [
       "<div>\n",
       "<style scoped>\n",
       "    .dataframe tbody tr th:only-of-type {\n",
       "        vertical-align: middle;\n",
       "    }\n",
       "\n",
       "    .dataframe tbody tr th {\n",
       "        vertical-align: top;\n",
       "    }\n",
       "\n",
       "    .dataframe thead th {\n",
       "        text-align: right;\n",
       "    }\n",
       "</style>\n",
       "<table border=\"1\" class=\"dataframe\">\n",
       "  <thead>\n",
       "    <tr style=\"text-align: right;\">\n",
       "      <th></th>\n",
       "      <th>ETH-BTC_High</th>\n",
       "      <th>ETH-BTC_Low</th>\n",
       "      <th>ETH-CAD_High</th>\n",
       "      <th>ETH-CAD_Low</th>\n",
       "      <th>BTC-CAD_High</th>\n",
       "      <th>BTC-CAD_Low</th>\n",
       "      <th>Global_Liquidity_Index</th>\n",
       "      <th>btc_AdrBalNtv0.01Cnt</th>\n",
       "      <th>btc_AdrBalNtv0.1Cnt</th>\n",
       "      <th>btc_AdrBalNtv1Cnt</th>\n",
       "      <th>...</th>\n",
       "      <th>eth_CapRealUSD</th>\n",
       "      <th>eth_FeeByteMeanNtv</th>\n",
       "      <th>eth_FlowInExNtv</th>\n",
       "      <th>eth_FlowOutExNtv</th>\n",
       "      <th>eth_FlowTfrFromExCnt</th>\n",
       "      <th>eth_NDF</th>\n",
       "      <th>eth_SplyAct1d</th>\n",
       "      <th>eth_SplyActPct1yr</th>\n",
       "      <th>eth_TxCnt</th>\n",
       "      <th>eth_VelCur1yr</th>\n",
       "    </tr>\n",
       "  </thead>\n",
       "  <tbody>\n",
       "    <tr>\n",
       "      <th>2024-02-22</th>\n",
       "      <td>0.057708</td>\n",
       "      <td>0.056463</td>\n",
       "      <td>4080.433105</td>\n",
       "      <td>3889.075195</td>\n",
       "      <td>70823.007812</td>\n",
       "      <td>68408.390625</td>\n",
       "      <td>149267.862256</td>\n",
       "      <td>12514606.0</td>\n",
       "      <td>4557892.0</td>\n",
       "      <td>1018084.0</td>\n",
       "      <td>...</td>\n",
       "      <td>177970045703.737518</td>\n",
       "      <td>0.000005</td>\n",
       "      <td>338244.178803</td>\n",
       "      <td>369824.650815</td>\n",
       "      <td>115266.0</td>\n",
       "      <td>0.680495</td>\n",
       "      <td>12715855.813516</td>\n",
       "      <td>35.492136</td>\n",
       "      <td>1082822.0</td>\n",
       "      <td>6.038789</td>\n",
       "    </tr>\n",
       "    <tr>\n",
       "      <th>2024-02-23</th>\n",
       "      <td>0.058400</td>\n",
       "      <td>0.056821</td>\n",
       "      <td>4086.931885</td>\n",
       "      <td>3920.955078</td>\n",
       "      <td>70136.312500</td>\n",
       "      <td>68749.429688</td>\n",
       "      <td>148970.534800</td>\n",
       "      <td>12502806.0</td>\n",
       "      <td>4557570.0</td>\n",
       "      <td>1018299.0</td>\n",
       "      <td>...</td>\n",
       "      <td>177548830056.101593</td>\n",
       "      <td>0.000004</td>\n",
       "      <td>252603.100873</td>\n",
       "      <td>277404.199378</td>\n",
       "      <td>123997.0</td>\n",
       "      <td>0.680803</td>\n",
       "      <td>11815753.076549</td>\n",
       "      <td>35.465276</td>\n",
       "      <td>1159988.0</td>\n",
       "      <td>6.035038</td>\n",
       "    </tr>\n",
       "    <tr>\n",
       "      <th>2024-02-24</th>\n",
       "      <td>0.058169</td>\n",
       "      <td>0.057328</td>\n",
       "      <td>4035.814941</td>\n",
       "      <td>3928.526855</td>\n",
       "      <td>69447.539062</td>\n",
       "      <td>68190.140625</td>\n",
       "      <td>145602.136981</td>\n",
       "      <td>12500030.0</td>\n",
       "      <td>4558351.0</td>\n",
       "      <td>1018191.0</td>\n",
       "      <td>...</td>\n",
       "      <td>178232114484.84201</td>\n",
       "      <td>0.000002</td>\n",
       "      <td>155983.333289</td>\n",
       "      <td>186391.16255</td>\n",
       "      <td>108806.0</td>\n",
       "      <td>0.680875</td>\n",
       "      <td>11198452.093627</td>\n",
       "      <td>35.44651</td>\n",
       "      <td>1101339.0</td>\n",
       "      <td>6.028215</td>\n",
       "    </tr>\n",
       "    <tr>\n",
       "      <th>2024-02-25</th>\n",
       "      <td>0.058235</td>\n",
       "      <td>0.057437</td>\n",
       "      <td>4050.259277</td>\n",
       "      <td>3921.470459</td>\n",
       "      <td>69703.890625</td>\n",
       "      <td>68222.062500</td>\n",
       "      <td>145897.798533</td>\n",
       "      <td>12490326.0</td>\n",
       "      <td>4557653.0</td>\n",
       "      <td>1018266.0</td>\n",
       "      <td>...</td>\n",
       "      <td>179512181502.223663</td>\n",
       "      <td>0.000002</td>\n",
       "      <td>227567.047768</td>\n",
       "      <td>215196.061444</td>\n",
       "      <td>105301.0</td>\n",
       "      <td>0.681513</td>\n",
       "      <td>10462790.19109</td>\n",
       "      <td>35.402746</td>\n",
       "      <td>1102202.0</td>\n",
       "      <td>6.025079</td>\n",
       "    </tr>\n",
       "    <tr>\n",
       "      <th>2024-02-26</th>\n",
       "      <td>0.060071</td>\n",
       "      <td>0.057951</td>\n",
       "      <td>4208.451172</td>\n",
       "      <td>4024.901611</td>\n",
       "      <td>70131.234375</td>\n",
       "      <td>69194.062500</td>\n",
       "      <td>149631.566801</td>\n",
       "      <td>12500995.0</td>\n",
       "      <td>4562917.0</td>\n",
       "      <td>1017891.0</td>\n",
       "      <td>...</td>\n",
       "      <td>181001520683.269318</td>\n",
       "      <td>0.000004</td>\n",
       "      <td>396160.919196</td>\n",
       "      <td>385839.833249</td>\n",
       "      <td>119630.0</td>\n",
       "      <td>0.681429</td>\n",
       "      <td>12008606.912186</td>\n",
       "      <td>35.529806</td>\n",
       "      <td>1187460.0</td>\n",
       "      <td>6.035505</td>\n",
       "    </tr>\n",
       "  </tbody>\n",
       "</table>\n",
       "<p>5 rows × 37 columns</p>\n",
       "</div>"
      ],
      "text/plain": [
       "            ETH-BTC_High  ETH-BTC_Low  ETH-CAD_High  ETH-CAD_Low  \\\n",
       "2024-02-22      0.057708     0.056463   4080.433105  3889.075195   \n",
       "2024-02-23      0.058400     0.056821   4086.931885  3920.955078   \n",
       "2024-02-24      0.058169     0.057328   4035.814941  3928.526855   \n",
       "2024-02-25      0.058235     0.057437   4050.259277  3921.470459   \n",
       "2024-02-26      0.060071     0.057951   4208.451172  4024.901611   \n",
       "\n",
       "            BTC-CAD_High   BTC-CAD_Low  Global_Liquidity_Index  \\\n",
       "2024-02-22  70823.007812  68408.390625           149267.862256   \n",
       "2024-02-23  70136.312500  68749.429688           148970.534800   \n",
       "2024-02-24  69447.539062  68190.140625           145602.136981   \n",
       "2024-02-25  69703.890625  68222.062500           145897.798533   \n",
       "2024-02-26  70131.234375  69194.062500           149631.566801   \n",
       "\n",
       "            btc_AdrBalNtv0.01Cnt  btc_AdrBalNtv0.1Cnt  btc_AdrBalNtv1Cnt  ...  \\\n",
       "2024-02-22            12514606.0            4557892.0          1018084.0  ...   \n",
       "2024-02-23            12502806.0            4557570.0          1018299.0  ...   \n",
       "2024-02-24            12500030.0            4558351.0          1018191.0  ...   \n",
       "2024-02-25            12490326.0            4557653.0          1018266.0  ...   \n",
       "2024-02-26            12500995.0            4562917.0          1017891.0  ...   \n",
       "\n",
       "                 eth_CapRealUSD  eth_FeeByteMeanNtv  eth_FlowInExNtv  \\\n",
       "2024-02-22  177970045703.737518            0.000005    338244.178803   \n",
       "2024-02-23  177548830056.101593            0.000004    252603.100873   \n",
       "2024-02-24   178232114484.84201            0.000002    155983.333289   \n",
       "2024-02-25  179512181502.223663            0.000002    227567.047768   \n",
       "2024-02-26  181001520683.269318            0.000004    396160.919196   \n",
       "\n",
       "            eth_FlowOutExNtv  eth_FlowTfrFromExCnt   eth_NDF    eth_SplyAct1d  \\\n",
       "2024-02-22     369824.650815              115266.0  0.680495  12715855.813516   \n",
       "2024-02-23     277404.199378              123997.0  0.680803  11815753.076549   \n",
       "2024-02-24      186391.16255              108806.0  0.680875  11198452.093627   \n",
       "2024-02-25     215196.061444              105301.0  0.681513   10462790.19109   \n",
       "2024-02-26     385839.833249              119630.0  0.681429  12008606.912186   \n",
       "\n",
       "            eth_SplyActPct1yr  eth_TxCnt  eth_VelCur1yr  \n",
       "2024-02-22          35.492136  1082822.0       6.038789  \n",
       "2024-02-23          35.465276  1159988.0       6.035038  \n",
       "2024-02-24           35.44651  1101339.0       6.028215  \n",
       "2024-02-25          35.402746  1102202.0       6.025079  \n",
       "2024-02-26          35.529806  1187460.0       6.035505  \n",
       "\n",
       "[5 rows x 37 columns]"
      ]
     },
     "execution_count": 7,
     "metadata": {},
     "output_type": "execute_result"
    }
   ],
   "source": [
    "last_row = df.iloc[-prediction_length:, :]\n",
    "last_row"
   ]
  },
  {
   "cell_type": "code",
   "execution_count": 8,
   "id": "e53cc2ba-d3a8-4bfe-9945-bc79f261cabd",
   "metadata": {},
   "outputs": [
    {
     "data": {
      "text/plain": [
       "array([0.05811402, 0.05817998, 0.05782542, 0.0574012 , 0.05817343],\n",
       "      dtype=float32)"
      ]
     },
     "execution_count": 8,
     "metadata": {},
     "output_type": "execute_result"
    }
   ],
   "source": [
    "p50_predictions"
   ]
  },
  {
   "cell_type": "code",
   "execution_count": 9,
   "id": "2d0fd538-c47b-4b5a-9131-a6f5995b01c5",
   "metadata": {},
   "outputs": [
    {
     "name": "stdout",
     "output_type": "stream",
     "text": [
      "Evaluation Metrics for Mean Predictions:\n",
      "MAE: 0.00\n",
      "RMSE: 0.00\n",
      "MAPE: 1.25%\n",
      "sMAPE: 1.26%\n",
      "Percentage of Actuals within P10-P90 Interval: 0.00%\n"
     ]
    }
   ],
   "source": [
    "# Function to calculate sMAPE\n",
    "def calculate_smape(forecasts, actuals):\n",
    "    return 100 * np.mean(2 * np.abs(forecasts - actuals) / (np.abs(actuals) + np.abs(forecasts)))\n",
    "\n",
    "# Calculate standard evaluation metrics for mean predictions\n",
    "mae = np.mean(np.abs(mean_predictions - actuals))\n",
    "rmse = np.sqrt(np.mean(np.square(mean_predictions - actuals)))\n",
    "mape = np.mean(np.abs((mean_predictions - actuals) / actuals)) * 100\n",
    "smape = calculate_smape(mean_predictions, actuals)\n",
    "\n",
    "# Calculate the percentage of actuals within the 10th to 90th percentile range\n",
    "within_range = np.sum((actuals >= p10_predictions) & (actuals <= p90_predictions)) / len(actuals) * 100\n",
    "\n",
    "print(\"Evaluation Metrics for Mean Predictions:\")\n",
    "print(f\"MAE: {mae:.2f}\")\n",
    "print(f\"RMSE: {rmse:.2f}\")\n",
    "print(f\"MAPE: {mape:.2f}%\")\n",
    "print(f\"sMAPE: {smape:.2f}%\")\n",
    "print(f\"Percentage of Actuals within P10-P90 Interval: {within_range:.2f}%\")\n"
   ]
  },
  {
   "cell_type": "code",
   "execution_count": 10,
   "id": "5fa71034-caf4-433e-ae72-05fa5395ee1d",
   "metadata": {},
   "outputs": [
    {
     "name": "stdout",
     "output_type": "stream",
     "text": [
      "Model saved to dobby_high.pth\n"
     ]
    }
   ],
   "source": [
    "import os\n",
    "import torch\n",
    "\n",
    "# Define a path to save the model\n",
    "model_save_path = 'dobby_high.pth'\n",
    "\n",
    "# Assuming 'predictor' is the trained model from DeepAREstimator\n",
    "torch.save(predictor, model_save_path)\n",
    "\n",
    "print(f'Model saved to {model_save_path}')\n"
   ]
  }
 ],
 "metadata": {
  "kernelspec": {
   "display_name": "Python 3 (ipykernel)",
   "language": "python",
   "name": "python3"
  },
  "language_info": {
   "codemirror_mode": {
    "name": "ipython",
    "version": 3
   },
   "file_extension": ".py",
   "mimetype": "text/x-python",
   "name": "python",
   "nbconvert_exporter": "python",
   "pygments_lexer": "ipython3",
   "version": "3.12.2"
  }
 },
 "nbformat": 4,
 "nbformat_minor": 5
}
