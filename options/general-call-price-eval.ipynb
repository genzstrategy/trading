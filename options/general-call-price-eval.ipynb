{
 "cells": [
  {
   "cell_type": "markdown",
   "id": "06d47f7e-da52-4fc3-bea2-7caf01d1d389",
   "metadata": {},
   "source": [
    "# General Call Price Evaluation "
   ]
  },
  {
   "cell_type": "markdown",
   "id": "8e57d163-5fcd-46fb-87d9-1709d1e1107b",
   "metadata": {},
   "source": [
    "## Get Prices"
   ]
  },
  {
   "cell_type": "code",
   "execution_count": null,
   "id": "a6be0287-26b6-4ebb-af45-fbb3620c874d",
   "metadata": {},
   "outputs": [],
   "source": [
    "import yfinance as yf\n",
    "import pandas as pd\n",
    "\n",
    "# Define the ticker symbol for which you want the options chain\n",
    "ticker_symbol = \"BITF.TO\"\n",
    "\n",
    "# Create a Ticker object using yfinance\n",
    "ticker = yf.Ticker(ticker_symbol)\n",
    "\n",
    "# Get options expiration dates\n",
    "options_expirations = ticker.options\n",
    "\n",
    "# Initialize an empty DataFrame for the options data\n",
    "df = pd.DataFrame()\n",
    "\n",
    "# Loop through each expiration date and collect options data\n",
    "for expiration in options_expirations:\n",
    "    # Get the option chain for the given expiration\n",
    "    opt_chain = ticker.option_chain(expiration)\n",
    "\n",
    "    # Extract calls \n",
    "    calls = opt_chain.calls\n",
    "\n",
    "    # Add an 'Expiration' column to calls \n",
    "    calls['Expiration'] = expiration\n",
    "\n",
    "    # Append the data to the options_data DataFrame\n",
    "    df = pd.concat([df, calls], ignore_index=True)\n",
    "\n",
    "# Convert 'Expiration' to datetime format and optionally format it\n",
    "df['Date'] = pd.to_datetime(df['Expiration']).dt.strftime('%Y-%m-%d')\n",
    "\n",
    "# Display the first few rows of the DataFrame\n",
    "df\n"
   ]
  },
  {
   "cell_type": "markdown",
   "id": "d3a12346-f7eb-49f3-b95e-2a61d1b18d0e",
   "metadata": {},
   "source": [
    "## Date of Interest"
   ]
  },
  {
   "cell_type": "code",
   "execution_count": null,
   "id": "f1a11549-af3a-4d36-8eef-82024b85783d",
   "metadata": {},
   "outputs": [],
   "source": [
    "target_date = '2026-01-16'\n",
    "\n",
    "filtered_df = df[df['Date'] == target_date]\n",
    "\n",
    "# Sort by 'Strike' column from lowest to highest\n",
    "filtered_df = filtered_df.sort_values(by='strike')\n",
    "\n",
    "# Convert filtered DataFrame to list of tuples (Strike, Ask Price)\n",
    "options = list(filtered_df[['strike', 'ask']].dropna().apply(tuple, axis=1))\n",
    "\n",
    "print(\"Options for\", target_date, \":\", options)"
   ]
  },
  {
   "cell_type": "markdown",
   "id": "792be7cc-760e-4046-843e-289fb09e185f",
   "metadata": {},
   "source": [
    "## Data & Params"
   ]
  },
  {
   "cell_type": "code",
   "execution_count": 8,
   "id": "dfe1a9d4-2242-4c7d-ac40-921bb8ddfdf1",
   "metadata": {},
   "outputs": [
    {
     "name": "stderr",
     "output_type": "stream",
     "text": [
      "[*********************100%%**********************]  1 of 1 completed\n",
      "C:\\Users\\falty\\AppData\\Local\\Temp\\ipykernel_1304\\4211646061.py:14: SettingWithCopyWarning: \n",
      "A value is trying to be set on a copy of a slice from a DataFrame.\n",
      "Try using .loc[row_indexer,col_indexer] = value instead\n",
      "\n",
      "See the caveats in the documentation: https://pandas.pydata.org/pandas-docs/stable/user_guide/indexing.html#returning-a-view-versus-a-copy\n",
      "  data['Daily_Return'] = data['Close'].pct_change()\n"
     ]
    }
   ],
   "source": [
    "# All options expire on January 16th 2026\n",
    "\n",
    "import yfinance as yf\n",
    "import pandas as pd\n",
    "import numpy as np\n",
    "from datetime import datetime, timedelta\n",
    "import pytz\n",
    "\n",
    "# Retrieve historical data\n",
    "start_time = (datetime.now(pytz.timezone('US/Pacific')) - timedelta(days=365*4)).strftime('%Y-%m-%d')\n",
    "end_time = (datetime.now(pytz.timezone('US/Pacific'))).strftime('%Y-%m-%d')\n",
    "\n",
    "data = yf.download(ticker_symbol, start=start_time, end=end_time, interval=\"1d\")[['Close']]\n",
    "data['Daily_Return'] = data['Close'].pct_change()\n",
    "\n",
    "daily_volatility = data['Daily_Return'].std()\n",
    "annualized_volatility = daily_volatility * np.sqrt(252)"
   ]
  },
  {
   "cell_type": "markdown",
   "id": "09c22a22-3d86-4e5b-8937-f1b1e947cc6f",
   "metadata": {},
   "source": [
    "## Profit Based on Final Stock Price"
   ]
  },
  {
   "cell_type": "code",
   "execution_count": 11,
   "id": "4afe0b97-4fb3-47d7-97ea-7cc807a8382c",
   "metadata": {},
   "outputs": [
    {
     "name": "stdout",
     "output_type": "stream",
     "text": [
      "Final stock price: $31.60\n",
      "Profit from buying and holding the stock: $44992.08\n",
      "Profit from option with strike $0.5 and ask price $3.0: $44960.00\n",
      "Profit from option with strike $1.0 and ask price $2.7: $50220.00\n",
      "Profit from option with strike $1.5 and ask price $4.6: $25500.00\n",
      "Profit from option with strike $2.0 and ask price $4.7: $24900.00\n",
      "Profit from option with strike $2.5 and ask price $3.3: $38700.00\n",
      "Profit from option with strike $3.0 and ask price $4.5: $26510.00\n",
      "Profit from option with strike $3.5 and ask price $2.3: $54180.00\n",
      "Profit from option with strike $4.0 and ask price $2.25: $55770.00\n",
      "Profit from option with strike $4.5 and ask price $4.3: $25080.00\n",
      "Profit from option with strike $5.0 and ask price $2.05: $58920.00\n",
      "Profit from option with strike $5.5 and ask price $4.2: $24090.00\n",
      "Profit from option with strike $7.0 and ask price $1.95: $56625.00\n",
      "Profit from option with strike $10.0 and ask price $1.75: $55580.00\n"
     ]
    }
   ],
   "source": [
    "# BTCC-B.TO Call Option Price Evaluation\n",
    "\n",
    "risk_free_rate = 0.045\n",
    "initial_capital = 5_000\n",
    "current_stock_price = data['Close'].iloc[-1]  \n",
    "final_stock_price = current_stock_price * 10\n",
    "num_shares_per_option = 100\n",
    "\n",
    "# Function to calculate profit for buying and holding the stock\n",
    "def calculate_stock_profit(initial_capital, current_price, final_price):\n",
    "    num_shares = initial_capital // current_price\n",
    "    return num_shares * (final_price - current_price)\n",
    "\n",
    "# Function to calculate profit for each option scenario\n",
    "def calculate_option_profit(initial_capital, strike, ask_price, final_price):\n",
    "    num_options = initial_capital // (ask_price * num_shares_per_option)\n",
    "    profit_per_option = max(0, final_price - strike) - ask_price\n",
    "    return num_options * profit_per_option * num_shares_per_option\n",
    "\n",
    "# Print final stock price\n",
    "print(f\"Final stock price: ${final_stock_price:.2f}\")\n",
    "\n",
    "# Calculate profit for buying and holding\n",
    "stock_profit = calculate_stock_profit(initial_capital, current_stock_price, final_stock_price)\n",
    "print(f\"Profit from buying and holding the stock: ${stock_profit:.2f}\")\n",
    "\n",
    "# Calculate and display profit for each option scenario\n",
    "for strike, ask_price in options:\n",
    "    option_profit = calculate_option_profit(initial_capital, strike, ask_price, final_stock_price)\n",
    "    print(f\"Profit from option with strike ${strike} and ask price ${ask_price}: ${option_profit:.2f}\")\n"
   ]
  },
  {
   "cell_type": "markdown",
   "id": "70942e0d-9bfc-4a91-b319-89b10c4ce15d",
   "metadata": {},
   "source": [
    "## Binomial Tree"
   ]
  },
  {
   "cell_type": "code",
   "execution_count": null,
   "id": "129f1696-708f-478f-9e38-d8a203157113",
   "metadata": {},
   "outputs": [],
   "source": [
    "import numpy as np\n",
    "from scipy.stats import skew, kurtosis\n",
    "from scipy.stats import norm\n",
    "\n",
    "# Assuming data['Daily_Return'] contains the daily returns\n",
    "historical_volatility = np.std(np.log(1 + data['Daily_Return'].dropna())) * np.sqrt(252)  # Annualized using trading days in a year\n",
    "mean_return = np.mean(data['Daily_Return'].dropna()) * 252  # Annualized\n",
    "\n",
    "historical_skewness = skew(data['Daily_Return'].dropna())\n",
    "historical_kurtosis = kurtosis(data['Daily_Return'].dropna(), fisher=False)\n",
    "\n",
    "def binomial_tree_option_price(S, K, T_days, r, sigma, N=20_000, dividends=0, skew=0, kurtosis=0, drift=0):\n",
    "    T = T_days / 252  # Convert days to years\n",
    "    dt = T / N\n",
    "    u = np.exp((drift - 0.5 * sigma**2) * dt + sigma * np.sqrt(dt))  # Incorporating drift\n",
    "    d = 1 / u\n",
    "    p = (np.exp((r - dividends) * dt) - d) / (u - d)\n",
    "\n",
    "    p += skew * 0.001 * (1 - 2 * p) + kurtosis * 0.0005 * (1 - 2 * p)\n",
    "    p = min(max(p, 0), 1)\n",
    "\n",
    "    prices = S * d**np.arange(N, -1, -1) * u**np.arange(0, N+1, 1)\n",
    "    option_values = np.maximum(prices - K, 0)\n",
    "\n",
    "    discount_factor = np.exp(-r * dt)\n",
    "    for i in range(N - 1, -1, -1):\n",
    "        option_values[:i+1] = (p * option_values[1:i+2] + (1 - p) * option_values[:i+1]) * discount_factor\n",
    "        # For American options, compare with early exercise\n",
    "        option_values[:i+1] = np.maximum(option_values[:i+1], prices[:i+1] - K)\n",
    "\n",
    "    return option_values[0]"
   ]
  },
  {
   "cell_type": "markdown",
   "id": "6ff35862-ac55-4e84-b7be-97cb690164f8",
   "metadata": {},
   "source": [
    "### Price Specific Date"
   ]
  },
  {
   "cell_type": "code",
   "execution_count": null,
   "id": "7c1abd20-8e13-43ed-9367-1b753fc59678",
   "metadata": {},
   "outputs": [],
   "source": [
    "# Example usage:\n",
    "risk_free_rate = 0.05  # Example rate\n",
    "T_days = 6  # days until expiration\n",
    "N = 100  # number of steps\n",
    "\n",
    "# Example usage\n",
    "for strike, ask_price in options:\n",
    "    option_price = binomial_tree_option_price(\n",
    "        current_stock_price, strike, T_days, risk_free_rate, historical_volatility, N,\n",
    "        dividends=0, skew=historical_skewness, kurtosis=historical_kurtosis, drift=mean_return\n",
    "    )\n",
    "    print(f\"Call Option Price for strike {strike}: ${option_price:.2f}\")"
   ]
  },
  {
   "cell_type": "markdown",
   "id": "04e78d11-e7cb-40ce-9356-d65f4721f6eb",
   "metadata": {},
   "source": [
    "### Look for Undervalued Calls"
   ]
  },
  {
   "cell_type": "code",
   "execution_count": null,
   "id": "a065e497-5a9b-45e1-923e-b3f54d536357",
   "metadata": {},
   "outputs": [],
   "source": [
    "N = 5_000\n",
    "\n",
    "for date in df['Date'].unique():\n",
    "    T_days = (date - pd.Timestamp.now()).days  # Calculate days to expiration\n",
    "    options_on_date = df[df['Date'] == date]\n",
    "    options = list(options_on_date[['Strike', 'Ask']].dropna().apply(tuple, axis=1))\n",
    "\n",
    "    for strike, ask_price in options:\n",
    "        option_price = binomial_tree_option_price(\n",
    "            current_stock_price, strike, T_days, risk_free_rate, historical_volatility, N,\n",
    "            dividends=0, skew=historical_skewness, kurtosis=historical_kurtosis, drift=mean_return\n",
    "        )\n",
    "\n",
    "        if ask_price < option_price:\n",
    "            print(f\"Underpriced Call Option for expiration {date.strftime('%Y-%m-%d')}, strike {strike}: Calculated Price: ${option_price:.2f}, Ask Price: ${ask_price}\")"
   ]
  },
  {
   "cell_type": "markdown",
   "id": "635d8096-25bc-49a6-b441-0cd16cb0777e",
   "metadata": {},
   "source": [
    "## Monte-Carlo Simulation "
   ]
  },
  {
   "cell_type": "code",
   "execution_count": null,
   "id": "33f4a8bf-3838-4f31-a0bf-7ee367c2546c",
   "metadata": {},
   "outputs": [],
   "source": [
    "%%time\n",
    "import numpy as np\n",
    "import pandas as pd\n",
    "import yfinance as yf\n",
    "from datetime import datetime, timedelta\n",
    "import pytz\n",
    "from numba import jit, prange\n",
    "\n",
    "# Calculate log returns\n",
    "log_returns = np.log(data['Close'] / data['Close'].shift(1)).dropna()\n",
    "\n",
    "# Identify jumps\n",
    "jump_threshold = 3 * np.std(log_returns)  # Example threshold\n",
    "jumps = log_returns[abs(log_returns) > jump_threshold]\n",
    "\n",
    "# Estimate lambda (jump intensity)\n",
    "lambda_ = len(jumps) / (len(log_returns) / 365)  # Number of jumps per year\n",
    "\n",
    "# Estimate mu_J and sigma_J (jump size parameters)\n",
    "# We use the jumps themselves, not the ratio to their lagged values\n",
    "mu_J = np.mean(jumps)\n",
    "sigma_J = np.std(jumps)\n",
    "\n",
    "@jit(nopython=True, parallel=True)  # Enable JIT compilation with parallel execution\n",
    "def monte_carlo_option_price(S, K, T_months, r, sigma, lambda_, mu_J, sigma_J, num_paths=10000, num_steps=100, skew=0, kurtosis=0):\n",
    "    \"\"\"\n",
    "    Monte Carlo simulation for European call option pricing with jump diffusion.\n",
    "\n",
    "    Parameters:\n",
    "    S (float): Current stock price.\n",
    "    K (float): Strike price of the option.\n",
    "    T_months (int): Time to maturity in months.\n",
    "    r (float): Risk-free interest rate.\n",
    "    sigma (float): Volatility of the underlying asset.\n",
    "    lambda_ (float): Jump intensity, representing the frequency of jumps.\n",
    "    mu_J (float): Mean of the logarithm of the jump size.\n",
    "    sigma_J (float): Standard deviation of the logarithm of the jump size.\n",
    "    num_paths (int): Number of simulated paths in the Monte Carlo simulation.\n",
    "    num_steps (int): Number of time steps in each simulated path.\n",
    "    skew (float): Skewness of the asset returns. Defaults to 0 for no skew.\n",
    "    kurtosis (float): Kurtosis of the asset returns. Defaults to 0 for normal kurtosis.\n",
    "\n",
    "    Returns:\n",
    "    float: Estimated price of the European call option.\n",
    "    \"\"\"\n",
    "    T = T_months / 365  # Convert maturity from months to years\n",
    "    dt = T / num_steps  # Time step for simulation\n",
    "    discount_factor = np.exp(-r * T)  # Discount factor for present value\n",
    "\n",
    "    payoffs = np.zeros(num_paths)  # Initialize array for option payoffs\n",
    "    for i in prange(num_paths):  # Parallel loop for each path\n",
    "        S_t = S  # Initial stock price for this path\n",
    "        for j in range(num_steps):  # Time step loop\n",
    "            z = np.random.normal()  # Standard normal random variable\n",
    "            shock = z + skew * (z ** 2 - 1)  # Adjust random variable for skew and kurtosis\n",
    "            num_jumps = np.random.poisson(lambda_ * dt)  # Poisson process for number of jumps\n",
    "            jump_sum = np.sum(np.random.lognormal(mu_J, sigma_J, num_jumps) - 1)  # Sum of jump sizes\n",
    "            S_t *= np.exp((r - 0.5 * sigma ** 2) * dt + sigma * np.sqrt(dt) * shock + jump_sum)  # Stock price update\n",
    "        payoffs[i] = max(S_t - K, 0)  # Call option payoff for this path\n",
    "\n",
    "    return discount_factor * np.mean(payoffs)  # Average discounted payoff\n",
    "\n"
   ]
  },
  {
   "cell_type": "markdown",
   "id": "fdcd885a-b1e2-4eb5-9472-01034fbb3bc5",
   "metadata": {},
   "source": [
    "### Price Specific Date"
   ]
  },
  {
   "cell_type": "code",
   "execution_count": null,
   "id": "692b75a7-3e6d-4c4f-85b4-461fd7e1dff6",
   "metadata": {},
   "outputs": [],
   "source": [
    "# Example usage\n",
    "for strike, ask_price in options:\n",
    "    T_days = 6 \n",
    "    option_price = monte_carlo_option_price(\n",
    "        current_stock_price, strike, T_months, risk_free_rate, historical_volatility,\n",
    "        lambda_, mu_J, sigma_J,\n",
    "        num_paths=1_000_000, num_steps=T_days*24,\n",
    "        skew=historical_skewness, kurtosis=historical_kurtosis\n",
    "    )\n",
    "    print(f\"Monte Carlo Call Option Price for strike {strike}: ${option_price:.2f}\")"
   ]
  },
  {
   "cell_type": "markdown",
   "id": "a933de7e-54d2-42b3-b250-bbee5e6e3c7c",
   "metadata": {},
   "source": [
    "### Look for Undervalued Calls"
   ]
  },
  {
   "cell_type": "code",
   "execution_count": null,
   "id": "5f2882c4-643a-4022-928f-7153e6ca77f7",
   "metadata": {},
   "outputs": [],
   "source": [
    "for date in df['Date'].unique():\n",
    "    T_days = (date - pd.Timestamp.now()).days  # Calculate days to expiration\n",
    "    options_on_date = df[df['Date'] == date]\n",
    "    options = list(options_on_date[['Strike', 'Ask']].dropna().apply(tuple, axis=1))\n",
    "\n",
    "    for strike, ask_price in options:\n",
    "        option_price = monte_carlo_option_price(\n",
    "            current_stock_price, strike, T_days, risk_free_rate, historical_volatility,\n",
    "            lambda_, mu_J, sigma_J,\n",
    "            num_paths=100_000, num_steps=T_days * 24,  # Assuming 24 hours in a day for finer granularity\n",
    "            skew=historical_skewness, kurtosis=historical_kurtosis\n",
    "        )\n",
    "\n",
    "        if ask_price < option_price:\n",
    "            print(f\"Underpriced Call Option for expiration {date.strftime('%Y-%m-%d')}, strike {strike}: Calculated Price: ${option_price:.2f}, Ask Price: ${ask_price}\")"
   ]
  }
 ],
 "metadata": {
  "kernelspec": {
   "display_name": "Python 3 (ipykernel)",
   "language": "python",
   "name": "python3"
  },
  "language_info": {
   "codemirror_mode": {
    "name": "ipython",
    "version": 3
   },
   "file_extension": ".py",
   "mimetype": "text/x-python",
   "name": "python",
   "nbconvert_exporter": "python",
   "pygments_lexer": "ipython3",
   "version": "3.12.2"
  }
 },
 "nbformat": 4,
 "nbformat_minor": 5
}
