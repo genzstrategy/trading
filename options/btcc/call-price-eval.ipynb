{
 "cells": [
  {
   "cell_type": "markdown",
   "id": "06d47f7e-da52-4fc3-bea2-7caf01d1d389",
   "metadata": {},
   "source": [
    "# Call Price Evaluation for BTCC.B"
   ]
  },
  {
   "cell_type": "markdown",
   "id": "8e57d163-5fcd-46fb-87d9-1709d1e1107b",
   "metadata": {},
   "source": [
    "## Get Prices"
   ]
  },
  {
   "cell_type": "code",
   "execution_count": 18,
   "id": "a6be0287-26b6-4ebb-af45-fbb3620c874d",
   "metadata": {},
   "outputs": [
    {
     "data": {
      "text/html": [
       "<div>\n",
       "<style scoped>\n",
       "    .dataframe tbody tr th:only-of-type {\n",
       "        vertical-align: middle;\n",
       "    }\n",
       "\n",
       "    .dataframe tbody tr th {\n",
       "        vertical-align: top;\n",
       "    }\n",
       "\n",
       "    .dataframe thead th {\n",
       "        text-align: right;\n",
       "    }\n",
       "</style>\n",
       "<table border=\"1\" class=\"dataframe\">\n",
       "  <thead>\n",
       "    <tr style=\"text-align: right;\">\n",
       "      <th></th>\n",
       "      <th>Date</th>\n",
       "      <th>Strike</th>\n",
       "      <th>Bid</th>\n",
       "      <th>Ask</th>\n",
       "      <th>Last</th>\n",
       "    </tr>\n",
       "  </thead>\n",
       "  <tbody>\n",
       "    <tr>\n",
       "      <th>73</th>\n",
       "      <td>2024-03-15</td>\n",
       "      <td>14.0</td>\n",
       "      <td>0</td>\n",
       "      <td>1.00</td>\n",
       "      <td>0.51</td>\n",
       "    </tr>\n",
       "    <tr>\n",
       "      <th>72</th>\n",
       "      <td>2024-03-15</td>\n",
       "      <td>13.5</td>\n",
       "      <td>0</td>\n",
       "      <td>0</td>\n",
       "      <td>0.70</td>\n",
       "    </tr>\n",
       "    <tr>\n",
       "      <th>71</th>\n",
       "      <td>2024-03-15</td>\n",
       "      <td>13.0</td>\n",
       "      <td>0</td>\n",
       "      <td>0</td>\n",
       "      <td>0.95</td>\n",
       "    </tr>\n",
       "    <tr>\n",
       "      <th>70</th>\n",
       "      <td>2024-03-15</td>\n",
       "      <td>12.5</td>\n",
       "      <td>0</td>\n",
       "      <td>0</td>\n",
       "      <td>1.31</td>\n",
       "    </tr>\n",
       "    <tr>\n",
       "      <th>69</th>\n",
       "      <td>2024-03-15</td>\n",
       "      <td>12.0</td>\n",
       "      <td>0</td>\n",
       "      <td>0</td>\n",
       "      <td>1.72</td>\n",
       "    </tr>\n",
       "    <tr>\n",
       "      <th>...</th>\n",
       "      <td>...</td>\n",
       "      <td>...</td>\n",
       "      <td>...</td>\n",
       "      <td>...</td>\n",
       "      <td>...</td>\n",
       "    </tr>\n",
       "    <tr>\n",
       "      <th>302</th>\n",
       "      <td>2026-01-16</td>\n",
       "      <td>9.0</td>\n",
       "      <td>1.80</td>\n",
       "      <td>0</td>\n",
       "      <td>7.40</td>\n",
       "    </tr>\n",
       "    <tr>\n",
       "      <th>300</th>\n",
       "      <td>2026-01-16</td>\n",
       "      <td>7.0</td>\n",
       "      <td>4.00</td>\n",
       "      <td>19.95</td>\n",
       "      <td>7.45</td>\n",
       "    </tr>\n",
       "    <tr>\n",
       "      <th>299</th>\n",
       "      <td>2026-01-16</td>\n",
       "      <td>6.0</td>\n",
       "      <td>1.08</td>\n",
       "      <td>10.00</td>\n",
       "      <td>8.05</td>\n",
       "    </tr>\n",
       "    <tr>\n",
       "      <th>298</th>\n",
       "      <td>2026-01-16</td>\n",
       "      <td>5.0</td>\n",
       "      <td>0</td>\n",
       "      <td>12.00</td>\n",
       "      <td>9.37</td>\n",
       "    </tr>\n",
       "    <tr>\n",
       "      <th>297</th>\n",
       "      <td>2026-01-16</td>\n",
       "      <td>4.0</td>\n",
       "      <td>4.00</td>\n",
       "      <td>0</td>\n",
       "      <td>9.70</td>\n",
       "    </tr>\n",
       "  </tbody>\n",
       "</table>\n",
       "<p>313 rows × 5 columns</p>\n",
       "</div>"
      ],
      "text/plain": [
       "          Date  Strike   Bid    Ask  Last\n",
       "73  2024-03-15    14.0     0   1.00  0.51\n",
       "72  2024-03-15    13.5     0      0  0.70\n",
       "71  2024-03-15    13.0     0      0  0.95\n",
       "70  2024-03-15    12.5     0      0  1.31\n",
       "69  2024-03-15    12.0     0      0  1.72\n",
       "..         ...     ...   ...    ...   ...\n",
       "302 2026-01-16     9.0  1.80      0  7.40\n",
       "300 2026-01-16     7.0  4.00  19.95  7.45\n",
       "299 2026-01-16     6.0  1.08  10.00  8.05\n",
       "298 2026-01-16     5.0     0  12.00  9.37\n",
       "297 2026-01-16     4.0  4.00      0  9.70\n",
       "\n",
       "[313 rows x 5 columns]"
      ]
     },
     "execution_count": 18,
     "metadata": {},
     "output_type": "execute_result"
    }
   ],
   "source": [
    "import requests\n",
    "from bs4 import BeautifulSoup\n",
    "import json\n",
    "import pandas as pd\n",
    "\n",
    "# URL of the page\n",
    "url = 'https://www.m-x.ca/en/trading/data/quotes?symbol=BTCC*'\n",
    "\n",
    "# Send a GET request to the URL\n",
    "response = requests.get(url)\n",
    "\n",
    "# Parse the HTML content of the page\n",
    "soup = BeautifulSoup(response.text, 'html.parser')\n",
    "\n",
    "# Find the table\n",
    "table = soup.find('tbody', {'class': 'text-right nowrap'})\n",
    "\n",
    "# Initialize an empty list to store the data\n",
    "options_data = []\n",
    "\n",
    "# Check if the table is found\n",
    "if table:\n",
    "    # Iterate over each row in the table\n",
    "    for row in table.find_all('tr'):\n",
    "        try:\n",
    "            # Extract data for each attribute, with error handling\n",
    "            strike_price = row.find('td', class_='strike_price').text.strip()\n",
    "            call_bid_price = row.find('td', class_='call bid_price').text.strip()\n",
    "            call_ask_price = row.find('td', class_='call ask_price').text.strip()\n",
    "            call_last_price = row.find('td', class_='call last_price').text.strip()\n",
    "\n",
    "            # Extract expiry date from the data-row attribute\n",
    "            data_row = json.loads(row['data-row'].replace('&quot;', '\"'))\n",
    "            expiry_date = data_row['call']['expiry_date'] if 'call' in data_row else 'N/A'\n",
    "\n",
    "            # Append the data to the list\n",
    "            options_data.append({\n",
    "                'Date': expiry_date,\n",
    "                'Strike': strike_price,\n",
    "                'Bid': call_bid_price,\n",
    "                'Ask': call_ask_price,\n",
    "                'Last': call_last_price\n",
    "            })\n",
    "        except (AttributeError, KeyError, json.JSONDecodeError) as e:\n",
    "            print(f\"Error extracting data from row: {e}\")\n",
    "else:\n",
    "    print(\"Table not found.\")\n",
    "\n",
    "# Convert the list to a DataFrame\n",
    "df = pd.DataFrame(options_data)\n",
    "\n",
    "# Convert 'Expiry Date' to datetime and sort by it\n",
    "df['Date'] = pd.to_datetime(df['Date'])\n",
    "df.sort_values(by=['Date', 'Last'], inplace=True)\n",
    "\n",
    "# Convert 'Strike' and 'Ask' columns to numeric (float)\n",
    "df['Strike'] = pd.to_numeric(df['Strike'], errors='coerce')\n",
    "#df['Ask'] = pd.to_numeric(df['Ask'], errors='coerce')\n",
    "df['Last'] = pd.to_numeric(df['Last'], errors='coerce')\n",
    "df"
   ]
  },
  {
   "cell_type": "markdown",
   "id": "d3a12346-f7eb-49f3-b95e-2a61d1b18d0e",
   "metadata": {},
   "source": [
    "## Date of Interest"
   ]
  },
  {
   "cell_type": "code",
   "execution_count": 19,
   "id": "f1a11549-af3a-4d36-8eef-82024b85783d",
   "metadata": {},
   "outputs": [
    {
     "name": "stdout",
     "output_type": "stream",
     "text": [
      "Options for 2024-09-20 : [(3.0, 10.57), (4.0, 9.57), (4.5, 9.09), (5.0, 8.62), (5.5, 8.21), (6.0, 7.82), (6.5, 7.42), (7.0, 7.04), (7.5, 6.6), (8.0, 6.25), (8.5, 5.9), (9.0, 5.54), (9.5, 5.2), (10.0, 4.9), (11.0, 4.4), (12.0, 3.9), (13.0, 3.48), (14.0, 3.1), (15.0, 2.79), (16.0, 2.4), (17.0, 2.2)]\n"
     ]
    }
   ],
   "source": [
    "target_date = '2024-09-20'\n",
    "\n",
    "filtered_df = df[df['Date'] == pd.to_datetime(target_date)]\n",
    "\n",
    "# Sort by 'Strike' column from lowest to highest\n",
    "filtered_df = filtered_df.sort_values(by='Strike')\n",
    "\n",
    "# Convert filtered DataFrame to list of tuples (Strike, Ask Price)\n",
    "options = list(filtered_df[['Strike', 'Last']].dropna().apply(tuple, axis=1))\n",
    "\n",
    "print(\"Options for\", target_date, \":\", options)"
   ]
  },
  {
   "cell_type": "markdown",
   "id": "792be7cc-760e-4046-843e-289fb09e185f",
   "metadata": {},
   "source": [
    "## Data & Params"
   ]
  },
  {
   "cell_type": "code",
   "execution_count": 20,
   "id": "dfe1a9d4-2242-4c7d-ac40-921bb8ddfdf1",
   "metadata": {},
   "outputs": [
    {
     "name": "stderr",
     "output_type": "stream",
     "text": [
      "[*********************100%%**********************]  1 of 1 completed"
     ]
    },
    {
     "name": "stdout",
     "output_type": "stream",
     "text": [
      "13.449999809265137\n"
     ]
    },
    {
     "name": "stderr",
     "output_type": "stream",
     "text": [
      "\n",
      "C:\\Users\\falty\\AppData\\Local\\Temp\\ipykernel_30580\\1888896037.py:15: SettingWithCopyWarning: \n",
      "A value is trying to be set on a copy of a slice from a DataFrame.\n",
      "Try using .loc[row_indexer,col_indexer] = value instead\n",
      "\n",
      "See the caveats in the documentation: https://pandas.pydata.org/pandas-docs/stable/user_guide/indexing.html#returning-a-view-versus-a-copy\n",
      "  data['Daily_Return'] = data['Close'].pct_change()\n"
     ]
    }
   ],
   "source": [
    "# All options expire on January 16th 2026\n",
    "\n",
    "import yfinance as yf\n",
    "import pandas as pd\n",
    "import numpy as np\n",
    "from datetime import datetime, timedelta\n",
    "import pytz\n",
    "\n",
    "# Retrieve historical data\n",
    "ticker = \"BTCC-B.TO\"\n",
    "start_time = (datetime.now(pytz.timezone('US/Pacific')) - timedelta(days=365*4)).strftime('%Y-%m-%d')\n",
    "end_time = (datetime.now(pytz.timezone('US/Pacific'))).strftime('%Y-%m-%d')\n",
    "\n",
    "data = yf.download(ticker, start=start_time, end=end_time, interval=\"1d\")[['Close']]\n",
    "data['Daily_Return'] = data['Close'].pct_change()\n",
    "\n",
    "daily_volatility = data['Daily_Return'].std()\n",
    "annualized_volatility = daily_volatility * np.sqrt(252)\n",
    "\n",
    "risk_free_rate = 0.045\n",
    "\n",
    "current_stock_price = data['Close'].iloc[-1]  \n",
    "print(current_stock_price)"
   ]
  },
  {
   "cell_type": "markdown",
   "id": "09c22a22-3d86-4e5b-8937-f1b1e947cc6f",
   "metadata": {},
   "source": [
    "## Profit Based on Final Stock Price"
   ]
  },
  {
   "cell_type": "code",
   "execution_count": 22,
   "id": "4afe0b97-4fb3-47d7-97ea-7cc807a8382c",
   "metadata": {},
   "outputs": [
    {
     "name": "stdout",
     "output_type": "stream",
     "text": [
      "Final stock price: $18.83\n",
      "Profit from buying and holding the stock: $1597.86\n",
      "Profit from option with strike $3.0 and ask price $10.57: $1578.00\n",
      "Profit from option with strike $4.0 and ask price $9.57: $2104.00\n",
      "Profit from option with strike $4.5 and ask price $9.09: $2096.00\n",
      "Profit from option with strike $5.0 and ask price $8.62: $2084.00\n",
      "Profit from option with strike $5.5 and ask price $8.21: $2048.00\n",
      "Profit from option with strike $6.0 and ask price $7.82: $2505.00\n",
      "Profit from option with strike $6.5 and ask price $7.42: $2455.00\n",
      "Profit from option with strike $7.0 and ask price $7.04: $2395.00\n",
      "Profit from option with strike $7.5 and ask price $6.6: $2838.00\n",
      "Profit from option with strike $8.0 and ask price $6.25: $2748.00\n",
      "Profit from option with strike $8.5 and ask price $5.9: $2658.00\n",
      "Profit from option with strike $9.0 and ask price $5.54: $3003.00\n",
      "Profit from option with strike $9.5 and ask price $5.2: $2891.00\n",
      "Profit from option with strike $10.0 and ask price $4.9: $3144.00\n",
      "Profit from option with strike $11.0 and ask price $4.4: $3087.00\n",
      "Profit from option with strike $12.0 and ask price $3.9: $2930.00\n",
      "Profit from option with strike $13.0 and ask price $3.48: $2585.00\n",
      "Profit from option with strike $14.0 and ask price $3.1: $2076.00\n",
      "Profit from option with strike $15.0 and ask price $2.79: $1456.00\n",
      "Profit from option with strike $16.0 and ask price $2.4: $688.00\n",
      "Profit from option with strike $17.0 and ask price $2.2: $-666.00\n"
     ]
    }
   ],
   "source": [
    "# BTCC-B.TO Call Option Price Evaluation\n",
    "\n",
    "\n",
    "initial_capital = 4_000\n",
    "current_stock_price = 13.45\n",
    "final_stock_price = current_stock_price*1.4\n",
    "num_shares_per_option = 100\n",
    "\n",
    "# Function to calculate profit for buying and holding the stock\n",
    "def calculate_stock_profit(initial_capital, current_price, final_price):\n",
    "    num_shares = initial_capital // current_price\n",
    "    return num_shares * (final_price - current_price)\n",
    "\n",
    "# Function to calculate profit for each option scenario\n",
    "def calculate_option_profit(initial_capital, strike, ask_price, final_price):\n",
    "    num_options = initial_capital // (ask_price * num_shares_per_option)\n",
    "    profit_per_option = max(0, final_price - strike) - ask_price\n",
    "    return num_options * profit_per_option * num_shares_per_option\n",
    "\n",
    "# Print final stock price\n",
    "print(f\"Final stock price: ${final_stock_price:.2f}\")\n",
    "\n",
    "# Calculate profit for buying and holding\n",
    "stock_profit = calculate_stock_profit(initial_capital, current_stock_price, final_stock_price)\n",
    "print(f\"Profit from buying and holding the stock: ${stock_profit:.2f}\")\n",
    "\n",
    "# Calculate and display profit for each option scenario\n",
    "for strike, ask_price in options:\n",
    "    option_profit = calculate_option_profit(initial_capital, strike, ask_price, final_stock_price)\n",
    "    print(f\"Profit from option with strike ${strike} and ask price ${ask_price}: ${option_profit:.2f}\")\n"
   ]
  },
  {
   "cell_type": "markdown",
   "id": "70942e0d-9bfc-4a91-b319-89b10c4ce15d",
   "metadata": {},
   "source": [
    "## Binomial Tree"
   ]
  },
  {
   "cell_type": "code",
   "execution_count": 5,
   "id": "129f1696-708f-478f-9e38-d8a203157113",
   "metadata": {},
   "outputs": [],
   "source": [
    "import numpy as np\n",
    "from scipy.stats import skew, kurtosis\n",
    "from scipy.stats import norm\n",
    "\n",
    "# Assuming data['Daily_Return'] contains the daily returns\n",
    "historical_volatility = np.std(np.log(1 + data['Daily_Return'].dropna())) * np.sqrt(252)  # Annualized using trading days in a year\n",
    "mean_return = np.mean(data['Daily_Return'].dropna()) * 252  # Annualized\n",
    "\n",
    "historical_skewness = skew(data['Daily_Return'].dropna())\n",
    "historical_kurtosis = kurtosis(data['Daily_Return'].dropna(), fisher=False)\n",
    "\n",
    "def binomial_tree_option_price(S, K, T_days, r, sigma, N=20_000, dividends=0, skew=0, kurtosis=0, drift=0):\n",
    "    T = T_days / 252  # Convert days to years\n",
    "    dt = T / N\n",
    "    u = np.exp((drift - 0.5 * sigma**2) * dt + sigma * np.sqrt(dt))  # Incorporating drift\n",
    "    d = 1 / u\n",
    "    p = (np.exp((r - dividends) * dt) - d) / (u - d)\n",
    "\n",
    "    p += skew * 0.001 * (1 - 2 * p) + kurtosis * 0.0005 * (1 - 2 * p)\n",
    "    p = min(max(p, 0), 1)\n",
    "\n",
    "    prices = S * d**np.arange(N, -1, -1) * u**np.arange(0, N+1, 1)\n",
    "    option_values = np.maximum(prices - K, 0)\n",
    "\n",
    "    discount_factor = np.exp(-r * dt)\n",
    "    for i in range(N - 1, -1, -1):\n",
    "        option_values[:i+1] = (p * option_values[1:i+2] + (1 - p) * option_values[:i+1]) * discount_factor\n",
    "        # For American options, compare with early exercise\n",
    "        option_values[:i+1] = np.maximum(option_values[:i+1], prices[:i+1] - K)\n",
    "\n",
    "    return option_values[0]"
   ]
  },
  {
   "cell_type": "markdown",
   "id": "6ff35862-ac55-4e84-b7be-97cb690164f8",
   "metadata": {},
   "source": [
    "### Price Specific Date"
   ]
  },
  {
   "cell_type": "code",
   "execution_count": 6,
   "id": "7c1abd20-8e13-43ed-9367-1b753fc59678",
   "metadata": {},
   "outputs": [
    {
     "name": "stdout",
     "output_type": "stream",
     "text": [
      "Call Option Price for strike 3.0: $10.45\n",
      "Call Option Price for strike 4.0: $9.46\n",
      "Call Option Price for strike 4.25: $9.21\n",
      "Call Option Price for strike 4.5: $8.96\n",
      "Call Option Price for strike 4.75: $8.71\n",
      "Call Option Price for strike 5.0: $8.46\n",
      "Call Option Price for strike 5.25: $8.21\n",
      "Call Option Price for strike 5.5: $7.96\n",
      "Call Option Price for strike 5.75: $7.71\n",
      "Call Option Price for strike 6.0: $7.46\n",
      "Call Option Price for strike 6.25: $7.21\n",
      "Call Option Price for strike 6.5: $6.96\n",
      "Call Option Price for strike 6.75: $6.71\n",
      "Call Option Price for strike 7.0: $6.46\n",
      "Call Option Price for strike 7.25: $6.21\n",
      "Call Option Price for strike 7.5: $5.96\n",
      "Call Option Price for strike 7.75: $5.71\n",
      "Call Option Price for strike 8.0: $5.46\n",
      "Call Option Price for strike 8.25: $5.21\n",
      "Call Option Price for strike 8.5: $4.96\n",
      "Call Option Price for strike 8.75: $4.71\n",
      "Call Option Price for strike 9.0: $4.46\n",
      "Call Option Price for strike 9.25: $4.21\n",
      "Call Option Price for strike 9.5: $3.96\n",
      "Call Option Price for strike 9.75: $3.71\n",
      "Call Option Price for strike 10.0: $3.46\n",
      "Call Option Price for strike 10.5: $2.96\n",
      "Call Option Price for strike 11.0: $2.47\n",
      "Call Option Price for strike 11.5: $1.98\n",
      "Call Option Price for strike 12.0: $1.52\n",
      "Call Option Price for strike 12.5: $1.11\n",
      "Call Option Price for strike 13.0: $0.75\n",
      "Call Option Price for strike 13.5: $0.48\n",
      "Call Option Price for strike 14.0: $0.28\n"
     ]
    }
   ],
   "source": [
    "# Example usage:\n",
    "risk_free_rate = 0.05  # Example rate\n",
    "T_days = 6  # days until expiration\n",
    "N = 100  # number of steps\n",
    "\n",
    "# Example usage\n",
    "for strike, ask_price in options:\n",
    "    option_price = binomial_tree_option_price(\n",
    "        current_stock_price, strike, T_days, risk_free_rate, historical_volatility, N,\n",
    "        dividends=0, skew=historical_skewness, kurtosis=historical_kurtosis, drift=mean_return\n",
    "    )\n",
    "    print(f\"Call Option Price for strike {strike}: ${option_price:.2f}\")"
   ]
  },
  {
   "cell_type": "markdown",
   "id": "04e78d11-e7cb-40ce-9356-d65f4721f6eb",
   "metadata": {},
   "source": [
    "### Look for Undervalued Calls"
   ]
  },
  {
   "cell_type": "code",
   "execution_count": 7,
   "id": "a065e497-5a9b-45e1-923e-b3f54d536357",
   "metadata": {},
   "outputs": [
    {
     "name": "stdout",
     "output_type": "stream",
     "text": [
      "Underpriced Call Option for expiration 2024-04-19, strike 9.5: Calculated Price: $4.11, Ask Price: $4.1\n",
      "Underpriced Call Option for expiration 2024-06-21, strike 5.5: Calculated Price: $8.08, Ask Price: $8.05\n",
      "Underpriced Call Option for expiration 2024-06-21, strike 6.0: Calculated Price: $7.59, Ask Price: $7.59\n",
      "Underpriced Call Option for expiration 2024-06-21, strike 7.0: Calculated Price: $6.65, Ask Price: $6.55\n",
      "Underpriced Call Option for expiration 2024-06-21, strike 9.5: Calculated Price: $4.52, Ask Price: $4.5\n",
      "Underpriced Call Option for expiration 2024-09-20, strike 3.0: Calculated Price: $10.57, Ask Price: $10.57\n",
      "Underpriced Call Option for expiration 2024-09-20, strike 4.0: Calculated Price: $9.62, Ask Price: $9.57\n",
      "Underpriced Call Option for expiration 2024-09-20, strike 4.5: Calculated Price: $9.15, Ask Price: $9.09\n",
      "Underpriced Call Option for expiration 2024-09-20, strike 5.0: Calculated Price: $8.69, Ask Price: $8.62\n",
      "Underpriced Call Option for expiration 2024-09-20, strike 5.5: Calculated Price: $8.23, Ask Price: $8.21\n",
      "Underpriced Call Option for expiration 2024-12-20, strike 7.0: Calculated Price: $7.23, Ask Price: $7.22\n",
      "Underpriced Call Option for expiration 2025-01-17, strike 10.0: Calculated Price: $5.42, Ask Price: $5.1\n",
      "Underpriced Call Option for expiration 2025-01-17, strike 2.0: Calculated Price: $11.59, Ask Price: $11.58\n",
      "Underpriced Call Option for expiration 2025-01-17, strike 3.0: Calculated Price: $10.66, Ask Price: $10.61\n",
      "Underpriced Call Option for expiration 2025-01-17, strike 4.0: Calculated Price: $9.75, Ask Price: $9.6\n",
      "Underpriced Call Option for expiration 2025-01-17, strike 5.0: Calculated Price: $8.89, Ask Price: $8.6\n",
      "Underpriced Call Option for expiration 2025-01-17, strike 6.0: Calculated Price: $8.08, Ask Price: $7.75\n",
      "Underpriced Call Option for expiration 2025-01-17, strike 7.0: Calculated Price: $7.32, Ask Price: $7.05\n",
      "Underpriced Call Option for expiration 2025-01-17, strike 8.0: Calculated Price: $6.63, Ask Price: $6.3\n",
      "Underpriced Call Option for expiration 2026-01-16, strike 10.0: Calculated Price: $6.92, Ask Price: $6.3\n",
      "Underpriced Call Option for expiration 2026-01-16, strike 12.0: Calculated Price: $6.14, Ask Price: $5.4\n",
      "Underpriced Call Option for expiration 2026-01-16, strike 13.0: Calculated Price: $5.80, Ask Price: $5.7\n",
      "Underpriced Call Option for expiration 2026-01-16, strike 14.0: Calculated Price: $5.48, Ask Price: $5.4\n",
      "Underpriced Call Option for expiration 2026-01-16, strike 3.0: Calculated Price: $10.97, Ask Price: $10.75\n",
      "Underpriced Call Option for expiration 2026-01-16, strike 4.0: Calculated Price: $10.23, Ask Price: $9.7\n",
      "Underpriced Call Option for expiration 2026-01-16, strike 5.0: Calculated Price: $9.55, Ask Price: $9.37\n",
      "Underpriced Call Option for expiration 2026-01-16, strike 6.0: Calculated Price: $8.92, Ask Price: $8.05\n",
      "Underpriced Call Option for expiration 2026-01-16, strike 7.0: Calculated Price: $8.35, Ask Price: $7.45\n",
      "Underpriced Call Option for expiration 2026-01-16, strike 8.0: Calculated Price: $7.83, Ask Price: $7.3\n"
     ]
    }
   ],
   "source": [
    "N = 5_000\n",
    "\n",
    "for date in df['Date'].unique():\n",
    "    T_days = (date - pd.Timestamp.now()).days  # Calculate days to expiration\n",
    "    options_on_date = df[df['Date'] == date]\n",
    "    options = list(options_on_date[['Strike', 'Ask']].dropna().apply(tuple, axis=1))\n",
    "\n",
    "    for strike, ask_price in options:\n",
    "        option_price = binomial_tree_option_price(\n",
    "            current_stock_price, strike, T_days, risk_free_rate, historical_volatility, N,\n",
    "            dividends=0, skew=historical_skewness, kurtosis=historical_kurtosis, drift=mean_return\n",
    "        )\n",
    "\n",
    "        if ask_price < option_price:\n",
    "            print(f\"Underpriced Call Option for expiration {date.strftime('%Y-%m-%d')}, strike {strike}: Calculated Price: ${option_price:.2f}, Ask Price: ${ask_price}\")"
   ]
  },
  {
   "cell_type": "markdown",
   "id": "635d8096-25bc-49a6-b441-0cd16cb0777e",
   "metadata": {},
   "source": [
    "## Monte-Carlo Simulation "
   ]
  },
  {
   "cell_type": "code",
   "execution_count": 8,
   "id": "33f4a8bf-3838-4f31-a0bf-7ee367c2546c",
   "metadata": {},
   "outputs": [
    {
     "name": "stdout",
     "output_type": "stream",
     "text": [
      "CPU times: total: 125 ms\n",
      "Wall time: 145 ms\n"
     ]
    }
   ],
   "source": [
    "%%time\n",
    "import numpy as np\n",
    "import pandas as pd\n",
    "import yfinance as yf\n",
    "from datetime import datetime, timedelta\n",
    "import pytz\n",
    "from numba import jit, prange\n",
    "\n",
    "# Calculate log returns\n",
    "log_returns = np.log(data['Close'] / data['Close'].shift(1)).dropna()\n",
    "\n",
    "# Identify jumps\n",
    "jump_threshold = 3 * np.std(log_returns)  # Example threshold\n",
    "jumps = log_returns[abs(log_returns) > jump_threshold]\n",
    "\n",
    "# Estimate lambda (jump intensity)\n",
    "lambda_ = len(jumps) / (len(log_returns) / 365)  # Number of jumps per year\n",
    "\n",
    "# Estimate mu_J and sigma_J (jump size parameters)\n",
    "# We use the jumps themselves, not the ratio to their lagged values\n",
    "mu_J = np.mean(jumps)\n",
    "sigma_J = np.std(jumps)\n",
    "\n",
    "@jit(nopython=True, parallel=True)  # Enable JIT compilation with parallel execution\n",
    "def monte_carlo_option_price(S, K, T_months, r, sigma, lambda_, mu_J, sigma_J, num_paths=10000, num_steps=100, skew=0, kurtosis=0):\n",
    "    \"\"\"\n",
    "    Monte Carlo simulation for European call option pricing with jump diffusion.\n",
    "\n",
    "    Parameters:\n",
    "    S (float): Current stock price.\n",
    "    K (float): Strike price of the option.\n",
    "    T_months (int): Time to maturity in months.\n",
    "    r (float): Risk-free interest rate.\n",
    "    sigma (float): Volatility of the underlying asset.\n",
    "    lambda_ (float): Jump intensity, representing the frequency of jumps.\n",
    "    mu_J (float): Mean of the logarithm of the jump size.\n",
    "    sigma_J (float): Standard deviation of the logarithm of the jump size.\n",
    "    num_paths (int): Number of simulated paths in the Monte Carlo simulation.\n",
    "    num_steps (int): Number of time steps in each simulated path.\n",
    "    skew (float): Skewness of the asset returns. Defaults to 0 for no skew.\n",
    "    kurtosis (float): Kurtosis of the asset returns. Defaults to 0 for normal kurtosis.\n",
    "\n",
    "    Returns:\n",
    "    float: Estimated price of the European call option.\n",
    "    \"\"\"\n",
    "    T = T_months / 365  # Convert maturity from months to years\n",
    "    dt = T / num_steps  # Time step for simulation\n",
    "    discount_factor = np.exp(-r * T)  # Discount factor for present value\n",
    "\n",
    "    payoffs = np.zeros(num_paths)  # Initialize array for option payoffs\n",
    "    for i in prange(num_paths):  # Parallel loop for each path\n",
    "        S_t = S  # Initial stock price for this path\n",
    "        for j in range(num_steps):  # Time step loop\n",
    "            z = np.random.normal()  # Standard normal random variable\n",
    "            shock = z + skew * (z ** 2 - 1)  # Adjust random variable for skew and kurtosis\n",
    "            num_jumps = np.random.poisson(lambda_ * dt)  # Poisson process for number of jumps\n",
    "            jump_sum = np.sum(np.random.lognormal(mu_J, sigma_J, num_jumps) - 1)  # Sum of jump sizes\n",
    "            S_t *= np.exp((r - 0.5 * sigma ** 2) * dt + sigma * np.sqrt(dt) * shock + jump_sum)  # Stock price update\n",
    "        payoffs[i] = max(S_t - K, 0)  # Call option payoff for this path\n",
    "\n",
    "    return discount_factor * np.mean(payoffs)  # Average discounted payoff\n",
    "\n"
   ]
  },
  {
   "cell_type": "markdown",
   "id": "fdcd885a-b1e2-4eb5-9472-01034fbb3bc5",
   "metadata": {},
   "source": [
    "### Price Specific Date"
   ]
  },
  {
   "cell_type": "code",
   "execution_count": 9,
   "id": "692b75a7-3e6d-4c4f-85b4-461fd7e1dff6",
   "metadata": {},
   "outputs": [
    {
     "ename": "NameError",
     "evalue": "name 'T_months' is not defined",
     "output_type": "error",
     "traceback": [
      "\u001b[1;31m---------------------------------------------------------------------------\u001b[0m",
      "\u001b[1;31mNameError\u001b[0m                                 Traceback (most recent call last)",
      "Cell \u001b[1;32mIn[9], line 5\u001b[0m\n\u001b[0;32m      2\u001b[0m \u001b[38;5;28;01mfor\u001b[39;00m strike, ask_price \u001b[38;5;129;01min\u001b[39;00m options:\n\u001b[0;32m      3\u001b[0m     T_days \u001b[38;5;241m=\u001b[39m \u001b[38;5;241m6\u001b[39m \n\u001b[0;32m      4\u001b[0m     option_price \u001b[38;5;241m=\u001b[39m monte_carlo_option_price(\n\u001b[1;32m----> 5\u001b[0m         current_stock_price, strike, \u001b[43mT_months\u001b[49m, risk_free_rate, historical_volatility,\n\u001b[0;32m      6\u001b[0m         lambda_, mu_J, sigma_J,\n\u001b[0;32m      7\u001b[0m         num_paths\u001b[38;5;241m=\u001b[39m\u001b[38;5;241m1_000_000\u001b[39m, num_steps\u001b[38;5;241m=\u001b[39mT_days\u001b[38;5;241m*\u001b[39m\u001b[38;5;241m24\u001b[39m,\n\u001b[0;32m      8\u001b[0m         skew\u001b[38;5;241m=\u001b[39mhistorical_skewness, kurtosis\u001b[38;5;241m=\u001b[39mhistorical_kurtosis\n\u001b[0;32m      9\u001b[0m     )\n\u001b[0;32m     10\u001b[0m     \u001b[38;5;28mprint\u001b[39m(\u001b[38;5;124mf\u001b[39m\u001b[38;5;124m\"\u001b[39m\u001b[38;5;124mMonte Carlo Call Option Price for strike \u001b[39m\u001b[38;5;132;01m{\u001b[39;00mstrike\u001b[38;5;132;01m}\u001b[39;00m\u001b[38;5;124m: $\u001b[39m\u001b[38;5;132;01m{\u001b[39;00moption_price\u001b[38;5;132;01m:\u001b[39;00m\u001b[38;5;124m.2f\u001b[39m\u001b[38;5;132;01m}\u001b[39;00m\u001b[38;5;124m\"\u001b[39m)\n",
      "\u001b[1;31mNameError\u001b[0m: name 'T_months' is not defined"
     ]
    }
   ],
   "source": [
    "# Example usage\n",
    "for strike, ask_price in options:\n",
    "    T_days = 6 \n",
    "    option_price = monte_carlo_option_price(\n",
    "        current_stock_price, strike, T_months, risk_free_rate, historical_volatility,\n",
    "        lambda_, mu_J, sigma_J,\n",
    "        num_paths=1_000_000, num_steps=T_days*24,\n",
    "        skew=historical_skewness, kurtosis=historical_kurtosis\n",
    "    )\n",
    "    print(f\"Monte Carlo Call Option Price for strike {strike}: ${option_price:.2f}\")"
   ]
  },
  {
   "cell_type": "markdown",
   "id": "a933de7e-54d2-42b3-b250-bbee5e6e3c7c",
   "metadata": {},
   "source": [
    "### Look for Undervalued Calls"
   ]
  },
  {
   "cell_type": "code",
   "execution_count": null,
   "id": "5f2882c4-643a-4022-928f-7153e6ca77f7",
   "metadata": {},
   "outputs": [],
   "source": [
    "for date in df['Date'].unique():\n",
    "    T_days = (date - pd.Timestamp.now()).days  # Calculate days to expiration\n",
    "    options_on_date = df[df['Date'] == date]\n",
    "    options = list(options_on_date[['Strike', 'Ask']].dropna().apply(tuple, axis=1))\n",
    "\n",
    "    for strike, ask_price in options:\n",
    "        option_price = monte_carlo_option_price(\n",
    "            current_stock_price, strike, T_days, risk_free_rate, historical_volatility,\n",
    "            lambda_, mu_J, sigma_J,\n",
    "            num_paths=100_000, num_steps=T_days * 24,  # Assuming 24 hours in a day for finer granularity\n",
    "            skew=historical_skewness, kurtosis=historical_kurtosis\n",
    "        )\n",
    "\n",
    "        if ask_price < option_price:\n",
    "            print(f\"Underpriced Call Option for expiration {date.strftime('%Y-%m-%d')}, strike {strike}: Calculated Price: ${option_price:.2f}, Ask Price: ${ask_price}\")"
   ]
  }
 ],
 "metadata": {
  "kernelspec": {
   "display_name": "Python 3 (ipykernel)",
   "language": "python",
   "name": "python3"
  },
  "language_info": {
   "codemirror_mode": {
    "name": "ipython",
    "version": 3
   },
   "file_extension": ".py",
   "mimetype": "text/x-python",
   "name": "python",
   "nbconvert_exporter": "python",
   "pygments_lexer": "ipython3",
   "version": "3.12.2"
  }
 },
 "nbformat": 4,
 "nbformat_minor": 5
}
