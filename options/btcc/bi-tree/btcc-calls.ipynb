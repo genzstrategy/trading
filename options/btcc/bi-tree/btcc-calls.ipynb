{
 "cells": [
  {
   "cell_type": "code",
   "execution_count": 4,
   "id": "fae593a9-9bed-441b-9d89-e61dde0cd0c1",
   "metadata": {},
   "outputs": [
    {
     "name": "stderr",
     "output_type": "stream",
     "text": [
      "[*********************100%%**********************]  1 of 1 completed\n",
      "<timed exec>:37: SettingWithCopyWarning: \n",
      "A value is trying to be set on a copy of a slice from a DataFrame.\n",
      "Try using .loc[row_indexer,col_indexer] = value instead\n",
      "\n",
      "See the caveats in the documentation: https://pandas.pydata.org/pandas-docs/stable/user_guide/indexing.html#returning-a-view-versus-a-copy\n",
      "<timed exec>:16: RuntimeWarning: invalid value encountered in scalar divide\n",
      "<timed exec>:67: FutureWarning: The behavior of DataFrame concatenation with empty or all-NA entries is deprecated. In a future version, this will no longer exclude empty or all-NA columns when determining the result dtypes. To retain the old behavior, exclude the relevant entries before the concat operation.\n"
     ]
    },
    {
     "name": "stdout",
     "output_type": "stream",
     "text": [
      "Option prices saved to 'option_prices.csv'\n",
      "CPU times: total: 1min 22s\n",
      "Wall time: 1min 22s\n"
     ]
    }
   ],
   "source": [
    "%%time\n",
    "\n",
    "import yfinance as yf\n",
    "import pandas as pd\n",
    "import numpy as np\n",
    "from datetime import datetime, timedelta\n",
    "import pytz\n",
    "from scipy.stats import norm\n",
    "\n",
    "# binomial_tree_option_priceModel\n",
    "from scipy.stats import norm\n",
    "import numpy as np\n",
    "\n",
    "def binomial_tree_option_price(S, K, T, r, sigma, N=20_000, dividends=0, skew=0, kurtosis=0):\n",
    "    dt = T / N\n",
    "    u = np.exp(sigma * np.sqrt(dt) + skew * sigma * dt)  # Adjusted for skew\n",
    "    d = np.exp(-sigma * np.sqrt(dt) + skew * sigma * dt)  # Adjusted for skew\n",
    "    p = (np.exp((r - dividends) * dt) - d) / (u - d)  # Adjusted for dividends\n",
    "    \n",
    "    # Adjust p slightly to account for kurtosis (heuristic adjustment)\n",
    "    p += kurtosis * 0.001 * (1 - 2 * p)  # This is a heuristic adjustment\n",
    "\n",
    "    prices = S * d**np.arange(N, -1, -1) * u**np.arange(0, N+1, 1)\n",
    "    option_values = np.maximum(prices - K, 0)\n",
    "    \n",
    "    discount_factor = np.exp(-r * dt)\n",
    "    for i in range(N - 1, -1, -1):\n",
    "        option_values[:i+1] = (p * option_values[1:i+2] + (1 - p) * option_values[:i+1]) * discount_factor\n",
    "        option_values[:i+1] = np.maximum(option_values[:i+1], prices[:i+1] - K)\n",
    "    \n",
    "    return option_values[0]\n",
    "\n",
    "\n",
    "# Retrieve historical data\n",
    "ticker = \"BTCC-B.TO\"\n",
    "start_time = (datetime.now(pytz.timezone('US/Pacific')) - timedelta(days=365*4)).strftime('%Y-%m-%d')\n",
    "end_time = (datetime.now(pytz.timezone('US/Pacific'))).strftime('%Y-%m-%d')\n",
    "data = yf.download(ticker, start=start_time, end=end_time, interval=\"1d\")[['Close']]\n",
    "data['Daily_Return'] = data['Close'].pct_change()\n",
    "daily_volatility = data['Daily_Return'].std()\n",
    "annualized_volatility = daily_volatility * np.sqrt(252)\n",
    "\n",
    "# Risk-free rate (annualized)\n",
    "risk_free_rate = 0.05  # Example rate, adjust as needed\n",
    "\n",
    "# Current stock price\n",
    "current_stock_price = data['Close'].iloc[-1]\n",
    "\n",
    "# Calculate the next 4 Fridays from today, spaced two weeks apart\n",
    "today = datetime.now(pytz.timezone('US/Pacific')).date()\n",
    "friday_dates = [today + timedelta(days=((4 - today.weekday()) % 7) + 30*i) for i in range(12)]\n",
    "\n",
    "# Generate a range of strike prices from -50% to +50% of the current stock price by 5% increments\n",
    "strike_price_range = np.arange(0, 0.8, 0.05)  # Ends at 0.55 to include 50%\n",
    "strike_prices = [current_stock_price * (1 + x) for x in strike_price_range]\n",
    "\n",
    "# Initialize DataFrame to store results\n",
    "columns = ['Expiration Date', 'Strike Price', 'Call Option Price']\n",
    "results_df = pd.DataFrame(columns=columns)\n",
    "\n",
    "# Calculate option prices, storing results in the DataFrame\n",
    "for expiry_date in friday_dates:\n",
    "    days_to_expiration = (expiry_date - today).days / 365  # Convert days to years\n",
    "    for strike_price in strike_prices:\n",
    "        option_price = binomial_tree_option_price(current_stock_price, strike_price, days_to_expiration, risk_free_rate, annualized_volatility)\n",
    "        \n",
    "        # Append results to the DataFrame\n",
    "        result = pd.DataFrame([[expiry_date, strike_price, option_price]], columns=columns)\n",
    "        results_df = pd.concat([results_df, result], ignore_index=True)\n",
    "\n",
    "\n",
    "# Save the results DataFrame to a CSV file\n",
    "results_df.to_csv('option_prices.csv', index=False)\n",
    "\n",
    "# Optionally, you can print a message to confirm that the data was saved successfully\n",
    "print(\"Option prices saved to 'option_prices.csv'\")\n"
   ]
  },
  {
   "cell_type": "code",
   "execution_count": null,
   "id": "d7f8dfe8-26fc-41d0-805b-be11788f61a1",
   "metadata": {},
   "outputs": [],
   "source": []
  }
 ],
 "metadata": {
  "kernelspec": {
   "display_name": "Python 3 (ipykernel)",
   "language": "python",
   "name": "python3"
  },
  "language_info": {
   "codemirror_mode": {
    "name": "ipython",
    "version": 3
   },
   "file_extension": ".py",
   "mimetype": "text/x-python",
   "name": "python",
   "nbconvert_exporter": "python",
   "pygments_lexer": "ipython3",
   "version": "3.12.2"
  }
 },
 "nbformat": 4,
 "nbformat_minor": 5
}
