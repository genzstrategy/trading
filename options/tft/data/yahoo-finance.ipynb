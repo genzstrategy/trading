{
 "cells": [
  {
   "cell_type": "markdown",
   "id": "16d734e3-7a8f-4d6e-8a94-8903063527a4",
   "metadata": {},
   "source": [
    "# Yahoo Finance"
   ]
  },
  {
   "cell_type": "code",
   "execution_count": 8,
   "id": "e9a82c9d-79e2-46b1-9ade-da5efad49c23",
   "metadata": {},
   "outputs": [],
   "source": [
    "import yfinance as yf\n",
    "import pandas as pd\n",
    "from datetime import datetime, timedelta\n",
    "import pytz\n"
   ]
  },
  {
   "cell_type": "code",
   "execution_count": 9,
   "id": "de9ee387-3c25-4e0d-b227-cbd6b8d00b71",
   "metadata": {},
   "outputs": [],
   "source": [
    "frequency = \"1d\"\n",
    "start_time = \"2012-01-01\"\n",
    "end_time = (datetime.now(pytz.timezone('US/Pacific')) + timedelta(days=1)).strftime('%Y-%m-%d')"
   ]
  },
  {
   "cell_type": "markdown",
   "id": "fa22b191-afa6-4b08-b0e8-0f76cf33e520",
   "metadata": {},
   "source": [
    "1. **TLT (iShares 20+ Year Treasury Bond ETF)**: Invests in U.S. Treasury bonds with remaining maturities greater than 20 years, aiming to track the investment results of an index composed of U.S. Treasury bonds.\n",
    "\n",
    "2. **IEF (iShares 7-10 Year Treasury Bond ETF)**: Seeks to track the investment results of an index composed of U.S. Treasury bonds with remaining maturities between 7 and 10 years.\n",
    "\n",
    "3. **EZU (iShares MSCI Eurozone ETF)**: Provides exposure to large and mid-sized companies in Eurozone countries, tracking the MSCI EMU Index.\n",
    "\n",
    "4. **CNYA (iShares MSCI China A ETF)**: Offers exposure to large and mid-cap Chinese equities in the A-shares market, tracking the MSCI China A Inclusion Index.\n",
    "\n",
    "5. **EWJ (iShares MSCI Japan ETF)**: Tracks the investment results of an index composed of Japanese equities, representing large and mid-sized companies in Japan.\n",
    "\n",
    "6. **IGLT.L (iShares Core UK Gilts UCITS ETF)**: Invests in UK government bonds (gilts), seeking to track the performance of an index composed of sterling-denominated UK government bonds.\n",
    "\n",
    "7. **XBB.TO (iShares Core Canadian Universe Bond Index ETF)**: Offers exposure to Canadian government and corporate bonds, tracking the performance of the broad Canadian bond market.\n",
    "\n",
    "8. **BOND.AX (PIMCO Australian Bond Index Fund)**: Provides diversified exposure to the Australian bond market, including government, semi-government, and corporate debt securities.\n",
    "\n",
    "9. **INDA (iShares MSCI India ETF)**: Aims to track the investment results of an index composed of Indian equities, representing large and mid-sized companies in India.\n",
    "\n",
    "10. **EWL (iShares MSCI Switzerland ETF)**: Tracks the investment results of an index composed of Swiss equities, representing the Swiss stock market.\n",
    "\n",
    "11. **ERUS (iShares MSCI Russia ETF)**: Seeks to track the investment results of an index composed of Russian equities.\n",
    "\n",
    "12. **EWZ (iShares MSCI Brazil ETF)**: Aims to track the investment results of an index composed of Brazilian equities, reflecting the performance of the Brazilian stock market.\n",
    "\n",
    "13. **EWY (iShares MSCI South Korea ETF)**: Tracks the investment results of an index composed of South Korean equities, representing the South Korean stock market.\n",
    "\n",
    "14. **ENZL (iShares MSCI New Zealand ETF)**: Seeks to track the investment results of an index composed of New Zealand equities.\n",
    "\n",
    "15. **EWD (iShares MSCI Sweden ETF)**: Aims to track the investment results of an index composed of Swedish equities, representing the Swedish stock market.\n",
    "\n",
    "16. **EWM (iShares MSCI Malaysia ETF)**: Seeks to track the investment results of an index composed of Malaysian equities, representing the Malaysian stock market."
   ]
  },
  {
   "cell_type": "code",
   "execution_count": 10,
   "id": "cad21236-0277-4f8b-8491-9acfb4ae8fe5",
   "metadata": {},
   "outputs": [
    {
     "name": "stderr",
     "output_type": "stream",
     "text": [
      "[*********************100%%**********************]  1 of 1 completed\n",
      "C:\\Users\\falty\\AppData\\Local\\Temp\\ipykernel_17856\\3142488560.py:17: FutureWarning: DataFrame.fillna with 'method' is deprecated and will raise in a future version. Use obj.ffill() or obj.bfill() instead.\n",
      "  combined_data.fillna(method='ffill', inplace=True)\n"
     ]
    }
   ],
   "source": [
    "# Existing tickers and additional ETF tickers\n",
    "tickers = [\"BTC-CAD\"]\n",
    "\n",
    "# Retrieve historical data\n",
    "historical_data = {}\n",
    "for ticker in tickers:\n",
    "    historical_data[ticker] = yf.download(ticker, start=start_time, end=end_time, interval=frequency)[['High', 'Low']]\n",
    "\n",
    "# Combine and weight data\n",
    "combined_data = pd.DataFrame()\n",
    "for ticker, data in historical_data.items():\n",
    "    for col in data.columns:\n",
    "        combined_column_name = f\"{ticker}_{col}\"  # Create a unique column name for each 'High' and 'Low'\n",
    "        combined_data[combined_column_name] = data[col]\n",
    "\n",
    "# Calculate the Global Liquidity Index as the sum of all (weighted and non-weighted) columns\n",
    "combined_data.fillna(method='ffill', inplace=True)\n",
    "# combined_data now contains the weighted Global Liquidity Index and individual ticker data\n"
   ]
  },
  {
   "cell_type": "code",
   "execution_count": 11,
   "id": "ec14f4b3-5b7f-4586-842d-f299cf5d47d7",
   "metadata": {},
   "outputs": [
    {
     "data": {
      "text/html": [
       "<div>\n",
       "<style scoped>\n",
       "    .dataframe tbody tr th:only-of-type {\n",
       "        vertical-align: middle;\n",
       "    }\n",
       "\n",
       "    .dataframe tbody tr th {\n",
       "        vertical-align: top;\n",
       "    }\n",
       "\n",
       "    .dataframe thead th {\n",
       "        text-align: right;\n",
       "    }\n",
       "</style>\n",
       "<table border=\"1\" class=\"dataframe\">\n",
       "  <thead>\n",
       "    <tr style=\"text-align: right;\">\n",
       "      <th></th>\n",
       "      <th>BTC-CAD_High</th>\n",
       "      <th>BTC-CAD_Low</th>\n",
       "    </tr>\n",
       "    <tr>\n",
       "      <th>Date</th>\n",
       "      <th></th>\n",
       "      <th></th>\n",
       "    </tr>\n",
       "  </thead>\n",
       "  <tbody>\n",
       "    <tr>\n",
       "      <th>2014-09-17</th>\n",
       "      <td>513.446411</td>\n",
       "      <td>497.302246</td>\n",
       "    </tr>\n",
       "    <tr>\n",
       "      <th>2014-09-18</th>\n",
       "      <td>502.728729</td>\n",
       "      <td>452.183655</td>\n",
       "    </tr>\n",
       "    <tr>\n",
       "      <th>2014-09-19</th>\n",
       "      <td>468.607666</td>\n",
       "      <td>419.985870</td>\n",
       "    </tr>\n",
       "    <tr>\n",
       "      <th>2014-09-20</th>\n",
       "      <td>463.974731</td>\n",
       "      <td>427.350739</td>\n",
       "    </tr>\n",
       "    <tr>\n",
       "      <th>2014-09-21</th>\n",
       "      <td>452.060120</td>\n",
       "      <td>430.965698</td>\n",
       "    </tr>\n",
       "    <tr>\n",
       "      <th>...</th>\n",
       "      <td>...</td>\n",
       "      <td>...</td>\n",
       "    </tr>\n",
       "    <tr>\n",
       "      <th>2024-03-04</th>\n",
       "      <td>85708.109375</td>\n",
       "      <td>83437.976562</td>\n",
       "    </tr>\n",
       "    <tr>\n",
       "      <th>2024-03-05</th>\n",
       "      <td>93044.843750</td>\n",
       "      <td>84514.890625</td>\n",
       "    </tr>\n",
       "    <tr>\n",
       "      <th>2024-03-06</th>\n",
       "      <td>93812.804688</td>\n",
       "      <td>80644.625000</td>\n",
       "    </tr>\n",
       "    <tr>\n",
       "      <th>2024-03-07</th>\n",
       "      <td>91916.906250</td>\n",
       "      <td>85369.171875</td>\n",
       "    </tr>\n",
       "    <tr>\n",
       "      <th>2024-03-08</th>\n",
       "      <td>91648.546875</td>\n",
       "      <td>88748.687500</td>\n",
       "    </tr>\n",
       "  </tbody>\n",
       "</table>\n",
       "<p>3461 rows × 2 columns</p>\n",
       "</div>"
      ],
      "text/plain": [
       "            BTC-CAD_High   BTC-CAD_Low\n",
       "Date                                  \n",
       "2014-09-17    513.446411    497.302246\n",
       "2014-09-18    502.728729    452.183655\n",
       "2014-09-19    468.607666    419.985870\n",
       "2014-09-20    463.974731    427.350739\n",
       "2014-09-21    452.060120    430.965698\n",
       "...                  ...           ...\n",
       "2024-03-04  85708.109375  83437.976562\n",
       "2024-03-05  93044.843750  84514.890625\n",
       "2024-03-06  93812.804688  80644.625000\n",
       "2024-03-07  91916.906250  85369.171875\n",
       "2024-03-08  91648.546875  88748.687500\n",
       "\n",
       "[3461 rows x 2 columns]"
      ]
     },
     "execution_count": 11,
     "metadata": {},
     "output_type": "execute_result"
    }
   ],
   "source": [
    "#combined_data.dropna(inplace=True)\n",
    "combined_data"
   ]
  },
  {
   "cell_type": "code",
   "execution_count": 12,
   "id": "1cbdd154-5a0b-47b3-92bd-84d29728d2a7",
   "metadata": {},
   "outputs": [],
   "source": [
    "combined_data.to_parquet('yahoo-finance.parquet')"
   ]
  },
  {
   "cell_type": "code",
   "execution_count": null,
   "id": "bf5f7c10-42d2-4505-ae09-ba1d51655b58",
   "metadata": {},
   "outputs": [],
   "source": []
  }
 ],
 "metadata": {
  "kernelspec": {
   "display_name": "Python 3 (ipykernel)",
   "language": "python",
   "name": "python3"
  },
  "language_info": {
   "codemirror_mode": {
    "name": "ipython",
    "version": 3
   },
   "file_extension": ".py",
   "mimetype": "text/x-python",
   "name": "python",
   "nbconvert_exporter": "python",
   "pygments_lexer": "ipython3",
   "version": "3.12.2"
  }
 },
 "nbformat": 4,
 "nbformat_minor": 5
}
