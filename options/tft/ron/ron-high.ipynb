{
 "cells": [
  {
   "cell_type": "markdown",
   "id": "63b0bfb3-96d6-48cc-b261-6ed2924aad11",
   "metadata": {},
   "source": [
    "# Ron High"
   ]
  },
  {
   "cell_type": "code",
   "execution_count": 1,
   "id": "98425636-8a8b-421f-afd8-68dccc65159e",
   "metadata": {},
   "outputs": [],
   "source": [
    "import pandas as pd"
   ]
  },
  {
   "cell_type": "code",
   "execution_count": 2,
   "id": "0b9da0bc-1413-4bcd-8b51-9286d86fdd32",
   "metadata": {},
   "outputs": [],
   "source": [
    "df = pd.read_parquet(\"yahoo-finance.parquet\")"
   ]
  },
  {
   "cell_type": "code",
   "execution_count": 3,
   "id": "16c9cd48-db18-40fa-bbdc-d20473815d31",
   "metadata": {},
   "outputs": [],
   "source": [
    "yfinance_metrics = [\n",
    "    \"BTC-CAD_High\",\n",
    "    \"BTC-CAD_Low\",\n",
    "]\n",
    "\n",
    "df = df[yfinance_metrics]"
   ]
  },
  {
   "cell_type": "code",
   "execution_count": 4,
   "id": "a5001d85-6388-4d46-b27b-36b8d6ae11d3",
   "metadata": {},
   "outputs": [
    {
     "data": {
      "text/html": [
       "<div>\n",
       "<style scoped>\n",
       "    .dataframe tbody tr th:only-of-type {\n",
       "        vertical-align: middle;\n",
       "    }\n",
       "\n",
       "    .dataframe tbody tr th {\n",
       "        vertical-align: top;\n",
       "    }\n",
       "\n",
       "    .dataframe thead th {\n",
       "        text-align: right;\n",
       "    }\n",
       "</style>\n",
       "<table border=\"1\" class=\"dataframe\">\n",
       "  <thead>\n",
       "    <tr style=\"text-align: right;\">\n",
       "      <th></th>\n",
       "      <th>BTC-CAD_High</th>\n",
       "      <th>BTC-CAD_Low</th>\n",
       "    </tr>\n",
       "    <tr>\n",
       "      <th>Date</th>\n",
       "      <th></th>\n",
       "      <th></th>\n",
       "    </tr>\n",
       "  </thead>\n",
       "  <tbody>\n",
       "    <tr>\n",
       "      <th>2014-09-17</th>\n",
       "      <td>513.446411</td>\n",
       "      <td>497.302246</td>\n",
       "    </tr>\n",
       "    <tr>\n",
       "      <th>2014-09-18</th>\n",
       "      <td>502.728729</td>\n",
       "      <td>452.183655</td>\n",
       "    </tr>\n",
       "    <tr>\n",
       "      <th>2014-09-19</th>\n",
       "      <td>468.607666</td>\n",
       "      <td>419.985870</td>\n",
       "    </tr>\n",
       "    <tr>\n",
       "      <th>2014-09-20</th>\n",
       "      <td>463.974731</td>\n",
       "      <td>427.350739</td>\n",
       "    </tr>\n",
       "    <tr>\n",
       "      <th>2014-09-21</th>\n",
       "      <td>452.060120</td>\n",
       "      <td>430.965698</td>\n",
       "    </tr>\n",
       "    <tr>\n",
       "      <th>...</th>\n",
       "      <td>...</td>\n",
       "      <td>...</td>\n",
       "    </tr>\n",
       "    <tr>\n",
       "      <th>2024-03-04</th>\n",
       "      <td>85708.109375</td>\n",
       "      <td>83437.976562</td>\n",
       "    </tr>\n",
       "    <tr>\n",
       "      <th>2024-03-05</th>\n",
       "      <td>93044.843750</td>\n",
       "      <td>84514.890625</td>\n",
       "    </tr>\n",
       "    <tr>\n",
       "      <th>2024-03-06</th>\n",
       "      <td>93812.804688</td>\n",
       "      <td>80644.625000</td>\n",
       "    </tr>\n",
       "    <tr>\n",
       "      <th>2024-03-07</th>\n",
       "      <td>91916.906250</td>\n",
       "      <td>85369.171875</td>\n",
       "    </tr>\n",
       "    <tr>\n",
       "      <th>2024-03-08</th>\n",
       "      <td>91648.546875</td>\n",
       "      <td>88748.687500</td>\n",
       "    </tr>\n",
       "  </tbody>\n",
       "</table>\n",
       "<p>3461 rows × 2 columns</p>\n",
       "</div>"
      ],
      "text/plain": [
       "            BTC-CAD_High   BTC-CAD_Low\n",
       "Date                                  \n",
       "2014-09-17    513.446411    497.302246\n",
       "2014-09-18    502.728729    452.183655\n",
       "2014-09-19    468.607666    419.985870\n",
       "2014-09-20    463.974731    427.350739\n",
       "2014-09-21    452.060120    430.965698\n",
       "...                  ...           ...\n",
       "2024-03-04  85708.109375  83437.976562\n",
       "2024-03-05  93044.843750  84514.890625\n",
       "2024-03-06  93812.804688  80644.625000\n",
       "2024-03-07  91916.906250  85369.171875\n",
       "2024-03-08  91648.546875  88748.687500\n",
       "\n",
       "[3461 rows x 2 columns]"
      ]
     },
     "execution_count": 4,
     "metadata": {},
     "output_type": "execute_result"
    }
   ],
   "source": [
    "# Assuming df is your DataFrame after resampling and you've already dropped NA values\n",
    "df.dropna(inplace=True)\n",
    "\n",
    "# Add an assertion to ensure there are no NA values in the DataFrame\n",
    "assert df.isnull().sum().sum() == 0, \"DataFrame contains NA values\"\n",
    "\n",
    "df"
   ]
  },
  {
   "cell_type": "code",
   "execution_count": 5,
   "id": "2f8ae61c-85c4-4789-93c6-e473fb853a40",
   "metadata": {},
   "outputs": [
    {
     "name": "stderr",
     "output_type": "stream",
     "text": [
      "Trainer will use only 1 of 2 GPUs because it is running inside an interactive / notebook environment. You may try to set `Trainer(devices=2)` but please note that multi-GPU inside interactive / notebook environments is considered experimental and unstable. Your mileage may vary.\n",
      "GPU available: True (cuda), used: True\n",
      "TPU available: False, using: 0 TPU cores\n",
      "IPU available: False, using: 0 IPUs\n",
      "HPU available: False, using: 0 HPUs\n",
      "C:\\Users\\falty\\AppData\\Local\\Programs\\Python\\Python312\\Lib\\site-packages\\lightning\\pytorch\\trainer\\connectors\\logger_connector\\logger_connector.py:67: Starting from v1.9.0, `tensorboardX` has been removed as a dependency of the `lightning.pytorch` package, due to potential conflicts with other packages in the ML ecosystem. For this reason, `logger=True` will use `CSVLogger` as the default logger, unless the `tensorboard` or `tensorboardX` packages are found. Please `pip install lightning[extra]` or one of them to enable TensorBoard support by default\n",
      "C:\\Users\\falty\\AppData\\Local\\Programs\\Python\\Python312\\Lib\\site-packages\\lightning\\pytorch\\trainer\\configuration_validator.py:74: You defined a `validation_step` but have no `val_dataloader`. Skipping val loop.\n",
      "LOCAL_RANK: 0 - CUDA_VISIBLE_DEVICES: [0,1]\n",
      "\n",
      "  | Name  | Type                           | Params | In sizes                                                                           | Out sizes\n",
      "----------------------------------------------------------------------------------------------------------------------------------------------------------\n",
      "0 | model | TemporalFusionTransformerModel | 6.7 M  | [[1, 60], [1, 60], [1, 1], [1, 1], [1, 61, 3], [1, 61, 0], [1, 60, 0], [1, 60, 0]] | [1, 3, 1]\n",
      "----------------------------------------------------------------------------------------------------------------------------------------------------------\n",
      "6.7 M     Trainable params\n",
      "0         Non-trainable params\n",
      "6.7 M     Total params\n",
      "26.670    Total estimated model params size (MB)\n"
     ]
    },
    {
     "name": "stdout",
     "output_type": "stream",
     "text": [
      "Epoch 0: |                                               | 100/? [00:10<00:00,  9.15it/s, v_num=22, train_loss=1.91e+3]"
     ]
    },
    {
     "name": "stderr",
     "output_type": "stream",
     "text": [
      "Epoch 0, global step 100: 'train_loss' reached 1914.71033 (best 1914.71033), saving model to 'C:\\\\Users\\\\falty\\\\Desktop\\\\GZS\\\\trading\\\\options\\\\tft\\\\ron\\\\lightning_logs\\\\version_22\\\\checkpoints\\\\epoch=0-step=100.ckpt' as top 1\n"
     ]
    },
    {
     "name": "stdout",
     "output_type": "stream",
     "text": [
      "Epoch 1: |                                               | 100/? [00:10<00:00,  9.11it/s, v_num=22, train_loss=1.01e+3]"
     ]
    },
    {
     "name": "stderr",
     "output_type": "stream",
     "text": [
      "Epoch 1, global step 200: 'train_loss' reached 1007.01678 (best 1007.01678), saving model to 'C:\\\\Users\\\\falty\\\\Desktop\\\\GZS\\\\trading\\\\options\\\\tft\\\\ron\\\\lightning_logs\\\\version_22\\\\checkpoints\\\\epoch=1-step=200.ckpt' as top 1\n"
     ]
    },
    {
     "name": "stdout",
     "output_type": "stream",
     "text": [
      "Epoch 2: |                                                 | 100/? [00:10<00:00,  9.13it/s, v_num=22, train_loss=948.0]"
     ]
    },
    {
     "name": "stderr",
     "output_type": "stream",
     "text": [
      "Epoch 2, global step 300: 'train_loss' reached 948.20239 (best 948.20239), saving model to 'C:\\\\Users\\\\falty\\\\Desktop\\\\GZS\\\\trading\\\\options\\\\tft\\\\ron\\\\lightning_logs\\\\version_22\\\\checkpoints\\\\epoch=2-step=300.ckpt' as top 1\n"
     ]
    },
    {
     "name": "stdout",
     "output_type": "stream",
     "text": [
      "Epoch 3: |                                                 | 100/? [00:10<00:00,  9.10it/s, v_num=22, train_loss=950.0]"
     ]
    },
    {
     "name": "stderr",
     "output_type": "stream",
     "text": [
      "Epoch 3, global step 400: 'train_loss' was not in top 1\n"
     ]
    },
    {
     "name": "stdout",
     "output_type": "stream",
     "text": [
      "Epoch 4: |                                                 | 100/? [00:10<00:00,  9.14it/s, v_num=22, train_loss=928.0]"
     ]
    },
    {
     "name": "stderr",
     "output_type": "stream",
     "text": [
      "Epoch 4, global step 500: 'train_loss' reached 927.88306 (best 927.88306), saving model to 'C:\\\\Users\\\\falty\\\\Desktop\\\\GZS\\\\trading\\\\options\\\\tft\\\\ron\\\\lightning_logs\\\\version_22\\\\checkpoints\\\\epoch=4-step=500.ckpt' as top 1\n"
     ]
    },
    {
     "name": "stdout",
     "output_type": "stream",
     "text": [
      "Epoch 5: |                                                 | 100/? [00:10<00:00,  9.16it/s, v_num=22, train_loss=955.0]"
     ]
    },
    {
     "name": "stderr",
     "output_type": "stream",
     "text": [
      "Epoch 5, global step 600: 'train_loss' was not in top 1\n"
     ]
    },
    {
     "name": "stdout",
     "output_type": "stream",
     "text": [
      "Epoch 6: |                                                 | 100/? [00:10<00:00,  9.12it/s, v_num=22, train_loss=892.0]"
     ]
    },
    {
     "name": "stderr",
     "output_type": "stream",
     "text": [
      "Epoch 6, global step 700: 'train_loss' reached 892.31018 (best 892.31018), saving model to 'C:\\\\Users\\\\falty\\\\Desktop\\\\GZS\\\\trading\\\\options\\\\tft\\\\ron\\\\lightning_logs\\\\version_22\\\\checkpoints\\\\epoch=6-step=700.ckpt' as top 1\n"
     ]
    },
    {
     "name": "stdout",
     "output_type": "stream",
     "text": [
      "Epoch 7: |                                                 | 100/? [00:10<00:00,  9.16it/s, v_num=22, train_loss=902.0]"
     ]
    },
    {
     "name": "stderr",
     "output_type": "stream",
     "text": [
      "Epoch 7, global step 800: 'train_loss' was not in top 1\n"
     ]
    },
    {
     "name": "stdout",
     "output_type": "stream",
     "text": [
      "Epoch 8: |                                                 | 100/? [00:10<00:00,  9.26it/s, v_num=22, train_loss=891.0]"
     ]
    },
    {
     "name": "stderr",
     "output_type": "stream",
     "text": [
      "Epoch 8, global step 900: 'train_loss' reached 890.93384 (best 890.93384), saving model to 'C:\\\\Users\\\\falty\\\\Desktop\\\\GZS\\\\trading\\\\options\\\\tft\\\\ron\\\\lightning_logs\\\\version_22\\\\checkpoints\\\\epoch=8-step=900.ckpt' as top 1\n"
     ]
    },
    {
     "name": "stdout",
     "output_type": "stream",
     "text": [
      "Epoch 9: |                                                 | 100/? [00:10<00:00,  9.11it/s, v_num=22, train_loss=919.0]"
     ]
    },
    {
     "name": "stderr",
     "output_type": "stream",
     "text": [
      "Epoch 9, global step 1000: 'train_loss' was not in top 1\n"
     ]
    },
    {
     "name": "stdout",
     "output_type": "stream",
     "text": [
      "Epoch 10: |                                                | 100/? [00:10<00:00,  9.17it/s, v_num=22, train_loss=889.0]"
     ]
    },
    {
     "name": "stderr",
     "output_type": "stream",
     "text": [
      "Epoch 10, global step 1100: 'train_loss' reached 888.87140 (best 888.87140), saving model to 'C:\\\\Users\\\\falty\\\\Desktop\\\\GZS\\\\trading\\\\options\\\\tft\\\\ron\\\\lightning_logs\\\\version_22\\\\checkpoints\\\\epoch=10-step=1100.ckpt' as top 1\n"
     ]
    },
    {
     "name": "stdout",
     "output_type": "stream",
     "text": [
      "Epoch 11: |                                                | 100/? [00:10<00:00,  9.23it/s, v_num=22, train_loss=862.0]"
     ]
    },
    {
     "name": "stderr",
     "output_type": "stream",
     "text": [
      "Epoch 11, global step 1200: 'train_loss' reached 861.65619 (best 861.65619), saving model to 'C:\\\\Users\\\\falty\\\\Desktop\\\\GZS\\\\trading\\\\options\\\\tft\\\\ron\\\\lightning_logs\\\\version_22\\\\checkpoints\\\\epoch=11-step=1200.ckpt' as top 1\n"
     ]
    },
    {
     "name": "stdout",
     "output_type": "stream",
     "text": [
      "Epoch 12: |                                                | 100/? [00:10<00:00,  9.24it/s, v_num=22, train_loss=867.0]"
     ]
    },
    {
     "name": "stderr",
     "output_type": "stream",
     "text": [
      "Epoch 12, global step 1300: 'train_loss' was not in top 1\n"
     ]
    },
    {
     "name": "stdout",
     "output_type": "stream",
     "text": [
      "Epoch 13: |                                                | 100/? [00:10<00:00,  9.18it/s, v_num=22, train_loss=871.0]"
     ]
    },
    {
     "name": "stderr",
     "output_type": "stream",
     "text": [
      "Epoch 13, global step 1400: 'train_loss' was not in top 1\n"
     ]
    },
    {
     "name": "stdout",
     "output_type": "stream",
     "text": [
      "Epoch 14: |                                                | 100/? [00:10<00:00,  9.09it/s, v_num=22, train_loss=841.0]"
     ]
    },
    {
     "name": "stderr",
     "output_type": "stream",
     "text": [
      "Epoch 14, global step 1500: 'train_loss' reached 840.77466 (best 840.77466), saving model to 'C:\\\\Users\\\\falty\\\\Desktop\\\\GZS\\\\trading\\\\options\\\\tft\\\\ron\\\\lightning_logs\\\\version_22\\\\checkpoints\\\\epoch=14-step=1500.ckpt' as top 1\n"
     ]
    },
    {
     "name": "stdout",
     "output_type": "stream",
     "text": [
      "Epoch 15: |                                                | 100/? [00:10<00:00,  9.14it/s, v_num=22, train_loss=853.0]"
     ]
    },
    {
     "name": "stderr",
     "output_type": "stream",
     "text": [
      "Epoch 15, global step 1600: 'train_loss' was not in top 1\n"
     ]
    },
    {
     "name": "stdout",
     "output_type": "stream",
     "text": [
      "Epoch 16: |                                                | 100/? [00:10<00:00,  9.21it/s, v_num=22, train_loss=828.0]"
     ]
    },
    {
     "name": "stderr",
     "output_type": "stream",
     "text": [
      "Epoch 16, global step 1700: 'train_loss' reached 827.78522 (best 827.78522), saving model to 'C:\\\\Users\\\\falty\\\\Desktop\\\\GZS\\\\trading\\\\options\\\\tft\\\\ron\\\\lightning_logs\\\\version_22\\\\checkpoints\\\\epoch=16-step=1700.ckpt' as top 1\n"
     ]
    },
    {
     "name": "stdout",
     "output_type": "stream",
     "text": [
      "Epoch 17: |                                                | 100/? [00:10<00:00,  9.25it/s, v_num=22, train_loss=852.0]"
     ]
    },
    {
     "name": "stderr",
     "output_type": "stream",
     "text": [
      "Epoch 17, global step 1800: 'train_loss' was not in top 1\n"
     ]
    },
    {
     "name": "stdout",
     "output_type": "stream",
     "text": [
      "Epoch 18: |                                                | 100/? [00:10<00:00,  9.13it/s, v_num=22, train_loss=840.0]"
     ]
    },
    {
     "name": "stderr",
     "output_type": "stream",
     "text": [
      "Epoch 18, global step 1900: 'train_loss' was not in top 1\n"
     ]
    },
    {
     "name": "stdout",
     "output_type": "stream",
     "text": [
      "Epoch 19: |                                                | 100/? [00:10<00:00,  9.12it/s, v_num=22, train_loss=809.0]"
     ]
    },
    {
     "name": "stderr",
     "output_type": "stream",
     "text": [
      "Epoch 19, global step 2000: 'train_loss' reached 809.27026 (best 809.27026), saving model to 'C:\\\\Users\\\\falty\\\\Desktop\\\\GZS\\\\trading\\\\options\\\\tft\\\\ron\\\\lightning_logs\\\\version_22\\\\checkpoints\\\\epoch=19-step=2000.ckpt' as top 1\n"
     ]
    },
    {
     "name": "stdout",
     "output_type": "stream",
     "text": [
      "Epoch 20: |                                                | 100/? [00:10<00:00,  9.13it/s, v_num=22, train_loss=833.0]"
     ]
    },
    {
     "name": "stderr",
     "output_type": "stream",
     "text": [
      "Epoch 20, global step 2100: 'train_loss' was not in top 1\n"
     ]
    },
    {
     "name": "stdout",
     "output_type": "stream",
     "text": [
      "Epoch 21: |                                                | 100/? [00:11<00:00,  9.02it/s, v_num=22, train_loss=805.0]"
     ]
    },
    {
     "name": "stderr",
     "output_type": "stream",
     "text": [
      "Epoch 21, global step 2200: 'train_loss' reached 805.25818 (best 805.25818), saving model to 'C:\\\\Users\\\\falty\\\\Desktop\\\\GZS\\\\trading\\\\options\\\\tft\\\\ron\\\\lightning_logs\\\\version_22\\\\checkpoints\\\\epoch=21-step=2200.ckpt' as top 1\n"
     ]
    },
    {
     "name": "stdout",
     "output_type": "stream",
     "text": [
      "Epoch 22: |                                                | 100/? [00:11<00:00,  9.08it/s, v_num=22, train_loss=816.0]"
     ]
    },
    {
     "name": "stderr",
     "output_type": "stream",
     "text": [
      "Epoch 22, global step 2300: 'train_loss' was not in top 1\n"
     ]
    },
    {
     "name": "stdout",
     "output_type": "stream",
     "text": [
      "Epoch 23: |                                                | 100/? [00:10<00:00,  9.18it/s, v_num=22, train_loss=811.0]"
     ]
    },
    {
     "name": "stderr",
     "output_type": "stream",
     "text": [
      "Epoch 23, global step 2400: 'train_loss' was not in top 1\n"
     ]
    },
    {
     "name": "stdout",
     "output_type": "stream",
     "text": [
      "Epoch 24: |                                                | 100/? [00:10<00:00,  9.19it/s, v_num=22, train_loss=784.0]"
     ]
    },
    {
     "name": "stderr",
     "output_type": "stream",
     "text": [
      "Epoch 24, global step 2500: 'train_loss' reached 784.25836 (best 784.25836), saving model to 'C:\\\\Users\\\\falty\\\\Desktop\\\\GZS\\\\trading\\\\options\\\\tft\\\\ron\\\\lightning_logs\\\\version_22\\\\checkpoints\\\\epoch=24-step=2500.ckpt' as top 1\n"
     ]
    },
    {
     "name": "stdout",
     "output_type": "stream",
     "text": [
      "Epoch 25: |                                                | 100/? [00:10<00:00,  9.24it/s, v_num=22, train_loss=773.0]"
     ]
    },
    {
     "name": "stderr",
     "output_type": "stream",
     "text": [
      "Epoch 25, global step 2600: 'train_loss' reached 773.14185 (best 773.14185), saving model to 'C:\\\\Users\\\\falty\\\\Desktop\\\\GZS\\\\trading\\\\options\\\\tft\\\\ron\\\\lightning_logs\\\\version_22\\\\checkpoints\\\\epoch=25-step=2600.ckpt' as top 1\n"
     ]
    },
    {
     "name": "stdout",
     "output_type": "stream",
     "text": [
      "Epoch 26: |                                                | 100/? [00:11<00:00,  9.06it/s, v_num=22, train_loss=776.0]"
     ]
    },
    {
     "name": "stderr",
     "output_type": "stream",
     "text": [
      "Epoch 26, global step 2700: 'train_loss' was not in top 1\n"
     ]
    },
    {
     "name": "stdout",
     "output_type": "stream",
     "text": [
      "Epoch 27: |                                                | 100/? [00:10<00:00,  9.19it/s, v_num=22, train_loss=768.0]"
     ]
    },
    {
     "name": "stderr",
     "output_type": "stream",
     "text": [
      "Epoch 27, global step 2800: 'train_loss' reached 768.03827 (best 768.03827), saving model to 'C:\\\\Users\\\\falty\\\\Desktop\\\\GZS\\\\trading\\\\options\\\\tft\\\\ron\\\\lightning_logs\\\\version_22\\\\checkpoints\\\\epoch=27-step=2800.ckpt' as top 1\n"
     ]
    },
    {
     "name": "stdout",
     "output_type": "stream",
     "text": [
      "Epoch 28: |                                                | 100/? [00:10<00:00,  9.12it/s, v_num=22, train_loss=780.0]"
     ]
    },
    {
     "name": "stderr",
     "output_type": "stream",
     "text": [
      "Epoch 28, global step 2900: 'train_loss' was not in top 1\n"
     ]
    },
    {
     "name": "stdout",
     "output_type": "stream",
     "text": [
      "Epoch 29: |                                                | 100/? [00:10<00:00,  9.18it/s, v_num=22, train_loss=718.0]"
     ]
    },
    {
     "name": "stderr",
     "output_type": "stream",
     "text": [
      "Epoch 29, global step 3000: 'train_loss' reached 718.47748 (best 718.47748), saving model to 'C:\\\\Users\\\\falty\\\\Desktop\\\\GZS\\\\trading\\\\options\\\\tft\\\\ron\\\\lightning_logs\\\\version_22\\\\checkpoints\\\\epoch=29-step=3000.ckpt' as top 1\n"
     ]
    },
    {
     "name": "stdout",
     "output_type": "stream",
     "text": [
      "Epoch 30: |                                                | 100/? [00:10<00:00,  9.26it/s, v_num=22, train_loss=701.0]"
     ]
    },
    {
     "name": "stderr",
     "output_type": "stream",
     "text": [
      "Epoch 30, global step 3100: 'train_loss' reached 700.53174 (best 700.53174), saving model to 'C:\\\\Users\\\\falty\\\\Desktop\\\\GZS\\\\trading\\\\options\\\\tft\\\\ron\\\\lightning_logs\\\\version_22\\\\checkpoints\\\\epoch=30-step=3100.ckpt' as top 1\n"
     ]
    },
    {
     "name": "stdout",
     "output_type": "stream",
     "text": [
      "Epoch 31: |                                                | 100/? [00:10<00:00,  9.12it/s, v_num=22, train_loss=698.0]"
     ]
    },
    {
     "name": "stderr",
     "output_type": "stream",
     "text": [
      "Epoch 31, global step 3200: 'train_loss' reached 698.47498 (best 698.47498), saving model to 'C:\\\\Users\\\\falty\\\\Desktop\\\\GZS\\\\trading\\\\options\\\\tft\\\\ron\\\\lightning_logs\\\\version_22\\\\checkpoints\\\\epoch=31-step=3200.ckpt' as top 1\n"
     ]
    },
    {
     "name": "stdout",
     "output_type": "stream",
     "text": [
      "Epoch 32: |                                                | 100/? [00:10<00:00,  9.11it/s, v_num=22, train_loss=692.0]"
     ]
    },
    {
     "name": "stderr",
     "output_type": "stream",
     "text": [
      "Epoch 32, global step 3300: 'train_loss' reached 692.17999 (best 692.17999), saving model to 'C:\\\\Users\\\\falty\\\\Desktop\\\\GZS\\\\trading\\\\options\\\\tft\\\\ron\\\\lightning_logs\\\\version_22\\\\checkpoints\\\\epoch=32-step=3300.ckpt' as top 1\n"
     ]
    },
    {
     "name": "stdout",
     "output_type": "stream",
     "text": [
      "Epoch 33: |                                                | 100/? [00:10<00:00,  9.18it/s, v_num=22, train_loss=669.0]"
     ]
    },
    {
     "name": "stderr",
     "output_type": "stream",
     "text": [
      "Epoch 33, global step 3400: 'train_loss' reached 669.21326 (best 669.21326), saving model to 'C:\\\\Users\\\\falty\\\\Desktop\\\\GZS\\\\trading\\\\options\\\\tft\\\\ron\\\\lightning_logs\\\\version_22\\\\checkpoints\\\\epoch=33-step=3400.ckpt' as top 1\n"
     ]
    },
    {
     "name": "stdout",
     "output_type": "stream",
     "text": [
      "Epoch 34: |                                                | 100/? [00:10<00:00,  9.20it/s, v_num=22, train_loss=655.0]"
     ]
    },
    {
     "name": "stderr",
     "output_type": "stream",
     "text": [
      "Epoch 34, global step 3500: 'train_loss' reached 654.66089 (best 654.66089), saving model to 'C:\\\\Users\\\\falty\\\\Desktop\\\\GZS\\\\trading\\\\options\\\\tft\\\\ron\\\\lightning_logs\\\\version_22\\\\checkpoints\\\\epoch=34-step=3500.ckpt' as top 1\n"
     ]
    },
    {
     "name": "stdout",
     "output_type": "stream",
     "text": [
      "Epoch 35: |                                                | 100/? [00:10<00:00,  9.18it/s, v_num=22, train_loss=623.0]"
     ]
    },
    {
     "name": "stderr",
     "output_type": "stream",
     "text": [
      "Epoch 35, global step 3600: 'train_loss' reached 623.39630 (best 623.39630), saving model to 'C:\\\\Users\\\\falty\\\\Desktop\\\\GZS\\\\trading\\\\options\\\\tft\\\\ron\\\\lightning_logs\\\\version_22\\\\checkpoints\\\\epoch=35-step=3600.ckpt' as top 1\n"
     ]
    },
    {
     "name": "stdout",
     "output_type": "stream",
     "text": [
      "Epoch 36: |                                                | 100/? [00:10<00:00,  9.17it/s, v_num=22, train_loss=641.0]"
     ]
    },
    {
     "name": "stderr",
     "output_type": "stream",
     "text": [
      "Epoch 36, global step 3700: 'train_loss' was not in top 1\n"
     ]
    },
    {
     "name": "stdout",
     "output_type": "stream",
     "text": [
      "Epoch 37: |                                                | 100/? [00:10<00:00,  9.27it/s, v_num=22, train_loss=626.0]"
     ]
    },
    {
     "name": "stderr",
     "output_type": "stream",
     "text": [
      "Epoch 37, global step 3800: 'train_loss' was not in top 1\n"
     ]
    },
    {
     "name": "stdout",
     "output_type": "stream",
     "text": [
      "Epoch 38: |                                                | 100/? [00:11<00:00,  9.09it/s, v_num=22, train_loss=592.0]"
     ]
    },
    {
     "name": "stderr",
     "output_type": "stream",
     "text": [
      "Epoch 38, global step 3900: 'train_loss' reached 591.94452 (best 591.94452), saving model to 'C:\\\\Users\\\\falty\\\\Desktop\\\\GZS\\\\trading\\\\options\\\\tft\\\\ron\\\\lightning_logs\\\\version_22\\\\checkpoints\\\\epoch=38-step=3900.ckpt' as top 1\n"
     ]
    },
    {
     "name": "stdout",
     "output_type": "stream",
     "text": [
      "Epoch 39: |                                                | 100/? [00:10<00:00,  9.14it/s, v_num=22, train_loss=574.0]"
     ]
    },
    {
     "name": "stderr",
     "output_type": "stream",
     "text": [
      "Epoch 39, global step 4000: 'train_loss' reached 573.53595 (best 573.53595), saving model to 'C:\\\\Users\\\\falty\\\\Desktop\\\\GZS\\\\trading\\\\options\\\\tft\\\\ron\\\\lightning_logs\\\\version_22\\\\checkpoints\\\\epoch=39-step=4000.ckpt' as top 1\n"
     ]
    },
    {
     "name": "stdout",
     "output_type": "stream",
     "text": [
      "Epoch 40: |                                                | 100/? [00:11<00:00,  8.87it/s, v_num=22, train_loss=570.0]"
     ]
    },
    {
     "name": "stderr",
     "output_type": "stream",
     "text": [
      "Epoch 40, global step 4100: 'train_loss' reached 569.85309 (best 569.85309), saving model to 'C:\\\\Users\\\\falty\\\\Desktop\\\\GZS\\\\trading\\\\options\\\\tft\\\\ron\\\\lightning_logs\\\\version_22\\\\checkpoints\\\\epoch=40-step=4100.ckpt' as top 1\n"
     ]
    },
    {
     "name": "stdout",
     "output_type": "stream",
     "text": [
      "Epoch 41: |                                                | 100/? [00:10<00:00,  9.12it/s, v_num=22, train_loss=548.0]"
     ]
    },
    {
     "name": "stderr",
     "output_type": "stream",
     "text": [
      "Epoch 41, global step 4200: 'train_loss' reached 548.49585 (best 548.49585), saving model to 'C:\\\\Users\\\\falty\\\\Desktop\\\\GZS\\\\trading\\\\options\\\\tft\\\\ron\\\\lightning_logs\\\\version_22\\\\checkpoints\\\\epoch=41-step=4200.ckpt' as top 1\n"
     ]
    },
    {
     "name": "stdout",
     "output_type": "stream",
     "text": [
      "Epoch 42: |                                                | 100/? [00:10<00:00,  9.24it/s, v_num=22, train_loss=515.0]"
     ]
    },
    {
     "name": "stderr",
     "output_type": "stream",
     "text": [
      "Epoch 42, global step 4300: 'train_loss' reached 515.25427 (best 515.25427), saving model to 'C:\\\\Users\\\\falty\\\\Desktop\\\\GZS\\\\trading\\\\options\\\\tft\\\\ron\\\\lightning_logs\\\\version_22\\\\checkpoints\\\\epoch=42-step=4300.ckpt' as top 1\n"
     ]
    },
    {
     "name": "stdout",
     "output_type": "stream",
     "text": [
      "Epoch 43: |                                                | 100/? [00:10<00:00,  9.21it/s, v_num=22, train_loss=501.0]"
     ]
    },
    {
     "name": "stderr",
     "output_type": "stream",
     "text": [
      "Epoch 43, global step 4400: 'train_loss' reached 501.07809 (best 501.07809), saving model to 'C:\\\\Users\\\\falty\\\\Desktop\\\\GZS\\\\trading\\\\options\\\\tft\\\\ron\\\\lightning_logs\\\\version_22\\\\checkpoints\\\\epoch=43-step=4400.ckpt' as top 1\n"
     ]
    },
    {
     "name": "stdout",
     "output_type": "stream",
     "text": [
      "Epoch 44: |                                                | 100/? [00:10<00:00,  9.14it/s, v_num=22, train_loss=490.0]"
     ]
    },
    {
     "name": "stderr",
     "output_type": "stream",
     "text": [
      "Epoch 44, global step 4500: 'train_loss' reached 489.56958 (best 489.56958), saving model to 'C:\\\\Users\\\\falty\\\\Desktop\\\\GZS\\\\trading\\\\options\\\\tft\\\\ron\\\\lightning_logs\\\\version_22\\\\checkpoints\\\\epoch=44-step=4500.ckpt' as top 1\n"
     ]
    },
    {
     "name": "stdout",
     "output_type": "stream",
     "text": [
      "Epoch 45: |                                                | 100/? [00:10<00:00,  9.16it/s, v_num=22, train_loss=468.0]"
     ]
    },
    {
     "name": "stderr",
     "output_type": "stream",
     "text": [
      "Epoch 45, global step 4600: 'train_loss' reached 467.57614 (best 467.57614), saving model to 'C:\\\\Users\\\\falty\\\\Desktop\\\\GZS\\\\trading\\\\options\\\\tft\\\\ron\\\\lightning_logs\\\\version_22\\\\checkpoints\\\\epoch=45-step=4600.ckpt' as top 1\n"
     ]
    },
    {
     "name": "stdout",
     "output_type": "stream",
     "text": [
      "Epoch 46: |                                                | 100/? [00:10<00:00,  9.20it/s, v_num=22, train_loss=462.0]"
     ]
    },
    {
     "name": "stderr",
     "output_type": "stream",
     "text": [
      "Epoch 46, global step 4700: 'train_loss' reached 462.48944 (best 462.48944), saving model to 'C:\\\\Users\\\\falty\\\\Desktop\\\\GZS\\\\trading\\\\options\\\\tft\\\\ron\\\\lightning_logs\\\\version_22\\\\checkpoints\\\\epoch=46-step=4700.ckpt' as top 1\n"
     ]
    },
    {
     "name": "stdout",
     "output_type": "stream",
     "text": [
      "Epoch 47: |                                                | 100/? [00:10<00:00,  9.19it/s, v_num=22, train_loss=416.0]"
     ]
    },
    {
     "name": "stderr",
     "output_type": "stream",
     "text": [
      "Epoch 47, global step 4800: 'train_loss' reached 416.08884 (best 416.08884), saving model to 'C:\\\\Users\\\\falty\\\\Desktop\\\\GZS\\\\trading\\\\options\\\\tft\\\\ron\\\\lightning_logs\\\\version_22\\\\checkpoints\\\\epoch=47-step=4800.ckpt' as top 1\n"
     ]
    },
    {
     "name": "stdout",
     "output_type": "stream",
     "text": [
      "Epoch 48: |                                                | 100/? [00:10<00:00,  9.22it/s, v_num=22, train_loss=407.0]"
     ]
    },
    {
     "name": "stderr",
     "output_type": "stream",
     "text": [
      "Epoch 48, global step 4900: 'train_loss' reached 407.28448 (best 407.28448), saving model to 'C:\\\\Users\\\\falty\\\\Desktop\\\\GZS\\\\trading\\\\options\\\\tft\\\\ron\\\\lightning_logs\\\\version_22\\\\checkpoints\\\\epoch=48-step=4900.ckpt' as top 1\n"
     ]
    },
    {
     "name": "stdout",
     "output_type": "stream",
     "text": [
      "Epoch 49: |                                                | 100/? [00:10<00:00,  9.22it/s, v_num=22, train_loss=399.0]"
     ]
    },
    {
     "name": "stderr",
     "output_type": "stream",
     "text": [
      "Epoch 49, global step 5000: 'train_loss' reached 399.09384 (best 399.09384), saving model to 'C:\\\\Users\\\\falty\\\\Desktop\\\\GZS\\\\trading\\\\options\\\\tft\\\\ron\\\\lightning_logs\\\\version_22\\\\checkpoints\\\\epoch=49-step=5000.ckpt' as top 1\n"
     ]
    },
    {
     "name": "stdout",
     "output_type": "stream",
     "text": [
      "Epoch 50: |                                                | 100/? [00:10<00:00,  9.16it/s, v_num=22, train_loss=408.0]"
     ]
    },
    {
     "name": "stderr",
     "output_type": "stream",
     "text": [
      "Epoch 50, global step 5100: 'train_loss' was not in top 1\n"
     ]
    },
    {
     "name": "stdout",
     "output_type": "stream",
     "text": [
      "Epoch 51: |                                                | 100/? [00:11<00:00,  8.97it/s, v_num=22, train_loss=373.0]"
     ]
    },
    {
     "name": "stderr",
     "output_type": "stream",
     "text": [
      "Epoch 51, global step 5200: 'train_loss' reached 373.32648 (best 373.32648), saving model to 'C:\\\\Users\\\\falty\\\\Desktop\\\\GZS\\\\trading\\\\options\\\\tft\\\\ron\\\\lightning_logs\\\\version_22\\\\checkpoints\\\\epoch=51-step=5200.ckpt' as top 1\n"
     ]
    },
    {
     "name": "stdout",
     "output_type": "stream",
     "text": [
      "Epoch 52: |                                                | 100/? [00:10<00:00,  9.35it/s, v_num=22, train_loss=371.0]"
     ]
    },
    {
     "name": "stderr",
     "output_type": "stream",
     "text": [
      "Epoch 52, global step 5300: 'train_loss' reached 370.93219 (best 370.93219), saving model to 'C:\\\\Users\\\\falty\\\\Desktop\\\\GZS\\\\trading\\\\options\\\\tft\\\\ron\\\\lightning_logs\\\\version_22\\\\checkpoints\\\\epoch=52-step=5300.ckpt' as top 1\n"
     ]
    },
    {
     "name": "stdout",
     "output_type": "stream",
     "text": [
      "Epoch 53: |                                                | 100/? [00:10<00:00,  9.12it/s, v_num=22, train_loss=358.0]"
     ]
    },
    {
     "name": "stderr",
     "output_type": "stream",
     "text": [
      "Epoch 53, global step 5400: 'train_loss' reached 358.45032 (best 358.45032), saving model to 'C:\\\\Users\\\\falty\\\\Desktop\\\\GZS\\\\trading\\\\options\\\\tft\\\\ron\\\\lightning_logs\\\\version_22\\\\checkpoints\\\\epoch=53-step=5400.ckpt' as top 1\n"
     ]
    },
    {
     "name": "stdout",
     "output_type": "stream",
     "text": [
      "Epoch 54: |                                                | 100/? [00:11<00:00,  9.07it/s, v_num=22, train_loss=368.0]"
     ]
    },
    {
     "name": "stderr",
     "output_type": "stream",
     "text": [
      "Epoch 54, global step 5500: 'train_loss' was not in top 1\n"
     ]
    },
    {
     "name": "stdout",
     "output_type": "stream",
     "text": [
      "Epoch 55: |                                                | 100/? [00:10<00:00,  9.18it/s, v_num=22, train_loss=331.0]"
     ]
    },
    {
     "name": "stderr",
     "output_type": "stream",
     "text": [
      "Epoch 55, global step 5600: 'train_loss' reached 330.74384 (best 330.74384), saving model to 'C:\\\\Users\\\\falty\\\\Desktop\\\\GZS\\\\trading\\\\options\\\\tft\\\\ron\\\\lightning_logs\\\\version_22\\\\checkpoints\\\\epoch=55-step=5600.ckpt' as top 1\n"
     ]
    },
    {
     "name": "stdout",
     "output_type": "stream",
     "text": [
      "Epoch 56: |                                                | 100/? [00:10<00:00,  9.23it/s, v_num=22, train_loss=319.0]"
     ]
    },
    {
     "name": "stderr",
     "output_type": "stream",
     "text": [
      "Epoch 56, global step 5700: 'train_loss' reached 319.43616 (best 319.43616), saving model to 'C:\\\\Users\\\\falty\\\\Desktop\\\\GZS\\\\trading\\\\options\\\\tft\\\\ron\\\\lightning_logs\\\\version_22\\\\checkpoints\\\\epoch=56-step=5700.ckpt' as top 1\n"
     ]
    },
    {
     "name": "stdout",
     "output_type": "stream",
     "text": [
      "Epoch 57: |                                                | 100/? [00:10<00:00,  9.22it/s, v_num=22, train_loss=297.0]"
     ]
    },
    {
     "name": "stderr",
     "output_type": "stream",
     "text": [
      "Epoch 57, global step 5800: 'train_loss' reached 296.94611 (best 296.94611), saving model to 'C:\\\\Users\\\\falty\\\\Desktop\\\\GZS\\\\trading\\\\options\\\\tft\\\\ron\\\\lightning_logs\\\\version_22\\\\checkpoints\\\\epoch=57-step=5800.ckpt' as top 1\n"
     ]
    },
    {
     "name": "stdout",
     "output_type": "stream",
     "text": [
      "Epoch 58: |                                                | 100/? [00:10<00:00,  9.17it/s, v_num=22, train_loss=290.0]"
     ]
    },
    {
     "name": "stderr",
     "output_type": "stream",
     "text": [
      "Epoch 58, global step 5900: 'train_loss' reached 289.85199 (best 289.85199), saving model to 'C:\\\\Users\\\\falty\\\\Desktop\\\\GZS\\\\trading\\\\options\\\\tft\\\\ron\\\\lightning_logs\\\\version_22\\\\checkpoints\\\\epoch=58-step=5900.ckpt' as top 1\n"
     ]
    },
    {
     "name": "stdout",
     "output_type": "stream",
     "text": [
      "Epoch 59: |                                                | 100/? [00:10<00:00,  9.15it/s, v_num=22, train_loss=297.0]"
     ]
    },
    {
     "name": "stderr",
     "output_type": "stream",
     "text": [
      "Epoch 59, global step 6000: 'train_loss' was not in top 1\n"
     ]
    },
    {
     "name": "stdout",
     "output_type": "stream",
     "text": [
      "Epoch 60: |                                                | 100/? [00:11<00:00,  9.04it/s, v_num=22, train_loss=293.0]"
     ]
    },
    {
     "name": "stderr",
     "output_type": "stream",
     "text": [
      "Epoch 60, global step 6100: 'train_loss' was not in top 1\n"
     ]
    },
    {
     "name": "stdout",
     "output_type": "stream",
     "text": [
      "Epoch 61: |                                                | 100/? [00:10<00:00,  9.16it/s, v_num=22, train_loss=290.0]"
     ]
    },
    {
     "name": "stderr",
     "output_type": "stream",
     "text": [
      "Epoch 61, global step 6200: 'train_loss' was not in top 1\n"
     ]
    },
    {
     "name": "stdout",
     "output_type": "stream",
     "text": [
      "Epoch 62: |                                                | 100/? [00:10<00:00,  9.18it/s, v_num=22, train_loss=288.0]"
     ]
    },
    {
     "name": "stderr",
     "output_type": "stream",
     "text": [
      "Epoch 62, global step 6300: 'train_loss' reached 288.48300 (best 288.48300), saving model to 'C:\\\\Users\\\\falty\\\\Desktop\\\\GZS\\\\trading\\\\options\\\\tft\\\\ron\\\\lightning_logs\\\\version_22\\\\checkpoints\\\\epoch=62-step=6300.ckpt' as top 1\n"
     ]
    },
    {
     "name": "stdout",
     "output_type": "stream",
     "text": [
      "Epoch 63: |                                                | 100/? [00:10<00:00,  9.19it/s, v_num=22, train_loss=278.0]"
     ]
    },
    {
     "name": "stderr",
     "output_type": "stream",
     "text": [
      "Epoch 63, global step 6400: 'train_loss' reached 277.59009 (best 277.59009), saving model to 'C:\\\\Users\\\\falty\\\\Desktop\\\\GZS\\\\trading\\\\options\\\\tft\\\\ron\\\\lightning_logs\\\\version_22\\\\checkpoints\\\\epoch=63-step=6400.ckpt' as top 1\n"
     ]
    },
    {
     "name": "stdout",
     "output_type": "stream",
     "text": [
      "Epoch 64: |                                                | 100/? [00:10<00:00,  9.22it/s, v_num=22, train_loss=253.0]"
     ]
    },
    {
     "name": "stderr",
     "output_type": "stream",
     "text": [
      "Epoch 64, global step 6500: 'train_loss' reached 252.85866 (best 252.85866), saving model to 'C:\\\\Users\\\\falty\\\\Desktop\\\\GZS\\\\trading\\\\options\\\\tft\\\\ron\\\\lightning_logs\\\\version_22\\\\checkpoints\\\\epoch=64-step=6500.ckpt' as top 1\n"
     ]
    },
    {
     "name": "stdout",
     "output_type": "stream",
     "text": [
      "Epoch 65: |                                                | 100/? [00:10<00:00,  9.18it/s, v_num=22, train_loss=236.0]"
     ]
    },
    {
     "name": "stderr",
     "output_type": "stream",
     "text": [
      "Epoch 65, global step 6600: 'train_loss' reached 235.69496 (best 235.69496), saving model to 'C:\\\\Users\\\\falty\\\\Desktop\\\\GZS\\\\trading\\\\options\\\\tft\\\\ron\\\\lightning_logs\\\\version_22\\\\checkpoints\\\\epoch=65-step=6600.ckpt' as top 1\n"
     ]
    },
    {
     "name": "stdout",
     "output_type": "stream",
     "text": [
      "Epoch 66: |                                                | 100/? [00:10<00:00,  9.19it/s, v_num=22, train_loss=245.0]"
     ]
    },
    {
     "name": "stderr",
     "output_type": "stream",
     "text": [
      "Epoch 66, global step 6700: 'train_loss' was not in top 1\n"
     ]
    },
    {
     "name": "stdout",
     "output_type": "stream",
     "text": [
      "Epoch 67: |                                                | 100/? [00:10<00:00,  9.14it/s, v_num=22, train_loss=248.0]"
     ]
    },
    {
     "name": "stderr",
     "output_type": "stream",
     "text": [
      "Epoch 67, global step 6800: 'train_loss' was not in top 1\n"
     ]
    },
    {
     "name": "stdout",
     "output_type": "stream",
     "text": [
      "Epoch 68: |                                                | 100/? [00:10<00:00,  9.15it/s, v_num=22, train_loss=213.0]"
     ]
    },
    {
     "name": "stderr",
     "output_type": "stream",
     "text": [
      "Epoch 68, global step 6900: 'train_loss' reached 213.21632 (best 213.21632), saving model to 'C:\\\\Users\\\\falty\\\\Desktop\\\\GZS\\\\trading\\\\options\\\\tft\\\\ron\\\\lightning_logs\\\\version_22\\\\checkpoints\\\\epoch=68-step=6900.ckpt' as top 1\n"
     ]
    },
    {
     "name": "stdout",
     "output_type": "stream",
     "text": [
      "Epoch 69: |                                                | 100/? [00:11<00:00,  9.01it/s, v_num=22, train_loss=225.0]"
     ]
    },
    {
     "name": "stderr",
     "output_type": "stream",
     "text": [
      "Epoch 69, global step 7000: 'train_loss' was not in top 1\n"
     ]
    },
    {
     "name": "stdout",
     "output_type": "stream",
     "text": [
      "Epoch 70: |                                                | 100/? [00:10<00:00,  9.13it/s, v_num=22, train_loss=237.0]"
     ]
    },
    {
     "name": "stderr",
     "output_type": "stream",
     "text": [
      "Epoch 70, global step 7100: 'train_loss' was not in top 1\n"
     ]
    },
    {
     "name": "stdout",
     "output_type": "stream",
     "text": [
      "Epoch 71: |                                                | 100/? [00:10<00:00,  9.17it/s, v_num=22, train_loss=229.0]"
     ]
    },
    {
     "name": "stderr",
     "output_type": "stream",
     "text": [
      "Epoch 71, global step 7200: 'train_loss' was not in top 1\n"
     ]
    },
    {
     "name": "stdout",
     "output_type": "stream",
     "text": [
      "Epoch 72: |                                                | 100/? [00:10<00:00,  9.17it/s, v_num=22, train_loss=222.0]"
     ]
    },
    {
     "name": "stderr",
     "output_type": "stream",
     "text": [
      "Epoch 72, global step 7300: 'train_loss' was not in top 1\n"
     ]
    },
    {
     "name": "stdout",
     "output_type": "stream",
     "text": [
      "Epoch 73: |                                                | 100/? [00:10<00:00,  9.20it/s, v_num=22, train_loss=207.0]"
     ]
    },
    {
     "name": "stderr",
     "output_type": "stream",
     "text": [
      "Epoch 73, global step 7400: 'train_loss' reached 206.75093 (best 206.75093), saving model to 'C:\\\\Users\\\\falty\\\\Desktop\\\\GZS\\\\trading\\\\options\\\\tft\\\\ron\\\\lightning_logs\\\\version_22\\\\checkpoints\\\\epoch=73-step=7400.ckpt' as top 1\n"
     ]
    },
    {
     "name": "stdout",
     "output_type": "stream",
     "text": [
      "Epoch 74: |                                                | 100/? [00:10<00:00,  9.22it/s, v_num=22, train_loss=224.0]"
     ]
    },
    {
     "name": "stderr",
     "output_type": "stream",
     "text": [
      "Epoch 74, global step 7500: 'train_loss' was not in top 1\n"
     ]
    },
    {
     "name": "stdout",
     "output_type": "stream",
     "text": [
      "Epoch 75: |                                                | 100/? [00:10<00:00,  9.19it/s, v_num=22, train_loss=194.0]"
     ]
    },
    {
     "name": "stderr",
     "output_type": "stream",
     "text": [
      "Epoch 75, global step 7600: 'train_loss' reached 194.10295 (best 194.10295), saving model to 'C:\\\\Users\\\\falty\\\\Desktop\\\\GZS\\\\trading\\\\options\\\\tft\\\\ron\\\\lightning_logs\\\\version_22\\\\checkpoints\\\\epoch=75-step=7600.ckpt' as top 1\n"
     ]
    },
    {
     "name": "stdout",
     "output_type": "stream",
     "text": [
      "Epoch 76: |                                                | 100/? [00:10<00:00,  9.15it/s, v_num=22, train_loss=204.0]"
     ]
    },
    {
     "name": "stderr",
     "output_type": "stream",
     "text": [
      "Epoch 76, global step 7700: 'train_loss' was not in top 1\n"
     ]
    },
    {
     "name": "stdout",
     "output_type": "stream",
     "text": [
      "Epoch 77: |                                                | 100/? [00:10<00:00,  9.13it/s, v_num=22, train_loss=193.0]"
     ]
    },
    {
     "name": "stderr",
     "output_type": "stream",
     "text": [
      "Epoch 77, global step 7800: 'train_loss' reached 192.55432 (best 192.55432), saving model to 'C:\\\\Users\\\\falty\\\\Desktop\\\\GZS\\\\trading\\\\options\\\\tft\\\\ron\\\\lightning_logs\\\\version_22\\\\checkpoints\\\\epoch=77-step=7800.ckpt' as top 1\n"
     ]
    },
    {
     "name": "stdout",
     "output_type": "stream",
     "text": [
      "Epoch 78: |                                                | 100/? [00:10<00:00,  9.13it/s, v_num=22, train_loss=215.0]"
     ]
    },
    {
     "name": "stderr",
     "output_type": "stream",
     "text": [
      "Epoch 78, global step 7900: 'train_loss' was not in top 1\n"
     ]
    },
    {
     "name": "stdout",
     "output_type": "stream",
     "text": [
      "Epoch 79: |                                                | 100/? [00:10<00:00,  9.16it/s, v_num=22, train_loss=210.0]"
     ]
    },
    {
     "name": "stderr",
     "output_type": "stream",
     "text": [
      "Epoch 79, global step 8000: 'train_loss' was not in top 1\n"
     ]
    },
    {
     "name": "stdout",
     "output_type": "stream",
     "text": [
      "Epoch 80: |                                                | 100/? [00:10<00:00,  9.15it/s, v_num=22, train_loss=204.0]"
     ]
    },
    {
     "name": "stderr",
     "output_type": "stream",
     "text": [
      "Epoch 80, global step 8100: 'train_loss' was not in top 1\n"
     ]
    },
    {
     "name": "stdout",
     "output_type": "stream",
     "text": [
      "Epoch 81: |                                                | 100/? [00:10<00:00,  9.17it/s, v_num=22, train_loss=179.0]"
     ]
    },
    {
     "name": "stderr",
     "output_type": "stream",
     "text": [
      "Epoch 81, global step 8200: 'train_loss' reached 178.87708 (best 178.87708), saving model to 'C:\\\\Users\\\\falty\\\\Desktop\\\\GZS\\\\trading\\\\options\\\\tft\\\\ron\\\\lightning_logs\\\\version_22\\\\checkpoints\\\\epoch=81-step=8200.ckpt' as top 1\n"
     ]
    },
    {
     "name": "stdout",
     "output_type": "stream",
     "text": [
      "Epoch 82: |                                                | 100/? [00:10<00:00,  9.15it/s, v_num=22, train_loss=202.0]"
     ]
    },
    {
     "name": "stderr",
     "output_type": "stream",
     "text": [
      "Epoch 82, global step 8300: 'train_loss' was not in top 1\n"
     ]
    },
    {
     "name": "stdout",
     "output_type": "stream",
     "text": [
      "Epoch 83: |                                                | 100/? [00:10<00:00,  9.13it/s, v_num=22, train_loss=196.0]"
     ]
    },
    {
     "name": "stderr",
     "output_type": "stream",
     "text": [
      "Epoch 83, global step 8400: 'train_loss' was not in top 1\n"
     ]
    },
    {
     "name": "stdout",
     "output_type": "stream",
     "text": [
      "Epoch 84: |                                                | 100/? [00:10<00:00,  9.13it/s, v_num=22, train_loss=183.0]"
     ]
    },
    {
     "name": "stderr",
     "output_type": "stream",
     "text": [
      "Epoch 84, global step 8500: 'train_loss' was not in top 1\n"
     ]
    },
    {
     "name": "stdout",
     "output_type": "stream",
     "text": [
      "Epoch 85: |                                                | 100/? [00:11<00:00,  8.99it/s, v_num=22, train_loss=177.0]"
     ]
    },
    {
     "name": "stderr",
     "output_type": "stream",
     "text": [
      "Epoch 85, global step 8600: 'train_loss' reached 176.86354 (best 176.86354), saving model to 'C:\\\\Users\\\\falty\\\\Desktop\\\\GZS\\\\trading\\\\options\\\\tft\\\\ron\\\\lightning_logs\\\\version_22\\\\checkpoints\\\\epoch=85-step=8600.ckpt' as top 1\n"
     ]
    },
    {
     "name": "stdout",
     "output_type": "stream",
     "text": [
      "Epoch 86: |                                                | 100/? [00:11<00:00,  9.09it/s, v_num=22, train_loss=172.0]"
     ]
    },
    {
     "name": "stderr",
     "output_type": "stream",
     "text": [
      "Epoch 86, global step 8700: 'train_loss' reached 172.44148 (best 172.44148), saving model to 'C:\\\\Users\\\\falty\\\\Desktop\\\\GZS\\\\trading\\\\options\\\\tft\\\\ron\\\\lightning_logs\\\\version_22\\\\checkpoints\\\\epoch=86-step=8700.ckpt' as top 1\n"
     ]
    },
    {
     "name": "stdout",
     "output_type": "stream",
     "text": [
      "Epoch 87: |                                                | 100/? [00:10<00:00,  9.15it/s, v_num=22, train_loss=168.0]"
     ]
    },
    {
     "name": "stderr",
     "output_type": "stream",
     "text": [
      "Epoch 87, global step 8800: 'train_loss' reached 168.35130 (best 168.35130), saving model to 'C:\\\\Users\\\\falty\\\\Desktop\\\\GZS\\\\trading\\\\options\\\\tft\\\\ron\\\\lightning_logs\\\\version_22\\\\checkpoints\\\\epoch=87-step=8800.ckpt' as top 1\n"
     ]
    },
    {
     "name": "stdout",
     "output_type": "stream",
     "text": [
      "Epoch 88: |                                                | 100/? [00:10<00:00,  9.12it/s, v_num=22, train_loss=162.0]"
     ]
    },
    {
     "name": "stderr",
     "output_type": "stream",
     "text": [
      "Epoch 88, global step 8900: 'train_loss' reached 162.37701 (best 162.37701), saving model to 'C:\\\\Users\\\\falty\\\\Desktop\\\\GZS\\\\trading\\\\options\\\\tft\\\\ron\\\\lightning_logs\\\\version_22\\\\checkpoints\\\\epoch=88-step=8900.ckpt' as top 1\n"
     ]
    },
    {
     "name": "stdout",
     "output_type": "stream",
     "text": [
      "Epoch 89: |                                                | 100/? [00:10<00:00,  9.16it/s, v_num=22, train_loss=175.0]"
     ]
    },
    {
     "name": "stderr",
     "output_type": "stream",
     "text": [
      "Epoch 89, global step 9000: 'train_loss' was not in top 1\n"
     ]
    },
    {
     "name": "stdout",
     "output_type": "stream",
     "text": [
      "Epoch 90: |                                                | 100/? [00:10<00:00,  9.15it/s, v_num=22, train_loss=170.0]"
     ]
    },
    {
     "name": "stderr",
     "output_type": "stream",
     "text": [
      "Epoch 90, global step 9100: 'train_loss' was not in top 1\n"
     ]
    },
    {
     "name": "stdout",
     "output_type": "stream",
     "text": [
      "Epoch 91: |                                                | 100/? [00:10<00:00,  9.16it/s, v_num=22, train_loss=144.0]"
     ]
    },
    {
     "name": "stderr",
     "output_type": "stream",
     "text": [
      "Epoch 91, global step 9200: 'train_loss' reached 143.81795 (best 143.81795), saving model to 'C:\\\\Users\\\\falty\\\\Desktop\\\\GZS\\\\trading\\\\options\\\\tft\\\\ron\\\\lightning_logs\\\\version_22\\\\checkpoints\\\\epoch=91-step=9200.ckpt' as top 1\n"
     ]
    },
    {
     "name": "stdout",
     "output_type": "stream",
     "text": [
      "Epoch 92: |                                                | 100/? [00:10<00:00,  9.14it/s, v_num=22, train_loss=175.0]"
     ]
    },
    {
     "name": "stderr",
     "output_type": "stream",
     "text": [
      "Epoch 92, global step 9300: 'train_loss' was not in top 1\n"
     ]
    },
    {
     "name": "stdout",
     "output_type": "stream",
     "text": [
      "Epoch 93: |                                                | 100/? [00:10<00:00,  9.10it/s, v_num=22, train_loss=157.0]"
     ]
    },
    {
     "name": "stderr",
     "output_type": "stream",
     "text": [
      "Epoch 93, global step 9400: 'train_loss' was not in top 1\n"
     ]
    },
    {
     "name": "stdout",
     "output_type": "stream",
     "text": [
      "Epoch 94: |                                                | 100/? [00:10<00:00,  9.20it/s, v_num=22, train_loss=156.0]"
     ]
    },
    {
     "name": "stderr",
     "output_type": "stream",
     "text": [
      "Epoch 94, global step 9500: 'train_loss' was not in top 1\n"
     ]
    },
    {
     "name": "stdout",
     "output_type": "stream",
     "text": [
      "Epoch 95: |                                                | 100/? [00:10<00:00,  9.19it/s, v_num=22, train_loss=166.0]"
     ]
    },
    {
     "name": "stderr",
     "output_type": "stream",
     "text": [
      "Epoch 95, global step 9600: 'train_loss' was not in top 1\n"
     ]
    },
    {
     "name": "stdout",
     "output_type": "stream",
     "text": [
      "Epoch 96: |                                                | 100/? [00:11<00:00,  9.09it/s, v_num=22, train_loss=194.0]"
     ]
    },
    {
     "name": "stderr",
     "output_type": "stream",
     "text": [
      "Epoch 96, global step 9700: 'train_loss' was not in top 1\n"
     ]
    },
    {
     "name": "stdout",
     "output_type": "stream",
     "text": [
      "Epoch 97: |                                                | 100/? [00:10<00:00,  9.12it/s, v_num=22, train_loss=166.0]"
     ]
    },
    {
     "name": "stderr",
     "output_type": "stream",
     "text": [
      "Epoch 97, global step 9800: 'train_loss' was not in top 1\n"
     ]
    },
    {
     "name": "stdout",
     "output_type": "stream",
     "text": [
      "Epoch 98: |                                                | 100/? [00:10<00:00,  9.10it/s, v_num=22, train_loss=164.0]"
     ]
    },
    {
     "name": "stderr",
     "output_type": "stream",
     "text": [
      "Epoch 98, global step 9900: 'train_loss' was not in top 1\n"
     ]
    },
    {
     "name": "stdout",
     "output_type": "stream",
     "text": [
      "Epoch 99: |                                                | 100/? [00:10<00:00,  9.12it/s, v_num=22, train_loss=154.0]"
     ]
    },
    {
     "name": "stderr",
     "output_type": "stream",
     "text": [
      "Epoch 99, global step 10000: 'train_loss' was not in top 1\n"
     ]
    },
    {
     "name": "stdout",
     "output_type": "stream",
     "text": [
      "Epoch 100: |                                               | 100/? [00:11<00:00,  8.92it/s, v_num=22, train_loss=165.0]"
     ]
    },
    {
     "name": "stderr",
     "output_type": "stream",
     "text": [
      "Epoch 100, global step 10100: 'train_loss' was not in top 1\n"
     ]
    },
    {
     "name": "stdout",
     "output_type": "stream",
     "text": [
      "Epoch 101: |                                               | 100/? [00:10<00:00,  9.24it/s, v_num=22, train_loss=143.0]"
     ]
    },
    {
     "name": "stderr",
     "output_type": "stream",
     "text": [
      "Epoch 101, global step 10200: 'train_loss' reached 143.04018 (best 143.04018), saving model to 'C:\\\\Users\\\\falty\\\\Desktop\\\\GZS\\\\trading\\\\options\\\\tft\\\\ron\\\\lightning_logs\\\\version_22\\\\checkpoints\\\\epoch=101-step=10200.ckpt' as top 1\n"
     ]
    },
    {
     "name": "stdout",
     "output_type": "stream",
     "text": [
      "Epoch 102: |                                               | 100/? [00:10<00:00,  9.15it/s, v_num=22, train_loss=141.0]"
     ]
    },
    {
     "name": "stderr",
     "output_type": "stream",
     "text": [
      "Epoch 102, global step 10300: 'train_loss' reached 141.25951 (best 141.25951), saving model to 'C:\\\\Users\\\\falty\\\\Desktop\\\\GZS\\\\trading\\\\options\\\\tft\\\\ron\\\\lightning_logs\\\\version_22\\\\checkpoints\\\\epoch=102-step=10300.ckpt' as top 1\n"
     ]
    },
    {
     "name": "stdout",
     "output_type": "stream",
     "text": [
      "Epoch 103: |                                               | 100/? [00:10<00:00,  9.23it/s, v_num=22, train_loss=136.0]"
     ]
    },
    {
     "name": "stderr",
     "output_type": "stream",
     "text": [
      "Epoch 103, global step 10400: 'train_loss' reached 136.13306 (best 136.13306), saving model to 'C:\\\\Users\\\\falty\\\\Desktop\\\\GZS\\\\trading\\\\options\\\\tft\\\\ron\\\\lightning_logs\\\\version_22\\\\checkpoints\\\\epoch=103-step=10400.ckpt' as top 1\n"
     ]
    },
    {
     "name": "stdout",
     "output_type": "stream",
     "text": [
      "Epoch 104: |                                               | 100/? [00:10<00:00,  9.28it/s, v_num=22, train_loss=146.0]"
     ]
    },
    {
     "name": "stderr",
     "output_type": "stream",
     "text": [
      "Epoch 104, global step 10500: 'train_loss' was not in top 1\n"
     ]
    },
    {
     "name": "stdout",
     "output_type": "stream",
     "text": [
      "Epoch 105: |                                               | 100/? [00:10<00:00,  9.19it/s, v_num=22, train_loss=142.0]"
     ]
    },
    {
     "name": "stderr",
     "output_type": "stream",
     "text": [
      "Epoch 105, global step 10600: 'train_loss' was not in top 1\n"
     ]
    },
    {
     "name": "stdout",
     "output_type": "stream",
     "text": [
      "Epoch 106: |                                               | 100/? [00:10<00:00,  9.24it/s, v_num=22, train_loss=161.0]"
     ]
    },
    {
     "name": "stderr",
     "output_type": "stream",
     "text": [
      "Epoch 106, global step 10700: 'train_loss' was not in top 1\n"
     ]
    },
    {
     "name": "stdout",
     "output_type": "stream",
     "text": [
      "Epoch 107: |                                               | 100/? [00:10<00:00,  9.22it/s, v_num=22, train_loss=152.0]"
     ]
    },
    {
     "name": "stderr",
     "output_type": "stream",
     "text": [
      "Epoch 107, global step 10800: 'train_loss' was not in top 1\n"
     ]
    },
    {
     "name": "stdout",
     "output_type": "stream",
     "text": [
      "Epoch 108: |                                               | 100/? [00:10<00:00,  9.17it/s, v_num=22, train_loss=133.0]"
     ]
    },
    {
     "name": "stderr",
     "output_type": "stream",
     "text": [
      "Epoch 108, global step 10900: 'train_loss' reached 133.45990 (best 133.45990), saving model to 'C:\\\\Users\\\\falty\\\\Desktop\\\\GZS\\\\trading\\\\options\\\\tft\\\\ron\\\\lightning_logs\\\\version_22\\\\checkpoints\\\\epoch=108-step=10900.ckpt' as top 1\n"
     ]
    },
    {
     "name": "stdout",
     "output_type": "stream",
     "text": [
      "Epoch 109: |                                               | 100/? [00:10<00:00,  9.14it/s, v_num=22, train_loss=131.0]"
     ]
    },
    {
     "name": "stderr",
     "output_type": "stream",
     "text": [
      "Epoch 109, global step 11000: 'train_loss' reached 130.52274 (best 130.52274), saving model to 'C:\\\\Users\\\\falty\\\\Desktop\\\\GZS\\\\trading\\\\options\\\\tft\\\\ron\\\\lightning_logs\\\\version_22\\\\checkpoints\\\\epoch=109-step=11000.ckpt' as top 1\n"
     ]
    },
    {
     "name": "stdout",
     "output_type": "stream",
     "text": [
      "Epoch 110: |                                               | 100/? [00:11<00:00,  9.07it/s, v_num=22, train_loss=155.0]"
     ]
    },
    {
     "name": "stderr",
     "output_type": "stream",
     "text": [
      "Epoch 110, global step 11100: 'train_loss' was not in top 1\n"
     ]
    },
    {
     "name": "stdout",
     "output_type": "stream",
     "text": [
      "Epoch 111: |                                               | 100/? [00:10<00:00,  9.22it/s, v_num=22, train_loss=131.0]"
     ]
    },
    {
     "name": "stderr",
     "output_type": "stream",
     "text": [
      "Epoch 111, global step 11200: 'train_loss' was not in top 1\n"
     ]
    },
    {
     "name": "stdout",
     "output_type": "stream",
     "text": [
      "Epoch 112: |                                               | 100/? [00:10<00:00,  9.12it/s, v_num=22, train_loss=129.0]"
     ]
    },
    {
     "name": "stderr",
     "output_type": "stream",
     "text": [
      "Epoch 112, global step 11300: 'train_loss' reached 129.36183 (best 129.36183), saving model to 'C:\\\\Users\\\\falty\\\\Desktop\\\\GZS\\\\trading\\\\options\\\\tft\\\\ron\\\\lightning_logs\\\\version_22\\\\checkpoints\\\\epoch=112-step=11300.ckpt' as top 1\n"
     ]
    },
    {
     "name": "stdout",
     "output_type": "stream",
     "text": [
      "Epoch 113: |                                               | 100/? [00:10<00:00,  9.16it/s, v_num=22, train_loss=141.0]"
     ]
    },
    {
     "name": "stderr",
     "output_type": "stream",
     "text": [
      "Epoch 113, global step 11400: 'train_loss' was not in top 1\n"
     ]
    },
    {
     "name": "stdout",
     "output_type": "stream",
     "text": [
      "Epoch 114: |                                               | 100/? [00:10<00:00,  9.20it/s, v_num=22, train_loss=139.0]"
     ]
    },
    {
     "name": "stderr",
     "output_type": "stream",
     "text": [
      "Epoch 114, global step 11500: 'train_loss' was not in top 1\n"
     ]
    },
    {
     "name": "stdout",
     "output_type": "stream",
     "text": [
      "Epoch 115: |                                               | 100/? [00:10<00:00,  9.16it/s, v_num=22, train_loss=127.0]"
     ]
    },
    {
     "name": "stderr",
     "output_type": "stream",
     "text": [
      "Epoch 115, global step 11600: 'train_loss' reached 127.39351 (best 127.39351), saving model to 'C:\\\\Users\\\\falty\\\\Desktop\\\\GZS\\\\trading\\\\options\\\\tft\\\\ron\\\\lightning_logs\\\\version_22\\\\checkpoints\\\\epoch=115-step=11600.ckpt' as top 1\n"
     ]
    },
    {
     "name": "stdout",
     "output_type": "stream",
     "text": [
      "Epoch 116: |                                               | 100/? [00:10<00:00,  9.23it/s, v_num=22, train_loss=131.0]"
     ]
    },
    {
     "name": "stderr",
     "output_type": "stream",
     "text": [
      "Epoch 116, global step 11700: 'train_loss' was not in top 1\n"
     ]
    },
    {
     "name": "stdout",
     "output_type": "stream",
     "text": [
      "Epoch 117: |                                               | 100/? [00:10<00:00,  9.28it/s, v_num=22, train_loss=129.0]"
     ]
    },
    {
     "name": "stderr",
     "output_type": "stream",
     "text": [
      "Epoch 117, global step 11800: 'train_loss' was not in top 1\n"
     ]
    },
    {
     "name": "stdout",
     "output_type": "stream",
     "text": [
      "Epoch 118: |                                               | 100/? [00:10<00:00,  9.24it/s, v_num=22, train_loss=134.0]"
     ]
    },
    {
     "name": "stderr",
     "output_type": "stream",
     "text": [
      "Epoch 118, global step 11900: 'train_loss' was not in top 1\n"
     ]
    },
    {
     "name": "stdout",
     "output_type": "stream",
     "text": [
      "Epoch 119: |                                               | 100/? [00:10<00:00,  9.16it/s, v_num=22, train_loss=118.0]"
     ]
    },
    {
     "name": "stderr",
     "output_type": "stream",
     "text": [
      "Epoch 119, global step 12000: 'train_loss' reached 117.76993 (best 117.76993), saving model to 'C:\\\\Users\\\\falty\\\\Desktop\\\\GZS\\\\trading\\\\options\\\\tft\\\\ron\\\\lightning_logs\\\\version_22\\\\checkpoints\\\\epoch=119-step=12000.ckpt' as top 1\n"
     ]
    },
    {
     "name": "stdout",
     "output_type": "stream",
     "text": [
      "Epoch 120: |                                               | 100/? [00:10<00:00,  9.16it/s, v_num=22, train_loss=125.0]"
     ]
    },
    {
     "name": "stderr",
     "output_type": "stream",
     "text": [
      "Epoch 120, global step 12100: 'train_loss' was not in top 1\n"
     ]
    },
    {
     "name": "stdout",
     "output_type": "stream",
     "text": [
      "Epoch 121: |                                               | 100/? [00:10<00:00,  9.26it/s, v_num=22, train_loss=119.0]"
     ]
    },
    {
     "name": "stderr",
     "output_type": "stream",
     "text": [
      "Epoch 121, global step 12200: 'train_loss' was not in top 1\n"
     ]
    },
    {
     "name": "stdout",
     "output_type": "stream",
     "text": [
      "Epoch 122: |                                               | 100/? [00:10<00:00,  9.15it/s, v_num=22, train_loss=112.0]"
     ]
    },
    {
     "name": "stderr",
     "output_type": "stream",
     "text": [
      "Epoch 122, global step 12300: 'train_loss' reached 112.09626 (best 112.09626), saving model to 'C:\\\\Users\\\\falty\\\\Desktop\\\\GZS\\\\trading\\\\options\\\\tft\\\\ron\\\\lightning_logs\\\\version_22\\\\checkpoints\\\\epoch=122-step=12300.ckpt' as top 1\n"
     ]
    },
    {
     "name": "stdout",
     "output_type": "stream",
     "text": [
      "Epoch 123: |                                               | 100/? [00:10<00:00,  9.26it/s, v_num=22, train_loss=118.0]"
     ]
    },
    {
     "name": "stderr",
     "output_type": "stream",
     "text": [
      "Epoch 123, global step 12400: 'train_loss' was not in top 1\n"
     ]
    },
    {
     "name": "stdout",
     "output_type": "stream",
     "text": [
      "Epoch 124: |                                               | 100/? [00:10<00:00,  9.20it/s, v_num=22, train_loss=114.0]"
     ]
    },
    {
     "name": "stderr",
     "output_type": "stream",
     "text": [
      "Epoch 124, global step 12500: 'train_loss' was not in top 1\n"
     ]
    },
    {
     "name": "stdout",
     "output_type": "stream",
     "text": [
      "Epoch 125: |                                               | 100/? [00:11<00:00,  9.02it/s, v_num=22, train_loss=111.0]"
     ]
    },
    {
     "name": "stderr",
     "output_type": "stream",
     "text": [
      "Epoch 125, global step 12600: 'train_loss' reached 111.00786 (best 111.00786), saving model to 'C:\\\\Users\\\\falty\\\\Desktop\\\\GZS\\\\trading\\\\options\\\\tft\\\\ron\\\\lightning_logs\\\\version_22\\\\checkpoints\\\\epoch=125-step=12600.ckpt' as top 1\n"
     ]
    },
    {
     "name": "stdout",
     "output_type": "stream",
     "text": [
      "Epoch 126: |                                               | 100/? [00:10<00:00,  9.14it/s, v_num=22, train_loss=124.0]"
     ]
    },
    {
     "name": "stderr",
     "output_type": "stream",
     "text": [
      "Epoch 126, global step 12700: 'train_loss' was not in top 1\n"
     ]
    },
    {
     "name": "stdout",
     "output_type": "stream",
     "text": [
      "Epoch 127: |                                               | 100/? [00:10<00:00,  9.11it/s, v_num=22, train_loss=111.0]"
     ]
    },
    {
     "name": "stderr",
     "output_type": "stream",
     "text": [
      "Epoch 127, global step 12800: 'train_loss' reached 110.56306 (best 110.56306), saving model to 'C:\\\\Users\\\\falty\\\\Desktop\\\\GZS\\\\trading\\\\options\\\\tft\\\\ron\\\\lightning_logs\\\\version_22\\\\checkpoints\\\\epoch=127-step=12800.ckpt' as top 1\n"
     ]
    },
    {
     "name": "stdout",
     "output_type": "stream",
     "text": [
      "Epoch 128: |                                               | 100/? [00:10<00:00,  9.14it/s, v_num=22, train_loss=120.0]"
     ]
    },
    {
     "name": "stderr",
     "output_type": "stream",
     "text": [
      "Epoch 128, global step 12900: 'train_loss' was not in top 1\n"
     ]
    },
    {
     "name": "stdout",
     "output_type": "stream",
     "text": [
      "Epoch 129: |                                               | 100/? [00:10<00:00,  9.18it/s, v_num=22, train_loss=112.0]"
     ]
    },
    {
     "name": "stderr",
     "output_type": "stream",
     "text": [
      "Epoch 129, global step 13000: 'train_loss' was not in top 1\n"
     ]
    },
    {
     "name": "stdout",
     "output_type": "stream",
     "text": [
      "Epoch 130: |                                               | 100/? [00:10<00:00,  9.21it/s, v_num=22, train_loss=113.0]"
     ]
    },
    {
     "name": "stderr",
     "output_type": "stream",
     "text": [
      "Epoch 130, global step 13100: 'train_loss' was not in top 1\n"
     ]
    },
    {
     "name": "stdout",
     "output_type": "stream",
     "text": [
      "Epoch 131: |                                               | 100/? [00:11<00:00,  9.02it/s, v_num=22, train_loss=107.0]"
     ]
    },
    {
     "name": "stderr",
     "output_type": "stream",
     "text": [
      "Epoch 131, global step 13200: 'train_loss' reached 107.15810 (best 107.15810), saving model to 'C:\\\\Users\\\\falty\\\\Desktop\\\\GZS\\\\trading\\\\options\\\\tft\\\\ron\\\\lightning_logs\\\\version_22\\\\checkpoints\\\\epoch=131-step=13200.ckpt' as top 1\n"
     ]
    },
    {
     "name": "stdout",
     "output_type": "stream",
     "text": [
      "Epoch 132: |                                               | 100/? [00:10<00:00,  9.14it/s, v_num=22, train_loss=107.0]"
     ]
    },
    {
     "name": "stderr",
     "output_type": "stream",
     "text": [
      "Epoch 132, global step 13300: 'train_loss' reached 107.07452 (best 107.07452), saving model to 'C:\\\\Users\\\\falty\\\\Desktop\\\\GZS\\\\trading\\\\options\\\\tft\\\\ron\\\\lightning_logs\\\\version_22\\\\checkpoints\\\\epoch=132-step=13300.ckpt' as top 1\n"
     ]
    },
    {
     "name": "stdout",
     "output_type": "stream",
     "text": [
      "Epoch 133: |                                               | 100/? [00:10<00:00,  9.09it/s, v_num=22, train_loss=109.0]"
     ]
    },
    {
     "name": "stderr",
     "output_type": "stream",
     "text": [
      "Epoch 133, global step 13400: 'train_loss' was not in top 1\n"
     ]
    },
    {
     "name": "stdout",
     "output_type": "stream",
     "text": [
      "Epoch 134: |                                               | 100/? [00:10<00:00,  9.17it/s, v_num=22, train_loss=106.0]"
     ]
    },
    {
     "name": "stderr",
     "output_type": "stream",
     "text": [
      "Epoch 134, global step 13500: 'train_loss' reached 105.84708 (best 105.84708), saving model to 'C:\\\\Users\\\\falty\\\\Desktop\\\\GZS\\\\trading\\\\options\\\\tft\\\\ron\\\\lightning_logs\\\\version_22\\\\checkpoints\\\\epoch=134-step=13500.ckpt' as top 1\n"
     ]
    },
    {
     "name": "stdout",
     "output_type": "stream",
     "text": [
      "Epoch 135: |                                               | 100/? [00:10<00:00,  9.15it/s, v_num=22, train_loss=113.0]"
     ]
    },
    {
     "name": "stderr",
     "output_type": "stream",
     "text": [
      "Epoch 135, global step 13600: 'train_loss' was not in top 1\n"
     ]
    },
    {
     "name": "stdout",
     "output_type": "stream",
     "text": [
      "Epoch 136: |                                               | 100/? [00:11<00:00,  9.06it/s, v_num=22, train_loss=112.0]"
     ]
    },
    {
     "name": "stderr",
     "output_type": "stream",
     "text": [
      "Epoch 136, global step 13700: 'train_loss' was not in top 1\n"
     ]
    },
    {
     "name": "stdout",
     "output_type": "stream",
     "text": [
      "Epoch 137: |                                               | 100/? [00:10<00:00,  9.18it/s, v_num=22, train_loss=105.0]"
     ]
    },
    {
     "name": "stderr",
     "output_type": "stream",
     "text": [
      "Epoch 137, global step 13800: 'train_loss' reached 105.05772 (best 105.05772), saving model to 'C:\\\\Users\\\\falty\\\\Desktop\\\\GZS\\\\trading\\\\options\\\\tft\\\\ron\\\\lightning_logs\\\\version_22\\\\checkpoints\\\\epoch=137-step=13800.ckpt' as top 1\n"
     ]
    },
    {
     "name": "stdout",
     "output_type": "stream",
     "text": [
      "Epoch 138: |                                               | 100/? [00:11<00:00,  8.97it/s, v_num=22, train_loss=109.0]"
     ]
    },
    {
     "name": "stderr",
     "output_type": "stream",
     "text": [
      "Epoch 138, global step 13900: 'train_loss' was not in top 1\n"
     ]
    },
    {
     "name": "stdout",
     "output_type": "stream",
     "text": [
      "Epoch 139: |                                               | 100/? [00:10<00:00,  9.16it/s, v_num=22, train_loss=98.60]"
     ]
    },
    {
     "name": "stderr",
     "output_type": "stream",
     "text": [
      "Epoch 139, global step 14000: 'train_loss' reached 98.60258 (best 98.60258), saving model to 'C:\\\\Users\\\\falty\\\\Desktop\\\\GZS\\\\trading\\\\options\\\\tft\\\\ron\\\\lightning_logs\\\\version_22\\\\checkpoints\\\\epoch=139-step=14000.ckpt' as top 1\n"
     ]
    },
    {
     "name": "stdout",
     "output_type": "stream",
     "text": [
      "Epoch 140: |                                               | 100/? [00:10<00:00,  9.15it/s, v_num=22, train_loss=99.40]"
     ]
    },
    {
     "name": "stderr",
     "output_type": "stream",
     "text": [
      "Epoch 140, global step 14100: 'train_loss' was not in top 1\n"
     ]
    },
    {
     "name": "stdout",
     "output_type": "stream",
     "text": [
      "Epoch 141: |                                               | 100/? [00:10<00:00,  9.13it/s, v_num=22, train_loss=97.70]"
     ]
    },
    {
     "name": "stderr",
     "output_type": "stream",
     "text": [
      "Epoch 141, global step 14200: 'train_loss' reached 97.68027 (best 97.68027), saving model to 'C:\\\\Users\\\\falty\\\\Desktop\\\\GZS\\\\trading\\\\options\\\\tft\\\\ron\\\\lightning_logs\\\\version_22\\\\checkpoints\\\\epoch=141-step=14200.ckpt' as top 1\n"
     ]
    },
    {
     "name": "stdout",
     "output_type": "stream",
     "text": [
      "Epoch 142: |                                               | 100/? [00:10<00:00,  9.15it/s, v_num=22, train_loss=108.0]"
     ]
    },
    {
     "name": "stderr",
     "output_type": "stream",
     "text": [
      "Epoch 142, global step 14300: 'train_loss' was not in top 1\n"
     ]
    },
    {
     "name": "stdout",
     "output_type": "stream",
     "text": [
      "Epoch 143: |                                               | 100/? [00:10<00:00,  9.13it/s, v_num=22, train_loss=86.20]"
     ]
    },
    {
     "name": "stderr",
     "output_type": "stream",
     "text": [
      "Epoch 143, global step 14400: 'train_loss' reached 86.18711 (best 86.18711), saving model to 'C:\\\\Users\\\\falty\\\\Desktop\\\\GZS\\\\trading\\\\options\\\\tft\\\\ron\\\\lightning_logs\\\\version_22\\\\checkpoints\\\\epoch=143-step=14400.ckpt' as top 1\n"
     ]
    },
    {
     "name": "stdout",
     "output_type": "stream",
     "text": [
      "Epoch 144: |                                               | 100/? [00:10<00:00,  9.14it/s, v_num=22, train_loss=124.0]"
     ]
    },
    {
     "name": "stderr",
     "output_type": "stream",
     "text": [
      "Epoch 144, global step 14500: 'train_loss' was not in top 1\n"
     ]
    },
    {
     "name": "stdout",
     "output_type": "stream",
     "text": [
      "Epoch 145: |                                               | 100/? [00:10<00:00,  9.18it/s, v_num=22, train_loss=99.30]"
     ]
    },
    {
     "name": "stderr",
     "output_type": "stream",
     "text": [
      "Epoch 145, global step 14600: 'train_loss' was not in top 1\n"
     ]
    },
    {
     "name": "stdout",
     "output_type": "stream",
     "text": [
      "Epoch 146: |                                               | 100/? [00:10<00:00,  9.09it/s, v_num=22, train_loss=104.0]"
     ]
    },
    {
     "name": "stderr",
     "output_type": "stream",
     "text": [
      "Epoch 146, global step 14700: 'train_loss' was not in top 1\n"
     ]
    },
    {
     "name": "stdout",
     "output_type": "stream",
     "text": [
      "Epoch 147: |                                               | 100/? [00:10<00:00,  9.11it/s, v_num=22, train_loss=104.0]"
     ]
    },
    {
     "name": "stderr",
     "output_type": "stream",
     "text": [
      "Epoch 147, global step 14800: 'train_loss' was not in top 1\n"
     ]
    },
    {
     "name": "stdout",
     "output_type": "stream",
     "text": [
      "Epoch 148: |                                               | 100/? [00:10<00:00,  9.23it/s, v_num=22, train_loss=98.80]"
     ]
    },
    {
     "name": "stderr",
     "output_type": "stream",
     "text": [
      "Epoch 148, global step 14900: 'train_loss' was not in top 1\n"
     ]
    },
    {
     "name": "stdout",
     "output_type": "stream",
     "text": [
      "Epoch 149: |                                               | 100/? [00:11<00:00,  9.05it/s, v_num=22, train_loss=95.60]"
     ]
    },
    {
     "name": "stderr",
     "output_type": "stream",
     "text": [
      "Epoch 149, global step 15000: 'train_loss' was not in top 1\n"
     ]
    },
    {
     "name": "stdout",
     "output_type": "stream",
     "text": [
      "Epoch 150: |                                               | 100/? [00:10<00:00,  9.17it/s, v_num=22, train_loss=98.80]"
     ]
    },
    {
     "name": "stderr",
     "output_type": "stream",
     "text": [
      "Epoch 150, global step 15100: 'train_loss' was not in top 1\n"
     ]
    },
    {
     "name": "stdout",
     "output_type": "stream",
     "text": [
      "Epoch 151: |                                               | 100/? [00:10<00:00,  9.12it/s, v_num=22, train_loss=98.30]"
     ]
    },
    {
     "name": "stderr",
     "output_type": "stream",
     "text": [
      "Epoch 151, global step 15200: 'train_loss' was not in top 1\n"
     ]
    },
    {
     "name": "stdout",
     "output_type": "stream",
     "text": [
      "Epoch 152: |                                               | 100/? [00:11<00:00,  9.06it/s, v_num=22, train_loss=99.50]"
     ]
    },
    {
     "name": "stderr",
     "output_type": "stream",
     "text": [
      "Epoch 152, global step 15300: 'train_loss' was not in top 1\n"
     ]
    },
    {
     "name": "stdout",
     "output_type": "stream",
     "text": [
      "Epoch 153: |                                               | 100/? [00:10<00:00,  9.17it/s, v_num=22, train_loss=91.30]"
     ]
    },
    {
     "name": "stderr",
     "output_type": "stream",
     "text": [
      "Epoch 153, global step 15400: 'train_loss' was not in top 1\n"
     ]
    },
    {
     "name": "stdout",
     "output_type": "stream",
     "text": [
      "Epoch 154: |                                               | 100/? [00:10<00:00,  9.18it/s, v_num=22, train_loss=813.0]"
     ]
    },
    {
     "name": "stderr",
     "output_type": "stream",
     "text": [
      "Epoch 154, global step 15500: 'train_loss' was not in top 1\n"
     ]
    },
    {
     "name": "stdout",
     "output_type": "stream",
     "text": [
      "Epoch 155: |                                               | 100/? [00:10<00:00,  9.11it/s, v_num=22, train_loss=109.0]"
     ]
    },
    {
     "name": "stderr",
     "output_type": "stream",
     "text": [
      "Epoch 155, global step 15600: 'train_loss' was not in top 1\n"
     ]
    },
    {
     "name": "stdout",
     "output_type": "stream",
     "text": [
      "Epoch 156: |                                               | 100/? [00:10<00:00,  9.11it/s, v_num=22, train_loss=74.90]"
     ]
    },
    {
     "name": "stderr",
     "output_type": "stream",
     "text": [
      "Epoch 156, global step 15700: 'train_loss' reached 74.91827 (best 74.91827), saving model to 'C:\\\\Users\\\\falty\\\\Desktop\\\\GZS\\\\trading\\\\options\\\\tft\\\\ron\\\\lightning_logs\\\\version_22\\\\checkpoints\\\\epoch=156-step=15700.ckpt' as top 1\n"
     ]
    },
    {
     "name": "stdout",
     "output_type": "stream",
     "text": [
      "Epoch 157: |                                               | 100/? [00:10<00:00,  9.13it/s, v_num=22, train_loss=63.30]"
     ]
    },
    {
     "name": "stderr",
     "output_type": "stream",
     "text": [
      "Epoch 157, global step 15800: 'train_loss' reached 63.34197 (best 63.34197), saving model to 'C:\\\\Users\\\\falty\\\\Desktop\\\\GZS\\\\trading\\\\options\\\\tft\\\\ron\\\\lightning_logs\\\\version_22\\\\checkpoints\\\\epoch=157-step=15800.ckpt' as top 1\n"
     ]
    },
    {
     "name": "stdout",
     "output_type": "stream",
     "text": [
      "Epoch 158: |                                               | 100/? [00:10<00:00,  9.10it/s, v_num=22, train_loss=62.40]"
     ]
    },
    {
     "name": "stderr",
     "output_type": "stream",
     "text": [
      "Epoch 158, global step 15900: 'train_loss' reached 62.35229 (best 62.35229), saving model to 'C:\\\\Users\\\\falty\\\\Desktop\\\\GZS\\\\trading\\\\options\\\\tft\\\\ron\\\\lightning_logs\\\\version_22\\\\checkpoints\\\\epoch=158-step=15900.ckpt' as top 1\n"
     ]
    },
    {
     "name": "stdout",
     "output_type": "stream",
     "text": [
      "Epoch 159: |                                               | 100/? [00:10<00:00,  9.13it/s, v_num=22, train_loss=57.60]"
     ]
    },
    {
     "name": "stderr",
     "output_type": "stream",
     "text": [
      "Epoch 159, global step 16000: 'train_loss' reached 57.58852 (best 57.58852), saving model to 'C:\\\\Users\\\\falty\\\\Desktop\\\\GZS\\\\trading\\\\options\\\\tft\\\\ron\\\\lightning_logs\\\\version_22\\\\checkpoints\\\\epoch=159-step=16000.ckpt' as top 1\n"
     ]
    },
    {
     "name": "stdout",
     "output_type": "stream",
     "text": [
      "Epoch 160: |                                               | 100/? [00:11<00:00,  9.02it/s, v_num=22, train_loss=56.30]"
     ]
    },
    {
     "name": "stderr",
     "output_type": "stream",
     "text": [
      "Epoch 160, global step 16100: 'train_loss' reached 56.25514 (best 56.25514), saving model to 'C:\\\\Users\\\\falty\\\\Desktop\\\\GZS\\\\trading\\\\options\\\\tft\\\\ron\\\\lightning_logs\\\\version_22\\\\checkpoints\\\\epoch=160-step=16100.ckpt' as top 1\n"
     ]
    },
    {
     "name": "stdout",
     "output_type": "stream",
     "text": [
      "Epoch 161: |                                               | 100/? [00:10<00:00,  9.12it/s, v_num=22, train_loss=57.80]"
     ]
    },
    {
     "name": "stderr",
     "output_type": "stream",
     "text": [
      "Epoch 161, global step 16200: 'train_loss' was not in top 1\n"
     ]
    },
    {
     "name": "stdout",
     "output_type": "stream",
     "text": [
      "Epoch 162: |                                               | 100/? [00:10<00:00,  9.15it/s, v_num=22, train_loss=56.50]"
     ]
    },
    {
     "name": "stderr",
     "output_type": "stream",
     "text": [
      "Epoch 162, global step 16300: 'train_loss' was not in top 1\n"
     ]
    },
    {
     "name": "stdout",
     "output_type": "stream",
     "text": [
      "Epoch 163: |                                               | 100/? [00:10<00:00,  9.22it/s, v_num=22, train_loss=56.90]"
     ]
    },
    {
     "name": "stderr",
     "output_type": "stream",
     "text": [
      "Epoch 163, global step 16400: 'train_loss' was not in top 1\n"
     ]
    },
    {
     "name": "stdout",
     "output_type": "stream",
     "text": [
      "Epoch 164: |                                               | 100/? [00:10<00:00,  9.12it/s, v_num=22, train_loss=53.90]"
     ]
    },
    {
     "name": "stderr",
     "output_type": "stream",
     "text": [
      "Epoch 164, global step 16500: 'train_loss' reached 53.88191 (best 53.88191), saving model to 'C:\\\\Users\\\\falty\\\\Desktop\\\\GZS\\\\trading\\\\options\\\\tft\\\\ron\\\\lightning_logs\\\\version_22\\\\checkpoints\\\\epoch=164-step=16500.ckpt' as top 1\n"
     ]
    },
    {
     "name": "stdout",
     "output_type": "stream",
     "text": [
      "Epoch 165: |                                               | 100/? [00:11<00:00,  9.09it/s, v_num=22, train_loss=55.00]"
     ]
    },
    {
     "name": "stderr",
     "output_type": "stream",
     "text": [
      "Epoch 165, global step 16600: 'train_loss' was not in top 1\n"
     ]
    },
    {
     "name": "stdout",
     "output_type": "stream",
     "text": [
      "Epoch 166: |                                               | 100/? [00:10<00:00,  9.13it/s, v_num=22, train_loss=53.60]"
     ]
    },
    {
     "name": "stderr",
     "output_type": "stream",
     "text": [
      "Epoch 166, global step 16700: 'train_loss' reached 53.63101 (best 53.63101), saving model to 'C:\\\\Users\\\\falty\\\\Desktop\\\\GZS\\\\trading\\\\options\\\\tft\\\\ron\\\\lightning_logs\\\\version_22\\\\checkpoints\\\\epoch=166-step=16700.ckpt' as top 1\n"
     ]
    },
    {
     "name": "stdout",
     "output_type": "stream",
     "text": [
      "Epoch 167: |                                               | 100/? [00:10<00:00,  9.10it/s, v_num=22, train_loss=51.70]"
     ]
    },
    {
     "name": "stderr",
     "output_type": "stream",
     "text": [
      "Epoch 167, global step 16800: 'train_loss' reached 51.66262 (best 51.66262), saving model to 'C:\\\\Users\\\\falty\\\\Desktop\\\\GZS\\\\trading\\\\options\\\\tft\\\\ron\\\\lightning_logs\\\\version_22\\\\checkpoints\\\\epoch=167-step=16800.ckpt' as top 1\n"
     ]
    },
    {
     "name": "stdout",
     "output_type": "stream",
     "text": [
      "Epoch 168: |                                               | 100/? [00:10<00:00,  9.12it/s, v_num=22, train_loss=56.40]"
     ]
    },
    {
     "name": "stderr",
     "output_type": "stream",
     "text": [
      "Epoch 168, global step 16900: 'train_loss' was not in top 1\n"
     ]
    },
    {
     "name": "stdout",
     "output_type": "stream",
     "text": [
      "Epoch 169: |                                               | 100/? [00:11<00:00,  9.05it/s, v_num=22, train_loss=51.40]"
     ]
    },
    {
     "name": "stderr",
     "output_type": "stream",
     "text": [
      "Epoch 169, global step 17000: 'train_loss' reached 51.41125 (best 51.41125), saving model to 'C:\\\\Users\\\\falty\\\\Desktop\\\\GZS\\\\trading\\\\options\\\\tft\\\\ron\\\\lightning_logs\\\\version_22\\\\checkpoints\\\\epoch=169-step=17000.ckpt' as top 1\n"
     ]
    },
    {
     "name": "stdout",
     "output_type": "stream",
     "text": [
      "Epoch 170: |                                               | 100/? [00:10<00:00,  9.23it/s, v_num=22, train_loss=53.50]"
     ]
    },
    {
     "name": "stderr",
     "output_type": "stream",
     "text": [
      "Epoch 170, global step 17100: 'train_loss' was not in top 1\n"
     ]
    },
    {
     "name": "stdout",
     "output_type": "stream",
     "text": [
      "Epoch 171: |                                               | 100/? [00:10<00:00,  9.18it/s, v_num=22, train_loss=49.70]"
     ]
    },
    {
     "name": "stderr",
     "output_type": "stream",
     "text": [
      "Epoch 171, global step 17200: 'train_loss' reached 49.66822 (best 49.66822), saving model to 'C:\\\\Users\\\\falty\\\\Desktop\\\\GZS\\\\trading\\\\options\\\\tft\\\\ron\\\\lightning_logs\\\\version_22\\\\checkpoints\\\\epoch=171-step=17200.ckpt' as top 1\n"
     ]
    },
    {
     "name": "stdout",
     "output_type": "stream",
     "text": [
      "Epoch 172: |                                               | 100/? [00:10<00:00,  9.14it/s, v_num=22, train_loss=54.10]"
     ]
    },
    {
     "name": "stderr",
     "output_type": "stream",
     "text": [
      "Epoch 172, global step 17300: 'train_loss' was not in top 1\n"
     ]
    },
    {
     "name": "stdout",
     "output_type": "stream",
     "text": [
      "Epoch 173: |                                               | 100/? [00:10<00:00,  9.15it/s, v_num=22, train_loss=50.40]"
     ]
    },
    {
     "name": "stderr",
     "output_type": "stream",
     "text": [
      "Epoch 173, global step 17400: 'train_loss' was not in top 1\n"
     ]
    },
    {
     "name": "stdout",
     "output_type": "stream",
     "text": [
      "Epoch 174: |                                               | 100/? [00:10<00:00,  9.12it/s, v_num=22, train_loss=52.50]"
     ]
    },
    {
     "name": "stderr",
     "output_type": "stream",
     "text": [
      "Epoch 174, global step 17500: 'train_loss' was not in top 1\n"
     ]
    },
    {
     "name": "stdout",
     "output_type": "stream",
     "text": [
      "Epoch 175: |                                               | 100/? [00:10<00:00,  9.15it/s, v_num=22, train_loss=52.70]"
     ]
    },
    {
     "name": "stderr",
     "output_type": "stream",
     "text": [
      "Epoch 175, global step 17600: 'train_loss' was not in top 1\n"
     ]
    },
    {
     "name": "stdout",
     "output_type": "stream",
     "text": [
      "Epoch 176: |                                               | 100/? [00:10<00:00,  9.12it/s, v_num=22, train_loss=53.00]"
     ]
    },
    {
     "name": "stderr",
     "output_type": "stream",
     "text": [
      "Epoch 176, global step 17700: 'train_loss' was not in top 1\n"
     ]
    },
    {
     "name": "stdout",
     "output_type": "stream",
     "text": [
      "Epoch 177: |                                               | 100/? [00:10<00:00,  9.09it/s, v_num=22, train_loss=53.90]"
     ]
    },
    {
     "name": "stderr",
     "output_type": "stream",
     "text": [
      "Epoch 177, global step 17800: 'train_loss' was not in top 1\n"
     ]
    },
    {
     "name": "stdout",
     "output_type": "stream",
     "text": [
      "Epoch 178: |                                               | 100/? [00:10<00:00,  9.13it/s, v_num=22, train_loss=51.40]"
     ]
    },
    {
     "name": "stderr",
     "output_type": "stream",
     "text": [
      "Epoch 178, global step 17900: 'train_loss' was not in top 1\n"
     ]
    },
    {
     "name": "stdout",
     "output_type": "stream",
     "text": [
      "Epoch 179: |                                               | 100/? [00:10<00:00,  9.15it/s, v_num=22, train_loss=49.80]"
     ]
    },
    {
     "name": "stderr",
     "output_type": "stream",
     "text": [
      "Epoch 179, global step 18000: 'train_loss' was not in top 1\n"
     ]
    },
    {
     "name": "stdout",
     "output_type": "stream",
     "text": [
      "Epoch 180: |                                               | 100/? [00:10<00:00,  9.13it/s, v_num=22, train_loss=50.30]"
     ]
    },
    {
     "name": "stderr",
     "output_type": "stream",
     "text": [
      "Epoch 180, global step 18100: 'train_loss' was not in top 1\n"
     ]
    },
    {
     "name": "stdout",
     "output_type": "stream",
     "text": [
      "Epoch 181: |                                               | 100/? [00:10<00:00,  9.16it/s, v_num=22, train_loss=47.00]"
     ]
    },
    {
     "name": "stderr",
     "output_type": "stream",
     "text": [
      "Epoch 181, global step 18200: 'train_loss' reached 47.01637 (best 47.01637), saving model to 'C:\\\\Users\\\\falty\\\\Desktop\\\\GZS\\\\trading\\\\options\\\\tft\\\\ron\\\\lightning_logs\\\\version_22\\\\checkpoints\\\\epoch=181-step=18200.ckpt' as top 1\n"
     ]
    },
    {
     "name": "stdout",
     "output_type": "stream",
     "text": [
      "Epoch 182: |                                               | 100/? [00:11<00:00,  9.05it/s, v_num=22, train_loss=52.60]"
     ]
    },
    {
     "name": "stderr",
     "output_type": "stream",
     "text": [
      "Epoch 182, global step 18300: 'train_loss' was not in top 1\n"
     ]
    },
    {
     "name": "stdout",
     "output_type": "stream",
     "text": [
      "Epoch 183: |                                               | 100/? [00:10<00:00,  9.19it/s, v_num=22, train_loss=51.50]"
     ]
    },
    {
     "name": "stderr",
     "output_type": "stream",
     "text": [
      "Epoch 183, global step 18400: 'train_loss' was not in top 1\n"
     ]
    },
    {
     "name": "stdout",
     "output_type": "stream",
     "text": [
      "Epoch 184: |                                               | 100/? [00:10<00:00,  9.14it/s, v_num=22, train_loss=50.80]"
     ]
    },
    {
     "name": "stderr",
     "output_type": "stream",
     "text": [
      "Epoch 184, global step 18500: 'train_loss' was not in top 1\n"
     ]
    },
    {
     "name": "stdout",
     "output_type": "stream",
     "text": [
      "Epoch 185: |                                               | 100/? [00:10<00:00,  9.12it/s, v_num=22, train_loss=50.20]"
     ]
    },
    {
     "name": "stderr",
     "output_type": "stream",
     "text": [
      "Epoch 185, global step 18600: 'train_loss' was not in top 1\n"
     ]
    },
    {
     "name": "stdout",
     "output_type": "stream",
     "text": [
      "Epoch 186: |                                               | 100/? [00:10<00:00,  9.12it/s, v_num=22, train_loss=46.20]"
     ]
    },
    {
     "name": "stderr",
     "output_type": "stream",
     "text": [
      "Epoch 186, global step 18700: 'train_loss' reached 46.24514 (best 46.24514), saving model to 'C:\\\\Users\\\\falty\\\\Desktop\\\\GZS\\\\trading\\\\options\\\\tft\\\\ron\\\\lightning_logs\\\\version_22\\\\checkpoints\\\\epoch=186-step=18700.ckpt' as top 1\n"
     ]
    },
    {
     "name": "stdout",
     "output_type": "stream",
     "text": [
      "Epoch 187: |                                               | 100/? [00:10<00:00,  9.14it/s, v_num=22, train_loss=53.60]"
     ]
    },
    {
     "name": "stderr",
     "output_type": "stream",
     "text": [
      "Epoch 187, global step 18800: 'train_loss' was not in top 1\n"
     ]
    },
    {
     "name": "stdout",
     "output_type": "stream",
     "text": [
      "Epoch 188: |                                               | 100/? [00:10<00:00,  9.09it/s, v_num=22, train_loss=48.50]"
     ]
    },
    {
     "name": "stderr",
     "output_type": "stream",
     "text": [
      "Epoch 188, global step 18900: 'train_loss' was not in top 1\n"
     ]
    },
    {
     "name": "stdout",
     "output_type": "stream",
     "text": [
      "Epoch 189: |                                               | 100/? [00:11<00:00,  9.09it/s, v_num=22, train_loss=48.10]"
     ]
    },
    {
     "name": "stderr",
     "output_type": "stream",
     "text": [
      "Epoch 189, global step 19000: 'train_loss' was not in top 1\n"
     ]
    },
    {
     "name": "stdout",
     "output_type": "stream",
     "text": [
      "Epoch 190: |                                               | 100/? [00:10<00:00,  9.12it/s, v_num=22, train_loss=52.70]"
     ]
    },
    {
     "name": "stderr",
     "output_type": "stream",
     "text": [
      "Epoch 190, global step 19100: 'train_loss' was not in top 1\n"
     ]
    },
    {
     "name": "stdout",
     "output_type": "stream",
     "text": [
      "Epoch 191: |                                               | 100/? [00:10<00:00,  9.17it/s, v_num=22, train_loss=45.40]"
     ]
    },
    {
     "name": "stderr",
     "output_type": "stream",
     "text": [
      "Epoch 191, global step 19200: 'train_loss' reached 45.44244 (best 45.44244), saving model to 'C:\\\\Users\\\\falty\\\\Desktop\\\\GZS\\\\trading\\\\options\\\\tft\\\\ron\\\\lightning_logs\\\\version_22\\\\checkpoints\\\\epoch=191-step=19200.ckpt' as top 1\n"
     ]
    },
    {
     "name": "stdout",
     "output_type": "stream",
     "text": [
      "Epoch 192: |                                               | 100/? [00:10<00:00,  9.17it/s, v_num=22, train_loss=49.40]"
     ]
    },
    {
     "name": "stderr",
     "output_type": "stream",
     "text": [
      "Epoch 192, global step 19300: 'train_loss' was not in top 1\n"
     ]
    },
    {
     "name": "stdout",
     "output_type": "stream",
     "text": [
      "Epoch 193: |                                               | 100/? [00:10<00:00,  9.14it/s, v_num=22, train_loss=50.30]"
     ]
    },
    {
     "name": "stderr",
     "output_type": "stream",
     "text": [
      "Epoch 193, global step 19400: 'train_loss' was not in top 1\n"
     ]
    },
    {
     "name": "stdout",
     "output_type": "stream",
     "text": [
      "Epoch 194: |                                               | 100/? [00:11<00:00,  9.07it/s, v_num=22, train_loss=49.30]"
     ]
    },
    {
     "name": "stderr",
     "output_type": "stream",
     "text": [
      "Epoch 194, global step 19500: 'train_loss' was not in top 1\n"
     ]
    },
    {
     "name": "stdout",
     "output_type": "stream",
     "text": [
      "Epoch 195: |                                               | 100/? [00:10<00:00,  9.16it/s, v_num=22, train_loss=49.20]"
     ]
    },
    {
     "name": "stderr",
     "output_type": "stream",
     "text": [
      "Epoch 195, global step 19600: 'train_loss' was not in top 1\n"
     ]
    },
    {
     "name": "stdout",
     "output_type": "stream",
     "text": [
      "Epoch 196: |                                               | 100/? [00:10<00:00,  9.11it/s, v_num=22, train_loss=52.10]"
     ]
    },
    {
     "name": "stderr",
     "output_type": "stream",
     "text": [
      "Epoch 196, global step 19700: 'train_loss' was not in top 1\n"
     ]
    },
    {
     "name": "stdout",
     "output_type": "stream",
     "text": [
      "Epoch 197: |                                               | 100/? [00:10<00:00,  9.12it/s, v_num=22, train_loss=51.30]"
     ]
    },
    {
     "name": "stderr",
     "output_type": "stream",
     "text": [
      "Epoch 197, global step 19800: 'train_loss' was not in top 1\n"
     ]
    },
    {
     "name": "stdout",
     "output_type": "stream",
     "text": [
      "Epoch 198: |                                               | 100/? [00:11<00:00,  9.01it/s, v_num=22, train_loss=47.10]"
     ]
    },
    {
     "name": "stderr",
     "output_type": "stream",
     "text": [
      "Epoch 198, global step 19900: 'train_loss' was not in top 1\n"
     ]
    },
    {
     "name": "stdout",
     "output_type": "stream",
     "text": [
      "Epoch 199: |                                               | 100/? [00:11<00:00,  9.09it/s, v_num=22, train_loss=48.00]"
     ]
    },
    {
     "name": "stderr",
     "output_type": "stream",
     "text": [
      "Epoch 199, global step 20000: 'train_loss' was not in top 1\n"
     ]
    },
    {
     "name": "stdout",
     "output_type": "stream",
     "text": [
      "Epoch 200: |                                               | 100/? [00:10<00:00,  9.19it/s, v_num=22, train_loss=50.30]"
     ]
    },
    {
     "name": "stderr",
     "output_type": "stream",
     "text": [
      "Epoch 200, global step 20100: 'train_loss' was not in top 1\n"
     ]
    },
    {
     "name": "stdout",
     "output_type": "stream",
     "text": [
      "Epoch 201: |                                               | 100/? [00:10<00:00,  9.17it/s, v_num=22, train_loss=52.20]"
     ]
    },
    {
     "name": "stderr",
     "output_type": "stream",
     "text": [
      "Epoch 201, global step 20200: 'train_loss' was not in top 1\n"
     ]
    },
    {
     "name": "stdout",
     "output_type": "stream",
     "text": [
      "Epoch 202: |                                               | 100/? [00:10<00:00,  9.22it/s, v_num=22, train_loss=51.30]"
     ]
    },
    {
     "name": "stderr",
     "output_type": "stream",
     "text": [
      "Epoch 202, global step 20300: 'train_loss' was not in top 1\n"
     ]
    },
    {
     "name": "stdout",
     "output_type": "stream",
     "text": [
      "Epoch 203: |                                               | 100/? [00:10<00:00,  9.17it/s, v_num=22, train_loss=38.30]"
     ]
    },
    {
     "name": "stderr",
     "output_type": "stream",
     "text": [
      "Epoch 203, global step 20400: 'train_loss' reached 38.26279 (best 38.26279), saving model to 'C:\\\\Users\\\\falty\\\\Desktop\\\\GZS\\\\trading\\\\options\\\\tft\\\\ron\\\\lightning_logs\\\\version_22\\\\checkpoints\\\\epoch=203-step=20400.ckpt' as top 1\n"
     ]
    },
    {
     "name": "stdout",
     "output_type": "stream",
     "text": [
      "Epoch 204: |                                               | 100/? [00:10<00:00,  9.15it/s, v_num=22, train_loss=31.50]"
     ]
    },
    {
     "name": "stderr",
     "output_type": "stream",
     "text": [
      "Epoch 204, global step 20500: 'train_loss' reached 31.52661 (best 31.52661), saving model to 'C:\\\\Users\\\\falty\\\\Desktop\\\\GZS\\\\trading\\\\options\\\\tft\\\\ron\\\\lightning_logs\\\\version_22\\\\checkpoints\\\\epoch=204-step=20500.ckpt' as top 1\n"
     ]
    },
    {
     "name": "stdout",
     "output_type": "stream",
     "text": [
      "Epoch 205: |                                               | 100/? [00:10<00:00,  9.11it/s, v_num=22, train_loss=31.30]"
     ]
    },
    {
     "name": "stderr",
     "output_type": "stream",
     "text": [
      "Epoch 205, global step 20600: 'train_loss' reached 31.26758 (best 31.26758), saving model to 'C:\\\\Users\\\\falty\\\\Desktop\\\\GZS\\\\trading\\\\options\\\\tft\\\\ron\\\\lightning_logs\\\\version_22\\\\checkpoints\\\\epoch=205-step=20600.ckpt' as top 1\n"
     ]
    },
    {
     "name": "stdout",
     "output_type": "stream",
     "text": [
      "Epoch 206: |                                               | 100/? [00:10<00:00,  9.10it/s, v_num=22, train_loss=29.50]"
     ]
    },
    {
     "name": "stderr",
     "output_type": "stream",
     "text": [
      "Epoch 206, global step 20700: 'train_loss' reached 29.47910 (best 29.47910), saving model to 'C:\\\\Users\\\\falty\\\\Desktop\\\\GZS\\\\trading\\\\options\\\\tft\\\\ron\\\\lightning_logs\\\\version_22\\\\checkpoints\\\\epoch=206-step=20700.ckpt' as top 1\n"
     ]
    },
    {
     "name": "stdout",
     "output_type": "stream",
     "text": [
      "Epoch 207: |                                               | 100/? [00:10<00:00,  9.11it/s, v_num=22, train_loss=31.70]"
     ]
    },
    {
     "name": "stderr",
     "output_type": "stream",
     "text": [
      "Epoch 207, global step 20800: 'train_loss' was not in top 1\n"
     ]
    },
    {
     "name": "stdout",
     "output_type": "stream",
     "text": [
      "Epoch 208: |                                               | 100/? [00:10<00:00,  9.16it/s, v_num=22, train_loss=28.40]"
     ]
    },
    {
     "name": "stderr",
     "output_type": "stream",
     "text": [
      "Epoch 208, global step 20900: 'train_loss' reached 28.44937 (best 28.44937), saving model to 'C:\\\\Users\\\\falty\\\\Desktop\\\\GZS\\\\trading\\\\options\\\\tft\\\\ron\\\\lightning_logs\\\\version_22\\\\checkpoints\\\\epoch=208-step=20900.ckpt' as top 1\n"
     ]
    },
    {
     "name": "stdout",
     "output_type": "stream",
     "text": [
      "Epoch 209: |                                               | 100/? [00:10<00:00,  9.26it/s, v_num=22, train_loss=31.50]"
     ]
    },
    {
     "name": "stderr",
     "output_type": "stream",
     "text": [
      "Epoch 209, global step 21000: 'train_loss' was not in top 1\n"
     ]
    },
    {
     "name": "stdout",
     "output_type": "stream",
     "text": [
      "Epoch 210: |                                               | 100/? [00:11<00:00,  8.88it/s, v_num=22, train_loss=32.40]"
     ]
    },
    {
     "name": "stderr",
     "output_type": "stream",
     "text": [
      "Epoch 210, global step 21100: 'train_loss' was not in top 1\n"
     ]
    },
    {
     "name": "stdout",
     "output_type": "stream",
     "text": [
      "Epoch 211: |                                               | 100/? [00:10<00:00,  9.25it/s, v_num=22, train_loss=30.50]"
     ]
    },
    {
     "name": "stderr",
     "output_type": "stream",
     "text": [
      "Epoch 211, global step 21200: 'train_loss' was not in top 1\n"
     ]
    },
    {
     "name": "stdout",
     "output_type": "stream",
     "text": [
      "Epoch 212: |                                               | 100/? [00:10<00:00,  9.17it/s, v_num=22, train_loss=30.10]"
     ]
    },
    {
     "name": "stderr",
     "output_type": "stream",
     "text": [
      "Epoch 212, global step 21300: 'train_loss' was not in top 1\n"
     ]
    },
    {
     "name": "stdout",
     "output_type": "stream",
     "text": [
      "Epoch 213: |                                               | 100/? [00:10<00:00,  9.10it/s, v_num=22, train_loss=31.10]"
     ]
    },
    {
     "name": "stderr",
     "output_type": "stream",
     "text": [
      "Epoch 213, global step 21400: 'train_loss' was not in top 1\n"
     ]
    },
    {
     "name": "stdout",
     "output_type": "stream",
     "text": [
      "Epoch 214: |                                               | 100/? [00:11<00:00,  9.09it/s, v_num=22, train_loss=30.60]"
     ]
    },
    {
     "name": "stderr",
     "output_type": "stream",
     "text": [
      "Epoch 214, global step 21500: 'train_loss' was not in top 1\n"
     ]
    },
    {
     "name": "stdout",
     "output_type": "stream",
     "text": [
      "Epoch 215: |                                               | 100/? [00:10<00:00,  9.16it/s, v_num=22, train_loss=30.70]"
     ]
    },
    {
     "name": "stderr",
     "output_type": "stream",
     "text": [
      "Epoch 215, global step 21600: 'train_loss' was not in top 1\n"
     ]
    },
    {
     "name": "stdout",
     "output_type": "stream",
     "text": [
      "Epoch 216: |                                               | 100/? [00:10<00:00,  9.13it/s, v_num=22, train_loss=30.70]"
     ]
    },
    {
     "name": "stderr",
     "output_type": "stream",
     "text": [
      "Epoch 216, global step 21700: 'train_loss' was not in top 1\n"
     ]
    },
    {
     "name": "stdout",
     "output_type": "stream",
     "text": [
      "Epoch 217: |                                               | 100/? [00:10<00:00,  9.09it/s, v_num=22, train_loss=28.60]"
     ]
    },
    {
     "name": "stderr",
     "output_type": "stream",
     "text": [
      "Epoch 217, global step 21800: 'train_loss' was not in top 1\n"
     ]
    },
    {
     "name": "stdout",
     "output_type": "stream",
     "text": [
      "Epoch 218: |                                               | 100/? [00:10<00:00,  9.12it/s, v_num=22, train_loss=30.90]"
     ]
    },
    {
     "name": "stderr",
     "output_type": "stream",
     "text": [
      "Epoch 218, global step 21900: 'train_loss' was not in top 1\n"
     ]
    },
    {
     "name": "stdout",
     "output_type": "stream",
     "text": [
      "Epoch 219: |                                               | 100/? [00:10<00:00,  9.15it/s, v_num=22, train_loss=31.30]"
     ]
    },
    {
     "name": "stderr",
     "output_type": "stream",
     "text": [
      "Epoch 219, global step 22000: 'train_loss' was not in top 1\n"
     ]
    },
    {
     "name": "stdout",
     "output_type": "stream",
     "text": [
      "Epoch 220: |                                               | 100/? [00:10<00:00,  9.11it/s, v_num=22, train_loss=24.50]"
     ]
    },
    {
     "name": "stderr",
     "output_type": "stream",
     "text": [
      "Epoch 220, global step 22100: 'train_loss' reached 24.45744 (best 24.45744), saving model to 'C:\\\\Users\\\\falty\\\\Desktop\\\\GZS\\\\trading\\\\options\\\\tft\\\\ron\\\\lightning_logs\\\\version_22\\\\checkpoints\\\\epoch=220-step=22100.ckpt' as top 1\n"
     ]
    },
    {
     "name": "stdout",
     "output_type": "stream",
     "text": [
      "Epoch 221: |                                               | 100/? [00:11<00:00,  9.07it/s, v_num=22, train_loss=23.70]"
     ]
    },
    {
     "name": "stderr",
     "output_type": "stream",
     "text": [
      "Epoch 221, global step 22200: 'train_loss' reached 23.65739 (best 23.65739), saving model to 'C:\\\\Users\\\\falty\\\\Desktop\\\\GZS\\\\trading\\\\options\\\\tft\\\\ron\\\\lightning_logs\\\\version_22\\\\checkpoints\\\\epoch=221-step=22200.ckpt' as top 1\n"
     ]
    },
    {
     "name": "stdout",
     "output_type": "stream",
     "text": [
      "Epoch 222: |                                               | 100/? [00:10<00:00,  9.21it/s, v_num=22, train_loss=23.10]"
     ]
    },
    {
     "name": "stderr",
     "output_type": "stream",
     "text": [
      "Epoch 222, global step 22300: 'train_loss' reached 23.06998 (best 23.06998), saving model to 'C:\\\\Users\\\\falty\\\\Desktop\\\\GZS\\\\trading\\\\options\\\\tft\\\\ron\\\\lightning_logs\\\\version_22\\\\checkpoints\\\\epoch=222-step=22300.ckpt' as top 1\n"
     ]
    },
    {
     "name": "stdout",
     "output_type": "stream",
     "text": [
      "Epoch 223: |                                               | 100/? [00:10<00:00,  9.15it/s, v_num=22, train_loss=22.50]"
     ]
    },
    {
     "name": "stderr",
     "output_type": "stream",
     "text": [
      "Epoch 223, global step 22400: 'train_loss' reached 22.53502 (best 22.53502), saving model to 'C:\\\\Users\\\\falty\\\\Desktop\\\\GZS\\\\trading\\\\options\\\\tft\\\\ron\\\\lightning_logs\\\\version_22\\\\checkpoints\\\\epoch=223-step=22400.ckpt' as top 1\n"
     ]
    },
    {
     "name": "stdout",
     "output_type": "stream",
     "text": [
      "Epoch 224: |                                               | 100/? [00:10<00:00,  9.31it/s, v_num=22, train_loss=22.10]"
     ]
    },
    {
     "name": "stderr",
     "output_type": "stream",
     "text": [
      "Epoch 224, global step 22500: 'train_loss' reached 22.08900 (best 22.08900), saving model to 'C:\\\\Users\\\\falty\\\\Desktop\\\\GZS\\\\trading\\\\options\\\\tft\\\\ron\\\\lightning_logs\\\\version_22\\\\checkpoints\\\\epoch=224-step=22500.ckpt' as top 1\n"
     ]
    },
    {
     "name": "stdout",
     "output_type": "stream",
     "text": [
      "Epoch 225: |                                               | 100/? [00:10<00:00,  9.20it/s, v_num=22, train_loss=22.50]"
     ]
    },
    {
     "name": "stderr",
     "output_type": "stream",
     "text": [
      "Epoch 225, global step 22600: 'train_loss' was not in top 1\n"
     ]
    },
    {
     "name": "stdout",
     "output_type": "stream",
     "text": [
      "Epoch 226: |                                               | 100/? [00:10<00:00,  9.12it/s, v_num=22, train_loss=21.40]"
     ]
    },
    {
     "name": "stderr",
     "output_type": "stream",
     "text": [
      "Epoch 226, global step 22700: 'train_loss' reached 21.37023 (best 21.37023), saving model to 'C:\\\\Users\\\\falty\\\\Desktop\\\\GZS\\\\trading\\\\options\\\\tft\\\\ron\\\\lightning_logs\\\\version_22\\\\checkpoints\\\\epoch=226-step=22700.ckpt' as top 1\n"
     ]
    },
    {
     "name": "stdout",
     "output_type": "stream",
     "text": [
      "Epoch 227: |                                               | 100/? [00:10<00:00,  9.12it/s, v_num=22, train_loss=21.80]"
     ]
    },
    {
     "name": "stderr",
     "output_type": "stream",
     "text": [
      "Epoch 227, global step 22800: 'train_loss' was not in top 1\n"
     ]
    },
    {
     "name": "stdout",
     "output_type": "stream",
     "text": [
      "Epoch 228: |                                               | 100/? [00:10<00:00,  9.24it/s, v_num=22, train_loss=21.40]"
     ]
    },
    {
     "name": "stderr",
     "output_type": "stream",
     "text": [
      "Epoch 228, global step 22900: 'train_loss' was not in top 1\n"
     ]
    },
    {
     "name": "stdout",
     "output_type": "stream",
     "text": [
      "Epoch 229: |                                               | 100/? [00:10<00:00,  9.23it/s, v_num=22, train_loss=22.20]"
     ]
    },
    {
     "name": "stderr",
     "output_type": "stream",
     "text": [
      "Epoch 229, global step 23000: 'train_loss' was not in top 1\n"
     ]
    },
    {
     "name": "stdout",
     "output_type": "stream",
     "text": [
      "Epoch 230: |                                               | 100/? [00:10<00:00,  9.11it/s, v_num=22, train_loss=22.00]"
     ]
    },
    {
     "name": "stderr",
     "output_type": "stream",
     "text": [
      "Epoch 230, global step 23100: 'train_loss' was not in top 1\n"
     ]
    },
    {
     "name": "stdout",
     "output_type": "stream",
     "text": [
      "Epoch 231: |                                               | 100/? [00:10<00:00,  9.14it/s, v_num=22, train_loss=22.60]"
     ]
    },
    {
     "name": "stderr",
     "output_type": "stream",
     "text": [
      "Epoch 231, global step 23200: 'train_loss' was not in top 1\n"
     ]
    },
    {
     "name": "stdout",
     "output_type": "stream",
     "text": [
      "Epoch 232: |                                               | 100/? [00:10<00:00,  9.18it/s, v_num=22, train_loss=22.50]"
     ]
    },
    {
     "name": "stderr",
     "output_type": "stream",
     "text": [
      "Epoch 232, global step 23300: 'train_loss' was not in top 1\n"
     ]
    },
    {
     "name": "stdout",
     "output_type": "stream",
     "text": [
      "Epoch 233: |                                               | 100/? [00:10<00:00,  9.17it/s, v_num=22, train_loss=21.50]"
     ]
    },
    {
     "name": "stderr",
     "output_type": "stream",
     "text": [
      "Epoch 233, global step 23400: 'train_loss' was not in top 1\n"
     ]
    },
    {
     "name": "stdout",
     "output_type": "stream",
     "text": [
      "Epoch 234: |                                               | 100/? [00:10<00:00,  9.11it/s, v_num=22, train_loss=23.90]"
     ]
    },
    {
     "name": "stderr",
     "output_type": "stream",
     "text": [
      "Epoch 234, global step 23500: 'train_loss' was not in top 1\n"
     ]
    },
    {
     "name": "stdout",
     "output_type": "stream",
     "text": [
      "Epoch 235: |                                               | 100/? [00:10<00:00,  9.13it/s, v_num=22, train_loss=21.00]"
     ]
    },
    {
     "name": "stderr",
     "output_type": "stream",
     "text": [
      "Epoch 235, global step 23600: 'train_loss' reached 21.00660 (best 21.00660), saving model to 'C:\\\\Users\\\\falty\\\\Desktop\\\\GZS\\\\trading\\\\options\\\\tft\\\\ron\\\\lightning_logs\\\\version_22\\\\checkpoints\\\\epoch=235-step=23600.ckpt' as top 1\n"
     ]
    },
    {
     "name": "stdout",
     "output_type": "stream",
     "text": [
      "Epoch 236: |                                               | 100/? [00:10<00:00,  9.12it/s, v_num=22, train_loss=20.30]"
     ]
    },
    {
     "name": "stderr",
     "output_type": "stream",
     "text": [
      "Epoch 236, global step 23700: 'train_loss' reached 20.28924 (best 20.28924), saving model to 'C:\\\\Users\\\\falty\\\\Desktop\\\\GZS\\\\trading\\\\options\\\\tft\\\\ron\\\\lightning_logs\\\\version_22\\\\checkpoints\\\\epoch=236-step=23700.ckpt' as top 1\n"
     ]
    },
    {
     "name": "stdout",
     "output_type": "stream",
     "text": [
      "Epoch 237: |                                               | 100/? [00:11<00:00,  9.08it/s, v_num=22, train_loss=21.00]"
     ]
    },
    {
     "name": "stderr",
     "output_type": "stream",
     "text": [
      "Epoch 237, global step 23800: 'train_loss' was not in top 1\n"
     ]
    },
    {
     "name": "stdout",
     "output_type": "stream",
     "text": [
      "Epoch 238: |                                               | 100/? [00:10<00:00,  9.11it/s, v_num=22, train_loss=22.00]"
     ]
    },
    {
     "name": "stderr",
     "output_type": "stream",
     "text": [
      "Epoch 238, global step 23900: 'train_loss' was not in top 1\n"
     ]
    },
    {
     "name": "stdout",
     "output_type": "stream",
     "text": [
      "Epoch 239: |                                               | 100/? [00:10<00:00,  9.15it/s, v_num=22, train_loss=22.80]"
     ]
    },
    {
     "name": "stderr",
     "output_type": "stream",
     "text": [
      "Epoch 239, global step 24000: 'train_loss' was not in top 1\n"
     ]
    },
    {
     "name": "stdout",
     "output_type": "stream",
     "text": [
      "Epoch 240: |                                               | 100/? [00:10<00:00,  9.16it/s, v_num=22, train_loss=21.40]"
     ]
    },
    {
     "name": "stderr",
     "output_type": "stream",
     "text": [
      "Epoch 240, global step 24100: 'train_loss' was not in top 1\n"
     ]
    },
    {
     "name": "stdout",
     "output_type": "stream",
     "text": [
      "Epoch 241: |                                               | 100/? [00:10<00:00,  9.10it/s, v_num=22, train_loss=20.90]"
     ]
    },
    {
     "name": "stderr",
     "output_type": "stream",
     "text": [
      "Epoch 241, global step 24200: 'train_loss' was not in top 1\n"
     ]
    },
    {
     "name": "stdout",
     "output_type": "stream",
     "text": [
      "Epoch 242: |                                               | 100/? [00:11<00:00,  9.05it/s, v_num=22, train_loss=21.40]"
     ]
    },
    {
     "name": "stderr",
     "output_type": "stream",
     "text": [
      "Epoch 242, global step 24300: 'train_loss' was not in top 1\n"
     ]
    },
    {
     "name": "stdout",
     "output_type": "stream",
     "text": [
      "Epoch 243: |                                               | 100/? [00:10<00:00,  9.11it/s, v_num=22, train_loss=21.20]"
     ]
    },
    {
     "name": "stderr",
     "output_type": "stream",
     "text": [
      "Epoch 243, global step 24400: 'train_loss' was not in top 1\n"
     ]
    },
    {
     "name": "stdout",
     "output_type": "stream",
     "text": [
      "Epoch 244: |                                               | 100/? [00:11<00:00,  9.07it/s, v_num=22, train_loss=21.80]"
     ]
    },
    {
     "name": "stderr",
     "output_type": "stream",
     "text": [
      "Epoch 244, global step 24500: 'train_loss' was not in top 1\n"
     ]
    },
    {
     "name": "stdout",
     "output_type": "stream",
     "text": [
      "Epoch 245: |                                               | 100/? [00:10<00:00,  9.13it/s, v_num=22, train_loss=21.40]"
     ]
    },
    {
     "name": "stderr",
     "output_type": "stream",
     "text": [
      "Epoch 245, global step 24600: 'train_loss' was not in top 1\n"
     ]
    },
    {
     "name": "stdout",
     "output_type": "stream",
     "text": [
      "Epoch 246: |                                               | 100/? [00:10<00:00,  9.20it/s, v_num=22, train_loss=21.50]"
     ]
    },
    {
     "name": "stderr",
     "output_type": "stream",
     "text": [
      "Epoch 246, global step 24700: 'train_loss' was not in top 1\n"
     ]
    },
    {
     "name": "stdout",
     "output_type": "stream",
     "text": [
      "Epoch 247: |                                               | 100/? [00:10<00:00,  9.18it/s, v_num=22, train_loss=20.60]"
     ]
    },
    {
     "name": "stderr",
     "output_type": "stream",
     "text": [
      "Epoch 247, global step 24800: 'train_loss' was not in top 1\n"
     ]
    },
    {
     "name": "stdout",
     "output_type": "stream",
     "text": [
      "Epoch 248: |                                               | 100/? [00:10<00:00,  9.12it/s, v_num=22, train_loss=20.50]"
     ]
    },
    {
     "name": "stderr",
     "output_type": "stream",
     "text": [
      "Epoch 248, global step 24900: 'train_loss' was not in top 1\n"
     ]
    },
    {
     "name": "stdout",
     "output_type": "stream",
     "text": [
      "Epoch 249: |                                               | 100/? [00:11<00:00,  9.08it/s, v_num=22, train_loss=17.90]"
     ]
    },
    {
     "name": "stderr",
     "output_type": "stream",
     "text": [
      "Epoch 249, global step 25000: 'train_loss' reached 17.92382 (best 17.92382), saving model to 'C:\\\\Users\\\\falty\\\\Desktop\\\\GZS\\\\trading\\\\options\\\\tft\\\\ron\\\\lightning_logs\\\\version_22\\\\checkpoints\\\\epoch=249-step=25000.ckpt' as top 1\n"
     ]
    },
    {
     "name": "stdout",
     "output_type": "stream",
     "text": [
      "Epoch 250: |                                               | 100/? [00:10<00:00,  9.15it/s, v_num=22, train_loss=17.80]"
     ]
    },
    {
     "name": "stderr",
     "output_type": "stream",
     "text": [
      "Epoch 250, global step 25100: 'train_loss' reached 17.75225 (best 17.75225), saving model to 'C:\\\\Users\\\\falty\\\\Desktop\\\\GZS\\\\trading\\\\options\\\\tft\\\\ron\\\\lightning_logs\\\\version_22\\\\checkpoints\\\\epoch=250-step=25100.ckpt' as top 1\n"
     ]
    },
    {
     "name": "stdout",
     "output_type": "stream",
     "text": [
      "Epoch 251: |                                               | 100/? [00:10<00:00,  9.16it/s, v_num=22, train_loss=18.20]"
     ]
    },
    {
     "name": "stderr",
     "output_type": "stream",
     "text": [
      "Epoch 251, global step 25200: 'train_loss' was not in top 1\n"
     ]
    },
    {
     "name": "stdout",
     "output_type": "stream",
     "text": [
      "Epoch 252: |                                               | 100/? [00:11<00:00,  9.07it/s, v_num=22, train_loss=18.50]"
     ]
    },
    {
     "name": "stderr",
     "output_type": "stream",
     "text": [
      "Epoch 252, global step 25300: 'train_loss' was not in top 1\n"
     ]
    },
    {
     "name": "stdout",
     "output_type": "stream",
     "text": [
      "Epoch 253: |                                               | 100/? [00:10<00:00,  9.10it/s, v_num=22, train_loss=18.20]"
     ]
    },
    {
     "name": "stderr",
     "output_type": "stream",
     "text": [
      "Epoch 253, global step 25400: 'train_loss' was not in top 1\n"
     ]
    },
    {
     "name": "stdout",
     "output_type": "stream",
     "text": [
      "Epoch 254: |                                               | 100/? [00:10<00:00,  9.21it/s, v_num=22, train_loss=18.00]"
     ]
    },
    {
     "name": "stderr",
     "output_type": "stream",
     "text": [
      "Epoch 254, global step 25500: 'train_loss' was not in top 1\n"
     ]
    },
    {
     "name": "stdout",
     "output_type": "stream",
     "text": [
      "Epoch 255: |                                               | 100/? [00:10<00:00,  9.23it/s, v_num=22, train_loss=18.50]"
     ]
    },
    {
     "name": "stderr",
     "output_type": "stream",
     "text": [
      "Epoch 255, global step 25600: 'train_loss' was not in top 1\n"
     ]
    },
    {
     "name": "stdout",
     "output_type": "stream",
     "text": [
      "Epoch 256: |                                               | 100/? [00:10<00:00,  9.16it/s, v_num=22, train_loss=18.10]"
     ]
    },
    {
     "name": "stderr",
     "output_type": "stream",
     "text": [
      "Epoch 256, global step 25700: 'train_loss' was not in top 1\n"
     ]
    },
    {
     "name": "stdout",
     "output_type": "stream",
     "text": [
      "Epoch 257: |                                               | 100/? [00:10<00:00,  9.16it/s, v_num=22, train_loss=17.10]"
     ]
    },
    {
     "name": "stderr",
     "output_type": "stream",
     "text": [
      "Epoch 257, global step 25800: 'train_loss' reached 17.08475 (best 17.08475), saving model to 'C:\\\\Users\\\\falty\\\\Desktop\\\\GZS\\\\trading\\\\options\\\\tft\\\\ron\\\\lightning_logs\\\\version_22\\\\checkpoints\\\\epoch=257-step=25800.ckpt' as top 1\n"
     ]
    },
    {
     "name": "stdout",
     "output_type": "stream",
     "text": [
      "Epoch 258: |                                               | 100/? [00:10<00:00,  9.15it/s, v_num=22, train_loss=16.80]"
     ]
    },
    {
     "name": "stderr",
     "output_type": "stream",
     "text": [
      "Epoch 258, global step 25900: 'train_loss' reached 16.76464 (best 16.76464), saving model to 'C:\\\\Users\\\\falty\\\\Desktop\\\\GZS\\\\trading\\\\options\\\\tft\\\\ron\\\\lightning_logs\\\\version_22\\\\checkpoints\\\\epoch=258-step=25900.ckpt' as top 1\n"
     ]
    },
    {
     "name": "stdout",
     "output_type": "stream",
     "text": [
      "Epoch 259: |                                               | 100/? [00:10<00:00,  9.15it/s, v_num=22, train_loss=18.70]"
     ]
    },
    {
     "name": "stderr",
     "output_type": "stream",
     "text": [
      "Epoch 259, global step 26000: 'train_loss' was not in top 1\n"
     ]
    },
    {
     "name": "stdout",
     "output_type": "stream",
     "text": [
      "Epoch 260: |                                               | 100/? [00:11<00:00,  9.07it/s, v_num=22, train_loss=18.70]"
     ]
    },
    {
     "name": "stderr",
     "output_type": "stream",
     "text": [
      "Epoch 260, global step 26100: 'train_loss' was not in top 1\n"
     ]
    },
    {
     "name": "stdout",
     "output_type": "stream",
     "text": [
      "Epoch 261: |                                               | 100/? [00:10<00:00,  9.16it/s, v_num=22, train_loss=16.80]"
     ]
    },
    {
     "name": "stderr",
     "output_type": "stream",
     "text": [
      "Epoch 261, global step 26200: 'train_loss' was not in top 1\n"
     ]
    },
    {
     "name": "stdout",
     "output_type": "stream",
     "text": [
      "Epoch 262: |                                               | 100/? [00:11<00:00,  9.07it/s, v_num=22, train_loss=17.20]"
     ]
    },
    {
     "name": "stderr",
     "output_type": "stream",
     "text": [
      "Epoch 262, global step 26300: 'train_loss' was not in top 1\n"
     ]
    },
    {
     "name": "stdout",
     "output_type": "stream",
     "text": [
      "Epoch 263: |                                               | 100/? [00:10<00:00,  9.14it/s, v_num=22, train_loss=17.30]"
     ]
    },
    {
     "name": "stderr",
     "output_type": "stream",
     "text": [
      "Epoch 263, global step 26400: 'train_loss' was not in top 1\n"
     ]
    },
    {
     "name": "stdout",
     "output_type": "stream",
     "text": [
      "Epoch 264: |                                               | 100/? [00:10<00:00,  9.17it/s, v_num=22, train_loss=18.50]"
     ]
    },
    {
     "name": "stderr",
     "output_type": "stream",
     "text": [
      "Epoch 264, global step 26500: 'train_loss' was not in top 1\n"
     ]
    },
    {
     "name": "stdout",
     "output_type": "stream",
     "text": [
      "Epoch 265: |                                               | 100/? [00:10<00:00,  9.12it/s, v_num=22, train_loss=18.30]"
     ]
    },
    {
     "name": "stderr",
     "output_type": "stream",
     "text": [
      "Epoch 265, global step 26600: 'train_loss' was not in top 1\n"
     ]
    },
    {
     "name": "stdout",
     "output_type": "stream",
     "text": [
      "Epoch 266: |                                               | 100/? [00:10<00:00,  9.17it/s, v_num=22, train_loss=19.30]"
     ]
    },
    {
     "name": "stderr",
     "output_type": "stream",
     "text": [
      "Epoch 266, global step 26700: 'train_loss' was not in top 1\n"
     ]
    },
    {
     "name": "stdout",
     "output_type": "stream",
     "text": [
      "Epoch 267: |                                               | 100/? [00:10<00:00,  9.16it/s, v_num=22, train_loss=15.90]"
     ]
    },
    {
     "name": "stderr",
     "output_type": "stream",
     "text": [
      "Epoch 267, global step 26800: 'train_loss' reached 15.93099 (best 15.93099), saving model to 'C:\\\\Users\\\\falty\\\\Desktop\\\\GZS\\\\trading\\\\options\\\\tft\\\\ron\\\\lightning_logs\\\\version_22\\\\checkpoints\\\\epoch=267-step=26800.ckpt' as top 1\n"
     ]
    },
    {
     "name": "stdout",
     "output_type": "stream",
     "text": [
      "Epoch 268: |                                               | 100/? [00:10<00:00,  9.15it/s, v_num=22, train_loss=17.20]"
     ]
    },
    {
     "name": "stderr",
     "output_type": "stream",
     "text": [
      "Epoch 268, global step 26900: 'train_loss' was not in top 1\n"
     ]
    },
    {
     "name": "stdout",
     "output_type": "stream",
     "text": [
      "Epoch 269: |                                               | 100/? [00:10<00:00,  9.17it/s, v_num=22, train_loss=17.30]"
     ]
    },
    {
     "name": "stderr",
     "output_type": "stream",
     "text": [
      "Epoch 269, global step 27000: 'train_loss' was not in top 1\n"
     ]
    },
    {
     "name": "stdout",
     "output_type": "stream",
     "text": [
      "Epoch 270: |                                               | 100/? [00:10<00:00,  9.21it/s, v_num=22, train_loss=16.80]"
     ]
    },
    {
     "name": "stderr",
     "output_type": "stream",
     "text": [
      "Epoch 270, global step 27100: 'train_loss' was not in top 1\n"
     ]
    },
    {
     "name": "stdout",
     "output_type": "stream",
     "text": [
      "Epoch 271: |                                               | 100/? [00:10<00:00,  9.14it/s, v_num=22, train_loss=17.80]"
     ]
    },
    {
     "name": "stderr",
     "output_type": "stream",
     "text": [
      "Epoch 271, global step 27200: 'train_loss' was not in top 1\n"
     ]
    },
    {
     "name": "stdout",
     "output_type": "stream",
     "text": [
      "Epoch 272: |                                               | 100/? [00:10<00:00,  9.20it/s, v_num=22, train_loss=16.90]"
     ]
    },
    {
     "name": "stderr",
     "output_type": "stream",
     "text": [
      "Epoch 272, global step 27300: 'train_loss' was not in top 1\n"
     ]
    },
    {
     "name": "stdout",
     "output_type": "stream",
     "text": [
      "Epoch 273: |                                               | 100/? [00:11<00:00,  9.06it/s, v_num=22, train_loss=15.80]"
     ]
    },
    {
     "name": "stderr",
     "output_type": "stream",
     "text": [
      "Epoch 273, global step 27400: 'train_loss' reached 15.79174 (best 15.79174), saving model to 'C:\\\\Users\\\\falty\\\\Desktop\\\\GZS\\\\trading\\\\options\\\\tft\\\\ron\\\\lightning_logs\\\\version_22\\\\checkpoints\\\\epoch=273-step=27400.ckpt' as top 1\n"
     ]
    },
    {
     "name": "stdout",
     "output_type": "stream",
     "text": [
      "Epoch 274: |                                               | 100/? [00:10<00:00,  9.17it/s, v_num=22, train_loss=18.00]"
     ]
    },
    {
     "name": "stderr",
     "output_type": "stream",
     "text": [
      "Epoch 274, global step 27500: 'train_loss' was not in top 1\n"
     ]
    },
    {
     "name": "stdout",
     "output_type": "stream",
     "text": [
      "Epoch 275: |                                               | 100/? [00:10<00:00,  9.16it/s, v_num=22, train_loss=18.20]"
     ]
    },
    {
     "name": "stderr",
     "output_type": "stream",
     "text": [
      "Epoch 275, global step 27600: 'train_loss' was not in top 1\n"
     ]
    },
    {
     "name": "stdout",
     "output_type": "stream",
     "text": [
      "Epoch 276: |                                               | 100/? [00:10<00:00,  9.19it/s, v_num=22, train_loss=17.30]"
     ]
    },
    {
     "name": "stderr",
     "output_type": "stream",
     "text": [
      "Epoch 276, global step 27700: 'train_loss' was not in top 1\n"
     ]
    },
    {
     "name": "stdout",
     "output_type": "stream",
     "text": [
      "Epoch 277: |                                               | 100/? [00:10<00:00,  9.15it/s, v_num=22, train_loss=16.90]"
     ]
    },
    {
     "name": "stderr",
     "output_type": "stream",
     "text": [
      "Epoch 277, global step 27800: 'train_loss' was not in top 1\n"
     ]
    },
    {
     "name": "stdout",
     "output_type": "stream",
     "text": [
      "Epoch 278: |                                                | 96/? [00:10<00:00,  9.12it/s, v_num=22, train_loss=16.90]"
     ]
    },
    {
     "name": "stderr",
     "output_type": "stream",
     "text": [
      "C:\\Users\\falty\\AppData\\Local\\Programs\\Python\\Python312\\Lib\\site-packages\\lightning\\pytorch\\trainer\\call.py:54: Detected KeyboardInterrupt, attempting graceful shutdown...\n"
     ]
    }
   ],
   "source": [
    "import pandas as pd\n",
    "import numpy as np\n",
    "import torch\n",
    "\n",
    "from gluonts.dataset.common import ListDataset\n",
    "from gluonts.torch.model.tft import TemporalFusionTransformerEstimator\n",
    "from gluonts.transform.feature import MissingValueImputation\n",
    "\n",
    "torch.set_float32_matmul_precision('high')\n",
    "                                   \n",
    "# Assuming df is your DataFrame with the data\n",
    "target_column = 'BTC-CAD_High'  # Replace with your target column name\n",
    "\n",
    "# Ensure the DataFrame's index is a datetime index and set the frequency explicitly if needed\n",
    "df.index = pd.to_datetime(df.index)\n",
    "freq = \"D\"  # Set the frequency of your data, e.g., 'D' for daily. Adjust as needed.\n",
    "df = df.asfreq(freq)\n",
    "\n",
    "# Define the prediction length\n",
    "prediction_length = 1  # Set your prediction length\n",
    "\n",
    "# Make sure the lengths match when creating ListDataset\n",
    "training_data = ListDataset([\n",
    "    {\n",
    "        \"start\": df.index[0],\n",
    "        \"target\": df[target_column][:-100]    \n",
    "    }\n",
    "], freq=freq)\n",
    "\n",
    "test_data = ListDataset([\n",
    "    {\n",
    "        \"start\": df.index[-100],\n",
    "        \"target\": df[target_column][-100:].values\n",
    "    }\n",
    "], freq=freq)\n",
    "\n",
    "# Initialize the Temporal Fusion Transformer Estimator\n",
    "estimator = TemporalFusionTransformerEstimator(\n",
    "    freq=freq,\n",
    "    prediction_length=prediction_length,\n",
    "    context_length=60,  # Optional: adjust based on your needs\n",
    "    num_heads=8,\n",
    "    hidden_dim=256,\n",
    "    variable_dim=256,\n",
    "    quantiles=[0.1, 0.5, 0.9],  # Specifying the quantiles for forecasting\n",
    "    lr=0.001,\n",
    "    weight_decay=1e-08,\n",
    "    dropout_rate=0.1,\n",
    "    patience=10,\n",
    "    batch_size=128,\n",
    "    num_batches_per_epoch=100,\n",
    "    trainer_kwargs={'max_epochs': 1000},  # Adjust 'gpus' based on your setup\n",
    ")\n",
    "\n",
    "# Train the model\n",
    "predictor = estimator.train(training_data)\n"
   ]
  },
  {
   "cell_type": "code",
   "execution_count": 6,
   "id": "df585298-a43f-48ca-83ad-db932cd68796",
   "metadata": {},
   "outputs": [],
   "source": [
    "# Collect actual and predicted values for evaluation, including percentiles\n",
    "actuals = df[target_column][-prediction_length:].values\n",
    "\n",
    "mean_predictions = []\n",
    "p10_predictions = []\n",
    "p50_predictions = []\n",
    "p90_predictions = []\n",
    "\n",
    "for forecast in predictor.predict(test_data):\n",
    "    p10_predictions.append(forecast.quantile(0.1))\n",
    "    p50_predictions.append(forecast.quantile(0.5))  # Median\n",
    "    p90_predictions.append(forecast.quantile(0.9))\n",
    "\n",
    "# Convert lists to numpy arrays for slicing\n",
    "p10_predictions = np.array(p10_predictions).flatten()[:prediction_length]\n",
    "p50_predictions = np.array(p50_predictions).flatten()[:prediction_length]\n",
    "p90_predictions = np.array(p90_predictions).flatten()[:prediction_length]"
   ]
  },
  {
   "cell_type": "code",
   "execution_count": 7,
   "id": "960df258-1313-46e2-92ba-0d8b39afa15e",
   "metadata": {},
   "outputs": [
    {
     "data": {
      "text/html": [
       "<div>\n",
       "<style scoped>\n",
       "    .dataframe tbody tr th:only-of-type {\n",
       "        vertical-align: middle;\n",
       "    }\n",
       "\n",
       "    .dataframe tbody tr th {\n",
       "        vertical-align: top;\n",
       "    }\n",
       "\n",
       "    .dataframe thead th {\n",
       "        text-align: right;\n",
       "    }\n",
       "</style>\n",
       "<table border=\"1\" class=\"dataframe\">\n",
       "  <thead>\n",
       "    <tr style=\"text-align: right;\">\n",
       "      <th></th>\n",
       "      <th>BTC-CAD_High</th>\n",
       "    </tr>\n",
       "    <tr>\n",
       "      <th>Date</th>\n",
       "      <th></th>\n",
       "    </tr>\n",
       "  </thead>\n",
       "  <tbody>\n",
       "    <tr>\n",
       "      <th>2024-03-08</th>\n",
       "      <td>91648.546875</td>\n",
       "    </tr>\n",
       "  </tbody>\n",
       "</table>\n",
       "</div>"
      ],
      "text/plain": [
       "            BTC-CAD_High\n",
       "Date                    \n",
       "2024-03-08  91648.546875"
      ]
     },
     "execution_count": 7,
     "metadata": {},
     "output_type": "execute_result"
    }
   ],
   "source": [
    "last_row = df.iloc[-prediction_length:, :1]\n",
    "last_row"
   ]
  },
  {
   "cell_type": "code",
   "execution_count": 8,
   "id": "e53cc2ba-d3a8-4bfe-9945-bc79f261cabd",
   "metadata": {},
   "outputs": [
    {
     "name": "stdout",
     "output_type": "stream",
     "text": [
      "[89327.26] [89366.34] [89380.74]\n"
     ]
    }
   ],
   "source": [
    "print(p10_predictions, p50_predictions, p90_predictions)"
   ]
  },
  {
   "cell_type": "code",
   "execution_count": 9,
   "id": "2d0fd538-c47b-4b5a-9131-a6f5995b01c5",
   "metadata": {},
   "outputs": [
    {
     "name": "stdout",
     "output_type": "stream",
     "text": [
      "Evaluation Metrics for Mean Predictions:\n",
      "MAE: 2282.20\n",
      "MAPE: 2.49%\n",
      "sMAPE: 2.52%\n",
      "Percentage of Actuals within P10-P90 Interval: 0.00%\n"
     ]
    }
   ],
   "source": [
    "# Function to calculate sMAPE\n",
    "def calculate_smape(forecasts, actuals):\n",
    "    return 100 * np.mean(2 * np.abs(forecasts - actuals) / (np.abs(actuals) + np.abs(forecasts)))\n",
    "\n",
    "# Calculate standard evaluation metrics for mean predictions\n",
    "mae = np.mean(np.abs(p50_predictions - actuals))\n",
    "mape = np.mean(np.abs((p50_predictions - actuals) / actuals)) * 100\n",
    "smape = calculate_smape(p50_predictions, actuals)\n",
    "\n",
    "# Calculate the percentage of actuals within the 10th to 90th percentile range\n",
    "within_range = np.sum((actuals >= p10_predictions) & (actuals <= p90_predictions)) / len(actuals) * 100\n",
    "\n",
    "print(\"Evaluation Metrics for Mean Predictions:\")\n",
    "print(f\"MAE: {mae:.2f}\")\n",
    "print(f\"MAPE: {mape:.2f}%\")\n",
    "print(f\"sMAPE: {smape:.2f}%\")\n",
    "print(f\"Percentage of Actuals within P10-P90 Interval: {within_range:.2f}%\")\n"
   ]
  },
  {
   "cell_type": "code",
   "execution_count": 10,
   "id": "5fa71034-caf4-433e-ae72-05fa5395ee1d",
   "metadata": {},
   "outputs": [
    {
     "name": "stdout",
     "output_type": "stream",
     "text": [
      "Model saved to ron_high.pth\n"
     ]
    }
   ],
   "source": [
    "import os\n",
    "import torch\n",
    "\n",
    "# Define a path to save the model\n",
    "model_save_path = 'ron_high.pth'\n",
    "\n",
    "# Assuming 'predictor' is the trained model from DeepAREstimator\n",
    "torch.save(predictor, model_save_path)\n",
    "\n",
    "print(f'Model saved to {model_save_path}')\n"
   ]
  },
  {
   "cell_type": "code",
   "execution_count": 11,
   "id": "f447bbd5-49e0-4e98-b82f-adf0ce77d15c",
   "metadata": {},
   "outputs": [
    {
     "name": "stdout",
     "output_type": "stream",
     "text": [
      "Rolling Predictions for the next 30 days:\n",
      "2024-03-09: 92832.3125\n",
      "2024-03-10: 94612.4609375\n",
      "2024-03-11: 92142.5\n",
      "2024-03-12: 91113.6171875\n",
      "2024-03-13: 93516.0234375\n",
      "2024-03-14: 94851.5859375\n",
      "2024-03-15: 96632.1875\n",
      "2024-03-16: 97798.140625\n",
      "2024-03-17: 98617.09375\n",
      "2024-03-18: 96461.8125\n",
      "2024-03-19: 95838.25\n",
      "2024-03-20: 92645.265625\n",
      "2024-03-21: 89943.859375\n",
      "2024-03-22: 86525.0859375\n",
      "2024-03-23: 84819.609375\n",
      "2024-03-24: 84174.5625\n",
      "2024-03-25: 85715.21875\n",
      "2024-03-26: 84028.078125\n",
      "2024-03-27: 82358.484375\n",
      "2024-03-28: 83388.484375\n",
      "2024-03-29: 87921.125\n",
      "2024-03-30: 90226.171875\n",
      "2024-03-31: 87998.15625\n",
      "2024-04-01: 89599.0703125\n",
      "2024-04-02: 88983.6875\n",
      "2024-04-03: 89768.6796875\n",
      "2024-04-04: 91123.90625\n",
      "2024-04-05: 92314.046875\n",
      "2024-04-06: 94775.015625\n",
      "2024-04-07: 94192.1640625\n"
     ]
    }
   ],
   "source": [
    "import pandas as pd\n",
    "import numpy as np\n",
    "from gluonts.dataset.common import ListDataset\n",
    "# [other imports]\n",
    "\n",
    "# [Assuming your DataFrame 'df' and the target_column are already defined]\n",
    "# [Also assuming the estimator and model training are already done and you have 'predictor']\n",
    "\n",
    "prediction_length = 1  # Forecasting 30 days into the future\n",
    "context_length = 60  # The length of the history to consider for the prediction\n",
    "\n",
    "# Rolling window prediction function\n",
    "def perform_rolling_prediction(df, predictor, target_column, context_length, prediction_length):\n",
    "    rolling_predictions = []\n",
    "    prediction_dates = []\n",
    "    temp_df = df.copy()  # Create a copy of the dataframe to modify\n",
    "\n",
    "    # Create dates for predictions\n",
    "    start_prediction_date = temp_df.index.max() + pd.Timedelta(1, unit='D')\n",
    "    prediction_dates = pd.date_range(start=start_prediction_date, periods=30, freq='D')\n",
    "    \n",
    "    for i, prediction_date in enumerate(prediction_dates):\n",
    "        end_idx = len(temp_df) - prediction_length + i\n",
    "        test_data = ListDataset([\n",
    "            {\n",
    "                \"start\": temp_df.index[0],\n",
    "                \"target\": temp_df[target_column][:end_idx].values\n",
    "            }\n",
    "        ], freq='D')\n",
    "\n",
    "        forecast = next(predictor.predict(test_data))\n",
    "        predicted_value = forecast.quantile(0.5)[-1]\n",
    "        rolling_predictions.append(predicted_value)\n",
    "        \n",
    "        # Append the predicted value for future rolling windows\n",
    "        new_row = pd.DataFrame({target_column: [predicted_value]}, index=[prediction_date])\n",
    "        temp_df = pd.concat([temp_df, new_row])\n",
    "    \n",
    "    return prediction_dates, rolling_predictions\n",
    "\n",
    "# Perform rolling predictions for the next 30 days\n",
    "prediction_dates, rolling_predictions = perform_rolling_prediction(df, predictor, target_column, context_length, prediction_length)\n",
    "\n",
    "# Print the rolling predictions\n",
    "print(\"Rolling Predictions for the next 30 days:\")\n",
    "for date, prediction in zip(prediction_dates, rolling_predictions):\n",
    "    print(f\"{date.strftime('%Y-%m-%d')}: {prediction}\")\n"
   ]
  }
 ],
 "metadata": {
  "kernelspec": {
   "display_name": "Python 3 (ipykernel)",
   "language": "python",
   "name": "python3"
  },
  "language_info": {
   "codemirror_mode": {
    "name": "ipython",
    "version": 3
   },
   "file_extension": ".py",
   "mimetype": "text/x-python",
   "name": "python",
   "nbconvert_exporter": "python",
   "pygments_lexer": "ipython3",
   "version": "3.12.2"
  }
 },
 "nbformat": 4,
 "nbformat_minor": 5
}
