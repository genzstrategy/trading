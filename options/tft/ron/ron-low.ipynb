{
 "cells": [
  {
   "cell_type": "markdown",
   "id": "63b0bfb3-96d6-48cc-b261-6ed2924aad11",
   "metadata": {},
   "source": [
    "# Ron Low"
   ]
  },
  {
   "cell_type": "code",
   "execution_count": 1,
   "id": "98425636-8a8b-421f-afd8-68dccc65159e",
   "metadata": {},
   "outputs": [],
   "source": [
    "import pandas as pd"
   ]
  },
  {
   "cell_type": "code",
   "execution_count": 2,
   "id": "0b9da0bc-1413-4bcd-8b51-9286d86fdd32",
   "metadata": {},
   "outputs": [],
   "source": [
    "df = pd.read_parquet(\"yahoo-finance.parquet\")"
   ]
  },
  {
   "cell_type": "code",
   "execution_count": 3,
   "id": "16c9cd48-db18-40fa-bbdc-d20473815d31",
   "metadata": {},
   "outputs": [],
   "source": [
    "yfinance_metrics = [\n",
    "    \"BTC-CAD_Low\"\n",
    "]\n",
    "\n",
    "df = df[yfinance_metrics]"
   ]
  },
  {
   "cell_type": "code",
   "execution_count": 4,
   "id": "a5001d85-6388-4d46-b27b-36b8d6ae11d3",
   "metadata": {},
   "outputs": [
    {
     "data": {
      "text/html": [
       "<div>\n",
       "<style scoped>\n",
       "    .dataframe tbody tr th:only-of-type {\n",
       "        vertical-align: middle;\n",
       "    }\n",
       "\n",
       "    .dataframe tbody tr th {\n",
       "        vertical-align: top;\n",
       "    }\n",
       "\n",
       "    .dataframe thead th {\n",
       "        text-align: right;\n",
       "    }\n",
       "</style>\n",
       "<table border=\"1\" class=\"dataframe\">\n",
       "  <thead>\n",
       "    <tr style=\"text-align: right;\">\n",
       "      <th></th>\n",
       "      <th>BTC-CAD_Low</th>\n",
       "    </tr>\n",
       "    <tr>\n",
       "      <th>Date</th>\n",
       "      <th></th>\n",
       "    </tr>\n",
       "  </thead>\n",
       "  <tbody>\n",
       "    <tr>\n",
       "      <th>2014-09-17</th>\n",
       "      <td>497.302246</td>\n",
       "    </tr>\n",
       "    <tr>\n",
       "      <th>2014-09-18</th>\n",
       "      <td>452.183655</td>\n",
       "    </tr>\n",
       "    <tr>\n",
       "      <th>2014-09-19</th>\n",
       "      <td>419.985870</td>\n",
       "    </tr>\n",
       "    <tr>\n",
       "      <th>2014-09-20</th>\n",
       "      <td>427.350739</td>\n",
       "    </tr>\n",
       "    <tr>\n",
       "      <th>2014-09-21</th>\n",
       "      <td>430.965698</td>\n",
       "    </tr>\n",
       "    <tr>\n",
       "      <th>...</th>\n",
       "      <td>...</td>\n",
       "    </tr>\n",
       "    <tr>\n",
       "      <th>2024-03-04</th>\n",
       "      <td>83437.976562</td>\n",
       "    </tr>\n",
       "    <tr>\n",
       "      <th>2024-03-05</th>\n",
       "      <td>84514.890625</td>\n",
       "    </tr>\n",
       "    <tr>\n",
       "      <th>2024-03-06</th>\n",
       "      <td>80644.625000</td>\n",
       "    </tr>\n",
       "    <tr>\n",
       "      <th>2024-03-07</th>\n",
       "      <td>85369.171875</td>\n",
       "    </tr>\n",
       "    <tr>\n",
       "      <th>2024-03-08</th>\n",
       "      <td>88748.687500</td>\n",
       "    </tr>\n",
       "  </tbody>\n",
       "</table>\n",
       "<p>3461 rows × 1 columns</p>\n",
       "</div>"
      ],
      "text/plain": [
       "             BTC-CAD_Low\n",
       "Date                    \n",
       "2014-09-17    497.302246\n",
       "2014-09-18    452.183655\n",
       "2014-09-19    419.985870\n",
       "2014-09-20    427.350739\n",
       "2014-09-21    430.965698\n",
       "...                  ...\n",
       "2024-03-04  83437.976562\n",
       "2024-03-05  84514.890625\n",
       "2024-03-06  80644.625000\n",
       "2024-03-07  85369.171875\n",
       "2024-03-08  88748.687500\n",
       "\n",
       "[3461 rows x 1 columns]"
      ]
     },
     "execution_count": 4,
     "metadata": {},
     "output_type": "execute_result"
    }
   ],
   "source": [
    "# Assuming df is your DataFrame after resampling and you've already dropped NA values\n",
    "df.dropna(inplace=True)\n",
    "\n",
    "# Add an assertion to ensure there are no NA values in the DataFrame\n",
    "assert df.isnull().sum().sum() == 0, \"DataFrame contains NA values\"\n",
    "\n",
    "df"
   ]
  },
  {
   "cell_type": "code",
   "execution_count": 5,
   "id": "2f8ae61c-85c4-4789-93c6-e473fb853a40",
   "metadata": {},
   "outputs": [
    {
     "name": "stderr",
     "output_type": "stream",
     "text": [
      "Trainer will use only 1 of 2 GPUs because it is running inside an interactive / notebook environment. You may try to set `Trainer(devices=2)` but please note that multi-GPU inside interactive / notebook environments is considered experimental and unstable. Your mileage may vary.\n",
      "GPU available: True (cuda), used: True\n",
      "TPU available: False, using: 0 TPU cores\n",
      "IPU available: False, using: 0 IPUs\n",
      "HPU available: False, using: 0 HPUs\n",
      "C:\\Users\\falty\\AppData\\Local\\Programs\\Python\\Python312\\Lib\\site-packages\\lightning\\pytorch\\trainer\\connectors\\logger_connector\\logger_connector.py:67: Starting from v1.9.0, `tensorboardX` has been removed as a dependency of the `lightning.pytorch` package, due to potential conflicts with other packages in the ML ecosystem. For this reason, `logger=True` will use `CSVLogger` as the default logger, unless the `tensorboard` or `tensorboardX` packages are found. Please `pip install lightning[extra]` or one of them to enable TensorBoard support by default\n",
      "C:\\Users\\falty\\AppData\\Local\\Programs\\Python\\Python312\\Lib\\site-packages\\lightning\\pytorch\\trainer\\configuration_validator.py:74: You defined a `validation_step` but have no `val_dataloader`. Skipping val loop.\n",
      "LOCAL_RANK: 0 - CUDA_VISIBLE_DEVICES: [0,1]\n",
      "\n",
      "  | Name  | Type                           | Params | In sizes                                                                           | Out sizes\n",
      "----------------------------------------------------------------------------------------------------------------------------------------------------------\n",
      "0 | model | TemporalFusionTransformerModel | 6.7 M  | [[1, 60], [1, 60], [1, 1], [1, 1], [1, 61, 3], [1, 61, 0], [1, 60, 0], [1, 60, 0]] | [1, 3, 1]\n",
      "----------------------------------------------------------------------------------------------------------------------------------------------------------\n",
      "6.7 M     Trainable params\n",
      "0         Non-trainable params\n",
      "6.7 M     Total params\n",
      "26.670    Total estimated model params size (MB)\n"
     ]
    },
    {
     "name": "stdout",
     "output_type": "stream",
     "text": [
      "Epoch 0: |                                               | 100/? [00:10<00:00,  9.11it/s, v_num=23, train_loss=1.68e+3]"
     ]
    },
    {
     "name": "stderr",
     "output_type": "stream",
     "text": [
      "Epoch 0, global step 100: 'train_loss' reached 1680.34814 (best 1680.34814), saving model to 'C:\\\\Users\\\\falty\\\\Desktop\\\\GZS\\\\trading\\\\options\\\\tft\\\\ron\\\\lightning_logs\\\\version_23\\\\checkpoints\\\\epoch=0-step=100.ckpt' as top 1\n"
     ]
    },
    {
     "name": "stdout",
     "output_type": "stream",
     "text": [
      "Epoch 1: |                                               | 100/? [00:10<00:00,  9.14it/s, v_num=23, train_loss=1.02e+3]"
     ]
    },
    {
     "name": "stderr",
     "output_type": "stream",
     "text": [
      "Epoch 1, global step 200: 'train_loss' reached 1020.32275 (best 1020.32275), saving model to 'C:\\\\Users\\\\falty\\\\Desktop\\\\GZS\\\\trading\\\\options\\\\tft\\\\ron\\\\lightning_logs\\\\version_23\\\\checkpoints\\\\epoch=1-step=200.ckpt' as top 1\n"
     ]
    },
    {
     "name": "stdout",
     "output_type": "stream",
     "text": [
      "Epoch 2: |                                               | 100/? [00:11<00:00,  9.09it/s, v_num=23, train_loss=1.08e+3]"
     ]
    },
    {
     "name": "stderr",
     "output_type": "stream",
     "text": [
      "Epoch 2, global step 300: 'train_loss' was not in top 1\n"
     ]
    },
    {
     "name": "stdout",
     "output_type": "stream",
     "text": [
      "Epoch 3: |                                               | 100/? [00:10<00:00,  9.12it/s, v_num=23, train_loss=1.03e+3]"
     ]
    },
    {
     "name": "stderr",
     "output_type": "stream",
     "text": [
      "Epoch 3, global step 400: 'train_loss' was not in top 1\n"
     ]
    },
    {
     "name": "stdout",
     "output_type": "stream",
     "text": [
      "Epoch 4: |                                                 | 100/? [00:11<00:00,  9.07it/s, v_num=23, train_loss=957.0]"
     ]
    },
    {
     "name": "stderr",
     "output_type": "stream",
     "text": [
      "Epoch 4, global step 500: 'train_loss' reached 957.14185 (best 957.14185), saving model to 'C:\\\\Users\\\\falty\\\\Desktop\\\\GZS\\\\trading\\\\options\\\\tft\\\\ron\\\\lightning_logs\\\\version_23\\\\checkpoints\\\\epoch=4-step=500.ckpt' as top 1\n"
     ]
    },
    {
     "name": "stdout",
     "output_type": "stream",
     "text": [
      "Epoch 5: |                                                 | 100/? [00:10<00:00,  9.16it/s, v_num=23, train_loss=989.0]"
     ]
    },
    {
     "name": "stderr",
     "output_type": "stream",
     "text": [
      "Epoch 5, global step 600: 'train_loss' was not in top 1\n"
     ]
    },
    {
     "name": "stdout",
     "output_type": "stream",
     "text": [
      "Epoch 6: |                                                 | 100/? [00:10<00:00,  9.18it/s, v_num=23, train_loss=931.0]"
     ]
    },
    {
     "name": "stderr",
     "output_type": "stream",
     "text": [
      "Epoch 6, global step 700: 'train_loss' reached 931.38245 (best 931.38245), saving model to 'C:\\\\Users\\\\falty\\\\Desktop\\\\GZS\\\\trading\\\\options\\\\tft\\\\ron\\\\lightning_logs\\\\version_23\\\\checkpoints\\\\epoch=6-step=700.ckpt' as top 1\n"
     ]
    },
    {
     "name": "stdout",
     "output_type": "stream",
     "text": [
      "Epoch 7: |                                                 | 100/? [00:10<00:00,  9.17it/s, v_num=23, train_loss=986.0]"
     ]
    },
    {
     "name": "stderr",
     "output_type": "stream",
     "text": [
      "Epoch 7, global step 800: 'train_loss' was not in top 1\n"
     ]
    },
    {
     "name": "stdout",
     "output_type": "stream",
     "text": [
      "Epoch 8: |                                                 | 100/? [00:10<00:00,  9.15it/s, v_num=23, train_loss=950.0]"
     ]
    },
    {
     "name": "stderr",
     "output_type": "stream",
     "text": [
      "Epoch 8, global step 900: 'train_loss' was not in top 1\n"
     ]
    },
    {
     "name": "stdout",
     "output_type": "stream",
     "text": [
      "Epoch 9: |                                                 | 100/? [00:10<00:00,  9.24it/s, v_num=23, train_loss=935.0]"
     ]
    },
    {
     "name": "stderr",
     "output_type": "stream",
     "text": [
      "Epoch 9, global step 1000: 'train_loss' was not in top 1\n"
     ]
    },
    {
     "name": "stdout",
     "output_type": "stream",
     "text": [
      "Epoch 10: |                                                | 100/? [00:10<00:00,  9.20it/s, v_num=23, train_loss=920.0]"
     ]
    },
    {
     "name": "stderr",
     "output_type": "stream",
     "text": [
      "Epoch 10, global step 1100: 'train_loss' reached 919.57703 (best 919.57703), saving model to 'C:\\\\Users\\\\falty\\\\Desktop\\\\GZS\\\\trading\\\\options\\\\tft\\\\ron\\\\lightning_logs\\\\version_23\\\\checkpoints\\\\epoch=10-step=1100.ckpt' as top 1\n"
     ]
    },
    {
     "name": "stdout",
     "output_type": "stream",
     "text": [
      "Epoch 11: |                                                | 100/? [00:10<00:00,  9.14it/s, v_num=23, train_loss=927.0]"
     ]
    },
    {
     "name": "stderr",
     "output_type": "stream",
     "text": [
      "Epoch 11, global step 1200: 'train_loss' was not in top 1\n"
     ]
    },
    {
     "name": "stdout",
     "output_type": "stream",
     "text": [
      "Epoch 12: |                                                | 100/? [00:11<00:00,  9.06it/s, v_num=23, train_loss=903.0]"
     ]
    },
    {
     "name": "stderr",
     "output_type": "stream",
     "text": [
      "Epoch 12, global step 1300: 'train_loss' reached 903.15546 (best 903.15546), saving model to 'C:\\\\Users\\\\falty\\\\Desktop\\\\GZS\\\\trading\\\\options\\\\tft\\\\ron\\\\lightning_logs\\\\version_23\\\\checkpoints\\\\epoch=12-step=1300.ckpt' as top 1\n"
     ]
    },
    {
     "name": "stdout",
     "output_type": "stream",
     "text": [
      "Epoch 13: |                                                | 100/? [00:10<00:00,  9.13it/s, v_num=23, train_loss=920.0]"
     ]
    },
    {
     "name": "stderr",
     "output_type": "stream",
     "text": [
      "Epoch 13, global step 1400: 'train_loss' was not in top 1\n"
     ]
    },
    {
     "name": "stdout",
     "output_type": "stream",
     "text": [
      "Epoch 14: |                                                | 100/? [00:11<00:00,  9.04it/s, v_num=23, train_loss=920.0]"
     ]
    },
    {
     "name": "stderr",
     "output_type": "stream",
     "text": [
      "Epoch 14, global step 1500: 'train_loss' was not in top 1\n"
     ]
    },
    {
     "name": "stdout",
     "output_type": "stream",
     "text": [
      "Epoch 15: |                                                | 100/? [00:10<00:00,  9.11it/s, v_num=23, train_loss=936.0]"
     ]
    },
    {
     "name": "stderr",
     "output_type": "stream",
     "text": [
      "Epoch 15, global step 1600: 'train_loss' was not in top 1\n"
     ]
    },
    {
     "name": "stdout",
     "output_type": "stream",
     "text": [
      "Epoch 16: |                                                | 100/? [00:11<00:00,  9.03it/s, v_num=23, train_loss=923.0]"
     ]
    },
    {
     "name": "stderr",
     "output_type": "stream",
     "text": [
      "Epoch 16, global step 1700: 'train_loss' was not in top 1\n"
     ]
    },
    {
     "name": "stdout",
     "output_type": "stream",
     "text": [
      "Epoch 17: |                                                | 100/? [00:10<00:00,  9.19it/s, v_num=23, train_loss=893.0]"
     ]
    },
    {
     "name": "stderr",
     "output_type": "stream",
     "text": [
      "Epoch 17, global step 1800: 'train_loss' reached 893.36267 (best 893.36267), saving model to 'C:\\\\Users\\\\falty\\\\Desktop\\\\GZS\\\\trading\\\\options\\\\tft\\\\ron\\\\lightning_logs\\\\version_23\\\\checkpoints\\\\epoch=17-step=1800.ckpt' as top 1\n"
     ]
    },
    {
     "name": "stdout",
     "output_type": "stream",
     "text": [
      "Epoch 18: |                                                | 100/? [00:10<00:00,  9.15it/s, v_num=23, train_loss=878.0]"
     ]
    },
    {
     "name": "stderr",
     "output_type": "stream",
     "text": [
      "Epoch 18, global step 1900: 'train_loss' reached 877.98724 (best 877.98724), saving model to 'C:\\\\Users\\\\falty\\\\Desktop\\\\GZS\\\\trading\\\\options\\\\tft\\\\ron\\\\lightning_logs\\\\version_23\\\\checkpoints\\\\epoch=18-step=1900.ckpt' as top 1\n"
     ]
    },
    {
     "name": "stdout",
     "output_type": "stream",
     "text": [
      "Epoch 19: |                                                | 100/? [00:10<00:00,  9.14it/s, v_num=23, train_loss=874.0]"
     ]
    },
    {
     "name": "stderr",
     "output_type": "stream",
     "text": [
      "Epoch 19, global step 2000: 'train_loss' reached 873.61279 (best 873.61279), saving model to 'C:\\\\Users\\\\falty\\\\Desktop\\\\GZS\\\\trading\\\\options\\\\tft\\\\ron\\\\lightning_logs\\\\version_23\\\\checkpoints\\\\epoch=19-step=2000.ckpt' as top 1\n"
     ]
    },
    {
     "name": "stdout",
     "output_type": "stream",
     "text": [
      "Epoch 20: |                                                | 100/? [00:11<00:00,  9.06it/s, v_num=23, train_loss=862.0]"
     ]
    },
    {
     "name": "stderr",
     "output_type": "stream",
     "text": [
      "Epoch 20, global step 2100: 'train_loss' reached 862.09851 (best 862.09851), saving model to 'C:\\\\Users\\\\falty\\\\Desktop\\\\GZS\\\\trading\\\\options\\\\tft\\\\ron\\\\lightning_logs\\\\version_23\\\\checkpoints\\\\epoch=20-step=2100.ckpt' as top 1\n"
     ]
    },
    {
     "name": "stdout",
     "output_type": "stream",
     "text": [
      "Epoch 21: |                                                | 100/? [00:10<00:00,  9.10it/s, v_num=23, train_loss=869.0]"
     ]
    },
    {
     "name": "stderr",
     "output_type": "stream",
     "text": [
      "Epoch 21, global step 2200: 'train_loss' was not in top 1\n"
     ]
    },
    {
     "name": "stdout",
     "output_type": "stream",
     "text": [
      "Epoch 22: |                                                | 100/? [00:10<00:00,  9.17it/s, v_num=23, train_loss=877.0]"
     ]
    },
    {
     "name": "stderr",
     "output_type": "stream",
     "text": [
      "Epoch 22, global step 2300: 'train_loss' was not in top 1\n"
     ]
    },
    {
     "name": "stdout",
     "output_type": "stream",
     "text": [
      "Epoch 23: |                                                | 100/? [00:11<00:00,  9.06it/s, v_num=23, train_loss=844.0]"
     ]
    },
    {
     "name": "stderr",
     "output_type": "stream",
     "text": [
      "Epoch 23, global step 2400: 'train_loss' reached 844.36713 (best 844.36713), saving model to 'C:\\\\Users\\\\falty\\\\Desktop\\\\GZS\\\\trading\\\\options\\\\tft\\\\ron\\\\lightning_logs\\\\version_23\\\\checkpoints\\\\epoch=23-step=2400.ckpt' as top 1\n"
     ]
    },
    {
     "name": "stdout",
     "output_type": "stream",
     "text": [
      "Epoch 24: |                                                | 100/? [00:10<00:00,  9.12it/s, v_num=23, train_loss=829.0]"
     ]
    },
    {
     "name": "stderr",
     "output_type": "stream",
     "text": [
      "Epoch 24, global step 2500: 'train_loss' reached 828.65698 (best 828.65698), saving model to 'C:\\\\Users\\\\falty\\\\Desktop\\\\GZS\\\\trading\\\\options\\\\tft\\\\ron\\\\lightning_logs\\\\version_23\\\\checkpoints\\\\epoch=24-step=2500.ckpt' as top 1\n"
     ]
    },
    {
     "name": "stdout",
     "output_type": "stream",
     "text": [
      "Epoch 25: |                                                | 100/? [00:11<00:00,  9.06it/s, v_num=23, train_loss=812.0]"
     ]
    },
    {
     "name": "stderr",
     "output_type": "stream",
     "text": [
      "Epoch 25, global step 2600: 'train_loss' reached 811.69019 (best 811.69019), saving model to 'C:\\\\Users\\\\falty\\\\Desktop\\\\GZS\\\\trading\\\\options\\\\tft\\\\ron\\\\lightning_logs\\\\version_23\\\\checkpoints\\\\epoch=25-step=2600.ckpt' as top 1\n"
     ]
    },
    {
     "name": "stdout",
     "output_type": "stream",
     "text": [
      "Epoch 26: |                                                | 100/? [00:10<00:00,  9.13it/s, v_num=23, train_loss=808.0]"
     ]
    },
    {
     "name": "stderr",
     "output_type": "stream",
     "text": [
      "Epoch 26, global step 2700: 'train_loss' reached 808.34338 (best 808.34338), saving model to 'C:\\\\Users\\\\falty\\\\Desktop\\\\GZS\\\\trading\\\\options\\\\tft\\\\ron\\\\lightning_logs\\\\version_23\\\\checkpoints\\\\epoch=26-step=2700.ckpt' as top 1\n"
     ]
    },
    {
     "name": "stdout",
     "output_type": "stream",
     "text": [
      "Epoch 27: |                                                | 100/? [00:11<00:00,  8.88it/s, v_num=23, train_loss=801.0]"
     ]
    },
    {
     "name": "stderr",
     "output_type": "stream",
     "text": [
      "Epoch 27, global step 2800: 'train_loss' reached 801.27087 (best 801.27087), saving model to 'C:\\\\Users\\\\falty\\\\Desktop\\\\GZS\\\\trading\\\\options\\\\tft\\\\ron\\\\lightning_logs\\\\version_23\\\\checkpoints\\\\epoch=27-step=2800.ckpt' as top 1\n"
     ]
    },
    {
     "name": "stdout",
     "output_type": "stream",
     "text": [
      "Epoch 28: |                                                | 100/? [00:10<00:00,  9.14it/s, v_num=23, train_loss=797.0]"
     ]
    },
    {
     "name": "stderr",
     "output_type": "stream",
     "text": [
      "Epoch 28, global step 2900: 'train_loss' reached 797.20618 (best 797.20618), saving model to 'C:\\\\Users\\\\falty\\\\Desktop\\\\GZS\\\\trading\\\\options\\\\tft\\\\ron\\\\lightning_logs\\\\version_23\\\\checkpoints\\\\epoch=28-step=2900.ckpt' as top 1\n"
     ]
    },
    {
     "name": "stdout",
     "output_type": "stream",
     "text": [
      "Epoch 29: |                                                | 100/? [00:10<00:00,  9.13it/s, v_num=23, train_loss=778.0]"
     ]
    },
    {
     "name": "stderr",
     "output_type": "stream",
     "text": [
      "Epoch 29, global step 3000: 'train_loss' reached 778.11438 (best 778.11438), saving model to 'C:\\\\Users\\\\falty\\\\Desktop\\\\GZS\\\\trading\\\\options\\\\tft\\\\ron\\\\lightning_logs\\\\version_23\\\\checkpoints\\\\epoch=29-step=3000.ckpt' as top 1\n"
     ]
    },
    {
     "name": "stdout",
     "output_type": "stream",
     "text": [
      "Epoch 30: |                                                | 100/? [00:11<00:00,  9.09it/s, v_num=23, train_loss=754.0]"
     ]
    },
    {
     "name": "stderr",
     "output_type": "stream",
     "text": [
      "Epoch 30, global step 3100: 'train_loss' reached 754.49158 (best 754.49158), saving model to 'C:\\\\Users\\\\falty\\\\Desktop\\\\GZS\\\\trading\\\\options\\\\tft\\\\ron\\\\lightning_logs\\\\version_23\\\\checkpoints\\\\epoch=30-step=3100.ckpt' as top 1\n"
     ]
    },
    {
     "name": "stdout",
     "output_type": "stream",
     "text": [
      "Epoch 31: |                                                | 100/? [00:11<00:00,  9.04it/s, v_num=23, train_loss=747.0]"
     ]
    },
    {
     "name": "stderr",
     "output_type": "stream",
     "text": [
      "Epoch 31, global step 3200: 'train_loss' reached 746.92920 (best 746.92920), saving model to 'C:\\\\Users\\\\falty\\\\Desktop\\\\GZS\\\\trading\\\\options\\\\tft\\\\ron\\\\lightning_logs\\\\version_23\\\\checkpoints\\\\epoch=31-step=3200.ckpt' as top 1\n"
     ]
    },
    {
     "name": "stdout",
     "output_type": "stream",
     "text": [
      "Epoch 32: |                                                | 100/? [00:11<00:00,  9.03it/s, v_num=23, train_loss=720.0]"
     ]
    },
    {
     "name": "stderr",
     "output_type": "stream",
     "text": [
      "Epoch 32, global step 3300: 'train_loss' reached 720.24646 (best 720.24646), saving model to 'C:\\\\Users\\\\falty\\\\Desktop\\\\GZS\\\\trading\\\\options\\\\tft\\\\ron\\\\lightning_logs\\\\version_23\\\\checkpoints\\\\epoch=32-step=3300.ckpt' as top 1\n"
     ]
    },
    {
     "name": "stdout",
     "output_type": "stream",
     "text": [
      "Epoch 33: |                                                | 100/? [00:10<00:00,  9.14it/s, v_num=23, train_loss=721.0]"
     ]
    },
    {
     "name": "stderr",
     "output_type": "stream",
     "text": [
      "Epoch 33, global step 3400: 'train_loss' was not in top 1\n"
     ]
    },
    {
     "name": "stdout",
     "output_type": "stream",
     "text": [
      "Epoch 34: |                                                | 100/? [00:11<00:00,  8.99it/s, v_num=23, train_loss=688.0]"
     ]
    },
    {
     "name": "stderr",
     "output_type": "stream",
     "text": [
      "Epoch 34, global step 3500: 'train_loss' reached 688.41235 (best 688.41235), saving model to 'C:\\\\Users\\\\falty\\\\Desktop\\\\GZS\\\\trading\\\\options\\\\tft\\\\ron\\\\lightning_logs\\\\version_23\\\\checkpoints\\\\epoch=34-step=3500.ckpt' as top 1\n"
     ]
    },
    {
     "name": "stdout",
     "output_type": "stream",
     "text": [
      "Epoch 35: |                                                | 100/? [00:10<00:00,  9.13it/s, v_num=23, train_loss=706.0]"
     ]
    },
    {
     "name": "stderr",
     "output_type": "stream",
     "text": [
      "Epoch 35, global step 3600: 'train_loss' was not in top 1\n"
     ]
    },
    {
     "name": "stdout",
     "output_type": "stream",
     "text": [
      "Epoch 36: |                                                | 100/? [00:11<00:00,  9.08it/s, v_num=23, train_loss=656.0]"
     ]
    },
    {
     "name": "stderr",
     "output_type": "stream",
     "text": [
      "Epoch 36, global step 3700: 'train_loss' reached 655.54474 (best 655.54474), saving model to 'C:\\\\Users\\\\falty\\\\Desktop\\\\GZS\\\\trading\\\\options\\\\tft\\\\ron\\\\lightning_logs\\\\version_23\\\\checkpoints\\\\epoch=36-step=3700.ckpt' as top 1\n"
     ]
    },
    {
     "name": "stdout",
     "output_type": "stream",
     "text": [
      "Epoch 37: |                                                | 100/? [00:10<00:00,  9.10it/s, v_num=23, train_loss=613.0]"
     ]
    },
    {
     "name": "stderr",
     "output_type": "stream",
     "text": [
      "Epoch 37, global step 3800: 'train_loss' reached 613.27100 (best 613.27100), saving model to 'C:\\\\Users\\\\falty\\\\Desktop\\\\GZS\\\\trading\\\\options\\\\tft\\\\ron\\\\lightning_logs\\\\version_23\\\\checkpoints\\\\epoch=37-step=3800.ckpt' as top 1\n"
     ]
    },
    {
     "name": "stdout",
     "output_type": "stream",
     "text": [
      "Epoch 38: |                                                | 100/? [00:11<00:00,  9.02it/s, v_num=23, train_loss=592.0]"
     ]
    },
    {
     "name": "stderr",
     "output_type": "stream",
     "text": [
      "Epoch 38, global step 3900: 'train_loss' reached 591.57056 (best 591.57056), saving model to 'C:\\\\Users\\\\falty\\\\Desktop\\\\GZS\\\\trading\\\\options\\\\tft\\\\ron\\\\lightning_logs\\\\version_23\\\\checkpoints\\\\epoch=38-step=3900.ckpt' as top 1\n"
     ]
    },
    {
     "name": "stdout",
     "output_type": "stream",
     "text": [
      "Epoch 39: |                                                | 100/? [00:11<00:00,  9.05it/s, v_num=23, train_loss=564.0]"
     ]
    },
    {
     "name": "stderr",
     "output_type": "stream",
     "text": [
      "Epoch 39, global step 4000: 'train_loss' reached 564.11658 (best 564.11658), saving model to 'C:\\\\Users\\\\falty\\\\Desktop\\\\GZS\\\\trading\\\\options\\\\tft\\\\ron\\\\lightning_logs\\\\version_23\\\\checkpoints\\\\epoch=39-step=4000.ckpt' as top 1\n"
     ]
    },
    {
     "name": "stdout",
     "output_type": "stream",
     "text": [
      "Epoch 40: |                                                | 100/? [00:11<00:00,  9.04it/s, v_num=23, train_loss=543.0]"
     ]
    },
    {
     "name": "stderr",
     "output_type": "stream",
     "text": [
      "Epoch 40, global step 4100: 'train_loss' reached 543.08514 (best 543.08514), saving model to 'C:\\\\Users\\\\falty\\\\Desktop\\\\GZS\\\\trading\\\\options\\\\tft\\\\ron\\\\lightning_logs\\\\version_23\\\\checkpoints\\\\epoch=40-step=4100.ckpt' as top 1\n"
     ]
    },
    {
     "name": "stdout",
     "output_type": "stream",
     "text": [
      "Epoch 41: |                                                | 100/? [00:10<00:00,  9.17it/s, v_num=23, train_loss=542.0]"
     ]
    },
    {
     "name": "stderr",
     "output_type": "stream",
     "text": [
      "Epoch 41, global step 4200: 'train_loss' reached 541.56470 (best 541.56470), saving model to 'C:\\\\Users\\\\falty\\\\Desktop\\\\GZS\\\\trading\\\\options\\\\tft\\\\ron\\\\lightning_logs\\\\version_23\\\\checkpoints\\\\epoch=41-step=4200.ckpt' as top 1\n"
     ]
    },
    {
     "name": "stdout",
     "output_type": "stream",
     "text": [
      "Epoch 42: |                                                | 100/? [00:11<00:00,  8.99it/s, v_num=23, train_loss=511.0]"
     ]
    },
    {
     "name": "stderr",
     "output_type": "stream",
     "text": [
      "Epoch 42, global step 4300: 'train_loss' reached 511.48260 (best 511.48260), saving model to 'C:\\\\Users\\\\falty\\\\Desktop\\\\GZS\\\\trading\\\\options\\\\tft\\\\ron\\\\lightning_logs\\\\version_23\\\\checkpoints\\\\epoch=42-step=4300.ckpt' as top 1\n"
     ]
    },
    {
     "name": "stdout",
     "output_type": "stream",
     "text": [
      "Epoch 43: |                                                | 100/? [00:11<00:00,  9.06it/s, v_num=23, train_loss=494.0]"
     ]
    },
    {
     "name": "stderr",
     "output_type": "stream",
     "text": [
      "Epoch 43, global step 4400: 'train_loss' reached 493.60913 (best 493.60913), saving model to 'C:\\\\Users\\\\falty\\\\Desktop\\\\GZS\\\\trading\\\\options\\\\tft\\\\ron\\\\lightning_logs\\\\version_23\\\\checkpoints\\\\epoch=43-step=4400.ckpt' as top 1\n"
     ]
    },
    {
     "name": "stdout",
     "output_type": "stream",
     "text": [
      "Epoch 44: |                                                | 100/? [00:11<00:00,  8.94it/s, v_num=23, train_loss=456.0]"
     ]
    },
    {
     "name": "stderr",
     "output_type": "stream",
     "text": [
      "Epoch 44, global step 4500: 'train_loss' reached 456.04993 (best 456.04993), saving model to 'C:\\\\Users\\\\falty\\\\Desktop\\\\GZS\\\\trading\\\\options\\\\tft\\\\ron\\\\lightning_logs\\\\version_23\\\\checkpoints\\\\epoch=44-step=4500.ckpt' as top 1\n"
     ]
    },
    {
     "name": "stdout",
     "output_type": "stream",
     "text": [
      "Epoch 45: |                                                | 100/? [00:10<00:00,  9.18it/s, v_num=23, train_loss=471.0]"
     ]
    },
    {
     "name": "stderr",
     "output_type": "stream",
     "text": [
      "Epoch 45, global step 4600: 'train_loss' was not in top 1\n"
     ]
    },
    {
     "name": "stdout",
     "output_type": "stream",
     "text": [
      "Epoch 46: |                                                | 100/? [00:10<00:00,  9.10it/s, v_num=23, train_loss=446.0]"
     ]
    },
    {
     "name": "stderr",
     "output_type": "stream",
     "text": [
      "Epoch 46, global step 4700: 'train_loss' reached 446.20651 (best 446.20651), saving model to 'C:\\\\Users\\\\falty\\\\Desktop\\\\GZS\\\\trading\\\\options\\\\tft\\\\ron\\\\lightning_logs\\\\version_23\\\\checkpoints\\\\epoch=46-step=4700.ckpt' as top 1\n"
     ]
    },
    {
     "name": "stdout",
     "output_type": "stream",
     "text": [
      "Epoch 47: |                                                | 100/? [00:10<00:00,  9.14it/s, v_num=23, train_loss=418.0]"
     ]
    },
    {
     "name": "stderr",
     "output_type": "stream",
     "text": [
      "Epoch 47, global step 4800: 'train_loss' reached 418.08817 (best 418.08817), saving model to 'C:\\\\Users\\\\falty\\\\Desktop\\\\GZS\\\\trading\\\\options\\\\tft\\\\ron\\\\lightning_logs\\\\version_23\\\\checkpoints\\\\epoch=47-step=4800.ckpt' as top 1\n"
     ]
    },
    {
     "name": "stdout",
     "output_type": "stream",
     "text": [
      "Epoch 48: |                                                | 100/? [00:10<00:00,  9.11it/s, v_num=23, train_loss=387.0]"
     ]
    },
    {
     "name": "stderr",
     "output_type": "stream",
     "text": [
      "Epoch 48, global step 4900: 'train_loss' reached 387.42834 (best 387.42834), saving model to 'C:\\\\Users\\\\falty\\\\Desktop\\\\GZS\\\\trading\\\\options\\\\tft\\\\ron\\\\lightning_logs\\\\version_23\\\\checkpoints\\\\epoch=48-step=4900.ckpt' as top 1\n"
     ]
    },
    {
     "name": "stdout",
     "output_type": "stream",
     "text": [
      "Epoch 49: |                                                | 100/? [00:10<00:00,  9.10it/s, v_num=23, train_loss=413.0]"
     ]
    },
    {
     "name": "stderr",
     "output_type": "stream",
     "text": [
      "Epoch 49, global step 5000: 'train_loss' was not in top 1\n"
     ]
    },
    {
     "name": "stdout",
     "output_type": "stream",
     "text": [
      "Epoch 50: |                                                | 100/? [00:10<00:00,  9.16it/s, v_num=23, train_loss=385.0]"
     ]
    },
    {
     "name": "stderr",
     "output_type": "stream",
     "text": [
      "Epoch 50, global step 5100: 'train_loss' reached 385.20496 (best 385.20496), saving model to 'C:\\\\Users\\\\falty\\\\Desktop\\\\GZS\\\\trading\\\\options\\\\tft\\\\ron\\\\lightning_logs\\\\version_23\\\\checkpoints\\\\epoch=50-step=5100.ckpt' as top 1\n"
     ]
    },
    {
     "name": "stdout",
     "output_type": "stream",
     "text": [
      "Epoch 51: |                                                | 100/? [00:11<00:00,  9.04it/s, v_num=23, train_loss=354.0]"
     ]
    },
    {
     "name": "stderr",
     "output_type": "stream",
     "text": [
      "Epoch 51, global step 5200: 'train_loss' reached 354.38000 (best 354.38000), saving model to 'C:\\\\Users\\\\falty\\\\Desktop\\\\GZS\\\\trading\\\\options\\\\tft\\\\ron\\\\lightning_logs\\\\version_23\\\\checkpoints\\\\epoch=51-step=5200.ckpt' as top 1\n"
     ]
    },
    {
     "name": "stdout",
     "output_type": "stream",
     "text": [
      "Epoch 52: |                                                | 100/? [00:10<00:00,  9.23it/s, v_num=23, train_loss=358.0]"
     ]
    },
    {
     "name": "stderr",
     "output_type": "stream",
     "text": [
      "Epoch 52, global step 5300: 'train_loss' was not in top 1\n"
     ]
    },
    {
     "name": "stdout",
     "output_type": "stream",
     "text": [
      "Epoch 53: |                                                | 100/? [00:10<00:00,  9.12it/s, v_num=23, train_loss=342.0]"
     ]
    },
    {
     "name": "stderr",
     "output_type": "stream",
     "text": [
      "Epoch 53, global step 5400: 'train_loss' reached 342.18594 (best 342.18594), saving model to 'C:\\\\Users\\\\falty\\\\Desktop\\\\GZS\\\\trading\\\\options\\\\tft\\\\ron\\\\lightning_logs\\\\version_23\\\\checkpoints\\\\epoch=53-step=5400.ckpt' as top 1\n"
     ]
    },
    {
     "name": "stdout",
     "output_type": "stream",
     "text": [
      "Epoch 54: |                                                | 100/? [00:10<00:00,  9.18it/s, v_num=23, train_loss=326.0]"
     ]
    },
    {
     "name": "stderr",
     "output_type": "stream",
     "text": [
      "Epoch 54, global step 5500: 'train_loss' reached 326.35767 (best 326.35767), saving model to 'C:\\\\Users\\\\falty\\\\Desktop\\\\GZS\\\\trading\\\\options\\\\tft\\\\ron\\\\lightning_logs\\\\version_23\\\\checkpoints\\\\epoch=54-step=5500.ckpt' as top 1\n"
     ]
    },
    {
     "name": "stdout",
     "output_type": "stream",
     "text": [
      "Epoch 55: |                                                | 100/? [00:10<00:00,  9.13it/s, v_num=23, train_loss=331.0]"
     ]
    },
    {
     "name": "stderr",
     "output_type": "stream",
     "text": [
      "Epoch 55, global step 5600: 'train_loss' was not in top 1\n"
     ]
    },
    {
     "name": "stdout",
     "output_type": "stream",
     "text": [
      "Epoch 56: |                                                | 100/? [00:11<00:00,  9.05it/s, v_num=23, train_loss=287.0]"
     ]
    },
    {
     "name": "stderr",
     "output_type": "stream",
     "text": [
      "Epoch 56, global step 5700: 'train_loss' reached 287.06445 (best 287.06445), saving model to 'C:\\\\Users\\\\falty\\\\Desktop\\\\GZS\\\\trading\\\\options\\\\tft\\\\ron\\\\lightning_logs\\\\version_23\\\\checkpoints\\\\epoch=56-step=5700.ckpt' as top 1\n"
     ]
    },
    {
     "name": "stdout",
     "output_type": "stream",
     "text": [
      "Epoch 57: |                                                | 100/? [00:10<00:00,  9.19it/s, v_num=23, train_loss=292.0]"
     ]
    },
    {
     "name": "stderr",
     "output_type": "stream",
     "text": [
      "Epoch 57, global step 5800: 'train_loss' was not in top 1\n"
     ]
    },
    {
     "name": "stdout",
     "output_type": "stream",
     "text": [
      "Epoch 58: |                                                | 100/? [00:10<00:00,  9.16it/s, v_num=23, train_loss=275.0]"
     ]
    },
    {
     "name": "stderr",
     "output_type": "stream",
     "text": [
      "Epoch 58, global step 5900: 'train_loss' reached 275.02243 (best 275.02243), saving model to 'C:\\\\Users\\\\falty\\\\Desktop\\\\GZS\\\\trading\\\\options\\\\tft\\\\ron\\\\lightning_logs\\\\version_23\\\\checkpoints\\\\epoch=58-step=5900.ckpt' as top 1\n"
     ]
    },
    {
     "name": "stdout",
     "output_type": "stream",
     "text": [
      "Epoch 59: |                                                | 100/? [00:10<00:00,  9.18it/s, v_num=23, train_loss=291.0]"
     ]
    },
    {
     "name": "stderr",
     "output_type": "stream",
     "text": [
      "Epoch 59, global step 6000: 'train_loss' was not in top 1\n"
     ]
    },
    {
     "name": "stdout",
     "output_type": "stream",
     "text": [
      "Epoch 60: |                                                | 100/? [00:10<00:00,  9.16it/s, v_num=23, train_loss=305.0]"
     ]
    },
    {
     "name": "stderr",
     "output_type": "stream",
     "text": [
      "Epoch 60, global step 6100: 'train_loss' was not in top 1\n"
     ]
    },
    {
     "name": "stdout",
     "output_type": "stream",
     "text": [
      "Epoch 61: |                                                | 100/? [00:10<00:00,  9.21it/s, v_num=23, train_loss=274.0]"
     ]
    },
    {
     "name": "stderr",
     "output_type": "stream",
     "text": [
      "Epoch 61, global step 6200: 'train_loss' reached 274.15219 (best 274.15219), saving model to 'C:\\\\Users\\\\falty\\\\Desktop\\\\GZS\\\\trading\\\\options\\\\tft\\\\ron\\\\lightning_logs\\\\version_23\\\\checkpoints\\\\epoch=61-step=6200.ckpt' as top 1\n"
     ]
    },
    {
     "name": "stdout",
     "output_type": "stream",
     "text": [
      "Epoch 62: |                                                | 100/? [00:10<00:00,  9.21it/s, v_num=23, train_loss=259.0]"
     ]
    },
    {
     "name": "stderr",
     "output_type": "stream",
     "text": [
      "Epoch 62, global step 6300: 'train_loss' reached 258.96219 (best 258.96219), saving model to 'C:\\\\Users\\\\falty\\\\Desktop\\\\GZS\\\\trading\\\\options\\\\tft\\\\ron\\\\lightning_logs\\\\version_23\\\\checkpoints\\\\epoch=62-step=6300.ckpt' as top 1\n"
     ]
    },
    {
     "name": "stdout",
     "output_type": "stream",
     "text": [
      "Epoch 63: |                                                | 100/? [00:10<00:00,  9.26it/s, v_num=23, train_loss=240.0]"
     ]
    },
    {
     "name": "stderr",
     "output_type": "stream",
     "text": [
      "Epoch 63, global step 6400: 'train_loss' reached 239.69411 (best 239.69411), saving model to 'C:\\\\Users\\\\falty\\\\Desktop\\\\GZS\\\\trading\\\\options\\\\tft\\\\ron\\\\lightning_logs\\\\version_23\\\\checkpoints\\\\epoch=63-step=6400.ckpt' as top 1\n"
     ]
    },
    {
     "name": "stdout",
     "output_type": "stream",
     "text": [
      "Epoch 64: |                                                | 100/? [00:10<00:00,  9.18it/s, v_num=23, train_loss=253.0]"
     ]
    },
    {
     "name": "stderr",
     "output_type": "stream",
     "text": [
      "Epoch 64, global step 6500: 'train_loss' was not in top 1\n"
     ]
    },
    {
     "name": "stdout",
     "output_type": "stream",
     "text": [
      "Epoch 65: |                                                | 100/? [00:10<00:00,  9.14it/s, v_num=23, train_loss=244.0]"
     ]
    },
    {
     "name": "stderr",
     "output_type": "stream",
     "text": [
      "Epoch 65, global step 6600: 'train_loss' was not in top 1\n"
     ]
    },
    {
     "name": "stdout",
     "output_type": "stream",
     "text": [
      "Epoch 66: |                                                | 100/? [00:10<00:00,  9.12it/s, v_num=23, train_loss=248.0]"
     ]
    },
    {
     "name": "stderr",
     "output_type": "stream",
     "text": [
      "Epoch 66, global step 6700: 'train_loss' was not in top 1\n"
     ]
    },
    {
     "name": "stdout",
     "output_type": "stream",
     "text": [
      "Epoch 67: |                                                | 100/? [00:10<00:00,  9.13it/s, v_num=23, train_loss=214.0]"
     ]
    },
    {
     "name": "stderr",
     "output_type": "stream",
     "text": [
      "Epoch 67, global step 6800: 'train_loss' reached 213.98834 (best 213.98834), saving model to 'C:\\\\Users\\\\falty\\\\Desktop\\\\GZS\\\\trading\\\\options\\\\tft\\\\ron\\\\lightning_logs\\\\version_23\\\\checkpoints\\\\epoch=67-step=6800.ckpt' as top 1\n"
     ]
    },
    {
     "name": "stdout",
     "output_type": "stream",
     "text": [
      "Epoch 68: |                                                | 100/? [00:10<00:00,  9.17it/s, v_num=23, train_loss=215.0]"
     ]
    },
    {
     "name": "stderr",
     "output_type": "stream",
     "text": [
      "Epoch 68, global step 6900: 'train_loss' was not in top 1\n"
     ]
    },
    {
     "name": "stdout",
     "output_type": "stream",
     "text": [
      "Epoch 69: |                                                | 100/? [00:10<00:00,  9.16it/s, v_num=23, train_loss=228.0]"
     ]
    },
    {
     "name": "stderr",
     "output_type": "stream",
     "text": [
      "Epoch 69, global step 7000: 'train_loss' was not in top 1\n"
     ]
    },
    {
     "name": "stdout",
     "output_type": "stream",
     "text": [
      "Epoch 70: |                                                | 100/? [00:10<00:00,  9.14it/s, v_num=23, train_loss=223.0]"
     ]
    },
    {
     "name": "stderr",
     "output_type": "stream",
     "text": [
      "Epoch 70, global step 7100: 'train_loss' was not in top 1\n"
     ]
    },
    {
     "name": "stdout",
     "output_type": "stream",
     "text": [
      "Epoch 71: |                                                | 100/? [00:10<00:00,  9.16it/s, v_num=23, train_loss=229.0]"
     ]
    },
    {
     "name": "stderr",
     "output_type": "stream",
     "text": [
      "Epoch 71, global step 7200: 'train_loss' was not in top 1\n"
     ]
    },
    {
     "name": "stdout",
     "output_type": "stream",
     "text": [
      "Epoch 72: |                                                | 100/? [00:11<00:00,  9.04it/s, v_num=23, train_loss=201.0]"
     ]
    },
    {
     "name": "stderr",
     "output_type": "stream",
     "text": [
      "Epoch 72, global step 7300: 'train_loss' reached 201.03667 (best 201.03667), saving model to 'C:\\\\Users\\\\falty\\\\Desktop\\\\GZS\\\\trading\\\\options\\\\tft\\\\ron\\\\lightning_logs\\\\version_23\\\\checkpoints\\\\epoch=72-step=7300.ckpt' as top 1\n"
     ]
    },
    {
     "name": "stdout",
     "output_type": "stream",
     "text": [
      "Epoch 73: |                                                | 100/? [00:11<00:00,  9.05it/s, v_num=23, train_loss=188.0]"
     ]
    },
    {
     "name": "stderr",
     "output_type": "stream",
     "text": [
      "Epoch 73, global step 7400: 'train_loss' reached 188.24185 (best 188.24185), saving model to 'C:\\\\Users\\\\falty\\\\Desktop\\\\GZS\\\\trading\\\\options\\\\tft\\\\ron\\\\lightning_logs\\\\version_23\\\\checkpoints\\\\epoch=73-step=7400.ckpt' as top 1\n"
     ]
    },
    {
     "name": "stdout",
     "output_type": "stream",
     "text": [
      "Epoch 74: |                                                | 100/? [00:10<00:00,  9.12it/s, v_num=23, train_loss=193.0]"
     ]
    },
    {
     "name": "stderr",
     "output_type": "stream",
     "text": [
      "Epoch 74, global step 7500: 'train_loss' was not in top 1\n"
     ]
    },
    {
     "name": "stdout",
     "output_type": "stream",
     "text": [
      "Epoch 75: |                                                | 100/? [00:10<00:00,  9.11it/s, v_num=23, train_loss=190.0]"
     ]
    },
    {
     "name": "stderr",
     "output_type": "stream",
     "text": [
      "Epoch 75, global step 7600: 'train_loss' was not in top 1\n"
     ]
    },
    {
     "name": "stdout",
     "output_type": "stream",
     "text": [
      "Epoch 76: |                                                | 100/? [00:10<00:00,  9.18it/s, v_num=23, train_loss=190.0]"
     ]
    },
    {
     "name": "stderr",
     "output_type": "stream",
     "text": [
      "Epoch 76, global step 7700: 'train_loss' was not in top 1\n"
     ]
    },
    {
     "name": "stdout",
     "output_type": "stream",
     "text": [
      "Epoch 77: |                                                | 100/? [00:10<00:00,  9.21it/s, v_num=23, train_loss=187.0]"
     ]
    },
    {
     "name": "stderr",
     "output_type": "stream",
     "text": [
      "Epoch 77, global step 7800: 'train_loss' reached 187.15030 (best 187.15030), saving model to 'C:\\\\Users\\\\falty\\\\Desktop\\\\GZS\\\\trading\\\\options\\\\tft\\\\ron\\\\lightning_logs\\\\version_23\\\\checkpoints\\\\epoch=77-step=7800.ckpt' as top 1\n"
     ]
    },
    {
     "name": "stdout",
     "output_type": "stream",
     "text": [
      "Epoch 78: |                                                | 100/? [00:10<00:00,  9.23it/s, v_num=23, train_loss=187.0]"
     ]
    },
    {
     "name": "stderr",
     "output_type": "stream",
     "text": [
      "Epoch 78, global step 7900: 'train_loss' reached 187.10756 (best 187.10756), saving model to 'C:\\\\Users\\\\falty\\\\Desktop\\\\GZS\\\\trading\\\\options\\\\tft\\\\ron\\\\lightning_logs\\\\version_23\\\\checkpoints\\\\epoch=78-step=7900.ckpt' as top 1\n"
     ]
    },
    {
     "name": "stdout",
     "output_type": "stream",
     "text": [
      "Epoch 79: |                                                | 100/? [00:10<00:00,  9.16it/s, v_num=23, train_loss=192.0]"
     ]
    },
    {
     "name": "stderr",
     "output_type": "stream",
     "text": [
      "Epoch 79, global step 8000: 'train_loss' was not in top 1\n"
     ]
    },
    {
     "name": "stdout",
     "output_type": "stream",
     "text": [
      "Epoch 80: |                                                | 100/? [00:10<00:00,  9.10it/s, v_num=23, train_loss=171.0]"
     ]
    },
    {
     "name": "stderr",
     "output_type": "stream",
     "text": [
      "Epoch 80, global step 8100: 'train_loss' reached 170.91446 (best 170.91446), saving model to 'C:\\\\Users\\\\falty\\\\Desktop\\\\GZS\\\\trading\\\\options\\\\tft\\\\ron\\\\lightning_logs\\\\version_23\\\\checkpoints\\\\epoch=80-step=8100.ckpt' as top 1\n"
     ]
    },
    {
     "name": "stdout",
     "output_type": "stream",
     "text": [
      "Epoch 81: |                                                | 100/? [00:10<00:00,  9.11it/s, v_num=23, train_loss=184.0]"
     ]
    },
    {
     "name": "stderr",
     "output_type": "stream",
     "text": [
      "Epoch 81, global step 8200: 'train_loss' was not in top 1\n"
     ]
    },
    {
     "name": "stdout",
     "output_type": "stream",
     "text": [
      "Epoch 82: |                                                | 100/? [00:10<00:00,  9.21it/s, v_num=23, train_loss=179.0]"
     ]
    },
    {
     "name": "stderr",
     "output_type": "stream",
     "text": [
      "Epoch 82, global step 8300: 'train_loss' was not in top 1\n"
     ]
    },
    {
     "name": "stdout",
     "output_type": "stream",
     "text": [
      "Epoch 83: |                                                | 100/? [00:10<00:00,  9.26it/s, v_num=23, train_loss=163.0]"
     ]
    },
    {
     "name": "stderr",
     "output_type": "stream",
     "text": [
      "Epoch 83, global step 8400: 'train_loss' reached 163.23724 (best 163.23724), saving model to 'C:\\\\Users\\\\falty\\\\Desktop\\\\GZS\\\\trading\\\\options\\\\tft\\\\ron\\\\lightning_logs\\\\version_23\\\\checkpoints\\\\epoch=83-step=8400.ckpt' as top 1\n"
     ]
    },
    {
     "name": "stdout",
     "output_type": "stream",
     "text": [
      "Epoch 84: |                                                | 100/? [00:10<00:00,  9.14it/s, v_num=23, train_loss=168.0]"
     ]
    },
    {
     "name": "stderr",
     "output_type": "stream",
     "text": [
      "Epoch 84, global step 8500: 'train_loss' was not in top 1\n"
     ]
    },
    {
     "name": "stdout",
     "output_type": "stream",
     "text": [
      "Epoch 85: |                                                | 100/? [00:10<00:00,  9.27it/s, v_num=23, train_loss=153.0]"
     ]
    },
    {
     "name": "stderr",
     "output_type": "stream",
     "text": [
      "Epoch 85, global step 8600: 'train_loss' reached 152.82588 (best 152.82588), saving model to 'C:\\\\Users\\\\falty\\\\Desktop\\\\GZS\\\\trading\\\\options\\\\tft\\\\ron\\\\lightning_logs\\\\version_23\\\\checkpoints\\\\epoch=85-step=8600.ckpt' as top 1\n"
     ]
    },
    {
     "name": "stdout",
     "output_type": "stream",
     "text": [
      "Epoch 86: |                                                | 100/? [00:10<00:00,  9.14it/s, v_num=23, train_loss=174.0]"
     ]
    },
    {
     "name": "stderr",
     "output_type": "stream",
     "text": [
      "Epoch 86, global step 8700: 'train_loss' was not in top 1\n"
     ]
    },
    {
     "name": "stdout",
     "output_type": "stream",
     "text": [
      "Epoch 87: |                                                | 100/? [00:10<00:00,  9.14it/s, v_num=23, train_loss=168.0]"
     ]
    },
    {
     "name": "stderr",
     "output_type": "stream",
     "text": [
      "Epoch 87, global step 8800: 'train_loss' was not in top 1\n"
     ]
    },
    {
     "name": "stdout",
     "output_type": "stream",
     "text": [
      "Epoch 88: |                                                | 100/? [00:10<00:00,  9.21it/s, v_num=23, train_loss=167.0]"
     ]
    },
    {
     "name": "stderr",
     "output_type": "stream",
     "text": [
      "Epoch 88, global step 8900: 'train_loss' was not in top 1\n"
     ]
    },
    {
     "name": "stdout",
     "output_type": "stream",
     "text": [
      "Epoch 89: |                                                | 100/? [00:10<00:00,  9.19it/s, v_num=23, train_loss=146.0]"
     ]
    },
    {
     "name": "stderr",
     "output_type": "stream",
     "text": [
      "Epoch 89, global step 9000: 'train_loss' reached 145.69876 (best 145.69876), saving model to 'C:\\\\Users\\\\falty\\\\Desktop\\\\GZS\\\\trading\\\\options\\\\tft\\\\ron\\\\lightning_logs\\\\version_23\\\\checkpoints\\\\epoch=89-step=9000.ckpt' as top 1\n"
     ]
    },
    {
     "name": "stdout",
     "output_type": "stream",
     "text": [
      "Epoch 90: |                                                | 100/? [00:10<00:00,  9.12it/s, v_num=23, train_loss=164.0]"
     ]
    },
    {
     "name": "stderr",
     "output_type": "stream",
     "text": [
      "Epoch 90, global step 9100: 'train_loss' was not in top 1\n"
     ]
    },
    {
     "name": "stdout",
     "output_type": "stream",
     "text": [
      "Epoch 91: |                                                | 100/? [00:10<00:00,  9.18it/s, v_num=23, train_loss=155.0]"
     ]
    },
    {
     "name": "stderr",
     "output_type": "stream",
     "text": [
      "Epoch 91, global step 9200: 'train_loss' was not in top 1\n"
     ]
    },
    {
     "name": "stdout",
     "output_type": "stream",
     "text": [
      "Epoch 92: |                                                | 100/? [00:10<00:00,  9.21it/s, v_num=23, train_loss=146.0]"
     ]
    },
    {
     "name": "stderr",
     "output_type": "stream",
     "text": [
      "Epoch 92, global step 9300: 'train_loss' was not in top 1\n"
     ]
    },
    {
     "name": "stdout",
     "output_type": "stream",
     "text": [
      "Epoch 93: |                                                | 100/? [00:10<00:00,  9.19it/s, v_num=23, train_loss=134.0]"
     ]
    },
    {
     "name": "stderr",
     "output_type": "stream",
     "text": [
      "Epoch 93, global step 9400: 'train_loss' reached 133.91750 (best 133.91750), saving model to 'C:\\\\Users\\\\falty\\\\Desktop\\\\GZS\\\\trading\\\\options\\\\tft\\\\ron\\\\lightning_logs\\\\version_23\\\\checkpoints\\\\epoch=93-step=9400.ckpt' as top 1\n"
     ]
    },
    {
     "name": "stdout",
     "output_type": "stream",
     "text": [
      "Epoch 94: |                                                | 100/? [00:10<00:00,  9.14it/s, v_num=23, train_loss=149.0]"
     ]
    },
    {
     "name": "stderr",
     "output_type": "stream",
     "text": [
      "Epoch 94, global step 9500: 'train_loss' was not in top 1\n"
     ]
    },
    {
     "name": "stdout",
     "output_type": "stream",
     "text": [
      "Epoch 95: |                                                | 100/? [00:10<00:00,  9.22it/s, v_num=23, train_loss=139.0]"
     ]
    },
    {
     "name": "stderr",
     "output_type": "stream",
     "text": [
      "Epoch 95, global step 9600: 'train_loss' was not in top 1\n"
     ]
    },
    {
     "name": "stdout",
     "output_type": "stream",
     "text": [
      "Epoch 96: |                                                | 100/? [00:10<00:00,  9.17it/s, v_num=23, train_loss=146.0]"
     ]
    },
    {
     "name": "stderr",
     "output_type": "stream",
     "text": [
      "Epoch 96, global step 9700: 'train_loss' was not in top 1\n"
     ]
    },
    {
     "name": "stdout",
     "output_type": "stream",
     "text": [
      "Epoch 97: |                                                | 100/? [00:10<00:00,  9.15it/s, v_num=23, train_loss=142.0]"
     ]
    },
    {
     "name": "stderr",
     "output_type": "stream",
     "text": [
      "Epoch 97, global step 9800: 'train_loss' was not in top 1\n"
     ]
    },
    {
     "name": "stdout",
     "output_type": "stream",
     "text": [
      "Epoch 98: |                                                | 100/? [00:10<00:00,  9.14it/s, v_num=23, train_loss=142.0]"
     ]
    },
    {
     "name": "stderr",
     "output_type": "stream",
     "text": [
      "Epoch 98, global step 9900: 'train_loss' was not in top 1\n"
     ]
    },
    {
     "name": "stdout",
     "output_type": "stream",
     "text": [
      "Epoch 99: |                                                | 100/? [00:10<00:00,  9.18it/s, v_num=23, train_loss=145.0]"
     ]
    },
    {
     "name": "stderr",
     "output_type": "stream",
     "text": [
      "Epoch 99, global step 10000: 'train_loss' was not in top 1\n"
     ]
    },
    {
     "name": "stdout",
     "output_type": "stream",
     "text": [
      "Epoch 100: |                                               | 100/? [00:10<00:00,  9.10it/s, v_num=23, train_loss=141.0]"
     ]
    },
    {
     "name": "stderr",
     "output_type": "stream",
     "text": [
      "Epoch 100, global step 10100: 'train_loss' was not in top 1\n"
     ]
    },
    {
     "name": "stdout",
     "output_type": "stream",
     "text": [
      "Epoch 101: |                                               | 100/? [00:10<00:00,  9.12it/s, v_num=23, train_loss=126.0]"
     ]
    },
    {
     "name": "stderr",
     "output_type": "stream",
     "text": [
      "Epoch 101, global step 10200: 'train_loss' reached 126.05646 (best 126.05646), saving model to 'C:\\\\Users\\\\falty\\\\Desktop\\\\GZS\\\\trading\\\\options\\\\tft\\\\ron\\\\lightning_logs\\\\version_23\\\\checkpoints\\\\epoch=101-step=10200.ckpt' as top 1\n"
     ]
    },
    {
     "name": "stdout",
     "output_type": "stream",
     "text": [
      "Epoch 102: |                                               | 100/? [00:10<00:00,  9.16it/s, v_num=23, train_loss=130.0]"
     ]
    },
    {
     "name": "stderr",
     "output_type": "stream",
     "text": [
      "Epoch 102, global step 10300: 'train_loss' was not in top 1\n"
     ]
    },
    {
     "name": "stdout",
     "output_type": "stream",
     "text": [
      "Epoch 103: |                                               | 100/? [00:10<00:00,  9.19it/s, v_num=23, train_loss=133.0]"
     ]
    },
    {
     "name": "stderr",
     "output_type": "stream",
     "text": [
      "Epoch 103, global step 10400: 'train_loss' was not in top 1\n"
     ]
    },
    {
     "name": "stdout",
     "output_type": "stream",
     "text": [
      "Epoch 104: |                                               | 100/? [00:10<00:00,  9.10it/s, v_num=23, train_loss=146.0]"
     ]
    },
    {
     "name": "stderr",
     "output_type": "stream",
     "text": [
      "Epoch 104, global step 10500: 'train_loss' was not in top 1\n"
     ]
    },
    {
     "name": "stdout",
     "output_type": "stream",
     "text": [
      "Epoch 105: |                                               | 100/? [00:10<00:00,  9.21it/s, v_num=23, train_loss=128.0]"
     ]
    },
    {
     "name": "stderr",
     "output_type": "stream",
     "text": [
      "Epoch 105, global step 10600: 'train_loss' was not in top 1\n"
     ]
    },
    {
     "name": "stdout",
     "output_type": "stream",
     "text": [
      "Epoch 106: |                                               | 100/? [00:11<00:00,  9.09it/s, v_num=23, train_loss=128.0]"
     ]
    },
    {
     "name": "stderr",
     "output_type": "stream",
     "text": [
      "Epoch 106, global step 10700: 'train_loss' was not in top 1\n"
     ]
    },
    {
     "name": "stdout",
     "output_type": "stream",
     "text": [
      "Epoch 107: |                                               | 100/? [00:10<00:00,  9.13it/s, v_num=23, train_loss=120.0]"
     ]
    },
    {
     "name": "stderr",
     "output_type": "stream",
     "text": [
      "Epoch 107, global step 10800: 'train_loss' reached 120.21045 (best 120.21045), saving model to 'C:\\\\Users\\\\falty\\\\Desktop\\\\GZS\\\\trading\\\\options\\\\tft\\\\ron\\\\lightning_logs\\\\version_23\\\\checkpoints\\\\epoch=107-step=10800.ckpt' as top 1\n"
     ]
    },
    {
     "name": "stdout",
     "output_type": "stream",
     "text": [
      "Epoch 108: |                                               | 100/? [00:10<00:00,  9.27it/s, v_num=23, train_loss=109.0]"
     ]
    },
    {
     "name": "stderr",
     "output_type": "stream",
     "text": [
      "Epoch 108, global step 10900: 'train_loss' reached 109.36840 (best 109.36840), saving model to 'C:\\\\Users\\\\falty\\\\Desktop\\\\GZS\\\\trading\\\\options\\\\tft\\\\ron\\\\lightning_logs\\\\version_23\\\\checkpoints\\\\epoch=108-step=10900.ckpt' as top 1\n"
     ]
    },
    {
     "name": "stdout",
     "output_type": "stream",
     "text": [
      "Epoch 109: |                                               | 100/? [00:10<00:00,  9.19it/s, v_num=23, train_loss=121.0]"
     ]
    },
    {
     "name": "stderr",
     "output_type": "stream",
     "text": [
      "Epoch 109, global step 11000: 'train_loss' was not in top 1\n"
     ]
    },
    {
     "name": "stdout",
     "output_type": "stream",
     "text": [
      "Epoch 110: |                                               | 100/? [00:10<00:00,  9.18it/s, v_num=23, train_loss=136.0]"
     ]
    },
    {
     "name": "stderr",
     "output_type": "stream",
     "text": [
      "Epoch 110, global step 11100: 'train_loss' was not in top 1\n"
     ]
    },
    {
     "name": "stdout",
     "output_type": "stream",
     "text": [
      "Epoch 111: |                                               | 100/? [00:10<00:00,  9.18it/s, v_num=23, train_loss=131.0]"
     ]
    },
    {
     "name": "stderr",
     "output_type": "stream",
     "text": [
      "Epoch 111, global step 11200: 'train_loss' was not in top 1\n"
     ]
    },
    {
     "name": "stdout",
     "output_type": "stream",
     "text": [
      "Epoch 112: |                                               | 100/? [00:10<00:00,  9.18it/s, v_num=23, train_loss=119.0]"
     ]
    },
    {
     "name": "stderr",
     "output_type": "stream",
     "text": [
      "Epoch 112, global step 11300: 'train_loss' was not in top 1\n"
     ]
    },
    {
     "name": "stdout",
     "output_type": "stream",
     "text": [
      "Epoch 113: |                                               | 100/? [00:10<00:00,  9.14it/s, v_num=23, train_loss=108.0]"
     ]
    },
    {
     "name": "stderr",
     "output_type": "stream",
     "text": [
      "Epoch 113, global step 11400: 'train_loss' reached 108.12124 (best 108.12124), saving model to 'C:\\\\Users\\\\falty\\\\Desktop\\\\GZS\\\\trading\\\\options\\\\tft\\\\ron\\\\lightning_logs\\\\version_23\\\\checkpoints\\\\epoch=113-step=11400.ckpt' as top 1\n"
     ]
    },
    {
     "name": "stdout",
     "output_type": "stream",
     "text": [
      "Epoch 114: |                                               | 100/? [00:10<00:00,  9.27it/s, v_num=23, train_loss=121.0]"
     ]
    },
    {
     "name": "stderr",
     "output_type": "stream",
     "text": [
      "Epoch 114, global step 11500: 'train_loss' was not in top 1\n"
     ]
    },
    {
     "name": "stdout",
     "output_type": "stream",
     "text": [
      "Epoch 115: |                                               | 100/? [00:10<00:00,  9.18it/s, v_num=23, train_loss=118.0]"
     ]
    },
    {
     "name": "stderr",
     "output_type": "stream",
     "text": [
      "Epoch 115, global step 11600: 'train_loss' was not in top 1\n"
     ]
    },
    {
     "name": "stdout",
     "output_type": "stream",
     "text": [
      "Epoch 116: |                                               | 100/? [00:10<00:00,  9.11it/s, v_num=23, train_loss=114.0]"
     ]
    },
    {
     "name": "stderr",
     "output_type": "stream",
     "text": [
      "Epoch 116, global step 11700: 'train_loss' was not in top 1\n"
     ]
    },
    {
     "name": "stdout",
     "output_type": "stream",
     "text": [
      "Epoch 117: |                                               | 100/? [00:10<00:00,  9.22it/s, v_num=23, train_loss=114.0]"
     ]
    },
    {
     "name": "stderr",
     "output_type": "stream",
     "text": [
      "Epoch 117, global step 11800: 'train_loss' was not in top 1\n"
     ]
    },
    {
     "name": "stdout",
     "output_type": "stream",
     "text": [
      "Epoch 118: |                                               | 100/? [00:10<00:00,  9.19it/s, v_num=23, train_loss=103.0]"
     ]
    },
    {
     "name": "stderr",
     "output_type": "stream",
     "text": [
      "Epoch 118, global step 11900: 'train_loss' reached 103.13750 (best 103.13750), saving model to 'C:\\\\Users\\\\falty\\\\Desktop\\\\GZS\\\\trading\\\\options\\\\tft\\\\ron\\\\lightning_logs\\\\version_23\\\\checkpoints\\\\epoch=118-step=11900.ckpt' as top 1\n"
     ]
    },
    {
     "name": "stdout",
     "output_type": "stream",
     "text": [
      "Epoch 119: |                                               | 100/? [00:11<00:00,  8.87it/s, v_num=23, train_loss=116.0]"
     ]
    },
    {
     "name": "stderr",
     "output_type": "stream",
     "text": [
      "Epoch 119, global step 12000: 'train_loss' was not in top 1\n"
     ]
    },
    {
     "name": "stdout",
     "output_type": "stream",
     "text": [
      "Epoch 120: |                                               | 100/? [00:11<00:00,  9.08it/s, v_num=23, train_loss=109.0]"
     ]
    },
    {
     "name": "stderr",
     "output_type": "stream",
     "text": [
      "Epoch 120, global step 12100: 'train_loss' was not in top 1\n"
     ]
    },
    {
     "name": "stdout",
     "output_type": "stream",
     "text": [
      "Epoch 121: |                                               | 100/? [00:10<00:00,  9.16it/s, v_num=23, train_loss=104.0]"
     ]
    },
    {
     "name": "stderr",
     "output_type": "stream",
     "text": [
      "Epoch 121, global step 12200: 'train_loss' was not in top 1\n"
     ]
    },
    {
     "name": "stdout",
     "output_type": "stream",
     "text": [
      "Epoch 122: |                                               | 100/? [00:10<00:00,  9.15it/s, v_num=23, train_loss=107.0]"
     ]
    },
    {
     "name": "stderr",
     "output_type": "stream",
     "text": [
      "Epoch 122, global step 12300: 'train_loss' was not in top 1\n"
     ]
    },
    {
     "name": "stdout",
     "output_type": "stream",
     "text": [
      "Epoch 123: |                                               | 100/? [00:11<00:00,  9.08it/s, v_num=23, train_loss=123.0]"
     ]
    },
    {
     "name": "stderr",
     "output_type": "stream",
     "text": [
      "Epoch 123, global step 12400: 'train_loss' was not in top 1\n"
     ]
    },
    {
     "name": "stdout",
     "output_type": "stream",
     "text": [
      "Epoch 124: |                                               | 100/? [00:11<00:00,  9.07it/s, v_num=23, train_loss=110.0]"
     ]
    },
    {
     "name": "stderr",
     "output_type": "stream",
     "text": [
      "Epoch 124, global step 12500: 'train_loss' was not in top 1\n"
     ]
    },
    {
     "name": "stdout",
     "output_type": "stream",
     "text": [
      "Epoch 125: |                                               | 100/? [00:11<00:00,  9.06it/s, v_num=23, train_loss=103.0]"
     ]
    },
    {
     "name": "stderr",
     "output_type": "stream",
     "text": [
      "Epoch 125, global step 12600: 'train_loss' reached 102.88015 (best 102.88015), saving model to 'C:\\\\Users\\\\falty\\\\Desktop\\\\GZS\\\\trading\\\\options\\\\tft\\\\ron\\\\lightning_logs\\\\version_23\\\\checkpoints\\\\epoch=125-step=12600.ckpt' as top 1\n"
     ]
    },
    {
     "name": "stdout",
     "output_type": "stream",
     "text": [
      "Epoch 126: |                                               | 100/? [00:10<00:00,  9.13it/s, v_num=23, train_loss=109.0]"
     ]
    },
    {
     "name": "stderr",
     "output_type": "stream",
     "text": [
      "Epoch 126, global step 12700: 'train_loss' was not in top 1\n"
     ]
    },
    {
     "name": "stdout",
     "output_type": "stream",
     "text": [
      "Epoch 127: |                                               | 100/? [00:10<00:00,  9.15it/s, v_num=23, train_loss=118.0]"
     ]
    },
    {
     "name": "stderr",
     "output_type": "stream",
     "text": [
      "Epoch 127, global step 12800: 'train_loss' was not in top 1\n"
     ]
    },
    {
     "name": "stdout",
     "output_type": "stream",
     "text": [
      "Epoch 128: |                                               | 100/? [00:11<00:00,  9.08it/s, v_num=23, train_loss=107.0]"
     ]
    },
    {
     "name": "stderr",
     "output_type": "stream",
     "text": [
      "Epoch 128, global step 12900: 'train_loss' was not in top 1\n"
     ]
    },
    {
     "name": "stdout",
     "output_type": "stream",
     "text": [
      "Epoch 129: |                                               | 100/? [00:11<00:00,  9.06it/s, v_num=23, train_loss=103.0]"
     ]
    },
    {
     "name": "stderr",
     "output_type": "stream",
     "text": [
      "Epoch 129, global step 13000: 'train_loss' was not in top 1\n"
     ]
    },
    {
     "name": "stdout",
     "output_type": "stream",
     "text": [
      "Epoch 130: |                                               | 100/? [00:10<00:00,  9.21it/s, v_num=23, train_loss=105.0]"
     ]
    },
    {
     "name": "stderr",
     "output_type": "stream",
     "text": [
      "Epoch 130, global step 13100: 'train_loss' was not in top 1\n"
     ]
    },
    {
     "name": "stdout",
     "output_type": "stream",
     "text": [
      "Epoch 131: |                                               | 100/? [00:11<00:00,  9.08it/s, v_num=23, train_loss=96.90]"
     ]
    },
    {
     "name": "stderr",
     "output_type": "stream",
     "text": [
      "Epoch 131, global step 13200: 'train_loss' reached 96.87659 (best 96.87659), saving model to 'C:\\\\Users\\\\falty\\\\Desktop\\\\GZS\\\\trading\\\\options\\\\tft\\\\ron\\\\lightning_logs\\\\version_23\\\\checkpoints\\\\epoch=131-step=13200.ckpt' as top 1\n"
     ]
    },
    {
     "name": "stdout",
     "output_type": "stream",
     "text": [
      "Epoch 132: |                                               | 100/? [00:10<00:00,  9.14it/s, v_num=23, train_loss=97.40]"
     ]
    },
    {
     "name": "stderr",
     "output_type": "stream",
     "text": [
      "Epoch 132, global step 13300: 'train_loss' was not in top 1\n"
     ]
    },
    {
     "name": "stdout",
     "output_type": "stream",
     "text": [
      "Epoch 133: |                                               | 100/? [00:10<00:00,  9.12it/s, v_num=23, train_loss=97.30]"
     ]
    },
    {
     "name": "stderr",
     "output_type": "stream",
     "text": [
      "Epoch 133, global step 13400: 'train_loss' was not in top 1\n"
     ]
    },
    {
     "name": "stdout",
     "output_type": "stream",
     "text": [
      "Epoch 134: |                                               | 100/? [00:10<00:00,  9.09it/s, v_num=23, train_loss=98.60]"
     ]
    },
    {
     "name": "stderr",
     "output_type": "stream",
     "text": [
      "Epoch 134, global step 13500: 'train_loss' was not in top 1\n"
     ]
    },
    {
     "name": "stdout",
     "output_type": "stream",
     "text": [
      "Epoch 135: |                                               | 100/? [00:11<00:00,  9.04it/s, v_num=23, train_loss=104.0]"
     ]
    },
    {
     "name": "stderr",
     "output_type": "stream",
     "text": [
      "Epoch 135, global step 13600: 'train_loss' was not in top 1\n"
     ]
    },
    {
     "name": "stdout",
     "output_type": "stream",
     "text": [
      "Epoch 136: |                                               | 100/? [00:11<00:00,  9.08it/s, v_num=23, train_loss=102.0]"
     ]
    },
    {
     "name": "stderr",
     "output_type": "stream",
     "text": [
      "Epoch 136, global step 13700: 'train_loss' was not in top 1\n"
     ]
    },
    {
     "name": "stdout",
     "output_type": "stream",
     "text": [
      "Epoch 137: |                                               | 100/? [00:10<00:00,  9.14it/s, v_num=23, train_loss=112.0]"
     ]
    },
    {
     "name": "stderr",
     "output_type": "stream",
     "text": [
      "Epoch 137, global step 13800: 'train_loss' was not in top 1\n"
     ]
    },
    {
     "name": "stdout",
     "output_type": "stream",
     "text": [
      "Epoch 138: |                                               | 100/? [00:10<00:00,  9.11it/s, v_num=23, train_loss=110.0]"
     ]
    },
    {
     "name": "stderr",
     "output_type": "stream",
     "text": [
      "Epoch 138, global step 13900: 'train_loss' was not in top 1\n"
     ]
    },
    {
     "name": "stdout",
     "output_type": "stream",
     "text": [
      "Epoch 139: |                                               | 100/? [00:10<00:00,  9.12it/s, v_num=23, train_loss=96.60]"
     ]
    },
    {
     "name": "stderr",
     "output_type": "stream",
     "text": [
      "Epoch 139, global step 14000: 'train_loss' reached 96.55750 (best 96.55750), saving model to 'C:\\\\Users\\\\falty\\\\Desktop\\\\GZS\\\\trading\\\\options\\\\tft\\\\ron\\\\lightning_logs\\\\version_23\\\\checkpoints\\\\epoch=139-step=14000.ckpt' as top 1\n"
     ]
    },
    {
     "name": "stdout",
     "output_type": "stream",
     "text": [
      "Epoch 140: |                                               | 100/? [00:10<00:00,  9.15it/s, v_num=23, train_loss=89.40]"
     ]
    },
    {
     "name": "stderr",
     "output_type": "stream",
     "text": [
      "Epoch 140, global step 14100: 'train_loss' reached 89.41646 (best 89.41646), saving model to 'C:\\\\Users\\\\falty\\\\Desktop\\\\GZS\\\\trading\\\\options\\\\tft\\\\ron\\\\lightning_logs\\\\version_23\\\\checkpoints\\\\epoch=140-step=14100.ckpt' as top 1\n"
     ]
    },
    {
     "name": "stdout",
     "output_type": "stream",
     "text": [
      "Epoch 141: |                                               | 100/? [00:11<00:00,  9.08it/s, v_num=23, train_loss=81.10]"
     ]
    },
    {
     "name": "stderr",
     "output_type": "stream",
     "text": [
      "Epoch 141, global step 14200: 'train_loss' reached 81.10276 (best 81.10276), saving model to 'C:\\\\Users\\\\falty\\\\Desktop\\\\GZS\\\\trading\\\\options\\\\tft\\\\ron\\\\lightning_logs\\\\version_23\\\\checkpoints\\\\epoch=141-step=14200.ckpt' as top 1\n"
     ]
    },
    {
     "name": "stdout",
     "output_type": "stream",
     "text": [
      "Epoch 142: |                                               | 100/? [00:11<00:00,  8.99it/s, v_num=23, train_loss=87.70]"
     ]
    },
    {
     "name": "stderr",
     "output_type": "stream",
     "text": [
      "Epoch 142, global step 14300: 'train_loss' was not in top 1\n"
     ]
    },
    {
     "name": "stdout",
     "output_type": "stream",
     "text": [
      "Epoch 143: |                                               | 100/? [00:10<00:00,  9.13it/s, v_num=23, train_loss=92.90]"
     ]
    },
    {
     "name": "stderr",
     "output_type": "stream",
     "text": [
      "Epoch 143, global step 14400: 'train_loss' was not in top 1\n"
     ]
    },
    {
     "name": "stdout",
     "output_type": "stream",
     "text": [
      "Epoch 144: |                                               | 100/? [00:11<00:00,  9.05it/s, v_num=23, train_loss=96.20]"
     ]
    },
    {
     "name": "stderr",
     "output_type": "stream",
     "text": [
      "Epoch 144, global step 14500: 'train_loss' was not in top 1\n"
     ]
    },
    {
     "name": "stdout",
     "output_type": "stream",
     "text": [
      "Epoch 145: |                                               | 100/? [00:11<00:00,  9.06it/s, v_num=23, train_loss=86.60]"
     ]
    },
    {
     "name": "stderr",
     "output_type": "stream",
     "text": [
      "Epoch 145, global step 14600: 'train_loss' was not in top 1\n"
     ]
    },
    {
     "name": "stdout",
     "output_type": "stream",
     "text": [
      "Epoch 146: |                                               | 100/? [00:10<00:00,  9.13it/s, v_num=23, train_loss=105.0]"
     ]
    },
    {
     "name": "stderr",
     "output_type": "stream",
     "text": [
      "Epoch 146, global step 14700: 'train_loss' was not in top 1\n"
     ]
    },
    {
     "name": "stdout",
     "output_type": "stream",
     "text": [
      "Epoch 147: |                                               | 100/? [00:11<00:00,  9.07it/s, v_num=23, train_loss=95.50]"
     ]
    },
    {
     "name": "stderr",
     "output_type": "stream",
     "text": [
      "Epoch 147, global step 14800: 'train_loss' was not in top 1\n"
     ]
    },
    {
     "name": "stdout",
     "output_type": "stream",
     "text": [
      "Epoch 148: |                                               | 100/? [00:11<00:00,  9.01it/s, v_num=23, train_loss=96.20]"
     ]
    },
    {
     "name": "stderr",
     "output_type": "stream",
     "text": [
      "Epoch 148, global step 14900: 'train_loss' was not in top 1\n"
     ]
    },
    {
     "name": "stdout",
     "output_type": "stream",
     "text": [
      "Epoch 149: |                                               | 100/? [00:10<00:00,  9.18it/s, v_num=23, train_loss=101.0]"
     ]
    },
    {
     "name": "stderr",
     "output_type": "stream",
     "text": [
      "Epoch 149, global step 15000: 'train_loss' was not in top 1\n"
     ]
    },
    {
     "name": "stdout",
     "output_type": "stream",
     "text": [
      "Epoch 150: |                                               | 100/? [00:11<00:00,  9.08it/s, v_num=23, train_loss=98.80]"
     ]
    },
    {
     "name": "stderr",
     "output_type": "stream",
     "text": [
      "Epoch 150, global step 15100: 'train_loss' was not in top 1\n"
     ]
    },
    {
     "name": "stdout",
     "output_type": "stream",
     "text": [
      "Epoch 151: |                                               | 100/? [00:11<00:00,  9.04it/s, v_num=23, train_loss=97.30]"
     ]
    },
    {
     "name": "stderr",
     "output_type": "stream",
     "text": [
      "Epoch 151, global step 15200: 'train_loss' was not in top 1\n"
     ]
    },
    {
     "name": "stdout",
     "output_type": "stream",
     "text": [
      "Epoch 152: |                                               | 100/? [00:10<00:00,  9.21it/s, v_num=23, train_loss=84.00]"
     ]
    },
    {
     "name": "stderr",
     "output_type": "stream",
     "text": [
      "Epoch 152, global step 15300: 'train_loss' was not in top 1\n"
     ]
    },
    {
     "name": "stdout",
     "output_type": "stream",
     "text": [
      "Epoch 153: |                                               | 100/? [00:10<00:00,  9.17it/s, v_num=23, train_loss=59.50]"
     ]
    },
    {
     "name": "stderr",
     "output_type": "stream",
     "text": [
      "Epoch 153, global step 15400: 'train_loss' reached 59.47556 (best 59.47556), saving model to 'C:\\\\Users\\\\falty\\\\Desktop\\\\GZS\\\\trading\\\\options\\\\tft\\\\ron\\\\lightning_logs\\\\version_23\\\\checkpoints\\\\epoch=153-step=15400.ckpt' as top 1\n"
     ]
    },
    {
     "name": "stdout",
     "output_type": "stream",
     "text": [
      "Epoch 154: |                                               | 100/? [00:10<00:00,  9.11it/s, v_num=23, train_loss=50.50]"
     ]
    },
    {
     "name": "stderr",
     "output_type": "stream",
     "text": [
      "Epoch 154, global step 15500: 'train_loss' reached 50.53790 (best 50.53790), saving model to 'C:\\\\Users\\\\falty\\\\Desktop\\\\GZS\\\\trading\\\\options\\\\tft\\\\ron\\\\lightning_logs\\\\version_23\\\\checkpoints\\\\epoch=154-step=15500.ckpt' as top 1\n"
     ]
    },
    {
     "name": "stdout",
     "output_type": "stream",
     "text": [
      "Epoch 155: |                                               | 100/? [00:11<00:00,  9.03it/s, v_num=23, train_loss=53.40]"
     ]
    },
    {
     "name": "stderr",
     "output_type": "stream",
     "text": [
      "Epoch 155, global step 15600: 'train_loss' was not in top 1\n"
     ]
    },
    {
     "name": "stdout",
     "output_type": "stream",
     "text": [
      "Epoch 156: |                                               | 100/? [00:10<00:00,  9.20it/s, v_num=23, train_loss=48.80]"
     ]
    },
    {
     "name": "stderr",
     "output_type": "stream",
     "text": [
      "Epoch 156, global step 15700: 'train_loss' reached 48.81777 (best 48.81777), saving model to 'C:\\\\Users\\\\falty\\\\Desktop\\\\GZS\\\\trading\\\\options\\\\tft\\\\ron\\\\lightning_logs\\\\version_23\\\\checkpoints\\\\epoch=156-step=15700.ckpt' as top 1\n"
     ]
    },
    {
     "name": "stdout",
     "output_type": "stream",
     "text": [
      "Epoch 157: |                                               | 100/? [00:11<00:00,  9.09it/s, v_num=23, train_loss=47.80]"
     ]
    },
    {
     "name": "stderr",
     "output_type": "stream",
     "text": [
      "Epoch 157, global step 15800: 'train_loss' reached 47.78099 (best 47.78099), saving model to 'C:\\\\Users\\\\falty\\\\Desktop\\\\GZS\\\\trading\\\\options\\\\tft\\\\ron\\\\lightning_logs\\\\version_23\\\\checkpoints\\\\epoch=157-step=15800.ckpt' as top 1\n"
     ]
    },
    {
     "name": "stdout",
     "output_type": "stream",
     "text": [
      "Epoch 158: |                                               | 100/? [00:10<00:00,  9.11it/s, v_num=23, train_loss=55.30]"
     ]
    },
    {
     "name": "stderr",
     "output_type": "stream",
     "text": [
      "Epoch 158, global step 15900: 'train_loss' was not in top 1\n"
     ]
    },
    {
     "name": "stdout",
     "output_type": "stream",
     "text": [
      "Epoch 159: |                                               | 100/? [00:10<00:00,  9.12it/s, v_num=23, train_loss=55.30]"
     ]
    },
    {
     "name": "stderr",
     "output_type": "stream",
     "text": [
      "Epoch 159, global step 16000: 'train_loss' was not in top 1\n"
     ]
    },
    {
     "name": "stdout",
     "output_type": "stream",
     "text": [
      "Epoch 160: |                                               | 100/? [00:10<00:00,  9.14it/s, v_num=23, train_loss=48.70]"
     ]
    },
    {
     "name": "stderr",
     "output_type": "stream",
     "text": [
      "Epoch 160, global step 16100: 'train_loss' was not in top 1\n"
     ]
    },
    {
     "name": "stdout",
     "output_type": "stream",
     "text": [
      "Epoch 161: |                                               | 100/? [00:11<00:00,  8.93it/s, v_num=23, train_loss=56.30]"
     ]
    },
    {
     "name": "stderr",
     "output_type": "stream",
     "text": [
      "Epoch 161, global step 16200: 'train_loss' was not in top 1\n"
     ]
    },
    {
     "name": "stdout",
     "output_type": "stream",
     "text": [
      "Epoch 162: |                                               | 100/? [00:10<00:00,  9.11it/s, v_num=23, train_loss=49.10]"
     ]
    },
    {
     "name": "stderr",
     "output_type": "stream",
     "text": [
      "Epoch 162, global step 16300: 'train_loss' was not in top 1\n"
     ]
    },
    {
     "name": "stdout",
     "output_type": "stream",
     "text": [
      "Epoch 163: |                                               | 100/? [00:11<00:00,  9.08it/s, v_num=23, train_loss=52.90]"
     ]
    },
    {
     "name": "stderr",
     "output_type": "stream",
     "text": [
      "Epoch 163, global step 16400: 'train_loss' was not in top 1\n"
     ]
    },
    {
     "name": "stdout",
     "output_type": "stream",
     "text": [
      "Epoch 164: |                                               | 100/? [00:10<00:00,  9.12it/s, v_num=23, train_loss=47.50]"
     ]
    },
    {
     "name": "stderr",
     "output_type": "stream",
     "text": [
      "Epoch 164, global step 16500: 'train_loss' reached 47.50078 (best 47.50078), saving model to 'C:\\\\Users\\\\falty\\\\Desktop\\\\GZS\\\\trading\\\\options\\\\tft\\\\ron\\\\lightning_logs\\\\version_23\\\\checkpoints\\\\epoch=164-step=16500.ckpt' as top 1\n"
     ]
    },
    {
     "name": "stdout",
     "output_type": "stream",
     "text": [
      "Epoch 165: |                                               | 100/? [00:11<00:00,  9.08it/s, v_num=23, train_loss=46.90]"
     ]
    },
    {
     "name": "stderr",
     "output_type": "stream",
     "text": [
      "Epoch 165, global step 16600: 'train_loss' reached 46.87911 (best 46.87911), saving model to 'C:\\\\Users\\\\falty\\\\Desktop\\\\GZS\\\\trading\\\\options\\\\tft\\\\ron\\\\lightning_logs\\\\version_23\\\\checkpoints\\\\epoch=165-step=16600.ckpt' as top 1\n"
     ]
    },
    {
     "name": "stdout",
     "output_type": "stream",
     "text": [
      "Epoch 166: |                                               | 100/? [00:10<00:00,  9.13it/s, v_num=23, train_loss=48.90]"
     ]
    },
    {
     "name": "stderr",
     "output_type": "stream",
     "text": [
      "Epoch 166, global step 16700: 'train_loss' was not in top 1\n"
     ]
    },
    {
     "name": "stdout",
     "output_type": "stream",
     "text": [
      "Epoch 167: |                                               | 100/? [00:10<00:00,  9.14it/s, v_num=23, train_loss=48.50]"
     ]
    },
    {
     "name": "stderr",
     "output_type": "stream",
     "text": [
      "Epoch 167, global step 16800: 'train_loss' was not in top 1\n"
     ]
    },
    {
     "name": "stdout",
     "output_type": "stream",
     "text": [
      "Epoch 168: |                                               | 100/? [00:11<00:00,  9.00it/s, v_num=23, train_loss=54.00]"
     ]
    },
    {
     "name": "stderr",
     "output_type": "stream",
     "text": [
      "Epoch 168, global step 16900: 'train_loss' was not in top 1\n"
     ]
    },
    {
     "name": "stdout",
     "output_type": "stream",
     "text": [
      "Epoch 169: |                                               | 100/? [00:10<00:00,  9.16it/s, v_num=23, train_loss=52.00]"
     ]
    },
    {
     "name": "stderr",
     "output_type": "stream",
     "text": [
      "Epoch 169, global step 17000: 'train_loss' was not in top 1\n"
     ]
    },
    {
     "name": "stdout",
     "output_type": "stream",
     "text": [
      "Epoch 170: |                                               | 100/? [00:10<00:00,  9.12it/s, v_num=23, train_loss=48.20]"
     ]
    },
    {
     "name": "stderr",
     "output_type": "stream",
     "text": [
      "Epoch 170, global step 17100: 'train_loss' was not in top 1\n"
     ]
    },
    {
     "name": "stdout",
     "output_type": "stream",
     "text": [
      "Epoch 171: |                                               | 100/? [00:10<00:00,  9.11it/s, v_num=23, train_loss=45.20]"
     ]
    },
    {
     "name": "stderr",
     "output_type": "stream",
     "text": [
      "Epoch 171, global step 17200: 'train_loss' reached 45.23125 (best 45.23125), saving model to 'C:\\\\Users\\\\falty\\\\Desktop\\\\GZS\\\\trading\\\\options\\\\tft\\\\ron\\\\lightning_logs\\\\version_23\\\\checkpoints\\\\epoch=171-step=17200.ckpt' as top 1\n"
     ]
    },
    {
     "name": "stdout",
     "output_type": "stream",
     "text": [
      "Epoch 172: |                                               | 100/? [00:10<00:00,  9.15it/s, v_num=23, train_loss=48.80]"
     ]
    },
    {
     "name": "stderr",
     "output_type": "stream",
     "text": [
      "Epoch 172, global step 17300: 'train_loss' was not in top 1\n"
     ]
    },
    {
     "name": "stdout",
     "output_type": "stream",
     "text": [
      "Epoch 173: |                                               | 100/? [00:10<00:00,  9.15it/s, v_num=23, train_loss=51.70]"
     ]
    },
    {
     "name": "stderr",
     "output_type": "stream",
     "text": [
      "Epoch 173, global step 17400: 'train_loss' was not in top 1\n"
     ]
    },
    {
     "name": "stdout",
     "output_type": "stream",
     "text": [
      "Epoch 174: |                                               | 100/? [00:10<00:00,  9.09it/s, v_num=23, train_loss=55.30]"
     ]
    },
    {
     "name": "stderr",
     "output_type": "stream",
     "text": [
      "Epoch 174, global step 17500: 'train_loss' was not in top 1\n"
     ]
    },
    {
     "name": "stdout",
     "output_type": "stream",
     "text": [
      "Epoch 175: |                                               | 100/? [00:11<00:00,  9.06it/s, v_num=23, train_loss=53.40]"
     ]
    },
    {
     "name": "stderr",
     "output_type": "stream",
     "text": [
      "Epoch 175, global step 17600: 'train_loss' was not in top 1\n"
     ]
    },
    {
     "name": "stdout",
     "output_type": "stream",
     "text": [
      "Epoch 176: |                                               | 100/? [00:11<00:00,  9.06it/s, v_num=23, train_loss=51.20]"
     ]
    },
    {
     "name": "stderr",
     "output_type": "stream",
     "text": [
      "Epoch 176, global step 17700: 'train_loss' was not in top 1\n"
     ]
    },
    {
     "name": "stdout",
     "output_type": "stream",
     "text": [
      "Epoch 177: |                                               | 100/? [00:11<00:00,  8.96it/s, v_num=23, train_loss=50.10]"
     ]
    },
    {
     "name": "stderr",
     "output_type": "stream",
     "text": [
      "Epoch 177, global step 17800: 'train_loss' was not in top 1\n"
     ]
    },
    {
     "name": "stdout",
     "output_type": "stream",
     "text": [
      "Epoch 178: |                                               | 100/? [00:11<00:00,  9.04it/s, v_num=23, train_loss=50.20]"
     ]
    },
    {
     "name": "stderr",
     "output_type": "stream",
     "text": [
      "Epoch 178, global step 17900: 'train_loss' was not in top 1\n"
     ]
    },
    {
     "name": "stdout",
     "output_type": "stream",
     "text": [
      "Epoch 179: |                                               | 100/? [00:10<00:00,  9.13it/s, v_num=23, train_loss=51.30]"
     ]
    },
    {
     "name": "stderr",
     "output_type": "stream",
     "text": [
      "Epoch 179, global step 18000: 'train_loss' was not in top 1\n"
     ]
    },
    {
     "name": "stdout",
     "output_type": "stream",
     "text": [
      "Epoch 180: |                                               | 100/? [00:10<00:00,  9.09it/s, v_num=23, train_loss=47.50]"
     ]
    },
    {
     "name": "stderr",
     "output_type": "stream",
     "text": [
      "Epoch 180, global step 18100: 'train_loss' was not in top 1\n"
     ]
    },
    {
     "name": "stdout",
     "output_type": "stream",
     "text": [
      "Epoch 181: |                                               | 100/? [00:10<00:00,  9.14it/s, v_num=23, train_loss=48.90]"
     ]
    },
    {
     "name": "stderr",
     "output_type": "stream",
     "text": [
      "Epoch 181, global step 18200: 'train_loss' was not in top 1\n"
     ]
    },
    {
     "name": "stdout",
     "output_type": "stream",
     "text": [
      "Epoch 182: |                                               | 100/? [00:11<00:00,  9.09it/s, v_num=23, train_loss=46.80]"
     ]
    },
    {
     "name": "stderr",
     "output_type": "stream",
     "text": [
      "Epoch 182, global step 18300: 'train_loss' was not in top 1\n"
     ]
    },
    {
     "name": "stdout",
     "output_type": "stream",
     "text": [
      "Epoch 183: |                                               | 100/? [00:10<00:00,  9.12it/s, v_num=23, train_loss=35.10]"
     ]
    },
    {
     "name": "stderr",
     "output_type": "stream",
     "text": [
      "Epoch 183, global step 18400: 'train_loss' reached 35.07924 (best 35.07924), saving model to 'C:\\\\Users\\\\falty\\\\Desktop\\\\GZS\\\\trading\\\\options\\\\tft\\\\ron\\\\lightning_logs\\\\version_23\\\\checkpoints\\\\epoch=183-step=18400.ckpt' as top 1\n"
     ]
    },
    {
     "name": "stdout",
     "output_type": "stream",
     "text": [
      "Epoch 184: |                                               | 100/? [00:10<00:00,  9.11it/s, v_num=23, train_loss=31.00]"
     ]
    },
    {
     "name": "stderr",
     "output_type": "stream",
     "text": [
      "Epoch 184, global step 18500: 'train_loss' reached 31.01157 (best 31.01157), saving model to 'C:\\\\Users\\\\falty\\\\Desktop\\\\GZS\\\\trading\\\\options\\\\tft\\\\ron\\\\lightning_logs\\\\version_23\\\\checkpoints\\\\epoch=184-step=18500.ckpt' as top 1\n"
     ]
    },
    {
     "name": "stdout",
     "output_type": "stream",
     "text": [
      "Epoch 185: |                                               | 100/? [00:11<00:00,  9.05it/s, v_num=23, train_loss=29.90]"
     ]
    },
    {
     "name": "stderr",
     "output_type": "stream",
     "text": [
      "Epoch 185, global step 18600: 'train_loss' reached 29.85052 (best 29.85052), saving model to 'C:\\\\Users\\\\falty\\\\Desktop\\\\GZS\\\\trading\\\\options\\\\tft\\\\ron\\\\lightning_logs\\\\version_23\\\\checkpoints\\\\epoch=185-step=18600.ckpt' as top 1\n"
     ]
    },
    {
     "name": "stdout",
     "output_type": "stream",
     "text": [
      "Epoch 186: |                                               | 100/? [00:10<00:00,  9.22it/s, v_num=23, train_loss=29.70]"
     ]
    },
    {
     "name": "stderr",
     "output_type": "stream",
     "text": [
      "Epoch 186, global step 18700: 'train_loss' reached 29.74702 (best 29.74702), saving model to 'C:\\\\Users\\\\falty\\\\Desktop\\\\GZS\\\\trading\\\\options\\\\tft\\\\ron\\\\lightning_logs\\\\version_23\\\\checkpoints\\\\epoch=186-step=18700.ckpt' as top 1\n"
     ]
    },
    {
     "name": "stdout",
     "output_type": "stream",
     "text": [
      "Epoch 187: |                                               | 100/? [00:10<00:00,  9.10it/s, v_num=23, train_loss=30.00]"
     ]
    },
    {
     "name": "stderr",
     "output_type": "stream",
     "text": [
      "Epoch 187, global step 18800: 'train_loss' was not in top 1\n"
     ]
    },
    {
     "name": "stdout",
     "output_type": "stream",
     "text": [
      "Epoch 188: |                                               | 100/? [00:11<00:00,  9.07it/s, v_num=23, train_loss=28.90]"
     ]
    },
    {
     "name": "stderr",
     "output_type": "stream",
     "text": [
      "Epoch 188, global step 18900: 'train_loss' reached 28.85208 (best 28.85208), saving model to 'C:\\\\Users\\\\falty\\\\Desktop\\\\GZS\\\\trading\\\\options\\\\tft\\\\ron\\\\lightning_logs\\\\version_23\\\\checkpoints\\\\epoch=188-step=18900.ckpt' as top 1\n"
     ]
    },
    {
     "name": "stdout",
     "output_type": "stream",
     "text": [
      "Epoch 189: |                                               | 100/? [00:10<00:00,  9.10it/s, v_num=23, train_loss=31.00]"
     ]
    },
    {
     "name": "stderr",
     "output_type": "stream",
     "text": [
      "Epoch 189, global step 19000: 'train_loss' was not in top 1\n"
     ]
    },
    {
     "name": "stdout",
     "output_type": "stream",
     "text": [
      "Epoch 190: |                                               | 100/? [00:10<00:00,  9.16it/s, v_num=23, train_loss=31.00]"
     ]
    },
    {
     "name": "stderr",
     "output_type": "stream",
     "text": [
      "Epoch 190, global step 19100: 'train_loss' was not in top 1\n"
     ]
    },
    {
     "name": "stdout",
     "output_type": "stream",
     "text": [
      "Epoch 191: |                                               | 100/? [00:11<00:00,  9.08it/s, v_num=23, train_loss=32.00]"
     ]
    },
    {
     "name": "stderr",
     "output_type": "stream",
     "text": [
      "Epoch 191, global step 19200: 'train_loss' was not in top 1\n"
     ]
    },
    {
     "name": "stdout",
     "output_type": "stream",
     "text": [
      "Epoch 192: |                                               | 100/? [00:10<00:00,  9.13it/s, v_num=23, train_loss=27.50]"
     ]
    },
    {
     "name": "stderr",
     "output_type": "stream",
     "text": [
      "Epoch 192, global step 19300: 'train_loss' reached 27.48619 (best 27.48619), saving model to 'C:\\\\Users\\\\falty\\\\Desktop\\\\GZS\\\\trading\\\\options\\\\tft\\\\ron\\\\lightning_logs\\\\version_23\\\\checkpoints\\\\epoch=192-step=19300.ckpt' as top 1\n"
     ]
    },
    {
     "name": "stdout",
     "output_type": "stream",
     "text": [
      "Epoch 193: |                                               | 100/? [00:10<00:00,  9.21it/s, v_num=23, train_loss=28.50]"
     ]
    },
    {
     "name": "stderr",
     "output_type": "stream",
     "text": [
      "Epoch 193, global step 19400: 'train_loss' was not in top 1\n"
     ]
    },
    {
     "name": "stdout",
     "output_type": "stream",
     "text": [
      "Epoch 194: |                                               | 100/? [00:11<00:00,  9.07it/s, v_num=23, train_loss=28.60]"
     ]
    },
    {
     "name": "stderr",
     "output_type": "stream",
     "text": [
      "Epoch 194, global step 19500: 'train_loss' was not in top 1\n"
     ]
    },
    {
     "name": "stdout",
     "output_type": "stream",
     "text": [
      "Epoch 195: |                                               | 100/? [00:11<00:00,  9.08it/s, v_num=23, train_loss=27.80]"
     ]
    },
    {
     "name": "stderr",
     "output_type": "stream",
     "text": [
      "Epoch 195, global step 19600: 'train_loss' was not in top 1\n"
     ]
    },
    {
     "name": "stdout",
     "output_type": "stream",
     "text": [
      "Epoch 196: |                                               | 100/? [00:11<00:00,  9.04it/s, v_num=23, train_loss=28.70]"
     ]
    },
    {
     "name": "stderr",
     "output_type": "stream",
     "text": [
      "Epoch 196, global step 19700: 'train_loss' was not in top 1\n"
     ]
    },
    {
     "name": "stdout",
     "output_type": "stream",
     "text": [
      "Epoch 197: |                                               | 100/? [00:10<00:00,  9.14it/s, v_num=23, train_loss=28.40]"
     ]
    },
    {
     "name": "stderr",
     "output_type": "stream",
     "text": [
      "Epoch 197, global step 19800: 'train_loss' was not in top 1\n"
     ]
    },
    {
     "name": "stdout",
     "output_type": "stream",
     "text": [
      "Epoch 198: |                                               | 100/? [00:10<00:00,  9.10it/s, v_num=23, train_loss=31.30]"
     ]
    },
    {
     "name": "stderr",
     "output_type": "stream",
     "text": [
      "Epoch 198, global step 19900: 'train_loss' was not in top 1\n"
     ]
    },
    {
     "name": "stdout",
     "output_type": "stream",
     "text": [
      "Epoch 199: |                                               | 100/? [00:11<00:00,  9.07it/s, v_num=23, train_loss=29.40]"
     ]
    },
    {
     "name": "stderr",
     "output_type": "stream",
     "text": [
      "Epoch 199, global step 20000: 'train_loss' was not in top 1\n"
     ]
    },
    {
     "name": "stdout",
     "output_type": "stream",
     "text": [
      "Epoch 200: |                                               | 100/? [00:11<00:00,  9.05it/s, v_num=23, train_loss=30.20]"
     ]
    },
    {
     "name": "stderr",
     "output_type": "stream",
     "text": [
      "Epoch 200, global step 20100: 'train_loss' was not in top 1\n"
     ]
    },
    {
     "name": "stdout",
     "output_type": "stream",
     "text": [
      "Epoch 201: |                                               | 100/? [00:10<00:00,  9.10it/s, v_num=23, train_loss=29.60]"
     ]
    },
    {
     "name": "stderr",
     "output_type": "stream",
     "text": [
      "Epoch 201, global step 20200: 'train_loss' was not in top 1\n"
     ]
    },
    {
     "name": "stdout",
     "output_type": "stream",
     "text": [
      "Epoch 202: |                                               | 100/? [00:10<00:00,  9.15it/s, v_num=23, train_loss=31.00]"
     ]
    },
    {
     "name": "stderr",
     "output_type": "stream",
     "text": [
      "Epoch 202, global step 20300: 'train_loss' was not in top 1\n"
     ]
    },
    {
     "name": "stdout",
     "output_type": "stream",
     "text": [
      "Epoch 203: |                                               | 100/? [00:11<00:00,  9.06it/s, v_num=23, train_loss=29.00]"
     ]
    },
    {
     "name": "stderr",
     "output_type": "stream",
     "text": [
      "Epoch 203, global step 20400: 'train_loss' was not in top 1\n"
     ]
    },
    {
     "name": "stdout",
     "output_type": "stream",
     "text": [
      "Epoch 204: |                                               | 100/? [00:10<00:00,  9.11it/s, v_num=23, train_loss=24.10]"
     ]
    },
    {
     "name": "stderr",
     "output_type": "stream",
     "text": [
      "Epoch 204, global step 20500: 'train_loss' reached 24.06706 (best 24.06706), saving model to 'C:\\\\Users\\\\falty\\\\Desktop\\\\GZS\\\\trading\\\\options\\\\tft\\\\ron\\\\lightning_logs\\\\version_23\\\\checkpoints\\\\epoch=204-step=20500.ckpt' as top 1\n"
     ]
    },
    {
     "name": "stdout",
     "output_type": "stream",
     "text": [
      "Epoch 205: |                                               | 100/? [00:10<00:00,  9.19it/s, v_num=23, train_loss=22.10]"
     ]
    },
    {
     "name": "stderr",
     "output_type": "stream",
     "text": [
      "Epoch 205, global step 20600: 'train_loss' reached 22.12563 (best 22.12563), saving model to 'C:\\\\Users\\\\falty\\\\Desktop\\\\GZS\\\\trading\\\\options\\\\tft\\\\ron\\\\lightning_logs\\\\version_23\\\\checkpoints\\\\epoch=205-step=20600.ckpt' as top 1\n"
     ]
    },
    {
     "name": "stdout",
     "output_type": "stream",
     "text": [
      "Epoch 206: |                                               | 100/? [00:10<00:00,  9.12it/s, v_num=23, train_loss=21.30]"
     ]
    },
    {
     "name": "stderr",
     "output_type": "stream",
     "text": [
      "Epoch 206, global step 20700: 'train_loss' reached 21.32175 (best 21.32175), saving model to 'C:\\\\Users\\\\falty\\\\Desktop\\\\GZS\\\\trading\\\\options\\\\tft\\\\ron\\\\lightning_logs\\\\version_23\\\\checkpoints\\\\epoch=206-step=20700.ckpt' as top 1\n"
     ]
    },
    {
     "name": "stdout",
     "output_type": "stream",
     "text": [
      "Epoch 207: |                                               | 100/? [00:10<00:00,  9.11it/s, v_num=23, train_loss=21.80]"
     ]
    },
    {
     "name": "stderr",
     "output_type": "stream",
     "text": [
      "Epoch 207, global step 20800: 'train_loss' was not in top 1\n"
     ]
    },
    {
     "name": "stdout",
     "output_type": "stream",
     "text": [
      "Epoch 208: |                                               | 100/? [00:10<00:00,  9.14it/s, v_num=23, train_loss=21.90]"
     ]
    },
    {
     "name": "stderr",
     "output_type": "stream",
     "text": [
      "Epoch 208, global step 20900: 'train_loss' was not in top 1\n"
     ]
    },
    {
     "name": "stdout",
     "output_type": "stream",
     "text": [
      "Epoch 209: |                                               | 100/? [00:11<00:00,  9.09it/s, v_num=23, train_loss=21.00]"
     ]
    },
    {
     "name": "stderr",
     "output_type": "stream",
     "text": [
      "Epoch 209, global step 21000: 'train_loss' reached 21.01992 (best 21.01992), saving model to 'C:\\\\Users\\\\falty\\\\Desktop\\\\GZS\\\\trading\\\\options\\\\tft\\\\ron\\\\lightning_logs\\\\version_23\\\\checkpoints\\\\epoch=209-step=21000.ckpt' as top 1\n"
     ]
    },
    {
     "name": "stdout",
     "output_type": "stream",
     "text": [
      "Epoch 210: |                                               | 100/? [00:10<00:00,  9.11it/s, v_num=23, train_loss=20.10]"
     ]
    },
    {
     "name": "stderr",
     "output_type": "stream",
     "text": [
      "Epoch 210, global step 21100: 'train_loss' reached 20.09240 (best 20.09240), saving model to 'C:\\\\Users\\\\falty\\\\Desktop\\\\GZS\\\\trading\\\\options\\\\tft\\\\ron\\\\lightning_logs\\\\version_23\\\\checkpoints\\\\epoch=210-step=21100.ckpt' as top 1\n"
     ]
    },
    {
     "name": "stdout",
     "output_type": "stream",
     "text": [
      "Epoch 211: |                                               | 100/? [00:11<00:00,  9.04it/s, v_num=23, train_loss=20.20]"
     ]
    },
    {
     "name": "stderr",
     "output_type": "stream",
     "text": [
      "Epoch 211, global step 21200: 'train_loss' was not in top 1\n"
     ]
    },
    {
     "name": "stdout",
     "output_type": "stream",
     "text": [
      "Epoch 212: |                                               | 100/? [00:10<00:00,  9.16it/s, v_num=23, train_loss=19.60]"
     ]
    },
    {
     "name": "stderr",
     "output_type": "stream",
     "text": [
      "Epoch 212, global step 21300: 'train_loss' reached 19.64675 (best 19.64675), saving model to 'C:\\\\Users\\\\falty\\\\Desktop\\\\GZS\\\\trading\\\\options\\\\tft\\\\ron\\\\lightning_logs\\\\version_23\\\\checkpoints\\\\epoch=212-step=21300.ckpt' as top 1\n"
     ]
    },
    {
     "name": "stdout",
     "output_type": "stream",
     "text": [
      "Epoch 213: |                                               | 100/? [00:11<00:00,  9.03it/s, v_num=23, train_loss=20.10]"
     ]
    },
    {
     "name": "stderr",
     "output_type": "stream",
     "text": [
      "Epoch 213, global step 21400: 'train_loss' was not in top 1\n"
     ]
    },
    {
     "name": "stdout",
     "output_type": "stream",
     "text": [
      "Epoch 214: |                                               | 100/? [00:10<00:00,  9.10it/s, v_num=23, train_loss=20.30]"
     ]
    },
    {
     "name": "stderr",
     "output_type": "stream",
     "text": [
      "Epoch 214, global step 21500: 'train_loss' was not in top 1\n"
     ]
    },
    {
     "name": "stdout",
     "output_type": "stream",
     "text": [
      "Epoch 215: |                                               | 100/? [00:10<00:00,  9.25it/s, v_num=23, train_loss=19.80]"
     ]
    },
    {
     "name": "stderr",
     "output_type": "stream",
     "text": [
      "Epoch 215, global step 21600: 'train_loss' was not in top 1\n"
     ]
    },
    {
     "name": "stdout",
     "output_type": "stream",
     "text": [
      "Epoch 216: |                                               | 100/? [00:10<00:00,  9.14it/s, v_num=23, train_loss=19.80]"
     ]
    },
    {
     "name": "stderr",
     "output_type": "stream",
     "text": [
      "Epoch 216, global step 21700: 'train_loss' was not in top 1\n"
     ]
    },
    {
     "name": "stdout",
     "output_type": "stream",
     "text": [
      "Epoch 217: |                                               | 100/? [00:10<00:00,  9.17it/s, v_num=23, train_loss=19.90]"
     ]
    },
    {
     "name": "stderr",
     "output_type": "stream",
     "text": [
      "Epoch 217, global step 21800: 'train_loss' was not in top 1\n"
     ]
    },
    {
     "name": "stdout",
     "output_type": "stream",
     "text": [
      "Epoch 218: |                                               | 100/? [00:10<00:00,  9.13it/s, v_num=23, train_loss=20.70]"
     ]
    },
    {
     "name": "stderr",
     "output_type": "stream",
     "text": [
      "Epoch 218, global step 21900: 'train_loss' was not in top 1\n"
     ]
    },
    {
     "name": "stdout",
     "output_type": "stream",
     "text": [
      "Epoch 219: |                                               | 100/? [00:11<00:00,  9.06it/s, v_num=23, train_loss=21.50]"
     ]
    },
    {
     "name": "stderr",
     "output_type": "stream",
     "text": [
      "Epoch 219, global step 22000: 'train_loss' was not in top 1\n"
     ]
    },
    {
     "name": "stdout",
     "output_type": "stream",
     "text": [
      "Epoch 220: |                                               | 100/? [00:10<00:00,  9.16it/s, v_num=23, train_loss=20.90]"
     ]
    },
    {
     "name": "stderr",
     "output_type": "stream",
     "text": [
      "Epoch 220, global step 22100: 'train_loss' was not in top 1\n"
     ]
    },
    {
     "name": "stdout",
     "output_type": "stream",
     "text": [
      "Epoch 221: |                                               | 100/? [00:11<00:00,  9.03it/s, v_num=23, train_loss=20.60]"
     ]
    },
    {
     "name": "stderr",
     "output_type": "stream",
     "text": [
      "Epoch 221, global step 22200: 'train_loss' was not in top 1\n"
     ]
    },
    {
     "name": "stdout",
     "output_type": "stream",
     "text": [
      "Epoch 222: |                                               | 100/? [00:11<00:00,  9.07it/s, v_num=23, train_loss=21.10]"
     ]
    },
    {
     "name": "stderr",
     "output_type": "stream",
     "text": [
      "Epoch 222, global step 22300: 'train_loss' was not in top 1\n"
     ]
    },
    {
     "name": "stdout",
     "output_type": "stream",
     "text": [
      "Epoch 223: |                                               | 100/? [00:11<00:00,  9.08it/s, v_num=23, train_loss=19.00]"
     ]
    },
    {
     "name": "stderr",
     "output_type": "stream",
     "text": [
      "Epoch 223, global step 22400: 'train_loss' reached 19.04536 (best 19.04536), saving model to 'C:\\\\Users\\\\falty\\\\Desktop\\\\GZS\\\\trading\\\\options\\\\tft\\\\ron\\\\lightning_logs\\\\version_23\\\\checkpoints\\\\epoch=223-step=22400.ckpt' as top 1\n"
     ]
    },
    {
     "name": "stdout",
     "output_type": "stream",
     "text": [
      "Epoch 224: |                                               | 100/? [00:10<00:00,  9.16it/s, v_num=23, train_loss=20.20]"
     ]
    },
    {
     "name": "stderr",
     "output_type": "stream",
     "text": [
      "Epoch 224, global step 22500: 'train_loss' was not in top 1\n"
     ]
    },
    {
     "name": "stdout",
     "output_type": "stream",
     "text": [
      "Epoch 225: |                                               | 100/? [00:10<00:00,  9.10it/s, v_num=23, train_loss=21.90]"
     ]
    },
    {
     "name": "stderr",
     "output_type": "stream",
     "text": [
      "Epoch 225, global step 22600: 'train_loss' was not in top 1\n"
     ]
    },
    {
     "name": "stdout",
     "output_type": "stream",
     "text": [
      "Epoch 226: |                                               | 100/? [00:11<00:00,  9.05it/s, v_num=23, train_loss=20.90]"
     ]
    },
    {
     "name": "stderr",
     "output_type": "stream",
     "text": [
      "Epoch 226, global step 22700: 'train_loss' was not in top 1\n"
     ]
    },
    {
     "name": "stdout",
     "output_type": "stream",
     "text": [
      "Epoch 227: |                                               | 100/? [00:10<00:00,  9.21it/s, v_num=23, train_loss=19.60]"
     ]
    },
    {
     "name": "stderr",
     "output_type": "stream",
     "text": [
      "Epoch 227, global step 22800: 'train_loss' was not in top 1\n"
     ]
    },
    {
     "name": "stdout",
     "output_type": "stream",
     "text": [
      "Epoch 228: |                                               | 100/? [00:11<00:00,  9.05it/s, v_num=23, train_loss=18.30]"
     ]
    },
    {
     "name": "stderr",
     "output_type": "stream",
     "text": [
      "Epoch 228, global step 22900: 'train_loss' reached 18.25319 (best 18.25319), saving model to 'C:\\\\Users\\\\falty\\\\Desktop\\\\GZS\\\\trading\\\\options\\\\tft\\\\ron\\\\lightning_logs\\\\version_23\\\\checkpoints\\\\epoch=228-step=22900.ckpt' as top 1\n"
     ]
    },
    {
     "name": "stdout",
     "output_type": "stream",
     "text": [
      "Epoch 229: |                                               | 100/? [00:10<00:00,  9.12it/s, v_num=23, train_loss=21.60]"
     ]
    },
    {
     "name": "stderr",
     "output_type": "stream",
     "text": [
      "Epoch 229, global step 23000: 'train_loss' was not in top 1\n"
     ]
    },
    {
     "name": "stdout",
     "output_type": "stream",
     "text": [
      "Epoch 230: |                                               | 100/? [00:10<00:00,  9.10it/s, v_num=23, train_loss=19.60]"
     ]
    },
    {
     "name": "stderr",
     "output_type": "stream",
     "text": [
      "Epoch 230, global step 23100: 'train_loss' was not in top 1\n"
     ]
    },
    {
     "name": "stdout",
     "output_type": "stream",
     "text": [
      "Epoch 231: |                                               | 100/? [00:10<00:00,  9.16it/s, v_num=23, train_loss=19.90]"
     ]
    },
    {
     "name": "stderr",
     "output_type": "stream",
     "text": [
      "Epoch 231, global step 23200: 'train_loss' was not in top 1\n"
     ]
    },
    {
     "name": "stdout",
     "output_type": "stream",
     "text": [
      "Epoch 232: |                                               | 100/? [00:10<00:00,  9.14it/s, v_num=23, train_loss=21.10]"
     ]
    },
    {
     "name": "stderr",
     "output_type": "stream",
     "text": [
      "Epoch 232, global step 23300: 'train_loss' was not in top 1\n"
     ]
    },
    {
     "name": "stdout",
     "output_type": "stream",
     "text": [
      "Epoch 233: |                                               | 100/? [00:10<00:00,  9.12it/s, v_num=23, train_loss=18.90]"
     ]
    },
    {
     "name": "stderr",
     "output_type": "stream",
     "text": [
      "Epoch 233, global step 23400: 'train_loss' was not in top 1\n"
     ]
    },
    {
     "name": "stdout",
     "output_type": "stream",
     "text": [
      "Epoch 234: |                                               | 100/? [00:10<00:00,  9.13it/s, v_num=23, train_loss=20.20]"
     ]
    },
    {
     "name": "stderr",
     "output_type": "stream",
     "text": [
      "Epoch 234, global step 23500: 'train_loss' was not in top 1\n"
     ]
    },
    {
     "name": "stdout",
     "output_type": "stream",
     "text": [
      "Epoch 235: |                                               | 100/? [00:10<00:00,  9.16it/s, v_num=23, train_loss=19.30]"
     ]
    },
    {
     "name": "stderr",
     "output_type": "stream",
     "text": [
      "Epoch 235, global step 23600: 'train_loss' was not in top 1\n"
     ]
    },
    {
     "name": "stdout",
     "output_type": "stream",
     "text": [
      "Epoch 236: |                                               | 100/? [00:11<00:00,  9.07it/s, v_num=23, train_loss=19.30]"
     ]
    },
    {
     "name": "stderr",
     "output_type": "stream",
     "text": [
      "Epoch 236, global step 23700: 'train_loss' was not in top 1\n"
     ]
    },
    {
     "name": "stdout",
     "output_type": "stream",
     "text": [
      "Epoch 237: |                                               | 100/? [00:11<00:00,  9.08it/s, v_num=23, train_loss=20.00]"
     ]
    },
    {
     "name": "stderr",
     "output_type": "stream",
     "text": [
      "Epoch 237, global step 23800: 'train_loss' was not in top 1\n"
     ]
    },
    {
     "name": "stdout",
     "output_type": "stream",
     "text": [
      "Epoch 238: |                                               | 100/? [00:10<00:00,  9.12it/s, v_num=23, train_loss=18.90]"
     ]
    },
    {
     "name": "stderr",
     "output_type": "stream",
     "text": [
      "Epoch 238, global step 23900: 'train_loss' was not in top 1\n"
     ]
    },
    {
     "name": "stdout",
     "output_type": "stream",
     "text": [
      "Epoch 239: |                                               | 100/? [00:10<00:00,  9.15it/s, v_num=23, train_loss=19.50]"
     ]
    },
    {
     "name": "stderr",
     "output_type": "stream",
     "text": [
      "Epoch 239, global step 24000: 'train_loss' was not in top 1\n"
     ]
    },
    {
     "name": "stdout",
     "output_type": "stream",
     "text": [
      "Epoch 240: |                                               | 100/? [00:11<00:00,  9.08it/s, v_num=23, train_loss=19.10]"
     ]
    },
    {
     "name": "stderr",
     "output_type": "stream",
     "text": [
      "Epoch 240, global step 24100: 'train_loss' was not in top 1\n"
     ]
    },
    {
     "name": "stdout",
     "output_type": "stream",
     "text": [
      "Epoch 241: |                                               | 100/? [00:10<00:00,  9.12it/s, v_num=23, train_loss=17.00]"
     ]
    },
    {
     "name": "stderr",
     "output_type": "stream",
     "text": [
      "Epoch 241, global step 24200: 'train_loss' reached 17.03201 (best 17.03201), saving model to 'C:\\\\Users\\\\falty\\\\Desktop\\\\GZS\\\\trading\\\\options\\\\tft\\\\ron\\\\lightning_logs\\\\version_23\\\\checkpoints\\\\epoch=241-step=24200.ckpt' as top 1\n"
     ]
    },
    {
     "name": "stdout",
     "output_type": "stream",
     "text": [
      "Epoch 242: |                                               | 100/? [00:11<00:00,  9.08it/s, v_num=23, train_loss=14.80]"
     ]
    },
    {
     "name": "stderr",
     "output_type": "stream",
     "text": [
      "Epoch 242, global step 24300: 'train_loss' reached 14.80746 (best 14.80746), saving model to 'C:\\\\Users\\\\falty\\\\Desktop\\\\GZS\\\\trading\\\\options\\\\tft\\\\ron\\\\lightning_logs\\\\version_23\\\\checkpoints\\\\epoch=242-step=24300.ckpt' as top 1\n"
     ]
    },
    {
     "name": "stdout",
     "output_type": "stream",
     "text": [
      "Epoch 243: |                                               | 100/? [00:10<00:00,  9.16it/s, v_num=23, train_loss=15.90]"
     ]
    },
    {
     "name": "stderr",
     "output_type": "stream",
     "text": [
      "Epoch 243, global step 24400: 'train_loss' was not in top 1\n"
     ]
    },
    {
     "name": "stdout",
     "output_type": "stream",
     "text": [
      "Epoch 244: |                                               | 100/? [00:11<00:00,  9.08it/s, v_num=23, train_loss=16.20]"
     ]
    },
    {
     "name": "stderr",
     "output_type": "stream",
     "text": [
      "Epoch 244, global step 24500: 'train_loss' was not in top 1\n"
     ]
    },
    {
     "name": "stdout",
     "output_type": "stream",
     "text": [
      "Epoch 245: |                                               | 100/? [00:10<00:00,  9.09it/s, v_num=23, train_loss=16.20]"
     ]
    },
    {
     "name": "stderr",
     "output_type": "stream",
     "text": [
      "Epoch 245, global step 24600: 'train_loss' was not in top 1\n"
     ]
    },
    {
     "name": "stdout",
     "output_type": "stream",
     "text": [
      "Epoch 246: |                                               | 100/? [00:10<00:00,  9.16it/s, v_num=23, train_loss=15.70]"
     ]
    },
    {
     "name": "stderr",
     "output_type": "stream",
     "text": [
      "Epoch 246, global step 24700: 'train_loss' was not in top 1\n"
     ]
    },
    {
     "name": "stdout",
     "output_type": "stream",
     "text": [
      "Epoch 247: |                                               | 100/? [00:10<00:00,  9.11it/s, v_num=23, train_loss=14.80]"
     ]
    },
    {
     "name": "stderr",
     "output_type": "stream",
     "text": [
      "Epoch 247, global step 24800: 'train_loss' reached 14.76637 (best 14.76637), saving model to 'C:\\\\Users\\\\falty\\\\Desktop\\\\GZS\\\\trading\\\\options\\\\tft\\\\ron\\\\lightning_logs\\\\version_23\\\\checkpoints\\\\epoch=247-step=24800.ckpt' as top 1\n"
     ]
    },
    {
     "name": "stdout",
     "output_type": "stream",
     "text": [
      "Epoch 248: |                                               | 100/? [00:10<00:00,  9.11it/s, v_num=23, train_loss=15.10]"
     ]
    },
    {
     "name": "stderr",
     "output_type": "stream",
     "text": [
      "Epoch 248, global step 24900: 'train_loss' was not in top 1\n"
     ]
    },
    {
     "name": "stdout",
     "output_type": "stream",
     "text": [
      "Epoch 249: |                                               | 100/? [00:10<00:00,  9.12it/s, v_num=23, train_loss=16.30]"
     ]
    },
    {
     "name": "stderr",
     "output_type": "stream",
     "text": [
      "Epoch 249, global step 25000: 'train_loss' was not in top 1\n"
     ]
    },
    {
     "name": "stdout",
     "output_type": "stream",
     "text": [
      "Epoch 250: |                                               | 100/? [00:10<00:00,  9.10it/s, v_num=23, train_loss=15.40]"
     ]
    },
    {
     "name": "stderr",
     "output_type": "stream",
     "text": [
      "Epoch 250, global step 25100: 'train_loss' was not in top 1\n"
     ]
    },
    {
     "name": "stdout",
     "output_type": "stream",
     "text": [
      "Epoch 251: |                                               | 100/? [00:10<00:00,  9.12it/s, v_num=23, train_loss=15.10]"
     ]
    },
    {
     "name": "stderr",
     "output_type": "stream",
     "text": [
      "Epoch 251, global step 25200: 'train_loss' was not in top 1\n"
     ]
    },
    {
     "name": "stdout",
     "output_type": "stream",
     "text": [
      "Epoch 252: |                                               | 100/? [00:11<00:00,  9.05it/s, v_num=23, train_loss=14.50]"
     ]
    },
    {
     "name": "stderr",
     "output_type": "stream",
     "text": [
      "Epoch 252, global step 25300: 'train_loss' reached 14.52927 (best 14.52927), saving model to 'C:\\\\Users\\\\falty\\\\Desktop\\\\GZS\\\\trading\\\\options\\\\tft\\\\ron\\\\lightning_logs\\\\version_23\\\\checkpoints\\\\epoch=252-step=25300.ckpt' as top 1\n"
     ]
    },
    {
     "name": "stdout",
     "output_type": "stream",
     "text": [
      "Epoch 253: |                                               | 100/? [00:10<00:00,  9.10it/s, v_num=23, train_loss=15.90]"
     ]
    },
    {
     "name": "stderr",
     "output_type": "stream",
     "text": [
      "Epoch 253, global step 25400: 'train_loss' was not in top 1\n"
     ]
    },
    {
     "name": "stdout",
     "output_type": "stream",
     "text": [
      "Epoch 254: |                                               | 100/? [00:10<00:00,  9.13it/s, v_num=23, train_loss=17.20]"
     ]
    },
    {
     "name": "stderr",
     "output_type": "stream",
     "text": [
      "Epoch 254, global step 25500: 'train_loss' was not in top 1\n"
     ]
    },
    {
     "name": "stdout",
     "output_type": "stream",
     "text": [
      "Epoch 255: |                                               | 100/? [00:10<00:00,  9.14it/s, v_num=23, train_loss=16.60]"
     ]
    },
    {
     "name": "stderr",
     "output_type": "stream",
     "text": [
      "Epoch 255, global step 25600: 'train_loss' was not in top 1\n"
     ]
    },
    {
     "name": "stdout",
     "output_type": "stream",
     "text": [
      "Epoch 256: |                                               | 100/? [00:11<00:00,  9.04it/s, v_num=23, train_loss=16.00]"
     ]
    },
    {
     "name": "stderr",
     "output_type": "stream",
     "text": [
      "Epoch 256, global step 25700: 'train_loss' was not in top 1\n"
     ]
    },
    {
     "name": "stdout",
     "output_type": "stream",
     "text": [
      "Epoch 257: |                                               | 100/? [00:10<00:00,  9.19it/s, v_num=23, train_loss=15.60]"
     ]
    },
    {
     "name": "stderr",
     "output_type": "stream",
     "text": [
      "Epoch 257, global step 25800: 'train_loss' was not in top 1\n"
     ]
    },
    {
     "name": "stdout",
     "output_type": "stream",
     "text": [
      "Epoch 258: |                                               | 100/? [00:11<00:00,  9.01it/s, v_num=23, train_loss=16.30]"
     ]
    },
    {
     "name": "stderr",
     "output_type": "stream",
     "text": [
      "Epoch 258, global step 25900: 'train_loss' was not in top 1\n"
     ]
    },
    {
     "name": "stdout",
     "output_type": "stream",
     "text": [
      "Epoch 259: |                                               | 100/? [00:10<00:00,  9.10it/s, v_num=23, train_loss=15.70]"
     ]
    },
    {
     "name": "stderr",
     "output_type": "stream",
     "text": [
      "Epoch 259, global step 26000: 'train_loss' was not in top 1\n"
     ]
    },
    {
     "name": "stdout",
     "output_type": "stream",
     "text": [
      "Epoch 260: |                                               | 100/? [00:10<00:00,  9.18it/s, v_num=23, train_loss=16.00]"
     ]
    },
    {
     "name": "stderr",
     "output_type": "stream",
     "text": [
      "Epoch 260, global step 26100: 'train_loss' was not in top 1\n"
     ]
    },
    {
     "name": "stdout",
     "output_type": "stream",
     "text": [
      "Epoch 261: |                                               | 100/? [00:10<00:00,  9.14it/s, v_num=23, train_loss=15.40]"
     ]
    },
    {
     "name": "stderr",
     "output_type": "stream",
     "text": [
      "Epoch 261, global step 26200: 'train_loss' was not in top 1\n"
     ]
    },
    {
     "name": "stdout",
     "output_type": "stream",
     "text": [
      "Epoch 262: |                                               | 100/? [00:10<00:00,  9.16it/s, v_num=23, train_loss=16.00]"
     ]
    },
    {
     "name": "stderr",
     "output_type": "stream",
     "text": [
      "Epoch 262, global step 26300: 'train_loss' was not in top 1\n"
     ]
    },
    {
     "name": "stdout",
     "output_type": "stream",
     "text": [
      "Epoch 263: |                                               | 100/? [00:10<00:00,  9.20it/s, v_num=23, train_loss=14.80]"
     ]
    },
    {
     "name": "stderr",
     "output_type": "stream",
     "text": [
      "Epoch 263, global step 26400: 'train_loss' was not in top 1\n"
     ]
    },
    {
     "name": "stdout",
     "output_type": "stream",
     "text": [
      "Epoch 264: |                                               | 100/? [00:11<00:00,  9.09it/s, v_num=23, train_loss=14.30]"
     ]
    },
    {
     "name": "stderr",
     "output_type": "stream",
     "text": [
      "Epoch 264, global step 26500: 'train_loss' reached 14.28965 (best 14.28965), saving model to 'C:\\\\Users\\\\falty\\\\Desktop\\\\GZS\\\\trading\\\\options\\\\tft\\\\ron\\\\lightning_logs\\\\version_23\\\\checkpoints\\\\epoch=264-step=26500.ckpt' as top 1\n"
     ]
    },
    {
     "name": "stdout",
     "output_type": "stream",
     "text": [
      "Epoch 265: |                                               | 100/? [00:11<00:00,  9.07it/s, v_num=23, train_loss=14.10]"
     ]
    },
    {
     "name": "stderr",
     "output_type": "stream",
     "text": [
      "Epoch 265, global step 26600: 'train_loss' reached 14.14404 (best 14.14404), saving model to 'C:\\\\Users\\\\falty\\\\Desktop\\\\GZS\\\\trading\\\\options\\\\tft\\\\ron\\\\lightning_logs\\\\version_23\\\\checkpoints\\\\epoch=265-step=26600.ckpt' as top 1\n"
     ]
    },
    {
     "name": "stdout",
     "output_type": "stream",
     "text": [
      "Epoch 266: |                                               | 100/? [00:10<00:00,  9.16it/s, v_num=23, train_loss=13.60]"
     ]
    },
    {
     "name": "stderr",
     "output_type": "stream",
     "text": [
      "Epoch 266, global step 26700: 'train_loss' reached 13.55906 (best 13.55906), saving model to 'C:\\\\Users\\\\falty\\\\Desktop\\\\GZS\\\\trading\\\\options\\\\tft\\\\ron\\\\lightning_logs\\\\version_23\\\\checkpoints\\\\epoch=266-step=26700.ckpt' as top 1\n"
     ]
    },
    {
     "name": "stdout",
     "output_type": "stream",
     "text": [
      "Epoch 267: |                                               | 100/? [00:10<00:00,  9.09it/s, v_num=23, train_loss=13.80]"
     ]
    },
    {
     "name": "stderr",
     "output_type": "stream",
     "text": [
      "Epoch 267, global step 26800: 'train_loss' was not in top 1\n"
     ]
    },
    {
     "name": "stdout",
     "output_type": "stream",
     "text": [
      "Epoch 268: |                                               | 100/? [00:10<00:00,  9.17it/s, v_num=23, train_loss=14.10]"
     ]
    },
    {
     "name": "stderr",
     "output_type": "stream",
     "text": [
      "Epoch 268, global step 26900: 'train_loss' was not in top 1\n"
     ]
    },
    {
     "name": "stdout",
     "output_type": "stream",
     "text": [
      "Epoch 269: |                                               | 100/? [00:11<00:00,  8.96it/s, v_num=23, train_loss=12.90]"
     ]
    },
    {
     "name": "stderr",
     "output_type": "stream",
     "text": [
      "Epoch 269, global step 27000: 'train_loss' reached 12.92820 (best 12.92820), saving model to 'C:\\\\Users\\\\falty\\\\Desktop\\\\GZS\\\\trading\\\\options\\\\tft\\\\ron\\\\lightning_logs\\\\version_23\\\\checkpoints\\\\epoch=269-step=27000.ckpt' as top 1\n"
     ]
    },
    {
     "name": "stdout",
     "output_type": "stream",
     "text": [
      "Epoch 270: |                                               | 100/? [00:10<00:00,  9.12it/s, v_num=23, train_loss=14.10]"
     ]
    },
    {
     "name": "stderr",
     "output_type": "stream",
     "text": [
      "Epoch 270, global step 27100: 'train_loss' was not in top 1\n"
     ]
    },
    {
     "name": "stdout",
     "output_type": "stream",
     "text": [
      "Epoch 271: |                                               | 100/? [00:10<00:00,  9.11it/s, v_num=23, train_loss=14.40]"
     ]
    },
    {
     "name": "stderr",
     "output_type": "stream",
     "text": [
      "Epoch 271, global step 27200: 'train_loss' was not in top 1\n"
     ]
    },
    {
     "name": "stdout",
     "output_type": "stream",
     "text": [
      "Epoch 272: |                                               | 100/? [00:11<00:00,  9.05it/s, v_num=23, train_loss=13.30]"
     ]
    },
    {
     "name": "stderr",
     "output_type": "stream",
     "text": [
      "Epoch 272, global step 27300: 'train_loss' was not in top 1\n"
     ]
    },
    {
     "name": "stdout",
     "output_type": "stream",
     "text": [
      "Epoch 273: |                                               | 100/? [00:10<00:00,  9.11it/s, v_num=23, train_loss=14.10]"
     ]
    },
    {
     "name": "stderr",
     "output_type": "stream",
     "text": [
      "Epoch 273, global step 27400: 'train_loss' was not in top 1\n"
     ]
    },
    {
     "name": "stdout",
     "output_type": "stream",
     "text": [
      "Epoch 274: |                                               | 100/? [00:10<00:00,  9.11it/s, v_num=23, train_loss=13.10]"
     ]
    },
    {
     "name": "stderr",
     "output_type": "stream",
     "text": [
      "Epoch 274, global step 27500: 'train_loss' was not in top 1\n"
     ]
    },
    {
     "name": "stdout",
     "output_type": "stream",
     "text": [
      "Epoch 275: |                                               | 100/? [00:11<00:00,  9.02it/s, v_num=23, train_loss=13.50]"
     ]
    },
    {
     "name": "stderr",
     "output_type": "stream",
     "text": [
      "Epoch 275, global step 27600: 'train_loss' was not in top 1\n"
     ]
    },
    {
     "name": "stdout",
     "output_type": "stream",
     "text": [
      "Epoch 276: |                                               | 100/? [00:11<00:00,  8.96it/s, v_num=23, train_loss=13.60]"
     ]
    },
    {
     "name": "stderr",
     "output_type": "stream",
     "text": [
      "Epoch 276, global step 27700: 'train_loss' was not in top 1\n"
     ]
    },
    {
     "name": "stdout",
     "output_type": "stream",
     "text": [
      "Epoch 277: |                                               | 100/? [00:11<00:00,  9.09it/s, v_num=23, train_loss=13.20]"
     ]
    },
    {
     "name": "stderr",
     "output_type": "stream",
     "text": [
      "Epoch 277, global step 27800: 'train_loss' was not in top 1\n"
     ]
    },
    {
     "name": "stdout",
     "output_type": "stream",
     "text": [
      "Epoch 278: |                                               | 100/? [00:10<00:00,  9.18it/s, v_num=23, train_loss=13.80]"
     ]
    },
    {
     "name": "stderr",
     "output_type": "stream",
     "text": [
      "Epoch 278, global step 27900: 'train_loss' was not in top 1\n"
     ]
    },
    {
     "name": "stdout",
     "output_type": "stream",
     "text": [
      "Epoch 279: |                                               | 100/? [00:11<00:00,  9.08it/s, v_num=23, train_loss=13.30]"
     ]
    },
    {
     "name": "stderr",
     "output_type": "stream",
     "text": [
      "Epoch 279, global step 28000: 'train_loss' was not in top 1\n"
     ]
    },
    {
     "name": "stdout",
     "output_type": "stream",
     "text": [
      "Epoch 280: |                                               | 100/? [00:11<00:00,  9.06it/s, v_num=23, train_loss=13.00]"
     ]
    },
    {
     "name": "stderr",
     "output_type": "stream",
     "text": [
      "Epoch 280, global step 28100: 'train_loss' was not in top 1\n"
     ]
    },
    {
     "name": "stdout",
     "output_type": "stream",
     "text": [
      "Epoch 281: |                                               | 100/? [00:10<00:00,  9.12it/s, v_num=23, train_loss=13.60]"
     ]
    },
    {
     "name": "stderr",
     "output_type": "stream",
     "text": [
      "Epoch 281, global step 28200: 'train_loss' was not in top 1\n"
     ]
    },
    {
     "name": "stdout",
     "output_type": "stream",
     "text": [
      "Epoch 282: |                                               | 100/? [00:11<00:00,  8.66it/s, v_num=23, train_loss=13.50]"
     ]
    },
    {
     "name": "stderr",
     "output_type": "stream",
     "text": [
      "Epoch 282, global step 28300: 'train_loss' was not in top 1\n"
     ]
    },
    {
     "name": "stdout",
     "output_type": "stream",
     "text": [
      "Epoch 283: |                                               | 100/? [00:11<00:00,  9.05it/s, v_num=23, train_loss=12.70]"
     ]
    },
    {
     "name": "stderr",
     "output_type": "stream",
     "text": [
      "Epoch 283, global step 28400: 'train_loss' reached 12.74246 (best 12.74246), saving model to 'C:\\\\Users\\\\falty\\\\Desktop\\\\GZS\\\\trading\\\\options\\\\tft\\\\ron\\\\lightning_logs\\\\version_23\\\\checkpoints\\\\epoch=283-step=28400.ckpt' as top 1\n"
     ]
    },
    {
     "name": "stdout",
     "output_type": "stream",
     "text": [
      "Epoch 284: |                                               | 100/? [00:10<00:00,  9.14it/s, v_num=23, train_loss=12.60]"
     ]
    },
    {
     "name": "stderr",
     "output_type": "stream",
     "text": [
      "Epoch 284, global step 28500: 'train_loss' reached 12.59805 (best 12.59805), saving model to 'C:\\\\Users\\\\falty\\\\Desktop\\\\GZS\\\\trading\\\\options\\\\tft\\\\ron\\\\lightning_logs\\\\version_23\\\\checkpoints\\\\epoch=284-step=28500.ckpt' as top 1\n"
     ]
    },
    {
     "name": "stdout",
     "output_type": "stream",
     "text": [
      "Epoch 285: |                                               | 100/? [00:10<00:00,  9.11it/s, v_num=23, train_loss=11.90]"
     ]
    },
    {
     "name": "stderr",
     "output_type": "stream",
     "text": [
      "Epoch 285, global step 28600: 'train_loss' reached 11.92185 (best 11.92185), saving model to 'C:\\\\Users\\\\falty\\\\Desktop\\\\GZS\\\\trading\\\\options\\\\tft\\\\ron\\\\lightning_logs\\\\version_23\\\\checkpoints\\\\epoch=285-step=28600.ckpt' as top 1\n"
     ]
    },
    {
     "name": "stdout",
     "output_type": "stream",
     "text": [
      "Epoch 286: |                                               | 100/? [00:10<00:00,  9.13it/s, v_num=23, train_loss=12.80]"
     ]
    },
    {
     "name": "stderr",
     "output_type": "stream",
     "text": [
      "Epoch 286, global step 28700: 'train_loss' was not in top 1\n"
     ]
    },
    {
     "name": "stdout",
     "output_type": "stream",
     "text": [
      "Epoch 287: |                                               | 100/? [00:10<00:00,  9.13it/s, v_num=23, train_loss=12.20]"
     ]
    },
    {
     "name": "stderr",
     "output_type": "stream",
     "text": [
      "Epoch 287, global step 28800: 'train_loss' was not in top 1\n"
     ]
    },
    {
     "name": "stdout",
     "output_type": "stream",
     "text": [
      "Epoch 288: |                                               | 100/? [00:10<00:00,  9.16it/s, v_num=23, train_loss=13.10]"
     ]
    },
    {
     "name": "stderr",
     "output_type": "stream",
     "text": [
      "Epoch 288, global step 28900: 'train_loss' was not in top 1\n"
     ]
    },
    {
     "name": "stdout",
     "output_type": "stream",
     "text": [
      "Epoch 289: |                                               | 100/? [00:11<00:00,  8.94it/s, v_num=23, train_loss=11.50]"
     ]
    },
    {
     "name": "stderr",
     "output_type": "stream",
     "text": [
      "Epoch 289, global step 29000: 'train_loss' reached 11.49659 (best 11.49659), saving model to 'C:\\\\Users\\\\falty\\\\Desktop\\\\GZS\\\\trading\\\\options\\\\tft\\\\ron\\\\lightning_logs\\\\version_23\\\\checkpoints\\\\epoch=289-step=29000.ckpt' as top 1\n"
     ]
    },
    {
     "name": "stdout",
     "output_type": "stream",
     "text": [
      "Epoch 290: |                                               | 100/? [00:11<00:00,  9.08it/s, v_num=23, train_loss=11.70]"
     ]
    },
    {
     "name": "stderr",
     "output_type": "stream",
     "text": [
      "Epoch 290, global step 29100: 'train_loss' was not in top 1\n"
     ]
    },
    {
     "name": "stdout",
     "output_type": "stream",
     "text": [
      "Epoch 291: |                                               | 100/? [00:11<00:00,  9.07it/s, v_num=23, train_loss=12.30]"
     ]
    },
    {
     "name": "stderr",
     "output_type": "stream",
     "text": [
      "Epoch 291, global step 29200: 'train_loss' was not in top 1\n"
     ]
    },
    {
     "name": "stdout",
     "output_type": "stream",
     "text": [
      "Epoch 292: |                                               | 100/? [00:10<00:00,  9.17it/s, v_num=23, train_loss=12.20]"
     ]
    },
    {
     "name": "stderr",
     "output_type": "stream",
     "text": [
      "Epoch 292, global step 29300: 'train_loss' was not in top 1\n"
     ]
    },
    {
     "name": "stdout",
     "output_type": "stream",
     "text": [
      "Epoch 293: |                                               | 100/? [00:10<00:00,  9.13it/s, v_num=23, train_loss=12.50]"
     ]
    },
    {
     "name": "stderr",
     "output_type": "stream",
     "text": [
      "Epoch 293, global step 29400: 'train_loss' was not in top 1\n"
     ]
    },
    {
     "name": "stdout",
     "output_type": "stream",
     "text": [
      "Epoch 294: |                                               | 100/? [00:10<00:00,  9.11it/s, v_num=23, train_loss=12.60]"
     ]
    },
    {
     "name": "stderr",
     "output_type": "stream",
     "text": [
      "Epoch 294, global step 29500: 'train_loss' was not in top 1\n"
     ]
    },
    {
     "name": "stdout",
     "output_type": "stream",
     "text": [
      "Epoch 295: |                                               | 100/? [00:11<00:00,  9.06it/s, v_num=23, train_loss=12.30]"
     ]
    },
    {
     "name": "stderr",
     "output_type": "stream",
     "text": [
      "Epoch 295, global step 29600: 'train_loss' was not in top 1\n"
     ]
    },
    {
     "name": "stdout",
     "output_type": "stream",
     "text": [
      "Epoch 296: |                                               | 100/? [00:11<00:00,  9.09it/s, v_num=23, train_loss=12.50]"
     ]
    },
    {
     "name": "stderr",
     "output_type": "stream",
     "text": [
      "Epoch 296, global step 29700: 'train_loss' was not in top 1\n"
     ]
    },
    {
     "name": "stdout",
     "output_type": "stream",
     "text": [
      "Epoch 297: |                                               | 100/? [00:11<00:00,  9.07it/s, v_num=23, train_loss=12.20]"
     ]
    },
    {
     "name": "stderr",
     "output_type": "stream",
     "text": [
      "Epoch 297, global step 29800: 'train_loss' was not in top 1\n"
     ]
    },
    {
     "name": "stdout",
     "output_type": "stream",
     "text": [
      "Epoch 298: |                                               | 100/? [00:11<00:00,  9.01it/s, v_num=23, train_loss=13.10]"
     ]
    },
    {
     "name": "stderr",
     "output_type": "stream",
     "text": [
      "Epoch 298, global step 29900: 'train_loss' was not in top 1\n"
     ]
    },
    {
     "name": "stdout",
     "output_type": "stream",
     "text": [
      "Epoch 299: |                                               | 100/? [00:10<00:00,  9.18it/s, v_num=23, train_loss=12.50]"
     ]
    },
    {
     "name": "stderr",
     "output_type": "stream",
     "text": [
      "Epoch 299, global step 30000: 'train_loss' was not in top 1\n"
     ]
    },
    {
     "name": "stdout",
     "output_type": "stream",
     "text": [
      "Epoch 300: |                                               | 100/? [00:11<00:00,  9.03it/s, v_num=23, train_loss=12.60]"
     ]
    },
    {
     "name": "stderr",
     "output_type": "stream",
     "text": [
      "Epoch 300, global step 30100: 'train_loss' was not in top 1\n"
     ]
    },
    {
     "name": "stdout",
     "output_type": "stream",
     "text": [
      "Epoch 301: |                                               | 100/? [00:11<00:00,  9.08it/s, v_num=23, train_loss=12.10]"
     ]
    },
    {
     "name": "stderr",
     "output_type": "stream",
     "text": [
      "Epoch 301, global step 30200: 'train_loss' was not in top 1\n"
     ]
    },
    {
     "name": "stdout",
     "output_type": "stream",
     "text": [
      "Epoch 302: |                                               | 100/? [00:10<00:00,  9.11it/s, v_num=23, train_loss=11.30]"
     ]
    },
    {
     "name": "stderr",
     "output_type": "stream",
     "text": [
      "Epoch 302, global step 30300: 'train_loss' reached 11.25764 (best 11.25764), saving model to 'C:\\\\Users\\\\falty\\\\Desktop\\\\GZS\\\\trading\\\\options\\\\tft\\\\ron\\\\lightning_logs\\\\version_23\\\\checkpoints\\\\epoch=302-step=30300.ckpt' as top 1\n"
     ]
    },
    {
     "name": "stdout",
     "output_type": "stream",
     "text": [
      "Epoch 303: |                                               | 100/? [00:11<00:00,  9.01it/s, v_num=23, train_loss=12.20]"
     ]
    },
    {
     "name": "stderr",
     "output_type": "stream",
     "text": [
      "Epoch 303, global step 30400: 'train_loss' was not in top 1\n"
     ]
    },
    {
     "name": "stdout",
     "output_type": "stream",
     "text": [
      "Epoch 304: |                                               | 100/? [00:10<00:00,  9.12it/s, v_num=23, train_loss=12.20]"
     ]
    },
    {
     "name": "stderr",
     "output_type": "stream",
     "text": [
      "Epoch 304, global step 30500: 'train_loss' was not in top 1\n"
     ]
    },
    {
     "name": "stdout",
     "output_type": "stream",
     "text": [
      "Epoch 305: |                                               | 100/? [00:11<00:00,  9.06it/s, v_num=23, train_loss=11.80]"
     ]
    },
    {
     "name": "stderr",
     "output_type": "stream",
     "text": [
      "Epoch 305, global step 30600: 'train_loss' was not in top 1\n"
     ]
    },
    {
     "name": "stdout",
     "output_type": "stream",
     "text": [
      "Epoch 306: |                                               | 100/? [00:10<00:00,  9.13it/s, v_num=23, train_loss=11.80]"
     ]
    },
    {
     "name": "stderr",
     "output_type": "stream",
     "text": [
      "Epoch 306, global step 30700: 'train_loss' was not in top 1\n"
     ]
    },
    {
     "name": "stdout",
     "output_type": "stream",
     "text": [
      "Epoch 307: |                                               | 100/? [00:10<00:00,  9.09it/s, v_num=23, train_loss=12.20]"
     ]
    },
    {
     "name": "stderr",
     "output_type": "stream",
     "text": [
      "Epoch 307, global step 30800: 'train_loss' was not in top 1\n"
     ]
    },
    {
     "name": "stdout",
     "output_type": "stream",
     "text": [
      "Epoch 308: |                                               | 100/? [00:11<00:00,  9.09it/s, v_num=23, train_loss=12.40]"
     ]
    },
    {
     "name": "stderr",
     "output_type": "stream",
     "text": [
      "Epoch 308, global step 30900: 'train_loss' was not in top 1\n"
     ]
    },
    {
     "name": "stdout",
     "output_type": "stream",
     "text": [
      "Epoch 309: |                                               | 100/? [00:11<00:00,  9.07it/s, v_num=23, train_loss=12.30]"
     ]
    },
    {
     "name": "stderr",
     "output_type": "stream",
     "text": [
      "Epoch 309, global step 31000: 'train_loss' was not in top 1\n"
     ]
    },
    {
     "name": "stdout",
     "output_type": "stream",
     "text": [
      "Epoch 310: |                                               | 100/? [00:10<00:00,  9.14it/s, v_num=23, train_loss=11.80]"
     ]
    },
    {
     "name": "stderr",
     "output_type": "stream",
     "text": [
      "Epoch 310, global step 31100: 'train_loss' was not in top 1\n"
     ]
    },
    {
     "name": "stdout",
     "output_type": "stream",
     "text": [
      "Epoch 311: |                                               | 100/? [00:11<00:00,  9.08it/s, v_num=23, train_loss=12.10]"
     ]
    },
    {
     "name": "stderr",
     "output_type": "stream",
     "text": [
      "Epoch 311, global step 31200: 'train_loss' was not in top 1\n"
     ]
    },
    {
     "name": "stdout",
     "output_type": "stream",
     "text": [
      "Epoch 312: |                                               | 100/? [00:11<00:00,  9.06it/s, v_num=23, train_loss=12.00]"
     ]
    },
    {
     "name": "stderr",
     "output_type": "stream",
     "text": [
      "Epoch 312, global step 31300: 'train_loss' was not in top 1\n"
     ]
    },
    {
     "name": "stdout",
     "output_type": "stream",
     "text": [
      "Epoch 313: |                                               | 100/? [00:11<00:00,  9.06it/s, v_num=23, train_loss=11.80]"
     ]
    },
    {
     "name": "stderr",
     "output_type": "stream",
     "text": [
      "Epoch 313, global step 31400: 'train_loss' was not in top 1\n"
     ]
    },
    {
     "name": "stdout",
     "output_type": "stream",
     "text": [
      "Epoch 314: |                                               | 100/? [00:11<00:00,  9.08it/s, v_num=23, train_loss=11.10]"
     ]
    },
    {
     "name": "stderr",
     "output_type": "stream",
     "text": [
      "Epoch 314, global step 31500: 'train_loss' reached 11.14682 (best 11.14682), saving model to 'C:\\\\Users\\\\falty\\\\Desktop\\\\GZS\\\\trading\\\\options\\\\tft\\\\ron\\\\lightning_logs\\\\version_23\\\\checkpoints\\\\epoch=314-step=31500.ckpt' as top 1\n"
     ]
    },
    {
     "name": "stdout",
     "output_type": "stream",
     "text": [
      "Epoch 315: |                                               | 100/? [00:10<00:00,  9.14it/s, v_num=23, train_loss=12.50]"
     ]
    },
    {
     "name": "stderr",
     "output_type": "stream",
     "text": [
      "Epoch 315, global step 31600: 'train_loss' was not in top 1\n"
     ]
    },
    {
     "name": "stdout",
     "output_type": "stream",
     "text": [
      "Epoch 316: |                                               | 100/? [00:10<00:00,  9.12it/s, v_num=23, train_loss=11.90]"
     ]
    },
    {
     "name": "stderr",
     "output_type": "stream",
     "text": [
      "Epoch 316, global step 31700: 'train_loss' was not in top 1\n"
     ]
    },
    {
     "name": "stdout",
     "output_type": "stream",
     "text": [
      "Epoch 317: |                                               | 100/? [00:11<00:00,  9.07it/s, v_num=23, train_loss=13.00]"
     ]
    },
    {
     "name": "stderr",
     "output_type": "stream",
     "text": [
      "Epoch 317, global step 31800: 'train_loss' was not in top 1\n"
     ]
    },
    {
     "name": "stdout",
     "output_type": "stream",
     "text": [
      "Epoch 318: |                                               | 100/? [00:10<00:00,  9.13it/s, v_num=23, train_loss=12.00]"
     ]
    },
    {
     "name": "stderr",
     "output_type": "stream",
     "text": [
      "Epoch 318, global step 31900: 'train_loss' was not in top 1\n"
     ]
    },
    {
     "name": "stdout",
     "output_type": "stream",
     "text": [
      "Epoch 319: |                                               | 100/? [00:10<00:00,  9.10it/s, v_num=23, train_loss=12.00]"
     ]
    },
    {
     "name": "stderr",
     "output_type": "stream",
     "text": [
      "Epoch 319, global step 32000: 'train_loss' was not in top 1\n"
     ]
    },
    {
     "name": "stdout",
     "output_type": "stream",
     "text": [
      "Epoch 320: |                                               | 100/? [00:11<00:00,  9.08it/s, v_num=23, train_loss=12.40]"
     ]
    },
    {
     "name": "stderr",
     "output_type": "stream",
     "text": [
      "Epoch 320, global step 32100: 'train_loss' was not in top 1\n"
     ]
    },
    {
     "name": "stdout",
     "output_type": "stream",
     "text": [
      "Epoch 321: |                                               | 100/? [00:10<00:00,  9.19it/s, v_num=23, train_loss=10.90]"
     ]
    },
    {
     "name": "stderr",
     "output_type": "stream",
     "text": [
      "Epoch 321, global step 32200: 'train_loss' reached 10.90798 (best 10.90798), saving model to 'C:\\\\Users\\\\falty\\\\Desktop\\\\GZS\\\\trading\\\\options\\\\tft\\\\ron\\\\lightning_logs\\\\version_23\\\\checkpoints\\\\epoch=321-step=32200.ckpt' as top 1\n"
     ]
    },
    {
     "name": "stdout",
     "output_type": "stream",
     "text": [
      "Epoch 322: |                                               | 100/? [00:11<00:00,  8.77it/s, v_num=23, train_loss=10.90]"
     ]
    },
    {
     "name": "stderr",
     "output_type": "stream",
     "text": [
      "Epoch 322, global step 32300: 'train_loss' was not in top 1\n"
     ]
    },
    {
     "name": "stdout",
     "output_type": "stream",
     "text": [
      "Epoch 323: |                                                | 14/? [00:01<00:00,  8.59it/s, v_num=23, train_loss=10.90]"
     ]
    },
    {
     "name": "stderr",
     "output_type": "stream",
     "text": [
      "C:\\Users\\falty\\AppData\\Local\\Programs\\Python\\Python312\\Lib\\site-packages\\lightning\\pytorch\\trainer\\call.py:54: Detected KeyboardInterrupt, attempting graceful shutdown...\n"
     ]
    }
   ],
   "source": [
    "import pandas as pd\n",
    "import numpy as np\n",
    "import torch\n",
    "\n",
    "from gluonts.dataset.common import ListDataset\n",
    "from gluonts.torch.model.tft import TemporalFusionTransformerEstimator\n",
    "from gluonts.transform.feature import MissingValueImputation\n",
    "\n",
    "torch.set_float32_matmul_precision('high')\n",
    "                                   \n",
    "# Assuming df is your DataFrame with the data\n",
    "target_column = 'BTC-CAD_Low'  # Replace with your target column name\n",
    "\n",
    "# Ensure the DataFrame's index is a datetime index and set the frequency explicitly if needed\n",
    "df.index = pd.to_datetime(df.index)\n",
    "freq = \"D\"  # Set the frequency of your data, e.g., 'D' for daily. Adjust as needed.\n",
    "df = df.asfreq(freq)\n",
    "\n",
    "# Define the prediction length\n",
    "prediction_length = 1  # Set your prediction length\n",
    "\n",
    "# Make sure the lengths match when creating ListDataset\n",
    "training_data = ListDataset([\n",
    "    {\n",
    "        \"start\": df.index[0],\n",
    "        \"target\": df[target_column][:-100]    \n",
    "    }\n",
    "], freq=freq)\n",
    "\n",
    "test_data = ListDataset([\n",
    "    {\n",
    "        \"start\": df.index[-100],\n",
    "        \"target\": df[target_column][-100:].values\n",
    "    }\n",
    "], freq=freq)\n",
    "\n",
    "# Initialize the Temporal Fusion Transformer Estimator\n",
    "estimator = TemporalFusionTransformerEstimator(\n",
    "    freq=freq,\n",
    "    prediction_length=prediction_length,\n",
    "    context_length=60,  # Optional: adjust based on your needs\n",
    "    num_heads=8,\n",
    "    hidden_dim=256,\n",
    "    variable_dim=256,\n",
    "    quantiles=[0.1, 0.5, 0.9],  # Specifying the quantiles for forecasting\n",
    "    lr=0.001,\n",
    "    weight_decay=1e-08,\n",
    "    dropout_rate=0.1,\n",
    "    patience=10,\n",
    "    batch_size=128,\n",
    "    num_batches_per_epoch=100,\n",
    "    trainer_kwargs={'max_epochs': 1000},  # Adjust 'gpus' based on your setup\n",
    ")\n",
    "\n",
    "# Train the model\n",
    "predictor = estimator.train(training_data)\n"
   ]
  },
  {
   "cell_type": "code",
   "execution_count": 6,
   "id": "df585298-a43f-48ca-83ad-db932cd68796",
   "metadata": {},
   "outputs": [],
   "source": [
    "# Collect actual and predicted values for evaluation, including percentiles\n",
    "actuals = df[target_column][-prediction_length:].values\n",
    "\n",
    "mean_predictions = []\n",
    "p10_predictions = []\n",
    "p50_predictions = []\n",
    "p90_predictions = []\n",
    "\n",
    "for forecast in predictor.predict(test_data):\n",
    "    p10_predictions.append(forecast.quantile(0.1))\n",
    "    p50_predictions.append(forecast.quantile(0.5))  # Median\n",
    "    p90_predictions.append(forecast.quantile(0.9))\n",
    "\n",
    "# Convert lists to numpy arrays for slicing\n",
    "p10_predictions = np.array(p10_predictions).flatten()[:prediction_length]\n",
    "p50_predictions = np.array(p50_predictions).flatten()[:prediction_length]\n",
    "p90_predictions = np.array(p90_predictions).flatten()[:prediction_length]"
   ]
  },
  {
   "cell_type": "code",
   "execution_count": 7,
   "id": "960df258-1313-46e2-92ba-0d8b39afa15e",
   "metadata": {},
   "outputs": [
    {
     "data": {
      "text/html": [
       "<div>\n",
       "<style scoped>\n",
       "    .dataframe tbody tr th:only-of-type {\n",
       "        vertical-align: middle;\n",
       "    }\n",
       "\n",
       "    .dataframe tbody tr th {\n",
       "        vertical-align: top;\n",
       "    }\n",
       "\n",
       "    .dataframe thead th {\n",
       "        text-align: right;\n",
       "    }\n",
       "</style>\n",
       "<table border=\"1\" class=\"dataframe\">\n",
       "  <thead>\n",
       "    <tr style=\"text-align: right;\">\n",
       "      <th></th>\n",
       "      <th>BTC-CAD_Low</th>\n",
       "    </tr>\n",
       "    <tr>\n",
       "      <th>Date</th>\n",
       "      <th></th>\n",
       "    </tr>\n",
       "  </thead>\n",
       "  <tbody>\n",
       "    <tr>\n",
       "      <th>2024-03-08</th>\n",
       "      <td>88748.6875</td>\n",
       "    </tr>\n",
       "  </tbody>\n",
       "</table>\n",
       "</div>"
      ],
      "text/plain": [
       "            BTC-CAD_Low\n",
       "Date                   \n",
       "2024-03-08   88748.6875"
      ]
     },
     "execution_count": 7,
     "metadata": {},
     "output_type": "execute_result"
    }
   ],
   "source": [
    "last_row = df.iloc[-prediction_length:, ]\n",
    "last_row"
   ]
  },
  {
   "cell_type": "code",
   "execution_count": 8,
   "id": "e53cc2ba-d3a8-4bfe-9945-bc79f261cabd",
   "metadata": {},
   "outputs": [
    {
     "name": "stdout",
     "output_type": "stream",
     "text": [
      "[86381.16] [86399.586] [86425.65]\n"
     ]
    }
   ],
   "source": [
    "print(p10_predictions, p50_predictions, p90_predictions)"
   ]
  },
  {
   "cell_type": "code",
   "execution_count": 9,
   "id": "2d0fd538-c47b-4b5a-9131-a6f5995b01c5",
   "metadata": {},
   "outputs": [
    {
     "name": "stdout",
     "output_type": "stream",
     "text": [
      "Evaluation Metrics for Mean Predictions:\n",
      "MAE: 2349.10\n",
      "MAPE: 2.65%\n",
      "sMAPE: 2.68%\n",
      "Percentage of Actuals within P10-P90 Interval: 0.00%\n"
     ]
    }
   ],
   "source": [
    "# Function to calculate sMAPE\n",
    "def calculate_smape(forecasts, actuals):\n",
    "    return 100 * np.mean(2 * np.abs(forecasts - actuals) / (np.abs(actuals) + np.abs(forecasts)))\n",
    "\n",
    "# Calculate standard evaluation metrics for mean predictions\n",
    "mae = np.mean(np.abs(p50_predictions - actuals))\n",
    "mape = np.mean(np.abs((p50_predictions - actuals) / actuals)) * 100\n",
    "smape = calculate_smape(p50_predictions, actuals)\n",
    "\n",
    "# Calculate the percentage of actuals within the 10th to 90th percentile range\n",
    "within_range = np.sum((actuals >= p10_predictions) & (actuals <= p90_predictions)) / len(actuals) * 100\n",
    "\n",
    "print(\"Evaluation Metrics for Mean Predictions:\")\n",
    "print(f\"MAE: {mae:.2f}\")\n",
    "print(f\"MAPE: {mape:.2f}%\")\n",
    "print(f\"sMAPE: {smape:.2f}%\")\n",
    "print(f\"Percentage of Actuals within P10-P90 Interval: {within_range:.2f}%\")\n"
   ]
  },
  {
   "cell_type": "code",
   "execution_count": 10,
   "id": "5fa71034-caf4-433e-ae72-05fa5395ee1d",
   "metadata": {},
   "outputs": [
    {
     "name": "stdout",
     "output_type": "stream",
     "text": [
      "Model saved to ron_low.pth\n"
     ]
    }
   ],
   "source": [
    "import os\n",
    "import torch\n",
    "\n",
    "# Define a path to save the model\n",
    "model_save_path = 'ron_low.pth'\n",
    "\n",
    "# Assuming 'predictor' is the trained model from DeepAREstimator\n",
    "torch.save(predictor, model_save_path)\n",
    "\n",
    "print(f'Model saved to {model_save_path}')\n"
   ]
  },
  {
   "cell_type": "code",
   "execution_count": 15,
   "id": "f447bbd5-49e0-4e98-b82f-adf0ce77d15c",
   "metadata": {},
   "outputs": [
    {
     "name": "stdout",
     "output_type": "stream",
     "text": [
      "Rolling Predictions for the next 30 days:\n",
      "2024-03-09: 85854.7734375\n",
      "2024-03-10: 85301.828125\n",
      "2024-03-11: 84458.40625\n",
      "2024-03-12: 84172.5625\n",
      "2024-03-13: 85528.8125\n",
      "2024-03-14: 86672.859375\n",
      "2024-03-15: 87755.875\n",
      "2024-03-16: 87347.6875\n",
      "2024-03-17: 87482.8671875\n",
      "2024-03-18: 87768.96875\n",
      "2024-03-19: 88669.109375\n",
      "2024-03-20: 85978.484375\n",
      "2024-03-21: 81988.546875\n",
      "2024-03-22: 80487.65625\n",
      "2024-03-23: 81639.6015625\n",
      "2024-03-24: 81308.0625\n",
      "2024-03-25: 82444.7578125\n",
      "2024-03-26: 80280.3984375\n",
      "2024-03-27: 77718.5234375\n",
      "2024-03-28: 78971.15625\n",
      "2024-03-29: 82943.4921875\n",
      "2024-03-30: 84596.1875\n",
      "2024-03-31: 84849.3046875\n",
      "2024-04-01: 84809.328125\n",
      "2024-04-02: 82978.6796875\n",
      "2024-04-03: 85267.0625\n",
      "2024-04-04: 87138.4296875\n",
      "2024-04-05: 88284.875\n",
      "2024-04-06: 90338.71875\n",
      "2024-04-07: 89542.5390625\n"
     ]
    }
   ],
   "source": [
    "import pandas as pd\n",
    "import numpy as np\n",
    "from gluonts.dataset.common import ListDataset\n",
    "# [other imports]\n",
    "\n",
    "# [Assuming your DataFrame 'df' and the target_column are already defined]\n",
    "# [Also assuming the estimator and model training are already done and you have 'predictor']\n",
    "\n",
    "prediction_length = 1  # Forecasting 30 days into the future\n",
    "context_length = 60  # The length of the history to consider for the prediction\n",
    "\n",
    "# Rolling window prediction function\n",
    "def perform_rolling_prediction(df, predictor, target_column, context_length, prediction_length):\n",
    "    rolling_predictions = []\n",
    "    prediction_dates = []\n",
    "    temp_df = df.copy()  # Create a copy of the dataframe to modify\n",
    "\n",
    "    # Create dates for predictions\n",
    "    start_prediction_date = temp_df.index.max() + pd.Timedelta(1, unit='D')\n",
    "    prediction_dates = pd.date_range(start=start_prediction_date, periods=30, freq='D')\n",
    "    \n",
    "    for i, prediction_date in enumerate(prediction_dates):\n",
    "        end_idx = len(temp_df) - prediction_length + i\n",
    "        test_data = ListDataset([\n",
    "            {\n",
    "                \"start\": temp_df.index[0],\n",
    "                \"target\": temp_df[target_column][:end_idx].values\n",
    "            }\n",
    "        ], freq='D')\n",
    "\n",
    "        forecast = next(predictor.predict(test_data))\n",
    "        predicted_value = forecast.quantile(0.5)[-1]\n",
    "        rolling_predictions.append(predicted_value)\n",
    "        \n",
    "        # Append the predicted value for future rolling windows\n",
    "        new_row = pd.DataFrame({target_column: [predicted_value]}, index=[prediction_date])\n",
    "        temp_df = pd.concat([temp_df, new_row])\n",
    "    \n",
    "    return prediction_dates, rolling_predictions\n",
    "\n",
    "# Perform rolling predictions for the next 30 days\n",
    "prediction_dates, rolling_predictions = perform_rolling_prediction(df, predictor, target_column, context_length, prediction_length)\n",
    "\n",
    "# Print the rolling predictions\n",
    "print(\"Rolling Predictions for the next 30 days:\")\n",
    "for date, prediction in zip(prediction_dates, rolling_predictions):\n",
    "    print(f\"{date.strftime('%Y-%m-%d')}: {prediction}\")\n"
   ]
  },
  {
   "cell_type": "code",
   "execution_count": null,
   "id": "f37f472e-6269-46c5-8ed1-76b3b631b4d0",
   "metadata": {},
   "outputs": [],
   "source": []
  }
 ],
 "metadata": {
  "kernelspec": {
   "display_name": "Python 3 (ipykernel)",
   "language": "python",
   "name": "python3"
  },
  "language_info": {
   "codemirror_mode": {
    "name": "ipython",
    "version": 3
   },
   "file_extension": ".py",
   "mimetype": "text/x-python",
   "name": "python",
   "nbconvert_exporter": "python",
   "pygments_lexer": "ipython3",
   "version": "3.12.2"
  }
 },
 "nbformat": 4,
 "nbformat_minor": 5
}
