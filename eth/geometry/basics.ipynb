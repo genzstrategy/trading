{
 "cells": [
  {
   "cell_type": "markdown",
   "id": "16d734e3-7a8f-4d6e-8a94-8903063527a4",
   "metadata": {},
   "source": [
    "# Basics"
   ]
  },
  {
   "cell_type": "code",
   "execution_count": 1,
   "id": "e9a82c9d-79e2-46b1-9ade-da5efad49c23",
   "metadata": {},
   "outputs": [],
   "source": [
    "import yfinance as yf\n",
    "import pandas as pd\n",
    "from datetime import datetime, timedelta\n",
    "import pytz\n"
   ]
  },
  {
   "cell_type": "code",
   "execution_count": 2,
   "id": "de9ee387-3c25-4e0d-b227-cbd6b8d00b71",
   "metadata": {},
   "outputs": [],
   "source": [
    "# Adjusting the start and end times\n",
    "frequency = \"1m\"\n",
    "start_time = (datetime.now(pytz.timezone('US/Pacific')) - timedelta(days=365)).strftime('%Y-%m-%d')  # 5 days ago from the current date\n",
    "end_time = (datetime.now(pytz.timezone('US/Pacific'))- timedelta(days=1)).strftime('%Y-%m-%d')  # Current date in UTC"
   ]
  },
  {
   "cell_type": "code",
   "execution_count": 3,
   "id": "cad21236-0277-4f8b-8491-9acfb4ae8fe5",
   "metadata": {},
   "outputs": [
    {
     "name": "stdout",
     "output_type": "stream",
     "text": [
      "[*********************100%%**********************]  1 of 1 completed\n"
     ]
    }
   ],
   "source": [
    "# Define your tickers, start time, end time, and frequency\n",
    "tickers = [\"BTCC-B.TO\"]\n",
    "\n",
    "# Retrieve historical data and adjust to Pacific Time\n",
    "historical_data = {}\n",
    "for ticker in tickers:\n",
    "    data = yf.download(ticker, start=start_time, end=end_time, interval=frequency)[['High', 'Low', 'Open', 'Close']]\n",
    "    #data.index = data.index.tz_localize('UTC').tz_convert('US/Pacific')  # Convert timezone to Pacific Time\n",
    "    historical_data[ticker] = data\n",
    "\n",
    "# Combine data without weights\n",
    "combined_data = pd.DataFrame()\n",
    "for ticker, data in historical_data.items():\n",
    "    for col in data.columns:\n",
    "        combined_column_name = f\"{ticker}_{col}\"  # Create a unique column name for each 'High' and 'Low'\n",
    "        combined_data[combined_column_name] = data[col]"
   ]
  },
  {
   "cell_type": "markdown",
   "id": "cc662cc7-e96e-48ab-a017-7e06d9749494",
   "metadata": {
    "jp-MarkdownHeadingCollapsed": true
   },
   "source": [
    "### Previous Close"
   ]
  },
  {
   "cell_type": "raw",
   "id": "3feaff46-df73-4926-baf0-4dae7ef06a40",
   "metadata": {},
   "source": [
    "import pandas as pd\n",
    "import numpy as np\n",
    "import matplotlib.pyplot as plt\n",
    "\n",
    "# Assuming 'combined_data' is your DataFrame\n",
    "\n",
    "# Convert the index to a datetime index if it's not already\n",
    "combined_data.index = pd.to_datetime(combined_data.index)\n",
    "\n",
    "# Extract the date from the datetime index\n",
    "combined_data['date'] = combined_data.index.date\n",
    "\n",
    "# Extract the last 'BTCC-B.TO_High' of each day\n",
    "last_values_daily = combined_data.groupby('date')['BTCC-B.TO_Close'].last()\n",
    "print(last_values_daily)\n",
    "\n",
    "# Shift these last values to align with the next day, creating a mapping of previous day's last value\n",
    "last_values_shifted = last_values_daily.shift(1)\n",
    "\n",
    "# Map these shifted last values back onto the combined_data DataFrame\n",
    "# This requires a bit of manipulation since we're working with datetime indices\n",
    "combined_data['prev_day_last_close'] = combined_data['date'].apply(lambda x: last_values_shifted.get(x, np.nan))\n",
    "\n",
    "# Calculate percent change for each minute against the last value of the previous day\n",
    "combined_data['percent_change'] = (combined_data['BTCC-B.TO_High'] - combined_data['prev_day_last_close']) / combined_data['prev_day_last_close'] * 100\n",
    "\n",
    "# Drop rows where 'percent_change' is NaN (i.e., the first day)\n",
    "combined_data.dropna(subset=['percent_change'], inplace=True)"
   ]
  },
  {
   "cell_type": "markdown",
   "id": "c065490e-a09e-48d5-88b6-ebb3bf328036",
   "metadata": {},
   "source": [
    "### Current Open"
   ]
  },
  {
   "cell_type": "code",
   "execution_count": 4,
   "id": "d2a95c44-5cdd-4280-b724-e3daa60cd9de",
   "metadata": {},
   "outputs": [],
   "source": [
    "import pandas as pd\n",
    "import numpy as np\n",
    "import matplotlib.pyplot as plt\n",
    "\n",
    "# Assuming 'combined_data' is your DataFrame\n",
    "\n",
    "# Convert the index to a datetime index if it's not already\n",
    "combined_data.index = pd.to_datetime(combined_data.index)\n",
    "\n",
    "# Extract the date from the datetime index\n",
    "combined_data['date'] = combined_data.index.date\n",
    "\n",
    "# Extract the first 'BTCC-B.TO_Open' of each day\n",
    "first_values_daily = combined_data.groupby('date')['BTCC-B.TO_Open'].first()\n",
    "\n",
    "# Map these first opening values back onto the combined_data DataFrame\n",
    "# This directly uses the current day's date to fetch the opening price\n",
    "combined_data['current_day_open'] = combined_data['date'].apply(lambda x: first_values_daily.get(x, np.nan))\n",
    "\n",
    "# Calculate percent change for each minute against the current day's opening price\n",
    "combined_data['percent_change'] = (combined_data['BTCC-B.TO_High'] - combined_data['current_day_open']) / combined_data['current_day_open'] * 100\n",
    "\n",
    "# Drop rows where 'percent_change' is NaN (i.e., potentially the first entries if the opening price is not available)\n",
    "combined_data.dropna(subset=['percent_change'], inplace=True)\n",
    "\n",
    "# The DataFrame 'combined_data' now contains the additional columns 'current_day_open' and 'percent_change',\n",
    "# which represent the opening price of BTCC-B.TO for the current day and the percent change of the high price\n",
    "# from the opening price for each entry, respectively.\n"
   ]
  },
  {
   "cell_type": "markdown",
   "id": "1ae8f8cc-2e19-48a0-b076-1309c219dbba",
   "metadata": {},
   "source": [
    "## Analysis"
   ]
  },
  {
   "cell_type": "code",
   "execution_count": 5,
   "id": "1228969e-61f4-4e69-bffb-cce28f812cba",
   "metadata": {},
   "outputs": [
    {
     "name": "stdout",
     "output_type": "stream",
     "text": [
      "Mean of Percent Changes: 0.305454561529385\n",
      "Standard Deviation of Percent Changes: 1.5686469185118732\n",
      "Skewness of Percent Changes: 1.8368166009029059\n",
      "Kurtosis of Percent Changes: 10.32792185680219\n",
      "Normality Test Results: Statistic=795.74, P-value=1.61e-173\n",
      "The distribution of percent changes is not normally distributed (reject H0).\n"
     ]
    }
   ],
   "source": [
    "import numpy as np\n",
    "import matplotlib.pyplot as plt\n",
    "import pandas as pd\n",
    "from scipy.stats import skew, kurtosis, normaltest\n",
    "\n",
    "# Assuming 'combined_data' already has the 'percent_change' column calculated\n",
    "\n",
    "# Just ensure to drop NaN values from the 'percent_change' column\n",
    "# This is important to remove the first day's data or any other missing data points\n",
    "cleaned_percent_changes = combined_data['percent_change'].dropna()\n",
    "\n",
    "# Calculate the mean and standard deviation of the percent changes\n",
    "mean_percent_change = np.mean(cleaned_percent_changes)\n",
    "stddev_percent_change = np.std(cleaned_percent_changes)\n",
    "\n",
    "# Calculate skewness and kurtosis\n",
    "skewness = skew(cleaned_percent_changes)\n",
    "kurtosis_value = kurtosis(cleaned_percent_changes)\n",
    "\n",
    "# Perform the normality test\n",
    "normality_test_result = normaltest(cleaned_percent_changes)\n",
    "\n",
    "# Print the calculated mean, standard deviation, skewness, kurtosis, and normality test results\n",
    "print(f'Mean of Percent Changes: {mean_percent_change}')\n",
    "print(f'Standard Deviation of Percent Changes: {stddev_percent_change}')\n",
    "print(f'Skewness of Percent Changes: {skewness}')\n",
    "print(f'Kurtosis of Percent Changes: {kurtosis_value}')\n",
    "print(f'Normality Test Results: Statistic={normality_test_result.statistic:.2f}, P-value={normality_test_result.pvalue:.2e}')\n",
    "\n",
    "# Interpretation of normality test results\n",
    "if normality_test_result.pvalue < 0.05:\n",
    "    print(\"The distribution of percent changes is not normally distributed (reject H0).\")\n",
    "else:\n",
    "    print(\"There is not enough evidence to conclude that the distribution of percent changes is not normally distributed (fail to reject H0).\")\n"
   ]
  },
  {
   "cell_type": "code",
   "execution_count": 6,
   "id": "6b7abf11-1dab-4cb2-9b53-9c065529f26c",
   "metadata": {},
   "outputs": [
    {
     "data": {
      "image/png": "[encoded data removed]",
      "text/plain": [
       "<Figure size 1000x600 with 1 Axes>"
      ]
     },
     "metadata": {},
     "output_type": "display_data"
    }
   ],
   "source": [
    "import numpy as np\n",
    "import matplotlib.pyplot as plt\n",
    "import pandas as pd\n",
    "\n",
    "# Assuming 'cleaned_percent_changes' is defined as before\n",
    "\n",
    "# Calculate the median of percent changes\n",
    "median_percent_change = np.median(cleaned_percent_changes)\n",
    "\n",
    "# 1. Determine Bin Edges\n",
    "bin_width = 1  # Adjusted bin width to 1 for this example\n",
    "min_change = cleaned_percent_changes.min()\n",
    "max_change = cleaned_percent_changes.max()\n",
    "bins = np.arange(min_change, max_change + bin_width, bin_width)\n",
    "\n",
    "# 2. Compute Histogram\n",
    "counts, bin_edges = np.histogram(cleaned_percent_changes, bins=bins)\n",
    "\n",
    "# 3. Convert Counts to Density\n",
    "total_counts = counts.sum()\n",
    "bin_widths = np.diff(bin_edges)\n",
    "density = counts / (total_counts * bin_widths)\n",
    "\n",
    "# 4. Store Density Information in a DataFrame\n",
    "density_df = pd.DataFrame({'Bin Edge Start': bin_edges[:-1], 'Density': density})\n",
    "\n",
    "# Plotting the density manually\n",
    "plt.figure(figsize=(10, 6))\n",
    "plt.bar(density_df['Bin Edge Start'], density_df['Density'], width=bin_width, alpha=0.75)\n",
    "plt.title('Density of Daily Percentage Changes')\n",
    "plt.xlabel('Percent Change')\n",
    "plt.ylabel('Density')\n",
    "plt.grid(True)\n",
    "\n",
    "# Add a line for the mean\n",
    "plt.axvline(mean_percent_change, color='r', linestyle='dashed', linewidth=2)\n",
    "plt.text(mean_percent_change, plt.ylim()[1] * 0.9, f'Mean: {mean_percent_change:.2f}', color='r')\n",
    "\n",
    "# Add a line for the median\n",
    "plt.axvline(median_percent_change, color='g', linestyle='dashed', linewidth=2)\n",
    "plt.text(median_percent_change, plt.ylim()[1] * 0.8, f'Median: {median_percent_change:.2f}', color='g')\n",
    "\n",
    "plt.show()\n"
   ]
  }
 ],
 "metadata": {
  "kernelspec": {
   "display_name": "Python 3 (ipykernel)",
   "language": "python",
   "name": "python3"
  },
  "language_info": {
   "codemirror_mode": {
    "name": "ipython",
    "version": 3
   },
   "file_extension": ".py",
   "mimetype": "text/x-python",
   "name": "python",
   "nbconvert_exporter": "python",
   "pygments_lexer": "ipython3",
   "version": "3.11.6"
  }
 },
 "nbformat": 4,
 "nbformat_minor": 5
}
